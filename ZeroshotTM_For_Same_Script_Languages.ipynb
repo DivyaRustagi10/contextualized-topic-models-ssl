{
  "cells": [
    {
      "cell_type": "markdown",
      "metadata": {
        "id": "view-in-github",
        "colab_type": "text"
      },
      "source": [
        "<a href=\"https://colab.research.google.com/github/DivyaRustagi10/contextualized-topic-models-ssl/blob/main/ZeroshotTM_For_Same_Script_Languages.ipynb\" target=\"_parent\"><img src=\"https://colab.research.google.com/assets/colab-badge.svg\" alt=\"Open In Colab\"/></a>"
      ]
    },
    {
      "cell_type": "markdown",
      "source": [
        "# Zero-shot Cross-Lingual Topic Modeling For Same Script Languages\n",
        "> Do conxtextualized TM tackle zero-shot cross-lingual topic modeling better on same script languages?\n",
        "\n",
        "We use 4000 documents as training and consider randomly sampled 800 documents as the test set. We collect the 800 respective instances in [LANGUAGES].\n",
        "\n",
        "First, we use IndicBERT to generate multilingual embeddings as the input of the model. Then we evaluate multilingual topic predictions on the multilingual abstracts in test set."
      ],
      "metadata": {
        "id": "Te7oLPMkvQR_"
      }
    },
    {
      "cell_type": "code",
      "execution_count": 1,
      "metadata": {
        "id": "M3H5Cn_ftZzW"
      },
      "outputs": [],
      "source": [
        "# Install the contextualized topic model library\n",
        "%%capture\n",
        "!pip install -U contextualized_topic_models"
      ]
    },
    {
      "cell_type": "code",
      "execution_count": 2,
      "metadata": {
        "id": "Vht2fQJ6uqvh"
      },
      "outputs": [],
      "source": [
        "%%capture\n",
        "!pip install pyldavis\n",
        "!pip install wget\n",
        "!pip install head\n",
        "!nvidia-smi\n",
        "\n",
        "# Setup Hindi for analysis\n",
        "!pip uninstall torch\n",
        "!pip install stopwordsiso\n",
        "!pip install indic-nlp-library\n",
        "!pip install inltk"
      ]
    },
    {
      "cell_type": "code",
      "execution_count": 3,
      "metadata": {
        "id": "yTkSBfbBq25Z"
      },
      "outputs": [],
      "source": [
        "# Imports\n",
        "from contextualized_topic_models.models.ctm import ZeroShotTM\n",
        "from contextualized_topic_models.utils.data_preparation import TopicModelDataPreparation\n",
        "from contextualized_topic_models.utils.preprocessing import  WhiteSpacePreprocessingStopwords\n",
        "import pickle"
      ]
    },
    {
      "cell_type": "markdown",
      "metadata": {
        "id": "pVPQoVENZ-mr"
      },
      "source": [
        "## Data\n",
        "\n",
        "###**Building PMIndia Corpus**\n",
        "\n",
        "Below contains the code for creating a parallel corpus from the website of the Indian Prime Minister (www.pmindia.gov.in). \n",
        "\n",
        "We combine each speech document into one, for every language. Datasets are downloaded from [Statistical Machine Translation](https://data.statmt.org/pmindia/v1/monolingual/)."
      ]
    },
    {
      "cell_type": "markdown",
      "source": [
        "*Downloading Dataset*"
      ],
      "metadata": {
        "id": "VaEkTabsl9ef"
      }
    },
    {
      "cell_type": "code",
      "execution_count": 4,
      "metadata": {
        "id": "AXdZmkuJbo4p"
      },
      "outputs": [],
      "source": [
        "# Imports\n",
        "import urllib\n",
        "import wget\n",
        "import pandas as pd\n",
        "import os\n",
        "\n",
        "# Download PMIndia Datasets\n",
        "FILES_DIR = os.getcwd() # REPLACE WITH YOUR DIRECTORY IF YOU PREFER DOWNLOADING IN SPECIFIC DIRECTORY\n",
        "LINK = \"https://drive.google.com/u/0/uc?id=1IqH2XQFw1XHPT2Sh_Yz3LnrMEVqS8oef&export=download\"  # LINK TO PMINDIA FILE LOCATION\n",
        "FILE_PATH = os.getcwd() + \"/\" + wget.download(LINK) # PATH TO DOWNLOADS\n",
        "\n",
        "pmindia_list = pd.read_csv(FILE_PATH, sep = \",\",  names = [\"lang\", \"link\"], engine = \"python\" )['link']\n",
        "pmindia_list = [FILES_DIR + \"/\" + wget.download(link.strip(\" \")) for link in pmindia_list]"
      ]
    },
    {
      "cell_type": "code",
      "execution_count": 5,
      "metadata": {
        "id": "VtaE0KjRR7qf"
      },
      "outputs": [],
      "source": [
        "# Build directory to store speech files\n",
        "%%bash\n",
        "mkdir parallel_speeches\n",
        "cd parallel_speeches"
      ]
    },
    {
      "cell_type": "code",
      "execution_count": 6,
      "metadata": {
        "id": "prkgcgs6ITdQ"
      },
      "outputs": [],
      "source": [
        "# Files stored in content directory\n",
        "# Data will need to be re-downloaded if a session closes\n",
        "''' Following script will download parallel corpus into new directory named parallel_speeches.\n",
        "Each folder in parallel_speeches contains pmindia speeches in indic language identified by their ISO code.\n",
        "\n",
        "For e.g.\n",
        "parallel_speeches/as/ contains speeches in Assamese.\n",
        "parallel_speeches/hi contains speeches in Hindi.\n",
        "'''\n",
        "import tarfile\n",
        "import os\n",
        "\n",
        "FILES_DIR = os.getcwd() # REPLACE WITH DIRECTORY OF FILES\n",
        "STORE_FILES_HERE = os.getcwd() + \"/parallel_speeches\" # STORE EXTRACTED FILES HERE\n",
        "\n",
        "for fname in pmindia_list:\n",
        "    tar = tarfile.open(fname, \"r:gz\") # unzip file\n",
        "    tar.extractall(STORE_FILES_HERE)    \n",
        "    foldername = fname[fname.rfind('.tgz')-2: fname.rfind('.tgz')] # get folder name\n",
        "    os.rename(STORE_FILES_HERE + \"/split\", STORE_FILES_HERE + \"/\" + foldername) # rename default split folder to language name\n",
        "    tar.close()"
      ]
    },
    {
      "cell_type": "markdown",
      "source": [
        "*Get Parallel Speeches*"
      ],
      "metadata": {
        "id": "8tVllbDgmERy"
      }
    },
    {
      "cell_type": "code",
      "execution_count": 7,
      "metadata": {
        "id": "HT0AkExw3D8q"
      },
      "outputs": [],
      "source": [
        "import glob # SEEK FILES FROM ABOVE FOR DOWNLOAD\n",
        "FOLDERS_DIR = os.getcwd() + \"/parallel_speeches\"  # DIRECTORY FOR SAVING PARALLEL SPEECHES\n",
        "\n",
        "# Stores list of speeches in dictionary keyed by ISO language name\n",
        "SPEECHES_IN_LANGS = {languagefolder[-2:] : sorted(list(glob.glob(languagefolder + \"/*.txt\")))[3:] for languagefolder in glob.glob(FOLDERS_DIR + \"/*\")}"
      ]
    },
    {
      "cell_type": "code",
      "source": [
        "# Get file names to find common test corpus (set of files common between all languages)\n",
        "STRIP_INDEX = SPEECHES_IN_LANGS['as'][0].index('as') + len('as/')   # GET LANGUAGE ISO CODE\n",
        "\n",
        "filenames = {}\n",
        "for lang in SPEECHES_IN_LANGS.keys():\n",
        "  temp = [item[STRIP_INDEX:] for item in SPEECHES_IN_LANGS[lang]]\n",
        "  filenames[lang] = temp"
      ],
      "metadata": {
        "id": "VGe718ULoiWJ"
      },
      "execution_count": 8,
      "outputs": []
    },
    {
      "cell_type": "markdown",
      "source": [
        "*Combine Parallel Speeches Into Corpus*"
      ],
      "metadata": {
        "id": "JALisreCmu77"
      }
    },
    {
      "cell_type": "code",
      "source": [
        "# Setting seed for reproducibility\n",
        "import random\n",
        "random.seed(210)\n",
        "\n",
        "# Select 800 random corpus\n",
        "sample_corpus = sorted(random.sample(list(set.intersection(*map(set, filenames.values()))), 800))\n",
        "pd.DataFrame(sample_corpus, columns = [\"Speech File Name\"])"
      ],
      "metadata": {
        "id": "lecI86aHVEEx",
        "colab": {
          "base_uri": "https://localhost:8080/",
          "height": 423
        },
        "outputId": "8ec459a6-e549-4c31-a078-f41de9c031eb"
      },
      "execution_count": 9,
      "outputs": [
        {
          "output_type": "execute_result",
          "data": {
            "text/plain": [
              "                                      Speech File Name\n",
              "0    15th-edition-of-pravasi-bharatiya-diwas-inaugu...\n",
              "1    ambassador-ms-nikki-haley-united-states-perman...\n",
              "2    anganwadi-workers-from-across-the-country-call...\n",
              "3    asha-representatives-from-across-the-country-c...\n",
              "4    beneficiaries-of-pradhan-mantri-mudra-yojana-s...\n",
              "..                                                 ...\n",
              "795  uk-india-joint-statement-during-pms-visit-to-u...\n",
              "796      up-cm-donates-rs-five-crore-towards-pmnrf.txt\n",
              "797  us-secretary-of-state-rex-w-tillerson-calls-on...\n",
              "798  valedictory-session-of-assistant-secretaries-i...\n",
              "799  visit-of-president-of-islamic-republic-of-afgh...\n",
              "\n",
              "[800 rows x 1 columns]"
            ],
            "text/html": [
              "\n",
              "  <div id=\"df-b91dac3b-d7ca-4708-9cfd-b1f82ff6e064\">\n",
              "    <div class=\"colab-df-container\">\n",
              "      <div>\n",
              "<style scoped>\n",
              "    .dataframe tbody tr th:only-of-type {\n",
              "        vertical-align: middle;\n",
              "    }\n",
              "\n",
              "    .dataframe tbody tr th {\n",
              "        vertical-align: top;\n",
              "    }\n",
              "\n",
              "    .dataframe thead th {\n",
              "        text-align: right;\n",
              "    }\n",
              "</style>\n",
              "<table border=\"1\" class=\"dataframe\">\n",
              "  <thead>\n",
              "    <tr style=\"text-align: right;\">\n",
              "      <th></th>\n",
              "      <th>Speech File Name</th>\n",
              "    </tr>\n",
              "  </thead>\n",
              "  <tbody>\n",
              "    <tr>\n",
              "      <th>0</th>\n",
              "      <td>15th-edition-of-pravasi-bharatiya-diwas-inaugu...</td>\n",
              "    </tr>\n",
              "    <tr>\n",
              "      <th>1</th>\n",
              "      <td>ambassador-ms-nikki-haley-united-states-perman...</td>\n",
              "    </tr>\n",
              "    <tr>\n",
              "      <th>2</th>\n",
              "      <td>anganwadi-workers-from-across-the-country-call...</td>\n",
              "    </tr>\n",
              "    <tr>\n",
              "      <th>3</th>\n",
              "      <td>asha-representatives-from-across-the-country-c...</td>\n",
              "    </tr>\n",
              "    <tr>\n",
              "      <th>4</th>\n",
              "      <td>beneficiaries-of-pradhan-mantri-mudra-yojana-s...</td>\n",
              "    </tr>\n",
              "    <tr>\n",
              "      <th>...</th>\n",
              "      <td>...</td>\n",
              "    </tr>\n",
              "    <tr>\n",
              "      <th>795</th>\n",
              "      <td>uk-india-joint-statement-during-pms-visit-to-u...</td>\n",
              "    </tr>\n",
              "    <tr>\n",
              "      <th>796</th>\n",
              "      <td>up-cm-donates-rs-five-crore-towards-pmnrf.txt</td>\n",
              "    </tr>\n",
              "    <tr>\n",
              "      <th>797</th>\n",
              "      <td>us-secretary-of-state-rex-w-tillerson-calls-on...</td>\n",
              "    </tr>\n",
              "    <tr>\n",
              "      <th>798</th>\n",
              "      <td>valedictory-session-of-assistant-secretaries-i...</td>\n",
              "    </tr>\n",
              "    <tr>\n",
              "      <th>799</th>\n",
              "      <td>visit-of-president-of-islamic-republic-of-afgh...</td>\n",
              "    </tr>\n",
              "  </tbody>\n",
              "</table>\n",
              "<p>800 rows × 1 columns</p>\n",
              "</div>\n",
              "      <button class=\"colab-df-convert\" onclick=\"convertToInteractive('df-b91dac3b-d7ca-4708-9cfd-b1f82ff6e064')\"\n",
              "              title=\"Convert this dataframe to an interactive table.\"\n",
              "              style=\"display:none;\">\n",
              "        \n",
              "  <svg xmlns=\"http://www.w3.org/2000/svg\" height=\"24px\"viewBox=\"0 0 24 24\"\n",
              "       width=\"24px\">\n",
              "    <path d=\"M0 0h24v24H0V0z\" fill=\"none\"/>\n",
              "    <path d=\"M18.56 5.44l.94 2.06.94-2.06 2.06-.94-2.06-.94-.94-2.06-.94 2.06-2.06.94zm-11 1L8.5 8.5l.94-2.06 2.06-.94-2.06-.94L8.5 2.5l-.94 2.06-2.06.94zm10 10l.94 2.06.94-2.06 2.06-.94-2.06-.94-.94-2.06-.94 2.06-2.06.94z\"/><path d=\"M17.41 7.96l-1.37-1.37c-.4-.4-.92-.59-1.43-.59-.52 0-1.04.2-1.43.59L10.3 9.45l-7.72 7.72c-.78.78-.78 2.05 0 2.83L4 21.41c.39.39.9.59 1.41.59.51 0 1.02-.2 1.41-.59l7.78-7.78 2.81-2.81c.8-.78.8-2.07 0-2.86zM5.41 20L4 18.59l7.72-7.72 1.47 1.35L5.41 20z\"/>\n",
              "  </svg>\n",
              "      </button>\n",
              "      \n",
              "  <style>\n",
              "    .colab-df-container {\n",
              "      display:flex;\n",
              "      flex-wrap:wrap;\n",
              "      gap: 12px;\n",
              "    }\n",
              "\n",
              "    .colab-df-convert {\n",
              "      background-color: #E8F0FE;\n",
              "      border: none;\n",
              "      border-radius: 50%;\n",
              "      cursor: pointer;\n",
              "      display: none;\n",
              "      fill: #1967D2;\n",
              "      height: 32px;\n",
              "      padding: 0 0 0 0;\n",
              "      width: 32px;\n",
              "    }\n",
              "\n",
              "    .colab-df-convert:hover {\n",
              "      background-color: #E2EBFA;\n",
              "      box-shadow: 0px 1px 2px rgba(60, 64, 67, 0.3), 0px 1px 3px 1px rgba(60, 64, 67, 0.15);\n",
              "      fill: #174EA6;\n",
              "    }\n",
              "\n",
              "    [theme=dark] .colab-df-convert {\n",
              "      background-color: #3B4455;\n",
              "      fill: #D2E3FC;\n",
              "    }\n",
              "\n",
              "    [theme=dark] .colab-df-convert:hover {\n",
              "      background-color: #434B5C;\n",
              "      box-shadow: 0px 1px 3px 1px rgba(0, 0, 0, 0.15);\n",
              "      filter: drop-shadow(0px 1px 2px rgba(0, 0, 0, 0.3));\n",
              "      fill: #FFFFFF;\n",
              "    }\n",
              "  </style>\n",
              "\n",
              "      <script>\n",
              "        const buttonEl =\n",
              "          document.querySelector('#df-b91dac3b-d7ca-4708-9cfd-b1f82ff6e064 button.colab-df-convert');\n",
              "        buttonEl.style.display =\n",
              "          google.colab.kernel.accessAllowed ? 'block' : 'none';\n",
              "\n",
              "        async function convertToInteractive(key) {\n",
              "          const element = document.querySelector('#df-b91dac3b-d7ca-4708-9cfd-b1f82ff6e064');\n",
              "          const dataTable =\n",
              "            await google.colab.kernel.invokeFunction('convertToInteractive',\n",
              "                                                     [key], {});\n",
              "          if (!dataTable) return;\n",
              "\n",
              "          const docLinkHtml = 'Like what you see? Visit the ' +\n",
              "            '<a target=\"_blank\" href=https://colab.research.google.com/notebooks/data_table.ipynb>data table notebook</a>'\n",
              "            + ' to learn more about interactive tables.';\n",
              "          element.innerHTML = '';\n",
              "          dataTable['output_type'] = 'display_data';\n",
              "          await google.colab.output.renderOutput(dataTable, element);\n",
              "          const docLink = document.createElement('div');\n",
              "          docLink.innerHTML = docLinkHtml;\n",
              "          element.appendChild(docLink);\n",
              "        }\n",
              "      </script>\n",
              "    </div>\n",
              "  </div>\n",
              "  "
            ]
          },
          "metadata": {},
          "execution_count": 9
        }
      ]
    },
    {
      "cell_type": "code",
      "execution_count": 10,
      "metadata": {
        "id": "_HLUyqCLifq1"
      },
      "outputs": [],
      "source": [
        "# Combine selected 800 sample speeches into one document for each lang \n",
        "parallel_speeches = {}    # STORE TEST SPEECHES\n",
        "train_speeches = {}       # STORE TRAIN SPEECHES\n",
        "\n",
        "for lang, speeches in SPEECHES_IN_LANGS.items(): \n",
        "  each_lang = []         # list of speeches for one language at a time\n",
        "  just_train = []\n",
        "  \n",
        "  for speech_file in speeches:                          # access list of files in speeches for one language at a time\n",
        "    with open(speech_file, 'r') as speech:              # read file\n",
        "      speech = \" \".join([str(line) for line in speech]) # each speech file becomes one string\n",
        "\n",
        "      if speech_file[STRIP_INDEX:] in sample_corpus:\n",
        "        each_lang.append(speech)                        # append string version of speech file\n",
        "      else:\n",
        "        just_train.append(speech)                       # add to train set\n",
        "\n",
        "  parallel_speeches[lang] = each_lang                   # add list of speeches for every language\n",
        "  train_speeches[lang] = just_train                     # add to train set"
      ]
    },
    {
      "cell_type": "markdown",
      "source": [
        "*Split Parallel Corpus Into Test and Train*"
      ],
      "metadata": {
        "id": "_vkfxcP4mk-W"
      }
    },
    {
      "cell_type": "code",
      "execution_count": 11,
      "metadata": {
        "id": "PMPHUR_D4f9e"
      },
      "outputs": [],
      "source": [
        "# Imports\n",
        "import pandas as pd\n",
        "from pprint import pprint\n",
        "import re\n",
        "\n",
        "# Selecting Train speeches\n",
        "hindi_unprep = pd.DataFrame(list for list in train_speeches['hi'])\n",
        "english_unprep = pd.DataFrame(list for list in train_speeches['en'])\n",
        "\n",
        "# # We select speeches with at least 500 tokens\n",
        "# TOKENS_LIMIT = 500\n",
        "# remove = []\n",
        "# for speech in hindi_unprep[:5].itertuples():\n",
        "#   if len(speech[1].split(\" \"))  < TOKENS_LIMIT:\n",
        "#     remove.append(speech[0])\n",
        "#     print(speech[0], \" removed!\")\n",
        "\n",
        "# View each row as a speech\n",
        "# hindi_unprep[:5]"
      ]
    },
    {
      "cell_type": "markdown",
      "source": [
        "## Training Models"
      ],
      "metadata": {
        "id": "vEcvJVNDnF02"
      }
    },
    {
      "cell_type": "code",
      "execution_count": 12,
      "metadata": {
        "id": "erO2thoszs7P"
      },
      "outputs": [],
      "source": [
        "# Imports\n",
        "from contextualized_topic_models.models.ctm import ZeroShotTM\n",
        "import contextualized_topic_models.utils.data_preparation\n",
        "from contextualized_topic_models.utils.data_preparation import TopicModelDataPreparation\n",
        "from contextualized_topic_models.utils.preprocessing import WhiteSpacePreprocessing\n",
        "import nltk\n",
        "import pickle"
      ]
    },
    {
      "cell_type": "markdown",
      "source": [
        "###**Hindi-Based ZeroshotTM**\n",
        "\n",
        "*Preprocessing*\n",
        "\n",
        "Why do we use the preprocessed text here? We need text without punctuation to build the bag of word. Also, we might want only to have the most frequent words inside the BoW. Too many words might not help."
      ],
      "metadata": {
        "id": "w7NsHKg2WXZS"
      }
    },
    {
      "cell_type": "code",
      "execution_count": 13,
      "metadata": {
        "id": "sQBKiAC_z_aj",
        "colab": {
          "base_uri": "https://localhost:8080/"
        },
        "outputId": "636250bf-cde6-4f15-e45d-4205764ea4b1"
      },
      "outputs": [
        {
          "output_type": "stream",
          "name": "stdout",
          "text": [
            "3999 3999\n"
          ]
        },
        {
          "output_type": "stream",
          "name": "stderr",
          "text": [
            "/usr/local/lib/python3.7/dist-packages/sklearn/utils/deprecation.py:87: FutureWarning: Function get_feature_names is deprecated; get_feature_names is deprecated in 1.0 and will be removed in 1.2. Please use get_feature_names_out instead.\n",
            "  warnings.warn(msg, category=FutureWarning)\n"
          ]
        }
      ],
      "source": [
        "### HINDI ###\n",
        "LANG_SELECTED = 'hi'\n",
        "\n",
        "# We select 400 tokens per speech\n",
        "NUM_TOKENS = 400\n",
        "\n",
        "# Import Hindi Stopwords\n",
        "import stopwordsiso as stopwords\n",
        "\n",
        "# Run preprocessing script\n",
        "documents = [line[:NUM_TOKENS].strip() for line in train_speeches[LANG_SELECTED]]\n",
        "sp = WhiteSpacePreprocessingStopwords(documents, stopwords_list = stopwords.stopwords(LANG_SELECTED))\n",
        "preprocessed_documents, unpreprocessed_corpus, vocab = sp.preprocess()\n",
        "\n",
        "# Ensure same length for preprocessed and unpreprocessed\n",
        "print(len(preprocessed_documents), len(unpreprocessed_corpus))"
      ]
    },
    {
      "cell_type": "markdown",
      "metadata": {
        "id": "rnIptVxk0F4n"
      },
      "source": [
        "We don't discard the non-preprocessed hindi texts, because we are going to use them as input for obtaining the **contextualized** document representations. We will now pass our files with preprocess and unpreprocessed data to our TopicModelDataPreparation object. This object takes care of creating the bag of words and obtains the contextualized BERT representations of documents. This operation allows us to create our training dataset.\n",
        "\n",
        "Note: Here we use the contextualized model \"ai4bharat/indic-bert\", because we need a multilingual model for indic languages for performing cross-lingual predictions later.\n",
        "\n"
      ]
    },
    {
      "cell_type": "markdown",
      "metadata": {
        "id": "C5dx85bGx7eu"
      },
      "source": [
        "*Training ZeroshotTM*"
      ]
    },
    {
      "cell_type": "code",
      "execution_count": 14,
      "metadata": {
        "id": "GO-88XsA0G6m",
        "colab": {
          "base_uri": "https://localhost:8080/",
          "height": 601,
          "referenced_widgets": [
            "b68e9cb721154d3fb358ecdaeb1c44f7",
            "1f2bf1083cc14582bb870d6dd13d49b0",
            "f4a2090017014d708d46c24cb916def9",
            "7b3347288a24477aba4e2fdacca44f96",
            "300326a72de34034a1fb80b4e89793b4",
            "105071af2ada428ba187de115ebdb579",
            "d228b1c158934590bbf1b7c31e1d5774",
            "8289338ef7584496bd436f49c3fe6b52",
            "e307eeb343d34990a505416f96b0a136",
            "c7ddb16709d24ad2b68b5afd34c8ac77",
            "d810b65b0f3641baa0c1d2ae248bc694",
            "341b414eb75c431583a526a80f42f881",
            "d92c0ed9e5d84a5987d4b73a5d63fe18",
            "e721713d11f94d4cb57b66bf9c802a27",
            "919b99fde6e642eeb403c9fc54277088",
            "1d7f1d6045664fbeaaedc7de6dc11296",
            "04519e7a85a6425985d4b0990fce5069",
            "3c8efda4d1a94b48a3f6ba062cce0640",
            "b06d9cc92f174ba194e58800e7f70d86",
            "ca10772473c4426c99d39cefdff95ec7",
            "aecc1f3bd6d74d1f970aa67fba3d286e",
            "5a763cb65155495b8142e3e5c0ca1406",
            "a65f96de3c2b4f1495e5cdbdc49d8a27",
            "4d79555fa95a49aea869262a33987cce",
            "7edde1d3919344bc8291a6ee74544c2e",
            "106fc773a682489da930618f03f9159c",
            "c2e2b4d4ec1243079aa63f274f558243",
            "52e06b1ea88b49fc8902a9d9fa0d3658",
            "0f1c4b1676654f08bfb140151c3f3b59",
            "82d2910c515c4966b375b61514911f02",
            "ec81d09866f24782bb7636e964ecd6f0",
            "bbbfe1da6e7c413787109693c4c537d9",
            "d3e85a9d617245dab8ab420ff6f42785",
            "85de104ba2434b788e413667b727752d",
            "82b7ba632aac49fe9e7385e60dddb23b",
            "0deb605be8874c3c9ac74bf0d7072864",
            "60564e07834e4e82a9dc49f8b037eb58",
            "9e8fe2a413b64524a9a22ba570e08b7e",
            "50dd9d44972f4ee89936b7acdbcbd72b",
            "683e49064ca9478db0a00627c55f1925",
            "443c3f23ced34c5db09de3f1eb699cbc",
            "2f16678cfe5348af8498189f044ec662",
            "a1faff60e6384add9201308a4134706d",
            "b149522c4ee44647883ffd4718f8d73b",
            "109a7f9fdb784938aebcabea461be9e9",
            "3c3ce323fa024d5682ee5d278d3a5a2e",
            "c0a210a343f64ed69287d3e1dbe742e6",
            "6bc197963db24b948351288b4e2416da",
            "3769a4873a6c4d559fc0b025f215859e",
            "ff3e75c77e1348aa8372487a7a361010",
            "0834b48c8e184bd9ab654b443327a96e",
            "437f1622cd2c46a6910a5240b20f05fe",
            "08734f19e48446a7af37ad5665a8b0b0",
            "1d5bf1b71c3c45e386bca888444251f0",
            "a1b5bb95303b4194a209594910db4974",
            "d544ac589d4c405d9a0e3b039f848e24",
            "d9e186cf95f6453e9078dcf9420e7c6e",
            "ccbd847317904c5cb090ba696de73cf5",
            "6d5746d518ae45618e3927586e572af7",
            "efb3cb63ff45476eb368f7c5594d1175",
            "d809e61625284345a1d8a733ad531c26",
            "7cd6dc5d9d4d41d7b4cfdf8d2891df95",
            "9b045d3b7a5a40ffa7d0f287e581e142",
            "882d25f0a0d04f9ead52474ee966873f",
            "ca0c1f380bbc4622b1656f6f6ffb562d",
            "68ba34c779184959b5f99778e5728e57",
            "db00ed8e54eb4a85877c3ef40ba46501",
            "1e8c796e98c4444e8cf51bd22e2365c6",
            "302ef42c267640eaae4b29512d468b0b",
            "990f89ddcb00458ea709f6673bb4a371",
            "b1725b7fc1f84e1e9f092d81f08f5d9d",
            "cbe114a1dfd9423ca69d5b5783ce6caf",
            "04c88c6cf072425388828ebae93ae30f",
            "9c67ecafb6dd47b69a4668e643e907ed",
            "c878b128c6c042f08f303306b27a324f",
            "03885d6daaca4d09ad359843844be615",
            "44972676aec448499b87695440928f20",
            "6cebc60f910244c79743a2fbb7ad08b3",
            "8b455fed15af49139ec1135a07d4b006",
            "e40c39e8aec647e992742ac7f4a3c43a",
            "8a6a8bac4ba247a4bcc8e0f727003e1f",
            "19dcc04780b4419193232e2d66ecefa0",
            "08125413190e4b46b4f9250719cb0bf0",
            "a3c65fe65c854f7bb4e0c55a3d8508a2",
            "6ace5d0065c54365becafb7025a2e37a",
            "52245a0c031b4bd4816db5c20581e49d",
            "befed88a95e64841a59244624468d45c",
            "ee7c04b9b55d46a7b26d24059c812352",
            "fa0b4f85fbbc4fd8be72c34af00369eb",
            "1d65b9aad9d64b879db3c31a95e9a4d5",
            "457e1eed8e2147cea39e5a1a3cc97f3f",
            "bdaf325f128546028614775d61d9cc16",
            "01d23296d5174fe398b387567014616a",
            "ecd9e89e58f2434fa1cb375267cec7a0",
            "6f61001896e243e7a646178403a9d738",
            "4bae49cbc6f445009036d6055126f67c",
            "b6fba8a921dc413ca72ad2bd89f3184e",
            "f484c1af311647f194d70af15e999c97",
            "5d17260556904159a48618b40e3a8a31",
            "30bba64851f242c4b8359cc651f97fac",
            "9cddd581250049e9be0063bc09475573",
            "73eb6b0961714f8988096fcc3f2fe3f3",
            "e8281208f53f46ed844b16ceee228a98",
            "8ca3aee8249b411aa4479656e94e26c9",
            "b48cf6443c674a29a7c2a0c14ae9305d",
            "79444379f1e94b23b42558f1ef7841d5",
            "17ade1eceebb470aab45a7f6ee2db51b",
            "897f4c112e4046fe93c80707f43cbb94",
            "f4c363fc81014c829f89bdc421d16fe8",
            "48143c3a65e748efb50e4df5c07098c8"
          ]
        },
        "outputId": "b72f000c-f10b-47d5-a368-0b5f3cae41b8"
      },
      "outputs": [
        {
          "output_type": "display_data",
          "data": {
            "text/plain": [
              "Downloading:   0%|          | 0.00/345 [00:00<?, ?B/s]"
            ],
            "application/vnd.jupyter.widget-view+json": {
              "version_major": 2,
              "version_minor": 0,
              "model_id": "b68e9cb721154d3fb358ecdaeb1c44f7"
            }
          },
          "metadata": {}
        },
        {
          "output_type": "display_data",
          "data": {
            "text/plain": [
              "Downloading:   0%|          | 0.00/4.77k [00:00<?, ?B/s]"
            ],
            "application/vnd.jupyter.widget-view+json": {
              "version_major": 2,
              "version_minor": 0,
              "model_id": "341b414eb75c431583a526a80f42f881"
            }
          },
          "metadata": {}
        },
        {
          "output_type": "display_data",
          "data": {
            "text/plain": [
              "Downloading:   0%|          | 0.00/507 [00:00<?, ?B/s]"
            ],
            "application/vnd.jupyter.widget-view+json": {
              "version_major": 2,
              "version_minor": 0,
              "model_id": "a65f96de3c2b4f1495e5cdbdc49d8a27"
            }
          },
          "metadata": {}
        },
        {
          "output_type": "display_data",
          "data": {
            "text/plain": [
              "Downloading:   0%|          | 0.00/135M [00:00<?, ?B/s]"
            ],
            "application/vnd.jupyter.widget-view+json": {
              "version_major": 2,
              "version_minor": 0,
              "model_id": "85de104ba2434b788e413667b727752d"
            }
          },
          "metadata": {}
        },
        {
          "output_type": "display_data",
          "data": {
            "text/plain": [
              "Downloading:   0%|          | 0.00/5.65M [00:00<?, ?B/s]"
            ],
            "application/vnd.jupyter.widget-view+json": {
              "version_major": 2,
              "version_minor": 0,
              "model_id": "109a7f9fdb784938aebcabea461be9e9"
            }
          },
          "metadata": {}
        },
        {
          "output_type": "display_data",
          "data": {
            "text/plain": [
              "Downloading:   0%|          | 0.00/5.59M [00:00<?, ?B/s]"
            ],
            "application/vnd.jupyter.widget-view+json": {
              "version_major": 2,
              "version_minor": 0,
              "model_id": "d544ac589d4c405d9a0e3b039f848e24"
            }
          },
          "metadata": {}
        },
        {
          "output_type": "display_data",
          "data": {
            "text/plain": [
              "Downloading:   0%|          | 0.00/400M [00:00<?, ?B/s]"
            ],
            "application/vnd.jupyter.widget-view+json": {
              "version_major": 2,
              "version_minor": 0,
              "model_id": "db00ed8e54eb4a85877c3ef40ba46501"
            }
          },
          "metadata": {}
        },
        {
          "output_type": "display_data",
          "data": {
            "text/plain": [
              "Downloading:   0%|          | 0.00/1.87k [00:00<?, ?B/s]"
            ],
            "application/vnd.jupyter.widget-view+json": {
              "version_major": 2,
              "version_minor": 0,
              "model_id": "6cebc60f910244c79743a2fbb7ad08b3"
            }
          },
          "metadata": {}
        },
        {
          "output_type": "display_data",
          "data": {
            "text/plain": [
              "Downloading:   0%|          | 0.00/2.20M [00:00<?, ?B/s]"
            ],
            "application/vnd.jupyter.widget-view+json": {
              "version_major": 2,
              "version_minor": 0,
              "model_id": "fa0b4f85fbbc4fd8be72c34af00369eb"
            }
          },
          "metadata": {}
        },
        {
          "output_type": "stream",
          "name": "stderr",
          "text": [
            "WARNING:root:No sentence-transformers model found with name /root/.cache/torch/sentence_transformers/ai4bharat_indic-bert. Creating a new one with MEAN pooling.\n",
            "Some weights of the model checkpoint at /root/.cache/torch/sentence_transformers/ai4bharat_indic-bert were not used when initializing AlbertModel: ['predictions.dense.weight', 'predictions.LayerNorm.weight', 'predictions.LayerNorm.bias', 'predictions.dense.bias', 'predictions.decoder.weight', 'sop_classifier.classifier.bias', 'sop_classifier.classifier.weight', 'predictions.bias', 'predictions.decoder.bias']\n",
            "- This IS expected if you are initializing AlbertModel from the checkpoint of a model trained on another task or with another architecture (e.g. initializing a BertForSequenceClassification model from a BertForPreTraining model).\n",
            "- This IS NOT expected if you are initializing AlbertModel from the checkpoint of a model that you expect to be exactly identical (initializing a BertForSequenceClassification model from a BertForSequenceClassification model).\n"
          ]
        },
        {
          "output_type": "display_data",
          "data": {
            "text/plain": [
              "Batches:   0%|          | 0/20 [00:00<?, ?it/s]"
            ],
            "application/vnd.jupyter.widget-view+json": {
              "version_major": 2,
              "version_minor": 0,
              "model_id": "30bba64851f242c4b8359cc651f97fac"
            }
          },
          "metadata": {}
        },
        {
          "output_type": "stream",
          "name": "stderr",
          "text": [
            "/usr/local/lib/python3.7/dist-packages/sklearn/utils/deprecation.py:87: FutureWarning: Function get_feature_names is deprecated; get_feature_names is deprecated in 1.0 and will be removed in 1.2. Please use get_feature_names_out instead.\n",
            "  warnings.warn(msg, category=FutureWarning)\n"
          ]
        }
      ],
      "source": [
        "# Load Indic Multilingual embeddings \n",
        "tp = TopicModelDataPreparation('ai4bharat/indic-bert')\n",
        "\n",
        "# Building training dataset\n",
        "training_dataset = tp.fit(text_for_contextual=unpreprocessed_corpus, text_for_bow=preprocessed_documents)"
      ]
    },
    {
      "cell_type": "code",
      "execution_count": 15,
      "metadata": {
        "id": "8fmUu7dz_btU",
        "colab": {
          "base_uri": "https://localhost:8080/"
        },
        "outputId": "1e97c6b9-db6d-445b-c5b7-9127f194151c"
      },
      "outputs": [
        {
          "output_type": "stream",
          "name": "stderr",
          "text": [
            "Epoch: [100/100]\t Seen Samples: [399900/399900]\tTrain Loss: 72.92288636123875\tTime: 0:00:01.055159: : 100it [01:46,  1.06s/it]\n",
            "Sampling: [30/30]: : 30it [00:27,  1.09it/s]\n",
            "/usr/local/lib/python3.7/dist-packages/contextualized_topic_models/models/ctm.py:475: Warning: This is an experimental feature that we has not been fully tested. Refer to the following issue:https://github.com/MilaNLProc/contextualized-topic-models/issues/38\n",
            "  Warning)\n",
            "Epoch: [100/100]\t Seen Samples: [399900/399900]\tTrain Loss: 82.2479892434046\tTime: 0:00:01.061506: : 100it [01:46,  1.07s/it]\n",
            "Sampling: [30/30]: : 30it [00:28,  1.04it/s]\n",
            "/usr/local/lib/python3.7/dist-packages/contextualized_topic_models/models/ctm.py:475: Warning: This is an experimental feature that we has not been fully tested. Refer to the following issue:https://github.com/MilaNLProc/contextualized-topic-models/issues/38\n",
            "  Warning)\n"
          ]
        }
      ],
      "source": [
        "# Train over 100 epochs\n",
        "\n",
        "### HINDI : 25 TOPICS ###\n",
        "z_ctm_25_HI = ZeroShotTM(bow_size=len(tp.vocab), n_components = 25, contextual_size=768, num_epochs=100)\n",
        "\n",
        "z_ctm_25_HI.fit(training_dataset, n_samples = 30) # run the model\n",
        "z_ctm_25_HI.save(\"./\") # save the model\n",
        "\n",
        "### HINDI : 50 TOPICS ###\n",
        "z_ctm_50_HI = ZeroShotTM(bow_size=len(tp.vocab), n_components = 50, contextual_size=768, num_epochs=100)\n",
        "\n",
        "z_ctm_50_HI.fit(training_dataset, n_samples = 30) # run the model\n",
        "z_ctm_50_HI.save(\"./\") # save the model"
      ]
    },
    {
      "cell_type": "code",
      "execution_count": 16,
      "metadata": {
        "id": "aYjDfidEcwOr",
        "colab": {
          "base_uri": "https://localhost:8080/"
        },
        "outputId": "82c10c5f-aaa0-4dc7-9b33-afe4be2103e9"
      },
      "outputs": [
        {
          "output_type": "execute_result",
          "data": {
            "text/plain": [
              "[['उनक', 'सदश', 'अपन', 'उनह', 'नमन'],\n",
              " ['एमओय', 'एव', 'पतर', 'कषतर', 'अवगत'],\n",
              " ['हए', 'आज', 'करत', 'नई', 'नरनदर'],\n",
              " ['बठक', 'तहत', 'करन', 'नरनदर', 'नरदर']]"
            ]
          },
          "metadata": {},
          "execution_count": 16
        }
      ],
      "source": [
        "# See topic predictions per speech doc\n",
        "z_ctm_25_HI.get_topic_lists(5)[:4]"
      ]
    },
    {
      "cell_type": "code",
      "source": [
        "# See topic predictions per speech doc\n",
        "z_ctm_50_HI.get_topic_lists(5)[:4]"
      ],
      "metadata": {
        "id": "d-ejLxGsnw5C",
        "colab": {
          "base_uri": "https://localhost:8080/"
        },
        "outputId": "cfcf203c-0987-4949-fba0-3eb738dadf8a"
      },
      "execution_count": 17,
      "outputs": [
        {
          "output_type": "execute_result",
          "data": {
            "text/plain": [
              "[['आज', 'अवसर', 'हए', 'हम', 'नई'],\n",
              " ['मर', 'रह', 'कदर', 'मच', 'परदश'],\n",
              " ['बहत', 'दश', 'आज', 'हम', 'मर'],\n",
              " ['उनक', 'सदश', 'नमन', 'अपन', 'गर']]"
            ]
          },
          "metadata": {},
          "execution_count": 17
        }
      ]
    },
    {
      "cell_type": "code",
      "source": [
        "# Get NPMI Coherence\n",
        "from contextualized_topic_models.evaluation.measures import CoherenceNPMI\n",
        "texts = [doc.split() for doc in preprocessed_documents] # load text for NPMI\n",
        "\n",
        "### 25 TOPICS ###\n",
        "npmi_HI = CoherenceNPMI(texts=texts, topics=z_ctm_25_HI.get_topic_lists(25))\n",
        "print(npmi_HI.score())\n",
        "\n",
        "### 50 TOPICS ###\n",
        "npmi_50_HI = CoherenceNPMI(texts=texts, topics=z_ctm_50_HI.get_topic_lists(50))\n",
        "print(npmi_50_HI.score())\n",
        "\n",
        "# Store NPMI scores\n",
        "zeroshotNPMI_HI = [npmi_HI.score(), npmi_50_HI.score()]"
      ],
      "metadata": {
        "id": "uwYx_kW3oLun",
        "colab": {
          "base_uri": "https://localhost:8080/"
        },
        "outputId": "904e5dbc-d905-4fc3-f9e7-ac3795e534c1"
      },
      "execution_count": 18,
      "outputs": [
        {
          "output_type": "stream",
          "name": "stdout",
          "text": [
            "0.002926718281592171\n",
            "0.016973160703299472\n"
          ]
        }
      ]
    },
    {
      "cell_type": "markdown",
      "source": [
        "###**English-Based ZeroshotTM**\n",
        "\n",
        "*Preprocessing*\n",
        "\n",
        "Why do we use the preprocessed text here? We need text without punctuation to build the bag of word. Also, we might want only to have the most frequent words inside the BoW. Too many words might not help."
      ],
      "metadata": {
        "id": "yJOkb0WAi617"
      }
    },
    {
      "cell_type": "code",
      "source": [
        "### ENGLISH ###\n",
        "LANG_SELECTED = 'en'\n",
        "\n",
        "# We select 500 tokens per speech\n",
        "NUM_TOKENS = 400\n",
        "\n",
        "# Download English Stopwords\n",
        "nltk.download('stopwords')\n",
        "\n",
        "# Run preprocessing script\n",
        "documents = [line[:NUM_TOKENS].strip() for line in train_speeches[LANG_SELECTED]]\n",
        "\n",
        "import nltk\n",
        "nltk.download('words')\n",
        "# preprocessed_documents\n",
        "words = set(nltk.corpus.words.words())\n",
        "\n",
        "documents = [\"\".join([word for word in doc if word.lower() in words or not word.isalpha()]) for doc in documents]\n",
        "\n",
        "sp = WhiteSpacePreprocessing(documents, stopwords_language='english')\n",
        "preprocessed_documents, unpreprocessed_corpus, vocab = sp.preprocess()\n",
        "\n",
        "# Ensure same length for preprocessed and unpreprocessed\n",
        "print(len(preprocessed_documents), len(unpreprocessed_corpus))"
      ],
      "metadata": {
        "id": "0gQ4SObQLMin",
        "colab": {
          "base_uri": "https://localhost:8080/"
        },
        "outputId": "ee300d71-8213-411f-ec96-9fe3da7273ca"
      },
      "execution_count": 19,
      "outputs": [
        {
          "output_type": "stream",
          "name": "stdout",
          "text": [
            "[nltk_data] Downloading package stopwords to /root/nltk_data...\n",
            "[nltk_data]   Unzipping corpora/stopwords.zip.\n",
            "[nltk_data] Downloading package words to /root/nltk_data...\n",
            "[nltk_data]   Unzipping corpora/words.zip.\n"
          ]
        },
        {
          "output_type": "stream",
          "name": "stderr",
          "text": [
            "/usr/local/lib/python3.7/dist-packages/nltk/corpus/reader/wordlist.py:28: ResourceWarning: unclosed file <_io.BufferedReader name='/root/nltk_data/corpora/words/en'>\n",
            "  return concat([self.open(f).read() for f in fileids])\n",
            "ResourceWarning: Enable tracemalloc to get the object allocation traceback\n",
            "/usr/local/lib/python3.7/dist-packages/nltk/corpus/reader/wordlist.py:28: ResourceWarning: unclosed file <_io.BufferedReader name='/root/nltk_data/corpora/words/en-basic'>\n",
            "  return concat([self.open(f).read() for f in fileids])\n",
            "ResourceWarning: Enable tracemalloc to get the object allocation traceback\n",
            "/usr/local/lib/python3.7/dist-packages/nltk/corpus/reader/wordlist.py:28: ResourceWarning: unclosed file <_io.BufferedReader name='/root/nltk_data/corpora/stopwords/english'>\n",
            "  return concat([self.open(f).read() for f in fileids])\n",
            "ResourceWarning: Enable tracemalloc to get the object allocation traceback\n",
            "/usr/local/lib/python3.7/dist-packages/contextualized_topic_models/utils/preprocessing.py:24: UserWarning: WhiteSpacePreprocessing is deprecated and will be removed in future versions.Use WhiteSpacePreprocessingStopwords.\n",
            "  warnings.warn(\"WhiteSpacePreprocessing is deprecated and will be removed in future versions.\"\n"
          ]
        },
        {
          "output_type": "stream",
          "name": "stdout",
          "text": [
            "4187 4187\n"
          ]
        },
        {
          "output_type": "stream",
          "name": "stderr",
          "text": [
            "/usr/local/lib/python3.7/dist-packages/sklearn/utils/deprecation.py:87: FutureWarning: Function get_feature_names is deprecated; get_feature_names is deprecated in 1.0 and will be removed in 1.2. Please use get_feature_names_out instead.\n",
            "  warnings.warn(msg, category=FutureWarning)\n"
          ]
        }
      ]
    },
    {
      "cell_type": "markdown",
      "source": [
        "We don't discard the non-preprocessed english texts, because we are going to use them as input for obtaining the **contextualized** document representations. We will now pass our files with preprocess and unpreprocessed data to our TopicModelDataPreparation object. This object takes care of creating the bag of words and obtains the contextualized BERT representations of documents. This operation allows us to create our training dataset.\n",
        "\n",
        "Note: Here we use the contextualized model \"ai4bharat/indic-bert\", because we need a multilingual model for indic languages for performing cross-lingual predictions later.\n",
        "\n"
      ],
      "metadata": {
        "id": "H904cm64wssn"
      }
    },
    {
      "cell_type": "code",
      "source": [
        "# Building training dataset\n",
        "tp = TopicModelDataPreparation(\"ai4bharat/indic-bert\")\n",
        "en_training = tp.fit(text_for_contextual=unpreprocessed_corpus, text_for_bow=preprocessed_documents)"
      ],
      "metadata": {
        "id": "Uj-7NMBgN2oW",
        "colab": {
          "base_uri": "https://localhost:8080/",
          "height": 173,
          "referenced_widgets": [
            "7128da3cd18c4613b3b7b49367940dcf",
            "e5442379f1c0470ab7f8aceda2c7cfd5",
            "2a54612178de435c98ec5b5538bc8960",
            "7ae4aa9f1a7946ef918eb9b76d0cc25b",
            "f90ef0ed8ffd47cb886d6badad2dffcf",
            "972cd0b6e85f449c8777fc635c9d9933",
            "d8958c0c8b7440a29df91153beb205cb",
            "cb3efb515c0b4c7689aa7a36749dc9a1",
            "df6730f29c9b4ac5b8d1f59b47a95b4a",
            "f20e5765e63940ceb7c109eb8fa4655c",
            "541722f1479b45bc97e225e3f89d1eb0"
          ]
        },
        "outputId": "73da87dc-bad1-487a-ee2c-725d946861d9"
      },
      "execution_count": 20,
      "outputs": [
        {
          "output_type": "stream",
          "name": "stderr",
          "text": [
            "WARNING:root:No sentence-transformers model found with name /root/.cache/torch/sentence_transformers/ai4bharat_indic-bert. Creating a new one with MEAN pooling.\n",
            "Some weights of the model checkpoint at /root/.cache/torch/sentence_transformers/ai4bharat_indic-bert were not used when initializing AlbertModel: ['predictions.dense.weight', 'predictions.LayerNorm.weight', 'predictions.LayerNorm.bias', 'predictions.dense.bias', 'predictions.decoder.weight', 'sop_classifier.classifier.bias', 'sop_classifier.classifier.weight', 'predictions.bias', 'predictions.decoder.bias']\n",
            "- This IS expected if you are initializing AlbertModel from the checkpoint of a model trained on another task or with another architecture (e.g. initializing a BertForSequenceClassification model from a BertForPreTraining model).\n",
            "- This IS NOT expected if you are initializing AlbertModel from the checkpoint of a model that you expect to be exactly identical (initializing a BertForSequenceClassification model from a BertForSequenceClassification model).\n"
          ]
        },
        {
          "output_type": "display_data",
          "data": {
            "text/plain": [
              "Batches:   0%|          | 0/21 [00:00<?, ?it/s]"
            ],
            "application/vnd.jupyter.widget-view+json": {
              "version_major": 2,
              "version_minor": 0,
              "model_id": "7128da3cd18c4613b3b7b49367940dcf"
            }
          },
          "metadata": {}
        },
        {
          "output_type": "stream",
          "name": "stderr",
          "text": [
            "/usr/local/lib/python3.7/dist-packages/sklearn/utils/deprecation.py:87: FutureWarning: Function get_feature_names is deprecated; get_feature_names is deprecated in 1.0 and will be removed in 1.2. Please use get_feature_names_out instead.\n",
            "  warnings.warn(msg, category=FutureWarning)\n"
          ]
        }
      ]
    },
    {
      "cell_type": "markdown",
      "source": [
        "*Training ZeroshotTM*"
      ],
      "metadata": {
        "id": "WLv6u6EklqNw"
      }
    },
    {
      "cell_type": "code",
      "source": [
        "# Train over 100 epochs\n",
        "\n",
        "### ENGLISH : 25 TOPICS ###\n",
        "z_ctm_25_EN = ZeroShotTM(bow_size=len(tp.vocab), n_components = 25, contextual_size=768, num_epochs=100)\n",
        "z_ctm_25_EN.fit(en_training, n_samples=30) # run the model\n",
        "z_ctm_25_EN.save(\"./\") # save the model\n",
        "\n",
        "### ENGLISH : 50 TOPICS ###\n",
        "z_ctm_50_EN = ZeroShotTM(bow_size=len(tp.vocab), n_components = 50, contextual_size=768, num_epochs=100)\n",
        "z_ctm_50_EN.fit(en_training, n_samples=30) # run the model\n",
        "z_ctm_50_EN.save(\"./\") # save the model"
      ],
      "metadata": {
        "id": "uYP1dTKrOFGy",
        "colab": {
          "base_uri": "https://localhost:8080/"
        },
        "outputId": "27c7e74a-e959-48e7-a91c-96c93c6d36ac"
      },
      "execution_count": 21,
      "outputs": [
        {
          "output_type": "stream",
          "name": "stderr",
          "text": [
            "Epoch: [100/100]\t Seen Samples: [418700/418700]\tTrain Loss: 202.02203807917363\tTime: 0:00:01.146985: : 100it [01:54,  1.15s/it]\n",
            "Sampling: [30/30]: : 30it [00:30,  1.02s/it]\n",
            "/usr/local/lib/python3.7/dist-packages/contextualized_topic_models/models/ctm.py:475: Warning: This is an experimental feature that we has not been fully tested. Refer to the following issue:https://github.com/MilaNLProc/contextualized-topic-models/issues/38\n",
            "  Warning)\n",
            "Epoch: [100/100]\t Seen Samples: [418700/418700]\tTrain Loss: 209.8258369469489\tTime: 0:00:01.163677: : 100it [01:56,  1.16s/it]\n",
            "Sampling: [30/30]: : 30it [00:30,  1.02s/it]\n",
            "/usr/local/lib/python3.7/dist-packages/contextualized_topic_models/models/ctm.py:475: Warning: This is an experimental feature that we has not been fully tested. Refer to the following issue:https://github.com/MilaNLProc/contextualized-topic-models/issues/38\n",
            "  Warning)\n"
          ]
        }
      ]
    },
    {
      "cell_type": "code",
      "source": [
        "# See topic predictions per speech doc\n",
        "z_ctm_25_EN.get_topic_lists(5)[:4]"
      ],
      "metadata": {
        "id": "mgZAySpvOy4N",
        "colab": {
          "base_uri": "https://localhost:8080/"
        },
        "outputId": "df1c3eb9-4d12-4796-b40c-995193f623be"
      },
      "execution_count": 22,
      "outputs": [
        {
          "output_type": "execute_result",
          "data": {
            "text/plain": [
              "[['bill', 'union', 'cabinet', 'chaired', 'act'],\n",
              " ['pm', 'foundation', 'development', 'projects', 'stone'],\n",
              " ['cabinet', 'chaired', 'union', 'central', 'posts'],\n",
              " ['dear', 'countrymen', 'ki', 'time', 'namaskar']]"
            ]
          },
          "metadata": {},
          "execution_count": 22
        }
      ]
    },
    {
      "cell_type": "code",
      "source": [
        "# See topic predictions per speech doc\n",
        "z_ctm_50_EN.get_topic_lists(5)[:4]"
      ],
      "metadata": {
        "id": "u1aSe9afj3pN",
        "colab": {
          "base_uri": "https://localhost:8080/"
        },
        "outputId": "4e2aa594-2cb2-4355-c70b-eb54d01ccd08"
      },
      "execution_count": 23,
      "outputs": [
        {
          "output_type": "execute_result",
          "data": {
            "text/plain": [
              "[['bill', 'union', 'chaired', 'cabinet', 'amendment'],\n",
              " ['meeting', 'ministers', 'shri', 'chairman', 'delegation'],\n",
              " ['ble', 'issued', 'doctors', 'bimstec', 'arrival'],\n",
              " ['said', 'today', 'indian', 'prime', 'new']]"
            ]
          },
          "metadata": {},
          "execution_count": 23
        }
      ]
    },
    {
      "cell_type": "code",
      "source": [
        "# Get NPMI Coherence\n",
        "from contextualized_topic_models.evaluation.measures import CoherenceNPMI\n",
        "texts = [doc.split() for doc in preprocessed_documents] # load text for NPMI\n",
        "\n",
        "### 25 TOPICS ###-\n",
        "npmi_EN = CoherenceNPMI(texts=texts, topics=z_ctm_25_EN.get_topic_lists(25))\n",
        "print(npmi_EN.score())\n",
        "\n",
        "### 50 TOPICS ###\n",
        "npmi_50_EN = CoherenceNPMI(texts=texts, topics=z_ctm_50_EN.get_topic_lists(50))\n",
        "print(npmi_50_EN.score())\n",
        "\n",
        "# Store NPMI scores\n",
        "zeroshotNPMI_EN = [npmi_EN.score(), npmi_50_EN.score()]"
      ],
      "metadata": {
        "id": "XQrm1TQXogzy",
        "colab": {
          "base_uri": "https://localhost:8080/"
        },
        "outputId": "904ab9f0-a56e-4b22-a91d-c514fa856ef7"
      },
      "execution_count": 24,
      "outputs": [
        {
          "output_type": "stream",
          "name": "stdout",
          "text": [
            "0.10058343763421701\n",
            "0.13083247449998922\n"
          ]
        }
      ]
    },
    {
      "cell_type": "markdown",
      "source": [
        "# Coherence Results"
      ],
      "metadata": {
        "id": "i9PnZD8oouRq"
      }
    },
    {
      "cell_type": "code",
      "source": [
        "# SHOW RESULTS\n",
        "NPMI = {\"ZeroShotTM for Hindi\" : zeroshotNPMI_HI,\n",
        "        \"ZeroShotTM for English\" : zeroshotNPMI_EN}\n",
        "\n",
        "npmi = pd.DataFrame.from_dict(NPMI, orient='index')\n",
        "print(\"NPMI Coherences\")\n",
        "npmi.set_axis([\"t(25)\", \"t(50)\"], axis = 1)"
      ],
      "metadata": {
        "id": "-wLgjEMMowtT",
        "colab": {
          "base_uri": "https://localhost:8080/",
          "height": 129
        },
        "outputId": "f863275d-fd4a-44d3-e808-75e144ca8434"
      },
      "execution_count": 25,
      "outputs": [
        {
          "output_type": "stream",
          "name": "stdout",
          "text": [
            "NPMI Coherences\n"
          ]
        },
        {
          "output_type": "execute_result",
          "data": {
            "text/plain": [
              "                           t(25)     t(50)\n",
              "ZeroShotTM for Hindi    0.002927  0.016973\n",
              "ZeroShotTM for English  0.100583  0.130832"
            ],
            "text/html": [
              "\n",
              "  <div id=\"df-7b9c0f73-24b4-482a-bdcc-5e30e7c3851d\">\n",
              "    <div class=\"colab-df-container\">\n",
              "      <div>\n",
              "<style scoped>\n",
              "    .dataframe tbody tr th:only-of-type {\n",
              "        vertical-align: middle;\n",
              "    }\n",
              "\n",
              "    .dataframe tbody tr th {\n",
              "        vertical-align: top;\n",
              "    }\n",
              "\n",
              "    .dataframe thead th {\n",
              "        text-align: right;\n",
              "    }\n",
              "</style>\n",
              "<table border=\"1\" class=\"dataframe\">\n",
              "  <thead>\n",
              "    <tr style=\"text-align: right;\">\n",
              "      <th></th>\n",
              "      <th>t(25)</th>\n",
              "      <th>t(50)</th>\n",
              "    </tr>\n",
              "  </thead>\n",
              "  <tbody>\n",
              "    <tr>\n",
              "      <th>ZeroShotTM for Hindi</th>\n",
              "      <td>0.002927</td>\n",
              "      <td>0.016973</td>\n",
              "    </tr>\n",
              "    <tr>\n",
              "      <th>ZeroShotTM for English</th>\n",
              "      <td>0.100583</td>\n",
              "      <td>0.130832</td>\n",
              "    </tr>\n",
              "  </tbody>\n",
              "</table>\n",
              "</div>\n",
              "      <button class=\"colab-df-convert\" onclick=\"convertToInteractive('df-7b9c0f73-24b4-482a-bdcc-5e30e7c3851d')\"\n",
              "              title=\"Convert this dataframe to an interactive table.\"\n",
              "              style=\"display:none;\">\n",
              "        \n",
              "  <svg xmlns=\"http://www.w3.org/2000/svg\" height=\"24px\"viewBox=\"0 0 24 24\"\n",
              "       width=\"24px\">\n",
              "    <path d=\"M0 0h24v24H0V0z\" fill=\"none\"/>\n",
              "    <path d=\"M18.56 5.44l.94 2.06.94-2.06 2.06-.94-2.06-.94-.94-2.06-.94 2.06-2.06.94zm-11 1L8.5 8.5l.94-2.06 2.06-.94-2.06-.94L8.5 2.5l-.94 2.06-2.06.94zm10 10l.94 2.06.94-2.06 2.06-.94-2.06-.94-.94-2.06-.94 2.06-2.06.94z\"/><path d=\"M17.41 7.96l-1.37-1.37c-.4-.4-.92-.59-1.43-.59-.52 0-1.04.2-1.43.59L10.3 9.45l-7.72 7.72c-.78.78-.78 2.05 0 2.83L4 21.41c.39.39.9.59 1.41.59.51 0 1.02-.2 1.41-.59l7.78-7.78 2.81-2.81c.8-.78.8-2.07 0-2.86zM5.41 20L4 18.59l7.72-7.72 1.47 1.35L5.41 20z\"/>\n",
              "  </svg>\n",
              "      </button>\n",
              "      \n",
              "  <style>\n",
              "    .colab-df-container {\n",
              "      display:flex;\n",
              "      flex-wrap:wrap;\n",
              "      gap: 12px;\n",
              "    }\n",
              "\n",
              "    .colab-df-convert {\n",
              "      background-color: #E8F0FE;\n",
              "      border: none;\n",
              "      border-radius: 50%;\n",
              "      cursor: pointer;\n",
              "      display: none;\n",
              "      fill: #1967D2;\n",
              "      height: 32px;\n",
              "      padding: 0 0 0 0;\n",
              "      width: 32px;\n",
              "    }\n",
              "\n",
              "    .colab-df-convert:hover {\n",
              "      background-color: #E2EBFA;\n",
              "      box-shadow: 0px 1px 2px rgba(60, 64, 67, 0.3), 0px 1px 3px 1px rgba(60, 64, 67, 0.15);\n",
              "      fill: #174EA6;\n",
              "    }\n",
              "\n",
              "    [theme=dark] .colab-df-convert {\n",
              "      background-color: #3B4455;\n",
              "      fill: #D2E3FC;\n",
              "    }\n",
              "\n",
              "    [theme=dark] .colab-df-convert:hover {\n",
              "      background-color: #434B5C;\n",
              "      box-shadow: 0px 1px 3px 1px rgba(0, 0, 0, 0.15);\n",
              "      filter: drop-shadow(0px 1px 2px rgba(0, 0, 0, 0.3));\n",
              "      fill: #FFFFFF;\n",
              "    }\n",
              "  </style>\n",
              "\n",
              "      <script>\n",
              "        const buttonEl =\n",
              "          document.querySelector('#df-7b9c0f73-24b4-482a-bdcc-5e30e7c3851d button.colab-df-convert');\n",
              "        buttonEl.style.display =\n",
              "          google.colab.kernel.accessAllowed ? 'block' : 'none';\n",
              "\n",
              "        async function convertToInteractive(key) {\n",
              "          const element = document.querySelector('#df-7b9c0f73-24b4-482a-bdcc-5e30e7c3851d');\n",
              "          const dataTable =\n",
              "            await google.colab.kernel.invokeFunction('convertToInteractive',\n",
              "                                                     [key], {});\n",
              "          if (!dataTable) return;\n",
              "\n",
              "          const docLinkHtml = 'Like what you see? Visit the ' +\n",
              "            '<a target=\"_blank\" href=https://colab.research.google.com/notebooks/data_table.ipynb>data table notebook</a>'\n",
              "            + ' to learn more about interactive tables.';\n",
              "          element.innerHTML = '';\n",
              "          dataTable['output_type'] = 'display_data';\n",
              "          await google.colab.output.renderOutput(dataTable, element);\n",
              "          const docLink = document.createElement('div');\n",
              "          docLink.innerHTML = docLinkHtml;\n",
              "          element.appendChild(docLink);\n",
              "        }\n",
              "      </script>\n",
              "    </div>\n",
              "  </div>\n",
              "  "
            ]
          },
          "metadata": {},
          "execution_count": 25
        }
      ]
    },
    {
      "cell_type": "markdown",
      "metadata": {
        "id": "ID4xeEywiyE1"
      },
      "source": [
        "# Predictions and Evaluation\n",
        "###**Unseen Multilingual  Corpora Predictions**\n",
        "\n",
        "*Languages*\n",
        "\n",
        "* Assamese - as\n",
        "* Bengali - bn\n",
        "* English - en\n",
        "* Gujarati - gu\n",
        "* Hindi - hi\n",
        "* Kannada - kn\n",
        "* Malayalam - ml\n",
        "* Marathi - mr\n",
        "* Oriya - or\n",
        "* Punjabi - pa\n",
        "* Tamil - ta\n",
        "* Telugu - te"
      ]
    },
    {
      "cell_type": "code",
      "execution_count": null,
      "metadata": {
        "id": "IcyhlPNu3CiQ"
      },
      "outputs": [],
      "source": [
        "# Convert test files into test datasets\n",
        "as_testset = tp.transform(parallel_speeches['as'])\n",
        "bn_testset = tp.transform(parallel_speeches['bn'])\n",
        "en_testset = tp.transform(parallel_speeches['en'])\n",
        "gu_testset = tp.transform(parallel_speeches['gu'])\n",
        "hi_testset = tp.transform(parallel_speeches['hi'])\n",
        "kn_testset = tp.transform(parallel_speeches['kn'])\n",
        "ml_testset = tp.transform(parallel_speeches['ml'])\n",
        "mr_testset = tp.transform(parallel_speeches['mr'])\n",
        "or_testset = tp.transform(parallel_speeches['or'])\n",
        "pa_testset = tp.transform(parallel_speeches['pa'])\n",
        "ta_testset = tp.transform(parallel_speeches['ta'])\n",
        "te_testset = tp.transform(parallel_speeches['te'])"
      ]
    },
    {
      "cell_type": "markdown",
      "source": [
        "###**Topic Predictions**\n",
        "\n",
        "*Hindi*"
      ],
      "metadata": {
        "id": "Vq0rRIiuo6Qx"
      }
    },
    {
      "cell_type": "code",
      "execution_count": 27,
      "metadata": {
        "id": "gy-tDYkpcDcT",
        "colab": {
          "base_uri": "https://localhost:8080/"
        },
        "outputId": "064a8a7e-f846-44d5-8e65-1bc5221eb73e"
      },
      "outputs": [
        {
          "output_type": "stream",
          "name": "stderr",
          "text": [
            "Sampling: [100/100]: : 100it [00:48,  2.06it/s]\n",
            "Sampling: [100/100]: : 100it [00:48,  2.06it/s]\n",
            "Sampling: [100/100]: : 100it [00:49,  2.01it/s]\n",
            "Sampling: [100/100]: : 100it [00:50,  1.98it/s]\n",
            "Sampling: [100/100]: : 100it [00:50,  1.96it/s]\n",
            "Sampling: [100/100]: : 100it [00:51,  1.94it/s]\n",
            "Sampling: [100/100]: : 100it [00:51,  1.93it/s]\n",
            "Sampling: [100/100]: : 100it [00:51,  1.92it/s]\n",
            "Sampling: [100/100]: : 100it [00:52,  1.91it/s]\n",
            "Sampling: [100/100]: : 100it [00:53,  1.88it/s]\n",
            "Sampling: [100/100]: : 100it [00:53,  1.86it/s]\n",
            "Sampling: [100/100]: : 100it [00:55,  1.81it/s]\n"
          ]
        }
      ],
      "source": [
        "### HINDI : 25 TOPIC PREDICTIONS ### \n",
        "as_topics_predictions = z_ctm_25_HI.get_thetas(as_testset, n_samples=100) # get all the topic predictions\n",
        "bn_topics_predictions = z_ctm_25_HI.get_thetas(bn_testset, n_samples=100) # get all the topic predictions\n",
        "en_topics_predictions = z_ctm_25_HI.get_thetas(en_testset, n_samples=100) # get all the topic predictions\n",
        "gu_topics_predictions = z_ctm_25_HI.get_thetas(gu_testset, n_samples=100) # get all the topic predictions\n",
        "hi_topics_predictions = z_ctm_25_HI.get_thetas(hi_testset, n_samples=100) # get all the topic predictions\n",
        "kn_topics_predictions = z_ctm_25_HI.get_thetas(kn_testset, n_samples=100) # get all the topic predictions\n",
        "ml_topics_predictions = z_ctm_25_HI.get_thetas(ml_testset, n_samples=100) # get all the topic predictions\n",
        "mr_topics_predictions = z_ctm_25_HI.get_thetas(mr_testset, n_samples=100) # get all the topic predictions\n",
        "or_topics_predictions = z_ctm_25_HI.get_thetas(or_testset, n_samples=100) # get all the topic predictions\n",
        "pa_topics_predictions = z_ctm_25_HI.get_thetas(pa_testset, n_samples=100) # get all the topic predictions\n",
        "ta_topics_predictions = z_ctm_25_HI.get_thetas(ta_testset, n_samples=100) # get all the topic predictions\n",
        "te_topics_predictions = z_ctm_25_HI.get_thetas(te_testset, n_samples=100) # get all the topic predictions\n",
        "\n",
        "topics_25_HI = {'as': as_topics_predictions, 'bn': bn_topics_predictions, \n",
        "             'en': en_topics_predictions, 'gu': gu_topics_predictions,\n",
        "             'hi': hi_topics_predictions, 'kn': kn_topics_predictions,\n",
        "             'ml': ml_topics_predictions, 'mr': mr_topics_predictions,\n",
        "             'or': or_topics_predictions, 'pa': pa_topics_predictions,\n",
        "             'ta': ta_topics_predictions, 'te': te_topics_predictions}"
      ]
    },
    {
      "cell_type": "code",
      "execution_count": 28,
      "metadata": {
        "id": "d5ZFFpd43v6b",
        "colab": {
          "base_uri": "https://localhost:8080/"
        },
        "outputId": "93609367-2c0e-4f07-bacf-113d29c586ae"
      },
      "outputs": [
        {
          "output_type": "stream",
          "name": "stderr",
          "text": [
            "Sampling: [100/100]: : 100it [00:55,  1.80it/s]\n",
            "Sampling: [100/100]: : 100it [00:55,  1.81it/s]\n",
            "Sampling: [100/100]: : 100it [00:56,  1.76it/s]\n",
            "Sampling: [100/100]: : 100it [00:57,  1.73it/s]\n",
            "Sampling: [100/100]: : 100it [00:57,  1.73it/s]\n",
            "Sampling: [100/100]: : 100it [00:59,  1.69it/s]\n",
            "Sampling: [100/100]: : 100it [00:59,  1.69it/s]\n",
            "Sampling: [100/100]: : 100it [00:59,  1.68it/s]\n",
            "Sampling: [100/100]: : 100it [01:00,  1.65it/s]\n",
            "Sampling: [100/100]: : 100it [01:00,  1.65it/s]\n",
            "Sampling: [100/100]: : 100it [01:01,  1.63it/s]\n",
            "Sampling: [100/100]: : 100it [01:01,  1.62it/s]\n"
          ]
        }
      ],
      "source": [
        "### HINDI : 50 TOPIC PREDICTIONS ### \n",
        "as_topics_predictions = z_ctm_50_HI.get_thetas(as_testset, n_samples=100) # get all the topic predictions\n",
        "bn_topics_predictions = z_ctm_50_HI.get_thetas(bn_testset, n_samples=100) # get all the topic predictions\n",
        "en_topics_predictions = z_ctm_50_HI.get_thetas(en_testset, n_samples=100) # get all the topic predictions\n",
        "gu_topics_predictions = z_ctm_50_HI.get_thetas(gu_testset, n_samples=100) # get all the topic predictions\n",
        "hi_topics_predictions = z_ctm_50_HI.get_thetas(hi_testset, n_samples=100) # get all the topic predictions\n",
        "kn_topics_predictions = z_ctm_50_HI.get_thetas(kn_testset, n_samples=100) # get all the topic predictions\n",
        "ml_topics_predictions = z_ctm_50_HI.get_thetas(ml_testset, n_samples=100) # get all the topic predictions\n",
        "mr_topics_predictions = z_ctm_50_HI.get_thetas(mr_testset, n_samples=100) # get all the topic predictions\n",
        "or_topics_predictions = z_ctm_50_HI.get_thetas(or_testset, n_samples=100) # get all the topic predictions\n",
        "pa_topics_predictions = z_ctm_50_HI.get_thetas(pa_testset, n_samples=100) # get all the topic predictions\n",
        "ta_topics_predictions = z_ctm_50_HI.get_thetas(ta_testset, n_samples=100) # get all the topic predictions\n",
        "te_topics_predictions = z_ctm_50_HI.get_thetas(te_testset, n_samples=100) # get all the topic predictions\n",
        "\n",
        "topics_50_HI = {'as': as_topics_predictions, 'bn': bn_topics_predictions, \n",
        "             'en': en_topics_predictions, 'gu': gu_topics_predictions,\n",
        "             'hi': hi_topics_predictions, 'kn': kn_topics_predictions,\n",
        "             'ml': ml_topics_predictions, 'mr': mr_topics_predictions,\n",
        "             'or': or_topics_predictions, 'pa': pa_topics_predictions,\n",
        "             'ta': ta_topics_predictions, 'te': te_topics_predictions}"
      ]
    },
    {
      "cell_type": "markdown",
      "source": [
        "*English*"
      ],
      "metadata": {
        "id": "t6Jom4sqpHyo"
      }
    },
    {
      "cell_type": "code",
      "source": [
        "### ENGLISH : 25 TOPIC PREDICTIONS ### \n",
        "as_topics_predictions = z_ctm_25_EN.get_thetas(as_testset, n_samples=100) # get all the topic predictions\n",
        "bn_topics_predictions = z_ctm_25_EN.get_thetas(bn_testset, n_samples=100) # get all the topic predictions\n",
        "en_topics_predictions = z_ctm_25_EN.get_thetas(en_testset, n_samples=100) # get all the topic predictions\n",
        "gu_topics_predictions = z_ctm_25_EN.get_thetas(gu_testset, n_samples=100) # get all the topic predictions\n",
        "hi_topics_predictions = z_ctm_25_EN.get_thetas(hi_testset, n_samples=100) # get all the topic predictions\n",
        "kn_topics_predictions = z_ctm_25_EN.get_thetas(kn_testset, n_samples=100) # get all the topic predictions\n",
        "ml_topics_predictions = z_ctm_25_EN.get_thetas(ml_testset, n_samples=100) # get all the topic predictions\n",
        "mr_topics_predictions = z_ctm_25_EN.get_thetas(mr_testset, n_samples=100) # get all the topic predictions\n",
        "or_topics_predictions = z_ctm_25_EN.get_thetas(or_testset, n_samples=100) # get all the topic predictions\n",
        "pa_topics_predictions = z_ctm_25_EN.get_thetas(pa_testset, n_samples=100) # get all the topic predictions\n",
        "ta_topics_predictions = z_ctm_25_EN.get_thetas(ta_testset, n_samples=100) # get all the topic predictions\n",
        "te_topics_predictions = z_ctm_25_EN.get_thetas(te_testset, n_samples=100) # get all the topic predictions\n",
        "\n",
        "topics_25_EN = {'as': as_topics_predictions, 'bn': bn_topics_predictions, \n",
        "             'en': en_topics_predictions, 'gu': gu_topics_predictions,\n",
        "             'hi': hi_topics_predictions, 'kn': kn_topics_predictions,\n",
        "             'ml': ml_topics_predictions, 'mr': mr_topics_predictions,\n",
        "             'or': or_topics_predictions, 'pa': pa_topics_predictions,\n",
        "             'ta': ta_topics_predictions, 'te': te_topics_predictions}"
      ],
      "metadata": {
        "id": "8Abhs52LpLt3",
        "colab": {
          "base_uri": "https://localhost:8080/"
        },
        "outputId": "cecb7a68-95ab-4cab-c479-99eefb21e8e8"
      },
      "execution_count": 29,
      "outputs": [
        {
          "output_type": "stream",
          "name": "stderr",
          "text": [
            "Sampling: [100/100]: : 100it [01:02,  1.61it/s]\n",
            "Sampling: [100/100]: : 100it [01:02,  1.59it/s]\n",
            "Sampling: [100/100]: : 100it [01:03,  1.58it/s]\n",
            "Sampling: [100/100]: : 100it [01:04,  1.56it/s]\n",
            "Sampling: [100/100]: : 100it [01:04,  1.54it/s]\n",
            "Sampling: [100/100]: : 100it [01:06,  1.51it/s]\n",
            "Sampling: [100/100]: : 100it [01:06,  1.49it/s]\n",
            "Sampling: [100/100]: : 100it [01:06,  1.50it/s]\n",
            "Sampling: [100/100]: : 100it [01:07,  1.48it/s]\n",
            "Sampling: [100/100]: : 100it [01:08,  1.46it/s]\n",
            "Sampling: [100/100]: : 100it [01:08,  1.45it/s]\n",
            "Sampling: [100/100]: : 100it [01:09,  1.44it/s]\n"
          ]
        }
      ]
    },
    {
      "cell_type": "code",
      "source": [
        "### ENGLISH : 50 TOPIC PREDICTIONS ### \n",
        "as_topics_predictions = z_ctm_50_EN.get_thetas(as_testset, n_samples=100) # get all the topic predictions\n",
        "bn_topics_predictions = z_ctm_50_EN.get_thetas(bn_testset, n_samples=100) # get all the topic predictions\n",
        "en_topics_predictions = z_ctm_50_EN.get_thetas(en_testset, n_samples=100) # get all the topic predictions\n",
        "gu_topics_predictions = z_ctm_50_EN.get_thetas(gu_testset, n_samples=100) # get all the topic predictions\n",
        "hi_topics_predictions = z_ctm_50_EN.get_thetas(hi_testset, n_samples=100) # get all the topic predictions\n",
        "kn_topics_predictions = z_ctm_50_EN.get_thetas(kn_testset, n_samples=100) # get all the topic predictions\n",
        "ml_topics_predictions = z_ctm_50_EN.get_thetas(ml_testset, n_samples=100) # get all the topic predictions\n",
        "mr_topics_predictions = z_ctm_50_EN.get_thetas(mr_testset, n_samples=100) # get all the topic predictions\n",
        "or_topics_predictions = z_ctm_50_EN.get_thetas(or_testset, n_samples=100) # get all the topic predictions\n",
        "pa_topics_predictions = z_ctm_50_EN.get_thetas(pa_testset, n_samples=100) # get all the topic predictions\n",
        "ta_topics_predictions = z_ctm_50_EN.get_thetas(ta_testset, n_samples=100) # get all the topic predictions\n",
        "te_topics_predictions = z_ctm_50_EN.get_thetas(te_testset, n_samples=100) # get all the topic predictions\n",
        "\n",
        "topics_50_EN = {'as': as_topics_predictions, 'bn': bn_topics_predictions, \n",
        "             'en': en_topics_predictions, 'gu': gu_topics_predictions,\n",
        "             'hi': hi_topics_predictions, 'kn': kn_topics_predictions,\n",
        "             'ml': ml_topics_predictions, 'mr': mr_topics_predictions,\n",
        "             'or': or_topics_predictions, 'pa': pa_topics_predictions,\n",
        "             'ta': ta_topics_predictions, 'te': te_topics_predictions}"
      ],
      "metadata": {
        "id": "QnJLxNixpL9R",
        "colab": {
          "base_uri": "https://localhost:8080/"
        },
        "outputId": "fd288a2f-4385-45a4-df13-f42dcbe950b4"
      },
      "execution_count": 30,
      "outputs": [
        {
          "output_type": "stream",
          "name": "stderr",
          "text": [
            "Sampling: [100/100]: : 100it [01:10,  1.42it/s]\n",
            "Sampling: [100/100]: : 100it [01:09,  1.43it/s]\n",
            "Sampling: [100/100]: : 100it [01:10,  1.42it/s]\n",
            "Sampling: [100/100]: : 100it [01:11,  1.39it/s]\n",
            "Sampling: [100/100]: : 100it [01:12,  1.38it/s]\n",
            "Sampling: [100/100]: : 100it [01:13,  1.35it/s]\n",
            "Sampling: [100/100]: : 100it [01:17,  1.30it/s]\n",
            "Sampling: [100/100]: : 100it [01:15,  1.32it/s]\n",
            "Sampling: [100/100]: : 100it [01:15,  1.33it/s]\n",
            "Sampling: [100/100]: : 100it [01:15,  1.32it/s]\n",
            "Sampling: [100/100]: : 100it [01:16,  1.30it/s]\n",
            "Sampling: [100/100]: : 100it [01:17,  1.29it/s]\n"
          ]
        }
      ]
    },
    {
      "cell_type": "markdown",
      "metadata": {
        "id": "1EyO4qpXm4Nj"
      },
      "source": [
        "### **Quantitative Evaluation**"
      ]
    },
    {
      "cell_type": "code",
      "execution_count": 31,
      "metadata": {
        "id": "PUHdC6ztmzr5"
      },
      "outputs": [],
      "source": [
        "# Import metrics\n",
        "from contextualized_topic_models.evaluation.measures import Matches, KLDivergence, CentroidDistance\n",
        "import warnings\n",
        "warnings.filterwarnings('ignore')"
      ]
    },
    {
      "cell_type": "markdown",
      "metadata": {
        "id": "rJvWmhANeWea"
      },
      "source": [
        "1. **Matches**\n",
        "\n",
        "> Matches is the % of times the predicted topic for the non-English test document is the same as for the respective test document in English. The higher the scores, the better."
      ]
    },
    {
      "cell_type": "markdown",
      "source": [
        "*Hindi*"
      ],
      "metadata": {
        "id": "X0BmiGNcrVKD"
      }
    },
    {
      "cell_type": "code",
      "execution_count": 32,
      "metadata": {
        "id": "aF2GPx1_5Mal",
        "colab": {
          "base_uri": "https://localhost:8080/"
        },
        "outputId": "1d0fa183-d9cb-4b99-9753-08edc9bee07c"
      },
      "outputs": [
        {
          "output_type": "execute_result",
          "data": {
            "text/plain": [
              "{'as': 0.07875,\n",
              " 'bn': 0.085,\n",
              " 'en': 0.03,\n",
              " 'gu': 0.095,\n",
              " 'kn': 0.09625,\n",
              " 'ml': 0.04,\n",
              " 'mr': 0.05625,\n",
              " 'or': 0.12875,\n",
              " 'pa': 0.12125,\n",
              " 'ta': 0.0975,\n",
              " 'te': 0.065}"
            ]
          },
          "metadata": {},
          "execution_count": 32
        }
      ],
      "source": [
        "# HINDI : Matches for 25 topics\n",
        "hi_as_matches = Matches(topics_25_HI['hi'], topics_25_HI['as'])\n",
        "hi_bn_matches = Matches(topics_25_HI['hi'], topics_25_HI['bn'])\n",
        "hi_en_matches = Matches(topics_25_HI['hi'], topics_25_HI['en'])\n",
        "hi_gu_matches = Matches(topics_25_HI['hi'], topics_25_HI['gu'])\n",
        "hi_kn_matches = Matches(topics_25_HI['hi'], topics_25_HI['kn'])\n",
        "hi_ml_matches = Matches(topics_25_HI['hi'], topics_25_HI['ml'])\n",
        "hi_mr_matches = Matches(topics_25_HI['hi'], topics_25_HI['mr'])\n",
        "hi_or_matches = Matches(topics_25_HI['hi'], topics_25_HI['or'])\n",
        "hi_pa_matches = Matches(topics_25_HI['hi'], topics_25_HI['pa'])\n",
        "hi_ta_matches = Matches(topics_25_HI['hi'], topics_25_HI['ta'])\n",
        "hi_te_matches = Matches(topics_25_HI['hi'], topics_25_HI['te'])\n",
        "\n",
        "\n",
        "matches_25_HI = {'as': hi_as_matches.score(), 'bn': hi_bn_matches.score(), \n",
        "             'en': hi_en_matches.score(), 'gu': hi_gu_matches.score(),\n",
        "             'kn': hi_kn_matches.score(),\n",
        "             'ml': hi_ml_matches.score(), 'mr': hi_mr_matches.score(),\n",
        "             'or': hi_or_matches.score(), 'pa': hi_pa_matches.score(),\n",
        "             'ta': hi_ta_matches.score(), 'te': hi_te_matches.score()}\n",
        "matches_25_HI"
      ]
    },
    {
      "cell_type": "code",
      "execution_count": 33,
      "metadata": {
        "id": "WLw8Xkt5dElD",
        "colab": {
          "base_uri": "https://localhost:8080/"
        },
        "outputId": "068242d5-5cbf-4395-96b1-10dc51faca2f"
      },
      "outputs": [
        {
          "output_type": "execute_result",
          "data": {
            "text/plain": [
              "{'as': 0.025,\n",
              " 'bn': 0.035,\n",
              " 'en': 0.03125,\n",
              " 'gu': 0.0375,\n",
              " 'kn': 0.05375,\n",
              " 'ml': 0.00875,\n",
              " 'mr': 0.00875,\n",
              " 'or': 0.04,\n",
              " 'pa': 0.11,\n",
              " 'ta': 0.02625,\n",
              " 'te': 0.045}"
            ]
          },
          "metadata": {},
          "execution_count": 33
        }
      ],
      "source": [
        "# HINDI : Matches for 50 topics\n",
        "hi_as_matches = Matches(topics_50_HI['hi'], topics_50_HI['as'])\n",
        "hi_bn_matches = Matches(topics_50_HI['hi'], topics_50_HI['bn'])\n",
        "hi_en_matches = Matches(topics_50_HI['hi'], topics_50_HI['en'])\n",
        "hi_gu_matches = Matches(topics_50_HI['hi'], topics_50_HI['gu'])\n",
        "hi_kn_matches = Matches(topics_50_HI['hi'], topics_50_HI['kn'])\n",
        "hi_ml_matches = Matches(topics_50_HI['hi'], topics_50_HI['ml'])\n",
        "hi_mr_matches = Matches(topics_50_HI['hi'], topics_50_HI['mr'])\n",
        "hi_or_matches = Matches(topics_50_HI['hi'], topics_50_HI['or'])\n",
        "hi_pa_matches = Matches(topics_50_HI['hi'], topics_50_HI['pa'])\n",
        "hi_ta_matches = Matches(topics_50_HI['hi'], topics_50_HI['ta'])\n",
        "hi_te_matches = Matches(topics_50_HI['hi'], topics_50_HI['te'])\n",
        "\n",
        "\n",
        "matches_50_HI = {'as': hi_as_matches.score(), 'bn': hi_bn_matches.score(), \n",
        "             'en': hi_en_matches.score(), 'gu': hi_gu_matches.score(),\n",
        "             'kn': hi_kn_matches.score(),\n",
        "             'ml': hi_ml_matches.score(), 'mr': hi_mr_matches.score(),\n",
        "             'or': hi_or_matches.score(), 'pa': hi_pa_matches.score(),\n",
        "             'ta': hi_ta_matches.score(), 'te': hi_te_matches.score()}\n",
        "matches_50_HI"
      ]
    },
    {
      "cell_type": "markdown",
      "source": [
        "*English*"
      ],
      "metadata": {
        "id": "o862P3oerW-8"
      }
    },
    {
      "cell_type": "code",
      "source": [
        "# ENGLISH : Matches for 25 topics\n",
        "en_as_matches = Matches(topics_25_EN['en'], topics_25_EN['as'])\n",
        "en_bn_matches = Matches(topics_25_EN['en'], topics_25_EN['bn'])\n",
        "en_hi_matches = Matches(topics_25_EN['en'], topics_25_EN['hi'])\n",
        "en_gu_matches = Matches(topics_25_EN['en'], topics_25_EN['gu'])\n",
        "en_kn_matches = Matches(topics_25_EN['en'], topics_25_EN['kn'])\n",
        "en_ml_matches = Matches(topics_25_EN['en'], topics_25_EN['ml'])\n",
        "en_mr_matches = Matches(topics_25_EN['en'], topics_25_EN['mr'])\n",
        "en_or_matches = Matches(topics_25_EN['en'], topics_25_EN['or'])\n",
        "en_pa_matches = Matches(topics_25_EN['en'], topics_25_EN['pa'])\n",
        "en_ta_matches = Matches(topics_25_EN['en'], topics_25_EN['ta'])\n",
        "en_te_matches = Matches(topics_25_EN['en'], topics_25_EN['te'])\n",
        "\n",
        "\n",
        "matches_25_EN = {'as': en_as_matches.score(), 'bn': en_bn_matches.score(), \n",
        "             'en': en_hi_matches.score(), 'gu': en_gu_matches.score(),\n",
        "             'kn': en_kn_matches.score(),\n",
        "             'ml': en_ml_matches.score(), 'mr': en_mr_matches.score(),\n",
        "             'or': en_or_matches.score(), 'pa': en_pa_matches.score(),\n",
        "             'ta': en_ta_matches.score(), 'te': en_te_matches.score()}\n",
        "matches_25_EN"
      ],
      "metadata": {
        "id": "0-D9lipprab7",
        "colab": {
          "base_uri": "https://localhost:8080/"
        },
        "outputId": "844adb49-1563-4c64-ab3b-ed70f557f768"
      },
      "execution_count": 34,
      "outputs": [
        {
          "output_type": "execute_result",
          "data": {
            "text/plain": [
              "{'as': 0.0975,\n",
              " 'bn': 0.15875,\n",
              " 'en': 0.1275,\n",
              " 'gu': 0.17375,\n",
              " 'kn': 0.0675,\n",
              " 'ml': 0.14625,\n",
              " 'mr': 0.1425,\n",
              " 'or': 0.16125,\n",
              " 'pa': 0.1625,\n",
              " 'ta': 0.155,\n",
              " 'te': 0.155}"
            ]
          },
          "metadata": {},
          "execution_count": 34
        }
      ]
    },
    {
      "cell_type": "code",
      "source": [
        "# ENGLISH : Matches for 50 topics\n",
        "en_as_matches = Matches(topics_50_EN['en'], topics_50_EN['as'])\n",
        "en_bn_matches = Matches(topics_50_EN['en'], topics_50_EN['bn'])\n",
        "en_en_matches = Matches(topics_50_EN['en'], topics_50_EN['hi'])\n",
        "en_gu_matches = Matches(topics_50_EN['en'], topics_50_EN['gu'])\n",
        "en_kn_matches = Matches(topics_50_EN['en'], topics_50_EN['kn'])\n",
        "en_ml_matches = Matches(topics_50_EN['en'], topics_50_EN['ml'])\n",
        "en_mr_matches = Matches(topics_50_EN['en'], topics_50_EN['mr'])\n",
        "en_or_matches = Matches(topics_50_EN['en'], topics_50_EN['or'])\n",
        "en_pa_matches = Matches(topics_50_EN['en'], topics_50_EN['pa'])\n",
        "en_ta_matches = Matches(topics_50_EN['en'], topics_50_EN['ta'])\n",
        "en_te_matches = Matches(topics_50_EN['en'], topics_50_EN['te'])\n",
        "\n",
        "\n",
        "matches_50_EN = {'as': en_as_matches.score(), 'bn': en_bn_matches.score(), \n",
        "             'en': en_hi_matches.score(), 'gu': en_gu_matches.score(),\n",
        "             'kn': en_kn_matches.score(),\n",
        "             'ml': en_ml_matches.score(), 'mr': en_mr_matches.score(),\n",
        "             'or': en_or_matches.score(), 'pa': en_pa_matches.score(),\n",
        "             'ta': en_ta_matches.score(), 'te': en_te_matches.score()}\n",
        "matches_50_EN"
      ],
      "metadata": {
        "id": "3REUgwm-ryeG",
        "colab": {
          "base_uri": "https://localhost:8080/"
        },
        "outputId": "3d52bc3a-8e3e-43e1-b8ed-1b699ac340cc"
      },
      "execution_count": 35,
      "outputs": [
        {
          "output_type": "execute_result",
          "data": {
            "text/plain": [
              "{'as': 0.03625,\n",
              " 'bn': 0.04625,\n",
              " 'en': 0.1275,\n",
              " 'gu': 0.0675,\n",
              " 'kn': 0.04875,\n",
              " 'ml': 0.055,\n",
              " 'mr': 0.0525,\n",
              " 'or': 0.05125,\n",
              " 'pa': 0.03,\n",
              " 'ta': 0.02125,\n",
              " 'te': 0.05}"
            ]
          },
          "metadata": {},
          "execution_count": 35
        }
      ]
    },
    {
      "cell_type": "markdown",
      "metadata": {
        "id": "PysLdKoyZ-fS"
      },
      "source": [
        "2. **Distributional Similarity**\n",
        "> Compute the KL divergence between the predicted topic distribution on the test document and the same test document in English. Lower scores are better, indicating that the distributions do not differ by much."
      ]
    },
    {
      "cell_type": "markdown",
      "source": [
        "*Hindi*"
      ],
      "metadata": {
        "id": "0qDKyNdesFO_"
      }
    },
    {
      "cell_type": "code",
      "execution_count": 36,
      "metadata": {
        "id": "nc8TYrOCnUt6",
        "colab": {
          "base_uri": "https://localhost:8080/"
        },
        "outputId": "c376b8a0-3aee-47a1-fe29-630350fe8f9e"
      },
      "outputs": [
        {
          "output_type": "execute_result",
          "data": {
            "text/plain": [
              "{'as': 2.2718922238104735,\n",
              " 'bn': 0.9802160009645821,\n",
              " 'en': 4.8304290264659775,\n",
              " 'gu': 0.9515002808584603,\n",
              " 'kn': 1.0429485205260043,\n",
              " 'ml': 0.9766094110370909,\n",
              " 'mr': 2.296082246450015,\n",
              " 'or': 1.6378232688244379,\n",
              " 'pa': 0.7115278698301474,\n",
              " 'ta': 1.0719383978426031,\n",
              " 'te': 3.613706119369543}"
            ]
          },
          "metadata": {},
          "execution_count": 36
        }
      ],
      "source": [
        "# HINDI : KL Divergence for 25 topics\n",
        "hi_as_kl = KLDivergence(topics_25_HI['hi'], topics_25_HI['as'])\n",
        "hi_bn_kl = KLDivergence(topics_25_HI['hi'], topics_25_HI['bn'])\n",
        "hi_en_kl = KLDivergence(topics_25_HI['hi'], topics_25_HI['en'])\n",
        "hi_gu_kl = KLDivergence(topics_25_HI['hi'], topics_25_HI['gu'])\n",
        "hi_kn_kl = KLDivergence(topics_25_HI['hi'], topics_25_HI['kn'])\n",
        "hi_ml_kl = KLDivergence(topics_25_HI['hi'], topics_25_HI['ml'])\n",
        "hi_mr_kl = KLDivergence(topics_25_HI['hi'], topics_25_HI['mr'])\n",
        "hi_or_kl = KLDivergence(topics_25_HI['hi'], topics_25_HI['or'])\n",
        "hi_pa_kl = KLDivergence(topics_25_HI['hi'], topics_25_HI['pa'])\n",
        "hi_ta_kl = KLDivergence(topics_25_HI['hi'], topics_25_HI['ta'])\n",
        "hi_te_kl = KLDivergence(topics_25_HI['hi'], topics_25_HI['te'])\n",
        "\n",
        "kl_divergence_25_HI = {'as': hi_as_kl.score(), 'bn': hi_bn_kl.score(), \n",
        "             'en': hi_en_kl.score(), 'gu': hi_gu_kl.score(),\n",
        "             'kn': hi_kn_kl.score(),\n",
        "             'ml': hi_ml_kl.score(), 'mr': hi_mr_kl.score(),\n",
        "             'or': hi_or_kl.score(), 'pa': hi_pa_kl.score(),\n",
        "             'ta': hi_ta_kl.score(), 'te': hi_te_kl.score()}\n",
        "\n",
        "kl_divergence_25_HI"
      ]
    },
    {
      "cell_type": "code",
      "execution_count": 37,
      "metadata": {
        "id": "OztmlUHK5M8s",
        "colab": {
          "base_uri": "https://localhost:8080/"
        },
        "outputId": "e70c54e0-f322-48b9-e545-5f49e2fea70e"
      },
      "outputs": [
        {
          "output_type": "execute_result",
          "data": {
            "text/plain": [
              "{'as': 2.5962315837631342,\n",
              " 'bn': 1.1240947065686013,\n",
              " 'en': 5.4491569728104015,\n",
              " 'gu': 1.7490075383843333,\n",
              " 'kn': 2.0727227160649244,\n",
              " 'ml': 1.3904215514920422,\n",
              " 'mr': 2.5537706608346618,\n",
              " 'or': 1.935250316802297,\n",
              " 'pa': 0.766282880007971,\n",
              " 'ta': 2.186131940210187,\n",
              " 'te': 2.14523527603074}"
            ]
          },
          "metadata": {},
          "execution_count": 37
        }
      ],
      "source": [
        "# HINDI : KL Divergence for 50 topics\n",
        "hi_as_kl = KLDivergence(topics_50_HI['hi'], topics_50_HI['as'])\n",
        "hi_bn_kl = KLDivergence(topics_50_HI['hi'], topics_50_HI['bn'])\n",
        "hi_en_kl = KLDivergence(topics_50_HI['hi'], topics_50_HI['en'])\n",
        "hi_gu_kl = KLDivergence(topics_50_HI['hi'], topics_50_HI['gu'])\n",
        "hi_kn_kl = KLDivergence(topics_50_HI['hi'], topics_50_HI['kn'])\n",
        "hi_ml_kl = KLDivergence(topics_50_HI['hi'], topics_50_HI['ml'])\n",
        "hi_mr_kl = KLDivergence(topics_50_HI['hi'], topics_50_HI['mr'])\n",
        "hi_or_kl = KLDivergence(topics_50_HI['hi'], topics_50_HI['or'])\n",
        "hi_pa_kl = KLDivergence(topics_50_HI['hi'], topics_50_HI['pa'])\n",
        "hi_ta_kl = KLDivergence(topics_50_HI['hi'], topics_50_HI['ta'])\n",
        "hi_te_kl = KLDivergence(topics_50_HI['hi'], topics_50_HI['te'])\n",
        "\n",
        "kl_divergence_50_HI = {'as': hi_as_kl.score(), 'bn': hi_bn_kl.score(), \n",
        "             'en': hi_en_kl.score(), 'gu': hi_gu_kl.score(),\n",
        "             'kn': hi_kn_kl.score(),\n",
        "             'ml': hi_ml_kl.score(), 'mr': hi_mr_kl.score(),\n",
        "             'or': hi_or_kl.score(), 'pa': hi_pa_kl.score(),\n",
        "             'ta': hi_ta_kl.score(), 'te': hi_te_kl.score()}\n",
        "\n",
        "kl_divergence_50_HI"
      ]
    },
    {
      "cell_type": "markdown",
      "source": [
        "*English*"
      ],
      "metadata": {
        "id": "JyxUuP1bsG_2"
      }
    },
    {
      "cell_type": "code",
      "source": [
        "# ENGLISH : KL Divergence for 25 topics\n",
        "en_as_kl = KLDivergence(topics_25_EN['en'], topics_25_EN['as'])\n",
        "en_bn_kl = KLDivergence(topics_25_EN['en'], topics_25_EN['bn'])\n",
        "en_hi_kl = KLDivergence(topics_25_EN['en'], topics_25_EN['hi'])\n",
        "en_gu_kl = KLDivergence(topics_25_EN['en'], topics_25_EN['gu'])\n",
        "en_kn_kl = KLDivergence(topics_25_EN['en'], topics_25_EN['kn'])\n",
        "en_ml_kl = KLDivergence(topics_25_EN['en'], topics_25_EN['ml'])\n",
        "en_mr_kl = KLDivergence(topics_25_EN['en'], topics_25_EN['mr'])\n",
        "en_or_kl = KLDivergence(topics_25_EN['en'], topics_25_EN['or'])\n",
        "en_pa_kl = KLDivergence(topics_25_EN['en'], topics_25_EN['pa'])\n",
        "en_ta_kl = KLDivergence(topics_25_EN['en'], topics_25_EN['ta'])\n",
        "en_te_kl = KLDivergence(topics_25_EN['en'], topics_25_EN['te'])\n",
        "\n",
        "kl_divergence_25_EN = {'as': en_as_kl.score(), 'bn': en_bn_kl.score(), \n",
        "             'hi': en_hi_kl.score(), 'gu': en_gu_kl.score(),\n",
        "             'kn': en_kn_kl.score(),\n",
        "             'ml': en_ml_kl.score(), 'mr': en_mr_kl.score(),\n",
        "             'or': en_or_kl.score(), 'pa': en_pa_kl.score(),\n",
        "             'ta': en_ta_kl.score(), 'te': en_te_kl.score()}\n",
        "\n",
        "kl_divergence_25_EN"
      ],
      "metadata": {
        "id": "ieStOUDKsJMO",
        "colab": {
          "base_uri": "https://localhost:8080/"
        },
        "outputId": "4b458850-7b1f-4744-8b95-8c9a44b58518"
      },
      "execution_count": 38,
      "outputs": [
        {
          "output_type": "execute_result",
          "data": {
            "text/plain": [
              "{'as': 0.5265391373111317,\n",
              " 'bn': 0.5988370824292292,\n",
              " 'gu': 0.5447944117591582,\n",
              " 'hi': 0.6425604412181875,\n",
              " 'kn': 0.542014591528794,\n",
              " 'ml': 0.650633403098266,\n",
              " 'mr': 0.6328714856581701,\n",
              " 'or': 0.829748976011655,\n",
              " 'pa': 0.6187952535476482,\n",
              " 'ta': 0.7361958493256904,\n",
              " 'te': 0.5867613031182853}"
            ]
          },
          "metadata": {},
          "execution_count": 38
        }
      ]
    },
    {
      "cell_type": "code",
      "source": [
        "# ENGLISH : KL Divergence for 50 topics\n",
        "en_as_kl = KLDivergence(topics_50_EN['en'], topics_50_EN['as'])\n",
        "en_bn_kl = KLDivergence(topics_50_EN['en'], topics_50_EN['bn'])\n",
        "en_hi_kl = KLDivergence(topics_50_EN['en'], topics_50_EN['hi'])\n",
        "en_gu_kl = KLDivergence(topics_50_EN['en'], topics_50_EN['gu'])\n",
        "en_kn_kl = KLDivergence(topics_50_EN['en'], topics_50_EN['kn'])\n",
        "en_ml_kl = KLDivergence(topics_50_EN['en'], topics_50_EN['ml'])\n",
        "en_mr_kl = KLDivergence(topics_50_EN['en'], topics_50_EN['mr'])\n",
        "en_or_kl = KLDivergence(topics_50_EN['en'], topics_50_EN['or'])\n",
        "en_pa_kl = KLDivergence(topics_50_EN['en'], topics_50_EN['pa'])\n",
        "en_ta_kl = KLDivergence(topics_50_EN['en'], topics_50_EN['ta'])\n",
        "en_te_kl = KLDivergence(topics_50_EN['en'], topics_50_EN['te'])\n",
        "\n",
        "kl_divergence_50_EN = {'as': en_as_kl.score(), 'bn': en_bn_kl.score(), \n",
        "             'hi': en_hi_kl.score(), 'gu': en_gu_kl.score(),\n",
        "             'kn': en_kn_kl.score(),\n",
        "             'ml': en_ml_kl.score(), 'mr': en_mr_kl.score(),\n",
        "             'or': en_or_kl.score(), 'pa': en_pa_kl.score(),\n",
        "             'ta': en_ta_kl.score(), 'te': en_te_kl.score()}\n",
        "\n",
        "kl_divergence_50_EN"
      ],
      "metadata": {
        "id": "ierbd5Uws0T1",
        "colab": {
          "base_uri": "https://localhost:8080/"
        },
        "outputId": "911d0574-6297-49c9-921c-5977a3633e9e"
      },
      "execution_count": 39,
      "outputs": [
        {
          "output_type": "execute_result",
          "data": {
            "text/plain": [
              "{'as': 0.6308352400043944,\n",
              " 'bn': 0.7247417437110516,\n",
              " 'gu': 0.7044457907872963,\n",
              " 'hi': 0.6387838731598705,\n",
              " 'kn': 0.6308982007015602,\n",
              " 'ml': 0.708667324245275,\n",
              " 'mr': 0.766975843543824,\n",
              " 'or': 0.7348522676792747,\n",
              " 'pa': 0.7136023122009645,\n",
              " 'ta': 0.7839808569062828,\n",
              " 'te': 0.5929437940764084}"
            ]
          },
          "metadata": {},
          "execution_count": 39
        }
      ]
    },
    {
      "cell_type": "markdown",
      "metadata": {
        "id": "UzpXFJ0wZ5-2"
      },
      "source": [
        "3. **Centroid Embeddings**\n",
        "> To also account for similar but not exactly equal topic predictions, we compute the centroid embeddings of the 5 words describing the predicted topic for both English and non-English documents. Then we compute the cosine similarity between those two centroids (CD)."
      ]
    },
    {
      "cell_type": "code",
      "execution_count": 40,
      "metadata": {
        "id": "AbXgKs-u5NyD"
      },
      "outputs": [],
      "source": [
        "from gensim.corpora.dictionary import Dictionary\n",
        "from gensim.models.coherencemodel import CoherenceModel\n",
        "from gensim.models import KeyedVectors\n",
        "import gensim.downloader as api\n",
        "from scipy.spatial.distance import cosine\n",
        "import abc\n",
        "\n",
        "class CD(CentroidDistance):\n",
        "    \"\"\"Override author's function to upgrade compatibility with Gensim 4.0.0.\n",
        "    See https://github.com/RaRe-Technologies/gensim/wiki/Migrating-from-Gensim-3.x-to-4.\"\"\"\n",
        "\n",
        "    def get_centroid(self, word_list):\n",
        "        vector_list = []\n",
        "        for word in word_list:\n",
        "            if word in self.wv:   # changed from self.wv.vocab to self.wv as in Gensim 4.0.0\n",
        "                vector_list.append(self.wv.get_vector(word))\n",
        "        vec = sum(vector_list)\n",
        "        return vec / np.linalg.norm(vec)"
      ]
    },
    {
      "cell_type": "markdown",
      "source": [
        "*Hindi*"
      ],
      "metadata": {
        "id": "2Hp8OuALtmOF"
      }
    },
    {
      "cell_type": "code",
      "execution_count": null,
      "metadata": {
        "id": "CjnYIIng5MyA",
        "colab": {
          "base_uri": "https://localhost:8080/"
        },
        "outputId": "76cd1294-0e60-487a-f50b-a66ee11a8850"
      },
      "outputs": [
        {
          "output_type": "stream",
          "name": "stdout",
          "text": [
            "[==================================================] 100.0% 1662.8/1662.8MB downloaded\n"
          ]
        }
      ],
      "source": [
        "# HINDI : Centroid Embeddings for 25 topics\n",
        "cd_25_HI = {}\n",
        "\n",
        "for key in topics_25_HI.keys():\n",
        "  if key == 'hi':\n",
        "    continue\n",
        "  topic = topics_25_HI[key]\n",
        "  cd = CD(doc_distribution_original_language = topics_25_HI['hi'], \n",
        "          doc_distribution_unseen_language = topic, \n",
        "          topics = z_ctm_25_HI.get_topic_lists(25),\n",
        "          topk = 5)\n",
        "  \n",
        "  cd_25_HI[key] = cd.score()\n",
        "\n",
        "cd_25_HI"
      ]
    },
    {
      "cell_type": "code",
      "execution_count": null,
      "metadata": {
        "id": "WXRBx6VjW-5q"
      },
      "outputs": [],
      "source": [
        "# HINDI : Centroid Embeddings for 50 topics\n",
        "cd_50_HI = {}\n",
        "\n",
        "for key in topics_50_HI.keys():\n",
        "  if key == 'hi':\n",
        "    continue\n",
        "  topic = topics_50_HI[key]\n",
        "  cd = CD(doc_distribution_original_language = topics_50_HI['hi'], \n",
        "          doc_distribution_unseen_language = topic, \n",
        "          topics = z_ctm_50_HI.get_topic_lists(50),\n",
        "          topk = 5)\n",
        "  \n",
        "  cd_50_HI[key] = cd.score()\n",
        "  cd = None\n",
        "\n",
        "cd_50_HI"
      ]
    },
    {
      "cell_type": "markdown",
      "source": [
        "*English*"
      ],
      "metadata": {
        "id": "Bil_aX4TtoHu"
      }
    },
    {
      "cell_type": "code",
      "source": [
        "# ENGLISH : Centroid Embeddings for 25 topics\n",
        "cd_25_EN = {}\n",
        "\n",
        "for key in topics_25_EN.keys():\n",
        "  if key == 'en':\n",
        "    continue\n",
        "  topic = topics_25_EN[key]\n",
        "  cd = CD(doc_distribution_original_language = topics_25_EN['en'], \n",
        "          doc_distribution_unseen_language = topic, \n",
        "          topics = z_ctm_25_EN.get_topic_lists(25),\n",
        "          topk = 5)\n",
        "  \n",
        "  cd_25_EN[key] = cd.score()\n",
        "\n",
        "cd_25_EN"
      ],
      "metadata": {
        "id": "svDMq5Egtrb5"
      },
      "execution_count": null,
      "outputs": []
    },
    {
      "cell_type": "code",
      "source": [
        "# ENGLISH : Centroid Embeddings for 50 topics\n",
        "cd_50_EN = {}\n",
        "\n",
        "for key in topics_50_EN.keys():\n",
        "  if key == 'hi':\n",
        "    continue\n",
        "  topic = topics_50_EN[key]\n",
        "  cd = CD(doc_distribution_original_language = topics_50_EN['en'], \n",
        "          doc_distribution_unseen_language = topic, \n",
        "          topics = z_ctm_50_EN.get_topic_lists(50),\n",
        "          topk = 5)\n",
        "  \n",
        "  cd_50_EN[key] = cd.score()\n",
        "  cd = None\n",
        "\n",
        "cd_50_EN"
      ],
      "metadata": {
        "id": "9knOxB92tsmZ"
      },
      "execution_count": null,
      "outputs": []
    },
    {
      "cell_type": "code",
      "execution_count": null,
      "metadata": {
        "id": "obeCKsgJ9gf4"
      },
      "outputs": [],
      "source": [
        "# Store Metrics\n",
        "metrics = {\n",
        "          \"Hindi\" : [{\n",
        "                    \"Mat25\": matches_25_HI,\n",
        "                    \"KL25\": kl_divergence_25_HI, \n",
        "                    \"CD25\": cd_25_HI, \n",
        "                    \"Mat50\": matches_50_HI, \n",
        "                    \"KL50\": kl_divergence_50_HI,\n",
        "                    \"CD50\": cd_50_HI\n",
        "                    }],\n",
        "\n",
        "          \"English\": [{\n",
        "                    \"Mat25\": matches_25_EN,\n",
        "                    \"KL25\": kl_divergence_25_EN, \n",
        "                    \"CD25\": cd_25_EN, \n",
        "                    \"Mat50\": matches_50_EN, \n",
        "                    \"KL50\": kl_divergence_50_EN,\n",
        "                    \"CD50\": cd_50_EN\n",
        "                    }]\n",
        "          }\n",
        "with open(\"metrics_samescript.txt\", 'wb') as F:\n",
        "  pickle.dump(metrics, F)\n",
        "\n",
        "metrics"
      ]
    },
    {
      "cell_type": "markdown",
      "source": [
        "# Evaluation Results"
      ],
      "metadata": {
        "id": "lzAMmhgGpTb5"
      }
    },
    {
      "cell_type": "code",
      "source": [
        "# Show results\n",
        "metrics = {\"Hindi\" : \n",
        "           \n",
        "           {\"Mat25\": matches_25_HI,\n",
        "           \"KL25\": kl_divergence_25_HI, \n",
        "           \"CD25\": cd_25_HI, \n",
        "           \"Mat50\": matches_50_HI, \n",
        "           \"KL50\": kl_divergence_50_HI,\n",
        "           \"CD50\": cd_50_HI},\n",
        "           \n",
        "           \"English\" : \n",
        "           {\"Mat25\": matches_25_EN,\n",
        "           \"KL25\": kl_divergence_25_EN, \n",
        "           \"CD25\": cd_25_EN, \n",
        "           \"Mat50\": matches_50_EN, \n",
        "           \"KL50\": kl_divergence_50_EN,\n",
        "           \"CD50\": cd_50_EN}\n",
        "           }\n",
        "\n",
        "metrics = pd.DataFrame.from_dict(metrics, orient='columns') \n",
        "print(\"Match, KL, and Centroid Similarity for 25 and 50 topics on various languages on PMIndia Corpus\")\n",
        "metrics"
      ],
      "metadata": {
        "id": "4wOmqj7DsXs_"
      },
      "execution_count": null,
      "outputs": []
    },
    {
      "cell_type": "code",
      "source": [
        "# from sklearn.feature_extraction.text import CountVectorizer\n",
        "# import string\n",
        "# from nltk.corpus import stopwords as stop_words\n",
        "# from gensim.utils import deaccent\n",
        "# import warnings\n",
        "\n",
        "# class WhiteSpacePreprocessingStopwords(WhiteSpacePreprocessingStopwords):\n",
        "#     \"\"\"\n",
        "#     Overriden author's original code to keep accents during preprocessing.\n",
        "#     Provides a very simple preprocessing script that filters infrequent tokens from text\n",
        "#     \"\"\"\n",
        "#     def preprocess(self):\n",
        "#         \"\"\"\n",
        "#         Note that if after filtering some documents do not contain words we remove them. That is why we return also the\n",
        "#         list of unpreprocessed documents.\n",
        "#         :return: preprocessed documents, unpreprocessed documents and the vocabulary list\n",
        "#         \"\"\"\n",
        "#         import transformers\n",
        "#         from indicnlp.tokenize import indic_tokenize \n",
        "#         from inltk.inltk import get_embedding_vectors\n",
        "#         from inltk.inltk import remove_foreign_languages\n",
        "#         from inltk.inltk import tokenize\n",
        "\n",
        "#         LANG = 'hi'\n",
        "\n",
        "#         # Add custom tokenizer to keep accents\n",
        "#         preprocessed_docs_tmp = self.documents\n",
        "#         preprocessed_docs_tmp = [doc.lower() for doc in preprocessed_docs_tmp]\n",
        "#         preprocessed_docs_tmp = [doc.translate(\n",
        "#             str.maketrans(string.punctuation, ' ' * len(string.punctuation))) for doc in preprocessed_docs_tmp]\n",
        "#         print(preprocessed_docs_tmp[1])\n",
        "#         if self.remove_numbers:\n",
        "#             preprocessed_docs_tmp = [doc.translate(str.maketrans(\"0123456789\", ' ' * len(\"0123456789\")))\n",
        "#                                      for doc in preprocessed_docs_tmp]\n",
        "#         preprocessed_docs_tmp = [' '.join([w for w in doc.split() if len(w) > 0 and w not in self.stopwords])\n",
        "#                                  for doc in preprocessed_docs_tmp]\n",
        "#         print('no', preprocessed_docs_tmp[1])\n",
        "#         temp_vocabulary = set(tokenize(preprocessed_docs_tmp ,LANG))\n",
        "#         vectors = get_embedding_vectors(preprocessed_docs_tmp, LANG) \n",
        "\n",
        "#         preprocessed_docs, unpreprocessed_docs, retained_indices = [], [], []\n",
        "#         for i, doc in enumerate(preprocessed_docs_tmp):\n",
        "#             if len(doc) > 0 and len(doc) >= self.min_words:\n",
        "#                 preprocessed_docs.append(doc)\n",
        "#                 unpreprocessed_docs.append(self.documents[i])\n",
        "#                 retained_indices.append(i)\n",
        "\n",
        "#         vocabulary = list(set([item for doc in preprocessed_docs for item in doc.split()]))\n",
        "\n",
        "#         return preprocessed_docs, unpreprocessed_docs, vocabulary, retained_indices"
      ],
      "metadata": {
        "id": "nbFHdpLD-f4G"
      },
      "execution_count": null,
      "outputs": []
    },
    {
      "cell_type": "code",
      "source": [
        "# # Override utility functions for TopicModelDataPreparation to support SentenceTransformers built from scratch\n",
        "# from sentence_transformers import SentenceTransformer, models\n",
        "# import numpy as np\n",
        "\n",
        "# def bert_embeddings_from_file(text_file, sbert_model_to_load, custom=False, tokenizer_args=None, model_args=None, batch_size=200):\n",
        "#     \"\"\"\n",
        "#     Creates SBERT Embeddings from an input file\n",
        "#     \"\"\"\n",
        "#     from sentence_transformers import SentenceTransformer, models\n",
        "\n",
        "#     # For indicBERT\n",
        "#     if sbert_model_to_load == 'ai4bharat/indic-bert':\n",
        "#       custom = True\n",
        "#       tokenizer_args = {\"keep_accents\": True}\n",
        "\n",
        "#     # If build custom sentence transformer model\n",
        "#     if custom is True:\n",
        "#       if tokenizer_args and model_args:   # both set of arguments given in dict to pass into hugging face model\n",
        "#         word_embedding_model = models.Transformer(sbert_model_to_load, \n",
        "#                                                   tokenizer_args=tokenizer_args, \n",
        "#                                                   model_args = model_args)\n",
        "      \n",
        "#       elif tokenizer_args:   # tokenizer arguments given in dict to pass into hugging face model\n",
        "#         word_embedding_model = models.Transformer(sbert_model_to_load, tokenizer_args = tokenizer_args)\n",
        "\n",
        "#       elif model_args:   # model arguments given in dict to pass into hugging face model\n",
        "#         word_embedding_model = models.Transformer(sbert_model_to_load, model_args = model_args)\n",
        "      \n",
        "#       else:\n",
        "#         word_embedding_model = models.Transformer(sbert_model_to_load)\n",
        "\n",
        "#       # Pass modules to build sentence transformer model\n",
        "#       pooling_model = models.Pooling(word_embedding_model.get_word_embedding_dimension())\n",
        "#       model = SentenceTransformer(modules=[word_embedding_model, pooling_model])   \n",
        "    \n",
        "#     # Else retrieve model from hugging face\n",
        "#     else:\n",
        "#         model = SentenceTransformer(sbert_model_to_load)\n",
        "\n",
        "#     with open(text_file, encoding=\"utf-8\") as filino:\n",
        "#         train_text = list(map(lambda x: x, filino.readlines()))\n",
        "\n",
        "#     return np.array(model.encode(train_text, show_progress_bar=True, batch_size=batch_size))\n",
        "\n",
        "\n",
        "# def bert_embeddings_from_list(texts, sbert_model_to_load, custom=False, tokenizer_args=None, model_args=None, batch_size=200):\n",
        "#     \"\"\"\n",
        "#     Creates SBERT Embeddings from a list\n",
        "#     \"\"\"\n",
        "#     from sentence_transformers import SentenceTransformer, models\n",
        "\n",
        "#     # For indicBERT\n",
        "#     if sbert_model_to_load == 'ai4bharat/indic-bert':\n",
        "#       custom = True\n",
        "#       tokenizer_args = {\"keep_accents\": True}\n",
        "\n",
        "#     # If build custom sentence transformer model\n",
        "#     if custom is True:\n",
        "#       if tokenizer_args and model_args:   # both set of arguments given in dict to pass into hugging face model\n",
        "#         word_embedding_model = models.Transformer(sbert_model_to_load, \n",
        "#                                                   tokenizer_args=tokenizer_args, \n",
        "#                                                   model_args = model_args)\n",
        "      \n",
        "#       elif tokenizer_args:   # tokenizer arguments given in dict to pass into hugging face model\n",
        "#         word_embedding_model = models.Transformer(sbert_model_to_load, tokenizer_args = tokenizer_args)\n",
        "\n",
        "#       elif model_args:   # model arguments given in dict to pass into hugging face model\n",
        "#         word_embedding_model = models.Transformer(sbert_model_to_load, model_args = model_args)\n",
        "      \n",
        "#       else:\n",
        "#         word_embedding_model = models.Transformer(sbert_model_to_load)\n",
        "\n",
        "#       # Pass modules to build sentence transformer model\n",
        "#       pooling_model = models.Pooling(word_embedding_model.get_word_embedding_dimension())\n",
        "#       model = SentenceTransformer(modules=[word_embedding_model, pooling_model])   \n",
        "\n",
        "#     # Else retrieve model from hugging face\n",
        "#     else:\n",
        "#         model = SentenceTransformer(sbert_model_to_load)\n",
        "\n",
        "#     return np.array(model.encode(texts, show_progress_bar=True, batch_size=batch_size))\n",
        "\n",
        "# contextualized_topic_models.utils.data_preparation.bert_embeddings_from_file = bert_embeddings_from_file\n",
        "# contextualized_topic_models.utils.data_preparation.bert_embeddings_from_list = bert_embeddings_from_list\n"
      ],
      "metadata": {
        "id": "Qs4qdAdEiSgM"
      },
      "execution_count": null,
      "outputs": []
    }
  ],
  "metadata": {
    "colab": {
      "collapsed_sections": [],
      "machine_shape": "hm",
      "name": "ZeroshotTM For Same Script Languages",
      "provenance": [],
      "include_colab_link": true
    },
    "kernelspec": {
      "display_name": "Python 3",
      "name": "python3"
    },
    "language_info": {
      "name": "python"
    },
    "accelerator": "GPU",
    "widgets": {
      "application/vnd.jupyter.widget-state+json": {
        "b68e9cb721154d3fb358ecdaeb1c44f7": {
          "model_module": "@jupyter-widgets/controls",
          "model_name": "HBoxModel",
          "model_module_version": "1.5.0",
          "state": {
            "_dom_classes": [],
            "_model_module": "@jupyter-widgets/controls",
            "_model_module_version": "1.5.0",
            "_model_name": "HBoxModel",
            "_view_count": null,
            "_view_module": "@jupyter-widgets/controls",
            "_view_module_version": "1.5.0",
            "_view_name": "HBoxView",
            "box_style": "",
            "children": [
              "IPY_MODEL_1f2bf1083cc14582bb870d6dd13d49b0",
              "IPY_MODEL_f4a2090017014d708d46c24cb916def9",
              "IPY_MODEL_7b3347288a24477aba4e2fdacca44f96"
            ],
            "layout": "IPY_MODEL_300326a72de34034a1fb80b4e89793b4"
          }
        },
        "1f2bf1083cc14582bb870d6dd13d49b0": {
          "model_module": "@jupyter-widgets/controls",
          "model_name": "HTMLModel",
          "model_module_version": "1.5.0",
          "state": {
            "_dom_classes": [],
            "_model_module": "@jupyter-widgets/controls",
            "_model_module_version": "1.5.0",
            "_model_name": "HTMLModel",
            "_view_count": null,
            "_view_module": "@jupyter-widgets/controls",
            "_view_module_version": "1.5.0",
            "_view_name": "HTMLView",
            "description": "",
            "description_tooltip": null,
            "layout": "IPY_MODEL_105071af2ada428ba187de115ebdb579",
            "placeholder": "​",
            "style": "IPY_MODEL_d228b1c158934590bbf1b7c31e1d5774",
            "value": "Downloading: 100%"
          }
        },
        "f4a2090017014d708d46c24cb916def9": {
          "model_module": "@jupyter-widgets/controls",
          "model_name": "FloatProgressModel",
          "model_module_version": "1.5.0",
          "state": {
            "_dom_classes": [],
            "_model_module": "@jupyter-widgets/controls",
            "_model_module_version": "1.5.0",
            "_model_name": "FloatProgressModel",
            "_view_count": null,
            "_view_module": "@jupyter-widgets/controls",
            "_view_module_version": "1.5.0",
            "_view_name": "ProgressView",
            "bar_style": "success",
            "description": "",
            "description_tooltip": null,
            "layout": "IPY_MODEL_8289338ef7584496bd436f49c3fe6b52",
            "max": 345,
            "min": 0,
            "orientation": "horizontal",
            "style": "IPY_MODEL_e307eeb343d34990a505416f96b0a136",
            "value": 345
          }
        },
        "7b3347288a24477aba4e2fdacca44f96": {
          "model_module": "@jupyter-widgets/controls",
          "model_name": "HTMLModel",
          "model_module_version": "1.5.0",
          "state": {
            "_dom_classes": [],
            "_model_module": "@jupyter-widgets/controls",
            "_model_module_version": "1.5.0",
            "_model_name": "HTMLModel",
            "_view_count": null,
            "_view_module": "@jupyter-widgets/controls",
            "_view_module_version": "1.5.0",
            "_view_name": "HTMLView",
            "description": "",
            "description_tooltip": null,
            "layout": "IPY_MODEL_c7ddb16709d24ad2b68b5afd34c8ac77",
            "placeholder": "​",
            "style": "IPY_MODEL_d810b65b0f3641baa0c1d2ae248bc694",
            "value": " 345/345 [00:00&lt;00:00, 11.0kB/s]"
          }
        },
        "300326a72de34034a1fb80b4e89793b4": {
          "model_module": "@jupyter-widgets/base",
          "model_name": "LayoutModel",
          "model_module_version": "1.2.0",
          "state": {
            "_model_module": "@jupyter-widgets/base",
            "_model_module_version": "1.2.0",
            "_model_name": "LayoutModel",
            "_view_count": null,
            "_view_module": "@jupyter-widgets/base",
            "_view_module_version": "1.2.0",
            "_view_name": "LayoutView",
            "align_content": null,
            "align_items": null,
            "align_self": null,
            "border": null,
            "bottom": null,
            "display": null,
            "flex": null,
            "flex_flow": null,
            "grid_area": null,
            "grid_auto_columns": null,
            "grid_auto_flow": null,
            "grid_auto_rows": null,
            "grid_column": null,
            "grid_gap": null,
            "grid_row": null,
            "grid_template_areas": null,
            "grid_template_columns": null,
            "grid_template_rows": null,
            "height": null,
            "justify_content": null,
            "justify_items": null,
            "left": null,
            "margin": null,
            "max_height": null,
            "max_width": null,
            "min_height": null,
            "min_width": null,
            "object_fit": null,
            "object_position": null,
            "order": null,
            "overflow": null,
            "overflow_x": null,
            "overflow_y": null,
            "padding": null,
            "right": null,
            "top": null,
            "visibility": null,
            "width": null
          }
        },
        "105071af2ada428ba187de115ebdb579": {
          "model_module": "@jupyter-widgets/base",
          "model_name": "LayoutModel",
          "model_module_version": "1.2.0",
          "state": {
            "_model_module": "@jupyter-widgets/base",
            "_model_module_version": "1.2.0",
            "_model_name": "LayoutModel",
            "_view_count": null,
            "_view_module": "@jupyter-widgets/base",
            "_view_module_version": "1.2.0",
            "_view_name": "LayoutView",
            "align_content": null,
            "align_items": null,
            "align_self": null,
            "border": null,
            "bottom": null,
            "display": null,
            "flex": null,
            "flex_flow": null,
            "grid_area": null,
            "grid_auto_columns": null,
            "grid_auto_flow": null,
            "grid_auto_rows": null,
            "grid_column": null,
            "grid_gap": null,
            "grid_row": null,
            "grid_template_areas": null,
            "grid_template_columns": null,
            "grid_template_rows": null,
            "height": null,
            "justify_content": null,
            "justify_items": null,
            "left": null,
            "margin": null,
            "max_height": null,
            "max_width": null,
            "min_height": null,
            "min_width": null,
            "object_fit": null,
            "object_position": null,
            "order": null,
            "overflow": null,
            "overflow_x": null,
            "overflow_y": null,
            "padding": null,
            "right": null,
            "top": null,
            "visibility": null,
            "width": null
          }
        },
        "d228b1c158934590bbf1b7c31e1d5774": {
          "model_module": "@jupyter-widgets/controls",
          "model_name": "DescriptionStyleModel",
          "model_module_version": "1.5.0",
          "state": {
            "_model_module": "@jupyter-widgets/controls",
            "_model_module_version": "1.5.0",
            "_model_name": "DescriptionStyleModel",
            "_view_count": null,
            "_view_module": "@jupyter-widgets/base",
            "_view_module_version": "1.2.0",
            "_view_name": "StyleView",
            "description_width": ""
          }
        },
        "8289338ef7584496bd436f49c3fe6b52": {
          "model_module": "@jupyter-widgets/base",
          "model_name": "LayoutModel",
          "model_module_version": "1.2.0",
          "state": {
            "_model_module": "@jupyter-widgets/base",
            "_model_module_version": "1.2.0",
            "_model_name": "LayoutModel",
            "_view_count": null,
            "_view_module": "@jupyter-widgets/base",
            "_view_module_version": "1.2.0",
            "_view_name": "LayoutView",
            "align_content": null,
            "align_items": null,
            "align_self": null,
            "border": null,
            "bottom": null,
            "display": null,
            "flex": null,
            "flex_flow": null,
            "grid_area": null,
            "grid_auto_columns": null,
            "grid_auto_flow": null,
            "grid_auto_rows": null,
            "grid_column": null,
            "grid_gap": null,
            "grid_row": null,
            "grid_template_areas": null,
            "grid_template_columns": null,
            "grid_template_rows": null,
            "height": null,
            "justify_content": null,
            "justify_items": null,
            "left": null,
            "margin": null,
            "max_height": null,
            "max_width": null,
            "min_height": null,
            "min_width": null,
            "object_fit": null,
            "object_position": null,
            "order": null,
            "overflow": null,
            "overflow_x": null,
            "overflow_y": null,
            "padding": null,
            "right": null,
            "top": null,
            "visibility": null,
            "width": null
          }
        },
        "e307eeb343d34990a505416f96b0a136": {
          "model_module": "@jupyter-widgets/controls",
          "model_name": "ProgressStyleModel",
          "model_module_version": "1.5.0",
          "state": {
            "_model_module": "@jupyter-widgets/controls",
            "_model_module_version": "1.5.0",
            "_model_name": "ProgressStyleModel",
            "_view_count": null,
            "_view_module": "@jupyter-widgets/base",
            "_view_module_version": "1.2.0",
            "_view_name": "StyleView",
            "bar_color": null,
            "description_width": ""
          }
        },
        "c7ddb16709d24ad2b68b5afd34c8ac77": {
          "model_module": "@jupyter-widgets/base",
          "model_name": "LayoutModel",
          "model_module_version": "1.2.0",
          "state": {
            "_model_module": "@jupyter-widgets/base",
            "_model_module_version": "1.2.0",
            "_model_name": "LayoutModel",
            "_view_count": null,
            "_view_module": "@jupyter-widgets/base",
            "_view_module_version": "1.2.0",
            "_view_name": "LayoutView",
            "align_content": null,
            "align_items": null,
            "align_self": null,
            "border": null,
            "bottom": null,
            "display": null,
            "flex": null,
            "flex_flow": null,
            "grid_area": null,
            "grid_auto_columns": null,
            "grid_auto_flow": null,
            "grid_auto_rows": null,
            "grid_column": null,
            "grid_gap": null,
            "grid_row": null,
            "grid_template_areas": null,
            "grid_template_columns": null,
            "grid_template_rows": null,
            "height": null,
            "justify_content": null,
            "justify_items": null,
            "left": null,
            "margin": null,
            "max_height": null,
            "max_width": null,
            "min_height": null,
            "min_width": null,
            "object_fit": null,
            "object_position": null,
            "order": null,
            "overflow": null,
            "overflow_x": null,
            "overflow_y": null,
            "padding": null,
            "right": null,
            "top": null,
            "visibility": null,
            "width": null
          }
        },
        "d810b65b0f3641baa0c1d2ae248bc694": {
          "model_module": "@jupyter-widgets/controls",
          "model_name": "DescriptionStyleModel",
          "model_module_version": "1.5.0",
          "state": {
            "_model_module": "@jupyter-widgets/controls",
            "_model_module_version": "1.5.0",
            "_model_name": "DescriptionStyleModel",
            "_view_count": null,
            "_view_module": "@jupyter-widgets/base",
            "_view_module_version": "1.2.0",
            "_view_name": "StyleView",
            "description_width": ""
          }
        },
        "341b414eb75c431583a526a80f42f881": {
          "model_module": "@jupyter-widgets/controls",
          "model_name": "HBoxModel",
          "model_module_version": "1.5.0",
          "state": {
            "_dom_classes": [],
            "_model_module": "@jupyter-widgets/controls",
            "_model_module_version": "1.5.0",
            "_model_name": "HBoxModel",
            "_view_count": null,
            "_view_module": "@jupyter-widgets/controls",
            "_view_module_version": "1.5.0",
            "_view_name": "HBoxView",
            "box_style": "",
            "children": [
              "IPY_MODEL_d92c0ed9e5d84a5987d4b73a5d63fe18",
              "IPY_MODEL_e721713d11f94d4cb57b66bf9c802a27",
              "IPY_MODEL_919b99fde6e642eeb403c9fc54277088"
            ],
            "layout": "IPY_MODEL_1d7f1d6045664fbeaaedc7de6dc11296"
          }
        },
        "d92c0ed9e5d84a5987d4b73a5d63fe18": {
          "model_module": "@jupyter-widgets/controls",
          "model_name": "HTMLModel",
          "model_module_version": "1.5.0",
          "state": {
            "_dom_classes": [],
            "_model_module": "@jupyter-widgets/controls",
            "_model_module_version": "1.5.0",
            "_model_name": "HTMLModel",
            "_view_count": null,
            "_view_module": "@jupyter-widgets/controls",
            "_view_module_version": "1.5.0",
            "_view_name": "HTMLView",
            "description": "",
            "description_tooltip": null,
            "layout": "IPY_MODEL_04519e7a85a6425985d4b0990fce5069",
            "placeholder": "​",
            "style": "IPY_MODEL_3c8efda4d1a94b48a3f6ba062cce0640",
            "value": "Downloading: 100%"
          }
        },
        "e721713d11f94d4cb57b66bf9c802a27": {
          "model_module": "@jupyter-widgets/controls",
          "model_name": "FloatProgressModel",
          "model_module_version": "1.5.0",
          "state": {
            "_dom_classes": [],
            "_model_module": "@jupyter-widgets/controls",
            "_model_module_version": "1.5.0",
            "_model_name": "FloatProgressModel",
            "_view_count": null,
            "_view_module": "@jupyter-widgets/controls",
            "_view_module_version": "1.5.0",
            "_view_name": "ProgressView",
            "bar_style": "success",
            "description": "",
            "description_tooltip": null,
            "layout": "IPY_MODEL_b06d9cc92f174ba194e58800e7f70d86",
            "max": 4771,
            "min": 0,
            "orientation": "horizontal",
            "style": "IPY_MODEL_ca10772473c4426c99d39cefdff95ec7",
            "value": 4771
          }
        },
        "919b99fde6e642eeb403c9fc54277088": {
          "model_module": "@jupyter-widgets/controls",
          "model_name": "HTMLModel",
          "model_module_version": "1.5.0",
          "state": {
            "_dom_classes": [],
            "_model_module": "@jupyter-widgets/controls",
            "_model_module_version": "1.5.0",
            "_model_name": "HTMLModel",
            "_view_count": null,
            "_view_module": "@jupyter-widgets/controls",
            "_view_module_version": "1.5.0",
            "_view_name": "HTMLView",
            "description": "",
            "description_tooltip": null,
            "layout": "IPY_MODEL_aecc1f3bd6d74d1f970aa67fba3d286e",
            "placeholder": "​",
            "style": "IPY_MODEL_5a763cb65155495b8142e3e5c0ca1406",
            "value": " 4.77k/4.77k [00:00&lt;00:00, 157kB/s]"
          }
        },
        "1d7f1d6045664fbeaaedc7de6dc11296": {
          "model_module": "@jupyter-widgets/base",
          "model_name": "LayoutModel",
          "model_module_version": "1.2.0",
          "state": {
            "_model_module": "@jupyter-widgets/base",
            "_model_module_version": "1.2.0",
            "_model_name": "LayoutModel",
            "_view_count": null,
            "_view_module": "@jupyter-widgets/base",
            "_view_module_version": "1.2.0",
            "_view_name": "LayoutView",
            "align_content": null,
            "align_items": null,
            "align_self": null,
            "border": null,
            "bottom": null,
            "display": null,
            "flex": null,
            "flex_flow": null,
            "grid_area": null,
            "grid_auto_columns": null,
            "grid_auto_flow": null,
            "grid_auto_rows": null,
            "grid_column": null,
            "grid_gap": null,
            "grid_row": null,
            "grid_template_areas": null,
            "grid_template_columns": null,
            "grid_template_rows": null,
            "height": null,
            "justify_content": null,
            "justify_items": null,
            "left": null,
            "margin": null,
            "max_height": null,
            "max_width": null,
            "min_height": null,
            "min_width": null,
            "object_fit": null,
            "object_position": null,
            "order": null,
            "overflow": null,
            "overflow_x": null,
            "overflow_y": null,
            "padding": null,
            "right": null,
            "top": null,
            "visibility": null,
            "width": null
          }
        },
        "04519e7a85a6425985d4b0990fce5069": {
          "model_module": "@jupyter-widgets/base",
          "model_name": "LayoutModel",
          "model_module_version": "1.2.0",
          "state": {
            "_model_module": "@jupyter-widgets/base",
            "_model_module_version": "1.2.0",
            "_model_name": "LayoutModel",
            "_view_count": null,
            "_view_module": "@jupyter-widgets/base",
            "_view_module_version": "1.2.0",
            "_view_name": "LayoutView",
            "align_content": null,
            "align_items": null,
            "align_self": null,
            "border": null,
            "bottom": null,
            "display": null,
            "flex": null,
            "flex_flow": null,
            "grid_area": null,
            "grid_auto_columns": null,
            "grid_auto_flow": null,
            "grid_auto_rows": null,
            "grid_column": null,
            "grid_gap": null,
            "grid_row": null,
            "grid_template_areas": null,
            "grid_template_columns": null,
            "grid_template_rows": null,
            "height": null,
            "justify_content": null,
            "justify_items": null,
            "left": null,
            "margin": null,
            "max_height": null,
            "max_width": null,
            "min_height": null,
            "min_width": null,
            "object_fit": null,
            "object_position": null,
            "order": null,
            "overflow": null,
            "overflow_x": null,
            "overflow_y": null,
            "padding": null,
            "right": null,
            "top": null,
            "visibility": null,
            "width": null
          }
        },
        "3c8efda4d1a94b48a3f6ba062cce0640": {
          "model_module": "@jupyter-widgets/controls",
          "model_name": "DescriptionStyleModel",
          "model_module_version": "1.5.0",
          "state": {
            "_model_module": "@jupyter-widgets/controls",
            "_model_module_version": "1.5.0",
            "_model_name": "DescriptionStyleModel",
            "_view_count": null,
            "_view_module": "@jupyter-widgets/base",
            "_view_module_version": "1.2.0",
            "_view_name": "StyleView",
            "description_width": ""
          }
        },
        "b06d9cc92f174ba194e58800e7f70d86": {
          "model_module": "@jupyter-widgets/base",
          "model_name": "LayoutModel",
          "model_module_version": "1.2.0",
          "state": {
            "_model_module": "@jupyter-widgets/base",
            "_model_module_version": "1.2.0",
            "_model_name": "LayoutModel",
            "_view_count": null,
            "_view_module": "@jupyter-widgets/base",
            "_view_module_version": "1.2.0",
            "_view_name": "LayoutView",
            "align_content": null,
            "align_items": null,
            "align_self": null,
            "border": null,
            "bottom": null,
            "display": null,
            "flex": null,
            "flex_flow": null,
            "grid_area": null,
            "grid_auto_columns": null,
            "grid_auto_flow": null,
            "grid_auto_rows": null,
            "grid_column": null,
            "grid_gap": null,
            "grid_row": null,
            "grid_template_areas": null,
            "grid_template_columns": null,
            "grid_template_rows": null,
            "height": null,
            "justify_content": null,
            "justify_items": null,
            "left": null,
            "margin": null,
            "max_height": null,
            "max_width": null,
            "min_height": null,
            "min_width": null,
            "object_fit": null,
            "object_position": null,
            "order": null,
            "overflow": null,
            "overflow_x": null,
            "overflow_y": null,
            "padding": null,
            "right": null,
            "top": null,
            "visibility": null,
            "width": null
          }
        },
        "ca10772473c4426c99d39cefdff95ec7": {
          "model_module": "@jupyter-widgets/controls",
          "model_name": "ProgressStyleModel",
          "model_module_version": "1.5.0",
          "state": {
            "_model_module": "@jupyter-widgets/controls",
            "_model_module_version": "1.5.0",
            "_model_name": "ProgressStyleModel",
            "_view_count": null,
            "_view_module": "@jupyter-widgets/base",
            "_view_module_version": "1.2.0",
            "_view_name": "StyleView",
            "bar_color": null,
            "description_width": ""
          }
        },
        "aecc1f3bd6d74d1f970aa67fba3d286e": {
          "model_module": "@jupyter-widgets/base",
          "model_name": "LayoutModel",
          "model_module_version": "1.2.0",
          "state": {
            "_model_module": "@jupyter-widgets/base",
            "_model_module_version": "1.2.0",
            "_model_name": "LayoutModel",
            "_view_count": null,
            "_view_module": "@jupyter-widgets/base",
            "_view_module_version": "1.2.0",
            "_view_name": "LayoutView",
            "align_content": null,
            "align_items": null,
            "align_self": null,
            "border": null,
            "bottom": null,
            "display": null,
            "flex": null,
            "flex_flow": null,
            "grid_area": null,
            "grid_auto_columns": null,
            "grid_auto_flow": null,
            "grid_auto_rows": null,
            "grid_column": null,
            "grid_gap": null,
            "grid_row": null,
            "grid_template_areas": null,
            "grid_template_columns": null,
            "grid_template_rows": null,
            "height": null,
            "justify_content": null,
            "justify_items": null,
            "left": null,
            "margin": null,
            "max_height": null,
            "max_width": null,
            "min_height": null,
            "min_width": null,
            "object_fit": null,
            "object_position": null,
            "order": null,
            "overflow": null,
            "overflow_x": null,
            "overflow_y": null,
            "padding": null,
            "right": null,
            "top": null,
            "visibility": null,
            "width": null
          }
        },
        "5a763cb65155495b8142e3e5c0ca1406": {
          "model_module": "@jupyter-widgets/controls",
          "model_name": "DescriptionStyleModel",
          "model_module_version": "1.5.0",
          "state": {
            "_model_module": "@jupyter-widgets/controls",
            "_model_module_version": "1.5.0",
            "_model_name": "DescriptionStyleModel",
            "_view_count": null,
            "_view_module": "@jupyter-widgets/base",
            "_view_module_version": "1.2.0",
            "_view_name": "StyleView",
            "description_width": ""
          }
        },
        "a65f96de3c2b4f1495e5cdbdc49d8a27": {
          "model_module": "@jupyter-widgets/controls",
          "model_name": "HBoxModel",
          "model_module_version": "1.5.0",
          "state": {
            "_dom_classes": [],
            "_model_module": "@jupyter-widgets/controls",
            "_model_module_version": "1.5.0",
            "_model_name": "HBoxModel",
            "_view_count": null,
            "_view_module": "@jupyter-widgets/controls",
            "_view_module_version": "1.5.0",
            "_view_name": "HBoxView",
            "box_style": "",
            "children": [
              "IPY_MODEL_4d79555fa95a49aea869262a33987cce",
              "IPY_MODEL_7edde1d3919344bc8291a6ee74544c2e",
              "IPY_MODEL_106fc773a682489da930618f03f9159c"
            ],
            "layout": "IPY_MODEL_c2e2b4d4ec1243079aa63f274f558243"
          }
        },
        "4d79555fa95a49aea869262a33987cce": {
          "model_module": "@jupyter-widgets/controls",
          "model_name": "HTMLModel",
          "model_module_version": "1.5.0",
          "state": {
            "_dom_classes": [],
            "_model_module": "@jupyter-widgets/controls",
            "_model_module_version": "1.5.0",
            "_model_name": "HTMLModel",
            "_view_count": null,
            "_view_module": "@jupyter-widgets/controls",
            "_view_module_version": "1.5.0",
            "_view_name": "HTMLView",
            "description": "",
            "description_tooltip": null,
            "layout": "IPY_MODEL_52e06b1ea88b49fc8902a9d9fa0d3658",
            "placeholder": "​",
            "style": "IPY_MODEL_0f1c4b1676654f08bfb140151c3f3b59",
            "value": "Downloading: 100%"
          }
        },
        "7edde1d3919344bc8291a6ee74544c2e": {
          "model_module": "@jupyter-widgets/controls",
          "model_name": "FloatProgressModel",
          "model_module_version": "1.5.0",
          "state": {
            "_dom_classes": [],
            "_model_module": "@jupyter-widgets/controls",
            "_model_module_version": "1.5.0",
            "_model_name": "FloatProgressModel",
            "_view_count": null,
            "_view_module": "@jupyter-widgets/controls",
            "_view_module_version": "1.5.0",
            "_view_name": "ProgressView",
            "bar_style": "success",
            "description": "",
            "description_tooltip": null,
            "layout": "IPY_MODEL_82d2910c515c4966b375b61514911f02",
            "max": 507,
            "min": 0,
            "orientation": "horizontal",
            "style": "IPY_MODEL_ec81d09866f24782bb7636e964ecd6f0",
            "value": 507
          }
        },
        "106fc773a682489da930618f03f9159c": {
          "model_module": "@jupyter-widgets/controls",
          "model_name": "HTMLModel",
          "model_module_version": "1.5.0",
          "state": {
            "_dom_classes": [],
            "_model_module": "@jupyter-widgets/controls",
            "_model_module_version": "1.5.0",
            "_model_name": "HTMLModel",
            "_view_count": null,
            "_view_module": "@jupyter-widgets/controls",
            "_view_module_version": "1.5.0",
            "_view_name": "HTMLView",
            "description": "",
            "description_tooltip": null,
            "layout": "IPY_MODEL_bbbfe1da6e7c413787109693c4c537d9",
            "placeholder": "​",
            "style": "IPY_MODEL_d3e85a9d617245dab8ab420ff6f42785",
            "value": " 507/507 [00:00&lt;00:00, 14.4kB/s]"
          }
        },
        "c2e2b4d4ec1243079aa63f274f558243": {
          "model_module": "@jupyter-widgets/base",
          "model_name": "LayoutModel",
          "model_module_version": "1.2.0",
          "state": {
            "_model_module": "@jupyter-widgets/base",
            "_model_module_version": "1.2.0",
            "_model_name": "LayoutModel",
            "_view_count": null,
            "_view_module": "@jupyter-widgets/base",
            "_view_module_version": "1.2.0",
            "_view_name": "LayoutView",
            "align_content": null,
            "align_items": null,
            "align_self": null,
            "border": null,
            "bottom": null,
            "display": null,
            "flex": null,
            "flex_flow": null,
            "grid_area": null,
            "grid_auto_columns": null,
            "grid_auto_flow": null,
            "grid_auto_rows": null,
            "grid_column": null,
            "grid_gap": null,
            "grid_row": null,
            "grid_template_areas": null,
            "grid_template_columns": null,
            "grid_template_rows": null,
            "height": null,
            "justify_content": null,
            "justify_items": null,
            "left": null,
            "margin": null,
            "max_height": null,
            "max_width": null,
            "min_height": null,
            "min_width": null,
            "object_fit": null,
            "object_position": null,
            "order": null,
            "overflow": null,
            "overflow_x": null,
            "overflow_y": null,
            "padding": null,
            "right": null,
            "top": null,
            "visibility": null,
            "width": null
          }
        },
        "52e06b1ea88b49fc8902a9d9fa0d3658": {
          "model_module": "@jupyter-widgets/base",
          "model_name": "LayoutModel",
          "model_module_version": "1.2.0",
          "state": {
            "_model_module": "@jupyter-widgets/base",
            "_model_module_version": "1.2.0",
            "_model_name": "LayoutModel",
            "_view_count": null,
            "_view_module": "@jupyter-widgets/base",
            "_view_module_version": "1.2.0",
            "_view_name": "LayoutView",
            "align_content": null,
            "align_items": null,
            "align_self": null,
            "border": null,
            "bottom": null,
            "display": null,
            "flex": null,
            "flex_flow": null,
            "grid_area": null,
            "grid_auto_columns": null,
            "grid_auto_flow": null,
            "grid_auto_rows": null,
            "grid_column": null,
            "grid_gap": null,
            "grid_row": null,
            "grid_template_areas": null,
            "grid_template_columns": null,
            "grid_template_rows": null,
            "height": null,
            "justify_content": null,
            "justify_items": null,
            "left": null,
            "margin": null,
            "max_height": null,
            "max_width": null,
            "min_height": null,
            "min_width": null,
            "object_fit": null,
            "object_position": null,
            "order": null,
            "overflow": null,
            "overflow_x": null,
            "overflow_y": null,
            "padding": null,
            "right": null,
            "top": null,
            "visibility": null,
            "width": null
          }
        },
        "0f1c4b1676654f08bfb140151c3f3b59": {
          "model_module": "@jupyter-widgets/controls",
          "model_name": "DescriptionStyleModel",
          "model_module_version": "1.5.0",
          "state": {
            "_model_module": "@jupyter-widgets/controls",
            "_model_module_version": "1.5.0",
            "_model_name": "DescriptionStyleModel",
            "_view_count": null,
            "_view_module": "@jupyter-widgets/base",
            "_view_module_version": "1.2.0",
            "_view_name": "StyleView",
            "description_width": ""
          }
        },
        "82d2910c515c4966b375b61514911f02": {
          "model_module": "@jupyter-widgets/base",
          "model_name": "LayoutModel",
          "model_module_version": "1.2.0",
          "state": {
            "_model_module": "@jupyter-widgets/base",
            "_model_module_version": "1.2.0",
            "_model_name": "LayoutModel",
            "_view_count": null,
            "_view_module": "@jupyter-widgets/base",
            "_view_module_version": "1.2.0",
            "_view_name": "LayoutView",
            "align_content": null,
            "align_items": null,
            "align_self": null,
            "border": null,
            "bottom": null,
            "display": null,
            "flex": null,
            "flex_flow": null,
            "grid_area": null,
            "grid_auto_columns": null,
            "grid_auto_flow": null,
            "grid_auto_rows": null,
            "grid_column": null,
            "grid_gap": null,
            "grid_row": null,
            "grid_template_areas": null,
            "grid_template_columns": null,
            "grid_template_rows": null,
            "height": null,
            "justify_content": null,
            "justify_items": null,
            "left": null,
            "margin": null,
            "max_height": null,
            "max_width": null,
            "min_height": null,
            "min_width": null,
            "object_fit": null,
            "object_position": null,
            "order": null,
            "overflow": null,
            "overflow_x": null,
            "overflow_y": null,
            "padding": null,
            "right": null,
            "top": null,
            "visibility": null,
            "width": null
          }
        },
        "ec81d09866f24782bb7636e964ecd6f0": {
          "model_module": "@jupyter-widgets/controls",
          "model_name": "ProgressStyleModel",
          "model_module_version": "1.5.0",
          "state": {
            "_model_module": "@jupyter-widgets/controls",
            "_model_module_version": "1.5.0",
            "_model_name": "ProgressStyleModel",
            "_view_count": null,
            "_view_module": "@jupyter-widgets/base",
            "_view_module_version": "1.2.0",
            "_view_name": "StyleView",
            "bar_color": null,
            "description_width": ""
          }
        },
        "bbbfe1da6e7c413787109693c4c537d9": {
          "model_module": "@jupyter-widgets/base",
          "model_name": "LayoutModel",
          "model_module_version": "1.2.0",
          "state": {
            "_model_module": "@jupyter-widgets/base",
            "_model_module_version": "1.2.0",
            "_model_name": "LayoutModel",
            "_view_count": null,
            "_view_module": "@jupyter-widgets/base",
            "_view_module_version": "1.2.0",
            "_view_name": "LayoutView",
            "align_content": null,
            "align_items": null,
            "align_self": null,
            "border": null,
            "bottom": null,
            "display": null,
            "flex": null,
            "flex_flow": null,
            "grid_area": null,
            "grid_auto_columns": null,
            "grid_auto_flow": null,
            "grid_auto_rows": null,
            "grid_column": null,
            "grid_gap": null,
            "grid_row": null,
            "grid_template_areas": null,
            "grid_template_columns": null,
            "grid_template_rows": null,
            "height": null,
            "justify_content": null,
            "justify_items": null,
            "left": null,
            "margin": null,
            "max_height": null,
            "max_width": null,
            "min_height": null,
            "min_width": null,
            "object_fit": null,
            "object_position": null,
            "order": null,
            "overflow": null,
            "overflow_x": null,
            "overflow_y": null,
            "padding": null,
            "right": null,
            "top": null,
            "visibility": null,
            "width": null
          }
        },
        "d3e85a9d617245dab8ab420ff6f42785": {
          "model_module": "@jupyter-widgets/controls",
          "model_name": "DescriptionStyleModel",
          "model_module_version": "1.5.0",
          "state": {
            "_model_module": "@jupyter-widgets/controls",
            "_model_module_version": "1.5.0",
            "_model_name": "DescriptionStyleModel",
            "_view_count": null,
            "_view_module": "@jupyter-widgets/base",
            "_view_module_version": "1.2.0",
            "_view_name": "StyleView",
            "description_width": ""
          }
        },
        "85de104ba2434b788e413667b727752d": {
          "model_module": "@jupyter-widgets/controls",
          "model_name": "HBoxModel",
          "model_module_version": "1.5.0",
          "state": {
            "_dom_classes": [],
            "_model_module": "@jupyter-widgets/controls",
            "_model_module_version": "1.5.0",
            "_model_name": "HBoxModel",
            "_view_count": null,
            "_view_module": "@jupyter-widgets/controls",
            "_view_module_version": "1.5.0",
            "_view_name": "HBoxView",
            "box_style": "",
            "children": [
              "IPY_MODEL_82b7ba632aac49fe9e7385e60dddb23b",
              "IPY_MODEL_0deb605be8874c3c9ac74bf0d7072864",
              "IPY_MODEL_60564e07834e4e82a9dc49f8b037eb58"
            ],
            "layout": "IPY_MODEL_9e8fe2a413b64524a9a22ba570e08b7e"
          }
        },
        "82b7ba632aac49fe9e7385e60dddb23b": {
          "model_module": "@jupyter-widgets/controls",
          "model_name": "HTMLModel",
          "model_module_version": "1.5.0",
          "state": {
            "_dom_classes": [],
            "_model_module": "@jupyter-widgets/controls",
            "_model_module_version": "1.5.0",
            "_model_name": "HTMLModel",
            "_view_count": null,
            "_view_module": "@jupyter-widgets/controls",
            "_view_module_version": "1.5.0",
            "_view_name": "HTMLView",
            "description": "",
            "description_tooltip": null,
            "layout": "IPY_MODEL_50dd9d44972f4ee89936b7acdbcbd72b",
            "placeholder": "​",
            "style": "IPY_MODEL_683e49064ca9478db0a00627c55f1925",
            "value": "Downloading: 100%"
          }
        },
        "0deb605be8874c3c9ac74bf0d7072864": {
          "model_module": "@jupyter-widgets/controls",
          "model_name": "FloatProgressModel",
          "model_module_version": "1.5.0",
          "state": {
            "_dom_classes": [],
            "_model_module": "@jupyter-widgets/controls",
            "_model_module_version": "1.5.0",
            "_model_name": "FloatProgressModel",
            "_view_count": null,
            "_view_module": "@jupyter-widgets/controls",
            "_view_module_version": "1.5.0",
            "_view_name": "ProgressView",
            "bar_style": "success",
            "description": "",
            "description_tooltip": null,
            "layout": "IPY_MODEL_443c3f23ced34c5db09de3f1eb699cbc",
            "max": 134982446,
            "min": 0,
            "orientation": "horizontal",
            "style": "IPY_MODEL_2f16678cfe5348af8498189f044ec662",
            "value": 134982446
          }
        },
        "60564e07834e4e82a9dc49f8b037eb58": {
          "model_module": "@jupyter-widgets/controls",
          "model_name": "HTMLModel",
          "model_module_version": "1.5.0",
          "state": {
            "_dom_classes": [],
            "_model_module": "@jupyter-widgets/controls",
            "_model_module_version": "1.5.0",
            "_model_name": "HTMLModel",
            "_view_count": null,
            "_view_module": "@jupyter-widgets/controls",
            "_view_module_version": "1.5.0",
            "_view_name": "HTMLView",
            "description": "",
            "description_tooltip": null,
            "layout": "IPY_MODEL_a1faff60e6384add9201308a4134706d",
            "placeholder": "​",
            "style": "IPY_MODEL_b149522c4ee44647883ffd4718f8d73b",
            "value": " 135M/135M [00:03&lt;00:00, 40.0MB/s]"
          }
        },
        "9e8fe2a413b64524a9a22ba570e08b7e": {
          "model_module": "@jupyter-widgets/base",
          "model_name": "LayoutModel",
          "model_module_version": "1.2.0",
          "state": {
            "_model_module": "@jupyter-widgets/base",
            "_model_module_version": "1.2.0",
            "_model_name": "LayoutModel",
            "_view_count": null,
            "_view_module": "@jupyter-widgets/base",
            "_view_module_version": "1.2.0",
            "_view_name": "LayoutView",
            "align_content": null,
            "align_items": null,
            "align_self": null,
            "border": null,
            "bottom": null,
            "display": null,
            "flex": null,
            "flex_flow": null,
            "grid_area": null,
            "grid_auto_columns": null,
            "grid_auto_flow": null,
            "grid_auto_rows": null,
            "grid_column": null,
            "grid_gap": null,
            "grid_row": null,
            "grid_template_areas": null,
            "grid_template_columns": null,
            "grid_template_rows": null,
            "height": null,
            "justify_content": null,
            "justify_items": null,
            "left": null,
            "margin": null,
            "max_height": null,
            "max_width": null,
            "min_height": null,
            "min_width": null,
            "object_fit": null,
            "object_position": null,
            "order": null,
            "overflow": null,
            "overflow_x": null,
            "overflow_y": null,
            "padding": null,
            "right": null,
            "top": null,
            "visibility": null,
            "width": null
          }
        },
        "50dd9d44972f4ee89936b7acdbcbd72b": {
          "model_module": "@jupyter-widgets/base",
          "model_name": "LayoutModel",
          "model_module_version": "1.2.0",
          "state": {
            "_model_module": "@jupyter-widgets/base",
            "_model_module_version": "1.2.0",
            "_model_name": "LayoutModel",
            "_view_count": null,
            "_view_module": "@jupyter-widgets/base",
            "_view_module_version": "1.2.0",
            "_view_name": "LayoutView",
            "align_content": null,
            "align_items": null,
            "align_self": null,
            "border": null,
            "bottom": null,
            "display": null,
            "flex": null,
            "flex_flow": null,
            "grid_area": null,
            "grid_auto_columns": null,
            "grid_auto_flow": null,
            "grid_auto_rows": null,
            "grid_column": null,
            "grid_gap": null,
            "grid_row": null,
            "grid_template_areas": null,
            "grid_template_columns": null,
            "grid_template_rows": null,
            "height": null,
            "justify_content": null,
            "justify_items": null,
            "left": null,
            "margin": null,
            "max_height": null,
            "max_width": null,
            "min_height": null,
            "min_width": null,
            "object_fit": null,
            "object_position": null,
            "order": null,
            "overflow": null,
            "overflow_x": null,
            "overflow_y": null,
            "padding": null,
            "right": null,
            "top": null,
            "visibility": null,
            "width": null
          }
        },
        "683e49064ca9478db0a00627c55f1925": {
          "model_module": "@jupyter-widgets/controls",
          "model_name": "DescriptionStyleModel",
          "model_module_version": "1.5.0",
          "state": {
            "_model_module": "@jupyter-widgets/controls",
            "_model_module_version": "1.5.0",
            "_model_name": "DescriptionStyleModel",
            "_view_count": null,
            "_view_module": "@jupyter-widgets/base",
            "_view_module_version": "1.2.0",
            "_view_name": "StyleView",
            "description_width": ""
          }
        },
        "443c3f23ced34c5db09de3f1eb699cbc": {
          "model_module": "@jupyter-widgets/base",
          "model_name": "LayoutModel",
          "model_module_version": "1.2.0",
          "state": {
            "_model_module": "@jupyter-widgets/base",
            "_model_module_version": "1.2.0",
            "_model_name": "LayoutModel",
            "_view_count": null,
            "_view_module": "@jupyter-widgets/base",
            "_view_module_version": "1.2.0",
            "_view_name": "LayoutView",
            "align_content": null,
            "align_items": null,
            "align_self": null,
            "border": null,
            "bottom": null,
            "display": null,
            "flex": null,
            "flex_flow": null,
            "grid_area": null,
            "grid_auto_columns": null,
            "grid_auto_flow": null,
            "grid_auto_rows": null,
            "grid_column": null,
            "grid_gap": null,
            "grid_row": null,
            "grid_template_areas": null,
            "grid_template_columns": null,
            "grid_template_rows": null,
            "height": null,
            "justify_content": null,
            "justify_items": null,
            "left": null,
            "margin": null,
            "max_height": null,
            "max_width": null,
            "min_height": null,
            "min_width": null,
            "object_fit": null,
            "object_position": null,
            "order": null,
            "overflow": null,
            "overflow_x": null,
            "overflow_y": null,
            "padding": null,
            "right": null,
            "top": null,
            "visibility": null,
            "width": null
          }
        },
        "2f16678cfe5348af8498189f044ec662": {
          "model_module": "@jupyter-widgets/controls",
          "model_name": "ProgressStyleModel",
          "model_module_version": "1.5.0",
          "state": {
            "_model_module": "@jupyter-widgets/controls",
            "_model_module_version": "1.5.0",
            "_model_name": "ProgressStyleModel",
            "_view_count": null,
            "_view_module": "@jupyter-widgets/base",
            "_view_module_version": "1.2.0",
            "_view_name": "StyleView",
            "bar_color": null,
            "description_width": ""
          }
        },
        "a1faff60e6384add9201308a4134706d": {
          "model_module": "@jupyter-widgets/base",
          "model_name": "LayoutModel",
          "model_module_version": "1.2.0",
          "state": {
            "_model_module": "@jupyter-widgets/base",
            "_model_module_version": "1.2.0",
            "_model_name": "LayoutModel",
            "_view_count": null,
            "_view_module": "@jupyter-widgets/base",
            "_view_module_version": "1.2.0",
            "_view_name": "LayoutView",
            "align_content": null,
            "align_items": null,
            "align_self": null,
            "border": null,
            "bottom": null,
            "display": null,
            "flex": null,
            "flex_flow": null,
            "grid_area": null,
            "grid_auto_columns": null,
            "grid_auto_flow": null,
            "grid_auto_rows": null,
            "grid_column": null,
            "grid_gap": null,
            "grid_row": null,
            "grid_template_areas": null,
            "grid_template_columns": null,
            "grid_template_rows": null,
            "height": null,
            "justify_content": null,
            "justify_items": null,
            "left": null,
            "margin": null,
            "max_height": null,
            "max_width": null,
            "min_height": null,
            "min_width": null,
            "object_fit": null,
            "object_position": null,
            "order": null,
            "overflow": null,
            "overflow_x": null,
            "overflow_y": null,
            "padding": null,
            "right": null,
            "top": null,
            "visibility": null,
            "width": null
          }
        },
        "b149522c4ee44647883ffd4718f8d73b": {
          "model_module": "@jupyter-widgets/controls",
          "model_name": "DescriptionStyleModel",
          "model_module_version": "1.5.0",
          "state": {
            "_model_module": "@jupyter-widgets/controls",
            "_model_module_version": "1.5.0",
            "_model_name": "DescriptionStyleModel",
            "_view_count": null,
            "_view_module": "@jupyter-widgets/base",
            "_view_module_version": "1.2.0",
            "_view_name": "StyleView",
            "description_width": ""
          }
        },
        "109a7f9fdb784938aebcabea461be9e9": {
          "model_module": "@jupyter-widgets/controls",
          "model_name": "HBoxModel",
          "model_module_version": "1.5.0",
          "state": {
            "_dom_classes": [],
            "_model_module": "@jupyter-widgets/controls",
            "_model_module_version": "1.5.0",
            "_model_name": "HBoxModel",
            "_view_count": null,
            "_view_module": "@jupyter-widgets/controls",
            "_view_module_version": "1.5.0",
            "_view_name": "HBoxView",
            "box_style": "",
            "children": [
              "IPY_MODEL_3c3ce323fa024d5682ee5d278d3a5a2e",
              "IPY_MODEL_c0a210a343f64ed69287d3e1dbe742e6",
              "IPY_MODEL_6bc197963db24b948351288b4e2416da"
            ],
            "layout": "IPY_MODEL_3769a4873a6c4d559fc0b025f215859e"
          }
        },
        "3c3ce323fa024d5682ee5d278d3a5a2e": {
          "model_module": "@jupyter-widgets/controls",
          "model_name": "HTMLModel",
          "model_module_version": "1.5.0",
          "state": {
            "_dom_classes": [],
            "_model_module": "@jupyter-widgets/controls",
            "_model_module_version": "1.5.0",
            "_model_name": "HTMLModel",
            "_view_count": null,
            "_view_module": "@jupyter-widgets/controls",
            "_view_module_version": "1.5.0",
            "_view_name": "HTMLView",
            "description": "",
            "description_tooltip": null,
            "layout": "IPY_MODEL_ff3e75c77e1348aa8372487a7a361010",
            "placeholder": "​",
            "style": "IPY_MODEL_0834b48c8e184bd9ab654b443327a96e",
            "value": "Downloading: 100%"
          }
        },
        "c0a210a343f64ed69287d3e1dbe742e6": {
          "model_module": "@jupyter-widgets/controls",
          "model_name": "FloatProgressModel",
          "model_module_version": "1.5.0",
          "state": {
            "_dom_classes": [],
            "_model_module": "@jupyter-widgets/controls",
            "_model_module_version": "1.5.0",
            "_model_name": "FloatProgressModel",
            "_view_count": null,
            "_view_module": "@jupyter-widgets/controls",
            "_view_module_version": "1.5.0",
            "_view_name": "ProgressView",
            "bar_style": "success",
            "description": "",
            "description_tooltip": null,
            "layout": "IPY_MODEL_437f1622cd2c46a6910a5240b20f05fe",
            "max": 5646064,
            "min": 0,
            "orientation": "horizontal",
            "style": "IPY_MODEL_08734f19e48446a7af37ad5665a8b0b0",
            "value": 5646064
          }
        },
        "6bc197963db24b948351288b4e2416da": {
          "model_module": "@jupyter-widgets/controls",
          "model_name": "HTMLModel",
          "model_module_version": "1.5.0",
          "state": {
            "_dom_classes": [],
            "_model_module": "@jupyter-widgets/controls",
            "_model_module_version": "1.5.0",
            "_model_name": "HTMLModel",
            "_view_count": null,
            "_view_module": "@jupyter-widgets/controls",
            "_view_module_version": "1.5.0",
            "_view_name": "HTMLView",
            "description": "",
            "description_tooltip": null,
            "layout": "IPY_MODEL_1d5bf1b71c3c45e386bca888444251f0",
            "placeholder": "​",
            "style": "IPY_MODEL_a1b5bb95303b4194a209594910db4974",
            "value": " 5.65M/5.65M [00:00&lt;00:00, 7.93MB/s]"
          }
        },
        "3769a4873a6c4d559fc0b025f215859e": {
          "model_module": "@jupyter-widgets/base",
          "model_name": "LayoutModel",
          "model_module_version": "1.2.0",
          "state": {
            "_model_module": "@jupyter-widgets/base",
            "_model_module_version": "1.2.0",
            "_model_name": "LayoutModel",
            "_view_count": null,
            "_view_module": "@jupyter-widgets/base",
            "_view_module_version": "1.2.0",
            "_view_name": "LayoutView",
            "align_content": null,
            "align_items": null,
            "align_self": null,
            "border": null,
            "bottom": null,
            "display": null,
            "flex": null,
            "flex_flow": null,
            "grid_area": null,
            "grid_auto_columns": null,
            "grid_auto_flow": null,
            "grid_auto_rows": null,
            "grid_column": null,
            "grid_gap": null,
            "grid_row": null,
            "grid_template_areas": null,
            "grid_template_columns": null,
            "grid_template_rows": null,
            "height": null,
            "justify_content": null,
            "justify_items": null,
            "left": null,
            "margin": null,
            "max_height": null,
            "max_width": null,
            "min_height": null,
            "min_width": null,
            "object_fit": null,
            "object_position": null,
            "order": null,
            "overflow": null,
            "overflow_x": null,
            "overflow_y": null,
            "padding": null,
            "right": null,
            "top": null,
            "visibility": null,
            "width": null
          }
        },
        "ff3e75c77e1348aa8372487a7a361010": {
          "model_module": "@jupyter-widgets/base",
          "model_name": "LayoutModel",
          "model_module_version": "1.2.0",
          "state": {
            "_model_module": "@jupyter-widgets/base",
            "_model_module_version": "1.2.0",
            "_model_name": "LayoutModel",
            "_view_count": null,
            "_view_module": "@jupyter-widgets/base",
            "_view_module_version": "1.2.0",
            "_view_name": "LayoutView",
            "align_content": null,
            "align_items": null,
            "align_self": null,
            "border": null,
            "bottom": null,
            "display": null,
            "flex": null,
            "flex_flow": null,
            "grid_area": null,
            "grid_auto_columns": null,
            "grid_auto_flow": null,
            "grid_auto_rows": null,
            "grid_column": null,
            "grid_gap": null,
            "grid_row": null,
            "grid_template_areas": null,
            "grid_template_columns": null,
            "grid_template_rows": null,
            "height": null,
            "justify_content": null,
            "justify_items": null,
            "left": null,
            "margin": null,
            "max_height": null,
            "max_width": null,
            "min_height": null,
            "min_width": null,
            "object_fit": null,
            "object_position": null,
            "order": null,
            "overflow": null,
            "overflow_x": null,
            "overflow_y": null,
            "padding": null,
            "right": null,
            "top": null,
            "visibility": null,
            "width": null
          }
        },
        "0834b48c8e184bd9ab654b443327a96e": {
          "model_module": "@jupyter-widgets/controls",
          "model_name": "DescriptionStyleModel",
          "model_module_version": "1.5.0",
          "state": {
            "_model_module": "@jupyter-widgets/controls",
            "_model_module_version": "1.5.0",
            "_model_name": "DescriptionStyleModel",
            "_view_count": null,
            "_view_module": "@jupyter-widgets/base",
            "_view_module_version": "1.2.0",
            "_view_name": "StyleView",
            "description_width": ""
          }
        },
        "437f1622cd2c46a6910a5240b20f05fe": {
          "model_module": "@jupyter-widgets/base",
          "model_name": "LayoutModel",
          "model_module_version": "1.2.0",
          "state": {
            "_model_module": "@jupyter-widgets/base",
            "_model_module_version": "1.2.0",
            "_model_name": "LayoutModel",
            "_view_count": null,
            "_view_module": "@jupyter-widgets/base",
            "_view_module_version": "1.2.0",
            "_view_name": "LayoutView",
            "align_content": null,
            "align_items": null,
            "align_self": null,
            "border": null,
            "bottom": null,
            "display": null,
            "flex": null,
            "flex_flow": null,
            "grid_area": null,
            "grid_auto_columns": null,
            "grid_auto_flow": null,
            "grid_auto_rows": null,
            "grid_column": null,
            "grid_gap": null,
            "grid_row": null,
            "grid_template_areas": null,
            "grid_template_columns": null,
            "grid_template_rows": null,
            "height": null,
            "justify_content": null,
            "justify_items": null,
            "left": null,
            "margin": null,
            "max_height": null,
            "max_width": null,
            "min_height": null,
            "min_width": null,
            "object_fit": null,
            "object_position": null,
            "order": null,
            "overflow": null,
            "overflow_x": null,
            "overflow_y": null,
            "padding": null,
            "right": null,
            "top": null,
            "visibility": null,
            "width": null
          }
        },
        "08734f19e48446a7af37ad5665a8b0b0": {
          "model_module": "@jupyter-widgets/controls",
          "model_name": "ProgressStyleModel",
          "model_module_version": "1.5.0",
          "state": {
            "_model_module": "@jupyter-widgets/controls",
            "_model_module_version": "1.5.0",
            "_model_name": "ProgressStyleModel",
            "_view_count": null,
            "_view_module": "@jupyter-widgets/base",
            "_view_module_version": "1.2.0",
            "_view_name": "StyleView",
            "bar_color": null,
            "description_width": ""
          }
        },
        "1d5bf1b71c3c45e386bca888444251f0": {
          "model_module": "@jupyter-widgets/base",
          "model_name": "LayoutModel",
          "model_module_version": "1.2.0",
          "state": {
            "_model_module": "@jupyter-widgets/base",
            "_model_module_version": "1.2.0",
            "_model_name": "LayoutModel",
            "_view_count": null,
            "_view_module": "@jupyter-widgets/base",
            "_view_module_version": "1.2.0",
            "_view_name": "LayoutView",
            "align_content": null,
            "align_items": null,
            "align_self": null,
            "border": null,
            "bottom": null,
            "display": null,
            "flex": null,
            "flex_flow": null,
            "grid_area": null,
            "grid_auto_columns": null,
            "grid_auto_flow": null,
            "grid_auto_rows": null,
            "grid_column": null,
            "grid_gap": null,
            "grid_row": null,
            "grid_template_areas": null,
            "grid_template_columns": null,
            "grid_template_rows": null,
            "height": null,
            "justify_content": null,
            "justify_items": null,
            "left": null,
            "margin": null,
            "max_height": null,
            "max_width": null,
            "min_height": null,
            "min_width": null,
            "object_fit": null,
            "object_position": null,
            "order": null,
            "overflow": null,
            "overflow_x": null,
            "overflow_y": null,
            "padding": null,
            "right": null,
            "top": null,
            "visibility": null,
            "width": null
          }
        },
        "a1b5bb95303b4194a209594910db4974": {
          "model_module": "@jupyter-widgets/controls",
          "model_name": "DescriptionStyleModel",
          "model_module_version": "1.5.0",
          "state": {
            "_model_module": "@jupyter-widgets/controls",
            "_model_module_version": "1.5.0",
            "_model_name": "DescriptionStyleModel",
            "_view_count": null,
            "_view_module": "@jupyter-widgets/base",
            "_view_module_version": "1.2.0",
            "_view_name": "StyleView",
            "description_width": ""
          }
        },
        "d544ac589d4c405d9a0e3b039f848e24": {
          "model_module": "@jupyter-widgets/controls",
          "model_name": "HBoxModel",
          "model_module_version": "1.5.0",
          "state": {
            "_dom_classes": [],
            "_model_module": "@jupyter-widgets/controls",
            "_model_module_version": "1.5.0",
            "_model_name": "HBoxModel",
            "_view_count": null,
            "_view_module": "@jupyter-widgets/controls",
            "_view_module_version": "1.5.0",
            "_view_name": "HBoxView",
            "box_style": "",
            "children": [
              "IPY_MODEL_d9e186cf95f6453e9078dcf9420e7c6e",
              "IPY_MODEL_ccbd847317904c5cb090ba696de73cf5",
              "IPY_MODEL_6d5746d518ae45618e3927586e572af7"
            ],
            "layout": "IPY_MODEL_efb3cb63ff45476eb368f7c5594d1175"
          }
        },
        "d9e186cf95f6453e9078dcf9420e7c6e": {
          "model_module": "@jupyter-widgets/controls",
          "model_name": "HTMLModel",
          "model_module_version": "1.5.0",
          "state": {
            "_dom_classes": [],
            "_model_module": "@jupyter-widgets/controls",
            "_model_module_version": "1.5.0",
            "_model_name": "HTMLModel",
            "_view_count": null,
            "_view_module": "@jupyter-widgets/controls",
            "_view_module_version": "1.5.0",
            "_view_name": "HTMLView",
            "description": "",
            "description_tooltip": null,
            "layout": "IPY_MODEL_d809e61625284345a1d8a733ad531c26",
            "placeholder": "​",
            "style": "IPY_MODEL_7cd6dc5d9d4d41d7b4cfdf8d2891df95",
            "value": "Downloading: 100%"
          }
        },
        "ccbd847317904c5cb090ba696de73cf5": {
          "model_module": "@jupyter-widgets/controls",
          "model_name": "FloatProgressModel",
          "model_module_version": "1.5.0",
          "state": {
            "_dom_classes": [],
            "_model_module": "@jupyter-widgets/controls",
            "_model_module_version": "1.5.0",
            "_model_name": "FloatProgressModel",
            "_view_count": null,
            "_view_module": "@jupyter-widgets/controls",
            "_view_module_version": "1.5.0",
            "_view_name": "ProgressView",
            "bar_style": "success",
            "description": "",
            "description_tooltip": null,
            "layout": "IPY_MODEL_9b045d3b7a5a40ffa7d0f287e581e142",
            "max": 5585896,
            "min": 0,
            "orientation": "horizontal",
            "style": "IPY_MODEL_882d25f0a0d04f9ead52474ee966873f",
            "value": 5585896
          }
        },
        "6d5746d518ae45618e3927586e572af7": {
          "model_module": "@jupyter-widgets/controls",
          "model_name": "HTMLModel",
          "model_module_version": "1.5.0",
          "state": {
            "_dom_classes": [],
            "_model_module": "@jupyter-widgets/controls",
            "_model_module_version": "1.5.0",
            "_model_name": "HTMLModel",
            "_view_count": null,
            "_view_module": "@jupyter-widgets/controls",
            "_view_module_version": "1.5.0",
            "_view_name": "HTMLView",
            "description": "",
            "description_tooltip": null,
            "layout": "IPY_MODEL_ca0c1f380bbc4622b1656f6f6ffb562d",
            "placeholder": "​",
            "style": "IPY_MODEL_68ba34c779184959b5f99778e5728e57",
            "value": " 5.59M/5.59M [00:00&lt;00:00, 10.3MB/s]"
          }
        },
        "efb3cb63ff45476eb368f7c5594d1175": {
          "model_module": "@jupyter-widgets/base",
          "model_name": "LayoutModel",
          "model_module_version": "1.2.0",
          "state": {
            "_model_module": "@jupyter-widgets/base",
            "_model_module_version": "1.2.0",
            "_model_name": "LayoutModel",
            "_view_count": null,
            "_view_module": "@jupyter-widgets/base",
            "_view_module_version": "1.2.0",
            "_view_name": "LayoutView",
            "align_content": null,
            "align_items": null,
            "align_self": null,
            "border": null,
            "bottom": null,
            "display": null,
            "flex": null,
            "flex_flow": null,
            "grid_area": null,
            "grid_auto_columns": null,
            "grid_auto_flow": null,
            "grid_auto_rows": null,
            "grid_column": null,
            "grid_gap": null,
            "grid_row": null,
            "grid_template_areas": null,
            "grid_template_columns": null,
            "grid_template_rows": null,
            "height": null,
            "justify_content": null,
            "justify_items": null,
            "left": null,
            "margin": null,
            "max_height": null,
            "max_width": null,
            "min_height": null,
            "min_width": null,
            "object_fit": null,
            "object_position": null,
            "order": null,
            "overflow": null,
            "overflow_x": null,
            "overflow_y": null,
            "padding": null,
            "right": null,
            "top": null,
            "visibility": null,
            "width": null
          }
        },
        "d809e61625284345a1d8a733ad531c26": {
          "model_module": "@jupyter-widgets/base",
          "model_name": "LayoutModel",
          "model_module_version": "1.2.0",
          "state": {
            "_model_module": "@jupyter-widgets/base",
            "_model_module_version": "1.2.0",
            "_model_name": "LayoutModel",
            "_view_count": null,
            "_view_module": "@jupyter-widgets/base",
            "_view_module_version": "1.2.0",
            "_view_name": "LayoutView",
            "align_content": null,
            "align_items": null,
            "align_self": null,
            "border": null,
            "bottom": null,
            "display": null,
            "flex": null,
            "flex_flow": null,
            "grid_area": null,
            "grid_auto_columns": null,
            "grid_auto_flow": null,
            "grid_auto_rows": null,
            "grid_column": null,
            "grid_gap": null,
            "grid_row": null,
            "grid_template_areas": null,
            "grid_template_columns": null,
            "grid_template_rows": null,
            "height": null,
            "justify_content": null,
            "justify_items": null,
            "left": null,
            "margin": null,
            "max_height": null,
            "max_width": null,
            "min_height": null,
            "min_width": null,
            "object_fit": null,
            "object_position": null,
            "order": null,
            "overflow": null,
            "overflow_x": null,
            "overflow_y": null,
            "padding": null,
            "right": null,
            "top": null,
            "visibility": null,
            "width": null
          }
        },
        "7cd6dc5d9d4d41d7b4cfdf8d2891df95": {
          "model_module": "@jupyter-widgets/controls",
          "model_name": "DescriptionStyleModel",
          "model_module_version": "1.5.0",
          "state": {
            "_model_module": "@jupyter-widgets/controls",
            "_model_module_version": "1.5.0",
            "_model_name": "DescriptionStyleModel",
            "_view_count": null,
            "_view_module": "@jupyter-widgets/base",
            "_view_module_version": "1.2.0",
            "_view_name": "StyleView",
            "description_width": ""
          }
        },
        "9b045d3b7a5a40ffa7d0f287e581e142": {
          "model_module": "@jupyter-widgets/base",
          "model_name": "LayoutModel",
          "model_module_version": "1.2.0",
          "state": {
            "_model_module": "@jupyter-widgets/base",
            "_model_module_version": "1.2.0",
            "_model_name": "LayoutModel",
            "_view_count": null,
            "_view_module": "@jupyter-widgets/base",
            "_view_module_version": "1.2.0",
            "_view_name": "LayoutView",
            "align_content": null,
            "align_items": null,
            "align_self": null,
            "border": null,
            "bottom": null,
            "display": null,
            "flex": null,
            "flex_flow": null,
            "grid_area": null,
            "grid_auto_columns": null,
            "grid_auto_flow": null,
            "grid_auto_rows": null,
            "grid_column": null,
            "grid_gap": null,
            "grid_row": null,
            "grid_template_areas": null,
            "grid_template_columns": null,
            "grid_template_rows": null,
            "height": null,
            "justify_content": null,
            "justify_items": null,
            "left": null,
            "margin": null,
            "max_height": null,
            "max_width": null,
            "min_height": null,
            "min_width": null,
            "object_fit": null,
            "object_position": null,
            "order": null,
            "overflow": null,
            "overflow_x": null,
            "overflow_y": null,
            "padding": null,
            "right": null,
            "top": null,
            "visibility": null,
            "width": null
          }
        },
        "882d25f0a0d04f9ead52474ee966873f": {
          "model_module": "@jupyter-widgets/controls",
          "model_name": "ProgressStyleModel",
          "model_module_version": "1.5.0",
          "state": {
            "_model_module": "@jupyter-widgets/controls",
            "_model_module_version": "1.5.0",
            "_model_name": "ProgressStyleModel",
            "_view_count": null,
            "_view_module": "@jupyter-widgets/base",
            "_view_module_version": "1.2.0",
            "_view_name": "StyleView",
            "bar_color": null,
            "description_width": ""
          }
        },
        "ca0c1f380bbc4622b1656f6f6ffb562d": {
          "model_module": "@jupyter-widgets/base",
          "model_name": "LayoutModel",
          "model_module_version": "1.2.0",
          "state": {
            "_model_module": "@jupyter-widgets/base",
            "_model_module_version": "1.2.0",
            "_model_name": "LayoutModel",
            "_view_count": null,
            "_view_module": "@jupyter-widgets/base",
            "_view_module_version": "1.2.0",
            "_view_name": "LayoutView",
            "align_content": null,
            "align_items": null,
            "align_self": null,
            "border": null,
            "bottom": null,
            "display": null,
            "flex": null,
            "flex_flow": null,
            "grid_area": null,
            "grid_auto_columns": null,
            "grid_auto_flow": null,
            "grid_auto_rows": null,
            "grid_column": null,
            "grid_gap": null,
            "grid_row": null,
            "grid_template_areas": null,
            "grid_template_columns": null,
            "grid_template_rows": null,
            "height": null,
            "justify_content": null,
            "justify_items": null,
            "left": null,
            "margin": null,
            "max_height": null,
            "max_width": null,
            "min_height": null,
            "min_width": null,
            "object_fit": null,
            "object_position": null,
            "order": null,
            "overflow": null,
            "overflow_x": null,
            "overflow_y": null,
            "padding": null,
            "right": null,
            "top": null,
            "visibility": null,
            "width": null
          }
        },
        "68ba34c779184959b5f99778e5728e57": {
          "model_module": "@jupyter-widgets/controls",
          "model_name": "DescriptionStyleModel",
          "model_module_version": "1.5.0",
          "state": {
            "_model_module": "@jupyter-widgets/controls",
            "_model_module_version": "1.5.0",
            "_model_name": "DescriptionStyleModel",
            "_view_count": null,
            "_view_module": "@jupyter-widgets/base",
            "_view_module_version": "1.2.0",
            "_view_name": "StyleView",
            "description_width": ""
          }
        },
        "db00ed8e54eb4a85877c3ef40ba46501": {
          "model_module": "@jupyter-widgets/controls",
          "model_name": "HBoxModel",
          "model_module_version": "1.5.0",
          "state": {
            "_dom_classes": [],
            "_model_module": "@jupyter-widgets/controls",
            "_model_module_version": "1.5.0",
            "_model_name": "HBoxModel",
            "_view_count": null,
            "_view_module": "@jupyter-widgets/controls",
            "_view_module_version": "1.5.0",
            "_view_name": "HBoxView",
            "box_style": "",
            "children": [
              "IPY_MODEL_1e8c796e98c4444e8cf51bd22e2365c6",
              "IPY_MODEL_302ef42c267640eaae4b29512d468b0b",
              "IPY_MODEL_990f89ddcb00458ea709f6673bb4a371"
            ],
            "layout": "IPY_MODEL_b1725b7fc1f84e1e9f092d81f08f5d9d"
          }
        },
        "1e8c796e98c4444e8cf51bd22e2365c6": {
          "model_module": "@jupyter-widgets/controls",
          "model_name": "HTMLModel",
          "model_module_version": "1.5.0",
          "state": {
            "_dom_classes": [],
            "_model_module": "@jupyter-widgets/controls",
            "_model_module_version": "1.5.0",
            "_model_name": "HTMLModel",
            "_view_count": null,
            "_view_module": "@jupyter-widgets/controls",
            "_view_module_version": "1.5.0",
            "_view_name": "HTMLView",
            "description": "",
            "description_tooltip": null,
            "layout": "IPY_MODEL_cbe114a1dfd9423ca69d5b5783ce6caf",
            "placeholder": "​",
            "style": "IPY_MODEL_04c88c6cf072425388828ebae93ae30f",
            "value": "Downloading: 100%"
          }
        },
        "302ef42c267640eaae4b29512d468b0b": {
          "model_module": "@jupyter-widgets/controls",
          "model_name": "FloatProgressModel",
          "model_module_version": "1.5.0",
          "state": {
            "_dom_classes": [],
            "_model_module": "@jupyter-widgets/controls",
            "_model_module_version": "1.5.0",
            "_model_name": "FloatProgressModel",
            "_view_count": null,
            "_view_module": "@jupyter-widgets/controls",
            "_view_module_version": "1.5.0",
            "_view_name": "ProgressView",
            "bar_style": "success",
            "description": "",
            "description_tooltip": null,
            "layout": "IPY_MODEL_9c67ecafb6dd47b69a4668e643e907ed",
            "max": 400182536,
            "min": 0,
            "orientation": "horizontal",
            "style": "IPY_MODEL_c878b128c6c042f08f303306b27a324f",
            "value": 400182536
          }
        },
        "990f89ddcb00458ea709f6673bb4a371": {
          "model_module": "@jupyter-widgets/controls",
          "model_name": "HTMLModel",
          "model_module_version": "1.5.0",
          "state": {
            "_dom_classes": [],
            "_model_module": "@jupyter-widgets/controls",
            "_model_module_version": "1.5.0",
            "_model_name": "HTMLModel",
            "_view_count": null,
            "_view_module": "@jupyter-widgets/controls",
            "_view_module_version": "1.5.0",
            "_view_name": "HTMLView",
            "description": "",
            "description_tooltip": null,
            "layout": "IPY_MODEL_03885d6daaca4d09ad359843844be615",
            "placeholder": "​",
            "style": "IPY_MODEL_44972676aec448499b87695440928f20",
            "value": " 400M/400M [00:10&lt;00:00, 25.7MB/s]"
          }
        },
        "b1725b7fc1f84e1e9f092d81f08f5d9d": {
          "model_module": "@jupyter-widgets/base",
          "model_name": "LayoutModel",
          "model_module_version": "1.2.0",
          "state": {
            "_model_module": "@jupyter-widgets/base",
            "_model_module_version": "1.2.0",
            "_model_name": "LayoutModel",
            "_view_count": null,
            "_view_module": "@jupyter-widgets/base",
            "_view_module_version": "1.2.0",
            "_view_name": "LayoutView",
            "align_content": null,
            "align_items": null,
            "align_self": null,
            "border": null,
            "bottom": null,
            "display": null,
            "flex": null,
            "flex_flow": null,
            "grid_area": null,
            "grid_auto_columns": null,
            "grid_auto_flow": null,
            "grid_auto_rows": null,
            "grid_column": null,
            "grid_gap": null,
            "grid_row": null,
            "grid_template_areas": null,
            "grid_template_columns": null,
            "grid_template_rows": null,
            "height": null,
            "justify_content": null,
            "justify_items": null,
            "left": null,
            "margin": null,
            "max_height": null,
            "max_width": null,
            "min_height": null,
            "min_width": null,
            "object_fit": null,
            "object_position": null,
            "order": null,
            "overflow": null,
            "overflow_x": null,
            "overflow_y": null,
            "padding": null,
            "right": null,
            "top": null,
            "visibility": null,
            "width": null
          }
        },
        "cbe114a1dfd9423ca69d5b5783ce6caf": {
          "model_module": "@jupyter-widgets/base",
          "model_name": "LayoutModel",
          "model_module_version": "1.2.0",
          "state": {
            "_model_module": "@jupyter-widgets/base",
            "_model_module_version": "1.2.0",
            "_model_name": "LayoutModel",
            "_view_count": null,
            "_view_module": "@jupyter-widgets/base",
            "_view_module_version": "1.2.0",
            "_view_name": "LayoutView",
            "align_content": null,
            "align_items": null,
            "align_self": null,
            "border": null,
            "bottom": null,
            "display": null,
            "flex": null,
            "flex_flow": null,
            "grid_area": null,
            "grid_auto_columns": null,
            "grid_auto_flow": null,
            "grid_auto_rows": null,
            "grid_column": null,
            "grid_gap": null,
            "grid_row": null,
            "grid_template_areas": null,
            "grid_template_columns": null,
            "grid_template_rows": null,
            "height": null,
            "justify_content": null,
            "justify_items": null,
            "left": null,
            "margin": null,
            "max_height": null,
            "max_width": null,
            "min_height": null,
            "min_width": null,
            "object_fit": null,
            "object_position": null,
            "order": null,
            "overflow": null,
            "overflow_x": null,
            "overflow_y": null,
            "padding": null,
            "right": null,
            "top": null,
            "visibility": null,
            "width": null
          }
        },
        "04c88c6cf072425388828ebae93ae30f": {
          "model_module": "@jupyter-widgets/controls",
          "model_name": "DescriptionStyleModel",
          "model_module_version": "1.5.0",
          "state": {
            "_model_module": "@jupyter-widgets/controls",
            "_model_module_version": "1.5.0",
            "_model_name": "DescriptionStyleModel",
            "_view_count": null,
            "_view_module": "@jupyter-widgets/base",
            "_view_module_version": "1.2.0",
            "_view_name": "StyleView",
            "description_width": ""
          }
        },
        "9c67ecafb6dd47b69a4668e643e907ed": {
          "model_module": "@jupyter-widgets/base",
          "model_name": "LayoutModel",
          "model_module_version": "1.2.0",
          "state": {
            "_model_module": "@jupyter-widgets/base",
            "_model_module_version": "1.2.0",
            "_model_name": "LayoutModel",
            "_view_count": null,
            "_view_module": "@jupyter-widgets/base",
            "_view_module_version": "1.2.0",
            "_view_name": "LayoutView",
            "align_content": null,
            "align_items": null,
            "align_self": null,
            "border": null,
            "bottom": null,
            "display": null,
            "flex": null,
            "flex_flow": null,
            "grid_area": null,
            "grid_auto_columns": null,
            "grid_auto_flow": null,
            "grid_auto_rows": null,
            "grid_column": null,
            "grid_gap": null,
            "grid_row": null,
            "grid_template_areas": null,
            "grid_template_columns": null,
            "grid_template_rows": null,
            "height": null,
            "justify_content": null,
            "justify_items": null,
            "left": null,
            "margin": null,
            "max_height": null,
            "max_width": null,
            "min_height": null,
            "min_width": null,
            "object_fit": null,
            "object_position": null,
            "order": null,
            "overflow": null,
            "overflow_x": null,
            "overflow_y": null,
            "padding": null,
            "right": null,
            "top": null,
            "visibility": null,
            "width": null
          }
        },
        "c878b128c6c042f08f303306b27a324f": {
          "model_module": "@jupyter-widgets/controls",
          "model_name": "ProgressStyleModel",
          "model_module_version": "1.5.0",
          "state": {
            "_model_module": "@jupyter-widgets/controls",
            "_model_module_version": "1.5.0",
            "_model_name": "ProgressStyleModel",
            "_view_count": null,
            "_view_module": "@jupyter-widgets/base",
            "_view_module_version": "1.2.0",
            "_view_name": "StyleView",
            "bar_color": null,
            "description_width": ""
          }
        },
        "03885d6daaca4d09ad359843844be615": {
          "model_module": "@jupyter-widgets/base",
          "model_name": "LayoutModel",
          "model_module_version": "1.2.0",
          "state": {
            "_model_module": "@jupyter-widgets/base",
            "_model_module_version": "1.2.0",
            "_model_name": "LayoutModel",
            "_view_count": null,
            "_view_module": "@jupyter-widgets/base",
            "_view_module_version": "1.2.0",
            "_view_name": "LayoutView",
            "align_content": null,
            "align_items": null,
            "align_self": null,
            "border": null,
            "bottom": null,
            "display": null,
            "flex": null,
            "flex_flow": null,
            "grid_area": null,
            "grid_auto_columns": null,
            "grid_auto_flow": null,
            "grid_auto_rows": null,
            "grid_column": null,
            "grid_gap": null,
            "grid_row": null,
            "grid_template_areas": null,
            "grid_template_columns": null,
            "grid_template_rows": null,
            "height": null,
            "justify_content": null,
            "justify_items": null,
            "left": null,
            "margin": null,
            "max_height": null,
            "max_width": null,
            "min_height": null,
            "min_width": null,
            "object_fit": null,
            "object_position": null,
            "order": null,
            "overflow": null,
            "overflow_x": null,
            "overflow_y": null,
            "padding": null,
            "right": null,
            "top": null,
            "visibility": null,
            "width": null
          }
        },
        "44972676aec448499b87695440928f20": {
          "model_module": "@jupyter-widgets/controls",
          "model_name": "DescriptionStyleModel",
          "model_module_version": "1.5.0",
          "state": {
            "_model_module": "@jupyter-widgets/controls",
            "_model_module_version": "1.5.0",
            "_model_name": "DescriptionStyleModel",
            "_view_count": null,
            "_view_module": "@jupyter-widgets/base",
            "_view_module_version": "1.2.0",
            "_view_name": "StyleView",
            "description_width": ""
          }
        },
        "6cebc60f910244c79743a2fbb7ad08b3": {
          "model_module": "@jupyter-widgets/controls",
          "model_name": "HBoxModel",
          "model_module_version": "1.5.0",
          "state": {
            "_dom_classes": [],
            "_model_module": "@jupyter-widgets/controls",
            "_model_module_version": "1.5.0",
            "_model_name": "HBoxModel",
            "_view_count": null,
            "_view_module": "@jupyter-widgets/controls",
            "_view_module_version": "1.5.0",
            "_view_name": "HBoxView",
            "box_style": "",
            "children": [
              "IPY_MODEL_8b455fed15af49139ec1135a07d4b006",
              "IPY_MODEL_e40c39e8aec647e992742ac7f4a3c43a",
              "IPY_MODEL_8a6a8bac4ba247a4bcc8e0f727003e1f"
            ],
            "layout": "IPY_MODEL_19dcc04780b4419193232e2d66ecefa0"
          }
        },
        "8b455fed15af49139ec1135a07d4b006": {
          "model_module": "@jupyter-widgets/controls",
          "model_name": "HTMLModel",
          "model_module_version": "1.5.0",
          "state": {
            "_dom_classes": [],
            "_model_module": "@jupyter-widgets/controls",
            "_model_module_version": "1.5.0",
            "_model_name": "HTMLModel",
            "_view_count": null,
            "_view_module": "@jupyter-widgets/controls",
            "_view_module_version": "1.5.0",
            "_view_name": "HTMLView",
            "description": "",
            "description_tooltip": null,
            "layout": "IPY_MODEL_08125413190e4b46b4f9250719cb0bf0",
            "placeholder": "​",
            "style": "IPY_MODEL_a3c65fe65c854f7bb4e0c55a3d8508a2",
            "value": "Downloading: 100%"
          }
        },
        "e40c39e8aec647e992742ac7f4a3c43a": {
          "model_module": "@jupyter-widgets/controls",
          "model_name": "FloatProgressModel",
          "model_module_version": "1.5.0",
          "state": {
            "_dom_classes": [],
            "_model_module": "@jupyter-widgets/controls",
            "_model_module_version": "1.5.0",
            "_model_name": "FloatProgressModel",
            "_view_count": null,
            "_view_module": "@jupyter-widgets/controls",
            "_view_module_version": "1.5.0",
            "_view_name": "ProgressView",
            "bar_style": "success",
            "description": "",
            "description_tooltip": null,
            "layout": "IPY_MODEL_6ace5d0065c54365becafb7025a2e37a",
            "max": 1868,
            "min": 0,
            "orientation": "horizontal",
            "style": "IPY_MODEL_52245a0c031b4bd4816db5c20581e49d",
            "value": 1868
          }
        },
        "8a6a8bac4ba247a4bcc8e0f727003e1f": {
          "model_module": "@jupyter-widgets/controls",
          "model_name": "HTMLModel",
          "model_module_version": "1.5.0",
          "state": {
            "_dom_classes": [],
            "_model_module": "@jupyter-widgets/controls",
            "_model_module_version": "1.5.0",
            "_model_name": "HTMLModel",
            "_view_count": null,
            "_view_module": "@jupyter-widgets/controls",
            "_view_module_version": "1.5.0",
            "_view_name": "HTMLView",
            "description": "",
            "description_tooltip": null,
            "layout": "IPY_MODEL_befed88a95e64841a59244624468d45c",
            "placeholder": "​",
            "style": "IPY_MODEL_ee7c04b9b55d46a7b26d24059c812352",
            "value": " 1.87k/1.87k [00:00&lt;00:00, 18.7kB/s]"
          }
        },
        "19dcc04780b4419193232e2d66ecefa0": {
          "model_module": "@jupyter-widgets/base",
          "model_name": "LayoutModel",
          "model_module_version": "1.2.0",
          "state": {
            "_model_module": "@jupyter-widgets/base",
            "_model_module_version": "1.2.0",
            "_model_name": "LayoutModel",
            "_view_count": null,
            "_view_module": "@jupyter-widgets/base",
            "_view_module_version": "1.2.0",
            "_view_name": "LayoutView",
            "align_content": null,
            "align_items": null,
            "align_self": null,
            "border": null,
            "bottom": null,
            "display": null,
            "flex": null,
            "flex_flow": null,
            "grid_area": null,
            "grid_auto_columns": null,
            "grid_auto_flow": null,
            "grid_auto_rows": null,
            "grid_column": null,
            "grid_gap": null,
            "grid_row": null,
            "grid_template_areas": null,
            "grid_template_columns": null,
            "grid_template_rows": null,
            "height": null,
            "justify_content": null,
            "justify_items": null,
            "left": null,
            "margin": null,
            "max_height": null,
            "max_width": null,
            "min_height": null,
            "min_width": null,
            "object_fit": null,
            "object_position": null,
            "order": null,
            "overflow": null,
            "overflow_x": null,
            "overflow_y": null,
            "padding": null,
            "right": null,
            "top": null,
            "visibility": null,
            "width": null
          }
        },
        "08125413190e4b46b4f9250719cb0bf0": {
          "model_module": "@jupyter-widgets/base",
          "model_name": "LayoutModel",
          "model_module_version": "1.2.0",
          "state": {
            "_model_module": "@jupyter-widgets/base",
            "_model_module_version": "1.2.0",
            "_model_name": "LayoutModel",
            "_view_count": null,
            "_view_module": "@jupyter-widgets/base",
            "_view_module_version": "1.2.0",
            "_view_name": "LayoutView",
            "align_content": null,
            "align_items": null,
            "align_self": null,
            "border": null,
            "bottom": null,
            "display": null,
            "flex": null,
            "flex_flow": null,
            "grid_area": null,
            "grid_auto_columns": null,
            "grid_auto_flow": null,
            "grid_auto_rows": null,
            "grid_column": null,
            "grid_gap": null,
            "grid_row": null,
            "grid_template_areas": null,
            "grid_template_columns": null,
            "grid_template_rows": null,
            "height": null,
            "justify_content": null,
            "justify_items": null,
            "left": null,
            "margin": null,
            "max_height": null,
            "max_width": null,
            "min_height": null,
            "min_width": null,
            "object_fit": null,
            "object_position": null,
            "order": null,
            "overflow": null,
            "overflow_x": null,
            "overflow_y": null,
            "padding": null,
            "right": null,
            "top": null,
            "visibility": null,
            "width": null
          }
        },
        "a3c65fe65c854f7bb4e0c55a3d8508a2": {
          "model_module": "@jupyter-widgets/controls",
          "model_name": "DescriptionStyleModel",
          "model_module_version": "1.5.0",
          "state": {
            "_model_module": "@jupyter-widgets/controls",
            "_model_module_version": "1.5.0",
            "_model_name": "DescriptionStyleModel",
            "_view_count": null,
            "_view_module": "@jupyter-widgets/base",
            "_view_module_version": "1.2.0",
            "_view_name": "StyleView",
            "description_width": ""
          }
        },
        "6ace5d0065c54365becafb7025a2e37a": {
          "model_module": "@jupyter-widgets/base",
          "model_name": "LayoutModel",
          "model_module_version": "1.2.0",
          "state": {
            "_model_module": "@jupyter-widgets/base",
            "_model_module_version": "1.2.0",
            "_model_name": "LayoutModel",
            "_view_count": null,
            "_view_module": "@jupyter-widgets/base",
            "_view_module_version": "1.2.0",
            "_view_name": "LayoutView",
            "align_content": null,
            "align_items": null,
            "align_self": null,
            "border": null,
            "bottom": null,
            "display": null,
            "flex": null,
            "flex_flow": null,
            "grid_area": null,
            "grid_auto_columns": null,
            "grid_auto_flow": null,
            "grid_auto_rows": null,
            "grid_column": null,
            "grid_gap": null,
            "grid_row": null,
            "grid_template_areas": null,
            "grid_template_columns": null,
            "grid_template_rows": null,
            "height": null,
            "justify_content": null,
            "justify_items": null,
            "left": null,
            "margin": null,
            "max_height": null,
            "max_width": null,
            "min_height": null,
            "min_width": null,
            "object_fit": null,
            "object_position": null,
            "order": null,
            "overflow": null,
            "overflow_x": null,
            "overflow_y": null,
            "padding": null,
            "right": null,
            "top": null,
            "visibility": null,
            "width": null
          }
        },
        "52245a0c031b4bd4816db5c20581e49d": {
          "model_module": "@jupyter-widgets/controls",
          "model_name": "ProgressStyleModel",
          "model_module_version": "1.5.0",
          "state": {
            "_model_module": "@jupyter-widgets/controls",
            "_model_module_version": "1.5.0",
            "_model_name": "ProgressStyleModel",
            "_view_count": null,
            "_view_module": "@jupyter-widgets/base",
            "_view_module_version": "1.2.0",
            "_view_name": "StyleView",
            "bar_color": null,
            "description_width": ""
          }
        },
        "befed88a95e64841a59244624468d45c": {
          "model_module": "@jupyter-widgets/base",
          "model_name": "LayoutModel",
          "model_module_version": "1.2.0",
          "state": {
            "_model_module": "@jupyter-widgets/base",
            "_model_module_version": "1.2.0",
            "_model_name": "LayoutModel",
            "_view_count": null,
            "_view_module": "@jupyter-widgets/base",
            "_view_module_version": "1.2.0",
            "_view_name": "LayoutView",
            "align_content": null,
            "align_items": null,
            "align_self": null,
            "border": null,
            "bottom": null,
            "display": null,
            "flex": null,
            "flex_flow": null,
            "grid_area": null,
            "grid_auto_columns": null,
            "grid_auto_flow": null,
            "grid_auto_rows": null,
            "grid_column": null,
            "grid_gap": null,
            "grid_row": null,
            "grid_template_areas": null,
            "grid_template_columns": null,
            "grid_template_rows": null,
            "height": null,
            "justify_content": null,
            "justify_items": null,
            "left": null,
            "margin": null,
            "max_height": null,
            "max_width": null,
            "min_height": null,
            "min_width": null,
            "object_fit": null,
            "object_position": null,
            "order": null,
            "overflow": null,
            "overflow_x": null,
            "overflow_y": null,
            "padding": null,
            "right": null,
            "top": null,
            "visibility": null,
            "width": null
          }
        },
        "ee7c04b9b55d46a7b26d24059c812352": {
          "model_module": "@jupyter-widgets/controls",
          "model_name": "DescriptionStyleModel",
          "model_module_version": "1.5.0",
          "state": {
            "_model_module": "@jupyter-widgets/controls",
            "_model_module_version": "1.5.0",
            "_model_name": "DescriptionStyleModel",
            "_view_count": null,
            "_view_module": "@jupyter-widgets/base",
            "_view_module_version": "1.2.0",
            "_view_name": "StyleView",
            "description_width": ""
          }
        },
        "fa0b4f85fbbc4fd8be72c34af00369eb": {
          "model_module": "@jupyter-widgets/controls",
          "model_name": "HBoxModel",
          "model_module_version": "1.5.0",
          "state": {
            "_dom_classes": [],
            "_model_module": "@jupyter-widgets/controls",
            "_model_module_version": "1.5.0",
            "_model_name": "HBoxModel",
            "_view_count": null,
            "_view_module": "@jupyter-widgets/controls",
            "_view_module_version": "1.5.0",
            "_view_name": "HBoxView",
            "box_style": "",
            "children": [
              "IPY_MODEL_1d65b9aad9d64b879db3c31a95e9a4d5",
              "IPY_MODEL_457e1eed8e2147cea39e5a1a3cc97f3f",
              "IPY_MODEL_bdaf325f128546028614775d61d9cc16"
            ],
            "layout": "IPY_MODEL_01d23296d5174fe398b387567014616a"
          }
        },
        "1d65b9aad9d64b879db3c31a95e9a4d5": {
          "model_module": "@jupyter-widgets/controls",
          "model_name": "HTMLModel",
          "model_module_version": "1.5.0",
          "state": {
            "_dom_classes": [],
            "_model_module": "@jupyter-widgets/controls",
            "_model_module_version": "1.5.0",
            "_model_name": "HTMLModel",
            "_view_count": null,
            "_view_module": "@jupyter-widgets/controls",
            "_view_module_version": "1.5.0",
            "_view_name": "HTMLView",
            "description": "",
            "description_tooltip": null,
            "layout": "IPY_MODEL_ecd9e89e58f2434fa1cb375267cec7a0",
            "placeholder": "​",
            "style": "IPY_MODEL_6f61001896e243e7a646178403a9d738",
            "value": "Downloading: 100%"
          }
        },
        "457e1eed8e2147cea39e5a1a3cc97f3f": {
          "model_module": "@jupyter-widgets/controls",
          "model_name": "FloatProgressModel",
          "model_module_version": "1.5.0",
          "state": {
            "_dom_classes": [],
            "_model_module": "@jupyter-widgets/controls",
            "_model_module_version": "1.5.0",
            "_model_name": "FloatProgressModel",
            "_view_count": null,
            "_view_module": "@jupyter-widgets/controls",
            "_view_module_version": "1.5.0",
            "_view_name": "ProgressView",
            "bar_style": "success",
            "description": "",
            "description_tooltip": null,
            "layout": "IPY_MODEL_4bae49cbc6f445009036d6055126f67c",
            "max": 2199516,
            "min": 0,
            "orientation": "horizontal",
            "style": "IPY_MODEL_b6fba8a921dc413ca72ad2bd89f3184e",
            "value": 2199516
          }
        },
        "bdaf325f128546028614775d61d9cc16": {
          "model_module": "@jupyter-widgets/controls",
          "model_name": "HTMLModel",
          "model_module_version": "1.5.0",
          "state": {
            "_dom_classes": [],
            "_model_module": "@jupyter-widgets/controls",
            "_model_module_version": "1.5.0",
            "_model_name": "HTMLModel",
            "_view_count": null,
            "_view_module": "@jupyter-widgets/controls",
            "_view_module_version": "1.5.0",
            "_view_name": "HTMLView",
            "description": "",
            "description_tooltip": null,
            "layout": "IPY_MODEL_f484c1af311647f194d70af15e999c97",
            "placeholder": "​",
            "style": "IPY_MODEL_5d17260556904159a48618b40e3a8a31",
            "value": " 2.20M/2.20M [00:00&lt;00:00, 2.25MB/s]"
          }
        },
        "01d23296d5174fe398b387567014616a": {
          "model_module": "@jupyter-widgets/base",
          "model_name": "LayoutModel",
          "model_module_version": "1.2.0",
          "state": {
            "_model_module": "@jupyter-widgets/base",
            "_model_module_version": "1.2.0",
            "_model_name": "LayoutModel",
            "_view_count": null,
            "_view_module": "@jupyter-widgets/base",
            "_view_module_version": "1.2.0",
            "_view_name": "LayoutView",
            "align_content": null,
            "align_items": null,
            "align_self": null,
            "border": null,
            "bottom": null,
            "display": null,
            "flex": null,
            "flex_flow": null,
            "grid_area": null,
            "grid_auto_columns": null,
            "grid_auto_flow": null,
            "grid_auto_rows": null,
            "grid_column": null,
            "grid_gap": null,
            "grid_row": null,
            "grid_template_areas": null,
            "grid_template_columns": null,
            "grid_template_rows": null,
            "height": null,
            "justify_content": null,
            "justify_items": null,
            "left": null,
            "margin": null,
            "max_height": null,
            "max_width": null,
            "min_height": null,
            "min_width": null,
            "object_fit": null,
            "object_position": null,
            "order": null,
            "overflow": null,
            "overflow_x": null,
            "overflow_y": null,
            "padding": null,
            "right": null,
            "top": null,
            "visibility": null,
            "width": null
          }
        },
        "ecd9e89e58f2434fa1cb375267cec7a0": {
          "model_module": "@jupyter-widgets/base",
          "model_name": "LayoutModel",
          "model_module_version": "1.2.0",
          "state": {
            "_model_module": "@jupyter-widgets/base",
            "_model_module_version": "1.2.0",
            "_model_name": "LayoutModel",
            "_view_count": null,
            "_view_module": "@jupyter-widgets/base",
            "_view_module_version": "1.2.0",
            "_view_name": "LayoutView",
            "align_content": null,
            "align_items": null,
            "align_self": null,
            "border": null,
            "bottom": null,
            "display": null,
            "flex": null,
            "flex_flow": null,
            "grid_area": null,
            "grid_auto_columns": null,
            "grid_auto_flow": null,
            "grid_auto_rows": null,
            "grid_column": null,
            "grid_gap": null,
            "grid_row": null,
            "grid_template_areas": null,
            "grid_template_columns": null,
            "grid_template_rows": null,
            "height": null,
            "justify_content": null,
            "justify_items": null,
            "left": null,
            "margin": null,
            "max_height": null,
            "max_width": null,
            "min_height": null,
            "min_width": null,
            "object_fit": null,
            "object_position": null,
            "order": null,
            "overflow": null,
            "overflow_x": null,
            "overflow_y": null,
            "padding": null,
            "right": null,
            "top": null,
            "visibility": null,
            "width": null
          }
        },
        "6f61001896e243e7a646178403a9d738": {
          "model_module": "@jupyter-widgets/controls",
          "model_name": "DescriptionStyleModel",
          "model_module_version": "1.5.0",
          "state": {
            "_model_module": "@jupyter-widgets/controls",
            "_model_module_version": "1.5.0",
            "_model_name": "DescriptionStyleModel",
            "_view_count": null,
            "_view_module": "@jupyter-widgets/base",
            "_view_module_version": "1.2.0",
            "_view_name": "StyleView",
            "description_width": ""
          }
        },
        "4bae49cbc6f445009036d6055126f67c": {
          "model_module": "@jupyter-widgets/base",
          "model_name": "LayoutModel",
          "model_module_version": "1.2.0",
          "state": {
            "_model_module": "@jupyter-widgets/base",
            "_model_module_version": "1.2.0",
            "_model_name": "LayoutModel",
            "_view_count": null,
            "_view_module": "@jupyter-widgets/base",
            "_view_module_version": "1.2.0",
            "_view_name": "LayoutView",
            "align_content": null,
            "align_items": null,
            "align_self": null,
            "border": null,
            "bottom": null,
            "display": null,
            "flex": null,
            "flex_flow": null,
            "grid_area": null,
            "grid_auto_columns": null,
            "grid_auto_flow": null,
            "grid_auto_rows": null,
            "grid_column": null,
            "grid_gap": null,
            "grid_row": null,
            "grid_template_areas": null,
            "grid_template_columns": null,
            "grid_template_rows": null,
            "height": null,
            "justify_content": null,
            "justify_items": null,
            "left": null,
            "margin": null,
            "max_height": null,
            "max_width": null,
            "min_height": null,
            "min_width": null,
            "object_fit": null,
            "object_position": null,
            "order": null,
            "overflow": null,
            "overflow_x": null,
            "overflow_y": null,
            "padding": null,
            "right": null,
            "top": null,
            "visibility": null,
            "width": null
          }
        },
        "b6fba8a921dc413ca72ad2bd89f3184e": {
          "model_module": "@jupyter-widgets/controls",
          "model_name": "ProgressStyleModel",
          "model_module_version": "1.5.0",
          "state": {
            "_model_module": "@jupyter-widgets/controls",
            "_model_module_version": "1.5.0",
            "_model_name": "ProgressStyleModel",
            "_view_count": null,
            "_view_module": "@jupyter-widgets/base",
            "_view_module_version": "1.2.0",
            "_view_name": "StyleView",
            "bar_color": null,
            "description_width": ""
          }
        },
        "f484c1af311647f194d70af15e999c97": {
          "model_module": "@jupyter-widgets/base",
          "model_name": "LayoutModel",
          "model_module_version": "1.2.0",
          "state": {
            "_model_module": "@jupyter-widgets/base",
            "_model_module_version": "1.2.0",
            "_model_name": "LayoutModel",
            "_view_count": null,
            "_view_module": "@jupyter-widgets/base",
            "_view_module_version": "1.2.0",
            "_view_name": "LayoutView",
            "align_content": null,
            "align_items": null,
            "align_self": null,
            "border": null,
            "bottom": null,
            "display": null,
            "flex": null,
            "flex_flow": null,
            "grid_area": null,
            "grid_auto_columns": null,
            "grid_auto_flow": null,
            "grid_auto_rows": null,
            "grid_column": null,
            "grid_gap": null,
            "grid_row": null,
            "grid_template_areas": null,
            "grid_template_columns": null,
            "grid_template_rows": null,
            "height": null,
            "justify_content": null,
            "justify_items": null,
            "left": null,
            "margin": null,
            "max_height": null,
            "max_width": null,
            "min_height": null,
            "min_width": null,
            "object_fit": null,
            "object_position": null,
            "order": null,
            "overflow": null,
            "overflow_x": null,
            "overflow_y": null,
            "padding": null,
            "right": null,
            "top": null,
            "visibility": null,
            "width": null
          }
        },
        "5d17260556904159a48618b40e3a8a31": {
          "model_module": "@jupyter-widgets/controls",
          "model_name": "DescriptionStyleModel",
          "model_module_version": "1.5.0",
          "state": {
            "_model_module": "@jupyter-widgets/controls",
            "_model_module_version": "1.5.0",
            "_model_name": "DescriptionStyleModel",
            "_view_count": null,
            "_view_module": "@jupyter-widgets/base",
            "_view_module_version": "1.2.0",
            "_view_name": "StyleView",
            "description_width": ""
          }
        },
        "30bba64851f242c4b8359cc651f97fac": {
          "model_module": "@jupyter-widgets/controls",
          "model_name": "HBoxModel",
          "model_module_version": "1.5.0",
          "state": {
            "_dom_classes": [],
            "_model_module": "@jupyter-widgets/controls",
            "_model_module_version": "1.5.0",
            "_model_name": "HBoxModel",
            "_view_count": null,
            "_view_module": "@jupyter-widgets/controls",
            "_view_module_version": "1.5.0",
            "_view_name": "HBoxView",
            "box_style": "",
            "children": [
              "IPY_MODEL_9cddd581250049e9be0063bc09475573",
              "IPY_MODEL_73eb6b0961714f8988096fcc3f2fe3f3",
              "IPY_MODEL_e8281208f53f46ed844b16ceee228a98"
            ],
            "layout": "IPY_MODEL_8ca3aee8249b411aa4479656e94e26c9"
          }
        },
        "9cddd581250049e9be0063bc09475573": {
          "model_module": "@jupyter-widgets/controls",
          "model_name": "HTMLModel",
          "model_module_version": "1.5.0",
          "state": {
            "_dom_classes": [],
            "_model_module": "@jupyter-widgets/controls",
            "_model_module_version": "1.5.0",
            "_model_name": "HTMLModel",
            "_view_count": null,
            "_view_module": "@jupyter-widgets/controls",
            "_view_module_version": "1.5.0",
            "_view_name": "HTMLView",
            "description": "",
            "description_tooltip": null,
            "layout": "IPY_MODEL_b48cf6443c674a29a7c2a0c14ae9305d",
            "placeholder": "​",
            "style": "IPY_MODEL_79444379f1e94b23b42558f1ef7841d5",
            "value": "Batches: 100%"
          }
        },
        "73eb6b0961714f8988096fcc3f2fe3f3": {
          "model_module": "@jupyter-widgets/controls",
          "model_name": "FloatProgressModel",
          "model_module_version": "1.5.0",
          "state": {
            "_dom_classes": [],
            "_model_module": "@jupyter-widgets/controls",
            "_model_module_version": "1.5.0",
            "_model_name": "FloatProgressModel",
            "_view_count": null,
            "_view_module": "@jupyter-widgets/controls",
            "_view_module_version": "1.5.0",
            "_view_name": "ProgressView",
            "bar_style": "success",
            "description": "",
            "description_tooltip": null,
            "layout": "IPY_MODEL_17ade1eceebb470aab45a7f6ee2db51b",
            "max": 20,
            "min": 0,
            "orientation": "horizontal",
            "style": "IPY_MODEL_897f4c112e4046fe93c80707f43cbb94",
            "value": 20
          }
        },
        "e8281208f53f46ed844b16ceee228a98": {
          "model_module": "@jupyter-widgets/controls",
          "model_name": "HTMLModel",
          "model_module_version": "1.5.0",
          "state": {
            "_dom_classes": [],
            "_model_module": "@jupyter-widgets/controls",
            "_model_module_version": "1.5.0",
            "_model_name": "HTMLModel",
            "_view_count": null,
            "_view_module": "@jupyter-widgets/controls",
            "_view_module_version": "1.5.0",
            "_view_name": "HTMLView",
            "description": "",
            "description_tooltip": null,
            "layout": "IPY_MODEL_f4c363fc81014c829f89bdc421d16fe8",
            "placeholder": "​",
            "style": "IPY_MODEL_48143c3a65e748efb50e4df5c07098c8",
            "value": " 20/20 [00:17&lt;00:00,  1.28it/s]"
          }
        },
        "8ca3aee8249b411aa4479656e94e26c9": {
          "model_module": "@jupyter-widgets/base",
          "model_name": "LayoutModel",
          "model_module_version": "1.2.0",
          "state": {
            "_model_module": "@jupyter-widgets/base",
            "_model_module_version": "1.2.0",
            "_model_name": "LayoutModel",
            "_view_count": null,
            "_view_module": "@jupyter-widgets/base",
            "_view_module_version": "1.2.0",
            "_view_name": "LayoutView",
            "align_content": null,
            "align_items": null,
            "align_self": null,
            "border": null,
            "bottom": null,
            "display": null,
            "flex": null,
            "flex_flow": null,
            "grid_area": null,
            "grid_auto_columns": null,
            "grid_auto_flow": null,
            "grid_auto_rows": null,
            "grid_column": null,
            "grid_gap": null,
            "grid_row": null,
            "grid_template_areas": null,
            "grid_template_columns": null,
            "grid_template_rows": null,
            "height": null,
            "justify_content": null,
            "justify_items": null,
            "left": null,
            "margin": null,
            "max_height": null,
            "max_width": null,
            "min_height": null,
            "min_width": null,
            "object_fit": null,
            "object_position": null,
            "order": null,
            "overflow": null,
            "overflow_x": null,
            "overflow_y": null,
            "padding": null,
            "right": null,
            "top": null,
            "visibility": null,
            "width": null
          }
        },
        "b48cf6443c674a29a7c2a0c14ae9305d": {
          "model_module": "@jupyter-widgets/base",
          "model_name": "LayoutModel",
          "model_module_version": "1.2.0",
          "state": {
            "_model_module": "@jupyter-widgets/base",
            "_model_module_version": "1.2.0",
            "_model_name": "LayoutModel",
            "_view_count": null,
            "_view_module": "@jupyter-widgets/base",
            "_view_module_version": "1.2.0",
            "_view_name": "LayoutView",
            "align_content": null,
            "align_items": null,
            "align_self": null,
            "border": null,
            "bottom": null,
            "display": null,
            "flex": null,
            "flex_flow": null,
            "grid_area": null,
            "grid_auto_columns": null,
            "grid_auto_flow": null,
            "grid_auto_rows": null,
            "grid_column": null,
            "grid_gap": null,
            "grid_row": null,
            "grid_template_areas": null,
            "grid_template_columns": null,
            "grid_template_rows": null,
            "height": null,
            "justify_content": null,
            "justify_items": null,
            "left": null,
            "margin": null,
            "max_height": null,
            "max_width": null,
            "min_height": null,
            "min_width": null,
            "object_fit": null,
            "object_position": null,
            "order": null,
            "overflow": null,
            "overflow_x": null,
            "overflow_y": null,
            "padding": null,
            "right": null,
            "top": null,
            "visibility": null,
            "width": null
          }
        },
        "79444379f1e94b23b42558f1ef7841d5": {
          "model_module": "@jupyter-widgets/controls",
          "model_name": "DescriptionStyleModel",
          "model_module_version": "1.5.0",
          "state": {
            "_model_module": "@jupyter-widgets/controls",
            "_model_module_version": "1.5.0",
            "_model_name": "DescriptionStyleModel",
            "_view_count": null,
            "_view_module": "@jupyter-widgets/base",
            "_view_module_version": "1.2.0",
            "_view_name": "StyleView",
            "description_width": ""
          }
        },
        "17ade1eceebb470aab45a7f6ee2db51b": {
          "model_module": "@jupyter-widgets/base",
          "model_name": "LayoutModel",
          "model_module_version": "1.2.0",
          "state": {
            "_model_module": "@jupyter-widgets/base",
            "_model_module_version": "1.2.0",
            "_model_name": "LayoutModel",
            "_view_count": null,
            "_view_module": "@jupyter-widgets/base",
            "_view_module_version": "1.2.0",
            "_view_name": "LayoutView",
            "align_content": null,
            "align_items": null,
            "align_self": null,
            "border": null,
            "bottom": null,
            "display": null,
            "flex": null,
            "flex_flow": null,
            "grid_area": null,
            "grid_auto_columns": null,
            "grid_auto_flow": null,
            "grid_auto_rows": null,
            "grid_column": null,
            "grid_gap": null,
            "grid_row": null,
            "grid_template_areas": null,
            "grid_template_columns": null,
            "grid_template_rows": null,
            "height": null,
            "justify_content": null,
            "justify_items": null,
            "left": null,
            "margin": null,
            "max_height": null,
            "max_width": null,
            "min_height": null,
            "min_width": null,
            "object_fit": null,
            "object_position": null,
            "order": null,
            "overflow": null,
            "overflow_x": null,
            "overflow_y": null,
            "padding": null,
            "right": null,
            "top": null,
            "visibility": null,
            "width": null
          }
        },
        "897f4c112e4046fe93c80707f43cbb94": {
          "model_module": "@jupyter-widgets/controls",
          "model_name": "ProgressStyleModel",
          "model_module_version": "1.5.0",
          "state": {
            "_model_module": "@jupyter-widgets/controls",
            "_model_module_version": "1.5.0",
            "_model_name": "ProgressStyleModel",
            "_view_count": null,
            "_view_module": "@jupyter-widgets/base",
            "_view_module_version": "1.2.0",
            "_view_name": "StyleView",
            "bar_color": null,
            "description_width": ""
          }
        },
        "f4c363fc81014c829f89bdc421d16fe8": {
          "model_module": "@jupyter-widgets/base",
          "model_name": "LayoutModel",
          "model_module_version": "1.2.0",
          "state": {
            "_model_module": "@jupyter-widgets/base",
            "_model_module_version": "1.2.0",
            "_model_name": "LayoutModel",
            "_view_count": null,
            "_view_module": "@jupyter-widgets/base",
            "_view_module_version": "1.2.0",
            "_view_name": "LayoutView",
            "align_content": null,
            "align_items": null,
            "align_self": null,
            "border": null,
            "bottom": null,
            "display": null,
            "flex": null,
            "flex_flow": null,
            "grid_area": null,
            "grid_auto_columns": null,
            "grid_auto_flow": null,
            "grid_auto_rows": null,
            "grid_column": null,
            "grid_gap": null,
            "grid_row": null,
            "grid_template_areas": null,
            "grid_template_columns": null,
            "grid_template_rows": null,
            "height": null,
            "justify_content": null,
            "justify_items": null,
            "left": null,
            "margin": null,
            "max_height": null,
            "max_width": null,
            "min_height": null,
            "min_width": null,
            "object_fit": null,
            "object_position": null,
            "order": null,
            "overflow": null,
            "overflow_x": null,
            "overflow_y": null,
            "padding": null,
            "right": null,
            "top": null,
            "visibility": null,
            "width": null
          }
        },
        "48143c3a65e748efb50e4df5c07098c8": {
          "model_module": "@jupyter-widgets/controls",
          "model_name": "DescriptionStyleModel",
          "model_module_version": "1.5.0",
          "state": {
            "_model_module": "@jupyter-widgets/controls",
            "_model_module_version": "1.5.0",
            "_model_name": "DescriptionStyleModel",
            "_view_count": null,
            "_view_module": "@jupyter-widgets/base",
            "_view_module_version": "1.2.0",
            "_view_name": "StyleView",
            "description_width": ""
          }
        },
        "7128da3cd18c4613b3b7b49367940dcf": {
          "model_module": "@jupyter-widgets/controls",
          "model_name": "HBoxModel",
          "model_module_version": "1.5.0",
          "state": {
            "_dom_classes": [],
            "_model_module": "@jupyter-widgets/controls",
            "_model_module_version": "1.5.0",
            "_model_name": "HBoxModel",
            "_view_count": null,
            "_view_module": "@jupyter-widgets/controls",
            "_view_module_version": "1.5.0",
            "_view_name": "HBoxView",
            "box_style": "",
            "children": [
              "IPY_MODEL_e5442379f1c0470ab7f8aceda2c7cfd5",
              "IPY_MODEL_2a54612178de435c98ec5b5538bc8960",
              "IPY_MODEL_7ae4aa9f1a7946ef918eb9b76d0cc25b"
            ],
            "layout": "IPY_MODEL_f90ef0ed8ffd47cb886d6badad2dffcf"
          }
        },
        "e5442379f1c0470ab7f8aceda2c7cfd5": {
          "model_module": "@jupyter-widgets/controls",
          "model_name": "HTMLModel",
          "model_module_version": "1.5.0",
          "state": {
            "_dom_classes": [],
            "_model_module": "@jupyter-widgets/controls",
            "_model_module_version": "1.5.0",
            "_model_name": "HTMLModel",
            "_view_count": null,
            "_view_module": "@jupyter-widgets/controls",
            "_view_module_version": "1.5.0",
            "_view_name": "HTMLView",
            "description": "",
            "description_tooltip": null,
            "layout": "IPY_MODEL_972cd0b6e85f449c8777fc635c9d9933",
            "placeholder": "​",
            "style": "IPY_MODEL_d8958c0c8b7440a29df91153beb205cb",
            "value": "Batches: 100%"
          }
        },
        "2a54612178de435c98ec5b5538bc8960": {
          "model_module": "@jupyter-widgets/controls",
          "model_name": "FloatProgressModel",
          "model_module_version": "1.5.0",
          "state": {
            "_dom_classes": [],
            "_model_module": "@jupyter-widgets/controls",
            "_model_module_version": "1.5.0",
            "_model_name": "FloatProgressModel",
            "_view_count": null,
            "_view_module": "@jupyter-widgets/controls",
            "_view_module_version": "1.5.0",
            "_view_name": "ProgressView",
            "bar_style": "success",
            "description": "",
            "description_tooltip": null,
            "layout": "IPY_MODEL_cb3efb515c0b4c7689aa7a36749dc9a1",
            "max": 21,
            "min": 0,
            "orientation": "horizontal",
            "style": "IPY_MODEL_df6730f29c9b4ac5b8d1f59b47a95b4a",
            "value": 21
          }
        },
        "7ae4aa9f1a7946ef918eb9b76d0cc25b": {
          "model_module": "@jupyter-widgets/controls",
          "model_name": "HTMLModel",
          "model_module_version": "1.5.0",
          "state": {
            "_dom_classes": [],
            "_model_module": "@jupyter-widgets/controls",
            "_model_module_version": "1.5.0",
            "_model_name": "HTMLModel",
            "_view_count": null,
            "_view_module": "@jupyter-widgets/controls",
            "_view_module_version": "1.5.0",
            "_view_name": "HTMLView",
            "description": "",
            "description_tooltip": null,
            "layout": "IPY_MODEL_f20e5765e63940ceb7c109eb8fa4655c",
            "placeholder": "​",
            "style": "IPY_MODEL_541722f1479b45bc97e225e3f89d1eb0",
            "value": " 21/21 [00:14&lt;00:00,  2.02it/s]"
          }
        },
        "f90ef0ed8ffd47cb886d6badad2dffcf": {
          "model_module": "@jupyter-widgets/base",
          "model_name": "LayoutModel",
          "model_module_version": "1.2.0",
          "state": {
            "_model_module": "@jupyter-widgets/base",
            "_model_module_version": "1.2.0",
            "_model_name": "LayoutModel",
            "_view_count": null,
            "_view_module": "@jupyter-widgets/base",
            "_view_module_version": "1.2.0",
            "_view_name": "LayoutView",
            "align_content": null,
            "align_items": null,
            "align_self": null,
            "border": null,
            "bottom": null,
            "display": null,
            "flex": null,
            "flex_flow": null,
            "grid_area": null,
            "grid_auto_columns": null,
            "grid_auto_flow": null,
            "grid_auto_rows": null,
            "grid_column": null,
            "grid_gap": null,
            "grid_row": null,
            "grid_template_areas": null,
            "grid_template_columns": null,
            "grid_template_rows": null,
            "height": null,
            "justify_content": null,
            "justify_items": null,
            "left": null,
            "margin": null,
            "max_height": null,
            "max_width": null,
            "min_height": null,
            "min_width": null,
            "object_fit": null,
            "object_position": null,
            "order": null,
            "overflow": null,
            "overflow_x": null,
            "overflow_y": null,
            "padding": null,
            "right": null,
            "top": null,
            "visibility": null,
            "width": null
          }
        },
        "972cd0b6e85f449c8777fc635c9d9933": {
          "model_module": "@jupyter-widgets/base",
          "model_name": "LayoutModel",
          "model_module_version": "1.2.0",
          "state": {
            "_model_module": "@jupyter-widgets/base",
            "_model_module_version": "1.2.0",
            "_model_name": "LayoutModel",
            "_view_count": null,
            "_view_module": "@jupyter-widgets/base",
            "_view_module_version": "1.2.0",
            "_view_name": "LayoutView",
            "align_content": null,
            "align_items": null,
            "align_self": null,
            "border": null,
            "bottom": null,
            "display": null,
            "flex": null,
            "flex_flow": null,
            "grid_area": null,
            "grid_auto_columns": null,
            "grid_auto_flow": null,
            "grid_auto_rows": null,
            "grid_column": null,
            "grid_gap": null,
            "grid_row": null,
            "grid_template_areas": null,
            "grid_template_columns": null,
            "grid_template_rows": null,
            "height": null,
            "justify_content": null,
            "justify_items": null,
            "left": null,
            "margin": null,
            "max_height": null,
            "max_width": null,
            "min_height": null,
            "min_width": null,
            "object_fit": null,
            "object_position": null,
            "order": null,
            "overflow": null,
            "overflow_x": null,
            "overflow_y": null,
            "padding": null,
            "right": null,
            "top": null,
            "visibility": null,
            "width": null
          }
        },
        "d8958c0c8b7440a29df91153beb205cb": {
          "model_module": "@jupyter-widgets/controls",
          "model_name": "DescriptionStyleModel",
          "model_module_version": "1.5.0",
          "state": {
            "_model_module": "@jupyter-widgets/controls",
            "_model_module_version": "1.5.0",
            "_model_name": "DescriptionStyleModel",
            "_view_count": null,
            "_view_module": "@jupyter-widgets/base",
            "_view_module_version": "1.2.0",
            "_view_name": "StyleView",
            "description_width": ""
          }
        },
        "cb3efb515c0b4c7689aa7a36749dc9a1": {
          "model_module": "@jupyter-widgets/base",
          "model_name": "LayoutModel",
          "model_module_version": "1.2.0",
          "state": {
            "_model_module": "@jupyter-widgets/base",
            "_model_module_version": "1.2.0",
            "_model_name": "LayoutModel",
            "_view_count": null,
            "_view_module": "@jupyter-widgets/base",
            "_view_module_version": "1.2.0",
            "_view_name": "LayoutView",
            "align_content": null,
            "align_items": null,
            "align_self": null,
            "border": null,
            "bottom": null,
            "display": null,
            "flex": null,
            "flex_flow": null,
            "grid_area": null,
            "grid_auto_columns": null,
            "grid_auto_flow": null,
            "grid_auto_rows": null,
            "grid_column": null,
            "grid_gap": null,
            "grid_row": null,
            "grid_template_areas": null,
            "grid_template_columns": null,
            "grid_template_rows": null,
            "height": null,
            "justify_content": null,
            "justify_items": null,
            "left": null,
            "margin": null,
            "max_height": null,
            "max_width": null,
            "min_height": null,
            "min_width": null,
            "object_fit": null,
            "object_position": null,
            "order": null,
            "overflow": null,
            "overflow_x": null,
            "overflow_y": null,
            "padding": null,
            "right": null,
            "top": null,
            "visibility": null,
            "width": null
          }
        },
        "df6730f29c9b4ac5b8d1f59b47a95b4a": {
          "model_module": "@jupyter-widgets/controls",
          "model_name": "ProgressStyleModel",
          "model_module_version": "1.5.0",
          "state": {
            "_model_module": "@jupyter-widgets/controls",
            "_model_module_version": "1.5.0",
            "_model_name": "ProgressStyleModel",
            "_view_count": null,
            "_view_module": "@jupyter-widgets/base",
            "_view_module_version": "1.2.0",
            "_view_name": "StyleView",
            "bar_color": null,
            "description_width": ""
          }
        },
        "f20e5765e63940ceb7c109eb8fa4655c": {
          "model_module": "@jupyter-widgets/base",
          "model_name": "LayoutModel",
          "model_module_version": "1.2.0",
          "state": {
            "_model_module": "@jupyter-widgets/base",
            "_model_module_version": "1.2.0",
            "_model_name": "LayoutModel",
            "_view_count": null,
            "_view_module": "@jupyter-widgets/base",
            "_view_module_version": "1.2.0",
            "_view_name": "LayoutView",
            "align_content": null,
            "align_items": null,
            "align_self": null,
            "border": null,
            "bottom": null,
            "display": null,
            "flex": null,
            "flex_flow": null,
            "grid_area": null,
            "grid_auto_columns": null,
            "grid_auto_flow": null,
            "grid_auto_rows": null,
            "grid_column": null,
            "grid_gap": null,
            "grid_row": null,
            "grid_template_areas": null,
            "grid_template_columns": null,
            "grid_template_rows": null,
            "height": null,
            "justify_content": null,
            "justify_items": null,
            "left": null,
            "margin": null,
            "max_height": null,
            "max_width": null,
            "min_height": null,
            "min_width": null,
            "object_fit": null,
            "object_position": null,
            "order": null,
            "overflow": null,
            "overflow_x": null,
            "overflow_y": null,
            "padding": null,
            "right": null,
            "top": null,
            "visibility": null,
            "width": null
          }
        },
        "541722f1479b45bc97e225e3f89d1eb0": {
          "model_module": "@jupyter-widgets/controls",
          "model_name": "DescriptionStyleModel",
          "model_module_version": "1.5.0",
          "state": {
            "_model_module": "@jupyter-widgets/controls",
            "_model_module_version": "1.5.0",
            "_model_name": "DescriptionStyleModel",
            "_view_count": null,
            "_view_module": "@jupyter-widgets/base",
            "_view_module_version": "1.2.0",
            "_view_name": "StyleView",
            "description_width": ""
          }
        }
      }
    }
  },
  "nbformat": 4,
  "nbformat_minor": 0
}