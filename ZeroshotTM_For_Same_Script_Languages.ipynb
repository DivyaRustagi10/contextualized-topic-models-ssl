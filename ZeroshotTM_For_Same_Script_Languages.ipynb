{
  "cells": [
    {
      "cell_type": "markdown",
      "metadata": {
        "id": "view-in-github",
        "colab_type": "text"
      },
      "source": [
        "<a href=\"https://colab.research.google.com/github/DivyaRustagi10/contextualized-topic-models-ssl/blob/main/ZeroshotTM_For_Same_Script_Languages.ipynb\" target=\"_parent\"><img src=\"https://colab.research.google.com/assets/colab-badge.svg\" alt=\"Open In Colab\"/></a>"
      ]
    },
    {
      "cell_type": "markdown",
      "metadata": {
        "id": "nEYfwujnu5Wh"
      },
      "source": [
        "#To contextualize or to not contextualize?\n",
        "\n",
        "> Can we define a topic model that does not rely on the BoW input but instead uses contextual information?\n",
        "\n",
        "First, we want to check if ZeroShotTM maintains comparable performance to other topic models; if this is true, we can then explore its performance in\n",
        "a cross-lingual setting. \n",
        "\n",
        "**Hindi**\n",
        "Since we use only Hindi text, in this setting we use Hindi representations.\n",
        "\n"
      ]
    },
    {
      "cell_type": "code",
      "execution_count": 2,
      "metadata": {
        "id": "M3H5Cn_ftZzW"
      },
      "outputs": [],
      "source": [
        "# Install the contextualized topic model library\n",
        "%%capture\n",
        "!pip install -U contextualized_topic_models"
      ]
    },
    {
      "cell_type": "code",
      "execution_count": 3,
      "metadata": {
        "id": "Vht2fQJ6uqvh"
      },
      "outputs": [],
      "source": [
        "%%capture\n",
        "!pip install pyldavis\n",
        "!pip install wget\n",
        "!pip install head"
      ]
    },
    {
      "cell_type": "code",
      "execution_count": 147,
      "metadata": {
        "id": "KdXtmHGUwlYL",
        "colab": {
          "base_uri": "https://localhost:8080/"
        },
        "outputId": "56f411c6-3ae5-4910-b367-928cff2f0f95"
      },
      "outputs": [
        {
          "output_type": "stream",
          "name": "stdout",
          "text": [
            "NVIDIA-SMI has failed because it couldn't communicate with the NVIDIA driver. Make sure that the latest NVIDIA driver is installed and running.\n",
            "\n"
          ]
        }
      ],
      "source": [
        "!nvidia-smi"
      ]
    },
    {
      "cell_type": "code",
      "execution_count": null,
      "metadata": {
        "id": "eXPHO1Gj64wI"
      },
      "outputs": [],
      "source": [
        "# # Download IndicBERT\n",
        "# !git clone https://github.com/ai4bharat/indic-bert\n",
        "# %cd indic-bert\n",
        "# !pip3 install -r requirements.txt\n",
        "# %cd ..\n",
        "# !mkdir indic-glue outputs\n",
        "# # !pip3 list --outdated --format=freeze | grep -v '^\\-e' | cut -d = -f 1 | xargs -n1 pip3 install -U "
      ]
    },
    {
      "cell_type": "markdown",
      "metadata": {
        "id": "pVPQoVENZ-mr"
      },
      "source": [
        "**Overview**\n",
        "\n",
        "This repository contains the code for creating a parallel corpus from the website of the Indian Prime Minister (www.pmindia.gov.in). "
      ]
    },
    {
      "cell_type": "code",
      "execution_count": null,
      "metadata": {
        "id": "AXdZmkuJbo4p"
      },
      "outputs": [],
      "source": [
        "import wget\n",
        "link = \"https://data.statmt.org/pmindia/v1/monolingual/pmindia.v1.hi.tgz\"\n",
        "wget.download(link)\n",
        "!tar -xvzf pmindia.v1.hi.tgz"
      ]
    },
    {
      "cell_type": "code",
      "source": [
        "import glob\n",
        "files = glob.glob(r'/content/split/*.txt')\n",
        "\n",
        "print(files)"
      ],
      "metadata": {
        "colab": {
          "base_uri": "https://localhost:8080/"
        },
        "id": "HT0AkExw3D8q",
        "outputId": "a285620e-fe5c-48bf-b9bb-494ce33f9ceb"
      },
      "execution_count": 52,
      "outputs": [
        {
          "output_type": "stream",
          "name": "stdout",
          "text": [
            "['/content/split/mou-between-reserve-bank-of-india-and-central-bank-of-united-arab-emirates-on-co-operation-concerning-currency-swap-agreement.txt', '/content/split/text-of-pms-address-at-the-joint-inauguration-of-the-indo-german-business-summit-in-hannover.txt', '/content/split/pm-inaugurates-india-food-park-in-tumkur.txt', '/content/split/chairman-and-ceo-bank-of-america-calls-on-pm.txt', '/content/split/pm-to-interact-with-school-children-tomorrow.txt', '/content/split/cabinet-approves-cadre-review-of-indian-information-service.txt', '/content/split/pms-speech-after-dedication-of-sardar-sarovar-dam-to-nation-in-gujarat.txt', '/content/split/pm-pays-tributes-to-dr-zakir-hussain-on-his-birth-anniversary.txt', '/content/split/cabinet-approves-signing-of-air-services-agreement-between-india-and-greece.txt', '/content/split/cabinet-approves-agreement-on-audio-visual-co-production-between-india-and-bangladesh.txt', '/content/split/pm-addresses-young-entrepreneurs-at-the-champions-for-change-initiative-organised-by-niti-aayog.txt', '/content/split/pm-gives-good-wishes-to-people-of-myanmar-on-their-independence-day.txt', '/content/split/pm-meets-chinese-president-xi-jinping-in-fortaleza.txt', '/content/split/pm-meets-president-putin-at-the-18th-annual-india-russia-summit-in-st-petersburg.txt', '/content/split/cabinet-approves-mou-between-india-and-thailand-on-cooperation-in-controlling-narcotic-drugs-and-psychotropic-substances.txt', '/content/split/pm-expresses-grief-on-loss-of-lives-due-to-bus-accident-in-udaipur.txt', '/content/split/pm-inaugurates-pravasi-bharatiya-kendra.txt', '/content/split/prime-minister-narendra-modis-statement-to-media-outside-parliament-house.txt', '/content/split/pms-mann-ki-baat-programme-on-all-india-radio-on-june-28-2015.txt', '/content/split/pms-remarks-at-the-release-of-the-book-red-tape-to-red-carpet-and-then-some.txt', '/content/split/text-of-pms-statement-to-media-in-the-joint-press-briefing-with-president-of-kyrgyzstan-at-bishkek.txt', '/content/split/pm-dedicates-national-salt-satyagraha-memorial-in-dandi-gujarat-to-the-nation.txt', '/content/split/pm-chairs-meeting-of-the-national-committee-for-commemoration-of-125th-birth-anniversary-of-pt-jawaharlal-nehru.txt', '/content/split/proposal-to-permit-utilization-of-indias-capital-contribution-to-saarc-development-fund.txt', '/content/split/ratification-of-the-articles-of-agreement-of-the-asian-infrastructure-investment-bank.txt', '/content/split/pms-meeting-with-global-oil-and-gas-experts-ceos.txt', '/content/split/pm-to-serve-3-billionth-meal-to-children-in-vrindavan-tomorrow.txt', '/content/split/pm-visits-haryana-unveils-statue-of-sir-chhotu-ram-lays-foundation-stone-of-rail-coach-refurbishing-karkhana.txt', '/content/split/cabinet-approves-permanent-transfer-of-land-measuring-1899-sq-m-by-aai-to-lucknow-metro-rail-corporation.txt', '/content/split/pm-chairs-41st-agm-of-nehru-memorial-museum-and-library-society.txt', '/content/split/press-statement-by-prime-minister-during-his-visit-to-belgium-march-30-2016.txt', '/content/split/pms-remarks-to-the-media-at-singapore.txt', '/content/split/pm-to-visit-kochi-kerala-on-27-january-2019.txt', '/content/split/pm-wishes-nation-on-christmas.txt', '/content/split/creation-of-five-posts-of-additional-solicitors-general-of-india-in-the-high-courts-of-punjab-haryana-patna-jharkhand-karnataka-and-gujarat.txt', '/content/split/government-brings-paradigm-shift-in-the-approach-for-faster-implementation-under-namami-gange-programme.txt', '/content/split/pm-launches-pradhan-mantri-shram-yogi-maan-dhan-pm-sym-yojana.txt', '/content/split/pm-visits-tulsi-manas-temple-durga-mata-temple-in-varanasi-releases-postal-stamp-on-ramayana.txt', '/content/split/delegation-of-nagaland-gb-federation-calls-on-pm.txt', '/content/split/35-mlas-from-maharashtra-call-on-pm.txt', '/content/split/pm-to-address-cpse-conclave-at-vigyan-bhawan-tomorrow.txt', '/content/split/cabinet-approves-exchanging-of-airports-authority-of-indias-land-measuring-11-35-acres-with-equivalent-land-of-govt-of-bihar.txt', '/content/split/pm-postal-network-can-become-a-driving-force-for-indian-economy.txt', '/content/split/pms-press-statement-during-visit-of-prime-minister-of-israel-to-india.txt', '/content/split/pm-undertakes-aerial-survey-of-cyclone-fani-affected-areas-in-odisha-reviews-the-situation.txt', '/content/split/pms-mann-ki-baat-programme-on-all-india-radio-9.txt', '/content/split/pm-addresses-via-video-conference-the-valedictory-function-of-the-125th-anniversary-of-swami-vivekanands-chicago-speech.txt', '/content/split/amendment-to-the-mines-and-minerals-development-and-regulation-act-1957.txt', '/content/split/cabinet-apprised-about-mou-between-india-and-saudi-arabia-for-cooperation-in-the-field-of-housing.txt', '/content/split/pm-salutes-lachit-borphukan-on-his-birth-anniversary.txt', '/content/split/pm-condoles-the-passing-away-of-shri-jagdish-thakkar.txt', '/content/split/pms-statement-on-arrival-from-nepal.txt', '/content/split/cadre-review-and-formation-of-a-service-by-the-name-of-indian-skill-development-service.txt', '/content/split/pm-congratulates-shri-shashi-kapoor-for-being-presented-the-dadasaheb-phalke-award.txt', '/content/split/pm-extends-his-greetings-on-army-day.txt', '/content/split/pm-extends-his-condolences-on-loss-of-lives-in-an-accident-in-gujarat.txt', '/content/split/pm-writes-to-netherlands-pm-mark-rutte-condoles-loss-of-lives-on-board-mh17.txt', '/content/split/productivity-linked-bonus-for-railway-employee.txt', '/content/split/pm-greets-all-citizens-and-voters-on-national-voters-day.txt', '/content/split/pms-addresses-the-nation-from-the-ramparts-of-the-red-fort-on-the-68th-independence-day.txt', '/content/split/russian-deputy-pm-calls-on-pm.txt', '/content/split/pm-bows-to-former-prime-minister-of-india-shri-lal-bahadur-shastri-on-his-birth-anniversary.txt', '/content/split/pms-speech-at-international-agro-biodiversity-congress-2016.txt', '/content/split/pms-interaction-with-chief-secretaries-of-states-and-union-territories.txt', '/content/split/statement-by-prime-minister-prior-to-his-departure-for-bhutan.txt', '/content/split/pm-pays-tributes-to-bhagat-singh-sukhdev-and-rajguru-on-their-martyrdom-day.txt', '/content/split/text-of-pms-address-at-run-for-unity-at-rajpath-on-the-occasion-of-rashtriya-ekta-diwas.txt', '/content/split/cabinet-approves-mou-among-brics-nations-on-environmental-cooperation.txt', '/content/split/cabinet-approves-signing-of-agreement-for-cirdap-establishment-centre-in-hyderabad.txt', '/content/split/pm-inaugurates-filling-of-aji-dam-under-sauni-yojana.txt', '/content/split/pm-in-toronto.txt', '/content/split/pms-interaction-with-students-from-across-india-at-srinagar.txt', '/content/split/full-text-of-pms-inaugural-address-at-economic-times-global-business-summit.txt', '/content/split/cabinet-approves-mou-between-the-icmr-and-inserm-france.txt', '/content/split/cabinet-approves-bilateral-mou-between-india-and-iran.txt', '/content/split/pm-inaugurates-new-building-of-central-information-commission-in-new-delhi.txt', '/content/split/cabinet-apprised-of-the-mou-between-india-and-south-korea-for-enhancing-cooperation-in-applied-science-and-industrial-technology.txt', '/content/split/pm-reviews-drought-and-water-scarcity-situation-at-high-level-meeting-with-madhya-pradesh-cm.txt', '/content/split/text-of-pms-reply-to-motion-of-thanks-to-the-presidents-address-in-rajya-sabha.txt', '/content/split/pm-pays-tribute-to-chhatrapati-shivaji-on-his-birth-anniversary.txt', '/content/split/pm-speaks-to-president-of-afghanistan-condoles-at-the-damage-caused-by-the-earthquake.txt', '/content/split/preliminary-draft-of-the-text-of-pms-reply-to-motion-of-thanks-to-presidents-address-in-rajya-sabha.txt', '/content/split/cabinet-approves-the-mra-signed-in-2010-and-approves-fresh-mra-between-the-icai-and-the-institute-of-certified-public-accountants-ireland.txt', '/content/split/pm-invites-inputs-for-next-mann-ki-baat-2.txt', '/content/split/fact-sheet-on-the-framework-for-the-us-india-cyber-relationship.txt', '/content/split/pms-address-to-indian-community-at-allphones-arena-sydney.txt', '/content/split/pms-concluding-remarks-at-the-inter-state-council-meeting.txt', '/content/split/pm-greets-people-on-easter.txt', '/content/split/indian-union-muslim-league-donates-rs-25-lakhs-for-pmnrf.txt', '/content/split/text-of-pms-address-at-the-indian-community-reception-at-dublin-ireland.txt', '/content/split/cabinet-approves-ratification-of-the-second-commitment-period-of-kyoto-protocol-to-united-nations-framework-convention-on-climate-change.txt', '/content/split/mrs-melinda-gates-calls-on-pm.txt', '/content/split/pm-chairs-high-level-emergency-meeting-to-review-rescue-and-relief-operations-in-jammu-and-kashmir.txt', '/content/split/pms-address-at-inaugural-session-of-rail-vikas-shivir-in-surajkund-via-video-conferencing.txt', '/content/split/cabinet-approves-mou-between-india-and-the-usa-concerning-scientific-and-technical-cooperation-in-the-earth-sciences.txt', '/content/split/pms-address-at-students-convention-on-the-occasion-of-pandit-deendayal-upadhyay-centenary-celebrations.txt', '/content/split/cabinet-approves-mou-between-india-and-italy-for-cooperation-in-agriculture-and-phytosanitary-issues.txt', '/content/split/pm-interacts-with-ujjwala-beneficiaries-across-the-country.txt', '/content/split/delegation-of-leaders-from-the-muslim-community-calls-on-pm.txt', '/content/split/pm-inaugurates-eastern-peripheral-expressway-and-phase-i-of-delhi-meerut-expressway.txt', '/content/split/pms-address-on-the-inauguration-of-multiple-development-projects-in-balangir-odisha.txt', '/content/split/list-of-documents-signed-during-the-official-visit-of-president-of-russian-federation-to-india-december-10-11-2014.txt', '/content/split/pms-address-at-the-unveiling-of-various-development-projects-at-dhule-maharashtra.txt', '/content/split/agreement-between-india-and-maldives-for-avoidance-of-double-taxation-of-income-from-international-air-transport.txt', '/content/split/pm-expresses-sadness-over-the-loss-of-lives-in-the-forest-fire-in-portugal.txt', '/content/split/cabinet-approves-extension-of-tenure-of-loans-under-the-clss-of-pradhan-mantri-awas-yojana.txt', '/content/split/cabinet-approves-raising-extra-budgetary-resources-to-augment-infrastructure-spending.txt', '/content/split/pms-twitter-address-to-the-18th-national-conference-on-e-governance.txt', '/content/split/pm-to-receive-unep-champions-of-the-earth-award-on-october-3.txt', '/content/split/joint-press-statement-after-talks-between-pm-and-the-president-of-maldives-ibrahim-mohamed-solih.txt', '/content/split/senator-john-mccain-calls-on-pm-conveys-us-desire-to-revitalise-strategic-partnership.txt', '/content/split/pms-address-at-the-inaugural-session-of-end-tb-summit.txt', '/content/split/pm-witnesses-successful-launch-of-pslv-c23-in-sriharikota-calls-for-maximizing-use-of-space-science-in-governance-and-development-indias-space-programme-driven-by-a-vision-of-service.txt', '/content/split/pm-congratulates-drdo-on-successful-test-firing-of-agni-v.txt', '/content/split/pm-congratulates-scientists-at-isro-on-successful-launch-of-pslv-c31-and-precisely-putting-irnss-1e-in-the-orbit.txt', '/content/split/pm-salutes-air-warriors-and-their-families-on-air-force-day.txt', '/content/split/pms-remarks-at-launch-of-social-security-schemes.txt', '/content/split/text-of-pms-address-at-the-avadhoota-datta-peetham-in-mysuru.txt', '/content/split/cabinet-apprised-of-the-moa-between-india-and-who-represented-by-its-regional-office-for-south-east-asia-acting-through-its-country-office-in-india.txt', '/content/split/pm-reviews-progress-of-uday-mineral-block-auctions.txt', '/content/split/pm-hopes-of-productive-meetings-and-interactions-at-the-brics-and-sco-summits.txt', '/content/split/pms-speech-at-foundation-laying-ceremony-of-various-development-projects-in-silvassa.txt', '/content/split/cabinet-approves-polar-satellite-launch-vehicle-mark-iii-continuation-programme-phase-6.txt', '/content/split/pm-visits-workers-camp-in-doha.txt', '/content/split/pm-addresses-rashtriya-jan-jagriti-dharam-sammelan-at-srisailam-via-video-conference.txt', '/content/split/pm-addresses-indian-community-in-uganda.txt', '/content/split/mr-john-chambers-chairman-of-us-india-strategic-partnership-forum-calls-on-the-pm.txt', '/content/split/pms-address-to-the-nation-on-the-eve-of-new-year-2017.txt', '/content/split/cabinet-approves-mou-between-india-and-australia-on-cooperation-in-the-field-of-health-and-medicine.txt', '/content/split/pm-condoles-the-demise-of-narayanbhai-desai.txt', '/content/split/pm-interacts-with-scientists-involved-with-mission-shakti-via-video-conference.txt', '/content/split/pm-speaks-to-dr-raman-singh-regarding-the-gas-leak-incident-at-bhilai-steel-plant.txt', '/content/split/pm-addresses-event-to-mark-launch-of-the-centre-for-the-fourth-industrial-revolution.txt', '/content/split/pms-inaugural-address-for-the-85th-sivagiri-pilgrimage-celebrations-via-video-conference.txt', '/content/split/pms-address-on-inauguration-ceremony-of-ghogha-dahej-ro-ro-ferry-service-cattle-feed-plant-in-ghogha.txt', '/content/split/pm-congratulates-dipa-karmakar-on-winning-gold-in-vault-event-at-fig-world-challenge-cup.txt', '/content/split/approval-to-signing-of-an-agreement-between-india-and-china-in-the-field-of-tourism.txt', '/content/split/ms-tulsi-gabbard-calls-on-pm.txt', '/content/split/mou-between-india-and-germany-for-solar-energy.txt', '/content/split/mou-between-india-and-the-uk-in-the-field-of-public-administration-and-governance-reforms.txt', '/content/split/sixth-brics-summit-fortaleza-declaration.txt', '/content/split/pm-invites-president-obama-to-be-chief-guest-at-republic-day.txt', '/content/split/text-of-pms-address-at-the-foundation-stone-laying-ceremony-of-hals-new-helicopter-factory-at-tumakuru.txt', '/content/split/delegation-from-aligarh-muslim-university-calls-on-pm.txt', '/content/split/text-of-pms-mann-ki-baat-programme-on-all-india-radio-on-25-september-2016.txt', '/content/split/english-rendering-of-pms-response-to-questions-during-joint-press-interaction-with-president-of-united-states-of-america.txt', '/content/split/pm-to-visit-varanasi-on-september-17-and-18-2018.txt', '/content/split/india-mexico-joint-statement-during-the-visit-of-prime-minister-to-mexico.txt', '/content/split/establishment-of-six-new-indian-institutes-of-management.txt', '/content/split/pms-address-at-the-foundation-stone-laying-ceremony-of-various-development-projects-in-mumbai.txt', '/content/split/pm-bows-to-loknayak-jayprakash-narayan-on-his-birth-anniversary.txt', '/content/split/text-of-the-pms-address-at-the-inauguration-ceremony-of-46th-session-of-indian-labour-conference.txt', '/content/split/cabinet-apprised-of-mou-between-india-and-bangladesh-on-cooperation-in-the-peaceful-uses-of-outer-space.txt', '/content/split/pm-to-receive-french-president-emmanuel-macron-in-varanasi-tomorrow.txt', '/content/split/pms-address-at-the-inauguration-of-health-and-wellness-centre-to-mark-the-launch-of-ayushman-bharat-in-bijapur-chhattisgarh.txt', '/content/split/pm-presents-certificates-to-innovators-in-the-indian-army-on-the-occasion-of-army-day.txt', '/content/split/pm-greets-the-people-of-algeria-on-algerias-independence-day.txt', '/content/split/pms-remarks-at-community-reception-in-paris.txt', '/content/split/pm-salutes-nari-shakti-on-international-womens-day-2.txt', '/content/split/cabinet-approves-mou-between-spain-and-india-on-cooperation-in-the-field-of-organ-transplant-services.txt', '/content/split/pm-wishes-japanese-pm-on-his-birthday.txt', '/content/split/cabinet-approves-indias-approach-to-climate-change-negotiations-at-the-cop-to-the-unfcc.txt', '/content/split/press-release-pms-mann-ki-baat-on-radio.txt', '/content/split/excerpts-of-pms-remarks-at-the-roundtable-meeting-with-business-leaders-at-masdar-city.txt', '/content/split/cabinet-approves-mou-between-india-and-mali-for-standardization-and-conformity-assessment.txt', '/content/split/dg-wto-calls-on-pm.txt', '/content/split/memorandum-of-understanding-between-india-and-germany-on-security-cooperation.txt', '/content/split/pm-visits-jhansi.txt', '/content/split/pm-serves-3-billionth-meal-to-underprivileged-children-in-vrindavan.txt', '/content/split/cabinet-approves-mou-between-india-and-tanzania.txt', '/content/split/cabinet-appraisal-of-mou-between-isro-and-canadian-space-agency-on-cooperation-in-the-field-of-outer-space.txt', '/content/split/pm-addresses-silver-jubilee-celebrations-of-the-shree-kutchi-leva-patel-samaj-in-nairobi-kenya-via-video-conferencing.txt', '/content/split/unleashing-indias-entrepreneurial-energy.txt', '/content/split/pm-meets-heads-of-delegations-of-like-minded-developing-countries-in-the-run-up-to-cop-21-in-paris.txt', '/content/split/cabinet-approves-transfer-of-40-acres-of-aai-land-at-rr-station-dahisar-to-mmrda.txt', '/content/split/approval-of-national-offshore-wind-energy-policy.txt', '/content/split/cabinet-approves-signing-and-ratification-of-protocol-amending-the-agreement-between-india-and-china-for-the-avoidance-of-double-taxation-and-the-prevention-of-fiscal-evasion.txt', '/content/split/text-of-pms-address-at-launching-ceremony-of-dd-kisan-channel.txt', '/content/split/pms-address-at-the-inauguration-of-pakyong-airport-sikkim.txt', '/content/split/pm-inaugurates-the-ahmedabad-shopping-festival-2019.txt', '/content/split/pms-speech-at-the-launch-of-amma-two-wheeler-scheme-at-kalaivanar-arangam-chennai.txt', '/content/split/pms-address-at-the-industry-meet-at-ongc-petro-additions-limited-opal-dahej.txt', '/content/split/h-h-moran-mor-ignatius-aphrem-ii-supreme-head-of-the-universal-syrian-orthodox-church-calls-on-pm.txt', '/content/split/pm-shares-mann-ki-baat-with-citizens-through-all-india-radio.txt', '/content/split/text-of-prime-ministers-mann-ki-baat-on-all-india-radio-6.txt', '/content/split/pm-greets-the-people-on-the-occasion-of-various-festivals-across-india-2.txt', '/content/split/cabinet-apprised-of-the-mou-between-india-and-qatar-on-cooperation-in-the-field-of-youth-and-sports.txt', '/content/split/cabinet-approves-revised-cost-estimate-for-natrip-project.txt', '/content/split/nation-to-celebrate-sardar-patel-jayanti-as-rashtriya-ekta-diwas-tomorrow-pm-to-flag-off-run-for-unity-at-rajpath.txt', '/content/split/cabinet-approves-mou-among-new-energy-and-industrial-technology-development-organization.txt', '/content/split/pms-address-at-the-inauguration-of-the-104th-session-of-the-indian-science-congress-tirupati.txt', '/content/split/pm-reviews-progress-of-sarva-shiksha-abhiyan.txt', '/content/split/mou-between-india-and-belgium-for-energy.txt', '/content/split/pm-condoles-the-passing-away-of-shri-balramji-dass-tandon-the-governor-of-chhattisgarh.txt', '/content/split/pm-flags-off-train-between-varanasi-and-patna-launches-various-development-projects-addresses-public-meeting-in-varanasi.txt', '/content/split/pm-expresses-grief-over-terror-attack-in-london.txt', '/content/split/cabinet-approves-umbrella-schemes-for-relief-and-rehabilitation-of-migrants-and-repatriates.txt', '/content/split/text-of-pms-address-at-the-function-to-mark-the-birth-centenary-of-shri-girdhari-lal-dogra-at-jammu.txt', '/content/split/cabinet-approves-signing-of-india-russia-agreement-on-cooperation-in-combating-terrorism-and-organized-crime.txt', '/content/split/cabinet-expresses-gratitude-to-state-cms-and-others-for-their-cooperation-in-introduction-of-gst.txt', '/content/split/text-of-prime-minister-shri-narendra-modis-address-during-the-ceremony-held-to-dedicate-indigenously-built-warship-ins-kolkata-to-the-nation-at-mumbai-naval-base.txt', '/content/split/pm-greets-the-people-on-the-start-of-holy-month-of-ramzan.txt', '/content/split/pm-to-review-flood-situation-in-the-north-eastern-states-tomorrow.txt', '/content/split/pm-interacts-with-indian-community-in-tokyo-japan.txt', '/content/split/memorandum-of-understanding-between-india-and-international-monetary-fund-for-setting-up-of-south-asia-regional-training-and-technical-assistance-center-in-india-by-the-international-monetary-fund.txt', '/content/split/pm-salutes-navy-personnel-on-navy-day.txt', '/content/split/pm-congratulates-the-successful-candidates-of-civil-services-examination.txt', '/content/split/pm-performs-swachhta-shramdaan-visits-pashudhan-arogya-mela-addresses-gathering-at-shahanshahpur-varanasi.txt', '/content/split/pms-gift-to-myanmar-state-counsellor-daw-aung-san-suu-kyi.txt', '/content/split/cabinet-approves-signing-of-revised-air-services-agreement-between-india-and-nigeria.txt', '/content/split/pms-statement-prior-to-departure-for-japan.txt', '/content/split/cabinet-approves-ratification-of-the-minamata-convention-on-mercury.txt', '/content/split/memorandum-of-understanding-between-india-and-united-kingdom-in-the-field-of-cooperation-in-the-energy-sector.txt', '/content/split/pm-meets-brazilian-president-dilma-rousseff-in-brasilia.txt', '/content/split/pmos-website-gets-a-new-look.txt', '/content/split/high-level-committee-for-restructuring-of-fci-submits-report-to-pm.txt', '/content/split/pms-roundtable-interaction-with-saudi-business-leaders.txt', '/content/split/pm-to-visit-chhattisgarh-on-14th-june-2018.txt', '/content/split/text-of-pms-address-at-the-launch-of-deendayal-upadhyaya-gram-jyoti-yojana-and-various-developmental-projects-at-patna.txt', '/content/split/pms-remarks-at-joint-dedication-of-petrapole-icp.txt', '/content/split/cabinet-approves-repositioning-of-north-eastern-council.txt', '/content/split/defence-minister-of-france-calls-on-pm.txt', '/content/split/pm-greets-people-on-cheti-chand.txt', '/content/split/goa-action-plan.txt', '/content/split/cabinet-approves-signing-of-air-services-agreement-between-india-and-rwanda.txt', '/content/split/pm-condoles-the-passing-away-of-yogacharya-bks-iyenger.txt', '/content/split/protocol-amending-agreement-bw-india-kuwait-for-avoidance-of-double-taxation-prevention-of-fiscal-evasion-with-respect-to-taxes-on-income.txt', '/content/split/pm-chairs-first-meeting-of-governing-council-of-niti-aayog.txt', '/content/split/cabinet-approves-mou-between-india-and-finland-in-the-field-of-biotechnology.txt', '/content/split/pm-launches-make-in-india-global-initiative.txt', '/content/split/pm-dedicates-to-the-nation-240-mw-uri-ii-hydropower-project-pm-government-committed-to-dispel-darkness-from-india.txt', '/content/split/pm-felicitates-medal-winners-of-2018-summer-youth-olympics.txt', '/content/split/text-of-pms-press-statement-in-tajikistan.txt', '/content/split/pm-expresses-grief-on-demise-of-veteran-poet-kedarnath-singh.txt', '/content/split/cabinet-approves-amendment-in-the-customs-and-excise-act-to-facilitate-implementation-of-gst.txt', '/content/split/pm-greets-the-people-on-the-occasion-of-various-festivals-across-india.txt', '/content/split/pms-gift-to-lord-mayor-of-hannover.txt', '/content/split/pm-to-inaugurate-15th-pravasi-bharatiya-diwas-convention-in-varanasi-on-22-january-2019.txt', '/content/split/pms-remarks-at-interaction-with-civil-society-groups-at-fiji-national-university.txt', '/content/split/cabinet-approves-setting-up-of-a-new-aiims-in-deoghar-jharkhand.txt', '/content/split/pm-expresses-pain-over-the-loss-of-lives-of-amarnath-yatris-in-a-bus-accident-announces-ex-gratia-relief.txt', '/content/split/pm-inaugurates-indias-longest-bridge-in-assam-addresses-public-meeting-at-dhola.txt', '/content/split/government-establishes-niti-aayog-national-institution-for-transforming-india-to-replace-planning-commission.txt', '/content/split/shri-sitaram-kedilaya-calls-on-pm-after-successful-completion-of-bharat-parikrama-padyatra.txt', '/content/split/pm-to-attend-g-4-summit-in-new-york-city-tomorrow.txt', '/content/split/pms-speech-while-laying-foundation-stone-of-various-development-projects-in-jharkhand.txt', '/content/split/pms-interaction-through-pragati-18.txt', '/content/split/text-of-pms-address-during-inaugural-ceremony-of-mananeeya-eknath-ranade-janm-shati-parva.txt', '/content/split/tokyo-declaration-for-india-japan-special-strategic-and-global-partnership.txt', '/content/split/pm-extends-his-greetings-on-navroz.txt', '/content/split/cabinet-approves-mou-between-india-and-tajkistan-on-cooperation-on-youth-matters.txt', '/content/split/pm-releases-book-on-the-life-of-late-shri-kedarnath-sahni.txt', '/content/split/pm-bows-to-shaheed-bhagat-singh-on-his-birth-anniversary.txt', '/content/split/pm-delighted-over-10-million-downloads-of-bhim-app-in-10-days.txt', '/content/split/india-and-us-to-co-host-the-global-entrepreneurship-summit-at-hyderabad-in-november-2017.txt', '/content/split/pms-gift-to-the-king-of-saudi-arabia.txt', '/content/split/pms-mann-ki-baat-programme-on-all-india-radio-13.txt', '/content/split/pm-condoles-the-demise-of-indian-social-activist-and-writer-smt-mahashweta-devi.txt', '/content/split/pms-upcoming-visit-to-ireland-and-united-states-of-americausa.txt', '/content/split/pm-wishes-the-women-officers-of-navika-sagar-parikrama-the-very-best-urges-people-to-share-good-wishes-on-the-nm-app.txt', '/content/split/pms-address-to-the-indian-community-in-lisbon-portugal.txt', '/content/split/the-rt-hon-david-cameron-former-pm-of-the-uk-calls-on-prime-minister.txt', '/content/split/pm-dedicates-chutak-hydropower-station-to-the-nation-in-kargil.txt', '/content/split/text-of-pms-letter-to-the-people-on-economic-issues.txt', '/content/split/cabinet-approves-usof-support-to-bsnl-for-rural-wire-line-connections-installed-prior-to-1-4-2002.txt', '/content/split/2611-pm-salutes-the-bravery-of-security-personnel-who-laid-down-their-lives-and-reaffirms-commitment-to-combat-terrorism.txt', '/content/split/pm-interacts-with-recipients-of-nari-shakti-puraskar-2.txt', '/content/split/cabinet-approves-transfer-of-land-at-ranchi-by-heavy-engineering-corporation-limited-to-the-jharkhand-government.txt', '/content/split/leasing-of-73-sqm-of-defence-land-at-naval-dockyard-mumbai-to-ms-best.txt', '/content/split/preferential-treatment-by-india-to-least-developed-countries-ldcs-in-trade-in-services-in-the-wto.txt', '/content/split/valedictory-session-of-assistant-secretaries-ias-officers-of-2016-batch-make-presentations-to-pm.txt', '/content/split/mr-tharman-shanmugaratnam-deputy-prime-minister-of-singapore-calls-on-pm.txt', '/content/split/pm-releases-commemorative-stamp-and-coin-on-paika-rebellion-dedicates-iit-bhubaneswar-campus-to-the-nation.txt', '/content/split/pm-pays-tributes-to-netaji-subhas-chandra-bose-on-his-jayanti.txt', '/content/split/pm_con_ravindra_jain.txt', '/content/split/text-of-pms-address-during-interaction-with-school-children-on-teachers-day.txt', '/content/split/cabinet-approves-revised-cost-estimates-for-establishment-of-eight-new-iits.txt', '/content/split/text-of-pms-mann-ki-baat-programme-on-all-india-radio-3.txt', '/content/split/pms-address-at-india-south-africa-business-forum.txt', '/content/split/pm-extends-his-best-wishes-to-the-people-of-kyrgyzstan-on-their-independence-day.txt', '/content/split/pm-strongly-condemns-terror-attack-in-uri.txt', '/content/split/pm-inaugurates-state-of-the-art-hospital-in-surat-says-ayushman-bharat-will-improve-healthcare-services-and-facilities.txt', '/content/split/pm-makes-a-congratulatory-telephone-call-to-president-of-maldives-mr-ibrahim-mohamed-solih.txt', '/content/split/mous-with-japan-and-russia-in-the-various-fields-of-railways.txt', '/content/split/cabinet-approves-mou-between-india-and-vietnam-on-economic-and-trade-cooperation.txt', '/content/split/cabinet-approves-additional-2-percent-dearness-allowance-da-for-central-government-employees-and-dearness-relief-dr-to-pensioners-w-e-f-1st-july-2018.txt', '/content/split/pm-to-visit-rajasthan-on-july-7-2018.txt', '/content/split/pms-address-at-the-release-of-commemorative-coin-in-honour-of-former-pm-atal-bihari-vajpayee.txt', '/content/split/main-statement-by-pm-in-the-brics-leaders-meeting-2.txt', '/content/split/pm-presents-drdo-awards.txt', '/content/split/cabinet-approves-mou-between-india-and-tajkistan-on-cooperation-on-peaceful-uses-of-space-technology-for-development.txt', '/content/split/excited-to-meet-pm-shinzo-abe-pm-tweets-in-japanese-for-the-first-time.txt', '/content/split/pm-dedicates-to-the-nation-the-national-institute-of-science-education-and-research-in-bhubaneswar.txt', '/content/split/cabinet-approves-mou-signed-between-india-and-france-in-the-field-of-renewable-energy.txt', '/content/split/pm-inaugurates-development-initiatives-in-lucknow-uttar-pradesh.txt', '/content/split/pms-address-at-the-youth-convention-at-tumakuru-karnataka-via-video-conference.txt', '/content/split/pms-speech-on-the-occasion-of-his-interaction-with-mudra-yojana-beneficiaries.txt', '/content/split/pm-greets-the-people-of-the-republic-of-maldives-on-the-50th-anniversary-of-their-independence.txt', '/content/split/pms-mann-ki-baat-programme-on-all-india-radio-2.txt', '/content/split/pms-gift-to-the-honble-supreme-leader-of-iran-and-to-president-rouhani.txt', '/content/split/cabinet-approves-amendments-to-housing-and-telephone-facilities-rules-constituency-allowance-rules-andoffice-expense-allowance-rules-for-mps.txt', '/content/split/mou-between-department-of-space-isro-kuwait-institute-of-scientific-research-on-cooperation-in-the-area-of-outer-space.txt', '/content/split/text-of-pms-address-at-inauguration-ceremony-of-ges-multi-modal-manufacturing-facility-at-chakan-pune.txt', '/content/split/pms-address-at-the-inauguration-ceremony-of-patanjali-research-institute-in-haridwar.txt', '/content/split/up-cm-donates-rs-five-crore-towards-pmnrf.txt', '/content/split/cabinet-approves-fmbap-for-flood-management-works-in-entire-country-and-river-management-activities-and-works-related-to-border-areas-during-2017-18-to-2019-20.txt', '/content/split/pms-press-statement-during-the-visit-of-the-president-of-russia-to-india.txt', '/content/split/amendments-in-the-central-list-of-other-backward-classes-obcs-in-respect-of-the-two-states-gujarat-and-uttarakhand.txt', '/content/split/list-of-agreementsmous-exchanged-during-the-state-visit-of-crown-prince-of-abu-dhabi-to-india.txt', '/content/split/pm-writes-to-the-prime-minister-of-the-kingdom-of-tonga-congratulates-him-on-his-election-as-prime-minister.txt', '/content/split/pm-reviews-drought-and-water-scarcity-situation-at-high-level-meeting-with-andhra-pradesh-cm.txt', '/content/split/text-of-pms-statement-to-media-in-the-joint-press-briefing-with-with-french-president-in-new-delhi.txt', '/content/split/pms-statement-prior-to-his-departure-to-philippines.txt', '/content/split/pm-israeli-pm-netanyahu-visit-centre-of-excellence-for-vegetables-at-vadrad.txt', '/content/split/shri-p-k-sinha-appointed-cabinet-secretary.txt', '/content/split/pm-visits-gujarat-launches-saurashtra-narmada-irrigation-project.txt', '/content/split/prime-minister-receives-the-foreign-minister-and-the-minister-of-international-trade-of-canada.txt', '/content/split/pm-announces-ex-gratia-for-flood-victims-of-assam-and-rajasthan.txt', '/content/split/pms-speech-at-the-inauguration-and-laying-of-foundation-stone-of-various-major-highway-projects-in-rajasthan.txt', '/content/split/cabinet-approves-ratification-of-the-paris-agreement.txt', '/content/split/pm-greets-the-president-shri-pranab-mukherjee-on-his-birthday.txt', '/content/split/pm-launches-key-development-projects-at-kalaburagi-and-kancheepuram.txt', '/content/split/cabinet-approves-establishment-of-irri-isarc-at-campus-of-nsrtc-in-varanasi.txt', '/content/split/cabinet-approves-bilateral-investment-treaty-between-india-and-cambodia-to-boost-investment.txt', '/content/split/delegation-of-sgpc-with-minister-of-food-processing-industries-calls-on-pm.txt', '/content/split/cabinet-approves-renewal-of-mou-between-the-icai-saudi-organisation-for-certified-public-accountants.txt', '/content/split/pm-extends-best-wishes-to-global-investors-summit-2017-in-jharkhand.txt', '/content/split/pm-congratulates-people-for-getting-their-own-state-doordarshan-channels-on-dd-free-dish.txt', '/content/split/pm-in-nagpur.txt', '/content/split/pm-to-ias-probationers.txt', '/content/split/list-of-mous-signed-between-india-and-south-africa-during-10th-brics-summit.txt', '/content/split/pm-invites-ideas-for-the-mission-swacch-bharat.txt', '/content/split/the-rt-hon-boris-johnson-british-foreign-secretary-calls-on-pm.txt', '/content/split/pm-arrives-in-dhordo-attends-inaugural-session-of-conference-of-dgps.txt', '/content/split/pm-to-inaugurate-the-dr-ambedkar-international-centre-tomorrow.txt', '/content/split/polar-satellite-launch-vehicle-continuation-programme-operational-flights-pslv-c36-to-pslv-c50.txt', '/content/split/pms-mann-ki-baat-programme-on-all-india-radio-19.txt', '/content/split/pm-reviews-progress-of-monsoon.txt', '/content/split/pm-greets-the-nation-on-mahalaya.txt', '/content/split/pm-we-are-committed-to-realising-the-potential-of-the-north-east-and-accelerating-its-progress.txt', '/content/split/prime-minister-to-inaugurate-uttar-pradesh-investors-summit-in-lucknow-on-february-21.txt', '/content/split/cabinet-approves-hiving-off-mobile-tower-assets-of-bsnl-into-a-separate-company-fully-owned-by-bsnl.txt', '/content/split/text-of-pms-remarks-at-public-meeting-after-dedication-to-the-nation-of-4-5-mt-expansion-of-rourkela-steel-plant.txt', '/content/split/cabinet-approves-allocation-of-2-5-per-cent-of-central-road-fund-for-development-and-maintenance-of-national-waterways.txt', '/content/split/renewal-of-agreement-for-scientific-and-technological-cooperation-between-government-of-india-and-the-european-union.txt', '/content/split/pms-address-at-the-dedication-of-multiple-development-projects-in-bharuch-gujarat.txt', '/content/split/pms-address-at-the-launch-of-historic-support-and-outreach-initiative-for-msme-sector.txt', '/content/split/pm-congratulates-mr-justin-trudeau-for-the-victory-in-canadian-parliamentary-elections.txt', '/content/split/pms-speech-at-community-reception-in-israel.txt', '/content/split/list-of-agreementsmous-signed-on-the-occasion-of-the-prime-ministers-visit-to-oman.txt', '/content/split/exchange-of-scattered-plots-of-land-of-directorate-general-of-lighthouses-and-lightships-with-land-of-ms-jsw-jaigarh-port-limited-at-jaigarh-lighthouse-ratnagiri-maharashtra.txt', '/content/split/pm-interacts-with-table-tennis-medal-winners-of-commonwealth-games-2018.txt', '/content/split/cabinet-approves-signing-of-mou-between-india-and-armenia-on-cooperation-on-youth-matters.txt', '/content/split/pm-congratulates-isro-scientists-for-successful-launch-of-navigation-satellite-irnss-1c.txt', '/content/split/cabinet-approves-regularisation-of-pay-scales-of-below-board-level-executives-in-nhpc-ltd-north-east-electric-power-corporation-thdc-india-ltd-and-sjvn-ltd.txt', '/content/split/pms-address-at-the-prime-ministers-ncc-rally-in-new-delhi.txt', '/content/split/pm-bows-to-sri-guru-nanak-devji-on-guru-nanak-jayanti.txt', '/content/split/pm-greets-the-people-on-kutchi-new-year.txt', '/content/split/prime-ministers-address-at-dussehra-celebrations-at-lal-qila-ground-new-delhi.txt', '/content/split/cabinet-approves-certain-official-amendments-to-the-national-medical-commission-nmc-bill.txt', '/content/split/memorandum-of-understanding-between-the-government-of-the-federative-republic-of-brazil-and-the-government-of-the-republic-of-india-and-on-cooperation-in-the-field-of-environment.txt', '/content/split/pm-pays-tributes-to-former-president-of-india.txt', '/content/split/pm-visits-sindri-lays-foundation-stone-of-various-development-projects-in-jharkhand.txt', '/content/split/pm-remembers-shri-ik-gujral-on-his-birth-anniversary.txt', '/content/split/pm-launches-book-on-pre-modern-kutchi-navigation-techniques-and-voyages.txt', '/content/split/cabinet-approves-mou-between-india-and-uk-on-cancer-research-initiative.txt', '/content/split/cabinet-approves-raising-extra-budgetary-resources-for-long-term-irrigation-fund-during-the-year-2017-18.txt', '/content/split/pms-interaction-with-medal-winners-of-18th-asian-games.txt', '/content/split/cabinet-approves-revised-guidelines-on-time-bound-closure-of-sick-loss-making-cpses-and-disposal-of-movable-and-immovable-assets.txt', '/content/split/pm-greets-the-people-on-lohri.txt', '/content/split/pm-condemns-the-attack-in-kabul-extends-condolences-to-the-bereaved-families.txt', '/content/split/text-of-pms-concluding-remarks-at-3rd-india-africa-forum-summit.txt', '/content/split/pms-address-at-the-rising-india-summit.txt', '/content/split/pm-in-jammu-2.txt', '/content/split/text-of-opening-remarks-by-pm-at-the-brics-leaders-meeting.txt', '/content/split/delegation-of-muslim-ulemas-intellectuals-and-academicians-calls-on-pm.txt', '/content/split/cabinet-approves-four-gst-bills.txt', '/content/split/pm-condoles-loss-of-lives-in-gail-pipeline-fire-in-andhra-pradesh.txt', '/content/split/pms-informal-interaction-with-ias-officers-participating-in-mid-career-training-programme.txt', '/content/split/on-ambedkar-jayanti-pm-inaugurates-health-and-wellness-centre-to-mark-the-launch-of-ayushman-bharat-in-bijapur-chhattisgarh.txt', '/content/split/prime-minister-modi-chancellor-merkel-co-chair-4th-india-germany-inter-govermental-consultations-in-berlin.txt', '/content/split/us-secretary-of-defence-ashton-carter-calls-on-pm.txt', '/content/split/cabinet-approves-mou-between-india-and-norway-for-undertaking-non-intrusive-geological-surveys-and-investigations.txt', '/content/split/pm-expresses-grief-over-loss-of-lives-in-bus-accident-in-ratlam.txt', '/content/split/pm-offers-prayers-at-pashupatinath-temple-in-nepal.txt', '/content/split/cabinet-approves-setting-up-of-a-railway-zone-at-vishakhapatnam.txt', '/content/split/pms-speech-at-unveiling-of-112-feet-statue-of-adiyogi-the-shiva.txt', '/content/split/cabinet-approves-re-routing-of-state-highway-passing-through-naval-land-at-kakinada.txt', '/content/split/pms-statement-to-the-media-in-mauritius.txt', '/content/split/memorandum-of-understanding-between-the-ministry-of-external-relations-of-the-federative-republic-of-brazil-and-the-ministry-of-external-affairs-of-the-republic-of-india-on-the-establishment-of-a-cons.txt', '/content/split/cabinet-approves-amending-the-collection-of-statistics-act-2008-7-of-2009.txt', '/content/split/pm-congratulates-indian-womens-table-tennis-team-on-winning-the-gold-medal.txt', '/content/split/mou-between-india-and-uae-on-cooperation-in-preventing-and-combating-of-human-trafficking.txt', '/content/split/pm-visits-chhattisgarh-launches-jungle-safari-unveils-statue-of-pt-deendayal-upadhyay-inaugurates-rajyotsav.txt', '/content/split/pms-engagements-in-uk-november-13-2015.txt', '/content/split/pms-engagements-in-kuala-lumpur-november-23-2015.txt', '/content/split/cabinet-approves-the-river-ganga-rejuvenation-protection-and-management-authorities-order-2016.txt', '/content/split/text-of-pms-address-at-the-golden-jubilee-celebrations-of-the-works-of-rashtrakavi-ramdhari-singh-dinkar.txt', '/content/split/pm-invites-ideas-on-beti-bachao-beti-padhao-on-the-occasion-of-international-day-of-the-girl-child.txt', '/content/split/cabinet-approves-an-mou-between-india-and-hellenic-on-renewable-energy-cooperation.txt', '/content/split/shri-tridandi-srimannarayana-ramanuja-chinna-jeeyar-swamiji-calls-on-pm.txt', '/content/split/pm-greets-parsi-community-on-navroz.txt', '/content/split/pm-launches-development-projects-in-kanyakumari.txt', '/content/split/pm-expresses-grief-over-the-news-of-bus-accident-in-udhampur-jammu-and-kashmir.txt', '/content/split/pm-to-visit-amethi-uttar-pradesh-on-3rd-march-2019.txt', '/content/split/pm-congratulates-n-biren-singh-on-taking-oath-as-manipur-cm.txt', '/content/split/pm-salutes-all-those-who-sacrificed-their-lives-for-indias-unity-during-the-period-of-the-merger-of-hyderabad-state-into-india.txt', '/content/split/pm-addresses-samajik-adhikarita-shivir-in-rajkot-distributes-aids-and-assistive-devices-to-divyang.txt', '/content/split/pms-address-at-the-ceremony-to-dedicate-the-tuirial-hydro-electric-power-project-to-the-nation-in-aizawl-mizoram.txt', '/content/split/cabinet-approves-bilateral-swap-arrangement-between-india-and-japan.txt', '/content/split/pm-greets-the-nation-on-mahavir-jayanti.txt', '/content/split/memorandum-of-understanding-between-india-and-bahrain-on-cooperation-for-prevention-of-human-trafficking-especially-trafficking-in-women-and-children.txt', '/content/split/pm-condoles-the-demise-of-kerala-assembly-speaker-shri-g-karthikeyan.txt', '/content/split/pm-shares-specially-created-web-pages-on-his-upcoming-visit-to-china-mongolia-and-south-korea.txt', '/content/split/pm-condoles-the-demise-of-shri-cho-ramaswamy.txt', '/content/split/text-of-pms-inaugural-address-at-103rd-session-of-indian-science-congress.txt', '/content/split/cabinet-approves-productivity-linked-bonus-for-railway-employees.txt', '/content/split/pm-hands-over-chaadar-to-be-offered-at-dargah-of-khwaja-moinuddin-chishti-4.txt', '/content/split/cabinet-approves-agreement-between-india-and-jordan-on-cooperation-and-mutual-administrative-assistance-in-customs-matters.txt', '/content/split/pm-greets-the-people-of-meghalaya-manipur-and-tripura-on-their-statehood-day.txt', '/content/split/cabinet-approves-retirement-age-of-doctors-of-central-health-services-to-65-years.txt', '/content/split/pm-interacts-with-indian-community-in-lisbon-portugal.txt', '/content/split/cabinet-approves-signing-an-agreement-between-india-and-armenia-on-cooperation-and-mutual-assistance-in-customs-matters.txt', '/content/split/pm-in-solapur-dedicates-to-the-nation-765-kv-solapur-raichur-transmission-lines-and-four-laning-of-pune-solapur-section-of-nh-9.txt', '/content/split/highlights-of-pms-visit-to-katra-jammu-kashmir.txt', '/content/split/cabinet-approves-revisedsalaries-gratuity-allowances-and-pension-for-the-judges-of-the-supreme-court-and-the-high-courts.txt', '/content/split/pms-speech-at-speech-at-samajik-adhikarita-shivir-vadodara.txt', '/content/split/pm-greets-the-people-of-chhattisgarh-on-the-states-foundation-day.txt', '/content/split/pm-pays-tributes-to-acharya-jb-kripalani-and-maulana-abul-kalam-azad-on-their-birth-anniversaries.txt', '/content/split/pm-to-visit-hazira-in-surat-tomorrow.txt', '/content/split/pm-condoles-the-passing-away-of-noted-architect-charles-correa.txt', '/content/split/mou-between-insurance-regulatory-and-development-authority-of-india-and-the-insurance-authority-uae.txt', '/content/split/pm-congratulates-all-india-radio-akashvani-on-the-launch-of-akashvani-maitree.txt', '/content/split/cabinet-approves-mou-between-india-and-afghanistan-on-cooperation-in-the-peaceful-uses-of-outer-space.txt', '/content/split/pms-remarks-at-public-meeting-after-dedication-to-the-nation-of-4-5-mt-expansion-of-rourkela-steel-plant.txt', '/content/split/cabinet-approves-joint-issue-of-postage-stamp-between-india-and-south-africa.txt', '/content/split/text-of-pms-statement-at-the-united-nations-summit-for-the-adoption-of-post-2015-development-agenda.txt', '/content/split/pm-to-visit-kalaburagi-in-karnataka-and-kancheepuram-in-tamil-nadu-on-6th-march-2019.txt', '/content/split/memorandum-of-understanding-between-india-and-china-on-cooperation-in-the-fields-of-mining-and-mineral-sector.txt', '/content/split/pm-addresses-indian-community-in-brussels.txt', '/content/split/cabinet-gives-ex-post-facto-approval-to-enhancement-of-pension-for-freedom-fighters.txt', '/content/split/pms-address-at-the-centenary-year-celebrations-of-shri-saibaba-samadhi.txt', '/content/split/pm-inaugurates-hospital-in-dickoya-addresses-indian-origin-tamil-community-in-norwood.txt', '/content/split/pm-addresses-inaugural-session-of-90th-annual-general-meeting-of-ficci.txt', '/content/split/pm-expresses-deep-sympathy-towards-the-affected-people-on-5th-anniversary-of-great-east-japan-earthquake.txt', '/content/split/ips-officer-trainees-of-2016-batch-call-on-pm.txt', '/content/split/mou-between-india-and-seychelles-on-renewable-energy-cooperation.txt', '/content/split/cabinet-approves-continuation-of-rastriya-yuva-sashaktikaran-karyakram-scheme-for-the-period-2017-18-to-2019-2020.txt', '/content/split/cabinet-approves-revision-of-policy-for-providing-defence-land-to-communication-operators-for-construction-of-shared-communication-towers-and-allied-infrastructure.txt', '/content/split/pm-addresses-jan-abhar-rally-in-dharamshala-to-mark-one-year-of-himachal-pradesh-government.txt', '/content/split/pm-takes-stock-of-situation-following-fresh-earthquake.txt', '/content/split/pms-statement-prior-to-his-departure-for-us.txt', '/content/split/pm-interacts-with-the-beneficiaries-of-ayushman-bharat-at-ranchi.txt', '/content/split/pms-address-at-asian-ministerial-conference-on-disaster-risk-reduction.txt', '/content/split/pm-expresses-pain-over-the-loss-of-lives-due-to-fire-in-mumbai.txt', '/content/split/cabinet-approves-collaboration-agreement-to-support-the-belmont-forum-secretariat.txt', '/content/split/pm-condoles-loss-of-lives-in-landslide-in-pune-district-directs-home-minister-to-rush-to-pune.txt', '/content/split/pms-kerala-piravi-greetings.txt', '/content/split/text-of-pms-statement-to-media-ahead-of-the-budget-session-of-the-parliament.txt', '/content/split/setting-up-of-new-allms-under-pradhan-mantri-swasthya-suraksha-yojna.txt', '/content/split/pms-address-at-indian-community-event-in-south-korea.txt', '/content/split/pms-statement-to-media-ahead-of-the-second-round-of-the-budget-session-of-parliament.txt', '/content/split/cabinet-approves-motor-vehicle-amendment-bill-2016-historical-step-towards-making-roads-safe-and-save-lakhs-of-innocent-lives.txt', '/content/split/pm-greets-the-people-of-mizoram-and-arunachal-pradesh-on-their-statehood-day.txt', '/content/split/cabinet-approves-promulgation-of-an-ordinance-for-amendment-to-the-special-economic-zones-act-2005.txt', '/content/split/prime-minister-shri-narendra-modis-statement-in-6th-brics-summit-on-the-agenda-political-coordination-international-governance-regional-crises.txt', '/content/split/pms-address-at-function-to-mark-75th-anniversary-of-hoisting-of-tricolour-on-indian-soil-by-netaji.txt', '/content/split/pm-expresses-delight-on-the-successful-maiden-test-firing-of-brahmos-alcm-from-su-30mki.txt', '/content/split/pm-unveils-state-of-art-sardar-vallabh-bhai-patel-institute-of-medical-sciences-in-ahmedabad.txt', '/content/split/pm-in-andhra-pradesh-on-vijaya-dashami.txt', '/content/split/pm-greets-the-people-on-milad-un-nabi.txt', '/content/split/pm-attends-opening-ceremony-of-haryana-swarna-jayanti-celebrations.txt', '/content/split/pms-interaction-through-pragati-5.txt', '/content/split/pms-address-at-make-in-india-india-japan-partnership-in-africa-digital-partnership-seminar-in-tokyo.txt', '/content/split/pm-launches-dd-kisan-indias-first-television-channel-dedicated-to-farmers.txt', '/content/split/pm-reviews-progress-in-railway-and-road-sectors.txt', '/content/split/pm-pays-tributes-to-the-martyrs-of-the-jallianwala-bagh-massacre.txt', '/content/split/pms-remarks-on-national-panchayati-raj-day.txt', '/content/split/pms-interaction-through-pragati-4.txt', '/content/split/pm-welcomes-all-the-leaders-and-delegates-arriving-india-for-the-fipic-summit.txt', '/content/split/leasing-out-of-aai-land-to-m-p-warehousing-logistics-corp-for-establishing-centre-for-perishable-cargo-at-indore-airport.txt', '/content/split/pm-releases-commemorative-coin-in-honour-of-bharat-ratna-shri-atal-bihari-vajpayee.txt', '/content/split/pm-condoles-the-passing-away-of-v-s-naipaul.txt', '/content/split/pm-and-president-obama-to-share-their-thoughts-together-on-mann-ki-baat-today.txt', '/content/split/cabinet-approves-rs-1450-crore-for-the-share-capital-of-rbi-in-national-housing-bank-nhb.txt', '/content/split/pm-meets-dr-abdullah-abdullah-the-chief-executive-of-afghanistan.txt', '/content/split/pm-congratulates-the-president-of-india-on-completing-one-year-in-office.txt', '/content/split/cabinet-approves-construction-and-operationalisation-of-100-bedded-general-hospital-at-najafgarh-new-delhi.txt', '/content/split/cabinet-approves-mou-between-india-and-russia-on-bilateral-cooperation-in-the-road-transport-and-road-industry.txt', '/content/split/cabinet-approves-conversion-of-government-of-india-loan-into-equity-and-waiver-of-interest-in-respect-of-richardson-cruddas-1972-ltd.txt', '/content/split/cabinet-approves-signing-of-mous-between-india-australia-for-secondment-programme.txt', '/content/split/list-of-mous-agreements-signed-during-state-visit-of-crown-prince-of-saudi-arabia-to-india.txt', '/content/split/pm-in-varanasi-5.txt', '/content/split/pm-bows-to-shyamji-krishna-varma-on-his-birth-anniversary.txt', '/content/split/pm-attends-ashara-mubaraka-commemoration-of-martyrdom-of-imam-husain-sa-in-indore-addresses-gathering.txt', '/content/split/pm-pays-tributes-to-rabindranath-tagore-on-his-jayanti.txt', '/content/split/documents-signedfinalized-in-the-run-up-to-the-visit-of-prime-minister-of-india-to-the-us.txt', '/content/split/pm-launches-first-indigenously-developed-and-manufactured-vaccine-against-rotavirus.txt', '/content/split/pms-speech-at-the-saarc-summit.txt', '/content/split/pms-congratulatory-call-to-president-putin-on-latters-victory-in-the-presidential-elections.txt', '/content/split/kuwait-nri-student-riddhiraj-donates-prize-money-to-indian-army-welfare-fund.txt', '/content/split/pms-address-on-the-occasion-of-world-environment-day-2018-at-vigyanbhawan.txt', '/content/split/cabinet-approves-ratification-of-the-minimum-age-convention-and-worst-forms-of-child-labour-convention-of-the-ilo.txt', '/content/split/cabinet-approves-signing-of-memorandum-of-understanding-amongst-brics-nations-on-the-regional-aviation-partnership.txt', '/content/split/powering-indias-growth.txt', '/content/split/text-of-pms-remarks-at-the-valedictory-session-of-civil-services-day-event.txt', '/content/split/world-leaders-congratulate-pm-on-assembly-election-results.txt', '/content/split/text-of-pms-statement-to-the-media-in-the-joint-press-briefing-with-us-president-mr-barack-obama.txt', '/content/split/pms-twenty-seventh-interaction-through-pragati.txt', '/content/split/informal-summit-between-india-and-russia.txt', '/content/split/pm-interacts-with-sugarcane-farmers.txt', '/content/split/pm-expresses-sadness-over-the-loss-of-lives-due-to-the-bomb-explosion-in-ankara.txt', '/content/split/pm-receives-foreign-minister-of-bangladesh.txt', '/content/split/pm-congratulates-isro-on-being-conferred-the-gandhi-peace-prize-for-2014.txt', '/content/split/pm-to-visit-jharkhand-and-odisha-on-january-5-2019.txt', '/content/split/pm-congratulates-mr-anerood-jugnauth-on-the-victory-of-his-alliance-in-the-mauritius-elections.txt', '/content/split/memorandum-of-understanding-in-energy-saving-and-energy-efficiency-among-brics-countries-2.txt', '/content/split/pm-meets-scientists-from-laser-interferometer-gravitational-wave-observatory-ligo.txt', '/content/split/pm-greets-people-of-manipur-on-their-statehood-day-2.txt', '/content/split/pms-intervention-at-the-plenary-session-of-9th-brics-summit-xiamen-china.txt', '/content/split/pm-in-noida.txt', '/content/split/pm-extends-greetings-on-world-radio-day.txt', '/content/split/press-statement-by-pm-during-the-visit-of-president-of-egypt-to-india.txt', '/content/split/pm-to-visit-manipur-on-16-march-2018.txt', '/content/split/pms-address-to-the-nation-from-the-ramparts-of-the-red-fort-on-the-72nd-independence-day.txt', '/content/split/pms-press-statement-during-the-state-visit-of-prime-minister-of-australia-to-india.txt', '/content/split/pms-address-on-the-launch-of-saubhagya-yojana.txt', '/content/split/pm-bows-to-valiant-soldiers-on-kargil-vijay-diwas.txt', '/content/split/pm-congratulates-vinesh-phogat-on-winning-gold-in-50kg-wrestling-event.txt', '/content/split/pm-buddhism-is-a-very-strong-bond-between-china-and-india.txt', '/content/split/joint-statement-during-the-visit-of-pm-to-germany.txt', '/content/split/pms-address-at-the-public-meeting-to-mark-the-launch-of-70th-freedom-year-celebrations.txt', '/content/split/cabinet-apprised-of-two-bilateral-mous-between-india-and-cuba-and-india-and-korea-in-the-area-of-biotechnology.txt', '/content/split/pm-visits-lance-naik-hanumanthappa-in-hospital.txt', '/content/split/pms-address-at-ht-leadership-summit-2017.txt', '/content/split/pm-condoles-the-loss-of-lives-due-to-capsizing-of-a-boat-in-andhra-pradeshs-east-godavari-district.txt', '/content/split/text-of-pms-address-to-the-indian-community-in-myanmar.txt', '/content/split/pm-festival-of-sankranti-is-about-nature-energy-of-the-sun-and-progress-of-mankind.txt', '/content/split/pms-telephonic-conversation-with-mr-justin-trudeau-pm-designate-of-canada.txt', '/content/split/pm-greets-the-people-of-france-on-bastille-day.txt', '/content/split/pm-attends-75th-birthday-celebrations-of-shri-sharad-pawar.txt', '/content/split/cabinet-approves-agreement-between-india-and-morocco-on-mutual-legal-assistance-in-civil-and-commercial-matters.txt', '/content/split/pms-address-at-the-civic-reception-at-rashtriya-sabha-griha-in-kathmandu-nepal.txt', '/content/split/pms-address-at-the-15th-pravasi-bharatiya-divas-convention-2019-in-varanasi-uttar-pradesh.txt', '/content/split/pms-address-on-the-occasion-of-the-inauguration-of-bogibeel-bridge-in-assam.txt', '/content/split/pm-launches-national-rurban-mission.txt', '/content/split/pm-pays-tributes-to-sri-ramakrishna-paramhansa-on-his-birth-anniversary.txt', '/content/split/pm-greets-people-of-nagaland-on-statehood-day-2.txt', '/content/split/pms-address-at-dedication-of-various-development-projects-in-jhansi-uttar-pradesh.txt', '/content/split/text-of-pms-address-at-national-conference-of-dalit-entrepreneurs-organized-by-the-dalit-indian-chambers-of-commerce-and-industry-dicci.txt', '/content/split/cabinet-approves-central-goods-and-services-tax-amendment-bill-2017.txt', '/content/split/joint-statement-during-prime-ministers-visit-to-australia-november-16-18-2014.txt', '/content/split/pms-telephonic-conversation-with-us-president-barack-obama.txt', '/content/split/pms-upcoming-visit-to-sri-lanka.txt', '/content/split/pm-condoles-the-demise-of-shri-kps-gill.txt', '/content/split/pms-interaction-with-young-ias-officers.txt', '/content/split/cabinet-approves-bilateral-mou-between-india-and-afghanistan-on-technical-cooperation-on-police-training-and-development.txt', '/content/split/pms-address-at-the-launch-of-various-developmental-projects-at-bhilai-chhattisgarh.txt', '/content/split/signing-of-brics-memorandum-of-understanding-on-cooperation-in-the-fields-of-science-technology-and-innovation.txt', '/content/split/cabinet-approves-establishment-of-higher-education-financing-agency-for-creating-capital-assets-in-higher-educational-institutions.txt', '/content/split/pm-launches-ayushman-bharat-pmjay-at-ranchi.txt', '/content/split/pm-calls-on-hm-jigme-kesar-namgyel-wangchuck-meets-bhutan-pm-tobgay.txt', '/content/split/pms-remarks-at-ncc-rally.txt', '/content/split/pm-congratulates-anjum-moudgil-for-bagging-the-silver-in-the-womens-50m-rifle-3-positions-event.txt', '/content/split/pm-pays-homage-to-sri-narayana-guru-at-sivagiri-mutt.txt', '/content/split/amendments-to-the-maternity-benefit-act-1961.txt', '/content/split/pm-to-visit-andhra-pradesh-tamil-nadu-and-karnataka-tomorrow.txt', '/content/split/pms-remarks-at-india-us-ceo-forum.txt', '/content/split/pms-opening-remarks-at-the-consultation-meeting-with-cms-on-replacing-the-planning-commission.txt', '/content/split/pm-appreciates-arrangements-at-ujjain-simhasth.txt', '/content/split/cabinet-approves-cooperation-between-indian-and-japan-on-railway-safety.txt', '/content/split/text-of-pms-address-at-the-inauguration-of-newly-constructed-building-of-esic-medical-college-and-hospital-coimbatore.txt', '/content/split/pm-reviews-progress-of-rural-development-schemes.txt', '/content/split/member-of-the-u-s-house-of-representatives-ms-tulsi-gabbard-calls-on-pm.txt', '/content/split/text-of-pms-statement-at-inauguration-ceremony-of-new-integrated-terminal-of-tirupati-airport-andhra-pradesh.txt', '/content/split/pms-address-at-india-japan-business-leaders-forum.txt', '/content/split/all-party-delegation-from-karnataka-calls-on-pm.txt', '/content/split/pm-to-dedicate-and-lay-foundation-stone-for-key-projects-in-aiims.txt', '/content/split/mou-between-india-and-tunisia-for-strengthening-bilateral-cooperation-in-the-field-of-ict-and-digital-economy.txt', '/content/split/cabinet-approves-the-extradition-treaty-between-india-and-lithuania.txt', '/content/split/pms-press-statement-during-the-visit-of-president-of-argentina.txt', '/content/split/pms-gift-to-the-president-of-mongolia.txt', '/content/split/pm-pays-homage-to-mountaineer-malli-mastan-babu.txt', '/content/split/minimum-pension-of-rs-1000-per-month-in-perpetuity-to-pensioners-of-employees-pension-scheme-1995.txt', '/content/split/pms-engagements-in-nyc-and-san-josecalifornia-september-26th-2015.txt', '/content/split/pm-visits-leh-ladakh.txt', '/content/split/swami-prakashananda-head-of-sivagiri-mutt-kerala-calls-on-pm.txt', '/content/split/text-of-joint-editorial-by-pm-and-us-president-mr-barack-obama-published-on-the-website-of-washington-post.txt', '/content/split/establishment-of-atal-innovation-mission-and-self-employment-and-talent-utilisation-in-niti-aayog.txt', '/content/split/text-of-pms-opening-remarks-at-the-g4-summit-at-new-york.txt', '/content/split/pm-dedicates-bogibeel-bridge-to-the-nation-flags-off-first-passenger-train.txt', '/content/split/pm-reviews-drought-and-water-scarcity-situation-at-high-level-meeting-with-chhattisgarh-cm.txt', '/content/split/pms-speech-at-unveiling-ceremony-of-worlds-largest-bhagavad-gita.txt', '/content/split/swachh-bharat-mission-sidelights.txt', '/content/split/pms-gift-to-the-prime-minister-of-bangladesh.txt', '/content/split/pms-address-in-lok-sabha-on-gst-bill.txt', '/content/split/pm-assures-total-support-in-rescue-and-relief-operations-in-various-flood-affected-states.txt', '/content/split/pm-condoles-the-loss-of-lives-in-various-parts-of-the-country.txt', '/content/split/cabinet-approves-national-monitoring-framework-on-sustainable-development-goals.txt', '/content/split/pm-pays-tributes-to-swami-vivekananda-on-his-birth-anniversary.txt', '/content/split/signing-of-mou-india-and-australia-on-cooperation-in-the-fields-of-education-training-and-research.txt', '/content/split/h-e-ms-sheikh-hasina-prime-minister-of-bangladesh-meets-the-pm.txt', '/content/split/pm-greets-the-people-on-the-350th-foundation-day-of-sri-anandpur-sahib.txt', '/content/split/pms-address-young-ceos-at-the-champions-of-change-initiative-organized-by-niti-aayog.txt', '/content/split/prime-ministers-telephone-call-with-rt-hon-sher-bahadur-deuba-prime-minister-of-nepal.txt', '/content/split/protocol-amending-the-agreement-between-india-and-vietnam-for-the-avoidance-of-double-taxation-and-for-prevention-of-fiscal-evasion-with-respect-to-taxes-on-income.txt', '/content/split/pm-attends-function-to-mark-national-press-day.txt', '/content/split/15461-2.txt', '/content/split/delegation-of-saints-from-bochasanvasi-akshar-purushottam-sanstha-calls-on-pm.txt', '/content/split/pms-address-at-bhumi-pujan-for-redevelopment-of-gandhinagar-railway-station-complex-gujarat.txt', '/content/split/pm-speaks-to-assam-cm-regarding-flood-situation-in-the-state.txt', '/content/split/pm-addresses-book-release-event-to-mark-one-year-in-office-of-vice-president-venkaiah-naidu.txt', '/content/split/pm-addresses-company-secretaries-at-the-inauguration-of-the-golden-jubilee-year-of-icsi.txt', '/content/split/global-trade-show-the-flagship-event-in-the-run-up-to-vibrant-gujarat-summit-inaugurated-by-pm-in-gandhinagar.txt', '/content/split/pm-appalled-at-the-news-of-temple-being-built-in-his-name.txt', '/content/split/pms-opening-statement-at-15th-asean-india-summit-manila.txt', '/content/split/pm-chairs-combined-commanders-conference-on-board-ins-vikramaditya-at-sea.txt', '/content/split/cabinet-approves-continuation-of-centrally-sponsored-scheme-of-national-ayush-mission-upto-2020.txt', '/content/split/cabinet-approves-high-level-committee-to-implement-clause-6-of-assam-accord-several-longstanding-demands-of-bodos-also-approved.txt', '/content/split/pms-message-on-world-press-freedom-day.txt', '/content/split/saint-petersburg-declaration-by-the-russian-federation-and-the-republic-of-india-a-vision-for-the-21st-century.txt', '/content/split/pms-mann-ki-baat-programme-on-all-india-radio-15.txt', '/content/split/pms-statement-ahead-of-the-monsoon-session-of-the-parliament.txt', '/content/split/pm-in-jammu-3.txt', '/content/split/pm-announces-ex-gratia-for-victims-of-building-collapse-in-mumbai.txt', '/content/split/pm-greets-the-nation-on-dhanteras-5.txt', '/content/split/pms-address-at-the-inaugural-session-of-advantage-assam-global-investors-summit-2018-in-guwahati-assam.txt', '/content/split/pm-pays-tributes-to-dr-apj-abdul-kalam-on-his-birth-anniversary.txt', '/content/split/pm-conveys-his-greetings-to-the-people-of-sweden-on-their-national-day.txt', '/content/split/english-rendering-of-the-pms-statement-on-budget-2016-17.txt', '/content/split/pm-modi-and-japanese-pm-abe-lay-foundation-stone-for-indias-first-high-speed-rail-project.txt', '/content/split/pm-to-visit-agra-tomorrow-and-launch-several-projects-worth-rs-2980-crores.txt', '/content/split/pms-keynote-address-at-the-luncheon-hosted-by-nippon-kiedanren-the-japanese-chamber-of-commerce-and-industry-and-the-japan-india-business-cooperation-committee.txt', '/content/split/repealing-and-amending-third-bill-2015.txt', '/content/split/pm-greets-un-on-united-nations-day.txt', '/content/split/pms-press-statement-during-his-visit-to-portugal.txt', '/content/split/pm-expresses-deep-concern-over-the-flood-situation-in-varanasi.txt', '/content/split/pms-address-at-public-meeting-on-the-occasion-of-commencement-of-work-for-the-rajasthan-refinery-at-pachpadra-in-barmer-rajasthan.txt', '/content/split/pms-remarks-at-birth-anniversary-celebrations-of-dr-a-p-j-abdul-kalam.txt', '/content/split/pms-statement-prior-to-his-departure-to-uzbekistan-to-attend-sco-summit.txt', '/content/split/highlights-of-prime-ministers-address-on-independence-day.txt', '/content/split/cabinet-approves-recapitalisation-of-export-import-bank-of-india.txt', '/content/split/pms-address-at-valedictory-function-of-vigilance-awareness-week-2016.txt', '/content/split/pm-unveils-brics-u-17-football-trophy.txt', '/content/split/pm-expresses-grief-on-shocking-demise-of-actor-sridevi.txt', '/content/split/transfer-of-0-5-acre-of-land-belonging-to-the-central-rice-research-institute-cuttack-to-set-up-a-police-station.txt', '/content/split/pm-to-visit-andhra-pradesh-tomorrow.txt', '/content/split/pms-programme-on-radio.txt', '/content/split/pm-initiates-drive-towards-clean-ganga-participates-in-shramdaan-as-part-of-swachhta-abhiyan-at-assi-ghat-varanasi.txt', '/content/split/pm-visits-jalpaiguri-west-bengal.txt', '/content/split/pms-address-during-his-interaction-with-farmers-across-the-country.txt', '/content/split/cabinet-approves-mou-between-india-and-uk-on-technical-cooperation-in-the-field-of-sustainable-urban-development.txt', '/content/split/pm-condoles-the-passing-away-of-former-mp-and-speaker-shri-somnath-chatterjee.txt', '/content/split/pm-meets-officials-from-pmo-and-spg.txt', '/content/split/mou-between-india-and-bangladesh-on-cooperation-in-the-field-of-fisheries.txt', '/content/split/pm-reviews-progress-of-swachh-vidyalaya-programme.txt', '/content/split/pm-greets-the-people-of-maharashtra-and-gujarat-on-their-statehood-day.txt', '/content/split/pm-condoles-the-demise-of-shri-m-s-viswanathan.txt', '/content/split/90-days-of-digi-dhan-mela-towards-making-digital-payments-a-mass-movement.txt', '/content/split/pms-speech-at-digidhan-mela-in-new-delhis-talkatora-stadium.txt', '/content/split/text-of-pms-speech-at-the-launch-of-start-up-india-stand-up-india-programme.txt', '/content/split/pm-tweets-in-hebrew-to-greet-people-on-the-occasion-of-hanukkah.txt', '/content/split/pm-offers-last-respects-to-shri-gopinath-munde.txt', '/content/split/pm-pays-tributes-to-chhatrapati-shivaji-maharaj-on-shivaji-jayanti.txt', '/content/split/lic-to-acquire-controlling-stake-of-idbi-bank.txt', '/content/split/cabinet-approves-mou-between-upsc-and-cscm.txt', '/content/split/pm-gives-birthday-greetings-to-his-majesty-emperor-akihito-of-japan.txt', '/content/split/text-of-pms-statement-to-the-media-at-the-joint-press-briefing-with-german-chancellor-dr-angela-merkel.txt', '/content/split/pm-addresses-silver-jubilee-foundation-day-function-of-nhrc.txt', '/content/split/pm-addresses-the-inauguration-of-basava-jayanthi-2017-and-golden-jubilee-celebration-of-basava-samithi.txt', '/content/split/establishment-of-6-six-new-debts-recovery-tribunals-drts-at-chandigarh-bengaluru-ernakulam-dehradun-siliguri-and-hyderabad.txt', '/content/split/pm-to-address-un-summit-for-the-adoption-of-the-post-2015-development-agenda-hold-bilateral-meetings-in-new-york-city.txt', '/content/split/cabinet-approves-agreement-between-india-and-uzbekistan-on-cooperation-in-the-field-of-agriculture-and-allied-sectors.txt', '/content/split/cabinet-approves-setting-up-of-national-nutrition-mission.txt', '/content/split/cabinet-approves-agreement-on-the-facilitation-of-visa-arrangements-signed-between-india-and-maldives.txt', '/content/split/pms-address-at-gorakhnath-temple-in-gorakhpur-uttar-pradesh.txt', '/content/split/pm-greets-people-of-bihar-on-bihar-diwas-2.txt', '/content/split/signing-of-joint-declaration-of-intent-between-ministry-of-human-resource-development-and-federal-foreign-office-of-germany-on-promotion-of-german-as-an-additional-foreign-language-in-india-and-promot.txt', '/content/split/pms-address-at-event-to-mark-completion-of-25-years-of-nasscom.txt', '/content/split/the-budget-for-new-india-will-energise-the-nation-says-pm.txt', '/content/split/pm-congratulates-indian-hockey-team-for-winning-the-asia-cup-2017.txt', '/content/split/pm_s_eng_on11oct2015.txt', '/content/split/pm-launches-development-projects-in-ghaziabad-uttar-pradesh.txt', '/content/split/beti-bachao-beti-padhao-caring-for-the-girl-child.txt', '/content/split/pms-speech-at-limkheda-gujarat.txt', '/content/split/pm-greets-the-people-of-brazil-on-brazils-independence-day.txt', '/content/split/pms-address-to-the-nation-from-the-ramparts-of-the-red-fort-on-the-71th-independence-day.txt', '/content/split/cabinet-approves-extension-of-tenure-of-commission-constituted-to-examine-sub-categorization-within-obcs-in-central-list.txt', '/content/split/text-of-pms-address-at-the-foundation-stone-laying-ceremony-for-the-construction-of-delhi-dasna-meerut-expressway-and-upgradation-of-dasna-hapur-section-of-nh-24.txt', '/content/split/pm-conveys-his-best-wishes-for-the-namami-brahmaputra-festival.txt', '/content/split/cabinet-approves-mou-between-india-and-germany-on-cooperation-in-the-field-of-civil-aviation.txt', '/content/split/pms-address-at-the-felicitation-ceremony-by-all-india-gems-jewellery-trade-federation.txt', '/content/split/pm-interacts-with-young-innovators-and-start-up-entrepreneurs-across-the-country-through-video-bridge.txt', '/content/split/pms-statement-before-his-upcoming-visit-to-portugal-usa-and-netherlands.txt', '/content/split/cabinet-approves-iala-to-change-its-status-from-ngo-to-inter-governmental-organization.txt', '/content/split/pm-inaugurates-national-tribal-carnival.txt', '/content/split/pms-speech-at-the-public-meeting-at-rameswaram-tamil-nadu.txt', '/content/split/cabinet-gives-approval-to-the-amendments-in-the-constitution-order-1950-to-modify-the-list-of-scheduled-tribes-sts.txt', '/content/split/pm-greets-people-on-national-voters-day.txt', '/content/split/pms-address-at-india-uk-tech-summit-new-delhi.txt', '/content/split/cabinet-approves-measures-to-increase-oil-palm-area-and-production-in-india.txt', '/content/split/first-group-of-secretaries-presents-ideas-and-suggestions-to-pm.txt', '/content/split/cabinet-approves-amendment-of-the-ancient-monuments-and-archaeological-sites-and-remains-act-1958.txt', '/content/split/pms-remarks-at-the-india-kazakhstan-business-roundtable.txt', '/content/split/cabinet-approves-introduction-of-the-indian-institutes-of-information-technology-amendment-bill-2017-in-parliament.txt', '/content/split/sri-lankan-president-maithripala-sirisena-calls-pm-modi.txt', '/content/split/pm-greets-people-of-gujarat-and-maharashtra-on-gujarat-day-and-maharashtra-day.txt', '/content/split/cabinet-approves-opening-of-missions-in-africa-to-implement-commitments-of-india-africa-forum-summit-iafs-iii.txt', '/content/split/pm-inaugurates-birth-centenary-celebrations-of-rani-gaidinliu.txt', '/content/split/cabinet-approves-mou-between-india-and-maldives-for-establishing-mutual-cooperation-to-improve-the-ecosystems-for-agribusiness.txt', '/content/split/cabinet-approves-exemption-from-charging-commercial-rates-for-the-plot-of-land-allotted-to-the-high-commission-of-fiji-in-new-delhi.txt', '/content/split/pm-pays-glowing-tributes-to-former-pm-shri-atal-bihari-vajpayee-jee-on-unveiling-of-his-portrait-in-parliament.txt', '/content/split/pm-asks-niti-aayog-to-create-a-vision-for-transformational-change.txt', '/content/split/cabinet-approves-agreement-between-india-and-estonia-on-the-transfer-of-sentenced-persons.txt', '/content/split/pm-to-visit-maharashtra-tomorrow.txt', '/content/split/pms-statement-to-media-in-joint-press-briefing-prime-minister-of-malaysia.txt', '/content/split/pm-condoles-the-loss-of-lives-in-bangalore-city-nanded-express-train-accident.txt', '/content/split/pm-lays-foundation-stone-of-leh-kargil-srinagar-power-transmission-line-dedicates-to-the-nation-the-45mw-capacity-nimmo-bazgo-hydropower-project.txt', '/content/split/pms-gifts-to-pm-benjamin-netanyahu.txt', '/content/split/pms-address-at-the-conference-on-academic-leadership-on-education-for-resurgence.txt', '/content/split/cabinet-approves-inclusion-of-the-communities-parivara-and-talawara-as-synonym-of-nayaka-in-the-list-of-sts-in-karnataka.txt', '/content/split/pms-address-at-curtain-raiser-ceremony-of-the-commemoration-of-prof-s-n-boses-125th-birth-anniversary.txt', '/content/split/removal-of-the-minimum-capacity-utilization-criteria-for-ssp-manufacturing-units-to-be-eligible-for-subsidy-under-nbs-scheme.txt', '/content/split/agreement-between-india-and-jordan-on-maritime-transport.txt', '/content/split/text-of-prime-minister-shri-narendra-modis-speech-at-all-india-conference-of-director-generalsinspector-generals-of-police-at-guwahati.txt', '/content/split/cabinet-condoles-sad-demise-of-shri-manohar-parrikar-chief-minister-on-17th-march-2019-at-panaji-goa.txt', '/content/split/reimbursement-of-losses-incurred-by-nafed-pec-stc-and-mmtc-for-import-of-pulses-and-sold-in-the-domestic-market-under-the-15-percent-reimbursement-scheme.txt', '/content/split/pm-condoles-the-demise-of-former-president-of-singapore-mr-s-r-nathan.txt', '/content/split/pm-seeks-commitment-towards-building-a-new-india.txt', '/content/split/pm-to-interact-directly-with-beneficiaries-of-national-rural-livelihoods-mission-across-the-country-tomorrow.txt', '/content/split/mous-signed-at-dantewada-in-the-presence-of-prime-minister.txt', '/content/split/pm-receives-mr-jacques-audibert-diplomatic-advisor-to-the-french-president.txt', '/content/split/pm-visits-1965-war-memorials-in-punjab-spends-diwali-with-officers-and-jawans-of-the-indian-armed-forces.txt', '/content/split/cabinet-approves-agreement-between-india-and-france-on-technical-cooperation-in-the-field-of-sustainable-urban-development.txt', '/content/split/cabinet-approves-mou-between-india-and-morocco-in-the-field-of-mining-and-geology.txt', '/content/split/pm-wishes-bharat-ratna-and-the-former-pm-atal-bihari-vajpayee-on-his-birthday.txt', '/content/split/pm-to-pay-his-last-respects-to-hh-pramukh-swami-maharaj-at-sarangpur-tomorrow.txt', '/content/split/procurement-of-launch-services-and-realization-of-ground-segment-for-gsat-11-spacecraft.txt', '/content/split/cabinet-approves-extension-of-term-of-the-commission-to-examine-the-issue-of-sub-categorization-of-other-backward-classes.txt', '/content/split/cabinet-approves-implementation-of-shahpurkandi-dam-national-project-on-river-ravi-in-punjab.txt', '/content/split/joint-dedication-of-the-petrapole-integrated-check-post-icp.txt', '/content/split/pms-address-at-foundation-stone-laying-ceremony-for-guru-ravidas-birth-place-development-project.txt', '/content/split/cabinet-approves-five-years-extension-of-biomedical-research-career-programme.txt', '/content/split/pms-address-at-destination-uttarakhand-investors-summit-2018.txt', '/content/split/pm-inaugurates-mahatma-gandhi-museum-at-rajkot.txt', '/content/split/pm-strongly-condemns-terrorist-attack-in-istanbul.txt', '/content/split/parents-of-braveheart-nirbhaya-call-on-pm.txt', '/content/split/pms-bihar-package-2015-rs-125003-crore.txt', '/content/split/cabinet-approves-of-proposal-to-establish-a-fund-of-fund-for-start-ups.txt', '/content/split/pms-address-to-the-farmers-at-inauguration-ceremony-of-amul-units-in-deesa-gujarat.txt', '/content/split/pm-reviews-preparations-for-launch-of-ayushman-bharat.txt', '/content/split/pms-press-statement-during-his-visit-to-netherlands.txt', '/content/split/pm-attends-last-rites-of-former-president-abdul-kalam-at-rameswaram.txt', '/content/split/cabinet-approves-mou-between-india-and-south-africa-for-cooperation-in-the-field-of-tourism.txt', '/content/split/pm-wishes-ms-sumitra-mahajan-on-her-birthday.txt', '/content/split/pm-to-visit-haryana-on-october-9.txt', '/content/split/children-from-vasundhara-charitable-trust-nagpur-call-on-pm.txt', '/content/split/remarks-by-pm-at-chabahar-connectivity-event.txt', '/content/split/cabinet-approves-mou-between-india-and-armenia-on-joint-issue-of-postage-stamp.txt', '/content/split/prime-ministers-speech-at-inauguration-of-make-in-india-week-mumbai.txt', '/content/split/agreement-on-coastal-shipping-between-india-and-bangladesh.txt', '/content/split/cabinet-apprised-of-constitution-of-committee-under-chairpersonship-of-pm-and-activities-to-mark-125th-birth-anniversary-year-of-dr-b-r-ambedkar.txt', '/content/split/text-of-prime-minister-shri-narendra-modis-address-to-the-officers-soldiers-and-air-warriors-of-the-indian-armed-forces-at-leh-jammu-kashmir.txt', '/content/split/bangladesh-home-minister-calls-on-prime-minister.txt', '/content/split/pm-congratulates-indian-hockey-team-for-bronze-in-azlan-shah-cup.txt', '/content/split/signing-of-mou-between-india-and-singapore-in-the-field-of-civil-aviation.txt', '/content/split/pm-chairs-high-level-meeting-to-review-relief-and-rescue-operations-in-the-aftermath-of-cyclone-hudhud.txt', '/content/split/cabinet-approves-mou-between-india-and-france-on-technical-bilateral-cooperation-in-the-field-of-new-and-renewable-energy.txt', '/content/split/pm-wishes-pakistan-pm-nawaz-sharif-on-his-birthday.txt', '/content/split/pms-interaction-through-pragati-12.txt', '/content/split/pm-greets-science-lovers-on-national-science-day.txt', '/content/split/text-of-prime-ministers-remarks-at-the-concluding-session-of-the-national-workshop-on-make-in-india.txt', '/content/split/pms-address-at-the-valedictory-session-of-india-italy-technology-summit-in-new-delhi.txt', '/content/split/pm-pays-tributes-to-mahatma-gandhi-on-his-punya-tithi-2.txt', '/content/split/pm-congratulates-nobel-peace-prize-winners-kailash-satyarthi-and-malala-yousafzai.txt', '/content/split/text-of-pms-address-at-the-national-youth-festival-through-video-conferencing.txt', '/content/split/pms-address-at-the-international-vesak-day-celebrations-in-colombo.txt', '/content/split/pms-address-at-the-india-today-conclave-via-video-conference.txt', '/content/split/pm-pays-tribute-to-c-rajagopalachari-on-his-birth-anniversary-2.txt', '/content/split/highlights-of-pms-speech-at-vibrant-gujarat-summit-january-11-2015-gandhinagar.txt', '/content/split/pm-speaks-to-nepal-pm-condemns-killing-of-youngster-from-bihar.txt', '/content/split/cabinet-gives-ex-post-facto-approval-in-respect-of-mou-entered-into-by-ministry-of-corporate-affairs-cci-iica-with-foreign-countries.txt', '/content/split/pm-launches-ease-of-doing-business-grand-challenge-addresses-cross-section-of-industry-representatives.txt', '/content/split/pm-reviews-progress-of-national-rural-drinking-water-programme.txt', '/content/split/enhancement-of-investment-by-bharat-petroleum-corporation-limited-in-bharat-oman-refineries-limited.txt', '/content/split/conduct-of-fm-phase-ill-auctions-and-migration-renewal-of-private-fm-radio-licenses-from-phase-ii-to-phase-iii.txt', '/content/split/pm-launches-development-projects-at-greater-noida.txt', '/content/split/cabinet-apprised-of-mous-for-cooperation-in-youth-and-sports-matters-with-indonesia-and-the-kyrgyz-republic.txt', '/content/split/pm-to-visit-chhattisgarh-odisha-and-west-bengal-tomorrow.txt', '/content/split/cabinet-approves-grant-of-permanent-residency-status-to-foreign-investors.txt', '/content/split/cabinet-approves-leasing-out-of-aai-land-for-centre-for-perishable-cargo-at-guwahati-international-airport.txt', '/content/split/pms-remarks-at-the-launch-of-the-book-virat-purush-nanaji.txt', '/content/split/pms-message-on-earth-day-2.txt', '/content/split/cabinet-approves-joining-of-iea-bioenergy-tcp-by-ministry-of-petroleum-and-natural-gas-as-a-member.txt', '/content/split/prime-minister-receives-former-israeli-president-shimon-peres.txt', '/content/split/text-of-pms-address-during-the-foundation-stone-ceremony-held-for-four-laning-of-kaithal-narwana-hisar-rajasthan-border-highway-at-kaithal.txt', '/content/split/introduction-of-comprehensive-anti-hijacking-bill-2014.txt', '/content/split/pm-strongly-condemns-the-attacks-in-canada.txt', '/content/split/cabinet-approves-mou-between-india-and-indonesia-on-health-cooperation.txt', '/content/split/pm-inaugurates-integrated-check-post-at-moreh-other-infrastructure-projects-at-imphal.txt', '/content/split/pms-telephonic-conversation-with-australian-pm.txt', '/content/split/pm-in-gujarat.txt', '/content/split/pms-speech-at-foundation-laying-ceremony-of-railway-coach-factory-in-haryana.txt', '/content/split/indias-blind-world-cup-winning-team-calls-on-pm.txt', '/content/split/pm-lays-foundation-stone-for-urban-infrastructure-projects-witnesses-experience-sharing-by-beneficiaries-of-welfare-schemes-addresses-public-meeting-in-jaipur.txt', '/content/split/cabinet-approves-joint-interpretative-declaration-between-india-and-colombia-regarding-the-agreement-for-the-promotion-and-protection-of-investments.txt', '/content/split/revised-cost-estimates-for-setting-up-of-five-indian-institutes-of-science-education-and-research.txt', '/content/split/text-of-pms-address-at-the-birth-anniversary-celebrations-of-dr-apj-abdul-kalam-at-drdo-bhawan.txt', '/content/split/dr-werner-hoyer-president-european-investment-bank-calls-on-pm.txt', '/content/split/pms-interventions-during-the-interactive-session-at-st-petersburg-international-economic-forum.txt', '/content/split/pm-releases-the-book-vande-bharatam-by-pt-prabodh-kumar-mishra.txt', '/content/split/pms-address-at-the-foundation-stone-laying-ceremony-of-various-development-projects-in-kurukshetra-haryana.txt', '/content/split/text-of-pms-message-on-international-womens-day.txt', '/content/split/pm-pays-homage-to-the-great-saint-and-poet-kabir-at-santkabir-nagar.txt', '/content/split/revised-cost-estimates-for-national-cyclone-risk-mitigation-project-phase-i-in-andhra-pradesh-odisha.txt', '/content/split/pm-pays-tributes-to-mahatma-gandhi-and-lal-bahadur-shastri-on-their-birth-anniversary.txt', '/content/split/pm-reviews-progress-towards-beginning-of-gst-on-july-1.txt', '/content/split/cabinet-approves-creation-of-one-post-each-of-vice-chairperson-and-member-in-the-national-commission-for-safai-karamcharis.txt', '/content/split/approval-to-operationalization-of-the-atal-pension-yojna-apy-and-pradhan-mantri-jeevan-jyoti-bima-yojana-pmjjby-and-pradhan-mantri-suraksha-bima-yojana-pmsby.txt', '/content/split/pm-narendra-modi-thanks-pak-pm-nawaz-sharif-for-the-gift-of-a-sari-for-his-mother.txt', '/content/split/pm-congratulates-medal-winners-at-rio-2016-paralympics.txt', '/content/split/pm-pays-tributes-to-pt-madan-mohan-malaviya-ji-on-his-birth-anniversary.txt', '/content/split/mou-between-india-taipei-association-ita-in-taipei-and-taipei-economic-and-cultural-center-tecc-in-india-on-cooperation-in-the-field-of-micro-small-and-medium-enterprises.txt', '/content/split/pm-witnesses-historic-successful-insertion-of-mars-orbiter-mission-into-martian-orbit.txt', '/content/split/pms-address-on-the-occasion-of-inauguration-of-the-india-international-exchange-at-gift-city-gandhinagar.txt', '/content/split/pm-greets-the-people-on-janmashtami.txt', '/content/split/pms-meeting-with-west-bengal-cm.txt', '/content/split/pms-statement-to-media-after-inspection-of-cleanliness-works-at-assi-ghat.txt', '/content/split/pm-salutes-resilience-of-people-in-nepal-and-india.txt', '/content/split/pm-highlights-finance-ministrys-move-to-seek-creative-inputs-for-the-governments-initiative-on-financial-inclusion.txt', '/content/split/prime-ministers-statement-prior-to-his-departure-to-russia.txt', '/content/split/world-bank-support-to-swachh-bharat-mission-gramin.txt', '/content/split/pm-to-address-world-sufi-forum-later-today.txt', '/content/split/cabinet-approves-continuation-of-atal-innovation-mission.txt', '/content/split/eminent-sanskrit-scholar-dr-naheed-abidi-calls-on-pm.txt', '/content/split/delegation-meets-pm-on-national-maritime-day.txt', '/content/split/pm-encourages-self-certification-in-place-of-affidavits-and-attestations-to-benefit-the-common-man.txt', '/content/split/text-of-pms-address-during-the-ceremony-held-for-dedicating-to-the-nation-765-kv-solapur-raichur-transmission-lines-and-four-laning-of-pune-solapur-section-of-nh-9.txt', '/content/split/pm-arrives-in-new-york-city.txt', '/content/split/cabinet-approves-revision-in-the-list-of-scheduled-tribes-of-chhattisgarh.txt', '/content/split/pm-delivers-inaugural-address-at-106th-session-of-indian-science-congress.txt', '/content/split/pm-attends-inaugural-ceremony-of-mananeeya-eknath-ranade-janm-shati-parva.txt', '/content/split/cabinet-approves-mou-between-india-and-finland-on-cooperation-in-the-field-of-peaceful-uses-of-outer-space.txt', '/content/split/pm-addresses-inaugural-event-of-ramayana-darshanam-exhibition-at-vivekananda-kendra-via-video-conferencing.txt', '/content/split/text-of-media-statement-by-pm-in-astana-kazakhstan.txt', '/content/split/pm-conveys-his-best-wishes-to-womens-cricket-team-for-the-world-cup-finals.txt', '/content/split/us-secretary-of-defense-james-mattis-calls-on-prime-minister.txt', '/content/split/pms-2nd-mann-ki-baat-programme-on-2nd-november.txt', '/content/split/cabinet-grants-in-principle-approval-to-the-ligo-india-mega-science-proposal.txt', '/content/split/cabinet-approves-permission-to-avail-external-assistance-by-state-government-entities-from-bilateral-agencies-for-implementation-of-vital-infrastructure-projects.txt', '/content/split/pm-unveils-plaques-for-railway-bridge-projects-in-bihar.txt', '/content/split/text-of-prime-minister-shri-narendra-modis-address-during-the-foundation-stone-ceremony-of-jawaharlal-nehru-port-trust-special-economic-zonejnpt-sez-and-port-connectivity-road-at-sheva-in.txt', '/content/split/pm-speaks-to-prime-minister-of-united-kingdom-uk.txt', '/content/split/india-uganda-joint-statement-during-state-visit-of-prime-minister-to-uganda.txt', '/content/split/pm-lays-foundation-stone-of-barrage-over-narmada-addresses-public-meeting-at-bharuch.txt', '/content/split/pm-attends-inauguration-of-birth-centenary-celebration-of-nanaji-deshmukh.txt', '/content/split/pm-to-address-swachhagrahis-in-champaran-tomorrow.txt', '/content/split/pms-address-at-valedictory-ceremony-of-sesquicentennial-celebrations-of-allahabad-high-court.txt', '/content/split/president-putin-speaks-to-pm-modi.txt', '/content/split/h-e-mr-tharman-shanmugaratnam-deputy-prime-minister-of-singapore-calls-on-pm.txt', '/content/split/text-of-pms-historic-address-to-constituent-assembly-of-nepal.txt', '/content/split/the-right-to-fair-compensation-and-transparency-in-land-acquisition-rehabilitation-and-resettlement-amendment-ordinance-2015.txt', '/content/split/pms-address-at-sommanona-ceremony-to-honour-indian-martyrs-in-the-liberation-war-of-bangladesh.txt', '/content/split/text-of-pms-remarks-at-the-business-meeting-hosted-by-the-ceylon-chambers-of-commerce-in-colombo-sri-lanka.txt', '/content/split/pm-to-attend-event-to-mark-birth-anniversary-celebrations-of-dr-apj-abdul-kalam.txt', '/content/split/pm-visits-varanasi.txt', '/content/split/approval-to-amendments-in-the-whistle-blowers-protection-act-2011-17-of-2014.txt', '/content/split/cabinet-approves-rehabilitation-package-for-displaced-families-from-pojk-and-chhamb-under-the-pms-development-package-for-jk.txt', '/content/split/preliminary-draft-of-the-text-of-pms-reply-to-motion-of-thanks-to-presidents-address-in-lok-sabha.txt', '/content/split/media-statement-by-prime-minister-during-his-visit-to-japan.txt', '/content/split/cabinet-approves-schemes-of-north-eastern-council-including-continuation-of-existing-schemes.txt', '/content/split/return-of-803-acres-of-land-under-possession-of-nepa-limited-at-hempur-distt-kashipur-uttarakhand-to-government-of-uttarakhand.txt', '/content/split/pm-congratulates-mary-kom-on-winning-gold-in-womens-world-boxing-championships.txt', '/content/split/dr-mohammad-ashraf-ghani-president-of-afghanistan-calls-pm-to-condole-uri-terror-attack.txt', '/content/split/facebook-ceo-mark-zuckerberg-calls-on-pm.txt', '/content/split/prime-minister-attends-commemoration-of-75th-anniversary-of-formation-of-azad-hind-government.txt', '/content/split/cabinet-approves-proposal-of-aai-for-surrendering-encroached-aais-land-at-bhopal-airport-to-madhya-pradesh-government.txt', '/content/split/pm-conveys-greetings-to-citizens-on-occasion-of-various-festivals-across-the-nation.txt', '/content/split/pm-constantly-monitoring-the-situation-in-gorakhpur.txt', '/content/split/cabinet-approves-mou-between-india-and-the-usa-on-cooperation-in-the-field-of-cyber-security.txt', '/content/split/cabinet-approves-mou-between-india-and-cambodia-on-cooperation-in-the-field-of-communications.txt', '/content/split/pm-attends-event-to-mark-the-presentation-of-gandhi-peace-prize.txt', '/content/split/pm-writes-to-president-of-the-republic-of-kazakhstan.txt', '/content/split/cabinet-approves-mou-between-india-and-belarus-in-the-oil-and-gas-sector.txt', '/content/split/list-of-eventsagreementsmous-signed-during-prime-ministers-visit-to-nepal.txt', '/content/split/pm-in-kuala-lumpur-engagements-and-highlights-22-nov-2015.txt', '/content/split/pm-greets-the-people-of-karnataka-on-kannada-rajyotsava.txt', '/content/split/pm-addresses-plenary-session-of-st-petersburg-international-economic-forum.txt', '/content/split/pm-conveys-his-best-wishes-all-the-participants-of-t20-world-cup-for-the-blind-2017.txt', '/content/split/pm-launches-projects-related-to-sauni-yojana-at-botad.txt', '/content/split/pms-address-at-the-awards-for-excellence-in-public-administration-on-civil-service-day.txt', '/content/split/cabinet-approves-demerger-and-transfer-of-surplus-land-from-tcl-to-hpil.txt', '/content/split/pm-addresses-officer-trainees-of-the-92nd-foundation-course-at-lbsnaa-mussoorie-on-the-2nd-day-of-his-visit.txt', '/content/split/mou-between-india-and-sweden-on-cooperation-in-the-field-of-micro-small-and-medium-enterprises.txt', '/content/split/cabinet-approves-transfer-of-land-belonging-to-iiswc-research-centre-at-vasad-gujarat-to-nhai.txt', '/content/split/cabinet-approves-agreement-between-india-and-myanmar-on-land-border-crossing.txt', '/content/split/pm-inaugurates-launches-development-works-in-baripada-odisha.txt', '/content/split/text-of-pms-remarks-at-the-global-citizens-festival-central-park-new-york-city.txt', '/content/split/pms-remarks-at-the-ncc-rally.txt', '/content/split/pms-upcoming-visit-to-malaysia-and-singapore.txt', '/content/split/pms-address-at-the-inauguration-of-bahadurgarh-mundka-metro-line-via-video-conference.txt', '/content/split/pm-conveys-his-greetings-to-the-people-on-united-nations-day.txt', '/content/split/cabinet-approves-mou-between-india-and-sweden-on-iprs.txt', '/content/split/union-government-commits-for-bundelkhand-up-development.txt', '/content/split/pm-to-visit-national-crisis-management-centre-in-moscow-tomorrow.txt', '/content/split/cabinet-approves-agreement-between-india-and-qatar-on-co-operation-and-mutual-assistance-in-customs-matters.txt', '/content/split/cabinet-gives-approval-to-the-package-for-supporting-mses-augmentation-of-cgtmse.txt', '/content/split/pm-attends-various-theme-based-sessions-during-the-conference-of-dgps-in-kutch.txt', '/content/split/cabinet-apprised-of-mou-between-india-and-france-in-the-field-of-science-technology-and-innovation.txt', '/content/split/text-of-pms-remarks-at-the-launch-of-digital-india-week.txt', '/content/split/pms-interaction-in-bharat-ki-baat-sabke-saath-programme-at-london.txt', '/content/split/cabinet-apprised-of-an-mou-signed-between-india-and-tunisia-for-cooperation-on-youth-matters.txt', '/content/split/approval-to-amend-the-benami-transactions-prohibition-act-1988.txt', '/content/split/pm-meets-leaders-of-global-automotive-companies.txt', '/content/split/press-statement-by-prime-minister-during-state-visit-of-president-of-uzbekistan-to-india.txt', '/content/split/pms-speech-at-cii-keidanren-business-luncheon.txt', '/content/split/cabinet-approves-the-establishment-of-the-national-anti-profiteering-authority-under-gst.txt', '/content/split/cabinet-approves-agreement-between-india-and-tajikistan-on-cooperation-and-mutual-assistance-in-customs-matters.txt', '/content/split/pm-congratulates-justice-dipak-misra-on-taking-oath-as-the-chief-justice-of-india.txt', '/content/split/pm-greets-the-people-of-vietnam-on-their-national-day.txt', '/content/split/meeting-between-prime-minister-modi-and-prime-minister-abe-of-japan.txt', '/content/split/pm-visits-ite-campus-ina-memorial-marker-in-singapore.txt', '/content/split/pm-addresses-8th-hom-conference-2.txt', '/content/split/pm-pays-tributes-to-the-martyrs-of-the-jallianwala-bagh-massacre-2.txt', '/content/split/pm-speaks-to-swedish-pm-stefan-lofven.txt', '/content/split/pm-congratulates-vikas-thakur-on-winning-the-bronze-medal-in-the-mens-94-kg-weightlifting-event.txt', '/content/split/pm-to-visit-karnataka-on-january-2nd-and-3rd-2016.txt', '/content/split/pm-condoles-loss-of-lives-in-rajdhani-express-accident.txt', '/content/split/pm-chairs-review-meeting-on-tribal-welfare-describes-the-tribal-communities-of-india-as-a-great-force-for-national-development.txt', '/content/split/text-of-pms-statement-to-media-after-delegation-level-talks-with-the-australian-pm.txt', '/content/split/pms-remarks-at-the-release-of-a-commemorative-coin-to-mark-the-175th-birth-anniversary-of-jamsetji-nusserwanji-tata.txt', '/content/split/pm-interacts-with-asha-anm-and-anganwadi-workers-from-all-over-the-country-through-video-bridge.txt', '/content/split/pm-dedicates-to-the-nation-indigenously-built-warship-ins-kolkata.txt', '/content/split/pm-sanctions-ex-gratia-for-victims-of-train-accident-near-gorakhpur-district-uttar-pradesh.txt', '/content/split/text-of-pms-address-at-india-singapore-economic-convention.txt', '/content/split/prime-ministers-interaction-with-african-journalists-at-the-editors-forum-for-3rd-india-africa-forum-summit.txt', '/content/split/pm-condoles-loss-of-lives-due-to-bus-accident-in-cuttack.txt', '/content/split/pm-to-attend-loktantra-prahari-abhinandan-at-vigyan-bhawan-delhi-pm-to-visit-mumbai.txt', '/content/split/pms-address-at-the-indian-community-event-in-indonesia.txt', '/content/split/pms-press-statement-during-the-state-visit-of-prime-minister-of-bhutan-to-india.txt', '/content/split/pms-address-at-international-conference-on-consumer-protection.txt', '/content/split/cabinet-approves-mou-between-india-and-turkey-on-trade-in-poppy-seeds.txt', '/content/split/pms-address-at-the-inauguration-of-the-buddha-jayanti-celebrations-in-new-delhi.txt', '/content/split/pm-meets-deputy-prime-minister-of-singapore-emeritus-senior-minister-of-singapore-and-president-of-israel.txt', '/content/split/pm-expresses-regret-for-the-inconvenience-caused-to-citizens-of-chandigarh-during-his-visit.txt', '/content/split/pm-hands-over-chaadar-to-be-offered-at-dargah-of-khwaja-moinuddin-chishti-3.txt', '/content/split/pm-dedicates-dr-ambedkar-international-centre-to-the-nation.txt', '/content/split/pms-address-at-the-foundation-ceremony-of-various-projects-of-kandla-port-in-gandhidham-gujarat.txt', '/content/split/cabinet-approves-continuation-of-the-centrally-sponsored-scheme-to-improve-judiciary-infrastructure.txt', '/content/split/pm-launches-swachhata-hi-seva-interacts-with-a-cross-section-of-people-from-across-the-country-via-video-conference.txt', '/content/split/pm-meets-top-scientific-officials-of-government-of-india.txt', '/content/split/pm-flags-off-run-for-rio-urges-athletes-to-give-their-best-for-the-country.txt', '/content/split/cabinet-apprised-of-mou-between-india-and-the-uk-on-cooperation-in-weather-and-climate-sciences.txt', '/content/split/pm-greets-the-people-of-india-on-the-historic-occasion-of-1st-constitution-day.txt', '/content/split/memorandum-of-understanding-between-india-and-bhutan-on-technical-cooperation-in-the-field-of-capacity-building.txt', '/content/split/list-of-mousagreements-signed-during-the-visit-of-prime-minister-of-italy-to-india.txt', '/content/split/ms-safra-catz-global-ceo-oracle-calls-on-pm.txt', '/content/split/boost-to-healthcare-infrastructure.txt', '/content/split/text-of-pms-remarks-at-the-community-reception-in-ulaanbaatar-mongolia.txt', '/content/split/list-of-agreements-mous-exchanged-between-india-and-russia-during-the-visit-of-the-president-of-russia.txt', '/content/split/pm-makes-surprise-visit-to-mandir-marg-police-station-new-delhi.txt', '/content/split/pm-to-visit-manipur-and-assam-on-january-4-2019.txt', '/content/split/pm-extends-his-wishes-on-air-force-day.txt', '/content/split/pm-visits-hubli-in-karnataka.txt', '/content/split/shri-narendra-modi-assumes-office-as-15th-prime-minister-of-india.txt', '/content/split/text-of-prime-minister-shri-narendra-modis-address-at-a-programme-held-to-unveil-statue-of-mahatma-gandhi-at-roma-street-parkland-in-brisbane.txt', '/content/split/allotment-of-land-to-ramakrishna-mission-new-delhi-to-further-expand-their-welfare-activities.txt', '/content/split/pm-to-visit-madhya-pradesh-launch-rashtriya-gramin-swaraj-abhiyan-on-panchayati-raj-day-tomorrow.txt', '/content/split/approval-for-gsat-17-communication-satellite-and-launch-services.txt', '/content/split/pm-congratulates-kailash-satyarthi-and-malala-yousafzai-on-being-awarded-the-nobel-peace-prize.txt', '/content/split/pm-salutes-the-bravery-of-our-policemen-on-police-commemoration-day.txt', '/content/split/delegation-of-sany-group-and-chinese-businessmen-call-on-pm.txt', '/content/split/pm-launches-development-projects-in-rae-bareli.txt', '/content/split/cabinet-approves-the-trafficking-of-persons-prevention-protection-and-rehabilitation-bill-2018.txt', '/content/split/extension-of-scheme-of-recapitalisation-of-rrbs-to-improve-their-capital-to-risk-weighted-assets-ratio.txt', '/content/split/pm-greets-gujarat-governor-on-his-birthday.txt', '/content/split/cabinet-approves-mou-between-india-and-uzbekistan-for-strengthening-cooperation-in-the-field-of-tourism.txt', '/content/split/pms-address-at-the-launch-goods-service-tax-from-central-hall-of-parliament.txt', '/content/split/cabinet-approves-signing-of-contract-between-india-and-international-seabed-authority.txt', '/content/split/pm-announces-ex-gratia-for-victims-of-sand-storm-in-northern-india-from-pmnrf.txt', '/content/split/protocol-on-framework-for-cooperation-in-the-field-of-blue-economy-between-india-and-seychelles.txt', '/content/split/pm-to-visit-bengaluru-tomorrow.txt', '/content/split/pm-condemns-the-attack-on-amarnath-yatris-in-j-speaks-to-jk-governor-and-chief-minister-and-assures-all-possible-assistance.txt', '/content/split/pm-speaks-to-south-asian-leaders-ahead-of-the-holy-month-of-ramadan.txt', '/content/split/pm-visits-ancient-toji-temple-at-kyoto-with-japanese-pm-shinzo-abe.txt', '/content/split/pm-in-jammu-and-kashmir.txt', '/content/split/rear-admiral-retd-josaia-voreqe-bainimarama-prime-minister-of-fiji-meets-pm.txt', '/content/split/cabinet-approves-extension-of-scheme-of-recapitalization-of-regional-rural-banks-upto-2019-20.txt', '/content/split/pms-remarks-at-the-release-of-the-book-early-hindu-temples-of-gujarat.txt', '/content/split/prime-minister-tweets-in-russian-welcoming-president-putin.txt', '/content/split/pm-addresses-two-video-conferences-on-the-occasion-of-national-youth-day.txt', '/content/split/pms-special-lecture-at-the-university-of-the-sacred-heart-tokyo.txt', '/content/split/cabinet-approves-doubling-of-investment-limit-for-senior-citizens-from-rs-7-5-lakh-to-rs-15-lakh-under-pmvvy.txt', '/content/split/pm-writes-to-malaysian-pm-condoles-the-loss-of-lives-on-board-mh17.txt', '/content/split/pm-in-varanasi-3.txt', '/content/split/pm-launches-various-development-projects-worth-rs-1000-crores-in-daman-diu.txt', '/content/split/pms-speech-during-his-interaction-with-the-members-of-self-help-groups-across-the-country-through-video-bridge.txt', '/content/split/cabinet-approves-mou-between-mord-and-fao-to-improve-the-effectiveness-of-rural-development-programmes-and-facilitate-knowledge-sharing.txt', '/content/split/full-text-of-pms-address-at-the-drdo-awards-ceremony.txt', '/content/split/pm-flags-off-nagpur-metro.txt', '/content/split/text-of-pms-replies-to-the-questions-asked-during-the-joint-press-statement-with-pm-of-canada-mr-stephen-harper-at-ottawa-canada.txt', '/content/split/cabinet-approves-appointment-of-second-national-judicial-pay-commission-for-subordinate-judiciary-in-the-country.txt', '/content/split/cabinet-approves-agreement-for-the-avoidance-of-double-taxation-and-prevention-of-fiscal-evasion-between-india-and-iran.txt', '/content/split/pm-addresses-credai-youthcon-2019.txt', '/content/split/prime-ministers-address-to-the-nation.txt', '/content/split/pms-address-at-the-convocation-of-gujarat-forensic-sciences-university-in-gandhinagar-gujarat.txt', '/content/split/prime-ministers-media-statement-during-the-official-visit-of-the-president-of-russian-federation-to-india.txt', '/content/split/text-of-pms-speech-at-the-function-organised-by-bharatiya-micro-credit-for-distribution-of-e-rickshaws-in-lucknow.txt', '/content/split/pm-visits-arunachal-pradesh-inaugurates-convention-centre-in-itanagar.txt', '/content/split/pm-presents-national-bravery-awards-2.txt', '/content/split/statement-by-prime-minister-at-cop-21-plenary-paris-30-november-2015.txt', '/content/split/pm-condoles-the-loss-of-lives-in-gujarat.txt', '/content/split/keynote-address-by-pm-at-singapore-fintech-festival.txt', '/content/split/text-of-pms-address-during-the-ceremony-held-to-dedicate-to-the-nation-the-mouda-super-thermal-power-project-stage-1-1000-mw-at-mouda-in-maharashtra.txt', '/content/split/cabinet-approves-trade-agreement-negotiations-with-peru.txt', '/content/split/pm-undertakes-aerial-survey-of-flood-affected-areas-in-bihar-announces-relief-package-worth-rs-500-crores.txt', '/content/split/pm-bangladesh-pm-sheikh-hasina-jointly-unveil-e-plaques-for-development-projects-in-bangladesh-via-video-conference.txt', '/content/split/pms-bilateral-engagements-on-the-sidelines-of-g20-summit.txt', '/content/split/pm-pays-tributes-to-dr-syama-prasad-mookerjee-on-his-birth-anniversary.txt', '/content/split/pms-statement-prior-to-his-departure-to-japan.txt', '/content/split/pm-expresses-grief-over-loss-of-lives-in-bus-accident-in-bihar.txt', '/content/split/cabinet-approves-mou-between-india-and-italy-on-cooperation-in-the-field-of-health-and-medicine.txt', '/content/split/text-of-pms-speech-at-krishi-unnati-mela-2016.txt', '/content/split/pm-condoles-loss-of-lives-in-the-bus-accident-in-uttarkashi-announces-ex-gratia-relief-for-the-victims-of-accident.txt', '/content/split/text-of-the-press-statement-delivered-by-the-pm-after-the-signing-of-agreements-in-paris.txt', '/content/split/cabinet-approves-special-remission-to-prisoners-on-the-occasion-of-150th-birth-anniversary-of-mahatma-gandhi.txt', '/content/split/cabinet-approves-mou-between-india-and-canada-for-cooperation-in-the-field-of-science-technology.txt', '/content/split/pm-in-car-nicobar.txt', '/content/split/pm-adopt-multi-pronged-strategy-to-augment-irrigation-network.txt', '/content/split/cabinet-approves-mou-between-india-and-kenya-on-cooperation-in-the-field-of-national-housing-policy-development-and-management.txt', '/content/split/cabinet-approves-revised-model-mou-between-india-and-foreign-financial-intelligence-units-fius-for-exchange-of-information.txt', '/content/split/cabinet-approves-setting-up-of-spv-for-disinvestment-of-air-india-and-its-subsidiaries-jv.txt', '/content/split/pm-reviews-progress-of-swachh-bharat-mission.txt', '/content/split/pms-address-at-india-kenya-business-forum-in-nairobi.txt', '/content/split/pm-sanctions-ex-gratia-relief-for-victims-of-the-landslide-in-tawang.txt', '/content/split/pm-salutes-our-scientists-on-the-successful-test-firing-of-agni-v-missile.txt', '/content/split/pm-pledges-for-wholehearted-commitment-towards-energy-conservation-on-national-energy-conservation-day.txt', '/content/split/sikh-delegation-from-us-and-canada-calls-on-pm.txt', '/content/split/cabinet-approves-mou-between-india-and-iran-on-cooperation-in-the-field-of-health-and-medicine.txt', '/content/split/text-of-prime-ministers-statement-on-the-brics-business-council.txt', '/content/split/cabinet-approves-mou-between-india-and-croatia-in-the-field-of-tourism.txt', '/content/split/pm-salutes-the-brave-indian-soldiers-who-laid-down-their-lives-to-liberate-haifa-in-1918-2.txt', '/content/split/cabinet-approves-mutual-recognition-agreement-between-the-icai-and-the-south-african-institute-of-chartered-accountants.txt', '/content/split/pms-message-to-the-nation-on-good-governance.txt', '/content/split/pms-address-at-the-inaugural-session-of-the-founding-conference-of-international-solar-alliance.txt', '/content/split/dr-h-wiranto-indonesias-coordinating-minister-for-political-legal-and-security-affairs-calls-on-prime-minister.txt', '/content/split/pm-chairs-meeting-on-healthcare.txt', '/content/split/pm-expresses-sadness-over-the-loss-of-lives-due-to-collapse-of-a-building-in-mumbai.txt', '/content/split/pm-expresses-happiness-on-success-of-ujjwala-yojana.txt', '/content/split/boost-to-urban-public-transport-connectivity-in-kanpur.txt', '/content/split/pm-congratulates-the-winners-of-smart-city-challenge.txt', '/content/split/pm-greets-citizens-on-national-technology-day.txt', '/content/split/cabinet-approves-mou-between-india-and-the-uk-and-northern-ireland-on-the-return-of-illegal-migrants.txt', '/content/split/pms-address-at-presentation-ceremony-of-tagore-award-for-cultural-harmony.txt', '/content/split/pm-writes-to-student-of-bharatiya-vidya-bhavan-kuwait-commends-her-effort-for-collecting-rs-2-15-lakh-towards-relief-efforts-in-jk.txt', '/content/split/memorandum-of-understanding-between-india-and-france-to-establish-basis-for-cooperative-institutional-relationship-to-encourage-and-promote-technical-bilateral-cooperation-on-new-and-renewable-energy.txt', '/content/split/pms-remarks-at-foundation-stone-ceremony-of-dr-ambedkar-international-centre.txt', '/content/split/pm-reviews-progress-on-urban-development-programmes.txt', '/content/split/pms-address-at-the-yoga-for-peace-event-in-argentina.txt', '/content/split/pm-greets-the-nation-on-independence-day-2.txt', '/content/split/pm-remembers-brave-soldiers-who-fought-in-1971-on-the-occasion-of-vijay-diwas.txt', '/content/split/pm-condoles-loss-of-lives-in-an-accident-in-andhra-pradesh.txt', '/content/split/cabinet-approves-agreement-between-india-and-uzbekistan-on-cooperation-in-health-and-medical-science.txt', '/content/split/116th-meeting-of-trustees-of-somnath-trust-held-at-somnath.txt', '/content/split/pm-salutes-nari-shakti-on-international-womens-day.txt', '/content/split/agreement-on-the-abolition-of-visa-requirements-for-holders-of-diplomatic-passports-between-india-and-spain.txt', '/content/split/cabinet-approves-mou-between-india-and-saudi-arabia-on-cooperation-and-mutual-assistance-in-customs-matters.txt', '/content/split/pm-releases-commemorative-coins-on-dr-b-r-ambedkar.txt', '/content/split/pms-address-at-defexpo-2018.txt', '/content/split/india-secures-release-of-father-alexis-prem-kumar-from-captivity-in-afghanistan.txt', '/content/split/pm-launches-development-projects-in-manipur-addresses-public-meeting.txt', '/content/split/pm-condoles-the-loss-of-lives-due-to-inclement-weather-in-sri-lanka.txt', '/content/split/pms-remarks-at-the-ceo-conclave-at-gandhinagar.txt', '/content/split/pm-interacts-with-beneficiaries-of-rural-electrification-and-saubhagya-schemes-acrossthe-country-through-video-bridge.txt', '/content/split/cabinet-approves-the-renewal-of-mou-between-the-icai-and-cbfs-oman.txt', '/content/split/merchant-shipping-amendment-bill-2015-for-amending-the-merchant-shipping-act-1958.txt', '/content/split/mr-akio-toyoda-president-toyota-and-mr-o-suzuki-chairman-suzuki-call-on-pm.txt', '/content/split/review-of-foreign-direct-investment-fdi-policy-to-permit-fdi-up-to-100-percent-under-the-automatic-route-in-white-label-atm-operations.txt', '/content/split/pm-to-visit-china-mongolia-and-south-korea.txt', '/content/split/visit-of-president-of-islamic-republic-of-afghanistan-to-india.txt', '/content/split/financial-restructuring-of-hindustan-steel-works-construction-limited-and-its-takeover-by-national-buildings-construction-corporation-ltd.txt', '/content/split/cabinet-approves-renaming-of-kandla-port-as-deendayal-port.txt', '/content/split/pm-inaugurates-ges-multi-modal-manufacturing-facility-at-chakan-pune.txt', '/content/split/pms-mann-ki-baat-address-on-all-india-radio.txt', '/content/split/text-of-pms-address-at-the-launch-of-pradhan-mantri-mudra-yojana.txt', '/content/split/pms-inaugural-address-via-video-conference-at-the-annual-international-yoga-festival-in-rishikesh.txt', '/content/split/pm-inaugurates-sikkim-organic-festival-2016-addresses-plenary-session-of-national-conference-on-sustainable-agriculture-and-farmers-welfare.txt', '/content/split/pm-modi-and-prime-minister-costa-launch-unique-start-up-portal.txt', '/content/split/mr-sameh-hassan-shoukry-foreign-minister-of-egypt-calls-on-prime-minister.txt', '/content/split/pm-attends-6th-convocation-of-babasaheb-bhimrao-ambedkar-university.txt', '/content/split/pm-to-inaugurate-world-sustainable-development-summit-2018-tomorrow.txt', '/content/split/establishment-and-operationalization-of-new-indian-institute-of-science-education-and-research-at-berhampur-odisha.txt', '/content/split/lt-governor-of-andaman-nicobar-islands-calls-on-pm.txt', '/content/split/text-of-pms-address-at-the-inauguration-of-the-india-food-park-in-tumkur.txt', '/content/split/t20-blind-cricket-world-cup-winning-team-meets-pm.txt', '/content/split/pm-inaugurates-new-metro-link-between-noida-and-delhi.txt', '/content/split/pm-at-nagpur.txt', '/content/split/cii-delegation-calls-on-pm.txt', '/content/split/pms-speech-at-inauguration-of-kiran-multi-speciality-hospital-surat-gujarat.txt', '/content/split/pms-opening-remarks-on-the-occasion-of-his-interaction-with-students-at-smart-india-hackathon-via-video-conference.txt', '/content/split/remembering-netaji-subhas-chandra-bose-pm-inaugurates-subhas-chandra-bose-museum-at-red-fort.txt', '/content/split/pm-expresses-sadness-over-the-demise-of-sister-nirmala.txt', '/content/split/pms-address-at-asean-business-investment-summit-manila.txt', '/content/split/india-saudi-arabia-joint-statement-during-the-visit-of-pm-to-saudi-arabia.txt', '/content/split/cabinet-approves-amendments-in-power-tariff-policy-to-ensure-24x7-affordable-power-for-all.txt', '/content/split/pm-attends-function-for-distribution-of-e-rickshaws-in-lucknow-interacts-with-rickshaw-pullers-and-their-families.txt', '/content/split/release-of-additional-instalment-of-dearness-allowance-to-central-government-employees-and-dearness-relief-to-pensioners-due-from-1-7-2015.txt', '/content/split/cabinet-approves-closure-of-kota-unit-of-instrumentation-limited-and-transfer-of-its-palakkad-unit-to-government-of-kerala.txt', '/content/split/pm-pays-tributes-to-legendary-mathematician-s-ramanujan-on-his-birth-anniversary.txt', '/content/split/pm-salutes-the-indomitable-courage-and-valour-of-indian-army-on-the-occasion-of-army-day.txt', '/content/split/pm-addresses-inaugural-ceremony-of-world-culture-festival.txt', '/content/split/pm-conveys-diwali-greetings-to-the-crew-of-insv-tarini.txt', '/content/split/pm-visits-tcs-all-women-it-and-ites-centre-riyadh.txt', '/content/split/joint-issue-between-department-of-posts-and-united-nations-postal-administration-on-un-women-heforshe-postage-stamp.txt', '/content/split/cabinet-approves-proposal-for-leasing-out-land-at-alipur-delhi-owned-by-dms-to-small-farmers-agribusiness-consortium.txt', '/content/split/pm-visits-bhu-in-varanasi-inaugurates-pandit-madan-mohan-malviya-cancer-hospital.txt', '/content/split/pms-address-at-350th-birth-anniversary-celebrations-of-shri-guru-gobind-singh-ji-maharaj-in-patna-bihar.txt', '/content/split/cabinet-approves-completion-of-balance-works-of-north-koel-reservoir-project.txt', '/content/split/pms-address-at-the-outstanding-parliamentary-awards-function.txt', '/content/split/pm-meets-swiss-ceos-in-geneva-focus-on-deepening-economic-ties.txt', '/content/split/memoranda-of-understanding-on-youth-exchange-programmes-with-foreign-countries.txt', '/content/split/cabinet-approves-resolution-for-adoption-of-the-recommendations-of-the-railway-convention-committee.txt', '/content/split/cabinet-approves-amendment-to-the-central-universities-act-2009-for-setting-up-of-central-tribal-university-in-andhra-pradesh.txt', '/content/split/pm-welcomes-the-passing-of-black-money-bill-in-the-parliament.txt', '/content/split/union-cabinet-approves-atal-mission-for-rejuvenation-and-urban-transformation-and-smart-cities-mission-to-drive-economic-growth-and-foster-inclusive-urban-development.txt', '/content/split/pm-reviews-progress-towards-odf-targets-in-four-states.txt', '/content/split/pm-meets-youth-and-children-from-jammu-and-kashmir.txt', '/content/split/pm-speaks-to-emmanuel-macron-congratulates-him-on-the-victory-in-french-presidential-election.txt', '/content/split/historic-day-for-india-says-pm.txt', '/content/split/pms-remarks-after-the-launch-of-gold-related-schemes.txt', '/content/split/pm-congratulates-sathish-kumar-sivalingam-on-winning-the-gold-medal-in-the-mens-77-kg-weightlifting-event.txt', '/content/split/pm-receives-deputy-prime-minister-of-the-uk.txt', '/content/split/joint-statement-on-the-state-visit-of-prime-minister-of-the-socialist-republic-of-vietnam-to-india.txt', '/content/split/pm-visits-badami-bagh-cantonment-in-srinagar-addresses-army-jawans-pays-homage-at-martyrs-memorial-self-reliance-aatma-nirbharta-in-defence-offsets-essential-for-the-security-aatma-raksha-of-th.txt', '/content/split/cabinet-approves-proposal-for-mahanadi-water-disputes-constitution-of-a-tribunal-under-inter-state-river-disputes-act-1956-request-from-state-of-odisha.txt', '/content/split/cabinet-approves-cadre-review-of-indian-defence-accounts-service-idas.txt', '/content/split/text-of-pms-address-at-akhil-bharatiya-prachaarya-sammelan.txt', '/content/split/cabinet-approves-setting-up-of-a-special-purpose-vehicle-to-be-called-government-e-marketplace.txt', '/content/split/pm-meets-president-of-the-republic-of-korea-pm-of-italy-and-pm-of-norway.txt', '/content/split/review-of-foreign-direct-investment-fdi-policy-on-investments-by-non-resident-indians-nris-persons-of-indian-origin-pios-and-overseas-citizens-of-india-ocis.txt', '/content/split/pms-statement-to-the-media-during-his-visit-to-seychelles.txt', '/content/split/cabinet-approves-irdais-admission-as-a-signatory-to-international-association-of-insurance-supervisors-iais-mmou.txt', '/content/split/pm-visits-itanagar-says-new-india-can-be-built-only-when-north-east-is-developed.txt', '/content/split/pm-condoles-loss-of-lives-in-bus-accident-at-neubise.txt', '/content/split/cabinet-approves-signing-of-migration-and-mobility-partnership-agreement-between-india-and-france.txt', '/content/split/delegation-of-japan-india-parliamentarians-friendship-league-calls-on-pm.txt', '/content/split/pm-pays-tributes-to-mahatma-phule-on-his-birth-anniversary-4.txt', '/content/split/pms-mann-ki-baat-programme-on-all-india-radio-20.txt', '/content/split/proposal-to-provide-2-year-extension-with-amendments-to-framework-on-currency-swap-arrangement-for-saarc-member-countries.txt', '/content/split/pms-interaction-through-pragati-16.txt', '/content/split/cabinet-approves-mou-between-india-and-bahrain-on-cooperation-in-the-field-of-healthcare.txt', '/content/split/text-of-pms-video-message-on-the-occasion-of-launch-of-the-visit-india-year-2015-in-china.txt', '/content/split/pms-address-at-the-cpse-conclave-2018-at-vigyan-bhawan.txt', '/content/split/pm-meets-prize-winners-of-techno-challenge-2015.txt', '/content/split/pm-addresses-the-closing-ceremony-of-the-centenary-year-celebrations-of-patna-high-court.txt', '/content/split/minister-of-national-defence-of-vietnam-calls-on-pm.txt', '/content/split/pms-interaction-with-global-oil-and-gas-experts.txt', '/content/split/text-of-pms-remarks-at-the-joint-press-briefing-with-shri-shinzo-abe-the-prime-minister-of-japan-at-tokyojapan.txt', '/content/split/cabinet-apprised-about-mou-on-antarctic-cooperation-between-india-and-argentine.txt', '/content/split/intervention-by-pm-at-g20-working-session-on-inclusive-growth-global-economy-growth-strategies-employment-and-investment-strategies.txt', '/content/split/press-statement-by-prime-minister-during-his-visit-to-vietnam.txt', '/content/split/managing-director-of-imf-meets-pm.txt', '/content/split/text-of-pms-address-at-inauguration-ceremony-of-urja-sangam-2015.txt', '/content/split/pm-addresses-india-france-business-summit-in-chandigarh-16-agreements-exchanged.txt', '/content/split/pm-addresses-the-opening-ceremony-of-khelo-india-school-games.txt', '/content/split/pm-greets-the-people-around-the-world-on-1st-international-day-of-yoga.txt', '/content/split/prime-minister-to-visit-myanmar-australia-and-fiji.txt', '/content/split/pm-congratulates-p-v-sindhu-on-winning-silver-at-rio-olympics.txt', '/content/split/pms-address-at-groundbreaking-ceremony-of-various-projects-in-uttar-pradesh.txt', '/content/split/pm-shares-the-link-of-his-page-for-diwali-wishes.txt', '/content/split/pm-dedicates-to-the-nation-integrated-refinery-expansion-complex-and-mounded-storage-vessel-at-lpg-bottling-plant-in-kochi.txt', '/content/split/pm-pays-respects-to-dr-babasaheb-ambedkar-at-chaitya-bhoomi-lays-foundation-stone-of-dr-babasaheb-ambedkar-memorial.txt', '/content/split/text-of-pms-statement-on-his-upcoming-visit-to-uae.txt', '/content/split/pm-to-visit-balangir-odisha-tomorrow-and-launch-several-projects.txt', '/content/split/cabinet-approves-mou-on-india-israel-industrial-rd-and-technological-innovation-fund.txt', '/content/split/amendment-to-the-delimitation-act-2002-and-the-representation-of-the-people-act-1950.txt', '/content/split/national-policy-for-skill-development-and-entrepreneurship-2015.txt', '/content/split/pm-meets-president-of-uzbekistan-on-sidelines-of-the-vibrant-gujarat-global-summit-2019-in-ahmedabad.txt', '/content/split/s-aishwarya-and-s-saundarya-great-grand-daughters-of-bharat-ratna-m-s-subbulakshmi-meets-pm.txt', '/content/split/pms-address-at-the-combined-commanders-conference.txt', '/content/split/text-of-pms-address-at-25th-foundation-day-of-nasscom.txt', '/content/split/cabinet-approves-establishment-and-operationalisation-of-permanent-campuses-of-the-iisers-at-tirupati-and-berhampur.txt', '/content/split/pm-expresses-grief-over-the-incident-of-bus-accident-in-panna-madhya-pradesh.txt', '/content/split/pms-email-to-all-bank-officers.txt', '/content/split/pm-condemns-attack-in-paris.txt', '/content/split/pm-congratulates-saina-nehwal-and-k-srikanth-on-their-victories-at-the-china-open-super-series-badminton-tournament.txt', '/content/split/pm-condoles-the-passing-away-of-satguru-sri-sivananda-murty.txt', '/content/split/pm-to-inaugurate-new-building-for-national-museum-of-indian-cinema-in-mumbai-tomorrow.txt', '/content/split/cabinet-apprised-of-the-mou-between-india-and-mozambique-on-cooperation-in-the-field-of-youth-affairs.txt', '/content/split/pm-attends-350th-birth-anniversary-celebrations-of-shri-guru-gobind-singh-ji-maharaj-in-patna.txt', '/content/split/cabinet-approves-agreement-between-india-and-somalia-on-transfer-of-sentenced-persons.txt', '/content/split/creation-of-the-post-of-national-authority-joint-secretary-level-in-the-ministry-of-coal-under-the-coal-mines-special-provisions-act-2015.txt', '/content/split/amendments-to-the-juvenile-justice-care-and-protection-of-children-bill.txt', '/content/split/pm-pays-tribute-to-the-first-president-of-india-dr-rajendra-prasad-on-his-birth-anniversary.txt', '/content/split/dg-fao-calls-on-pm.txt', '/content/split/list-of-mousagreements-exchanged-during-the-visit-of-prime-minister-to-russia.txt', '/content/split/cabinet-approves-mou-between-india-and-romania-in-the-field-of-tourism.txt', '/content/split/cabinet-approves-provision-of-submarine-optical-fibre-cable-connectivity-between-mainland-chennai-and-andaman-nicobar-islands.txt', '/content/split/pm-dedicates-paradip-refinery-to-the-nation.txt', '/content/split/remarks-by-prime-minister-at-india-south-africa-business-meet-in-pretoria.txt', '/content/split/pm-greets-people-on-the-beginning-of-holy-month-of-ramzan.txt', '/content/split/pms-press-statement-during-the-state-visit-of-japanese-prime-minister-to-india.txt', '/content/split/pms-address-at-national-conference-on-agriculture-2022-doubling-farmers-income.txt', '/content/split/cabinet-approves-amendments-in-the-constitution-scheduled-castes-order-1950-1964.txt', '/content/split/pm-writes-to-the-ruler-of-dubai-condoling-the-passing-away-of-his-son.txt', '/content/split/mou-between-india-and-jordan-for-promoting-cooperation-in-the-field-of-it-and-electronics.txt', '/content/split/efforts-towards-cleanliness-in-pmo-under-swachh-bharat-abhiyan.txt', '/content/split/pm-condemns-the-attack-in-karachi.txt', '/content/split/pms-address-at-the-indian-community-reception-in-nairobi-kenya.txt', '/content/split/pm-addresses-nation-from-the-ramparts-of-the-red-fort-on-70th-independence-day.txt', '/content/split/cabinet-approves-agreement-between-india-and-cyprus-on-merchant-shipping.txt', '/content/split/text-of-pms-op-ed-in-wall-street-journal.txt', '/content/split/pm-lays-foundation-stone-for-four-laning-of-kaithal-narwana-hisar-rajasthan-border-highway-at-kaithal.txt', '/content/split/india-china-informal-summit.txt', '/content/split/pms-speech-at-ashara-mubaraka-commemoration-of-martyrdom-of-imam-husain-sa-at-indore.txt', '/content/split/pm-meets-crew-of-insv-tarini.txt', '/content/split/cabinet-approves-the-third-protocol-to-the-convention-between-india-and-new-zealand.txt', '/content/split/cabinet-approves-transfer-of-land-of-m-s-rashtriya-chemicals-fertilizers-rcf-to-mumbai-metropolitan-regional-development-authority.txt', '/content/split/pm-interacts-with-officers-of-pmo-on-the-occasion-of-first-anniversary-of-his-government.txt', '/content/split/cabinet-approves-rightsizing-the-competition-commission-of-india.txt', '/content/split/pm-congratulates-shri-maithripala-sirisena-and-people-of-sri-lanka.txt', '/content/split/pm-greets-the-nation-on-christmas.txt', '/content/split/pm-celebrates-diwali-with-jawans-in-harsil-uttarakhand.txt', '/content/split/pms-telephonic-conversation-with-prime-minister-of-nepal.txt', '/content/split/promulgation-of-the-dadra-and-nagar-haveli-value-added-tax-amendment-regulation-2015-under-article-240-of-the-constitution.txt', '/content/split/cabinet-gives-in-principle-approval-for-public-sector-banks-to-amalgamate-through-an-alternative-mechanism.txt', '/content/split/pms-mann-ki-baat-address-on-all-india-radio-3.txt', '/content/split/pm-congratulates-indias-open-water-swimmer-bhakti-sharma-at-setting-the-world-record.txt', '/content/split/pm-to-launch-swachh-shakti-2019-from-kurukshetra-tomorrow.txt', '/content/split/pm-addresses-public-meeting-in-chotila-lays-foundation-stone-for-greenfield-airport-for-rajkot.txt', '/content/split/cabinet-approves-rationalization-of-autonomous-bodies-under-department-of-health-family-welfare.txt', '/content/split/pm-hands-over-tricolour-to-arunima-sinha-on-her-expedition-to-mount-vinson-antarctica.txt', '/content/split/cabinet-apprised-of-mou-between-india-and-japan-for-collaborative-research-in-the-field-of-silkworm-and-silk-industries.txt', '/content/split/pm-addresses-young-ceos-at-the-champions-of-change-initiative-organised-by-niti-aayog.txt', '/content/split/cabinet-approves-pradhan-mantri-gramin-digital-saksharta-abhiyan-for-covering-6-crore-rural-households.txt', '/content/split/cabinet-approves-reservation-in-teachers-cadre-ordinance-2019.txt', '/content/split/french-president-hollande-speaks-to-the-pm-apprises-him-of-the-status-at-cop-21-climate-talks-in-paris.txt', '/content/split/pm-pays-tributes-to-swami-dayananda-saraswati-on-his-anniversary.txt', '/content/split/pms-concluding-remarks-at-the-consultation-meeting-with-cms-on-replacing-the-planning-commission.txt', '/content/split/pm-addresses-nation-from-ramparts-of-red-fort-on-72nd-independence-day.txt', '/content/split/pm-greets-the-people-of-karnataka-kerala-madhya-pradesh-chhattisgarh-punjab-and-haryana-on-the-statehood-day.txt', '/content/split/setting-up-of-a-society-36thinternational-geological-congress.txt', '/content/split/pm-invites-people-to-discover-the-beauty-of-incredible-india-on-world-tourism-day.txt', '/content/split/cabinet-approves-mou-between-the-india-and-swaziland-on-cooperation-in-the-field-of-health-and-medicine.txt', '/content/split/singapore-foreign-minister-calls-on-pm-year-long-series-of-events-planned-to-mark-50-years-of-diplomatic-relations.txt', '/content/split/cabinet-approves-provision-of-credit-of-150-million-usd-to-islamic-republic-of-iran-for-chabahar-port-development.txt', '/content/split/text-of-the-pms-remarks-on-the-commissioning-of-coast-ship-barracuda.txt', '/content/split/pm-condemns-the-terror-attack-in-kabul-condoles-loss-of-innocent-lives-in-the-attack.txt', '/content/split/cabinet-approves-transfer-of-central-hospital-at-karma.txt', '/content/split/pms-interaction-through-pragati-3.txt', '/content/split/cabinet-approves-mou-between-india-and-austria.txt', '/content/split/pm-to-visit-andaman-nicobar-islands.txt', '/content/split/text-of-pms-reply-to-the-debate-on-motion-of-thanks-to-presidents-address-in-the-lok-sabha.txt', '/content/split/pms-twenty-sixth-interaction-through-pragati.txt', '/content/split/mou-between-india-and-maldives-for-health.txt', '/content/split/pms-address-at-inauguration-ceremony-of-international-conference-and-exhibition-on-sugarcane-value-chain-vision-2025-sugar-at-pune.txt', '/content/split/pm-congratulates-the-indian-cricket-team-for-historic-win-at-lords.txt', '/content/split/three-new-vaccines-including-indigenously-developed-rotavirus-vaccine-to-be-provided-to-all-indian-childrenfourth-vaccine-for-adults-to-protect-against-japanese-encephalitis-to-be-introduced-in-high-p.txt', '/content/split/pm-and-michael-bloomberg-announce-partnership-to-advance-the-smart-cities-initiative.txt', '/content/split/pm-greets-the-people-on-the-auspicious-occasion-of-onam.txt', '/content/split/pm-reviews-drought-and-water-scarcity-situation-at-high-level-meeting-with-telangana-cm.txt', '/content/split/pm-reviews-pahal-scheme-for-direct-benefit-transfer-for-lpg-subsidy.txt', '/content/split/pm-pays-tributes-to-loknayak-jayprakash-narayan-on-his-birth-anniversary-2.txt', '/content/split/cabinet-approves-liberalization-simplification-and-rationalization-of-visa-regime-in-india.txt', '/content/split/pm-greets-people-of-nagaland-on-statehood-day.txt', '/content/split/pms-speech-at-the-birth-centenary-celebrations-of-nanaji-deshmukh-at-iari.txt', '/content/split/cabinet-apprised-of-an-mou-between-india-and-fiji-on-cooperation-in-renewable-energy.txt', '/content/split/cabinet-approves-umbrella-scheme-of-modernisation-of-police-forces.txt', '/content/split/text-of-pms-address-to-the-national-assembly-of-mauritius.txt', '/content/split/speech-by-prime-minister-at-the-mayors-reception-in-durban.txt', '/content/split/mou-signed-between-india-and-singapore-on-cooperation-in-the-field-of-urban-planning-and-governance.txt', '/content/split/pm-unveils-statue-of-mahatma-gandhi-at-brisbane.txt', '/content/split/joint-declaration-between-india-germany-on-extension-of-tenure-of-igstc-from-2017-till-2022.txt', '/content/split/pms-press-statement-during-the-state-visit-of-president-of-cyprus-to-india.txt', '/content/split/signing-of-joint-declaration-of-intent-between-india-and-germany-for-minor-amendments-in-the-earlier-mou-for-facilitating-implementation-of-the-programme-indo-german-partnerships-in-higher-education.txt', '/content/split/cabinet-approves-redevelopment-of-railway-stations-by-irsdc-as-nodal-agency-through-simplified-procedures-and-longer-lease-tenure.txt', '/content/split/cabinet-approves-setting-up-of-expert-group-to-classify-castetribe-data-of-socio-economic-caste-census-secc-2011.txt', '/content/split/pm-condoles-the-passing-away-of-eminent-gandhian-shri-chunibhai-vaidya.txt', '/content/split/cabinet-approves-mou-between-india-and-singapore-on-cooperation-in-the-field-of-planning.txt', '/content/split/text-of-pms-speech-at-the-foundation-stone-laying-ceremony-of-pradhan-mantri-awas-yojana-in-chhattisgarh.txt', '/content/split/pms-address-at-the-foundation-stones-laying-ceremony-of-various-development-projects-in-varanasi-uttar-pradesh.txt', '/content/split/pm-to-visit-durgapur-west-bengal-on-2-february-2019.txt', '/content/split/pms-inaugural-address-at-the-maritime-india-summit-2016.txt', '/content/split/joint-statement-between-the-india-and-china-during-pms-visit-to-china.txt', '/content/split/cabinet-approves-mou-between-india-and-vietnam-on-economic-and-trade-cooperation-2.txt', '/content/split/text-of-prime-minister-shri-narendra-modis-address-to-indian-community-at-madison-square-garden-new-york.txt', '/content/split/hosting-of-fifa-under-17-world-cup-2017-in-india.txt', '/content/split/cabinet-approves-subsidizing-mdr-charges-on-debit-cardbhim-upiaeps-transactions-of-value-less-than-rs-2000.txt', '/content/split/establishment-of-fund-of-funds-for-funding-support-to-start-ups.txt', '/content/split/cabinet-approves-closure-of-mahatma-gandhi-pravasi-suraksha-yojana.txt', '/content/split/cabinet-approves-introduction-of-the-payment-of-gratuity-amendment-bill-2017-in-the-parliament.txt', '/content/split/mr-dmitry-rogozin-deputy-prime-minister-of-russia-calls-on-prime-minister.txt', '/content/split/cabinet-approves-a-memorandum-of-cooperation-between-india-and-france-in-the-field-of-environment.txt', '/content/split/pms-opening-remarks-with-heads-of-government-from-south-asian-nations-to-mark-the-launch-of-south-asia-satellite.txt', '/content/split/pms-mann-ki-baat-programme-on-all-india-radio.txt', '/content/split/pm-in-kuala-lumpur-engagements-and-highlights-21-nov-2015.txt', '/content/split/pm-to-share-his-thoughts-in-radio-programme-mann-ki-baat-on-all-india-radio-on-sunday.txt', '/content/split/cabinet-approves-changes-in-the-implementation-framework-of-national-rural-livelihood-mission.txt', '/content/split/pms-speech-at-the-inauguration-of-amuls-chocolate-plant-and-other-projects-in-anand-gujarat.txt', '/content/split/pms-telephonic-conversation-with-hrh-crown-prince-salman-bin-abdulaziz-al-saud.txt', '/content/split/cabinet-approves-moc-between-india-and-japan-in-the-field-of-environmental-cooperation.txt', '/content/split/pm-congratulates-poets-on-world-poetry-day.txt', '/content/split/msp-for-rabi-crops-of-2015-16-season.txt', '/content/split/india-indonesia-joint-statement-during-the-state-visit-of-president-of-indonesia-to-india.txt', '/content/split/pm-condoles-the-passing-away-of-former-goa-and-maharashtra-governor-shri-mohammed-fazal.txt', '/content/split/cabinet-approves-memorandum-of-understanding-between-india-and-kuwait-for-cooperation-on-the-recruitment-of-domestic-workers.txt', '/content/split/pm-and-chinese-president-xi-jinping-witness-signing-of-3-mous-in-ahmedabad.txt', '/content/split/cabinet-apprised-of-the-mou-with-ferrovie-dello-stato-italiane-s-p-a-of-italy-on-technical-cooperation-in-the-rail-sector.txt', '/content/split/ex-gratia-relief-from-pmnrf-for-victims-of-patna-stampede-released-to-bihar-government.txt', '/content/split/cabinet-apprised-of-framework-agreement-between-india-and-sao-tome-principe-for-cooperation-in-the-exploration-and-uses-of-outer-space-for-peaceful-purposes.txt', '/content/split/text-of-pms-address-at-the-inauguration-of-the-conference-of-state-environment-and-forest-ministers.txt', '/content/split/approval-of-model-agreement-on-exemption-from-visa-requirements-for-the-holders-of-diplomatic-and-official-passports.txt', '/content/split/renewal-of-mou-between-india-and-canada-in-higher-education.txt', '/content/split/cabinet-approves-creation-of-the-post-of-vice-chancellor-for-national-rail-transport-institute-deemed-to-be-university-set-up-in-vadodara-gujarat.txt', '/content/split/pm-remembers-acharya-kripalani-on-his-birth-anniversary.txt', '/content/split/pm-interacts-with-the-members-of-his-science-technology-and-innovation-advisory-council-pm-stiac.txt', '/content/split/general-framework-agreement-on-renewable-energy-cooperation.txt', '/content/split/pms-banquet-speech-by-prime-minister-during-his-visit-to-vietnam.txt', '/content/split/pm-to-visit-varanasi-and-lucknow-tomorrow.txt', '/content/split/pm-interacts-with-the-newly-elected-sarpanches-lauds-jk-citizens-for-their-commitment-to-democracy-and-development.txt', '/content/split/pms-statement-at-the-joint-press-briefing-with-the-prime-minister-of-vietnam-h-e-nguyen-tan-dung.txt', '/content/split/tough-line-on-black-money-full-text-of-pm-modis-interview-to-network18.txt', '/content/split/text-of-pms-statement-at-the-media-briefing-with-president-filipe-nyusi-of-mozambique.txt', '/content/split/steel-and-mines-psus-donate-rs-15-crore-to-pmnrf.txt', '/content/split/delegation-of-japanese-parliamentarians-calls-on-pm.txt', '/content/split/modification-in-the-policy-for-liberalisation-of-administratively-allotted-spectrum.txt', '/content/split/text-of-pms-statement-in-the-lok-sabha-on-sadhvi-niranjan-jyoti-issue.txt', '/content/split/pm-to-visit-guwahati-itanagar-and-agartala-tomorrow.txt', '/content/split/cabinet-approves-of-mou-between-india-and-bangladesh-on-aids-to-navigation-atons.txt', '/content/split/cabinet-apprised-of-mou-between-india-and-morocco-on-cooperation-in-the-area-of-cyber-security.txt', '/content/split/cabinet-approves-mou-between-india-and-oman-on-cooperation-in-the-peaceful-uses-of-outer-space.txt', '/content/split/cabinet-approves-the-repealing-of-the-obsolete-and-redundant-laws.txt', '/content/split/cabinet-approves-mou-between-india-and-jordan-for-mining-and-beneficiation-of-rock-phosphate.txt', '/content/split/pms-message-on-world-environment-day.txt', '/content/split/cabinet-approves-mou-between-india-and-france-in-the-field-of-new-and-renewable-energy.txt', '/content/split/pm-attends-ground-breaking-ceremony-of-navi-mumbai-international-airport-dedicates-fourth-container-terminal-at-jnpt.txt', '/content/split/prime-minister-expresses-joy-on-un-declaring-21st-june-as-international-day-of-yoga.txt', '/content/split/pm-salutes-women-power-on-womens-day-2.txt', '/content/split/pm-invites-the-questions-for-townhall-question-and-answerqa-session-at-facebook-headquarters-on-september-27-2015.txt', '/content/split/cabinet-approves-setting-up-of-new-aiims-at-manethi-haryana.txt', '/content/split/anganwadi-workers-from-across-the-country-call-on-pm.txt', '/content/split/pm-condoles-loss-of-life-in-odisha-floods.txt', '/content/split/cabinet-approves-monetization-of-3-70-acres-of-land-at-pragati-maidan-by-itjpo.txt', '/content/split/pms-press-statement-during-the-state-visit-of-president-of-maldives-to-india.txt', '/content/split/pm-pays-homage-at-babasahebs-birthplace-launches-gramoday-se-bharat-uday-abhiyan-in-mhow.txt', '/content/split/two-groups-of-secretaries-present-ideas-on-health-sanitation-urban-development-and-commerce-industry-to-pm.txt', '/content/split/transcript-of-pms-interaction-with-chinese-media-organizations.txt', '/content/split/cabinet-approves-pradhan-mantri-kisan-samman-nidhi-pm-kisan-scheme.txt', '/content/split/pms-statement-prior-to-his-departure-to-sweden-and-uk.txt', '/content/split/president-elect-of-the-united-nations-general-assembly-calls-on-prime-minister-2.txt', '/content/split/apple-ceo-tim-cook-calls-on-pm.txt', '/content/split/pm-in-chandigarh.txt', '/content/split/pm-greets-the-people-of-himachal-pradesh-on-their-statehood-day.txt', '/content/split/cabinet-approves-setting-up-of-the-national-commission-for-homoeopathy-nch-bill-2018.txt', '/content/split/cabinet-approves-signing-of-bilateral-investment-agreement-between-india-taipei-association-in-taipei-and-the-taipei-economic-and-cultural-center-in-india.txt', '/content/split/pm-launches-development-initiatives-in-vadodara.txt', '/content/split/cabinet-apprised-of-mou-between-india-and-bangladesh-for-cyber-security-cooperation.txt', '/content/split/dr-seth-berkley-ceo-of-gavi-the-vaccine-alliance-calls-on-pm.txt', '/content/split/pm-to-address-kisan-kalyan-mela-at-sehore-in-madhya-pradesh-release-guidelines-for-pradhan-mantri-fasal-bima-yojana.txt', '/content/split/cabinet-approves-vijayawada-airport-as-international-airport.txt', '/content/split/pm-writes-to-afghan-president-condoles-demise-of-his-cousin-in-a-terrorist-attack.txt', '/content/split/pms-remarks-at-the-indian-community-reception-in-tokyo.txt', '/content/split/drafts-towards-pmnrf-presented-to-pm.txt', '/content/split/pms-statement-on-his-upcoming-visit-to-japan.txt', '/content/split/pms-address-at-the-commissioning-ceremony-of-naval-submarine-ins-kalvari-at-mumbai.txt', '/content/split/pm-reviews-drought-and-water-scarcity-situation-at-high-level-meeting-with-rajasthan-cm.txt', '/content/split/cabinet-approves-mou-between-india-and-norway-on-india-norway-ocean-dialogue.txt', '/content/split/pm-delivers-convocation-address-at-the-42nd-convocation-of-aiims.txt', '/content/split/list-of-mous-signed-between-india-and-seychelles-during-the-state-visit-of-president-of-seychelles-to-india.txt', '/content/split/pm-in-rameswaram.txt', '/content/split/pm-pays-tributes-to-the-victims-of-26-11-terror-attacks-in-mumbai.txt', '/content/split/government-abolishes-all-goms-and-egoms-for-greater-accountability-and-empowerment.txt', '/content/split/text-of-pms-speech-on-inauguration-foundation-laying-of-certain-rail-projects-at-hajipur-bihar.txt', '/content/split/pm-greets-the-people-on-guru-nanak-jayanti.txt', '/content/split/pm-visits-masdar-city-abu-dhabi.txt', '/content/split/pm-to-visit-mizoram-and-meghalaya-tomorrow-will-inaugurate-various-development-projects.txt', '/content/split/pm-to-join-the-programme-to-mark-the-conclusion-of-the-narmada-seva-yatra-in-amarkantak-madhya-pradesh.txt', '/content/split/pm-addresses-concluding-session-of-governors-conference.txt', '/content/split/cabinet-approves-appointment-of-adjudicating-authority-and-establishment-of-appellate-tribunal-under-prohibition-of-benami-property-transactions-act-1988.txt', '/content/split/pms-address-in-lok-sabha-during-special-discussion-on-the-occasion-of-the-75th-anniversary-of-quit-india-movement.txt', '/content/split/pms-message-on-international-day-of-the-girl-child.txt', '/content/split/text-of-pms-address-to-lt-workers-at-lt-residential-complex-in-riyadh.txt', '/content/split/pms-address-at-the-10th-civil-services-day-awards-ceremony-at-new-delhi.txt', '/content/split/cabinet-apprised-of-the-signing-of-protocol-with-czech-republic-on-bilateral-cooperation-in-the-field-of-heavy-industry.txt', '/content/split/call-on-pm-by-mr-kamal-thapa-deputy-prime-minister-and-foreign-minister-of-nepal.txt', '/content/split/common-norms-for-skill-development-schemes-implemented-by-government-of-india.txt', '/content/split/pm-expresses-sadness-over-the-loss-of-lives-due-to-collapse-ofan-under-construction-flyover-in-varanasi.txt', '/content/split/cabinet-approves-signing-of-the-definitive-agreement-on-oil-storage-and-management-between-isprl-and-adnoc-of-uae.txt', '/content/split/pm-inaugurates-new-building-complex-of-bombay-art-society.txt', '/content/split/major-impetus-to-job-creation-and-infrastructure-radical-changes-in-fdi-policy-regime-most-sectors-on-automatic-route-for-fdi.txt', '/content/split/cabinet-gives-approval-to-the-mou-between-india-and-japan-for-promoting-sustainable-stable-and-low-carbon-thermal-power-development-in-india.txt', '/content/split/pm-greets-the-nation-on-the-beginning-of-the-festival-of-navratri.txt', '/content/split/mr-hideaki-ohmura-governor-of-aichi-prefecture-of-japan-calls-on-pm.txt', '/content/split/cabinet-approves-mou-with-myanmar-for-the-conservation-of-earthquake-damaged-pagodas-at-bagan.txt', '/content/split/pm-chairs-follow-up-meeting-to-review-situation-following-earthquake-in-nepal.txt', '/content/split/pm-pays-tributes-to-chhatrapati-shivaji-maharaj-on-his-jayanti.txt', '/content/split/kerala-temple-fire-pm-announces-rs-2-lakh-ex-gratia-for-next-of-kin-of-deceased.txt', '/content/split/pm-pays-tribute-to-swami-sree-narayana-guru-on-his-jayanti.txt', '/content/split/approval-to-promulgate-the-negotiable-instruments-amendment-ordinance-2015.txt', '/content/split/pm-announces-he-will-address-farmers-in-the-next-mann-ki-baat.txt', '/content/split/pms-interaction-through-pragati-15.txt', '/content/split/pm-dedicates-to-the-nation-shri-mata-vaishno-devi-katra-udhampur-railway-line-flags-off-first-train-from-katra-to-udhampur-pm-this-is-a-day-that-brings-speed-gati-and-energy-urja-to-the-developme.txt', '/content/split/pm-to-inaugurate-defexpo-2018-in-chennai-on-april-12.txt', '/content/split/pms-address-at-sco-summit.txt', '/content/split/pm-reviews-drought-and-water-scarcity-situation-at-high-level-meeting-with-odisha-cm.txt', '/content/split/pm-in-vadodara.txt', '/content/split/transfer-of-21-93-acre-of-land-belonging-to-the-central-tobacco-research-institute.txt', '/content/split/pm-welcomes-french-president-francois-hollande-on-his-arrival-in-india-looks-forward-to-meet-him-in-chandigarh-and-delhi.txt', '/content/split/pm-condoles-the-demise-of-eminent-cartoonist-rk-laxman.txt', '/content/split/pms-speech-at-a-public-meeting-at-car-nicobar.txt', '/content/split/pm-greets-the-people-on-akshay-tritiya.txt', '/content/split/pm-condemns-attacks-in-egypt.txt', '/content/split/cabinet-approves-setting-up-of-new-aiims-in-kamrup-assam.txt', '/content/split/cabinet-apprised-of-the-joint-declaration-of-intent-between-india-and-germany-on-indo-german-centre-for-sustainability.txt', '/content/split/irs-officer-trainees-meet-pm.txt', '/content/split/cabinet-approves-mou-between-india-and-sao-tome-and-principe-for-cooperation-in-the-field-of-traditional-systems-of-medicine-and-homoeopathy.txt', '/content/split/list-of-mousagreements-signed-during-the-state-visit-of-president-of-france-to-india.txt', '/content/split/pms-mann-ki-baat-programme-on-all-india-radio-8.txt', '/content/split/text-of-pms-statement-in-lok-sabha.txt', '/content/split/pms-engagements-in-dublin-ireland.txt', '/content/split/pm-to-visit-uttar-pradesh-on-december-16-2018.txt', '/content/split/pms-twenty-first-interaction-through-pragati.txt', '/content/split/pms-address-at-the-foundation-stone-laying-ceremony-of-aiims-madurai-tamil-nadu.txt', '/content/split/global-ceos-call-on-pm.txt', '/content/split/pms-remarks-at-the-press-briefing-with-president-park-geun-hye.txt', '/content/split/cabinet-approves-mou-between-india-and-denmark-on-food-safety-cooperation.txt', '/content/split/text-of-pms-address-at-29th-statehood-day-celebrations-of-arunachal-pradesh.txt', '/content/split/pm-attends-gita-aradhana-mahotsav-at-iskcon-new-delhi.txt', '/content/split/pm-greets-the-people-of-united-states-of-america-usa-on-their-independence-day.txt', '/content/split/press-statement-by-pm-modi-with-pm-hum-sen-of-cambodia.txt', '/content/split/pms-telephonic-conversation-with-president-of-turkey.txt', '/content/split/press-statement-by-pm-during-india-eu-summit.txt', '/content/split/text-of-pms-address-at-85th-annual-conference-of-srimanta-sankaradeva-sangha-at-sibsagar-assam.txt', '/content/split/raising-the-authorized-share-capital-of-indian-renewable-energy-development-agency.txt', '/content/split/pm-unveils-statue-of-mahatma-gandhi-in-bishkek.txt', '/content/split/english-rendering-of-the-pms-statement-at-the-general-debate-of-the-69th-session-of-the-united-nations-general-assembly-unga.txt', '/content/split/pms-video-message-for-the-second-edition-of-samvad-global-initiative-on-conflict-avoidance-and-environment-consciousness.txt', '/content/split/pms-state-visit-to-rwanda-uganda-and-south-africa-july-23-27-2018.txt', '/content/split/cabinet-approves-mou-on-cooperation-in-the-field-of-traditional-systems-of-medicine-between-india-and-colombia.txt', '/content/split/cabinet-approves-mou-between-india-and-qatar-for-strengthening-cooperation-in-the-field-of-tourism.txt', '/content/split/pm-pays-tributes-to-pandit-jawaharlal-nehru-on-his-birth-anniversary.txt', '/content/split/pm-meets-crew-of-navika-sagar-parikrama.txt', '/content/split/pms-interaction-through-pragati-14.txt', '/content/split/pm-attends-meeting-of-somnath-trust-3.txt', '/content/split/approval-for-revival-of-the-sindri-unit-of-the-fertilizer-corporation-india.txt', '/content/split/pms-bilateral-meetings-with-african-leaders-on-the-sidelines-of-india-africa-forum-summit.txt', '/content/split/pms-gift-to-german-chancellor-angela-merkel.txt', '/content/split/pm-remembers-bal-gangadhar-tilak-and-chandra-shekhar-azad-on-their-birth-anniversary.txt', '/content/split/cabinet-approves-an-undertaking-between-india-and-korea-on-mutual-recognition-of-certificates-for-seafarers-1978.txt', '/content/split/pm-condoles-loss-of-lives-due-to-tsunami-and-earthquake-in-central-sulawesi-in-indonesia.txt', '/content/split/pm-meets-youth-of-gujjar-bakkarwal-communities-from-jammu-and-kashmir.txt', '/content/split/women-and-children-tie-rakhi-on-pms-wrist-on-the-occasion-of-raksha-bandhan-3.txt', '/content/split/pm-inaugurates-idfc-bank.txt', '/content/split/eu-high-representative-for-foreign-affairs-and-security-policy-calls-on-pm.txt', '/content/split/pm-expresses-grief-over-loss-of-lives-in-central-ammunition-depot-fire.txt', '/content/split/former-pm-of-nepal-shri-sher-bahadur-deuba-calls-on-pm.txt', '/content/split/pm-pays-tributes-to-mahatma-phule-on-his-birth-anniversary-2.txt', '/content/split/text-of-pms-address-at-indian-community-reception-event-in-singapore.txt', '/content/split/mann-ki-baat-on-25th-october-pm-urges-citizens-to-share-ideas-and-voice-messages.txt', '/content/split/cabinet-approves-placing-the-new-instrument-adopted-by-international-labour-organization-before-the-parliament.txt', '/content/split/pm-greets-the-people-of-netherlands-on-the-occasion-of-kings-day.txt', '/content/split/pm-greets-girl-children-and-young-women-on-new-years-day.txt', '/content/split/pm-pays-tributes-to-pt-madan-mohan-malaviya-on-his-jayanti-3.txt', '/content/split/cabinet-approves-mou-between-india-and-portugal-on-cooperation-in-the-field-of-public-administration-and-governance-reforms.txt', '/content/split/setting-up-over-300-mw-of-grid-connected-solar-pv-power-projects-by-defence-establishments-under-ministry-of-defence-and-para-military-forces-with-viability-gap-funding-under-phase-iiiii-of-jnnsm.txt', '/content/split/pm-condoles-the-passing-away-of-freedom-fighter-shri-ghelubhai-naik.txt', '/content/split/pms-message-on-swachh-bharat.txt', '/content/split/pm-interacts-with-farmers-across-the-country-through-video-bridge.txt', '/content/split/cabinet-approves-international-solar-alliance-isa-signing-of-the-framework-agreement.txt', '/content/split/full-text-of-the-honble-presidents-address-to-parliament.txt', '/content/split/text-of-pms-address-to-indian-community-in-riyadh.txt', '/content/split/pm-to-visit-jalpaiguri-west-bengal-tomorrow.txt', '/content/split/pms-press-statement-in-washington-dc-during-his-visit-to-the-usa.txt', '/content/split/pm-condoles-the-passing-away-of-sadashiv-amrapurkar.txt', '/content/split/exchange-of-mous-in-the-presence-of-prime-minister-on-the-sidelines-of-the-inauguration-of-make-in-india-centre.txt', '/content/split/cabinet-approves-amendment-in-the-benami-transactions-prohibition-amendment-bill-2015.txt', '/content/split/pm-attends-book-release-function-to-commemorate-constitution-day.txt', '/content/split/cabinet-approves-acquisition-of-subsidiary-banks-of-state-bank-of-india.txt', '/content/split/pms-address-at-the-national-conference-of-tourism-culture-and-sports-via-video-conference.txt', '/content/split/pms-address-at-a-function-to-commemorate-constitution-day-at-parliament-house-annexe.txt', '/content/split/cabinet-approves-agreement-for-collaborative-activities-in-the-area-of-traditional-medicine-between-ministry-of-ayush-and-the-who.txt', '/content/split/pm-conveys-his-condolences-to-the-people-of-israel-on-the-demise-of-former-israel-president-shimon-peres.txt', '/content/split/ustad-amjad-ali-khan-calls-on-pm.txt', '/content/split/cabinet-approves-new-bill-to-ban-unregulated-deposit-schemes-and-chit-funds-amendment-bill-2018.txt', '/content/split/cabinet-approves-a-new-scheme-for-promotion-of-rural-housing-in-the-country.txt', '/content/split/pm-inaugurates-shaurya-smaarak-addresses-public-meeting-in-bhopal.txt', '/content/split/pm-speaks-to-prime-minister-of-israel.txt', '/content/split/pm-at-ranchi.txt', '/content/split/statement-by-prime-minister-prior-to-his-departure-for-nepal.txt', '/content/split/pm-interacts-with-mudrayojana-beneficiaries-across-the-country-through-video-bridge.txt', '/content/split/cabinet-approves-mou-between-india-and-vietnam-on-joint-issue-of-postage-stamp.txt', '/content/split/pm-greets-the-people-of-slovenia-on-their-statehood-day.txt', '/content/split/list-of-mousagreements-signed-during-the-state-visit-of-prime-minister-of-the-kingdom-of-cambodia-to-india.txt', '/content/split/pms-gift-to-president-francois-hollande.txt', '/content/split/cabinet-approves-amendment-of-the-jallianwala-bagh-national-memorial-act-1951.txt', '/content/split/sr-gen-u-min-aung-hliang-commander-in-chief-of-myanmar-defence-services-calls-on-pm.txt', '/content/split/cabinet-approves-mou-between-india-and-palestine-on-agriculture-cooperation.txt', '/content/split/press-statement-by-prime-minister-on-arrival-in-tel-aviv.txt', '/content/split/pms-mann-ki-baat-programme-on-all-india-radio-17.txt', '/content/split/cabinet-approves-the-transgender-persons-protection-of-rights-bill-2016.txt', '/content/split/pm-to-visit-varanasi-tomorrow-2.txt', '/content/split/ioc-president-meets-pm.txt', '/content/split/delegation-of-leaders-from-jk-opposition-parties-meets-pm.txt', '/content/split/text-of-pms-address-on-the-inauguration-ceremony-of-international-solar-alliance-headquarters-in-gurgaon.txt', '/content/split/pm-and-u-s-president-donald-j-trump-exchange-greetings-in-the-new-year.txt', '/content/split/memorandum-of-understanding-between-india-and-maldives-in-the-field-of-sports-and-youth-affairs.txt', '/content/split/pm-addresses-rising-india-summit-organized-by-network-18.txt', '/content/split/pm-releases-2-part-book-series-on-m-s-swaminathan-the-quest-for-a-world-without-hunger.txt', '/content/split/pm-inaugurates-first-assembly-of-the-international-solar-alliance.txt', '/content/split/cabinet-approves-mou-between-india-and-australia-for-promotion-and-development-of-cooperation-in-civil-aviation-security.txt', '/content/split/pm-greets-nation-on-christmas.txt', '/content/split/cabinet-approves-mou-between-india-and-the-un-entity-of-gender-equality-and-empowerment-of-women-un-women.txt', '/content/split/pm-reviews-drought-and-water-scarcity-situation-at-high-level-meeting-with-maharashtra-cm.txt', '/content/split/cabinet-apprised-of-mou-between-india-and-canada-to-foster-cross-border-partnerships-focused-on-research-excellence-and-industry-academic-collaboration.txt', '/content/split/cabinet-approves-setting-up-of-the-15th-finance-commission.txt', '/content/split/message-by-the-president-of-russia-at-the-ceremony-marking-the-launch-of-a-russian-indian-joint-venture-for-kalashnikov-assault-rifle-production.txt', '/content/split/pms-address-at-the-launch-of-ayushman-bharat-pmjay-at-ranchi-jharkhand.txt', '/content/split/pm-extends-his-wishes-on-engineers-day.txt', '/content/split/pm-condoles-the-passing-away-of-sushil-koirala-former-nepal-pm.txt', '/content/split/pm-greets-the-people-on-the-occasion-of-buddha-purnima.txt', '/content/split/introduction-of-sovereign-gold-bonds-scheme.txt', '/content/split/amendment-in-the-first-schedule-of-industries-development-and-regulation-act-1951-to-transfer-the-authority-to-regulate-potable-alcohol-to-states.txt', '/content/split/pm-accepts-shri-nehchal-sandhus-resignation-as-deputy-nsa-with-regret-2.txt', '/content/split/pm-to-visit-madurai-tamilnadu-on-27-january2019.txt', '/content/split/cabinet-approves-mou-between-india-and-uae-for-cooperation-in-the-field-of-small-and-medium-enterprises-and-innovation.txt', '/content/split/approval-for-sale-of-plot-of-land-of-air-india-located-at-pankaja-mills-road-coimbatore.txt', '/content/split/mr-bimalendra-nidhi-deputy-prime-minister-and-minister-of-home-affairs-of-nepal-calls-on-pm.txt', '/content/split/text-of-pms-address-during-the-foundation-stone-ceremony-of-nagpur-metro-pardi-grade-separator-and-flyover-on-nh-6-at-nagpur.txt', '/content/split/pm-lauds-the-achievements-in-rural-electrification.txt', '/content/split/cabinet-apprised-of-jointly-issue-of-postage-stamps-between-india-and-canada.txt', '/content/split/geeta-meets-pm-on-return-from-pakistan.txt', '/content/split/text-of-pms-speech-at-friends-of-india-event-in-moscow-russia.txt', '/content/split/cabinet-approves-implementation-of-supreme-courts-judgment-regarding-target-plus-scheme-under-foreign-trade-policy-2004-09.txt', '/content/split/pms-address-at-opening-ceremony-of-haryana-swarna-jayanti-celebrations.txt', '/content/split/pms-address-at-the-launch-of-environment-friendly-e-boats-at-assi-ghat-varanasi.txt', '/content/split/pm-facilitates-reunion-of-jeet-bahadur-with-his-family-in-nepal.txt', '/content/split/pms-address-and-interaction-at-council-on-foreign-relations-in-new-york-city-2.txt', '/content/split/niti-aayog-announces-launch-of-the-schemes-lucky-grahak-yojana-and-digi-dhan-vyapar-yojana.txt', '/content/split/pms-address-at-sahkar-sammelan-on-the-occasion-of-birth-centenary-of-laxmanrao-inamdar.txt', '/content/split/fourth-bimstec-summit-declaration-kathmandu-nepal.txt', '/content/split/installation-of-solar-power-plant-at-the-central-state-farm-at-jetsar-rajasthan.txt', '/content/split/delegation-of-artists-and-writers-led-by-shri-anupam-kher-call-on-pm.txt', '/content/split/pm-congratulates-tennis-players-leander-paes-and-martina-hingis-on-winning-wimbledon-mixed-doubles-title.txt', '/content/split/pm-greets-the-people-on-the-beginning-of-navratri-festival.txt', '/content/split/pm-celebrates-diwali-with-jawans-people-near-india-china-border-in-himachal-pradesh.txt', '/content/split/press-statement-by-prime-minister-of-india-during-the-visit-of-prime-minister-of-singapore-to-india.txt', '/content/split/pm-to-interact-with-mudra-beneficiaries-tomorrow.txt', '/content/split/pm-inaugurates-various-projects-in-junagadh-district.txt', '/content/split/cabinet-approves-mou-between-india-and-usa-to-access-tip-line-reports-on-missing-and-exploited-children.txt', '/content/split/pms-follow-up-meeting-to-review-situation-following-earthquake-in-nepal.txt', '/content/split/cabinet-approves-the-negotiating-position-adopted-by-the-government-at-the-meeting-of-parties-to-the-montreal-protocol-of-the-vienna-convention.txt', '/content/split/pm-congratulates-indian-badminton-player-kidambi-srikanth-on-the-victory-in-indonesia-open-super-series-tournament.txt', '/content/split/pm-to-dedicate-naval-submarine-ins-kalvari-to-the-nation-tomorrow.txt', '/content/split/pms-congratulatory-message-on-world-blood-donor-day.txt', '/content/split/pm-meets-leaders-of-bhutan-sri-lanka-sweden-and-cyprus-in-new-york-city.txt', '/content/split/pm-visits-pathankot-airbase.txt', '/content/split/pm-writes-a-letter-to-sri-lankas-president-elect-mr-maithripala-sirisena-congratulating-him-on-the-victory.txt', '/content/split/pm-to-visit-mumbai-launch-make-in-india-week-tomorrow.txt', '/content/split/pms-closing-remarks-at-fourth-meeting-of-the-governing-council-of-niti-aayog.txt', '/content/split/pm-greets-people-of-trinidad-and-tobago-on-their-republic-day.txt', '/content/split/pm-inaugurates-bahadurgarh-mundka-metro-line-via-video-conference.txt', '/content/split/pms-telephonic-conversation-with-prime-minister-of-canada-justin-trudeau.txt', '/content/split/pm-interacts-with-schoolchildren-evaluates-development-works-in-varanasi.txt', '/content/split/pm-to-visit-nagpur-tomorrow.txt', '/content/split/pm-visits-guwahati-lays-foundation-stone-of-north-east-gas-grid-unveils-various-development-projects.txt', '/content/split/prime-minister-makes-a-congratulatory-telephone-call-to-president-xi-jinping.txt', '/content/split/text-of-pms-address-at-the-launch-of-make-in-india-global-initiative.txt', '/content/split/cabinet-approves-creation-of-national-testing-agency-to-conduct-entrance-examinations-for-higher-educational-institutions.txt', '/content/split/text-of-pms-address-at-the-bhawan-nirman-aarambh-at-world-hindi-secretariat-building-site-mauritius.txt', '/content/split/pm-congratulates-medal-winners-at-asian-games.txt', '/content/split/cabinet-approves-budgetary-support-to-hmt-ltd-for-payment-of-outstanding-salary-introduction-of-vrsvss-and-closure-of-tractor-division.txt', '/content/split/cabinet-approves-agriculture-export-policy-2018.txt', '/content/split/cabinet-approves-mou-with-mauritius-on-consumer-protection-and-legal-metrology.txt', '/content/split/constitution-of-empowered-committee-of-secretaries-to-process-recommendations-of-7th-central-pay-commission.txt', '/content/split/prime-minister-greets-the-people-of-meghalaya-tripura-and-manipur-on-their-statehood-day.txt', '/content/split/text-of-pms-replies-during-question-answer-session-at-the-tsinghua-university-beijing.txt', '/content/split/letter-of-intent-and-mou-signed-with-ministry-of-sde-of-india-and-the-uae-for-cooperation-in-skill-development-and-recognition-of-qualifications.txt', '/content/split/pm-condoles-the-demise-of-soldiers-in-siachen.txt', '/content/split/pm-meets-first-lady-of-the-republic-of-korea.txt', '/content/split/cabinet-approves-revamped-khelo-india-programme.txt', '/content/split/pm-launches-pradhan-mantri-ujjwala-yojana-at-ballia-5-crore-beneficiaries-to-be-provided-cooking-gas-connections.txt', '/content/split/press-statement-by-pm-during-his-visit-to-spain.txt', '/content/split/mr-nicolas-sarkozy-former-president-of-france-meets-pm-2.txt', '/content/split/cabinet-approves-north-east-industrial-development-scheme-neids-2017.txt', '/content/split/pm-inaugurates-petrotech-2019-says-energy-is-a-key-driver-of-socio-economic-growth.txt', '/content/split/pm-launches-national-nutrition-mission-and-expansion-of-beti-bachao-beti-padhao-at-jhunjhunu-in-rajasthan.txt', '/content/split/pms-address-at-republic-tv-summit-in-mumbai.txt', '/content/split/pms-interaction-with-the-beneficiaries-of-rural-electrification-and-saubhagya-yojana.txt', '/content/split/bangladesh-bhutan-india-and-nepal-bbin-motor-vehicle-agreement.txt', '/content/split/pm-addresses-conference-on-academic-leadership-on-education-for-resurgence.txt', '/content/split/pm-gives-away-ramnath-goenka-awards-for-excellence-in-journalism.txt', '/content/split/pm-pays-tribute-to-legendary-hockey-player-dhyan-chand-congratulates-award-winning-sportspersons.txt', '/content/split/cabinet-approves-redevelopment-of-residential-colonies-at-west-ansari-nagar-and-ayur-vigyan-nagar-campuses-of-allms-new-delhi.txt', '/content/split/pms-address-to-inaugural-event-of-national-youth-festival-at-rohtak-via-video-conferencing.txt', '/content/split/pm-to-visit-himachal-pradesh-on-tuesday.txt', '/content/split/pms-speech-at-dutch-indian-community-reception-at-the-hague-netherlands.txt', '/content/split/pm-to-share-his-thoughts-on-mann-ki-baat-on-26th-april-2015.txt', '/content/split/pm-conveys-his-good-wishes-to-the-fellow-indians-on-the-various-festivals-being-celebrated-across-india.txt', '/content/split/cabinet-approves-mou-between-india-and-italy-for-continuing-training-and-education-in-the-fields-of-labour-and-employment.txt', '/content/split/pm-expresses-sadness-over-the-loss-of-lives-in-stampede-in-west-bengal-approves-ex-gratia-of-rs-2-lakh.txt', '/content/split/pm-to-address-farmers-at-krishi-unnati-mela-at-iari-tomorrow.txt', '/content/split/cabinet-approves-transfer-of-land-in-sector-24-dwarka-new-delhi-from-dda-to-ldo-for-the-proposed-second-diplomatic-enclave.txt', '/content/split/pms-speech-at-inauguration-and-laying-of-foundation-stone-of-various-projects-in-varanasi.txt', '/content/split/opening-statement-by-prime-minister-at-the-14th-asean-india-summit.txt', '/content/split/pm-congratulates-chennai-on-citys-inclusion-in-unesco-creative-cities-network.txt', '/content/split/pm-pays-tributes-to-pandit-jawaharlal-nehru-on-his-punya-tithi.txt', '/content/split/pm-congratulates-isro-scientists-on-successful-launch-of-insat-3dr.txt', '/content/split/cabinet-approves-agreement-between-india-and-israel-on-film-co-production.txt', '/content/split/release-of-additional-instalment-of-da-to-central-govt-employees-and-dr-to-pensioners-due-from-1-1-2016.txt', '/content/split/pm-speaks-to-kerala-cm-regarding-flood-situation-in-the-state.txt', '/content/split/pms-visit-to-iran.txt', '/content/split/cabinet-approves-memorandum-of-cooperation-between-india-and-finland-on-environmental-cooperation.txt', '/content/split/pms-speech-at-silver-jubilee-celebrations-of-shree-kutchi-leva-patel-samaj-in-nairobi-kenya-via-video-conferencing.txt', '/content/split/pm-wishes-the-people-of-jharkhand-on-their-statehood-day.txt', '/content/split/agreement-between-india-and-egypt-on-maritime-transport.txt', '/content/split/pm-to-visit-kerala-tomorrow-on-january-15-2019.txt', '/content/split/pms-remarks-at-the-dedication-ceremony-for-kudankulam-nuclear-power-plant-unit-1.txt', '/content/split/delegation-of-media-persons-from-madhya-pradesh-calls-on-pm.txt', '/content/split/india-china-ties-from-inch-towards-miles.txt', '/content/split/cabinet-approves-mou-between-india-and-korea-for-strengthening-cooperation-in-the-field-of-tourism.txt', '/content/split/pm-to-lay-foundation-stone-for-india-international-convention-and-expo-centre-dwarka-on-september-20.txt', '/content/split/pms-address-on-laying-of-foundation-stone-of-integrated-command-and-control-centres-in-sikkim-arunachal-pradesh-and-tripura-through-video-conference.txt', '/content/split/pm-pays-tributes-to-swami-dayananda-saraswati-on-his-birth-anniversary.txt', '/content/split/pm-addresses-tax-administrators-at-rajasva-gyan-sangam-2.txt', '/content/split/adoption-of-united-nations-fundamental-principles-of-official-statistics.txt', '/content/split/pm-lays-foundation-stone-of-shikshan-bhavan-and-vidhyarthi-bhavan.txt', '/content/split/pms-address-at-the-laying-of-foundation-stone-for-various-developmental-projects-in-dhanbad-and-patratu.txt', '/content/split/pm-strongly-condemns-attacks-in-london.txt', '/content/split/cabinet-apprised-of-the-agreement-between-india-and-denmark-on-cooperation-in-the-field-of-science-technology-and-innovation.txt', '/content/split/pms-speech-at-samajik-adhikaarita-shivir-navsari-gujarat.txt', '/content/split/pm-addresses-centenary-celebrations-of-patna-university.txt', '/content/split/cabinet-approves-establishment-of-an-indian-institute-of-management-at-jammu.txt', '/content/split/founder-of-arsha-vidya-gurukulam-swami-dayananda-saraswati-calls-on-pm.txt', '/content/split/pm-releases-the-book-timeless-laxman.txt', '/content/split/cabinet-approves-mou-between-india-and-belarus-for-cooperation-in-the-field-of-vocational-education-and-training.txt', '/content/split/cabinet-approves-restructuring-of-national-health-agency-as-national-health-authority-for-better-implementation-of-pradhan-mantri-jan-arogya-yojana.txt', '/content/split/pms-address-at-conference-of-governors.txt', '/content/split/pms-address-at-the-ground-breaking-ceremony-of-navi-mumbai-international-airport.txt', '/content/split/cabinet-approves-cadre-review-of-indian-telecommunications-service-group-a.txt', '/content/split/cabinet-approves-amendment-to-the-article-3-of-the-agreement-between-india-and-bhutan-regarding-mhep-in-order-to-extend-the-loan-repayment-tenure-by-two-years.txt', '/content/split/pm-condoles-the-passing-away-of-shri-ar-antulay.txt', '/content/split/mr-yang-jiechi-state-councillor-of-the-peoples-republic-of-china-calls-on-pm.txt', '/content/split/cabinet-apprised-of-the-mou-between-india-and-switzerland-on-technical-cooperation-in-rail-sector.txt', '/content/split/iims-to-be-declared-as-institutions-of-national-importance.txt', '/content/split/signing-of-mou-between-the-ministry-of-the-interior-germany-and-the-ministry-of-civil-aviation-of-india-for-carriage-of-ifcos-on-board-the-flight-ex-post-facto-approval.txt', '/content/split/cabinet-approves-amendments-in-fdi-policy.txt', '/content/split/cabinet-approves-moc-between-india-and-japan-on-the-technical-intern-training-program-titp.txt', '/content/split/pm-addresses-inaugural-session-of-pio-parliamentarian-conference.txt', '/content/split/cabinet-approves-creation-of-national-urban-housing-fund.txt', '/content/split/text-of-pms-letter-to-the-people.txt', '/content/split/cabinet-approves-the-extension-of-the-term-of-the-commission-constituted-to-examine-the-issue-of-sub-categorization-of-obcs-in-the-central-list-upto-20th-june-2018.txt', '/content/split/pm-salutes-workers-on-labour-day.txt', '/content/split/cabinet-approves-transfer-of-7-5-acres-of-defence-land-to-kendriya-vidyalaya-sangathan-for-the-construction-of-kendriya-vidvalaya-in-survey-no-408-jalandhar-cantt.txt', '/content/split/signing-and-ratification-of-agreement-between-india-and-seychelles-for-the-exchange-of-information-with-respect-to-taxes.txt', '/content/split/cabinet-approves-bilateral-technical-arrangement-between-india-and-switzerland-on-the-identification-and-return-of-swiss-and-indian-nationals.txt', '/content/split/pm-attends-iaf-fire-power-demonstration-iron-fist-2016-at-pokhran.txt', '/content/split/text-of-pms-remarks-at-the-launch-of-amrut-smart-cities-mission-and-housing-for-all-urban-mission.txt', '/content/split/revised-cost-estimates-of-salma-dam-project-in-afghanistan.txt', '/content/split/pms-address-via-video-conferencing-at-the-global-citizens-festival-in-mumbai.txt', '/content/split/pm-condoles-the-loss-of-lives-due-to-derailing-of-bangalore-ernakulam-express.txt', '/content/split/cabinet-approves-agreement-between-india-and-saudi-arabia-on-labour-co-operation-for-general-category-workers-recruitment.txt', '/content/split/pm-addresses-farmers-at-the-pilot-launch-of-e-nam-national-agriculture-market.txt', '/content/split/text-of-pms-keynote-address-at-welcome-reception-hosted-by-japan-india-association-and-japan-india-parliamentary-friendship-league.txt', '/content/split/pm-to-visit-rajasthan-tomorrow-to-inuagurate-unveil-several-major-highway-projects.txt', '/content/split/cabinet-approves-renewal-of-mou-between-the-institute-of-chartered-accountants-of-india-and-higher-colleges-of-technology-uae.txt', '/content/split/pm-announces-sardar-patel-award-for-national-integration.txt', '/content/split/pm-greets-the-people-of-rajasthan-on-rajasthan-diwas.txt', '/content/split/pm-conveys-his-best-wishes-to-the-people-of-brazil-on-their-independence-day.txt', '/content/split/text-of-pms-opening-remarks-at-forum-for-india-pacific-island-countries-fipic-summit-jaipur.txt', '/content/split/pm-condoles-the-passing-away-of-former-kerala-and-bihar-governor-shri-rs-gavai.txt', '/content/split/pm-attends-the-national-women-livelihood-meet-2019-at-varanasi.txt', '/content/split/the-lokpal-and-lokayuktas-amendment-bill-2016.txt', '/content/split/pm-remembers-pandit-deendayal-upadhyaya-on-his-punya-tithi.txt', '/content/split/pm-condoles-demise-of-shri-c-k-jaffer-sharief.txt', '/content/split/cabinet-approves-signing-of-the-tor-provide-tax-assistance-to-swaziland.txt', '/content/split/pm-announces-eighty-thousand-crore-rupee-package-for-jammu-and-kashmir.txt', '/content/split/pm-lays-foundation-stone-for-fourth-container-terminal-of-jnpt.txt', '/content/split/cabinet-approves-mou-between-india-and-uae-on-bilateral-cooperation-in-the-road-transport-and-highways-sector.txt', '/content/split/pm-addresses-valedictory-ceremony-of-sesquicentennial-celebrations-of-allahabad-high-court.txt', '/content/split/pm-to-address-nation-on-mann-ki-baat-on-26th-april.txt', '/content/split/mr-salahuddin-rabbani-minister-of-foreign-affairs-of-afghanistan-calls-on-prime-minister.txt', '/content/split/text-of-prime-minister-shri-narendra-modis-address-at-the-launch-of-saansad-adarsh-gram-yojana.txt', '/content/split/pm-addresses-students-convention-on-the-theme-of-young-india-new-india.txt', '/content/split/pm-greets-people-of-odisha-on-the-occasion-of-nuakhai-juhar.txt', '/content/split/cabinet-approves-introduction-of-pension-and-post-retirement-medical-schemes.txt', '/content/split/prime-minister-to-address-the-nation-from-the-ramparts-of-red-fort-tomorrow.txt', '/content/split/pm-unveils-plaque-for-foundation-stone-for-new-helicopter-manufacturing-unit-of-hal-in-tumkur-district.txt', '/content/split/pm-condoles-the-passing-away-of-american-professional-boxing-player-muhammad-ali.txt', '/content/split/pms-reply-to-the-motion-of-thanks-on-the-presidents-address-in-the-rajya-sabha.txt', '/content/split/cabinet-approves-mou-between-india-and-united-kingdom-uk-for-cooperation-in-the-field-of-intellectual-property.txt', '/content/split/pm-greets-the-people-of-china-on-their-national-day.txt', '/content/split/pms-address-at-inaugural-session-of-90th-annual-general-meeting-of-ficci.txt', '/content/split/india-afghanistan-joint-statement-during-the-visit-of-president-of-afghanistan-to-india.txt', '/content/split/pm-receives-mr-hamid-karzai-former-president-of-islamic-republic-of-afghanistan.txt', '/content/split/pm-speaks-to-jammu-and-kashmir-cm-taking-stock-of-the-situation-arising-due-to-the-earthquake.txt', '/content/split/cabinet-approves-mou-between-india-and-jordan-for-mining-and-beneficiation-of-rock-phosphate-mop-and-setting-upproduction-facility.txt', '/content/split/revised-policy-on-crude-oil-import-for-oil-psus.txt', '/content/split/release-of-dictionary-of-martyrs-of-indias-freedom-struggle-1857-1947.txt', '/content/split/pm-condoles-loss-of-lives-in-the-earth-quake-in-iran-and-iraq.txt', '/content/split/pm-inaugurates-national-conference-of-dalit-entrepreneurs.txt', '/content/split/cabinet-approves-mou-between-india-and-the-uae-on-the-mutual-recognition-of-certificates-of-competency.txt', '/content/split/pm-congratulates-john-key-on-re-election-as-pm%E2%80%8B-of-new-zealand.txt', '/content/split/pms-address-at-the-ease-of-doing-business-event-2.txt', '/content/split/cabinet-approves-transfer-of-landed-assets-owned-by-hindustan-vegetable-oils-corporation-ltd-to-ministry-of-housing-and-urban-affairs.txt', '/content/split/pm-remembers-guru-gobind-singh-ji-on-his-350th-prakash-parv.txt', '/content/split/pm-salutes-the-consumer-on-world-consumer-rights-day-urges-consumers-to-embrace-digital-transactions.txt', '/content/split/pm-to-visit-varanasi-kanpur-and-ghaziabad-tomorrow.txt', '/content/split/pm-presents-innovation-trophies-to-4-awardees-on-navy-day.txt', '/content/split/pm-inaugurates-centenary-celebrations-of-gaudiya-mission-and-math.txt', '/content/split/cabinet-approves-mou-between-india-and-morocco-for-setting-up-of-a-joint-working-group-on-counter-terrorism.txt', '/content/split/pms-address-on-the-laying-of-the-foundation-stone-of-various-development-projects-in-agra.txt', '/content/split/cabinet-approves-the-proposal-for-extension-of-corridor-1-of-chennai-metro-rail-project-phase-i.txt', '/content/split/pms-remarks-after-releasing-the-imprint-india-brochure-at-the-visitors-conference-at-rashtrapati-bhavan.txt', '/content/split/kapil-dev-calls-on-pm.txt', '/content/split/pm-congratulates-shri-ram-nath-kovind-on-being-elected-the-president-of-india.txt', '/content/split/pms-message-on-world-health-day.txt', '/content/split/pm-launches-national-scst-hub-and-zero-defect-zero-effect-scheme-presents-national-awards-to-msmes-in-ludhiana-pm-dedicates-three-power-projects-to-the-nation.txt', '/content/split/protocol-amending-the-convention-between-india-and-slovenia-for-the-avoidance-of-double-taxation-and-the-prevention-of-fiscal-evasion-with-respect-to-taxes-on-income.txt', '/content/split/cabinet-approves-implementation-of-prime-minister-research-fellows-pmrf.txt', '/content/split/mou-between-sebi-and-financial-services-regulatory-authority-abu-dhabi-for-mutual-co-operation-and-technical-assistance.txt', '/content/split/pm-condoles-the-passing-away-of-shri-priya-ranjan-dasmunsi.txt', '/content/split/cabinet-approves-the-establishment-of-indian-agricultural-research-institute-jharkhand.txt', '/content/split/pm-launches-historic-support-and-outreach-initiative-for-msme-sector.txt', '/content/split/pm-condoles-the-passing-of-shri-gangaram-talekar.txt', '/content/split/cabinet-approves-faculty-exchange-agreement-between-ndc-new-delhi-and-ndc-dhaka-bangladesh.txt', '/content/split/pm-addresses-ht-leadership-summit.txt', '/content/split/prime-ministers-tweets-on-emergency.txt', '/content/split/pm-visits-former-union-minister-jaswant-singh-in-hospital.txt', '/content/split/pms-address-at-the-opening-ceremony-of-the-third-annual-meeting-of-aiib.txt', '/content/split/cabinet-approves-rescinding-the-decision-of-the-government-to-set-up-the-concurrent-evaluation-office-in-ministry-of-rural-development.txt', '/content/split/english-rendering-of-pms-op-ed-in-frankfurter-allgemeine-zeitung.txt', '/content/split/cabinet-approves-wage-policy-for-the-8th-round-of-wage-negotiations-for-workmen-in-central-public-sector-enterprises.txt', '/content/split/cabinet-approves-mou-between-india-and-egypt-on-cooperation-in-the-field-of-agriculture-allied-sectors.txt', '/content/split/mr-ravi-karunanayake-foreign-minister-of-sri-lanka-calls-on-prime-minister.txt', '/content/split/pm-interacts-with-students-teachers-and-parents-at-pariksha-pe-charcha-2-0.txt', '/content/split/pms-mann-ki-baat-address-on-all-india-radio-4.txt', '/content/split/world-class-state-of-the-art-exhibition-cum-convention-centre-in-dwarka-new-delhi.txt', '/content/split/pm-addresses-civil-servants-on-the-occasion-of-civil-services-day.txt', '/content/split/cabinet-approves-mou-between-the-dgca-and-the-french-civil-aviation-authority.txt', '/content/split/pm-pays-tributes-to-swami-vivekananda-on-his-birth-anniversary-3.txt', '/content/split/pm-congratulates-dilma-rousseff-on-her-re-election-as-president-of-brazil.txt', '/content/split/full-text-of-pms-address-at-86th-icar-foundation-day.txt', '/content/split/pm-invites-ideas-and-thoughts-for-his-forthcoming-visit-to-australia.txt', '/content/split/cabinet-approves-deputation-of-group-a-officers-of-dot-and-other-ministries-with-telecommunication-and-it-background-to-tcil.txt', '/content/split/pms-meeting-with-us-economists.txt', '/content/split/pm-releases-unique-illustrated-version-of-shri-durga-saptashati.txt', '/content/split/pm-speaks-to-afghanistan-president-mohammad-ashraf-ghani.txt', '/content/split/text-of-prime-ministers-mann-ki-baat-programme-on-all-india-radio.txt', '/content/split/pm-greets-the-people-of-belgium-on-their-national-day.txt', '/content/split/pms-address-on-civil-services-day-2018-at-vigyan-bhawan-new-delhi.txt', '/content/split/text-of-pms-address-at-the-tsinghua-university-beijing.txt', '/content/split/pm-greets-people-of-maharashtra-on-their-statehood-day.txt', '/content/split/pms-bilateral-meetings-on-the-eve-of-asean-india-commemorative-summit.txt', '/content/split/text-of-pms-address-at-the-87th-icar-foundation-day-celebrations-at-patna.txt', '/content/split/cabinet-approves-creation-of-two-posts-of-commissioner-for-persons-with-disabilities-in-the-central-government-in-terms-of-section-742-of-the-rpwd-act-2016-to-assist-the-chief-commissioner-for-pers.txt', '/content/split/cabinet-approves-mou-between-exim-bank-on-general-cooperation-with-the-nd-bank-along-with-other-development-financial-institutions-of-brics-nations.txt', '/content/split/pms-remarks-at-the-flagging-off-of-the-first-train-from-mendipathar-meghalaya-to-guwahati.txt', '/content/split/pms-address-at-the-public-meeting-in-shillong.txt', '/content/split/signing-of-mou-between-india-and-canada-in-the-field-of-civil-aviation.txt', '/content/split/intervention-by-pm-at-the-g-20-working-session-enhancing-resilience.txt', '/content/split/pm-congratulates-sanjita-chanu-on-winning-the-gold-medal-in-the-womens-53-kg-weightlifting-event.txt', '/content/split/pms-address-at-the-inauguration-of-the-105th-indian-science-congress-in-manipur.txt', '/content/split/pms-farewell-address-to-the-retiring-members-of-rajya-sabha.txt', '/content/split/pms-speech-at-the-indian-community-reception-in-philippines.txt', '/content/split/pm-releases-commemorative-coin-of-rs-350-to-mark-birth-anniversary-of-guru-gobind-singh-jee.txt', '/content/split/pm-addresses-ncc-rally-in-new-delhi.txt', '/content/split/two-groups-of-secretaries-present-ideas-on-education-and-crisis-management-to-pm.txt', '/content/split/pms-intervention-at-the-g20-session-on-delivering-global-economic-resilience.txt', '/content/split/first-meeting-of-governing-council-of-national-skill-development-mission-held-under-chairmanship-of-pm.txt', '/content/split/german-defence-minister-calls-on-pm.txt', '/content/split/text-of-pms-address-at-the-inauguration-of-re-invest-2015-the-first-renewable-energy-global-investors-meet-and-expo.txt', '/content/split/pms-convocation-address-at-the-5th-convocation-of-shri-mata-vaishno-devi-university-in-katra.txt', '/content/split/pms-address-at-the-inauguration-of-first-edition-of-khelo-india-school-games.txt', '/content/split/probationers-of-indian-foreign-service-call-on-pm-2.txt', '/content/split/pm-inaugurates-pumping-station-at-bhachau-narmada-waters-released-for-tappar-dam.txt', '/content/split/setting-up-of-a-new-ammonia-urea-complex-at-namrup-in-assam-on-public-private-partnership-ppp-basis.txt', '/content/split/cabinet-approves-transfer-of-land-and-building-belonging-to-department-of-posts-at-thrissur-to-thrissur-municipal-corporation.txt', '/content/split/pm-greets-gujaratis-across-the-world-on-the-beginning-of-new-year.txt', '/content/split/india-qatar-joint-statement-during-the-pms-visit-to-qatar.txt', '/content/split/pm-inaugurates-parakram-parv-pays-homage-to-martyrs-at-konark-war-memorial.txt', '/content/split/pm-attends-90-years-celebrations-of-essel-group.txt', '/content/split/pm-calls-for-an-end-to-caste-based-politics-says-eastern-india-must-progress-fast.txt', '/content/split/pm-presents-urga-kanjur-to-jampa-donor-buda-balzheivich-badmayev-head-priest-datsan-gunzechoinei-buddhist-temple-st-petersburg.txt', '/content/split/pm-at-baramati-maharashtra.txt', '/content/split/pm-congratulates-dr-manmohan-singh.txt', '/content/split/status-cum-progress-report-on-works-under-interlinking-of-rivers-programme-in-compliance-of-supreme-court-judgement.txt', '/content/split/text-of-pms-statement-to-media-during-the-joint-press-briefing-with-president-of-uzbekistan-at-tashkent.txt', '/content/split/pm-condoles-demise-of-captain-jai-narain-prasad-nishad.txt', '/content/split/cabinet-approves-promulgation-of-the-goods-and-services-tax-compensation-to-states-ordinance-2017.txt', '/content/split/pm-to-lead-4th-international-yoga-day-celebrations-in-dehradun.txt', '/content/split/pm-salutes-divyangs-on-international-day-of-persons-with-disabilities.txt', '/content/split/text-of-pms-address-during-his-visit-to-taimei-elementary-school-in-tokyo-japan.txt', '/content/split/direct-sale-of-bio-diesel-by-manufacturers-or-suppliers-other-than-omcs.txt', '/content/split/cabinet-approves-the-mou-signed-in-2008-and-renewed-in-2014-between-the-icai-and-icaew.txt', '/content/split/cabinet-approves-signing-of-mou-between-india-and-malta-for-strengthening-cooperation-in-the-field-of-tourism.txt', '/content/split/pm-reviews-performance-of-key-infrastructure-sectors-2.txt', '/content/split/pm-condoles-the-demise-of-swami-dayananda-saraswati.txt', '/content/split/pm-condoles-loss-of-life-in-floods-in-the-state-of-jammu-and-kashmir.txt', '/content/split/leaders-of-jamiat-ulama-i-hind-call-on-pm.txt', '/content/split/pm-highlights-dr-ambedkars-contribution-in-his-remarks-in-lok-sabha-on-constitution-day.txt', '/content/split/pm-condoles-loss-of-lives-due-to-derailment-of-seemanchal-express.txt', '/content/split/cabinet-approves-changes-in-the-major-port-authorities-bill-2016.txt', '/content/split/pm-remembers-punjab-kesari-lala-lajpat-rai-on-his-birth-anniversary.txt', '/content/split/prime-ministers-response-to-the-questions-during-joint-press-interaction-with-president-of-united-states-of-america.txt', '/content/split/cabinet-approves-revised-model-concession-agreement-for-ppp-projects-in-major-ports.txt', '/content/split/pm-launches-several-development-projects-in-ahmedabad-gujarat.txt', '/content/split/cabinet-approves-setting-up-of-bus-bay-near-indian-defence-university-land-in-gurugram-haryana.txt', '/content/split/pm-pays-tributes-to-pandit-jawaharlal-nehru-on-his-125th-birth-anniversary.txt', '/content/split/pms-speech-at-inauguration-of-digital-exhibition-showcasing-role-of-shri-sardar-vallabh-bhai-patel.txt', '/content/split/cabinet-approves-national-digital-communications-policy-2018.txt', '/content/split/text-of-pms-speech-at-vision-conclave-at-global-ayurveda-festival-kozhikode.txt', '/content/split/pms-media-statement-during-the-joint-press-briefing-with-prime-minister-of-nepal.txt', '/content/split/pm-to-visit-kanyakumari-in-tamil-nadu-on-1-march-2019.txt', '/content/split/pm-inaugurates-multi-speciality-hospital-a-diamond-manufacturing-unit-in-surat.txt', '/content/split/three-groups-of-secretaries-present-ideas-on-governance-science-technology-and-energy-environment-to-pm.txt', '/content/split/pms-speech-at-the-dedication-of-iit-gandhinagar-and-launch-of-pradhan-mantri-gramin-digital-saksharta-abhiyan-scheme-in-gandhinagar-gujarat.txt', '/content/split/pm-pays-tributes-to-pandit-deendayal-upadhyaya-on-his-punya-tithi.txt', '/content/split/mou-between-india-and-bangladesh-on-bilateral-cooperation-for-prevention-of-human-trafficking-in-women-and-children-rescue-recovery-repatriation-and-re-integration-of-victims-of-human-trafficking.txt', '/content/split/cabinet-approves-extension-of-tenure-of-the-national-commission-for-safai-karmacharis-beyond-31-3-2019-for-three-years.txt', '/content/split/pms-address-at-the-flagging-off-ceremony-of-run-for-rio-at-major-dhyan-chand-national-stadium.txt', '/content/split/indian-foreign-service-officer-trainees-call-on-the-pm.txt', '/content/split/towards-a-swachh-bharat.txt', '/content/split/cabinet-approves-mou-amongst-brics-nations-regarding-cooperation-in-the-social-and-labour-sphere.txt', '/content/split/pm-greets-people-on-navreh.txt', '/content/split/text-of-pms-remarks-at-the-inaugural-session-of-rbi-conference-on-financial-inclusion.txt', '/content/split/general-ngo-xuan-lich-defence-minister-of-vietnam-calls-on-pm.txt', '/content/split/framework-for-security-cooperation-between-india-and-australia-3.txt', '/content/split/pms-remarks-at-the-inaugural-session-of-rbi-conference-on-financial-inclusion.txt', '/content/split/world-bank-president-jim-yong-kim-meets-pm.txt', '/content/split/cabinet-approves-establishment-of-two-new-aiims-at-tamil-nadu-telangana-under-pradhan-mantri-swasthya-suraksha-yojana.txt', '/content/split/cabinet-approves-the-extension-of-mou-between-india-and-netherlands-on-technical-cooperation-in-the-field-of-spatial-planning-water-management-and-mobility-management.txt', '/content/split/pm-greets-teaching-community-on-teachers-day-pays-tributes-to-former-president-dr-sarvepalli-radhakrishnan-on-his-jayanti.txt', '/content/split/cabinet-approves-the-proposal-of-election-commission-for-procurement-of-control-units-and-ballot-units-during-2017-18-and-2018-19.txt', '/content/split/memorandum-of-understanding-between-india-and-nepal-for-construction-of-petroleum-products-pipeline-from-raxaul-india-to-amlekhgunj-nepal-and-re-engineering-of-amlekhgunj-depot-and-allied-faciliti.txt', '/content/split/cabinet-approves-ayushman-bharat-national-health-protection-mission.txt', '/content/split/pm-in-ghazipur-releases-commemorative-stamp-on-maharaja-suheldev-lays-foundation-stone-of-medical-college-in-ghazipur.txt', '/content/split/pm-offers-prayers-at-sree-padmanabhaswamytemple-inaugurates-swadesh-darshan-scheme.txt', '/content/split/pm-to-share-his-thoughts-with-the-countrymen-through-radio.txt', '/content/split/pm-addresses-indian-community-in-yangon.txt', '/content/split/pms-interaction-with-eminent-scientists.txt', '/content/split/pms-remarks-at-the-release-of-the-book-education-of-muslims-2.txt', '/content/split/pm-pays-tributes-to-rani-lakshmibai-on-her-jayanti.txt', '/content/split/cabinet-approves-the-commercial-courts-commercial-division-and-commercial-division-of-high-courts-amendment-bill-2018.txt', '/content/split/pms-address-at-the-inauguration-ceremony-of-vibrant-gujarat-global-summit-2017.txt', '/content/split/pm-greets-the-nation-on-guru-nanak-jayanti.txt', '/content/split/pms-address-at-the-inauguration-of-new-metro-link-between-noida-and-delhi.txt', '/content/split/prime-ministers-package-for-bihar-2015-august-18-2015.txt', '/content/split/pm-condoles-the-passing-away-of-shri-cs-shivalli.txt', '/content/split/redevelopment-of-railway-stations-on-the-basis-of-proposals-obtained-through-open-invitation-from-interested-parties.txt', '/content/split/pm-conveys-independence-day-greetings-to-the-people-of-mozambique.txt', '/content/split/pms-address-at-the-unveiling-of-various-development-projects-at-yavatmal-maharashtra.txt', '/content/split/pms-address-at-the-public-meeting-with-beneficiaries-in-jaipur-rajasthan.txt', '/content/split/pm-reviews-progress-of-tribal-welfare-programmes.txt', '/content/split/vision-statement-for-the-u-s-india-strategic-partnership.txt', '/content/split/pm-dedicates-statue-of-unity-to-the-nation.txt', '/content/split/text-of-pms-address-after-unveiling-the-bust-of-the-mahatma-gandhi-at-culemannstrasse-in-hannover-germany.txt', '/content/split/pms-telephonic-conversation-with-italian-pm-matteo-renzi.txt', '/content/split/pm-to-dedicate-statue-of-unity-to-the-nation.txt', '/content/split/setting-up-of-india-sign-language-research-and-training-centre.txt', '/content/split/pm-pays-tribute-to-mahatma-gandhi-ji-and-lal-bahadur-shastri-ji-on-their-birth-anniversary.txt', '/content/split/pm-condoles-loss-of-lives-due-to-a-bus-accident-in-maharashtra.txt', '/content/split/pms-address-at-the-inauguration-of-supreme-courts-journey-towards-digital-court.txt', '/content/split/pm-lauds-the-contributions-of-eminent-personalities-and-groups-towards-swachhta-hi-seva.txt', '/content/split/pm-expresses-grief-on-the-loss-of-lives-of-crpf-personnel-in-bihar.txt', '/content/split/pm-salutes-pandit-deendayal-upadhyaya-on-his-birth-anniversary.txt', '/content/split/pms-message-on-world-toilet-day-2.txt', '/content/split/pms-address-at-the-all-india-conference-of-directors-generalinspectors-general-of-police-2.txt', '/content/split/pm-witnesses-collective-e-gruhpravesh-of-beneficiaries-of-pradhan-mantri-awaas-yojana-lays-foundation-stone-of-astole-water-supply-scheme-at-jujwa-village-valsad.txt', '/content/split/text-of-pms-speech-at-the-42nd-annual-convocation-ceremony-of-aiims-new-delhi.txt', '/content/split/cabinet-approves-funds-to-jk-under-day-nrlm-without-linking-it-with-poverty-ratio.txt', '/content/split/pms-address-at-the-valedictory-function-of-national-law-day-2017.txt', '/content/split/pm-condoles-the-loss-of-lives-due-to-bus-accident-in-east-godavari-district-andhra-pradesh.txt', '/content/split/pm-interacts-with-business-leaders-in-mumbai.txt', '/content/split/pm-to-participate-in-buddha-jayanti-celebrations-in-new-delhi-tomorrow.txt', '/content/split/pm-condoles-the-bus-accident-in-tonk-rajasthan.txt', '/content/split/pms-address-on-laying-of-foundation-stone-for-poorvanchal-expressway-in-azamgarh.txt', '/content/split/pm-expresses-grief-over-accident-at-raebareli-ntpc-plant.txt', '/content/split/cabinet-approves-the-terms-and-conditions-for-transfer-of-12-acres-of-land-of-indu-6-mill-for-construction-of-dr-b-r-ambedkar-memorial.txt', '/content/split/constitution-of-21st-law-commission-of-india-for-a-period-of-three-years.txt', '/content/split/expansion-of-india-chile-preferential-trade-agreement.txt', '/content/split/pm-pays-tributes-to-dr-ram-manohar-lohia-on-his-birth-anniversary-2.txt', '/content/split/pms-remarks-after-laying-the-foundation-stone-of-iari-jharkhand.txt', '/content/split/pm-to-visit-bodh-gaya-tomorrow.txt', '/content/split/pm-condoles-the-passing-away-of-gujarati-folk-singer-diwaliben-bhil.txt', '/content/split/boost-to-urban-public-transport-connectivity-in-agra.txt', '/content/split/defence-minister-of-japan-calls-on-the-pm.txt', '/content/split/pm-condoles-the-passing-of-smt-smita-talwarkar.txt', '/content/split/beneficiaries-of-ujjwala-yojana-interact-with-pm.txt', '/content/split/pm-expresses-grief-on-loss-of-lives-due-to-accident-in-bihar.txt', '/content/split/pareeksha-pe-charcha-pms-interactive-session-with-students.txt', '/content/split/cabinet-approves-agreement-between-india-and-samoa-for-exchange-of-information-with-respect-to-taxes.txt', '/content/split/text-of-pms-keynote-address-at-india-china-business-forum.txt', '/content/split/pm-greets-people-on-world-environment-day.txt', '/content/split/text-of-prime-minister-shri-narendra-modis-address-during-launch-of-swachh-bharat-mission-at-india-gate.txt', '/content/split/pms-reply-to-the-motion-of-thanks-on-the-presidents-address-in-the-lok-sabha-2.txt', '/content/split/bimstec-leaders-retreat-2016-outcome-document.txt', '/content/split/pm-expresses-grief-over-demise-of-former-meghalaya-governor-mr-m-m-jacob.txt', '/content/split/pms-speech-after-inaugurating-integrated-terminal-at-harni-airport-vadodara.txt', '/content/split/pm-pays-tributes-to-indian-soldiers-who-fought-in-first-world-war.txt', '/content/split/mou-between-india-and-iran-on-visa-facilitation.txt', '/content/split/pm-leads-mass-yoga-demonstration-in-new-delhi.txt', '/content/split/pm-interacts-with-recipients-of-stree-shakti-puraskar-and-nari-shakti-puraskar-2014.txt', '/content/split/text-of-pms-remarks-in-the-mongolian-parliament.txt', '/content/split/pms-speech-at-the-dedication-of-the-statue-of-unity-to-the-nation-in-kevadiya-gujarat.txt', '/content/split/pm-meets-indian-community-in-myanmar-at-reception-hosted-by-the-ambassador.txt', '/content/split/pms-address-at-the-inaugural-ceremony-of-22nd-national-youth-festival-via-video-conference.txt', '/content/split/first-set-of-100-netaji-files-declassified-pm-visits-national-archives-meets-family-members-of-netaji.txt', '/content/split/text-of-pms-speech-at-the-community-event-in-belgium.txt', '/content/split/proposal-to-promulgate-the-negotiable-instruments-amendment-ordinance-2015.txt', '/content/split/pm-interacts-with-school-children-on-the-eve-of-teachers-day.txt', '/content/split/pm-gives-the-easter-greetings-to-everyone.txt', '/content/split/renewal-of-long-term-agreements-for-supply-of-iron-ore-to-japan-and-south-korea-through-mmtc-limited.txt', '/content/split/india-republic-of-korea-joint-statement-for-special-strategic-partnership.txt', '/content/split/cabinet-approves-signing-of-an-agreement-between-india-and-france-to-facilitate-mutual-recognition-of-academic-qualifications.txt', '/content/split/pm-condoles-loss-of-lives-due-to-train-accident-in-amritsar.txt', '/content/split/pm-offers-condolences-to-the-families-of-flight-qz8501-passengers.txt', '/content/split/pms-reply-to-the-debate-on-motion-of-thanks-to-presidents-address-in-lok-sabha.txt', '/content/split/pm-condoles-the-passing-away-of-shri-balram-jakhar.txt', '/content/split/pm-extends-greetings-on-world-radio-day-2.txt', '/content/split/pms-address-at-dashamah-soundarya-lahari-parayanotsava-mahasamarpane-in-bengaluru.txt', '/content/split/extending-the-existing-productivity-linked-reward-scheme-for-port-and-dock-employees-for-payment-of-productivity-linked-reward-from-the-year-2014-15-to-2015-16.txt', '/content/split/delegation-of-artistes-from-sangeet-natak-akademi-calls-on-pm.txt', '/content/split/pm-pays-last-respects-to-the-martyrs-who-sacrificed-their-lives-in-an-encounter-with-terrorists-in-jk.txt', '/content/split/signing-of-a-memorandum-of-understanding-between-india-and-colombia-in-the-field-of-tourism.txt', '/content/split/pms-twenty-second-interaction-through-pragati.txt', '/content/split/pm-condoles-the-demise-of-former-chief-minister-of-arunachal-pradesh-shri-kalikho-pul.txt', '/content/split/pms-nepal-visit-some-highlights.txt', '/content/split/pms-remarks-at-kashi-vishwanath-temple.txt', '/content/split/pm-pays-tributes-to-acharya-kripalani-on-his-birth-anniversary.txt', '/content/split/cabinet-approves-proposal-for-accession-of-india-to-the-nice-agreement-the-vienna-agreement-the-locarno-agreement.txt', '/content/split/highlights-of-prime-ministers-development-package-for-jammu-and-kashmir.txt', '/content/split/cabinet-approves-proposal-for-allotment-of-land-to-pasteur-institute-of-india-for-establishment-of-new-viral-vaccine-manufacturing-unit-at-coonoor-tn.txt', '/content/split/pm-greets-the-nation-on-national-technology-day.txt', '/content/split/pm-conveys-his-greetings-to-the-people-of-fiji-on-fiji-day.txt', '/content/split/text-of-prime-minister-shri-narendra-modis-first-address-to-the-nation-on-radio.txt', '/content/split/pm-in-new-york.txt', '/content/split/pms-interaction-with-itbp-excursion-groups-of-students-from-sikkim-and-ladakh.txt', '/content/split/cabinet-increases-the-limit-for-foreign-investment-in-stock-exchanges-from-5-to-15.txt', '/content/split/pmnch-delegation-calls-on-the-prime-minister-and-present-the-logo-for-the-2018-partners-forum.txt', '/content/split/pm-holds-talks-with-french-president-emmanuel-macron-in-paris.txt', '/content/split/pm-to-be-in-srinagar-on-diwali-23rd-october-will-spend-the-day-with-flood-affected-people.txt', '/content/split/pm-condemns-the-terror-attacks-in-afghanistan.txt', '/content/split/cabinet-approves-joint-declaration-of-intent-jdi-between-india-and-germany-on-cooperation-in-the-field-of-health.txt', '/content/split/cabinet-approves-mou-on-cooperation-in-the-field-of-regulation-of-medical-products-for-human-use-amongst-the-medicine-regulatory-agencies-of-the-brics-countries.txt', '/content/split/delegation-of-all-jammu-and-kashmir-panchayat-conference-calls-on-pm.txt', '/content/split/pms-address-at-auroville-foundation-puducherry.txt', '/content/split/pm-urges-everyone-to-be-a-part-of-the-first-international-yoga-day-celebrations.txt', '/content/split/premiers-of-ontario-and-prince-edward-island-provinces-of-canada-call-on-the-pm.txt', '/content/split/pms-historic-address-to-constituent-assembly-of-nepal.txt', '/content/split/cabinet-approves-signing-of-the-protocol-amending-the-convention-between-india-and-portugal-for-avoidance-of-double-taxation.txt', '/content/split/pms-speech-at-the-release-of-commemorative-stamp-on-maharaja-suheldev-and-laying-foundation-stone-of-medical-college-in-ghazipur.txt', '/content/split/pm-greets-the-people-of-jharkhand-on-their-statehood-day.txt', '/content/split/pm-to-confer-shanti-swarup-bhatnagar-prizes-for-science-and-technology-tomorrow.txt', '/content/split/former-prime-minister-dr-manmohan-singh-calls-on-the-pm.txt', '/content/split/pm-welcomes-president-jakaya-kikwete-of-tanzania-to-india.txt', '/content/split/pm-condoles-the-demise-of-king-abdullah-of-saudi-arabia.txt', '/content/split/text-of-pms-statement-to-the-media-after-the-bharat-ratna-award-was-conferred-to-former-pm-shri-atal-bihari-vajpayee.txt', '/content/split/pms-speech-at-3rd-anniversary-of-swachh-bharat-mission.txt', '/content/split/pm-to-attend-visitors-conference-at-rashtrapati-bhavan-tomorrow.txt', '/content/split/pm-expresses-joy-over-historic-detection-of-gravitational-waves-lauds-role-of-indian-scientists-in-the-project.txt', '/content/split/board-members-of-united-states-india-strategic-partnership-forum-call-on-pm.txt', '/content/split/pms-statement-prior-to-departure-for-republic-of-korea.txt', '/content/split/prime-minister-addresses-the-india-italy-technology-summit.txt', '/content/split/pm-in-leh.txt', '/content/split/india-is-changing-because-indians-have-decided-to-change-pm.txt', '/content/split/pm-greets-lata-mangeshkar-on-her-birthday.txt', '/content/split/pm-condoles-the-demise-of-mr-lee-kuan-yew-the-founding-father-of-modern-singapore.txt', '/content/split/pms-remarks-at-the-safaigiri-summit-and-awards-2015.txt', '/content/split/pm-releases-new-series-of-visually-impaired-friendly-coins.txt', '/content/split/cabinet-approves-proposal-to-provide-state-govt-jobs-transit-accommodations-in-kashmir-valley-for-rehabilitation-of-kashmiri-migrants.txt', '/content/split/pm-releases-biography-of-sardar-vallabhbhai-patel-in-braille.txt', '/content/split/pm-gives-a-clarion-call-to-everyone-to-become-a-part-of-swachhata-hi-seva-movement.txt', '/content/split/cabinet-approves-mou-between-india-and-south-africa-on-cooperation-in-the-exploration-and-uses-of-outer-space-for-peaceful-purposes.txt', '/content/split/cabinet-approves-additional-2-dearness-allowance-dearness-relief-due-from-january-2017.txt', '/content/split/cabinet-approves-air-services-agreement-between-india-and-georgia.txt', '/content/split/cabinet-approves-closure-of-hindustan-cables-limited-kolkata.txt', '/content/split/pm-condoles-loss-of-lives-due-to-tsunami-in-indonesia.txt', '/content/split/pm-conveys-sankranti-greetings-to-sisters-and-brothers-from-karnataka.txt', '/content/split/pm-remembers-swami-vivekananda-on-his-jayanti.txt', '/content/split/pms-press-statement-during-the-state-visit-of-the-president-of-switzerland-mrs-doris-leuthard.txt', '/content/split/pm-receives-tamil-national-alliance-delegation.txt', '/content/split/pm-to-visit-varanasi-tomorrow.txt', '/content/split/cabinet-approves-provision-of-mobile-connectivity-in-left-wing-extremism-areas.txt', '/content/split/text-of-pms-address-at-the-launch-of-pradhan-mantri-ujjwala-yojana-at-ballia.txt', '/content/split/dr-jitendra-singh-administers-vigilance-awareness-pledge-in-pmo.txt', '/content/split/proposal-to-move-official-amendments-to-the-prevention-of-corruption-amendment-bill-2013.txt', '/content/split/text-of-pms-mann-ki-baat-on-all-india-radio-4.txt', '/content/split/pm-condoles-loss-of-lives-in-anantapur-accident.txt', '/content/split/pms-address-at-the-inauguration-ceremony-of-transstadia-arena-project-in-ahmedabad-gujarat.txt', '/content/split/cabinet-approves-closure-of-india-development-foundation-of-overseas-indians.txt', '/content/split/dainik-jagran-cmd-calls-on-pm-presents-demand-drafts-worth-rs-4-crores-towards-pmnrf.txt', '/content/split/mou-between-india-and-germany-for-capital-goods-sector.txt', '/content/split/pms-address-at-the-commemoration-of-75th-anniversary-of-azad-hind-fauj-at-the-red-fort.txt', '/content/split/cabinet-approves-continuation-programme-for-geosynchronous-satellite-launch-vehicle-mark-iii.txt', '/content/split/pm-condoles-loss-of-lives-due-to-a-bus-accident-in-maharashtra-2.txt', '/content/split/pm-extends-the-independence-day-greetings-to-the-people-of-uzbekistan.txt', '/content/split/text-of-prime-ministers-address-at-the-flagging-off-of-the-first-train-from-mendipathar-meghalaya-to-guwahati.txt', '/content/split/cabinet-approves-policy-for-providing-preference-to-make-in-india-in-government-procurements.txt', '/content/split/governments-pioneering-crop-insurance-scheme-for-farmers.txt', '/content/split/cabinet-approves-agreement-and-the-protocol-between-india-and-cyprus-for-the-avoidance-of-double-taxation-and-the-prevention-of-fiscal-evasion.txt', '/content/split/pm-condoles-the-loss-of-lives-due-to-stampede-in-saudi-arabia.txt', '/content/split/pms-interaction-through-pragati-7.txt', '/content/split/cabinet-approves-mou-between-india-and-nepal-for-laying-down-implementation-arrangement-for-construction-of-a-new-bridge-over-mechi-river.txt', '/content/split/pm-condoles-the-demise-of-professor-u-r-rao.txt', '/content/split/pm-condoles-demise-of-shri-ambareesh.txt', '/content/split/text-of-pms-address-during-the-launch-of-pt-deendayal-upadhyay-shramev-jayate-karyakram.txt', '/content/split/pm-pays-homage-to-nelson-mandela-on-mandela-day.txt', '/content/split/cabinet-approves-signing-of-mou-between-india-and-jordan-on-cooperation-in-health-sector.txt', '/content/split/pm-conveys-best-wishes-to-people-of-goa-on-goa-liberation-day.txt', '/content/split/bhutanese-parliamentary-delegation-calls-on-pm.txt', '/content/split/pm-to-visit-lucknow-on-28th-and-29th-july.txt', '/content/split/pm-condoles-the-demise-of-manipur-governor-shri-syed-ahmed.txt', '/content/split/pm-salutes-the-efforts-of-the-doctor-community-on-doctors-day.txt', '/content/split/cabinet-apprised-of-the-signing-of-mou-between-india-and-brunei-darussalam-in-the-field-of-youth-and-sports-affairs.txt', '/content/split/cabinet-apprised-of-mou-between-cert-in-india-and-cert-uk.txt', '/content/split/india-u-s-delhi-declaration-of-friendship.txt', '/content/split/pms-remarks-at-banquet-hosted-by-shri-sushil-koirala-prime-minister-of-nepal.txt', '/content/split/pms-statement-on-terror-attack-in-pulwama.txt', '/content/split/pm-wishes-indian-athletes-ahead-of-cwg-2014.txt', '/content/split/text-of-pms-address-at-the-commencement-of-expansion-of-diesel-locomotive-works-in-varanasi.txt', '/content/split/cabinet-approves-transfer-of-sashastra-seema-bals-land-measuring-5-99-acres-at-tawang-to-the-state-government-of-arunachal-pradesh.txt', '/content/split/pm-condoles-the-death-of-bsf-personnel-in-the-plane-crash-in-delhi.txt', '/content/split/shri-tarun-vijay-presents-book-to-pm.txt', '/content/split/pms-press-statement-during-the-state-visit-of-prime-minister-of-italy.txt', '/content/split/cabinet-approves-grant-of-medical-facilities-under-ex-servicemen-contributory-health-scheme-echs.txt', '/content/split/pms-statement-prior-to-his-departure-to-singapore.txt', '/content/split/text-of-prime-ministers-mann-ki-baat-on-all-india-radio-9.txt', '/content/split/resolution-for-constitution-of-the-railway-convention-committee-2014.txt', '/content/split/text-of-speech-by-prime-minister-at-the-digital-india-dinner-26-september-2015-san-jose-california.txt', '/content/split/pms-address-at-the-launch-of-pm-kisan-scheme-and-other-initiatives-in-gorakhpur-uttar-pradesh.txt', '/content/split/pm-lays-foundation-stone-of-trade-facilitation-centre-and-crafts-museum-in-varanasi-inaugurates-powerloom-service-centre.txt', '/content/split/text-of-pms-statement-in-lok-sabha-on-conclusion-of-debate-on-commitment-to-the-constitution-as-a-part-of-125th-birth-anniversary-celebration-of-dr-b-r-ambedkar.txt', '/content/split/cabinet-approves-extension-of-timeline-for-taking-over-50-of-outstanding-debt-of-discoms.txt', '/content/split/pms-address-at-the-dedication-of-kochi-metro-to-the-nation.txt', '/content/split/pms-statement-on-union-budget-2017-18.txt', '/content/split/visit-of-pm-and-french-president-francois-hollande-to-the-museum-in-chandigarh-for-display-of-archaeological-findings.txt', '/content/split/pms-address-at-the-inauguration-of-the-icreate-center-at-deo-dholera-village-in-ahmedabad.txt', '/content/split/cabinet-apprised-of-the-mou-between-the-isro-and-the-japanese-aerospace-exploration-agency.txt', '/content/split/text-of-pms-reaction-on-railway-budget-2015-to-dd-news.txt', '/content/split/pm-recalls-the-valour-of-police-personnel-on-police-commemoration-day.txt', '/content/split/pms-press-statement-during-the-visit-of-president-of-france.txt', '/content/split/cabinet-approves-signing-of-air-services-agreement-between-india-and-lao.txt', '/content/split/pm-attends-at-home-with-tableaux-artists-tribal-guests-ncc-cadets-nss-volunteers.txt', '/content/split/cabinet-approves-mou-on-urea-manufacturing-plant-in-malaysia.txt', '/content/split/pm-thanks-prime-minister-of-pakistan-for-assistance-in-evacuation-of-indian-citizens-from-yemen.txt', '/content/split/pm-congratulates-mirabai-chanu-on-winning-gold-at-world-weightlifting-championship.txt', '/content/split/cabinet-approves-signing-of-mou-between-india-and-canada-on-collaboration-among-chartered-accountant-institutions.txt', '/content/split/financial-restructuring-of-hindustan-fertilizer-corporation-limited-for-faster-revival-of-barauni-unit.txt', '/content/split/pm-vacates-vadodara-parliamentary-seat-and-retains-varanasi.txt', '/content/split/pm-greets-the-people-on-various-festivals-being-celebrated-across-india.txt', '/content/split/pm-attends-centenary-year-celebrations-of-sabarmati-ashram-in-ahmedabad.txt', '/content/split/cabinet-approves-amendment-in-the-central-agricultural-university-act-1992.txt', '/content/split/pm-condemns-the-terror-attack-in-kenya.txt', '/content/split/pms-statement-prior-to-his-departure-to-kazakhstan.txt', '/content/split/pm-pays-tributes-to-shri-atal-bihari-vajpayee-on-his-jayanti.txt', '/content/split/pm-pays-tributes-to-former-president-shri-r-venkataraman-on-his-birth-anniversary.txt', '/content/split/pm-presents-50th-jnanpeeth-award-to-prof-bhalchandra-nemade.txt', '/content/split/pms-address-at-the-brics-leaders-informal-meeting-on-the-sidelines-of-the-g-20-summit.txt', '/content/split/pm-to-launch-several-development-projects-in-solapur-tomorrow.txt', '/content/split/pm-presents-the-batukbhai-dikshit-award-to-13-gujarati-journalists.txt', '/content/split/cabinet-gives-ex-post-facto-approval-to-varistha-pension-bima-yojana-2003-and-varistha-pension-bima-yojana-2014.txt', '/content/split/pm-deeply-concerned-about-the-incidents-in-hisar-and-nadia.txt', '/content/split/pm-strongly-condemns-the-terror-attack-in-afghanistan.txt', '/content/split/pm-launches-rashtriya-gramin-swaraj-abhiyan-unveils-roadmap-for-overall-development-of-tribals.txt', '/content/split/cabinet-approves-exchange-of-tariff-concessions-under-the-fourth-round-of-negotiations-apta.txt', '/content/split/pms-address-at-the-inauguration-of-re-invest-2015-the-first-renewable-energy-global-investors-meet-and-expo.txt', '/content/split/pm-greets-people-of-jharkhand-on-their-statehood-day.txt', '/content/split/pm-addresses-the-national-legislators-conference-in-central-hall-of-parliament.txt', '/content/split/pm-pays-tributes-to-netaji-subhas-chandra-bose-on-his-birth-anniversary.txt', '/content/split/cabinet-approves-protocol-amending-the-agreement-for-avoidance-of-double-taxation-and-prevention-of-fiscal-evasion-with-belgium.txt', '/content/split/pms-remarks-at-the-launch-of-skill-india.txt', '/content/split/pms-remarks-after-dedication-to-the-nation-of-2-5-mt-steel-plant-at-iisco-burnpur.txt', '/content/split/prime-minister-salutes-all-bsf-personnel-on-bsf-golden-jubilee-raising-day.txt', '/content/split/extension-of-addendum-ix-and-renewal-of-mou-between-india-and-canada-by-way-of-signing-supplementary-addendum-x.txt', '/content/split/ips-officer-trainees-of-2014-batch-call-on-pm.txt', '/content/split/pms-press-statement-during-state-visit-of-president-of-belarus.txt', '/content/split/cabinet-approves-homeopathy-central-council-amendment-ordinance-2019.txt', '/content/split/pm-flags-off-tiranga-yatra-to-mark-the-launch-of-70th-freedom-year-celebrations.txt', '/content/split/pm-arrives-in-colombo-visits-seema-malaka-temple.txt', '/content/split/cabinet-approves-abolition-of-institution-of-income-tax-ombudsman-and-indirect-tax-ombudsman.txt', '/content/split/cabinet-approves-release-of-an-instalment-of-dearness-allowance-to-central-government-employees-and-dearness-relief-to-pensioners.txt', '/content/split/pms-address-at-inauguration-of-various-development-projects-in-leh.txt', '/content/split/pms-remarks-at-the-concluding-session-of-the-national-workshop-on-make-in-india.txt', '/content/split/pms-address-at-the-inauguration-of-the-annual-meeting-of-the-african-development-bank.txt', '/content/split/pms-mann-ki-baat-programme-on-all-india-radio-7.txt', '/content/split/pms-interaction-through-pragati-17.txt', '/content/split/pm-addresses-inaugural-session-of-end-tb-summit.txt', '/content/split/pm-sets-up-committee-to-identify-obsolete-laws-within-three-months.txt', '/content/split/pm-in-srinagar.txt', '/content/split/pm-rededicates-sir-h-n-reliance-foundation-hospital-and-research-centre-in-mumbai.txt', '/content/split/cabinet-approves-productivity-linked-bonus-for-railway-employees-payment-before-dussehrapuja-festival-season-incentive-to-improve-productivity-and-efficiency.txt', '/content/split/pms-address-at-the-ceremony-to-lay-foundation-stone-of-projects-under-namami-gange-and-national-highway-projects-in-mokama-bihar.txt', '/content/split/bharat-has-lost-a-ratna-pm-modi-writes-on-a-p-j-abdul-kalams-death.txt', '/content/split/cabinet-approvesthe-new-delhi-international-arbitration-centre-ordinance-2019.txt', '/content/split/pm-launches-swavlamban-abhiyaan-new-pro-poor-initiatives-of-the-gujarat-government.txt', '/content/split/pm-reviews-progress-of-the-namaami-gange-programme.txt', '/content/split/text-of-pms-remarks-at-launch-of-speakers-research-initiative-inauguration-of-workshop-on-sustainable-development-goals.txt', '/content/split/cabinet-approves-mou-between-india-and-uk-and-northern-ireland-for-cooperation-and-the-exchange-of-information-for-the-purposes-of-combating-international-criminality-and-tackling-serious-organised-cr.txt', '/content/split/press-statement-by-pm-modi-during-visit-of-pm-deuba-of-nepal.txt', '/content/split/cabinet-approves-mou-between-india-and-the-united-arab-emirates-on-institutional-cooperation-in-maritime-transport.txt', '/content/split/flexibility-in-utilisation-of-domestic-coal-for-reducing-the-cost-of-power-generation.txt', '/content/split/pm-condoles-the-passing-away-of-shri-kundan-shah.txt', '/content/split/nine-point-agenda-suggested-by-india-to-g-20-for-action-against-fugitive-economic-offences-and-asset-recovery.txt', '/content/split/cabinet-approves-civil-nuclear-cooperation-agreement-with-australia.txt', '/content/split/cabinet-approves-mou-on-cooperation-in-the-field-of-medicinal-plants-between-india-and-equatorial-guinea.txt', '/content/split/pm-attends-buddha-jayanti-celebrations-in-new-delhi.txt', '/content/split/text-of-pms-media-statement-during-the-state-visit-of-president-of-united-republic-of-tanzania.txt', '/content/split/pms-address-at-the-credai-youthcon-2019.txt', '/content/split/pm-greets-people-on-ganesh-chaturthi.txt', '/content/split/inaugural-address-by-pm-at-the-sixth-ministerial-conference-of-the-heart-of-asia-istanbul-process-on-afghanistan.txt', '/content/split/pms-roundtable-meeting-with-financial-sector-ceos.txt', '/content/split/pm-to-address-the-inaugural-session-of-advantage-assam-global-investors-summit-2018.txt', '/content/split/pms-bilateral-engagements-on-the-sidelines-of-the-asean-summit.txt', '/content/split/pm-salutes-former-president-of-india-dr-apj-abdul-kalam-on-his-birth-anniversary.txt', '/content/split/pm-interacts-with-students-at-smart-india-hackathon.txt', '/content/split/pm-salutes-the-dedication-and-commitment-of-all-the-teachers-on-teachers-day-pays-tributes-to-dr-s-radhakrishnan.txt', '/content/split/a-new-approach-to-development-sansad-adarsh-gram-yojana.txt', '/content/split/pm-attends-valedictory-function-of-vigilance-awareness-week.txt', '/content/split/cabinet-approves-india-morocco-cooperation-agreement-in-railway-sector.txt', '/content/split/pms-address-at-community-reception-in-dubai.txt', '/content/split/pms-speech-at-the-release-of-book-written-by-ms-swaminathan.txt', '/content/split/pm-addresses-indian-community-in-doha.txt', '/content/split/pm-inaugurates-phase-1-of-ro-ro-ferry-service-between-ghogha-and-dahej-travels-in-maiden-voyage-of-the-service.txt', '/content/split/pms-gift-to-president-nursultan-nazarbayev-of-kazakhstan.txt', '/content/split/excerpts-of-pms-interaction-at-the-town-hall-marking-two-years-of-mygov.txt', '/content/split/pms-address-at-the-inauguration-and-laying-of-foundation-stone-for-various-development-projects-in-varanasi.txt', '/content/split/pms-address-at-the-dedication-of-all-india-institute-of-ayurveda-to-the-nation.txt', '/content/split/cabinet-approves-mou-between-india-and-senegal-in-the-field-of-health-and-medicine.txt', '/content/split/cabinet-apprised-of-indiajoining-as-member-of-advanced-motor-fuels-technology-collaboration-programme-under-international-energy-agency.txt', '/content/split/asean-india-shared-values-common-destiny-narendra-modi.txt', '/content/split/pm-greets-people-across-nation-on-various-festivals.txt', '/content/split/pm-delivers-inaugural-address-at-indosan-india-sanitation-conference.txt', '/content/split/us-treasury-secretary-calls-on-the-pm.txt', '/content/split/pm-greets-people-of-himachal-pradesh-on-their-statehood-day.txt', '/content/split/us-secretary-of-state-rex-w-tillerson-calls-on-prime-minister.txt', '/content/split/pm-lays-foundation-stone-for-infrastructure-projects-addresses-public-meeting-at-mokama.txt', '/content/split/pm-attends-rail-vikas-shivir-addresses-railway-officers.txt', '/content/split/text-of-the-pms-speech-at-the-official-handover-and-inaugural-ceremony-of-national-trauma-center-in-kathmandu-nepal.txt', '/content/split/pms-press-statement-during-state-visit-of-prime-minister-of-norway.txt', '/content/split/signing-of-revised-air-services-agreement-between-india-and-seychelles.txt', '/content/split/pm-launches-setu-bharatam-a-programme-for-bridge-building-to-ensure-seamless-travel-on-national-highways-2.txt', '/content/split/pms-telephonic-conversation-with-world-bank-president.txt', '/content/split/cabinet-approves-construction-of-national-war-memorial.txt', '/content/split/pms-interaction-with-business-community-in-toronto.txt', '/content/split/pms-telephone-call-to-japanese-prime-minister-shinzo-abe.txt', '/content/split/pm-greets-the-scientists-and-science-lovers-on-national-science-day.txt', '/content/split/text-of-pms-address-at-the-bloomberg-india-economic-forum-2016.txt', '/content/split/pms-address-at-the-india-today-conclave-2019.txt', '/content/split/pm-greets-cisf-personnel-on-the-raising-day-of-cisf.txt', '/content/split/pm-visits-911-memorial-and-museum.txt', '/content/split/us-india-joint-strategic-vision-for-the-asia-pacific-and-indian-ocean-region.txt', '/content/split/pm-condoles-the-demise-of-arindam-sengupta.txt', '/content/split/cabinet-approves-accession-to-wipo-copyright-treaty-1996-and-wipo-performance-and-phonograms-treaty-1996.txt', '/content/split/cabinet-approves-mou-between-india-and-united-kingdom-uk-to-support-ease-of-doing-business-in-india.txt', '/content/split/pm-modi-to-be-greeted-with-cultural-performances-abhinandan-and-abhivyakti-in-russia.txt', '/content/split/pm-congratulates-isro-for-successful-launch-of-astrosat.txt', '/content/split/jayapur-village-in-varanasi-pms-choice-for-saansad-adarsh-gram.txt', '/content/split/pm-congratulates-president-hassan-rouhani-on-his-re-election.txt', '/content/split/pms-statement-prior-to-his-departure-to-palestine-united-arab-emirates-and-oman.txt', '/content/split/pm-congratulates-pankaj-advani-on-winning-ibsf-world-snooker-championship.txt', '/content/split/pms-address-at-inaugural-session-of-first-pio-parliamentarian-conference.txt', '/content/split/cabinet-approves-policy-for-providing-preference-to-domestically-manufactured-iron-steel-products-in-government-procurement.txt', '/content/split/pm-receives-shiv-sena-delegation-on-education-initiatives.txt', '/content/split/cabinet-approves-creation-of-a-project-development-fund-to-catalyse-indian-economic-presence-in-cambodia-laos-myanmar-and-vietnam.txt', '/content/split/cabinet-approves-moc-between-india-and-japan-in-the-field-of-food-processing-industry.txt', '/content/split/cabinet-approves-mou-between-india-and-morocco-for-cooperation-in-the-peaceful-uses-of-outer-space.txt', '/content/split/pm-extends-greetings-on-national-maritime-day-remembers-babasaheb-ambedkar-as-an-inspiration-to-focus-on-jal-shakti.txt', '/content/split/cabinet-approves-amendment-in-modified-special-incentive-package-scheme.txt', '/content/split/pm-speaks-to-prime-minister-of-nepal.txt', '/content/split/cabinet-approves-closure-of-loss-making-burn-standard-company-limited-a-central-public-sector-enterprise-cpse.txt', '/content/split/cabinet-approves-implementation-of-master-plan-of-aiims-new-delhi.txt', '/content/split/pms-gift-to-prime-minister-of-singapore.txt', '/content/split/departure-statement-by-prime-minister-narendra-modi.txt', '/content/split/pm-condoles-the-lose-of-lives-due-to-stampede-at-rajahmundry-discusses-the-situation-with-andhra-pradesh-cm.txt', '/content/split/pm-greets-indian-coast-guard-personnel-on-their-foundation-day.txt', '/content/split/pm-addresses-international-convention-on-universal-message-of-simhastha.txt', '/content/split/pm-to-attend-the-50th-raising-day-ceremony-of-cisf-tomorrow.txt', '/content/split/pm-condemns-the-terror-attack-in-new-york-city.txt', '/content/split/pm-to-visit-lucknow-today-will-take-part-in-yoga-day-programme-tomorrow.txt', '/content/split/prime-ministers-address-during-the-international-conference-on-rule-of-law-for-supporting-2030-development-agenda.txt', '/content/split/world-bank-president-jim-yong-kim-meets-pm-pm-rather-than-dollars-we-are-more-interested-in-knowledge-and-expertise-of-world-bank.txt', '/content/split/statement-by-pm-at-the-summit-on-peace-operations.txt', '/content/split/text-of-pms-remarks-at-international-conference-on-yoga-for-holistic-health.txt', '/content/split/pms-remarks-at-the-inauguration-of-the-hornbill-festival-kohima.txt', '/content/split/text-of-pms-remarks-at-the-international-buddh-poornima-diwas-celebration.txt', '/content/split/pm-dedicates-lays-foundation-stone-for-key-projects-in-aiims.txt', '/content/split/pm-to-visit-varanasi-launch-several-development-projects.txt', '/content/split/pms-gift-to-president-of-uzbekistan.txt', '/content/split/pm-grieved-at-the-passing-away-of-shri-gopinath-munde.txt', '/content/split/pms-speech-at-the-laying-of-the-foundation-stone-for-several-projects-in-manipur.txt', '/content/split/pm-launches-jeevan-pramaan-digital-life-certificate-for-pensioners.txt', '/content/split/pm-expresses-condolences-on-the-passing-away-of-union-minister-shri-ananth-kumar.txt', '/content/split/former-pm-of-nepal-sher-bahadur-deuba-calls-on-pm.txt', '/content/split/pm-congratulates-film-actor-shashi-kapoor-for-the-dadasaheb-phalke-award.txt', '/content/split/pm-addresses-students-and-teachers-at-the-event-nayi-disha-naya-sankalp-organized-by-the-dav-college-managing-committee.txt', '/content/split/pm-condoles-the-passing-away-of-uzbekistan-president-mr-islam-karimov-2.txt', '/content/split/pm-extends-his-best-wishes-to-the-people-of-vietnam-on-their-national-day.txt', '/content/split/pm-to-young-ias-officers-make-the-most-of-the-first-10-years-of-service.txt', '/content/split/pms-address-at-foundation-stone-laying-ceremony-of-vishwa-umiyadham-temple-complex-in-jaspur.txt', '/content/split/pm-condoles-loss-of-lives-due-to-bus-accident-in-mandya-karnataka.txt', '/content/split/pm-expresses-sadness-at-the-volcanic-eruption-in-japan.txt', '/content/split/cabinet-approves-mou-between-india-and-lebanon-for-cooperation-in-the-field-of-agriculture-and-allied-sectors.txt', '/content/split/pms-address-at-foundation-stone-laying-ceremony-of-shikshan-bhavan-vidyarthi-bhavan-in-adalaj.txt', '/content/split/pm-launches-financial-inclusion-initiative-in-varanasi.txt', '/content/split/pm-chairs-high-level-meeting-on-infrastructure-sectors-3.txt', '/content/split/pm-pays-tributes-to-shri-gopal-krishna-gokhale-on-his-birth-anniversary.txt', '/content/split/pm-attends-event-to-mark-legal-services-day-and-commendation-ceremony.txt', '/content/split/cabinet-approves-the-increase-in-the-carpet-area-of-houses-eligible-for-interest-subsidy-for-the-middle-income-group-under-pmay.txt', '/content/split/cabinet-approves-filling-of-padur-strategic-petroleum-reserves-at-padur-karnataka-by-overseas-national-oil-companies.txt', '/content/split/national-capital-goods-policy.txt', '/content/split/pm-expresses-grief-over-loss-of-lives-in-stampede-at-rajghat-bridge-near-varanasi.txt', '/content/split/pm-greets-the-people-of-arunachal-pradesh-and-mizoram-on-their-statehood-day.txt', '/content/split/list-of-agreementsmous-signed-during-the-pms-visit-to-republic-of-korea-may-18-2015.txt', '/content/split/text-of-pms-statement-to-media-at-joint-press-statement-with-chinese-premier-mr-li-keqiang-at-beijing.txt', '/content/split/pm-meets-students-from-jammu-and-kashmir.txt', '/content/split/pm-wishes-former-pm-dr-manmohan-singh-on-his-birthday.txt', '/content/split/pm-attends-book-release-function-at-rashtrapati-bhavan.txt', '/content/split/cabinet-approves-mou-between-the-election-commission-of-india-with-the-election-management-bodies-of-other-countriesinternational-agencies.txt', '/content/split/pm-lays-foundation-stone-for-aiims-medical-college-and-hospital-at-madurai.txt', '/content/split/pms-mann-ki-baat-programme-on-all-india-radio-4.txt', '/content/split/cabinet-approves-usof-scheme-for-provision-of-mobile-services-in-meghalaya-under-ctdp-for-north-eastern-region.txt', '/content/split/agreement-between-esso-iitm-india-and-wcrp-geneva-on-hosting-international-clivar-monsoon-project-office-at-esso-iitm-pune-india.txt', '/content/split/cabinet-approves-mou-between-the-icai-and-bahrain-institute-of-banking-and-finance-bahrain.txt', '/content/split/text-of-pms-address-to-the-gathering-through-video-conference-at-sahitya-satkar-samaroh.txt', '/content/split/prime-minister-hold-meeting-to-review-the-preparedness-for-rollout-of-goods-and-services-taxgst.txt', '/content/split/prime-ministers-telephone-call-to-prime-minister-nawaz-sharif.txt', '/content/split/cabinet-approves-release-of-additional-1-dearness-allowance-to-central-government-employees-and-dearness-relief-to-pensioners-w-e-f-01-07-2017.txt', '/content/split/pm-at-un.txt', '/content/split/pm-inaugurates-46th-indian-labour-conference.txt', '/content/split/text-of-pms-address-during-dedication-of-chutak-hydropower-station-to-the-nation-at-kargil-in-jammu-and-kashmir.txt', '/content/split/cabinet-approves-signing-the-paris-agreement.txt', '/content/split/pm-meets-president-of-nepal-dr-ram-baran-yadav.txt', '/content/split/pm-conveys-heartfelt-greetings-to-fellow-countrymen-and-women-on-occasion-of-various-festivals-across-the-nation.txt', '/content/split/pm-in-mirzapur-dedicates-bansagar-canal-project-to-the-nation.txt', '/content/split/india-vietnam-joint-statement-during-state-visit-of-president-of-vietnam-to-india.txt', '/content/split/pms-address-at-the-inauguration-of-several-government-projects-at-silvassa-dadra-and-nagar-haveli.txt', '/content/split/pm-receives-the-president-designate-of-the-aiib.txt', '/content/split/cabinet-approves-first-ever-three-way-merger-in-indian-banking-with-amalgamation-of-vijaya-dena-and-bank-of-baroda.txt', '/content/split/pm-greets-the-people-of-indonesia-on-their-independence-day.txt', '/content/split/cabinet-approves-mou-between-the-defence-services-staff-college-wellington-and-defence-services-command-and-staff-college-mirpur-dhaka.txt', '/content/split/prime-minister-pays-tributes-to-guru-ravidas-on-his-jayanti-2.txt', '/content/split/cabinet-approves-signing-of-mou-between-sebi-and-european-securities-and-markets-authority.txt', '/content/split/president-asian-development-bank-calls-on-pm-2.txt', '/content/split/two-groups-of-secretaries-present-ideas-and-suggestions-to-pm.txt', '/content/split/delegation-of-weavers-from-andhra-pradesh-and-telangana-calls-on-pm.txt', '/content/split/pm-remembers-sacrifices-and-valour-of-our-armed-forces-who-courageously-fought-in-1971-war-on-the-occasion-of-vijay-diwas.txt', '/content/split/pms-farewell-remarks-to-retiring-rajya-sabha-members.txt', '/content/split/portfolios-of-the-union-council-of-ministers-2.txt', '/content/split/pm-bows-to-guru-teg-bahadur-on-his-martyrdom-day.txt', '/content/split/pm-to-visit-gujarat-on-4th-and-5th-march-2019.txt', '/content/split/foreign-minister-of-bangladesh-calls-on-pm.txt', '/content/split/cabinet-approves-mou-between-india-and-bangladesh-for-promoting-cooperation-in-the-field-of-it-and-electronics.txt', '/content/split/cabinet-approves-agreement-between-india-and-philippines-on-co-operation-and-mutual-assistance-in-customs-matters.txt', '/content/split/pm-dedicates-national-police-memorial-to-the-nation-announces-an-award-in-the-name-of-subash-chandra-bose.txt', '/content/split/pm-addresses-indian-community-in-philippines.txt', '/content/split/pm-to-visit-kumbh-at-prayagraj-tomorrow.txt', '/content/split/agreement-between-india-and-maldives-for-the-exchange-of-information-with-respect-to-taxes.txt', '/content/split/pm-interacts-with-pradhan-mantri-awas-yojana-beneficiaries-across-the-country-through-video-bridge.txt', '/content/split/pm-receives-personal-belongings-of-sardar-patel-on-his-139th-birth-anniversary.txt', '/content/split/cabinet-apprised-of-the-mou-between-atal-innovation-mission-india-and-fund-talent-and-success.txt', '/content/split/approval-for-revised-project-cost-and-extension-of-contract-for-the-centralized-processing-center-of-the-income-tax-department-at-bengaluru.txt', '/content/split/pm-interacts-with-american-ceos.txt', '/content/split/pm-expresses-sadness-over-loss-of-lives-in-coal-mine-accident-in-jharkhand.txt', '/content/split/pm-condoles-the-passing-away-of-shri-jehangir-pocha.txt', '/content/split/cabinet-approves-mou-between-india-and-uzbekistan-on-cooperation-in-the-sphere-of-law-justice.txt', '/content/split/pms-address-at-indian-community-event-in-japan.txt', '/content/split/pm-condoles-the-passing-away-of-first-lady-mrs-suvra-mukherjee.txt', '/content/split/promotion-of-payments-through-cards-and-digital-means.txt', '/content/split/pm-to-visit-maharashtra-on-december-18-2018.txt', '/content/split/pms-remarks-on-the-occasion-of-dedication-to-the-nation-of-stage-1-of-shree-singaji-thermal-power-plant-at-khandwa.txt', '/content/split/pms-departure-statement-ahead-of-his-visit-to-brazil-to-attend-the-sixth-brics-summit.txt', '/content/split/cabinet-approves-mou-between-india-and-singapore-on-cooperation-in-the-field-of-personnel-management-and-public-administration.txt', '/content/split/pm-in-varanasi-dedicates-multimodal-terminal-to-the-nation-inaugurates-major-road-projects.txt', '/content/split/pm-speaks-to-pakistan-pm.txt', '/content/split/boost-to-indias-space-program.txt', '/content/split/mr-bill-gates-calls-on-pm.txt', '/content/split/pms-remarks-at-the-inaugural-session-of-hannover-messe.txt', '/content/split/cabinet-approves-mou-between-india-and-philippines-on-agriculture-and-related-fields.txt', '/content/split/implementing-arrangement-between-government-of-the-federative-republic-of-brazil-and-government-of-the-republic-of-india-establishing-cooperation-in-augmentation-of-a-brazilian-earth-station-for-recei.txt', '/content/split/text-of-pms-address-to-officers-and-jawans-of-the-indian-army-at-siachen-base-camp.txt', '/content/split/pm-addresses-gathering-on-the-occasion-of-chartered-accountants-day.txt', '/content/split/foreign-minister-of-france-calls-on-the-pm.txt', '/content/split/pm-meets-students-from-jammu-and-kashmir-2.txt', '/content/split/pm-speaks-to-bihar-cm-regarding-flood-situation-in-the-state-assures-all-support-to-bihar-government.txt', '/content/split/pms-speech-at-foundation-stone-laying-ceremony-of-kedarpuri-reconstruction-projects-in-kedarnath.txt', '/content/split/text-of-pms-address-at-the-indian-community-reception-in-shanghai.txt', '/content/split/cabinet-approves-laying-down-procedure-and-mechanism-for-asset-monetization-of-cpses-psus-other-government-organizations-and-immovable-enemy-properties.txt', '/content/split/pm-greets-people-on-easter-2.txt', '/content/split/pm-blogs-on-his-visit-to-myanmar-australia-and-fiji.txt', '/content/split/pm-calls-for-making-ganga-rejuvenation-a-mass-movement-for-ganga-seva-chairs-first-high-level-meeting-on-namaami-gange-vision.txt', '/content/split/text-of-pms-address-to-indian-community-at-allphones-arena-sydney.txt', '/content/split/pm-now-on-instagram.txt', '/content/split/pm-congratulates-weightlifter-deepak-lather-on-clinching-a-bronze-in-the-mens-69-kg-category-at-commonwealth-games.txt', '/content/split/pms-address-at-the-inauguration-of-magnetic-maharashtra-convergence-2018.txt', '/content/split/pms-mann-ki-baat-programme-on-all-india-radio-14.txt', '/content/split/pm-expresses-grief-over-loss-of-lives-due-to-attack-in-dhaka.txt', '/content/split/pm-reminisces-about-his-childhood-in-remarks-in-visitors-book-at-dlw-varanasi.txt', '/content/split/pm-to-inaugurate-the-delhi-end-tb-summit-tomorrow.txt', '/content/split/text-of-pms-statement-at-india-republic-of-korea-ceos-forum.txt', '/content/split/pm-congratulates-saurabh-chaudhary-on-winning-gold-in-mens-10m-air-pistol-event.txt', '/content/split/pm-joins-members-of-rajya-sabha-in-bidding-farewell-to-retiring-members.txt', '/content/split/pms-bihar-package-2015-rs-125003-crore-2.txt', '/content/split/pm-writes-to-chief-ministers.txt', '/content/split/pms-intervention-in-lok-sabha-on-the-revamp-of-planning-commission-2.txt', '/content/split/pm-addresses-inaugural-session-of-advantage-assam-global-investors-summit-2018.txt', '/content/split/pm-to-visit-eastern-up-on-july-14th-and-15th-2018.txt', '/content/split/pm-condoles-the-passing-away-of-shri-dileep-singh-bhuria.txt', '/content/split/cabinet-approves-transfer-of-4-acres-of-defence-land-on-lease-basis-to-kendriya-vidyalaya-sangathan-for-the-construction-of-kendriya-vidyalaya-no-4-at-kandhar-lines-delhi-cantt.txt', '/content/split/pm-to-visit-assam-tomorrow.txt', '/content/split/text-of-pms-address-at-the-global-call-to-action-summit-2015.txt', '/content/split/excerpts-from-pms-address-at-the-programme-marking-the-start-of-the-surat-marathon.txt', '/content/split/pms-speech-at-the-inauguration-of-pravasi-bharatiya-kendra.txt', '/content/split/pm-shares-his-photos-of-northeast-visit.txt', '/content/split/pm-calls-for-making-yoga-a-mass-movement.txt', '/content/split/pm-remembers-pandit-deendayal-upadhyaya-on-his-punya-tithi-2.txt', '/content/split/pm-congratulates-spiritual-leader-sri-sri-ravi-shankar-on-being-conferred-with-columbias-highest-civilian-award.txt', '/content/split/pm-makes-a-congratulatory-telephone-call-to-chancellor-merkel.txt', '/content/split/pms-first-meeting-with-japanese-political-leaders-parliamentary-delegation-from-japan-calls-on-narendra-modi.txt', '/content/split/pm-writes-to-afghanistan-president-dr-ashraf-ghani-condoles-loss-of-lives-in-avalanches.txt', '/content/split/pms-interaction-at-pariksha-pe-charcha-2-0-a-conversation-with-students-parents-teachers.txt', '/content/split/cabinet-gives-approval-to-the-approach-to-be-adopted-by-india-at-the-eleventh-ministerial-conference-of-the-wto.txt', '/content/split/pm-meets-president-xi-jinping-of-china-on-the-sidelines-of-the-sco-meeting-in-tashkent.txt', '/content/split/pm-expresses-joy-on-pm-ujjwala-yojana-beneficiaries-crossing-2-crore-in-number.txt', '/content/split/governors-and-ministers-call-on-pm.txt', '/content/split/pms-address-on-the-release-of-commemorative-coin-to-mark-the-birth-anniversary-of-guru-gobind-singh-ji.txt', '/content/split/pm-to-leave-for-two-nation-tour-to-visit-ireland-arrive-in-new-york-city-tomorrow-evening.txt', '/content/split/pm-bangladesh-pm-sheikh-hasina-jointly-unveil-e-plaques-for-ground-breaking-of-two-projects.txt', '/content/split/pm-condoles-the-demise-of-narayanbhai-bhandari.txt', '/content/split/pms-farewell-speech-to-the-retiring-members-of-rajya-sabha.txt', '/content/split/pm-congratulates-the-new-up-government-sworn-in-today.txt', '/content/split/text-of-pms-address-at-the-inauguration-of-pravasi-bharatiya-divas.txt', '/content/split/cabinet-approves-cadre-review-of-group-a-officers-of-central-reserve-police-force.txt', '/content/split/pms-press-statement-during-his-visit-to-sweden.txt', '/content/split/pm-addresses-panchayats-across-the-country-from-jamshedpur-on-national-panchayati-raj-day.txt', '/content/split/pm-reviews-progress-of-infrastructure-sectors.txt', '/content/split/mou-between-india-and-sweden-on-technical-cooperation-in-the-railway-sector.txt', '/content/split/cabinet-accords-permission-to-hll-lifecare-ltd-to-sub-lease-government-land-at-chengalpattu-tamil-nadu-for-setting-up-medipark.txt', '/content/split/cabinet-approves-mou-between-india-and-saudi-arabia-on-establishing-a-mechanism-for-investment-infrastructure-in-india.txt', '/content/split/model-text-for-the-indian-bilateral-investment-treaty.txt', '/content/split/pms-inaugural-address-at-the-sri-ramakrishna-vachanamrita-satram-tiruvalla-kerala.txt', '/content/split/women-motorbike-riders-group-biking-queens-calls-on-pm.txt', '/content/split/pm-congratulates-his-japanese-counterpart-shinzo-abe-on-re-election.txt', '/content/split/pm-addresses-swachh-shakti-2017-a-convention-of-women-sarpanches-at-gandhinagar.txt', '/content/split/cabinet-condoles-the-demise-of-shri-ananthkumar-union-minister-for-chemicals-fertilizers-and-parliamentary-affairs.txt', '/content/split/pm-congratulates-mr-pravind-kumar-jugnauth-on-taking-over-as-prime-minister-of-mauritius.txt', '/content/split/pms-address-at-the-guru-nanak-jayanti-celebrations-at-residence-of-sukhbir-singh-badal.txt', '/content/split/cabinet-approves-creation-of-three-posts-of-directors-for-the-three-new-aiims-in-andhra-pradesh-west-bengal-and-maharashtra.txt', '/content/split/pms-address-to-the-young-entrepreneurs-at-the-champions-of-change-initiative-organised-by-niti-aayog-on-17-august-2017.txt', '/content/split/pms-upcoming-visit-to-afghanistan-qatar-switzerland-usa-and-mexico.txt', '/content/split/cabinet-approves-regulariztion-of-certain-allowances-being-paid-over-and-above-the-50-pre-revised-ceiling-prescribed-by-dpe-to-the-executives-of-certain-operational-category-employees-of-aai.txt', '/content/split/pm-to-hold-samvad-with-beneficiaries-of-pradhan-mantri-bhartiya-janaushadhi-pariyojna-and-affordable-cardiac-stents-and-knee-implants-on-june-7.txt', '/content/split/text-of-pms-address-on-the-historic-successful-insertion-of-mars-orbiter-mission-mom-into-martian-orbit.txt', '/content/split/cabinet-approves-amendment-to-the-right-of-children-to-free-and-compulsory-education-act-2009.txt', '/content/split/pm-greets-people-across-nation-on-various-festivals-2.txt', '/content/split/pm-addresses-concluding-session-of-47th-governors-conference-in-rashtrapati-bhawan.txt', '/content/split/pm-participates-in-swachhata-hi-seva-performs-shramdaan-at-a-school-in-delhi.txt', '/content/split/text-of-pms-remarks-at-the-townhall-qa-with-mark-zuckerberg-at-the-facebook-headquarters.txt', '/content/split/pm-condoles-the-passing-away-of-versatile-actor-shashi-kapoor.txt', '/content/split/pms-address-on-the-occasion-of-3rd-international-day-of-yoga-2017-in-lucknow.txt', '/content/split/pms-address-at-the-launch-of-various-development-projects-in-daman-diu.txt', '/content/split/pm-reviews-progress-of-national-highway-programmes.txt', '/content/split/cabinet-approvesa-cooperation-arrangement-between-india-and-afghanistan-for-cooperation-in-the-field-of-food-safety-and-related-areas.txt', '/content/split/pm-offers-prayers-at-kedarnath-temple-takes-an-overview-of-progress-of-reconstruction-projects.txt', '/content/split/275331.txt', '/content/split/pm-expresses-pain-over-the-loss-of-lives-in-the-bus-accident-in-angul-district-of-odisha.txt', '/content/split/extension-of-tenure-of-the-national-commission-for-safai-karamcharis-beyond-31-3-2016-for-three-years.txt', '/content/split/pm-addresses-cpse-conclave.txt', '/content/split/pm-addresses-tax-administrators-at-rajasva-gyan-sangam.txt', '/content/split/pm-congratulates-isro-on-the-successful-launch-of-gsat-18.txt', '/content/split/pms-address-at-the-conference-of-chairmen-of-boards-of-governors-and-directors-of-iits-at-rashtrapati-bhawan.txt', '/content/split/cabinet-approves-integrated-goods-and-services-tax-amendment-bill-2017.txt', '/content/split/mou-between-indian-space-research-organisation-and-the-united-arab-emirates-space-agency.txt', '/content/split/text-of-the-pms-keynote-address-at-the-invest-madhya-pradesh-global-investor-summit-2014-in-indore.txt', '/content/split/cabinet-approves-introduction-of-the-dentists-amendment-bill-2017.txt', '/content/split/memoranda-of-understanding-signed-with-various-countries-for-cooperation-in-the-field-of-agriculture-allied-sectors.txt', '/content/split/pm-to-address-golden-jubilee-and-foundation-day-celebrations-of-bharatiya-agro-industries-foundation-pune-via-video-conferencing.txt', '/content/split/pm-congratulates-all-beneficiaries-of-jan-dhan-yojana-on-its-third-anniversary.txt', '/content/split/pms-speech-at-the-inauguration-of-new-premises-of-cic-in-new-delhi.txt', '/content/split/pm-condemns-the-attack-on-the-afghanistan-parliament.txt', '/content/split/pm-greets-the-muslim-community-on-ramzan-2.txt', '/content/split/mr-philippe-etienne-diplomatic-advisor-to-the-president-of-the-french-republic-calls-on-pm.txt', '/content/split/cabinet-approves-official-amendment-to-the-bill-for-change-of-name-to-dr-rajendra-prasad-central-agricultural-university.txt', '/content/split/text-of-pms-address-at-the-civic-reception-in-mauritius.txt', '/content/split/pm-and-president-obama-to-share-their-thoughts-together-on-mann-ki-baat-on-air.txt', '/content/split/pm-salutes-people-for-their-wholehearted-participation-in-the-ongoing-yagna-against-corruption-terrorism-and-black-money.txt', '/content/split/text-of-pms-address-at-swami-dayanand-saraswati-janmotsav.txt', '/content/split/pm-inaugurates-ninth-edition-of-vibrant-gujarat-summit-in-gandhinagar.txt', '/content/split/cabinet-condoles-the-demise-of-dr-m-karunanidhi-former-chief-minister-of-tamil-nadu.txt', '/content/split/cabinet-approves-mou-between-india-and-brazil-on-cooperation-in-the-field-of-traditional-systems-of-medicine-and-homoeopathy.txt', '/content/split/dr-k-p-yohannan-metropolitan-bishop-believers-church-kerala-calls-on-pm.txt', '/content/split/cabinet-approves-proposal-for-amendment-to-the-micro-small-and-medium-enterprises-development-act-2006.txt', '/content/split/pms-reply-to-the-questions-during-the-joint-press-statement-with-german-chancellor-angela-merkel-at-berlin.txt', '/content/split/make-in-india-week-in-mumbai.txt', '/content/split/cabinet-approves-mou-between-india-and-germany-on-cooperation-in-the-field-of-occupational-safety-and-health.txt', '/content/split/pms-address-at-the-inauguration-of-abdul-kalam-technical-university-launch-development-initiatives-in-lucknow.txt', '/content/split/pm-inaugurates-modern-food-processing-facilities-in-anand.txt', '/content/split/south-asia-wildlife-enforcement-network.txt', '/content/split/historic-announcements-on-ending-corruption-and-black-money-by-pm.txt', '/content/split/introduction-of-regional-centre-for-biotechnology-bill-2015-in-the-parliament.txt', '/content/split/pm-expresses-sadness-at-chopper-crash-in-nepal-readiness-to-provide-all-possible-assistance.txt', '/content/split/pm-reviews-performance-of-key-infrastructure-sectors.txt', '/content/split/pms-address-at-the-launch-of-rashtriya-gram-swaraj-abhiyan-on-national-panchayati-raj-day-in-mandla-mp.txt', '/content/split/pm-blogs-on-completion-of-one-month-in-office-every-decision-guided-solely-by-national-interest.txt', '/content/split/cabinet-approves-discovered-small-fields-dsf-policy-bid-round-11-for-60-un-monetised-discoveries-of-ongc-and-oil.txt', '/content/split/pms-address-on-the-launch-of-smart-city-mission-projects-in-pune.txt', '/content/split/pms-informal-interaction-with-national-awardee-teachers-on-the-eve-of-teachers-day.txt', '/content/split/pms-interaction-through-pragati.txt', '/content/split/pm-to-launch-pm-kisan-scheme-from-gorakhpur-in-uttar-pradesh-tomorrow.txt', '/content/split/pm-felicitates-crew-of-ins-arihant-on-completion-of-nuclear-triad.txt', '/content/split/memorandum-of-understanding-signed-between-india-and-united-arab-emirates-on-technical-cooperation-in-cyber-space-and-combating-cyber-crime.txt', '/content/split/cabinet-approves-inclusionamendments-in-the-central-list-of-other-backward-classes-notified-in-respect-of-some-states.txt', '/content/split/pms-reply-to-the-motion-of-thanks-on-presidents-address-in-the-rajya-sabha.txt', '/content/split/prime-ministers-appeal-on-armed-forces-flag-day.txt', '/content/split/pm-greets-people-on-buddha-purnima-2.txt', '/content/split/pmo-statement.txt', '/content/split/pm-visits-airbus-facility-and-cnes-in-toulouse-pays-homage-at-world-war-1-memorial-in-neuve-chapelle.txt', '/content/split/pm-congratulates-isro-scientists-on-successful-launch-of-gslv-mk-iii-d2-carrying-gsat-29-satellite.txt', '/content/split/cabinet-approves-new-metro-rail-policy-focus-on-compact-urban-development-cost-reduction-and-multi-modal-integration.txt', '/content/split/cabinet-approves-mou-between-the-icai-and-certified-professional-accountants-afghanistan-cpa-afghanistan.txt', '/content/split/pm-meets-shri-balwant-kumawat-from-bhilwara-rajasthan.txt', '/content/split/smt-sharbati-devi-a-103-year-old-widow-ties-a-rakhi-on-pm.txt', '/content/split/pm-attends-groundbreaking-ceremony-of-various-projects-in-uttar-pradesh.txt', '/content/split/pm-expresses-solidarity-with-the-people-of-kerala-on-onam.txt', '/content/split/pm-condoles-the-passing-away-of-shri-op-mehra.txt', '/content/split/ex-post-facto-approval-on-approach-adopted-by-india-at-10th-ministerial-conference-of-wto-held-in-nairobi.txt', '/content/split/pms-tribute-on-mahaparinirvana-diwas-of-dr-babasaheb-ambedkar.txt', '/content/split/atmatirtham-book-on-adi-sankaras-life-and-teachings-presented-to-pm.txt', '/content/split/pradhan-mantri-fasal-bima-yojana-a-boost-for-farmers-says-pm.txt', '/content/split/text-of-pms-remarks-at-the-release-of-the-book-education-of-muslims.txt', '/content/split/pms-press-statement-during-the-state-visit-of-president-of-republic-of-kyrgyzstan-to-india.txt', '/content/split/text-of-pms-address-at-the-public-meeting-at-sher-e-kashmir-stadium-srinagar.txt', '/content/split/memorandum-of-understanding-between-india-and-united-states-of-america-on-cooperation-to-establish-the-pace-setter-fund.txt', '/content/split/sweden-india-joint-action-plan.txt', '/content/split/list-of-mous-signed-by-brics-countries.txt', '/content/split/pms-telephonic-conversation-with-us-president.txt', '/content/split/pm-addresses-indian-community-in-israel.txt', '/content/split/text-of-pms-address-at-the-dedication-to-the-nation-of-unit-ii-of-ongc-tripura-company-ltd-power-plant.txt', '/content/split/revised-cost-estimate-of-rs-969-crore-in-connection-with-the-afghan-parliament-building-in-kabul.txt', '/content/split/text-of-the-pms-press-statement-after-the-signing-of-agreements-in-ulaanbaatar-mongolia.txt', '/content/split/pm-tweets-about-his-upcoming-3-nation-tour.txt', '/content/split/stephen-harper-former-prime-minister-of-canada-calls-on-the-prime-minister.txt', '/content/split/ncrmp-phase-ii-to-be-implemented-in-the-states-of-goa-gujarat-karnataka-kerala-maharashtra-and-west-bengal-assistance.txt', '/content/split/pm-condoles-the-passing-away-of-shri-jb-patnaik.txt', '/content/split/amendments-to-regional-rural-banks-act-1976.txt', '/content/split/pms-statement-prior-to-his-departure-for-seychelles-mauritius-and-sri-lanka.txt', '/content/split/pm-pays-tributes-to-martyrs-on-kargil-vijay-diwas.txt', '/content/split/pm-congratulates-shri-pranab-mukherjee-on-the-completion-of-his-3-years-as-the-president-of-india.txt', '/content/split/pms-remarks-at-the-pandit-deendayal-upadhyay-shramev-jayate-karyakram.txt', '/content/split/cabinet-approves-creation-of-7-posts-of-principal-director-and-36-posts-of-director-on-regular-basis-in-the-armed-forces-headquarters-civil-service.txt', '/content/split/pm-attends-sahkar-sammelan-on-the-occasion-of-birth-centenary-of-laxmanrao-inamdar.txt', '/content/split/cabinet-apprised-of-mou-between-india-and-the-russian-federation-for-the-development-of-cooperation-in-transport-education-and-moc-between-india-and-the-joint-stock-company-russian-railways-on-te.txt', '/content/split/cabinet-apprised-of-the-mou-between-india-and-denmark-for-cooperation-in-the-fields-of-animal-husbandry-and-dairying.txt', '/content/split/pm-addresses-concluding-session-of-mahatma-gandhi-international-sanitation-convention.txt', '/content/split/deputy-prime-minister-of-russia-dmitry-rogozin-calls-on-prime-minister.txt', '/content/split/pms-address-after-flagging-off-udan-flight-under-regional-connectivity-scheme-on-shimla-delhi-sector.txt', '/content/split/pms-speech-at-the-inauguration-the-new-building-of-archaeological-survey-of-india.txt', '/content/split/cabinet-approves-mou-between-india-and-sao-tome-and-principe-on-cooperation-in-the-field-of-medicinal-plants.txt', '/content/split/pm-speaks-on-telephone-with-french-president-francois-hollande-strongly-condemning-the-attack-in-paris-happened-a-few-days-ago.txt', '/content/split/ceos-from-korea-call-on-pm.txt', '/content/split/pm-to-visit-2-states-2-union-territories-over-the-next-two-days.txt', '/content/split/prime-minister-condemns-attack-in-sukma.txt', '/content/split/text-of-pms-address-at-the-business-meeting-at-london.txt', '/content/split/pm-bows-to-swami-vivekananda-on-his-jayanti.txt', '/content/split/pms-speech-at-the-foundation-stone-laying-ceremony-of-vanijya-bhawan-in-new-delhi.txt', '/content/split/pm-to-launch-start-up-india-movement-on-january-16-2015.txt', '/content/split/pm-greets-people-on-the-occasion-of-rath-yatras-and-ashadhi-bij.txt', '/content/split/pms-message-on-world-toilet-day.txt', '/content/split/pms-address-at-the-nhrc-silver-jubilee-foundation-day-function.txt', '/content/split/cabinet-approvesamendment-to-the-framework-on-currency-swap-arrangement-for-saarc.txt', '/content/split/pms-mann-ki-baat-programme-on-all-india-radio-12.txt', '/content/split/list-of-mous-and-agreements-signed-and-exchanged-on-the-visit-of-prime-minister-to-stockholm.txt', '/content/split/mr-li-yuanchao-vice-president-of-the-peoples-republic-of-china-meets-pm.txt', '/content/split/pm-expresses-happiness-over-the-tremendous-response-among-the-people-generated-by-recently-launched-social-security-schemes.txt', '/content/split/pms-interaction-with-students-on-teachers-day.txt', '/content/split/pm-delivers-closing-remarks-at-3rd-meeting-of-governing-council-of-niti-aayog.txt', '/content/split/pms-message-on-earth-day-3.txt', '/content/split/pms-gifts-to-the-prime-minister-of-ireland.txt', '/content/split/pm-congratulates-shri-rajesh-kumar-son-of-pmo-daftary-who-has-cleared-the-civil-services-examination.txt', '/content/split/pms-address-at-the-inauguration-ceremony-of-phase-ii-of-rashtrapati-bhavan-museum.txt', '/content/split/cabinet-approves-the-revised-air-services-agreement-with-malaysia.txt', '/content/split/pm-greets-president-on-his-birthday.txt', '/content/split/beneficiaries-of-pradhan-mantri-mudra-yojana-share-their-success-stories-during-interaction-with-pm.txt', '/content/split/cabinet-approves-mou-between-india-and-the-uae-on-development-cooperation-in-africa.txt', '/content/split/pms-speech-at-the-rising-india-summit-in-new-delhi.txt', '/content/split/cabinet-apprised-of-mou-between-india-and-russia-for-cooperation-in-the-field-of-science-technology.txt', '/content/split/pm-to-inaugurate-new-asi-headquarters-in-new-delhi.txt', '/content/split/pm-releases-book-commemorating-martyrs-of-crpf-on-police-commemoration-day.txt', '/content/split/pms-address-at-grand-finale-of-the-smart-india-hackathon-2018.txt', '/content/split/text-of-pms-interaction-with-students-at-education-city-dantewada.txt', '/content/split/pm-salutes-crpf-personnel-on-77th-anniversary-day.txt', '/content/split/cabinet-approves-revival-of-defunct-fertilizer-units-in-gorakhpur-sindri-and-barauni.txt', '/content/split/pms-digital-dialogue.txt', '/content/split/pms-mann-ki-baat-programme-on-all-india-radio-21.txt', '/content/split/pm-condoles-the-loss-of-lives-due-to-earthquake-in-aceh-province-of-indonesia.txt', '/content/split/french-minister-for-the-armed-forces-calls-on-the-prime-minister.txt', '/content/split/ex-post-facto-approval-for-signing-of-mou-among-brics-countries-on-brics-network-university.txt', '/content/split/cabinet-approves-mou-between-india-and-indonesia-on-scientific-and-technological-cooperation.txt', '/content/split/pm-meets-ms-maryam-asif-siddiqui-winner-of-bhagavad-gita-champion-league.txt', '/content/split/pm-celebrates-diwali-with-jawans-of-indian-army-and-bsf-in-gurez-valley.txt', '/content/split/text-of-pms-address-at-the-valedictory-function-of-the-6th-world-ayurveda-congress.txt', '/content/split/pms-address-at-the-launch-of-several-development-projects-in-varanasi.txt', '/content/split/pm-lays-foundation-stone-for-india-international-convention-and-expo-centre-dwarka.txt', '/content/split/pm-condemns-terror-attack-in-pathankot-2.txt', '/content/split/cabinet-approves-mou-between-india-and-singapore-on-setting-up-of-a-joint-working-group-on-fintech.txt', '/content/split/pm-welcomes-the-unanimous-election-of-sumitra-mahajan-as-speaker-of-lok-sabha.txt', '/content/split/cabinet-approves-the-facilities-being-extended-to-persons-residing-in-india-on-long-term-visa.txt', '/content/split/protocol-amending-the-convention-between-india-and-turkmenistan-for-the-avoidance-of-double-taxation-and-prevention-of-fiscal-evasion-with-respect-to-taxes-on-income-and-on-capital.txt', '/content/split/pm-greets-the-people-on-the-occasion-of-various-festivals-across-india-3.txt', '/content/split/pm-bows-to-rashtrakavi-ramdhari-singh-dinkar-on-his-birth-anniversary.txt', '/content/split/sidelights-run-for-unity-event-at-rajpath-new-delhi.txt', '/content/split/pm-offers-prayers-at-dwarkadheesh-temple-addresses-public-meeting-in-dwarka.txt', '/content/split/pm-pays-tributes-to-madiba-on-nelson-mandela-day.txt', '/content/split/pm-reviews-drought-and-water-scarcity-situation-at-high-level-meeting-with-uttar-pradesh-cm.txt', '/content/split/cabinet-approves-mou-with-the-african-asian-rural-development-organization-in-the-field-of-rural-development.txt', '/content/split/pms-roundtable-meeting-on-media-technology-and-communications-growth-story-for-india.txt', '/content/split/pm-lays-foundation-stone-of-iari-at-gogamukh-in-assam-addresses-large-public-meeting.txt', '/content/split/highlights-of-pms-inaugural-address-at-economic-times-global-business-summit.txt', '/content/split/pm-lauds-the-passage-of-one-hundred-and-twenty-fourth-constitution-amendment-bill-2019-in-the-rajya-sabha.txt', '/content/split/pm-greets-the-people-of-chhattisgarh-on-their-foundation-day.txt', '/content/split/pms-address-at-unep-champions-of-the-earth-award-ceremony.txt', '/content/split/valedictory-speech-by-prime-minister-at-national-initiative-towards-strengthening-arbitration-and-enforcement-in-india.txt', '/content/split/zhang-dejiang-chairman-of-the-standing-committee-of-the-national-peoples-congress-of-china-calls-on-pm.txt', '/content/split/intervention-by-pm-at-the-g20-working-lunch-trade-and-energy.txt', '/content/split/text-of-pms-speech-at-economic-times-global-business-summit.txt', '/content/split/cabinet-apprised-of-the-progress-under-national-health-mission.txt', '/content/split/pms-address-at-world-food-india-2017.txt', '/content/split/pms-statement-prior-to-his-departure-to-nepal.txt', '/content/split/cabinet-approves-recommendations-of-the-sub-group-of-chief-minsters-on-rationalisation-of-centrally-sponsored-schemes.txt', '/content/split/protocol-between-government-of-india-and-the-government-of-japan.txt', '/content/split/pm-wishes-justice-iyer-on-his-100th-birthday.txt', '/content/split/prime-minister-wishes-viswanathan-anand-for-the-world-chess-championship.txt', '/content/split/pms-interaction-with-governors-of-russian-provinces.txt', '/content/split/pm-modi-israeli-pm-netanyahu-dedicate-icreate-to-the-nation.txt', '/content/split/pms-press-statement-during-state-visit-of-president-of-south-africa-to-india.txt', '/content/split/highlights-of-pms-reply-to-the-motion-of-thanks-on-the-presidents-address-in-the-lok-sabha.txt', '/content/split/pm-congratulates-trivendra-singh-rawat-on-taking-oath-as-uttarakhand-cm.txt', '/content/split/pm-condoles-the-loss-of-lives-and-property-in-sri-lanka-due-to-flooding-and-landslides.txt', '/content/split/second-meeting-of-the-governing-council-of-niti-aayog.txt', '/content/split/pm-to-visit-kutch-attend-conference-of-directors-general-of-police.txt', '/content/split/cabinet-approves-signing-and-ratification-of-agreement-between-india-and-brunei-darussalam-for-the-exchange-of-information-and-assistance-in-collection-with-respect-to-taxes.txt', '/content/split/pm-greets-bsf-personnel-on-their-raising-day-2.txt', '/content/split/pm-releases-gujarati-translation-of-thirukkural-on-thiruvalluvarday.txt', '/content/split/pm-welcomes-the-first-air-freight-corridor-flight-from-kabul-to-india-thanks-president-ghani-for-the-initiative.txt', '/content/split/pms-address-on-50th-year-celebrations-of-imc-ladies-wing-in-mumbai-via-video-conferencing.txt', '/content/split/pm-greets-the-people-on-occasion-of-various-festivals-across-the-country.txt', '/content/split/pm-greets-the-people-of-goa-on-statehood-day-2.txt', '/content/split/valedictory-session-of-assistant-secretaries-ias-officers-of-2014-batch-make-presentations-to-pm.txt', '/content/split/pm-expresses-grief-over-loss-of-lives-in-air-crash-in-moscow.txt', '/content/split/pm-condoles-the-demise-of-lok-sabha-mp-mahant-chand-nath.txt', '/content/split/pm-hands-over-bangladesh-liberation-war-honour-to-family-members-of-shri-atal-bihari-vajpayee.txt', '/content/split/empowered-women-can-create-an-empowered-society-and-a-strong-nation-says-pm-in-kurukshetra.txt', '/content/split/president-of-the-national-assembly-of-vietnam-calls-on-pm.txt', '/content/split/president-of-medef-france-calls-on-prime-minister.txt', '/content/split/increasing-the-authorized-share-capital-of-the-national-scheduled-castes-finance-and-development-corporation.txt', '/content/split/pm-meets-canadian-british-pms-on-the-sidelines-of-nss.txt', '/content/split/pms-address-at-the-global-mobility-summit-move.txt', '/content/split/visit-of-deputy-secretary-of-supreme-national-security-council-of-iran.txt', '/content/split/call-on-pm-by-federal-finance-minister-of-germany-mr-wolfgang-schauble.txt', '/content/split/pm-salutes-the-courage-and-indomitable-spirit-of-indian-armed-forces-on-vijay-diwas.txt', '/content/split/pm-greets-people-of-telangana-on-the-statehood-day-extends-wishes-to-people-of-andhra-pradesh.txt', '/content/split/cabinet-approves-amendment-in-the-protection-of-children-from-sexual-offences-pocso-act-2012.txt', '/content/split/pm-attends-international-fleet-review-2016-at-visakhapatnam.txt', '/content/split/pm-visits-ananda-temple-bagan.txt', '/content/split/pms-address-to-the-inaugural-event-of-ramayana-darshanam-exhibition-at-vivekananda-kendra-kanyakumari-via-video-conferencing.txt', '/content/split/expansion-of-the-mandate-of-dmic-pi-trust-fund-and-its-re-designation-as-nicdi-trust.txt', '/content/split/pm-expresses-deep-concerns-over-sydney-cafe-siege-incident.txt', '/content/split/text-of-prime-minister-shri-narendra-modis-address-at-felicitation-ceremony-of-the-medal-winners-of-the-17th-asian-games-incheon-2014.txt', '/content/split/pms-mann-ki-baat-programme-on-all-india-radio-10.txt', '/content/split/pm-congratulates-bajrang-punia-for-winning-gold-in-asian-wrestling-championship.txt', '/content/split/pm-condoles-the-passing-away-of-shri-anil-madhav-dave.txt', '/content/split/pm-greets-dr-manmohan-singh-on-his-birthday.txt', '/content/split/pm-addresses-krishi-unnati-mela.txt', '/content/split/pm-greets-people-on-teachers-day.txt', '/content/split/pms-telephonic-conversation-with-prime-minister-of-uk.txt', '/content/split/pm-salutes-the-air-force-personnel-on-air-force-day.txt', '/content/split/pms-press-statement-during-the-state-visit-of-president-of-indonesia-to-india.txt', '/content/split/cabinet-approves-second-protocol-amending-the-comprehensive-economic-cooperation-agreement-between-india-and-singapore.txt', '/content/split/cabinet-approves-the-new-agreement-on-trade-commerce-and-transit-between-india-and-bhutan.txt', '/content/split/pm-visits-visakhapatnam.txt', '/content/split/approval-for-signing-and-ratifying-saarc-south-asian-association-for-regional-cooperation-regional-railways-agreement.txt', '/content/split/speech-by-prime-minister-shri-narendra-modi-to-the-indian-community-in-malaysia-kuala-lumpur-22-november-2015.txt', '/content/split/pm-addresses-swachh-kumbh-swachh-aabhaar-programme-in-prayagraj.txt', '/content/split/pm-expresses-delight-at-bharat-ratna-conferred-on-pt-madan-mohan-malaviya-and-shri-atal-bihari-vajpayee.txt', '/content/split/pms-address-at-the-launch-of-pn-panicker-reading-day-reading-month-celebration.txt', '/content/split/pm-to-visit-arunachal-pradesh-and-jharkhand-tomorrow.txt', '/content/split/pm-greets-the-people-on-the-occasion-of-festival-of-lohri.txt', '/content/split/pm-greets-the-kutchi-community-on-ashadhi-bij-the-kutchi-new-year.txt', '/content/split/report-of-the-sub-group-of-chief-ministers-on-rationalization-of-centrally-sponsored-schemes-submitted-to-pm.txt', '/content/split/india-myanmar-joint-statement-issued-on-the-occasion-of-the-state-visit-of-prime-minister-of-india-to-myanmar.txt', '/content/split/pms-bilateral-engagements-in-brisbane-november-14-2014.txt', '/content/split/approval-to-namami-gange-integrated-ganga-conservation-mission-programme-under-national-ganga-river-basin-authority.txt', '/content/split/pm-pays-tributes-to-mahatma-gandhi-and-lal-bahadur-shastri-on-their-birth-anniversary-2.txt', '/content/split/pm-greets-people-on-the-occasion-of-rath-yatra.txt', '/content/split/pm-launches-various-development-projects-in-patna.txt', '/content/split/cabinet-approves-renaming-of-agartala-airport-tripura-as-maharaja-bir-bikram-manikya-kishore-airport-agartala.txt', '/content/split/pm-reviews-functioning-of-prime-ministers-national-relief-fund-suggests-qualitative-changes.txt', '/content/split/pm-pays-tributes-to-dr-rajendra-prasad-on-his-jayanti.txt', '/content/split/pm-to-visit-gujarat-on-september-30-2018.txt', '/content/split/pm-awards-young-innovators-in-the-indian-army-on-the-occasion-of-army-day.txt', '/content/split/pm-to-attend-ashara-mubaraka-commemoration-of-martyrdom-of-imam-husain-sa.txt', '/content/split/pm-in-varanasi-4.txt', '/content/split/promulgation-of-the-andaman-and-nicobar-islands-anatomy-regulation-2016.txt', '/content/split/pm-condoles-the-loss-of-lives-in-a-bus-accident-in-bareilly-up-announces-ex-gratia-relief-for-victims-of-the-accident.txt', '/content/split/pm-attends-dussehra-celebrations-at-madhav-das-park-red-fort.txt', '/content/split/joint-statement-on-the-visit-of-president-of-the-russian-federation-to-india-for-15th-annual-india-russia-summit.txt', '/content/split/rajasthan-cm-presents-draft-worth-rs-5-crore-to-pm-for-pmnrf.txt', '/content/split/pms-remarks-at-the-launch-of-india-china-forum-of-stateprovincial-leaders.txt', '/content/split/pms-interaction-14th-through-pragati.txt', '/content/split/pm-pays-homage-to-martyrs-of-2001-parliament-attack.txt', '/content/split/pms-address-at-the-valedictory-function-of-new-india-conclave-at-vigyan-bhawan-new-delhi.txt', '/content/split/text-of-pms-statement-to-the-media-at-the-joint-press-briefing-with-president-of-russia.txt', '/content/split/pm-congratulates-mr-benjamin-netanyahu-on-his-re-election-as-the-prime-minister-of-the-state-of-israel.txt', '/content/split/pms-speech-at-the-foundation-stone-laying-ceremony-of-greenfield-airport-for-rajkot-gujarat.txt', '/content/split/prime-ministers-statement-to-media-during-state-visit-of-president-of-maldives.txt', '/content/split/pm-addresses-delegates-at-the-kumbh-global-participation-event-organized-by-iccr.txt', '/content/split/pm-greets-the-people-of-venezuela-on-venezuelas-independence-day.txt', '/content/split/text-of-pms-address-at-the-launch-of-various-developmental-schemes-at-varanasi.txt', '/content/split/pm-inaugurates-centers-of-excellence-at-deen-dayal-hastkala-sankul-in-varanasi.txt', '/content/split/pm-salutes-the-strengths-skills-and-achievements-of-the-girl-child-on-national-girl-child-day.txt', '/content/split/pm-witnesses-signing-of-agreement-for-transfer-of-land-for-construction-of-memorial-for-babasaheb-ambedkar.txt', '/content/split/pms-interaction-through-pragati-8.txt', '/content/split/pm-bows-to-pandit-deendayal-upadhyaya-on-his-birth-anniversary.txt', '/content/split/cabinet-gives-ex-post-facto-approval-to-india-bahrain-agreement-on-cooperation-in-combating-international-terrorism.txt', '/content/split/pm-interacts-with-winners-of-rashtriya-bal-puraskar-2019.txt', '/content/split/reconstitution-of-empowered-committee-regarding-setting-up-of-semiconductor-wafer-fabrication-fab-manufacturing-facilities-in-the-country.txt', '/content/split/pm-reviews-drought-and-water-scarcity-situation-at-high-level-meeting-with-jharkhand-cm.txt', '/content/split/pm-arrives-in-israel-accorded-ceremonial-welcome-at-ben-gurion-airport.txt', '/content/split/pm-salutes-shaheed-udham-singh-on-his-martyrdom-day.txt', '/content/split/pm-unveils-operational-guidelines-for-pradhan-mantri-fasal-bima-yojana-addresses-massive-farmers-rally-in-sehore.txt', '/content/split/pms-remarks-at-the-economic-times-asian-business-leaders-conclave-in-kuala-lumpur.txt', '/content/split/cabinet-approves-mou-between-india-and-australia-on-the-safety-in-mines-testing-and-research-station.txt', '/content/split/pms-address-at-cancer-institute-adyar-chennai.txt', '/content/split/text-of-pms-remarks-at-the-public-gathering-in-chanderkote-ramban-in-jammu-and-kashmir.txt', '/content/split/cabinet-approves-national-policy-on-biofuels-2018.txt', '/content/split/pm-addresses-make-in-india-seminar-in-tokyo-japan.txt', '/content/split/pm-wishes-pakistan-pm-on-his-birthday-will-meet-him-today-in-lahore.txt', '/content/split/pm-addresses-prayer-meeting-in-memory-of-former-pm-atal-bihari-vajpayee.txt', '/content/split/text-of-pms-remarks-at-joint-conference-of-chief-ministers-of-states-and-chief-justices-of-high-courts.txt', '/content/split/cabinet-approves-mou-between-upsc-and-royal-civil-service-commission-bhutan.txt', '/content/split/sri-mata-amritanandamayi-devi-calls-on-pm.txt', '/content/split/pms-address-at-the-inauguration-of-the-samsung-mobile-manufacturing-facility-in-noida-up.txt', '/content/split/pm-wishes-shri-l-k-advani-on-his-birthday.txt', '/content/split/pms-press-statement-during-his-state-visit-to-rwanda.txt', '/content/split/text-of-the-pms-address-at-the-function-organized-by-rickshaw-sangh-in-varanasi.txt', '/content/split/cabinet-approves-abolition-of-separate-guidelines-for-establishing-joint-venture-companies-by-defence-psus.txt', '/content/split/ms-rakiya-edderham-secretary-of-state-in-charge-of-foreign-trade-of-the-kingdom-of-morocco-calls-on-the-pm.txt', '/content/split/text-of-pms-remarks-on-national-panchayati-raj-day.txt', '/content/split/pm-addresses-special-session-of-national-meet-on-promoting-space-technology-based-tools-and-applications-in-governance-and-development.txt', '/content/split/pm-condoles-the-passing-away-of-jk-cm-mufti-mohammad-sayeed.txt', '/content/split/seychelles-parliamentary-delegation-calls-on-prime-minister.txt', '/content/split/cabinet-approves-trade-facilitation-agreement-tfa.txt', '/content/split/cabinet-approves-pan-india-implementation-of-maternity-benefit-program.txt', '/content/split/text-of-pms-speech-at-the-foundation-stone-laying-of-jaffna-cultural-centre.txt', '/content/split/list-of-mousagreements-signed-during-the-visit-of-prime-minister-of-israel-to-india.txt', '/content/split/dato-seri-dr-ahmad-zahid-hamidi-deputy-prime-minister-and-home-minister-of-malaysia-calls-on-pm.txt', '/content/split/cabinet-approves-mou-between-india-and-korea-on-trade-remedy-cooperation.txt', '/content/split/cabinet-approves-national-mission-on-transformative-mobility-and-battery-storage.txt', '/content/split/cabinet-approves-concession-agreements-land-lease-agreements.txt', '/content/split/pm-to-dedicate-indias-longest-road-tunnel-to-the-nation.txt', '/content/split/mr-yohei-sasakawa-calls-on-pm.txt', '/content/split/on-the-eve-of-teachers-day-pms-informal-interaction-with-awardee-teachers.txt', '/content/split/pms-engagements-in-uk-november-12-2015.txt', '/content/split/cabinet-approves-indias-membership-for-european-bank-for-reconstruction-development.txt', '/content/split/cabinet-approves-fugitive-economic-offenders-bill-2018.txt', '/content/split/pm-commends-bank-officers-and-staff-for-successful-roll-out-of-pradhan-mantri-jan-dhan-yojana.txt', '/content/split/text-of-pms-acceptance-speech-at-the-conferment-of-the-bangladesh-liberation-war-honour-on-former-prime-minister-atal-bihari-vajpayee.txt', '/content/split/pm-interacts-with-village-pradhans-from-varanasi-parliamentary-constituency.txt', '/content/split/inculcating-national-pride-through-memorials.txt', '/content/split/pm-greets-people-of-uttarakhand-on-uttarakhand-foundation-day.txt', '/content/split/speech-by-prime-minister-at-the-innovation-summit-in-cop-21-parisnovember-30-2015.txt', '/content/split/pms-remarks-at-joint-conference-of-chief-ministers-of-states-and-chief-justices-of-high-courts.txt', '/content/split/cabinet-approves-expenditure-sanction-for-integrated-e-filing-and-centralized-processing-centre-2-0-project.txt', '/content/split/uday-ujwal-discom-assurance-yojana-for-financial-turnaround-of-power-distribution-companies.txt', '/content/split/cabinet-approves-agreement-between-india-and-the-hksar-of-china-for-the-avoidance-of-double-taxation-and-the-prevention-of-fiscal-evasion-in-income-taxes.txt', '/content/split/cabinet-approves-mou-between-sebi-and-fsc.txt', '/content/split/cabinet-approves-signing-of-a-mou-with-uk-and-northern-ireland-on-cooperation-in-the-field-of-skill-development-vocational-education-and-training.txt', '/content/split/pm-condoles-the-passing-away-of-kuldip-nayar.txt', '/content/split/cabinet-approves-mou-between-india-and-bangladesh-for-fairway-development-of-kushiyara-river-and-jamuna-river.txt', '/content/split/india-france-joint-statement-during-state-visit-of-president-of-france-to-india.txt', '/content/split/prime-minister-to-inaugurate-the-ring-road-and-babatpur-airport-road-in-varanasi-tomorrow.txt', '/content/split/pm-condoles-the-death-of-farmer-gajendra.txt', '/content/split/pms-meeting-with-dr-sai-mawk-kham-vice-president-of-myanmar.txt', '/content/split/cabinet-approves-mou-between-india-and-zambia-in-the-field-of-judicial-cooperation.txt', '/content/split/pms-speech-at-the-release-of-postal-stamp-on-ramayana-at-tulsi-manas-temple-varanasi.txt', '/content/split/cabinet-approves-extension-of-delhi-metro-corridor-from-dilshad-garden-to-new-bus-adda-ghaziabad.txt', '/content/split/pm-inaugurates-new-building-of-national-museum-of-indian-cinema.txt', '/content/split/pm-interacts-with-people-affected-by-cyclone-ockhi.txt', '/content/split/pm-pays-tributes-to-dr-babasaheb-ambedkar-on-his-nirvan-divas.txt', '/content/split/pm-gives-away-the-times-now-amazing-indians-awards-2016.txt', '/content/split/pm-to-visit-madhya-pradesh-on-23rd-june-2018.txt', '/content/split/shri-narendra-modi-sworn-in-as-prime-minister-with-council-of-ministers.txt', '/content/split/text-of-pms-remarks-at-the-indian-community-reception-in-tokyo.txt', '/content/split/foreign-minister-of-japan-calls-on-pm.txt', '/content/split/amendments-in-the-commercial-courts-commercial-division-and-commercial-appellate-division-of-high-courts-bill-2015-as-introduced-in-the-lok-sabha.txt', '/content/split/pm-greets-the-people-of-sri-lanka-on-their-independence-day.txt', '/content/split/pm-releases-photo-book-titled-president-pranab-mukherjee-a-statesman.txt', '/content/split/pm-releases-the-z-factor-a-book-written-by-shri-subhash-chandra.txt', '/content/split/exchange-of-airports-authority-of-indias-land-at-visakhapatnam-airport-with-an-equivalent-area-of-land-offered-by-visakhapatnam-port-trust-for-setting-up-of-multi-modal-logistics-park-by-ms-contai.txt', '/content/split/pm-condoles-the-demise-of-shri-naresh-chandra.txt', '/content/split/pms-mann-ki-baat-programme-at-all-india-radio.txt', '/content/split/pm-to-visit-jammu-and-kashmir-tomorrow.txt', '/content/split/pm-interacts-with-members-of-self-help-groups-across-the-country-through-video-bridge.txt', '/content/split/press-statement-by-pm-modi-during-his-state-visit-to-palestine.txt', '/content/split/cabinet-approves-memorandum-of-cooperation-between-india-and-japan-in-the-field-of-healthcare-and-wellness.txt', '/content/split/cabinet-approves-mou-between-india-and-indonesia-on-cooperation-in-the-field-of-pharmaceutical-products-pharmaceutical-substances-biological-product-and-cosmetics-regulatory-functions.txt', '/content/split/pm-inaugurates-urban-development-projects-gives-away-swachh-survekshan-awards-in-indore.txt', '/content/split/cabinet-approves-rehabilitation-package-and-upgradation-of-infrastructure-of-the-bangladeshi-enclaves.txt', '/content/split/text-of-pms-address-on-the-inauguration-of-afghanistan-india-friendship-dam-in-herat.txt', '/content/split/pm-unveils-basaveshwara-statue-inaugurates-dr-ambedkar-memorial-in-london.txt', '/content/split/pm-attends-mass-yoga-demonstration-at-lucknow-on-the-occasion-of-international-day-of-yoga.txt', '/content/split/pms-address-at-the-inauguration-of-construction-technology-india-2019-in-new-delhi.txt', '/content/split/text-of-pms-address-at-the-inauguration-ceremony-of-10th-annual-convention-of-central-information-commission.txt', '/content/split/pms-statement-to-media-outside-parliament-house.txt', '/content/split/senior-leaders-of-muslim-community-call-on-pm.txt', '/content/split/visit-of-prime-minister-of-malta-to-india-to-attend-vibrant-gujarat-summit-2019.txt', '/content/split/pms-address-at-the-concluding-session-of-mahatma-gandhi-international-sanitation-convention.txt', '/content/split/pms-speech-at-the-civic-reception-at-barahbiga-ground-in-janakpur-nepal.txt', '/content/split/pm-greets-and-salutes-the-teaching-community-on-teachers-day-pays-tributes-to-dr-sarvepalli-radhakrishnan.txt', '/content/split/pm-to-visit-mumbai-on-11th-august-2018.txt', '/content/split/cabinet-approves-continuation-of-pradhan-mantri-swasthya-suraksha-yojana-upto-2019-20.txt', '/content/split/pm-to-visit-karnataka-tomorrow.txt', '/content/split/pm-greets-the-people-of-djibouti-on-djiboutis-independence-day.txt', '/content/split/namami-gange.txt', '/content/split/prime-ministers-address-to-the-joint-session-of-u-s-congress.txt', '/content/split/pm-launches-swachh-bharat-abhiyaan.txt', '/content/split/pm-lays-foundation-stone-for-dr-ambedkar-national-memorial-delivers-dr-ambedkar-memorial-lecture.txt', '/content/split/pm-addresses-gathering-at-dussehra-mahotsav-aishbagh-ramleela-ground-lucknow.txt', '/content/split/pms-mann-ki-baat-programme-on-all-india-radio-6.txt', '/content/split/pms-address-at-the-international-diamond-conference-mines-to-market-2017-via-vc.txt', '/content/split/pm-assesses-preparations-towards-housing-for-all.txt', '/content/split/pm-congratulates-indian-blind-cricket-team-for-winning-t20-world-cup.txt', '/content/split/cabinet-approves-mou-between-india-and-suriname-for-cooperation-in-the-field-of-electoral-management-and-administration.txt', '/content/split/pm-to-visit-jhansi-in-uttar-pradesh-tomorrow.txt', '/content/split/text-of-pms-remarks-on-50th-jnanpeeth-award-ceremony.txt', '/content/split/pm-invites-ideas-for-the-upcoming-national-youth-festival-2016.txt', '/content/split/text-of-pms-remarks-during-the-launch-of-pt-madan-mohan-malviya-national-mission-on-teachers-and-teaching-at-bhu-varanasi.txt', '/content/split/pm-at-dantewada.txt', '/content/split/pm-visits-champalimaud-foundation-in-lisbon.txt', '/content/split/cabinet-approves-recommendations-of-14th-finance-commission-on-fiscal-deficit-targets-and-additional-fiscal-deficit-to-states-during-2015-20.txt', '/content/split/cabinet-approves-introduction-of-the-revamped-merchant-shipping-bill-2016.txt', '/content/split/president-putins-gifts-to-pm.txt', '/content/split/signing-and-ratification-of-the-bimstec-convention-on-mutual-legal-assistance-in-criminal-matters.txt', '/content/split/pms-speech-at-the-golden-jubilee-celebrations-of-baif-at-pune-via-video-conferencing.txt', '/content/split/pm-offers-floral-tributes-to-bal-gangadhar-tilak.txt', '/content/split/pm-congratulates-indian-badminton-players-jwala-gutta-and-ashwini-ponnappa-on-winning-womens-doubles-title-in-canada-open.txt', '/content/split/cabinet-approves-signing-of-a-moc-between-india-and-united-states-of-america-on-homeland-security.txt', '/content/split/pm-and-president-putin-exchange-greetings.txt', '/content/split/pm-to-interact-with-sugarcane-farmers.txt', '/content/split/pm-to-address-credai-youthcon-19-tomorrow.txt', '/content/split/pm-expresses-happiness-over-the-news-of-27-increase-in-population-of-asiatic-lions.txt', '/content/split/pms-speech-at-foundation-stone-ceremony-of-bridge-between-okha-and-bet-dwarka-in-dwarka.txt', '/content/split/pms-independence-day-speech-2018-highlights.txt', '/content/split/pm-launches-udan-regional-connectivity-scheme-for-civil-aviation-from-shimla.txt', '/content/split/pm-reviews-drought-and-water-scarcity-situation-at-high-level-meeting-with-karnataka-cm.txt', '/content/split/cabinet-approves-cooperation-agreement-between-india-and-denmark-in-the-field-of-renewable-energy-with-focus-on-offshore-wind-energy.txt', '/content/split/pm-dedicates-the-centre-for-nano-science-engineering-to-the-nation-at-indian-institute-of-science.txt', '/content/split/pm-condemns-terrorist-attack-near-kabul.txt', '/content/split/cabinet-gives-approval-for-introduction-of-constitution-123rd-amendment-bill-2017-and-ncbc-repeal-bill-2017.txt', '/content/split/pms-interaction-with-global-oil-and-gas-ceos-and-experts.txt', '/content/split/signing-of-saarc-framework-agreement-for-energy-cooperation-electricity-among-the-saarc-member-countries-in-the-forthcoming-18th-saarc-summit.txt', '/content/split/pms-address-to-indian-community-at-madison-square-garden-new-york.txt', '/content/split/call-on-pm-by-mr-han-zheng-party-secretary-of-shanghai-and-member-of-the-politburo-of-the-communist-party-of-china.txt', '/content/split/pm-meets-the-foreign-minister-of-bahrain.txt', '/content/split/implementation-of-the-rural-housing-scheme-of-pradhan-mantri-awaas-yojana-gramin-to-achieve-housing-for-all-by-2022.txt', '/content/split/india-nepal-joint-statement-during-the-state-visit-of-prime-minister-of-nepal-to-india.txt', '/content/split/representatives-of-girl-rising-campaign-call-on-pm.txt', '/content/split/shri-mumtaz-ali-calls-on-pm.txt', '/content/split/pms-message-on-earth-day.txt', '/content/split/cabinet-approves-mou-on-cooperation-in-the-peaceful-uses-of-outer-space-between-india-and-armenia.txt', '/content/split/cabinet-approves-mou-between-india-and-denmark-on-technical-cooperation-in-the-field-of-sustainable-and-smart-urban-development.txt', '/content/split/pm-meets-the-first-vice-president-of-cuba.txt', '/content/split/pm-visits-queensland-university-of-technology-at-brisbane.txt', '/content/split/pms-address-at-dedication-of-guru-gobind-singh-hospital-to-the-nation-in-jamnagar.txt', '/content/split/pm-to-address-the-students-convention-on-the-occasion-of-125th-anniversary-of-swami-vivekanandas-chicago-address-and-pt-deendayal-upadhyayas-centenary-celebrations.txt', '/content/split/text-of-pms-address-at-the-mass-yoga-demonstration-event-at-rajpath-on-the-occasion-of-first-international-yoga-day.txt', '/content/split/cabinet-approves-establishing-indias-first-national-rail-and-transportation-university-at-vadodara.txt', '/content/split/pm-greets-the-people-on-onam-3.txt', '/content/split/excerpts-of-pms-address-at-the-launch-of-shyama-prasad-mukherji-rurban-mission.txt', '/content/split/pm-shares-his-vision-for-varanasis-renewal-kayakalp-in-an-interaction-with-leading-citizens.txt', '/content/split/cabinet-apprised-of-an-mou-signed-between-india-and-sri-lanka-for-promoting-cooperation-in-the-field-of-information-technology-and-electronics.txt', '/content/split/shared-vision-of-india-indonesia-maritime-cooperation-in-the-indo-pacific.txt', '/content/split/pm-to-inaugurate-third-annual-meeting-of-aiib-in-mumbai-tomorrow-interact-with-business-leaders.txt', '/content/split/pms-interaction-with-additional-secretaries-and-joint-secretaries.txt', '/content/split/pms-opening-statement-at-brics-leaders-meeting-in-brisbane-australia.txt', '/content/split/pms-speech-in-varanasi-laying-the-foundation-stone-of-urja-ganga-project-png-pipeline-doubling-varanasi-allahabad-rail-track-24-10-2016.txt', '/content/split/pm-congratulates-arpinder-singh-on-winning-gold-in-mens-triple-jump-event.txt', '/content/split/pm-visits-lt-workers-residential-complex-in-riyadh.txt', '/content/split/companies-amendment-bill-2014-2.txt', '/content/split/pm-praises-comments-and-ideas-received-for-mann-ki-baat-radio-programme.txt', '/content/split/pm-condoles-the-passing-away-of-lok-sabha-mp-shri-kapil-krishna-thakur.txt', '/content/split/pm-greets-the-people-on-onam.txt', '/content/split/cabinet-considers-model-shops-and-establishments-regulation-of-employment-and-conditions-of-service-bill-2016.txt', '/content/split/pm-congratulates-successful-candidates-of-civil-services-examination-2.txt', '/content/split/pm-chairs-first-meeting-of-the-national-committee-for-celebration-of-125th-birth-anniversary-of-dr-b-r-ambedkar.txt', '/content/split/pms-opening-remarks-to-the-participants-of-smart-india-hackathon-2017-via-video-conferencing.txt', '/content/split/pm-bows-to-all-brave-soldiers-who-fought-for-the-motherland-on-the-50th-anniversary-of-1965-war.txt', '/content/split/cabinet-approves-the-allied-and-healthcare-professions-bill.txt', '/content/split/pm-addresses-event-to-mark-world-biofuel-day.txt', '/content/split/pm-hosts-farewell-dinner-in-honour-of-gen-bikram-singh.txt', '/content/split/pm-prays-for-everyones-safety-in-the-strong-earthquake-in-afghanistan-pakistan-region-asks-for-an-urgent-assessment-of-the-damage-caused-due-to-the-earthquake.txt', '/content/split/pm-lays-foundation-stone-for-poorvanchal-expressway-in-azamgarh.txt', '/content/split/pm-to-visit-bihar-tomorrow.txt', '/content/split/pm-salutes-the-martyrs-who-lost-their-lives-during-attack-on-indian-parliament-in-2001.txt', '/content/split/pm-invites-everyone-across-the-world-to-visit-india-on-the-occasion-of-world-tourism-day.txt', '/content/split/pm-announces-ex-gratia-for-the-next-of-kin-of-those-who-lost-their-lives-due-to-collapse-of-an-under-construction-flyover-in-varanasi-from-pmnrf.txt', '/content/split/pm-felicitates-medal-winners-of-2018-asian-para-games.txt', '/content/split/pm-sanctions-ex-gratia-relief-for-victims-of-militant-attacks-on-tribals-in-assam.txt', '/content/split/pm-to-visit-kerala.txt', '/content/split/pms-engagements-in-china-may-14th-2015.txt', '/content/split/cabinet-approves-mou-between-india-and-vietnam-in-the-field-of-cyber-security.txt', '/content/split/cabinet-approves-enhancement-of-age-of-superannuation-of-doctors-other-than-central-health-service-doctors-to-65-years.txt', '/content/split/cabinet-approves-mou-between-india-and-portugal-on-cooperation-in-the-field-of-ite.txt', '/content/split/pms-address-during-his-interaction-with-the-beneficiaries-of-digital-india.txt', '/content/split/cabinet-approves-agreement-between-india-and-uzbekistan-on-cooperation-in-the-exploration-and-uses-of-outer-space-for-peaceful-purposes.txt', '/content/split/text-of-pms-address-at-the-launch-of-setu-bharatam-programme.txt', '/content/split/pm-to-launch-major-support-and-outreach-initiative-for-msme-sector-on-november-02-2018.txt', '/content/split/pms-bilateral-engagements-at-nay-pyi-taw.txt', '/content/split/pm-condoles-demise-of-kader-khan.txt', '/content/split/pms-engagements-on-2nd-october-2015-2.txt', '/content/split/pm-condoles-the-loss-of-lives-due-to-the-derailing-of-the-patna-indore-express.txt', '/content/split/pms-upcoming-visit-to-five-central-asian-nations-and-russia.txt', '/content/split/creation-of-supernumerary-post-in-rank-of-air-marshal-in-iaf-for-17-months-for-abiding-by-orders-of-honble-armed-forces-tribunal-principal-bench-new-delhi.txt', '/content/split/pms-remarks-at-the-10th-annual-convention-of-the-central-information-commission-cic.txt', '/content/split/pm-condoles-the-passing-away-of-shri-praveen-rashtrapal.txt', '/content/split/cabinet-approves-mou-between-india-and-iran-for-cooperation-in-the-field-of-agriculture-and-allied-sectors.txt', '/content/split/pm-expresses-anguish-over-the-flood-situation-in-various-parts-of-northeast.txt', '/content/split/cabinet-approves-mou-between-india-and-france-on-technical-cooperation-in-civil-aviation.txt', '/content/split/intervention-by-prime-minister-shri-narendra-modi-at-g-20-working-dinner-global-challenges-terrorism-and-refugee-crisis-15-november-2015.txt', '/content/split/prime-minister-pays-tributes-to-guru-ravidas-on-his-jayanti.txt', '/content/split/pm-to-make-an-aerial-survey-of-flood-affected-areas-of-gujarat-today-afternoon.txt', '/content/split/pm-makes-aerial-survey-of-flood-affected-areas-of-gujarat-reviews-flood-relief-at-a-high-level-meeting-at-ahmedabad-airport.txt', '/content/split/cabinet-approves-restructuring-of-the-indian-bureau-of-mines-ibm.txt', '/content/split/cabinet-approves-mou-between-india-and-kenya-on-bilateral-cooperation-in-the-field-of-agriculture-and-allied-sectors.txt', '/content/split/text-of-pms-press-statement-during-the-joint-press-briefing-with-sri-lankan-prime-minister-mr-ranil-wickremesinghe.txt', '/content/split/text-of-prime-ministers-inaugural-address-at-delhi-economics-conclave.txt', '/content/split/pms-remarks-at-the-press-briefing-with-president-xi-jinping-of-china.txt', '/content/split/text-of-pms-remarks-to-the-media-during-the-joint-press-statement-with-german-chancellor-angela-merkel-at-berlin.txt', '/content/split/pm-pays-tributes-to-former-pm-chaudhary-charan-singh-on-his-birth-anniversary.txt', '/content/split/cabinet-approves-laying-down-procedure-and-mechanism-for-sale-of-enemy-shares.txt', '/content/split/pm-chairs-meeting-of-csir-society.txt', '/content/split/cabinet-approves-measures-to-promote-hydro-power-sector.txt', '/content/split/cabinet-approves-enactment-of-admiralty-bill-2016-and-to-repeal-five-archaic-admiralty-statutes.txt', '/content/split/united-states-congressional-delegation-calls-on-prime-minister-2.txt', '/content/split/pm-to-visit-surat-and-dandi-gujarat-on-30-january-2019.txt', '/content/split/prime-minister-narendra-modis-appeal.txt', '/content/split/pm-bows-to-lokmanya-bal-gangadhar-tilak-on-his-birth-anniversary.txt', '/content/split/pm-greets-the-muslim-community-on-ramzan.txt', '/content/split/pm-pays-homage-at-amar-jawan-jyoti-on-the-golden-jubilee-to-commemorate-the-victory-and-sacrifice-of-indian-soldiers-in-the-1965-war.txt', '/content/split/pm-congratulates-the-indian-scientists-who-are-among-the-recipients-of-the-special-breakthrough-prize-in-fundamental-physics.txt', '/content/split/mr-laurent-fabius-minister-of-foreign-affairs-and-international-development-of-france-calls-on-pm.txt', '/content/split/gen-fan-changlong-vice-chairman-of-central-military-commission-of-the-peoples-republic-of-china-calls-on-pm.txt', '/content/split/cabinet-approves-extension-of-the-term-of-the-commission-to-examine-the-issue-of-sub-categorization-of-other-backward-classes-in-the-central-list.txt', '/content/split/pm-wishes-people-on-world-health-day.txt', '/content/split/cabinet-approves-amendment-of-the-public-premises-act-1971.txt', '/content/split/pms-address-at-the-inauguration-of-textile-india-2017.txt', '/content/split/text-of-37th-singapore-lecture-indias-singapore-story-by-prime-minister-during-his-visit-to-singapore.txt', '/content/split/pm-to-visit-chandigarh-and-uttarakhand-tomorrow.txt', '/content/split/pm-plants-kadamb-sapling-on-world-environment-day.txt', '/content/split/pm-visits-irri-mahaveer-philippine-foundation.txt', '/content/split/us-president-barack-obama-calls-pm-extends-greetings-on-diwali.txt', '/content/split/pms-telephonic-conversation-with-german-chancellor-angela-merkel.txt', '/content/split/text-of-pms-statement-to-media-in-the-joint-press-briefing-with-prime-minister-of-malaysia.txt', '/content/split/pm-launches-pradhan-mantri-saubhagya-yojana-dedicates-deendayal-urja-bhawan-to-the-nation.txt', '/content/split/text-of-pms-mann-ki-baat-on-all-india-radio-3.txt', '/content/split/pms-statement-ahead-of-budget-session-of-parliament.txt', '/content/split/pms-statement-to-media-outside-parliament-house-at-the-start-of-winter-session-of-parliament.txt', '/content/split/cabinet-gives-approval-to-the-mou-between-india-and-the-uae-in-the-field-of-providing-energy-efficiency-services.txt', '/content/split/pm-salutes-the-hardwork-determination-and-dedication-of-millions-of-shramiks-on-labour-day.txt', '/content/split/pm-greets-the-nation-in-sanskrit-on-sanskrit-day.txt', '/content/split/pms-interaction-through-pragati-2.txt', '/content/split/pms-reply-to-the-no-confidence-motion-in-lok-sabha.txt', '/content/split/pm-to-launch-swachhata-hi-seva-movement-on-september-15th-2018.txt', '/content/split/pms-address-at-inauguration-and-foundation-stone-laying-ceremony-of-various-development-projects-at-barauni-bihar.txt', '/content/split/pm-participates-in-mass-yoga-demonstration-in-chandigarh.txt', '/content/split/twitter-ceo-dick-costolo-calls-on-pm.txt', '/content/split/pms-address-at-karnataka-lingayat-education-society-centenary-celebrations-belagavi-karnataka.txt', '/content/split/pm-approves-grant-of-rs-3-lakh-from-pmnrf-for-the-treatment-of-smt-doris-francis.txt', '/content/split/cabinet-approves-mou-between-india-and-serbia-for-cooperation-in-the-field-of-it-and-electronics.txt', '/content/split/text-of-pms-address-at-the-mof-imf-conference-on-advancing-asia-investing-for-the-future.txt', '/content/split/pms-statement-at-sco-summit-in-astana-kazakhstan.txt', '/content/split/cabinet-approves-mou-between-forum-of-regulators-and-the-national-association-of-regulatory-utility-commissioners.txt', '/content/split/pm-pays-tributes-to-major-dhyan-chand-on-national-sports-day-congratulates-the-sportspersons-and-coaches-to-be-honoured-with-various-sports-awards.txt', '/content/split/pms-address-at-the-inauguration-of-chhattisgarh-rajyotsav-2016-at-rajyotsav-mela-ground.txt', '/content/split/pm-speaks-to-chief-minister-of-west-bengal-on-the-situation-arising-due-to-the-collapse-of-an-under-construction-flyover-in-kolkata.txt', '/content/split/pms-speech-at-foundation-stone-laying-ceremony-of-pakal-dul-power-project-and-inauguration-of-several-projects-in-jammu.txt', '/content/split/pm-addresses-conference-of-directors-general-of-police.txt', '/content/split/cabinet-approves-rationalizationmerger-of-the-government-of-india-press-gips-and-their-modernization.txt', '/content/split/revised-cost-estimate-of-the-mangadechhu-hydroelectric-project-in-bhutan.txt', '/content/split/promulgation-of-the-arbitration-and-conciliation-amendment-ordinance-2014-for-improving-ease-of-doing-business-in-india.txt', '/content/split/pm-strongly-condemns-attack-in-kokrajhar.txt', '/content/split/pm-pays-tributes-to-former-prime-minister-of-india-shri-pv-narasimha-rao-on-his-birth-anniversary.txt', '/content/split/making-digital-payments-a-mass-movement-in-india.txt', '/content/split/cabinet-approves-agreement-between-india-and-algeria-on-cooperation-in-the-field-of-space-sciences-technologies-and-applications.txt', '/content/split/pms-address-at-the-launch-of-interactive-digital-exhibition-marking-100-years-of-champaran-satyagraha.txt', '/content/split/pm-in-lok-sabha-gst-is-a-great-step-by-team-india-great-step-towards-transformation.txt', '/content/split/u-s-secretary-of-state-john-kerry-and-secretary-of-commerce-penny-pritzker-call-on-pm.txt', '/content/split/cabinet-approves-agreement-between-india-and-belarus-on-scientific-and-technological-cooperation-for-mutual-benefit-in-the-areas-of-science-technology-agriculture-etc.txt', '/content/split/controls-imposed-under-the-essential-commodities-act-1995-extension-of-validity-of-the-central-order-no-so-2559e-dated-30-9-2014-in-respect-of-pulses-edible-oils-and-edible-oilseeds-bey.txt', '/content/split/pm-visits-hazaribagh-in-jharkhand-unveils-several-development-projects.txt', '/content/split/cabinet-apprised-of-the-mou-between-india-and-uk-and-northern-ireland-on-the-cooperation-in-the-fields-of-animal-husbandry-dairying-and-fisheries.txt', '/content/split/amendments-to-the-merchant-shipping-amendment-bill-2013.txt', '/content/split/joint-press-statement-from-the-summit-between-india-and-the-nordic-countries.txt', '/content/split/cabinet-approves-revision-of-the-agreement-between-india-and-qatar-for-the-avoidance-of-double-taxation-and-prevention-of-fiscal-evasion-with-respect-to-taxes-on-income.txt', '/content/split/defence-minister-of-japan-mr-gen-nakatani-calls-on-pm.txt', '/content/split/pm-to-launch-stand-up-india-initiative-at-noida-tomorrow.txt', '/content/split/pm-condoles-the-passing-away-of-pandit-dharmsheel-chaturvedi.txt', '/content/split/corporate-sector-extends-support-to-flood-affected-people-of-jammu-and-kashmir.txt', '/content/split/pms-address-at-india-korea-business-summit-2018.txt', '/content/split/pm-announces-additional-ex-gratia-relief-from-pms-relief-fund-for-those-affected-by-the-train-derailments-in-madhya-pradesh.txt', '/content/split/pm-salutes-the-soldiers-and-veterans-of-armed-forces-on-armed-forces-flag-day.txt', '/content/split/cabinet-approves-revised-pay-scales-of-teachers-and-equivalent-academic-staff-in-universitiescolleges-centrally-funded-technical-institutions.txt', '/content/split/pms-upcoming-visit-to-israel-and-germany.txt', '/content/split/hydrocarbon-exploration-and-licensing-policy-help.txt', '/content/split/pm-expresses-grief-over-loss-of-lives-in-uttarakhand-due-to-cloudburst.txt', '/content/split/prime-minister-to-address-global-celebrations-of-world-enviroment-day.txt', '/content/split/pm-greets-the-people-of-the-republic-of-korea-on-liberation-day.txt', '/content/split/approval-for-gsat-18-communication-satellite-and-launch-services.txt', '/content/split/pm-interacts-with-beneficiaries-of-pradhan-mantri-bhartiya-janaushadhi-pariyojana.txt', '/content/split/pm-addresses-event-to-mark-swachh-bharat-diwas-3rd-anniversary-of-the-swachh-bharat-mission-and-conclusion-of-swachhata-hi-seva-fortnight.txt', '/content/split/pms-statement-ahead-of-upcoming-8th-brics-summit-and-first-brics-bimstec-outreach-summit.txt', '/content/split/pm-expresses-sadness-over-the-news-of-plane-crash-in-indonesia.txt', '/content/split/pm-congratulates-defence-scientists-on-the-successful-demonstration-of-ballistic-missile-defence-capability.txt', '/content/split/pms-e-mail-message-to-all-teachers-on-teachers-day.txt', '/content/split/pms-telephonic-conversation-with-mr-malcolm-turnbull-prime-minister-of-australia.txt', '/content/split/cabinet-approves-setting-up-of-national-resource-facility-for-bio-medical-research-narf-at-genome-valley-in-hyderabad.txt', '/content/split/pms-address-at-the-inaugural-session-of-petrotech-2016-exhibition.txt', '/content/split/cabinet-approves-mou-between-india-and-germany.txt', '/content/split/pm-pays-homage-to-soldiers-on-kargil-vijay-diwas.txt', '/content/split/pm-expresses-grief-and-solidarity-with-myanmar-in-the-face-of-flood-emergency.txt', '/content/split/group-of-secretaries-presents-ideas-on-transport-and-communications-to-pm.txt', '/content/split/cabinet-approves-investment-cooperation-and-facilitation-treaty-between-india-and-brazil.txt', '/content/split/site-for-construction-of-national-war-memorial-and-national-war-museum.txt', '/content/split/pm-speaks-to-nepal-pm-shri-sushil-koirala.txt', '/content/split/pm-salutes-the-unparalleled-accomplishments-of-the-girl-childon-national-girl-child-day.txt', '/content/split/cabinet-approves-setting-up-centre-for-disability-sports-at-gwalior-in-madhya-pradesh.txt', '/content/split/pm-addresses-valedictory-session-of-the-national-conference-of-women-legislators.txt', '/content/split/pm-pays-tributes-to-savitribai-phule-on-her-jayanti.txt', '/content/split/pms-address-at-samajik-adhikarita-shivir-in-rajkot-gujarat.txt', '/content/split/pm-visits-vadnagar-launches-intensified-mission-indradhanush-addresses-public-meeting.txt', '/content/split/joint-statement-during-the-visit-of-prime-minister-to-usa.txt', '/content/split/transfer-of-50-acre-of-land-from-central-sheep-wool-research-institute-avikanagar-to-the-govt-of-rajasthan-for-establishment-of-veterinary-university-training-and-research-centre.txt', '/content/split/pm-reviews-progress-of-pradhan-mantri-krishi-sinchai-yojana.txt', '/content/split/prime-minister-to-chair-the-4th-meeting-of-the-governing-council-of-niti-aayog-on-june-17-2018.txt', '/content/split/ficci-delegation-calls-on-pm.txt', '/content/split/text-of-pms-address-at-bangabandhu-convention-centre.txt', '/content/split/national-skill-development-mission.txt', '/content/split/pms-telephonic-conversation-with-crown-prince-of-abu-dhabi.txt', '/content/split/pm-expresses-sadness-at-the-passing-away-of-mr-beau-biden.txt', '/content/split/pm-greets-japanese-pm-shinzo-abe-on-his-birthday.txt', '/content/split/cabinet-approves-mou-on-upgradation-of-the-womens-police-training-centre-at-yamethin-myanmar.txt', '/content/split/pms-address-to-the-nation.txt', '/content/split/pms-address-at-the-ground-breaking-ceremony-of-indias-first-high-speed-rail-project-in-ahmedabad.txt', '/content/split/pm-expresses-happiness-as-citizens-exchange-notes-in-a-patient-and-orderly-manner.txt', '/content/split/pm-attends-friends-of-india-event-in-moscow.txt', '/content/split/pm-reviews-progress-of-soil-health-cards-and-pmfby.txt', '/content/split/pm-interacts-with-recipients-of-nari-shakti-puraskar.txt', '/content/split/pm-visits-national-crisis-management-centre-in-moscow.txt', '/content/split/%E0%A4%AE%E0%A5%87%E0%A4%B0%E0%A5%87-%E0%A4%B2%E0%A4%BF%E0%A4%8F-%E0%A4%8F%E0%A4%AB%E0%A4%A1%E0%A5%80%E0%A4%86%E0%A4%88-%E0%A4%95%E0%A5%80-%E0%A4%AA%E0%A4%B0%E0%A4%BF%E0%A4%AD.txt', '/content/split/cabinet-apprised-of-the-mou-between-india-and-angola-for-promoting-bilateral-cooperation-in-the-field-of-electronics-and-it.txt', '/content/split/pms-remarks-at-international-conference-on-yoga-for-holistic-health.txt', '/content/split/pm-congratulates-tennis-players-sania-mirza-and-martina-hingis-on-winning-wimbledon-womens-doubles-title.txt', '/content/split/pm-speaks-to-kerala-cm-regarding-flood-situation-in-the-state-offers-all-possible-assistance.txt', '/content/split/pm-greets-the-president-shri-pranab-mukherjee-on-his-birthday-2.txt', '/content/split/pms-announcements-during-his-address-to-the-constituent-assembly-of-nepal.txt', '/content/split/pm-and-bangladesh-pm-jointly-dedicate-second-cross-border-transmission-interconnection-system-between-india-and-bangladesh.txt', '/content/split/cabinet-approves-setting-up-of-medical-college-at-silvassa-in-the-ut-of-dadra-and-nagar-haveli.txt', '/content/split/boost-to-digital-payments-promotion-on-ambedkar-jayanti-pm-to-release-bhim-aadhar.txt', '/content/split/foreign-minister-of-spain-calls-on-pm.txt', '/content/split/pm-welcomes-the-kigali-agreement.txt', '/content/split/newly-elected-sarpanches-from-jk-call-on-pm.txt', '/content/split/pm-lays-foundation-stone-of-integrated-command-and-control-centres-in-sikkim-arunachal-pradesh-and-tripura.txt', '/content/split/pms-bilateral-engagements-on-the-sidelines-of-g20-summit-nov-15-2015.txt', '/content/split/cabinet-approves-reforms-to-boost-employment-generation-and-exports-in-the-made-ups-sector.txt', '/content/split/pms-remarks-at-the-12th-india-asean-summit-nay-pyi-taw-myanmar.txt', '/content/split/winding-up-of-hindustan-diamond-company-private-limited.txt', '/content/split/pm-greets-everyone-on-the-auspicious-occasion-of-gurupurab.txt', '/content/split/important-milestone-in-the-declassification-of-netaji-files.txt', '/content/split/pms-reply-on-motion-of-thanks-on-presidents-address-in-lok-sabha-elected-mps-are-custodians-of-hope-and-aspirations-of-the-people-pm-calls-for-a-collective-spirit-in-parliament-to-take-the-natio.txt', '/content/split/pm-delivers-convocation-address-at-the-national-institute-of-mental-health-and-neuro-sciences-bengaluru.txt', '/content/split/cabinet-approves-creation-of-the-national-bench-of-the-goods-and-services-tax-appellate-tribunal-gstat.txt', '/content/split/pm-arrives-at-tekanpur-attends-conference-of-dgsp-and-igsp.txt', '/content/split/pm-presents-awards-addresses-civil-servants-on-civil-services-day.txt', '/content/split/pm-speaks-to-various-leaders-after-the-signing-of-historic-peace-accord-between-government-of-india-and-nationalist-socialist-council-of-nagaland-nscn.txt', '/content/split/pm-lays-foundation-stone-to-mark-the-commencement-of-work-for-9th-round-of-city-gas-distribution.txt', '/content/split/pm-to-attend-14th-asean-india-summit-and-11th-east-asia-summit-at-vientiane-laos.txt', '/content/split/pm-condoles-the-loss-of-lives-in-various-parts-of-the-country-2.txt', '/content/split/pm-condoles-the-loss-of-lives-in-gujarat-2.txt', '/content/split/pms-engagements-with-german-chancellor-angela-merkel-in-bengaluru.txt', '/content/split/text-of-pms-address-at-the-foundation-ceremony-of-amaravathi-new-capital-city-of-andhra-pradesh.txt', '/content/split/pms-address-to-the-beneficiaries-of-pradhan-mantri-awas-yojana.txt', '/content/split/cabinet-approves-continuation-of-nlcpr-scheme-for-north-east-till-march-2020.txt', '/content/split/pms-remarks-in-the-rajya-sabha-on-the-farewell-of-vice-president-hamid-ansari-2.txt', '/content/split/pm-pays-tributes-to-netaji-subhas-chandra-bose-on-his-birth-anniversary-2.txt', '/content/split/pm-reviews-progress-of-key-infrastructure-sectors.txt', '/content/split/cabinet-approves-signing-of-mou-between-india-and-spain-on-cooperation-in-the-sphere-of-civil-aviation.txt', '/content/split/pm-recalls-dr-ambedkars-exemplary-contribution-in-his-remarks-in-rajya-sabha-during-discussion-on-constitution-day.txt', '/content/split/prime-minister-condoles-the-passing-away-of-justice-krishna-iyer.txt', '/content/split/text-of-the-prime-minister-shri-narendra-modis-address-at-the-ceremony-held-to-rededicate-sir-h-n-reliance-foundation-hospital-and-research-centre-in-mumbai.txt', '/content/split/pms-statement-to-the-media-during-his-visit-to-australia-november-18-2014.txt', '/content/split/yousuf-bin-alawi-bin-abdullah-minister-responsible-for-foreign-affairs-of-oman-calls-on-prime-minister.txt', '/content/split/pm-remembers-noble-ideals-and-thoughts-of-maharshi-valmiki-on-valmiki-jayanti.txt', '/content/split/pm-to-visit-rajasthan-tomorrow.txt', '/content/split/pm-congratulates-scientists-for-successful-launch-of-gslv-mk-iii.txt', '/content/split/text-of-pms-address-to-the-indian-community-at-sap-centre-san-jose.txt', '/content/split/text-of-pms-remarks-after-inaugurating-the-tcs-japan-technology-and-culture-academy.txt', '/content/split/pm-reviews-progress-of-aadhar-and-direct-benefit-transfer-programmes.txt', '/content/split/pm-condoles-the-demise-of-former-cji-justice-as-anand.txt', '/content/split/pm-holds-talks-with-president-mariano-rajoy-in-madrid-seven-agreements-exchanged-between-india-and-spain.txt', '/content/split/pm-speaks-to-the-heads-of-saarc-nations-participating-in-the-icc-cricket-world-cup-foreign-secretary-to-visit-saarc-countries-soon.txt', '/content/split/pms-engagements-in-california-september-27-2015.txt', '/content/split/pm-congratulates-viswanathan-anand-on-winning-world-rapid-chess-championship.txt', '/content/split/pmindia-multilingual-website-now-available-in-13-languages.txt', '/content/split/text-of-pms-address-on-the-release-of-the-digital-version-of-ramcharitmanas.txt', '/content/split/pm-salutes-all-the-women-men-who-took-part-in-the-quit-india-movement-on-the-75th-anniversary.txt', '/content/split/pm-visits-shauryanjali-a-commemorative-exhibition-on-1965-war.txt', '/content/split/pm-condoles-the-loss-of-lives-due-to-the-cylinder-blast-in-jhabua.txt', '/content/split/pm-visits-quan-su-pagoda-in-hanoi-interacts-with-monks.txt', '/content/split/pms-address-at-international-day-of-yoga-event-at-capitol-complex-chandigarh.txt', '/content/split/pms-remarks-at-the-valedictory-session-of-civil-services-day-event.txt', '/content/split/pm-addresses-concluding-ceremony-of-narmada-sewa-yatra-in-madhya-pradesh.txt', '/content/split/cabinet-apprised-of-joint-issue-of-postage-stamps-by-india-and-south-africa.txt', '/content/split/cabinet-approves-enhancement-of-age-of-superannuation-of-general-duty-medical-officers-specialist-grade-doctors-and-teaching-medical-faculty-working-in-bhopal-memorial-hospital-and-research-centre-b.txt', '/content/split/pms-address-at-the-foundation-stone-laying-of-city-gas-distribution-cgd-projects-under-9th-cgd-bidding-round-at-vigyan-bhawan-new-delhi.txt', '/content/split/pms-address-after-launch-of-development-projects-in-kanyakumari.txt', '/content/split/pm-to-interact-with-young-innovators-and-start-up-entrepreneurs-tomorrow.txt', '/content/split/pms-speech-on-the-occasion-of-dedication-of-national-police-memorial-to-the-nation.txt', '/content/split/prime-minister-receives-dr-mohamed-asim-minister-of-foreign-affairs-special-envoy-of-the-president-of-the-republic-of-maldives.txt', '/content/split/pms-address-on-the-occasion-of-national-msme-awards-in-ludhiana.txt', '/content/split/prime-ministers-telephone-call-with-prime-minister-of-finland.txt', '/content/split/pm-pays-his-last-respects-to-hh-pramukh-swami-maharaj-in-gujarat.txt', '/content/split/pms-address-at-foundation-stone-laying-ceremony-and-dedication-of-multiple-projects-in-kochi.txt', '/content/split/pm-expresses-grief-on-tragic-accident-in-himachal-pradesh.txt', '/content/split/cabinet-approves-coastal-regulation-zone-crz-notification-2018.txt', '/content/split/pms-address-at-public-meeting-in-ujire-karnataka.txt', '/content/split/list-of-mousagreements-signed-on-the-sidelines-of-the-18th-india-russia-annual-summit.txt', '/content/split/cabinet-approves-mou-between-india-and-brics-countries-to-set-up-brics-agriculture-research-platform.txt', '/content/split/pm-attends-dashamah-soundarya-lahari-parayanotsava-mahasamarpane-at-bengaluru.txt', '/content/split/pm-greets-the-former-prime-minister-shri-atal-bihari-vajpayee-ji-on-his-birthday.txt', '/content/split/pms-address-at-the-inauguration-of-various-healthcare-projects-at-aiims-safdarjung-hospitals.txt', '/content/split/approval-for-amendment-to-the-sikh-gurudwaras-act-1925-2.txt', '/content/split/cabinet-approves-renaming-of-jharsuguda-airport-odisha-as-veer-surendra-sai-airport-jharsuguda.txt', '/content/split/pm-unveils-development-projects-worth-rs-33000-crores-for-bihar.txt', '/content/split/consortium-agreement-for-core-partnership-on-unified-model-earth-system-modelling-for-seamless-prediction-of-weather-and-climate.txt', '/content/split/pm-salutes-all-personnel-of-border-roads-organisation-on-foundation-day.txt', '/content/split/pm-congratulates-h-e-tun-dr-mahathir-mohamad-prime-minister-of-malaysia.txt', '/content/split/statement-read-out-by-foreign-secretaries-of-india-and-pakistan-in-ufa-russia.txt', '/content/split/pm-greets-the-nation-on-the-occasion-of-chhath-puja.txt', '/content/split/pm-addresses-gathering-at-the-inauguration-of-umiya-dham-ashram-at-haridwar-via-video-conferencing.txt', '/content/split/pm-and-chinese-president-visit-sabarmati-ashram.txt', '/content/split/cabinet-approves-pradhan-mantri-kaushal-vikas-yojana-60-lakh-youth-to-be-trained-afresh.txt', '/content/split/text-of-pms-mann-ki-baat-programme-on-all-india-radio.txt', '/content/split/pm-visits-agartala.txt', '/content/split/members-of-the-parliament-of-sri-lanka-calls-on-pm.txt', '/content/split/pm-in-madhya-pradesh-dedicates-mohanpura-irrigation-project-to-the-nation.txt', '/content/split/justice-ranjan-gogoi-appointed-as-next-chief-justice-of-india.txt', '/content/split/pm-issues-statement-before-his-departure-to-china.txt', '/content/split/cabinet-approves-national-mission-on-interdisciplinary-cyber-physical-systems.txt', '/content/split/pm-dedicates-chenani-nashri-tunnel-to-the-nation-addresses-public-meeting-in-udhampur.txt', '/content/split/pm-in-naya-raipur.txt', '/content/split/pms-gift-to-president-of-tajikistan.txt', '/content/split/madhuri-bose-chandra-bose-call-on-pm.txt', '/content/split/pm-condoles-the-loss-of-lives-in-a-fire-at-karol-bagh-in-delhi.txt', '/content/split/pm-condoles-the-demise-of-mp-and-former-union-minister-shri-sanwar-lal-jat.txt', '/content/split/pm-condoles-the-passing-away-of-shri-manohar-parrikar.txt', '/content/split/pm-greets-the-citizens-of-qatar-on-their-national-day.txt', '/content/split/list-of-mousagreements-signed-during-state-visit-of-prime-minister-to-myanmar.txt', '/content/split/gorkha-janmukti-morcha-delegation-calls-on-pm.txt', '/content/split/ministerssenior-dignitaries-attending-informal-wto-ministerial-meeting-call-on-pm.txt', '/content/split/cabinet-approves-bhopal-metro-rail-project-comprising-two-corridors.txt', '/content/split/cabinet-approves-policy-on-promotion-of-city-compost.txt', '/content/split/pm-condoles-the-demise-of-former-karnataka-cm-shri-n-dharam-singh.txt', '/content/split/pms-address-at-the-ncc-rally.txt', '/content/split/text-of-pms-address-on-launching-of-the-soil-health-card-scheme.txt', '/content/split/pm-reviews-steps-taken-to-reduce-under-nutrition.txt', '/content/split/pm-dedicates-four-lane-section-of-solapur-tuljapur-osmanabad-highway-new-nh-52-to-the-nation-solapur-osmanabad-via-tuljapur-rail-line-approved.txt', '/content/split/text-of-pms-speech-at-world-culture-festival.txt', '/content/split/pm-to-inaugurate-new-cic-premises-on-6th-march.txt', '/content/split/pm-to-attend-nhrc-silver-jubilee-foundation-day-function-on-12-october.txt', '/content/split/approval-to-move-official-amendments-to-the-child-labour-prohibition-regulation-amendment-bill-2012.txt', '/content/split/foreign-minister-of-nepal-calls-on-pm.txt', '/content/split/pm-calls-for-uncompromising-mission-mode-approach-to-stop-further-pollution-of-the-river-ganga.txt', '/content/split/cabinet-approves-scheme-to-rebate-state-and-central-embedded-taxes-to-support-the-textile-sector.txt', '/content/split/pm-expresses-sadness-over-the-tragic-accident-of-myanmar-military-plane.txt', '/content/split/pm-lays-foundation-stone-for-3-highway-projects-at-sonepat.txt', '/content/split/pmoindia-website-goes-multi-lingual-smt-sushma-swaraj-launches-the-website-in-six-regional-languages.txt', '/content/split/pms-press-statement-during-his-state-visit-to-indonesia.txt', '/content/split/pm-expresses-deep-anguish-over-loss-of-lives-in-hospital-fire-in-odisha.txt', '/content/split/pm-addresses-87th-icar-foundation-day-celebrations.txt', '/content/split/pm-inaugurates-newly-constructed-transit-accommodation-for-mps-at-western-court-annexe.txt', '/content/split/pm-korean-president-inaugurate-mobile-manufacturing-facility-in-noida.txt', '/content/split/pm-visits-kanpur-launches-various-development-projects.txt', '/content/split/pms-message-on-national-girl-child-day.txt', '/content/split/pms-address-at-the-first-international-ramayana-mela.txt', '/content/split/india-and-portugal-cooperation-from-outer-space-to-deep-blue-seas.txt', '/content/split/cabinet-apprised-about-mou-for-cooperation-on-youth-matters-between-india-and-morocco.txt', '/content/split/pm-attends-meeting-of-somnath-trust.txt', '/content/split/pm-writes-to-the-prime-minister-of-finland.txt', '/content/split/pms-address-at-the-concluding-ceremony-of-centenary-of-champaran-satyagraha-in-motihari-bihar.txt', '/content/split/pm-condoles-the-demise-of-legendary-hockey-player-mohammed-shahid.txt', '/content/split/mr-tilak-marapana-minister-of-foreign-affairs-of-sri-lanka-calls-on-pm.txt', '/content/split/memorandum-of-understanding-between-india-and-nepal-for-strengthening-cooperation-in-the-field-of-tourism.txt', '/content/split/pm-addresses-opening-ceremony-of-the-international-vesak-day-celebrations.txt', '/content/split/pm-pays-tributes-to-mahatma-phule-on-his-birth-anniversary.txt', '/content/split/pm-addresses-economic-times-global-business-summit.txt', '/content/split/pm-condemns-attack-on-crpf-personnel-in-pulwama-kashmir.txt', '/content/split/pms-interaction-with-village-pradhans-from-varanasi-parliamentary-constituency.txt', '/content/split/upgradation-of-existing-nift-campuses-for-implementation-of-reservation-for-obc-students-extension-of-timeline-for-utilization-of-fund.txt', '/content/split/text-of-pms-remarks-at-the-ncc-rally-2015.txt', '/content/split/pms-remarks-at-inauguration-of-global-exhibition-on-services.txt', '/content/split/pm-meets-datuk-seri-anwar-ibrahim-member-of-the-malaysian-parliament.txt', '/content/split/augmenting-cancer-treatment-facilities-in-the-north-east.txt', '/content/split/pms-speech-at-chartered-accountants-day-at-igi-stadium-delhi.txt', '/content/split/pm-condemns-terror-attack-in-pak-near-wagah-border.txt', '/content/split/pms-remarks-at-launch-of-speakers-research-initiative-inauguration-of-workshop-on-sustainable-development-goals.txt', '/content/split/pm-greets-people-of-gujarat-on-gujarat-diwas.txt', '/content/split/pm-greets-people-of-haryana-on-haryana-day-2.txt', '/content/split/delegation-of-sufi-scholars-calls-on-pm.txt', '/content/split/pm-condoles-the-loss-of-lives-in-the-building-collapse-in-kanpur.txt', '/content/split/cabinet-approves-signing-and-ratification-of-the-bilateral-investment-treaty-between-india-and-belarus.txt', '/content/split/pm-to-visit-gujarat-on-23rd-august.txt', '/content/split/pms-press-statement-during-his-visit-to-nepal.txt', '/content/split/pms-address-in-48th-episode-of-mann-ki-baat.txt', '/content/split/pm-salutes-the-soldiers-who-fought-1971-war-on-the-occasion-of-vijay-diwas.txt', '/content/split/cabinet-approves-mou-between-india-and-papua-new-guinea-on-cooperation-in-the-field-of-health-area-and-medical-science.txt', '/content/split/pm-meets-h-m-queen-maxima-of-the-netherlands.txt', '/content/split/pms-gift-to-canadian-prime-minister-stephen-harper.txt', '/content/split/text-of-pms-speech-at-the-distribution-of-bravery-awards-to-the-children.txt', '/content/split/pm-condoles-the-loss-of-lives-due-to-the-derailment-of-jagdalpur-bhubaneswar-express-train.txt', '/content/split/board-members-of-usibc-call-on-pm.txt', '/content/split/pm-addresses-officers-soldiers-and-air-warriors-of-the-indian-armed-forces-at-leh-condemns-pakistans-proxy-war.txt', '/content/split/pm-attends-niti-aayogs-interaction-with-economists-on-economic-policy-the-road-ahead.txt', '/content/split/text-of-pms-statement-after-visiting-kollam-and-taking-stock-of-the-situation-after-fire-accident-in-paravur-kerala.txt', '/content/split/text-of-the-pms-remarks-at-the-public-meeting-during-the-foundation-stone-laying-ceremony-of-indian-agriculture-research-institute-iari-jharkhand.txt', '/content/split/officers-and-staff-of-lok-sabha-secretariat-donate-a-days-salary-to-pmnrf.txt', '/content/split/accession-to-the-council-of-europe-convention-on-transfer-of-sentenced-persons.txt', '/content/split/cabinet-approves-mou-between-india-and-russia-on-cooperation-in-the-field-of-micro-small-and-medium-enterprises.txt', '/content/split/pm-addresses-indian-community-in-stockholm.txt', '/content/split/pm-condoles-the-demise-of-marshal-of-the-indian-air-force-arjan-singh.txt', '/content/split/pms-address-at-the-kumbh-global-participation-event-organized-by-iccr.txt', '/content/split/cabinet-apprised-about-mou-between-india-and-brazil-in-the-area-of-biotechnology.txt', '/content/split/cabinet-approves-mou-for-cooperation-in-traditional-systems-of-medicine-and-homoeopathy-between-india-and-sri-lanka.txt', '/content/split/text-of-prime-ministers-mann-ki-baat-on-all-india-radio-2.txt', '/content/split/cabinet-approves-special-package-for-employment-generation-and-promotion-of-exports-in-textile-and-apparel-sector.txt', '/content/split/list-of-agreements-mous-signed-during-the-visit-of-prime-minister-to-turkmenistan.txt', '/content/split/pm-to-young-ias-officers-remain-sensitive-to-circumstances-and-surroundings.txt', '/content/split/enhanced-compensation-to-people-affected-by-earthquake-in-india.txt', '/content/split/pm-congratulates-isro-scientists-on-the-launch-of-indias-first-indigenous-space-shuttle-rlv-td.txt', '/content/split/pms-mann-ki-baat-programme-on-all-india-radio-16.txt', '/content/split/cabinet-approves-extension-of-contract-between-india-and-the-international-seabed-authority-for-exploration-of-polymetallic-nodules.txt', '/content/split/pm-shares-his-fitness-video-nominates-ips-officers-for-fitness-challenge.txt', '/content/split/text-of-pms-statement-to-media-outside-parliament-house-2.txt', '/content/split/cabinet-approves-continuation-of-pradhan-mantri-jandhan-yojana.txt', '/content/split/pm-exhorts-official-youth-organizations-to-join-hands-for-water-conservation.txt', '/content/split/cabinet-approves-extension-of-the-term-of-the-commission-to-examine-the-issue-of-sub-categorization-of-other-backward-classes-in-the-central-list-till-31st-may-2019.txt', '/content/split/pm-announces-additional-ex-gratia-relief-from-pms-relief-fund-for-those-affected-by-the-dibrugarh-rajdhani-express-accident.txt', '/content/split/pm-wishes-people-of-nagaland-on-statehood-day.txt', '/content/split/highlights-of-pms-statement-at-an-all-party-meeting-ahead-of-monsoon-session-of-parliament.txt', '/content/split/cabinet-approves-the-constitution-application-to-jammu-kashmir-amendment-order-2019.txt', '/content/split/cabinet-approves-establishment-of-additional-6-5mmt-strategic-petroleum-reserves-at-chandikhol-in-odisha-and-at-padur-karnataka.txt', '/content/split/pms-telephone-conversation-with-prime-minister-of-malaysia.txt', '/content/split/pms-statement-to-media-ahead-of-the-budget-session-of-parliament.txt', '/content/split/text-of-pms-address-at-the-launch-of-gram-uday-se-bharat-uday-abhiyan-at-mhow-mp.txt', '/content/split/cabinet-approves-mou-on-renewable-energy-between-india-and-portugal.txt', '/content/split/pm-the-bridge-of-trust-between-india-and-nepal-should-be-strengthened.txt', '/content/split/pm-addresses-public-meeting-on-the-occasion-of-commencement-of-work-for-the-rajasthan-refinery-in-barmer-rajasthan.txt', '/content/split/cabinet-approves-mou-between-india-and-uk-on-cooperation-in-the-sphere-of-law-justice-and-establishing-a-joint-consultative-committee.txt', '/content/split/minister-of-natural-resources-and-environment-of-malaysia-and-president-of-the-malaysian-indian-congress-calls-on-the-pm.txt', '/content/split/cabinet-approves-mou-between-india-and-uzbekistan-on-cooperation-for-establishment-of-uzbek-indian-free-pharmaceutical-zone-in-the-andijan-region-of-uzbekistan.txt', '/content/split/pm-exhorts-ias-probationers-to-recall-mahatmas-talisman.txt', '/content/split/pms-statement-prior-to-his-departure-to-maldives.txt', '/content/split/pms-address-at-the-dedication-of-several-development-projects-to-the-nation-in-itanagar-arunachal-pradesh.txt', '/content/split/ips-probationers-of-2015-batch-call-on-pm.txt', '/content/split/cabinet-approves-moubetween-india-and-russia-on-joint-activities-under-human-spaceflight-programme.txt', '/content/split/pms-bilateral-engagements-on-the-sidelines-of-vibrant-gujarat-summit-11-01-2015.txt', '/content/split/cabinet-approves-need-based-sale-of-surplus-land-of-four-pharmaceutical-psus.txt', '/content/split/pm-visits-kerala-reviews-relief-and-rescue-operations.txt', '/content/split/pm-announces-ex-gratia-for-victims-of-accident-at-raebareli-ntpc-plant.txt', '/content/split/pm-interacts-with-varanasi-corporators.txt', '/content/split/foreign-minister-of-mexico-calls-on-the-prime-minister.txt', '/content/split/pms-message-on-national-panchayati-raj-day.txt', '/content/split/compensatory-afforestation-fund-bill-2015.txt', '/content/split/pm-convenes-high-level-meeting-to-review-situation-following-the-earthquake.txt', '/content/split/pms-letter-to-the-teaching-community-on-teachers-day.txt', '/content/split/indian-foreign-service-officer-trainees-call-on-the-prime-minister-2.txt', '/content/split/pms-address-at-india-rwanda-business-forum-in-kigali-convention-centre-rwanda.txt', '/content/split/text-of-pms-statement-to-media-in-the-joint-media-briefing-with-pm-of-nepal.txt', '/content/split/pm-writes-to-pak-pm-offers-assistance-in-relief-efforts-in-pak-occupied-kashmir.txt', '/content/split/pms-address-at-the-launch-of-indian-post-payments-bank-at-talkatora-stadium-in-delhi.txt', '/content/split/mr-greg-abbott-governor-of-texas-calls-on-pm.txt', '/content/split/excerpts-from-pms-address-at-the-hornbill-festival-in-nagaland.txt', '/content/split/pms-address-at-jagran-forum.txt', '/content/split/pm-congratulates-shri-sher-bahadur-deuba-on-being-elected-the-prime-minister-of-nepal.txt', '/content/split/cabinet-approves-ilo-recommendation-no-204-r-204-concerning-transition-from-the-informal-to-the-formal-economy.txt', '/content/split/pm-reviews-progress-of-key-infrastructure-sectors-2.txt', '/content/split/cabinet-apprised-of-mou-between-india-and-netherlands-on-cooperation-in-space-technology.txt', '/content/split/cabinet-approves-headquarters-host-country-agreement-between-india-and-the-international-solar-alliance.txt', '/content/split/text-of-pms-speech-at-vibrant-gujarat-summit-in-gandhinagar.txt', '/content/split/approval-for-lucknow-metro-rail-project-phase-1a.txt', '/content/split/text-of-pms-address-to-the-sri-lankan-parliament.txt', '/content/split/pm-greets-the-people-of-telangana.txt', '/content/split/pm-greets-the-people-on-the-occasion-of-rath-yatra.txt', '/content/split/pm-salutes-our-brave-itbp-personnel-on-the-raising-day-of-itbp.txt', '/content/split/pm-expresses-grief-on-demise-of-actor-shri-upendra-trivedi.txt', '/content/split/pm-congratulates-isro-on-successful-launch-of-gsat-11.txt', '/content/split/pm-inaugurates-yoga-centre-unveils-bust-of-mahatma-gandhi-in-ashgabat.txt', '/content/split/pm-greets-people-on-guru-purnima-3.txt', '/content/split/memorandum-of-understanding-between-india-and-mongolia-to-establish-basis-for-cooperative-institutional-relationship-to-encourage-and-promote-technical-bilateral-cooperation-on-new-and-renewable-energ.txt', '/content/split/pm-writes-to-king-of-jordan-condemns-brutal-killing-of-flight-lt-muath-al-kasasbeh.txt', '/content/split/pms-address-at-inauguration-of-various-development-projects-at-prayagraj-up.txt', '/content/split/pms-speech-at-celebrations-of-the-4th-yoga-day-in-dehradun.txt', '/content/split/pm-condoles-the-demise-of-former-chancellor-of-germany-mr-helmut-kohl.txt', '/content/split/pm-extends-his-condolences-over-stampede-in-mumbai.txt', '/content/split/pm-condoles-the-demise-of-ustad-hussain-sayeeduddin-dagar.txt', '/content/split/russia-india-china-trilateral.txt', '/content/split/pm-condoles-the-passing-away-of-shri-jagmohan-dalmiya.txt', '/content/split/pms-remarks-at-the-closing-session-of-the-conference-of-governors.txt', '/content/split/pm-addresses-national-conference-on-agriculture-2022-doubling-farmers-incomes.txt', '/content/split/pms-mann-ki-baat-programme-on-all-india-radio-3.txt', '/content/split/pms-statement-on-the-terror-attacks-in-paris.txt', '/content/split/pm-pays-tributes-to-sardar-vallabhbhai-patel-on-his-punya-tithi-2.txt', '/content/split/pm-visits-guntur-dedicates-1-33-mmt-visakhapatnam-spr-facility-to-the-nation.txt', '/content/split/text-of-pms-address-to-unesco.txt', '/content/split/pms-address-to-all-panchayats-in-the-nation-from-panchayati-raj-sammelan-in-jamshedpur.txt', '/content/split/pm-inaugurates-lng-terminal-and-pipeline-projects-at-anjar.txt', '/content/split/pms-address-at-the-laying-of-the-foundation-stone-of-metro-phase-3-in-pune-maharashtra.txt', '/content/split/pm-releases-volume-4-of-selected-speeches-of-president-pranab-mukherjee.txt', '/content/split/pm-shares-sorrow-and-pain-of-those-affected-by-cyclone-in-vanuatu.txt', '/content/split/pm-addresses-the-jagran-forum-on-the-occasion-of-75th-anniversary-celebration-of-dainik-jagran.txt', '/content/split/cabinet-approves-mou-between-india-and-palestine-on-cooperation-in-the-field-of-health-and-medicine.txt', '/content/split/pm-launches-various-projects-of-kandla-port-trust.txt', '/content/split/text-of-prime-ministers-mann-ki-baat-on-all-india-radio-8.txt', '/content/split/pm-bows-to-guru-teg-bahadur-ji-on-his-prakash-utsav.txt', '/content/split/all-party-delegation-of-mps-from-tamil-nadu-calls-on-pm.txt', '/content/split/lt-gen-h-r-mcmaster-u-s-national-security-advisor-meets-pm.txt', '/content/split/mou-between-india-and-uae-to-mobilise-long-term-investment-into-the-national-investment-and-infrastructure-fund.txt', '/content/split/pm-receives-emeritus-senior-minister-of-singapore-goh-chok-tong.txt', '/content/split/pm-pays-tributes-to-dr-zakir-hussain-on-his-birth-anniversary-2.txt', '/content/split/cabinet-approves-mou-between-india-and-nepal-on-drug-demand-reduction-and-prevention-of-illicit-trafficking-in-narcotic-drugs-and-psychotropic-substances-and-precursor-chemicals-and-related-matters.txt', '/content/split/cabinet-approves-inclusion-of-common-services-centres-under-meity-as-enrolment-agency-for-pm-sym.txt', '/content/split/pm-to-visit-katra-tomorrow.txt', '/content/split/cabinet-approves-mou-on-cooperation-in-the-field-of-mass-media-between-india-and-bangladesh.txt', '/content/split/report-of-the-sub-group-of-chief-ministers-on-swachh-bharat-abhiyaan-submitted-to-pm.txt', '/content/split/pms-address-at-public-meeting-held-on-the-foundation-stone-laying-ceremony-for-gorakhpur-aiims-and-for-revival-of-gorakhpur-fertilizer-plant.txt', '/content/split/pm-addresses-unorganized-sector-workers-at-20-locations-across-gujarat-through-video-conferencing.txt', '/content/split/pm-at-mouda-maharashtra-3.txt', '/content/split/cabinet-approves-implementation-of-the-recommendations-of-7th-central-pay-commission.txt', '/content/split/text-of-pms-statement-in-the-rajya-sabha.txt', '/content/split/pm-modi-bangladesh-pm-and-west-bengal-cm-jointly-launch-connectivity-projects-between-india-and-bangladesh.txt', '/content/split/pm-speaks-to-the-president-and-prime-minister-of-sri-lanka-expresses-condolence-over-the-loss-of-lives-in-terror-attacks.txt', '/content/split/text-of-pms-address-at-international-fleet-review-2016.txt', '/content/split/prime-minister-announces-ex-gratia-relief-of-rs-1-lakh-to-the-next-of-the-kin-of-e-rickshaw-driver-beaten-to-death-for-espousing-the-social-cause-of-swachha-bharat.txt', '/content/split/pm-releases-book-titled-the-birds-of-banni-grassland.txt', '/content/split/cabinet-approves-transfer-of-land-of-hmt-watches-limited.txt', '/content/split/pms-speech-at-the-dedication-of-the-eastern-peripheral-expressway-to-the-nation-at-baghpat-u-p.txt', '/content/split/pm-congratulates-scientists-on-the-launch-of-irnss-1d-satellite.txt', '/content/split/pm-expresses-grief-over-the-derailment-of-utkal-express.txt', '/content/split/text-of-pms-address-at-the-closing-function-of-the-manipur-sangai-festival.txt', '/content/split/cabinet-approves-proposal-to-constitute-committee-to-recommend-the-process-for-conferring-recognizing-ownership-or-transfer-mortgage-right-to-the-residents-of-unauthorized-colonies-in-delhi.txt', '/content/split/indias-first-semi-high-speed-train-vande-bharat-express-to-be-flagged-off-by-pm-tomorrow.txt', '/content/split/pm-meets-entire-pmo-family-at-rcr-lawns.txt', '/content/split/india-ushers-in-gst-amid-historic-midnight-session-of-parliament.txt', '/content/split/pm-expresses-condolences-on-the-passing-away-of-george-fernandes.txt', '/content/split/government-constitutes-national-institution-for-transforming-india-niti-aayog.txt', '/content/split/cabinet-approves-signing-of-mou-between-sebi-and-capital-markets-authority-cma-kuwait.txt', '/content/split/pm-reviews-preparations-for-housing-for-all.txt', '/content/split/cabinet-approves-mou-between-india-and-armenia-on-cooperation-in-the-field-of-disaster-management.txt', '/content/split/cabinet-approves-the-agreement-between-india-and-kyrgyz-for-the-avoidance-of-double-taxation-and-the-prevention-of-fiscal-evasion-in-the-taxes-on-income.txt', '/content/split/pm-praises-the-beauty-of-northeast.txt', '/content/split/press-statement-by-prime-minister-during-the-visit-of-president-of-russia-to-india.txt', '/content/split/pm-congratulates-maulana-wahiduddin-khan-on-being-conferred-the-sayyidina-imam-al-hassan-ibn-ali-peace-award.txt', '/content/split/pm-condoles-the-demise-of-former-prime-minister-of-sri-lanka-shri-ratnasiri-wickremanayake.txt', '/content/split/pms-statement-prior-to-his-departure-for-nepal.txt', '/content/split/pm-reviews-performance-of-key-infrastructure-sectors-of-energy-and-mining.txt', '/content/split/cabinet-approves-agreement-between-india-and-uruguay-regarding-cooperation-and-mutual-assistance-in-customs-matters.txt', '/content/split/pm-wishes-people-of-karnataka-on-sankranti.txt', '/content/split/cabinet-approves-signing-of-the-multilateral-convention-to-implement-tax-treaty-related-measures-to-prevent-base-erosion-and-profit-shifting-by-india.txt', '/content/split/cabinet-approves-establishment-of-national-financial-reporting-authority.txt', '/content/split/pm-to-confer-awards-for-excellence-in-public-administration-and-address-civil-servants-tomorrow.txt', '/content/split/mou-between-the-ministry-of-new-and-renewable-energy-government-of-the-republic-of-india-and-the-government-of-mozambique.txt', '/content/split/text-of-pms-address-at-19th-convocation-ceremony-of-national-institute-of-mental-health-and-neuro-science-nimhans.txt', '/content/split/text-of-pms-address-at-the-6th-convocation-of-babasaheb-bhimrao-ambedkar-university-lucknow.txt', '/content/split/pm-condoles-the-demise-of-ls-mp-and-former-union-minister-shri-sultan-ahmed.txt', '/content/split/pm-welcomes-agreement-between-afghan-leaders-ashraf-ghani-and-abdullah-abdullah.txt', '/content/split/pm-announces-relief-to-farmers-in-distress.txt', '/content/split/cabinet-approves-continuation-and-restructuring-of-national-rural-drinking-water-programme.txt', '/content/split/pm-releases-the-book-judicial-reforms-recent-global-trends-and-presents-the-first-copy-to-the-president.txt', '/content/split/september-11th-pm-recalls-swami-vivekanandas-message-of-universal-brotherhood.txt', '/content/split/swapping-of-aai-land-at-mumbai-with-land-of-municipal-corporation-of-greater-mumbai-for-relocation-of-cemetery.txt', '/content/split/pm-to-interact-with-lakhs-of-asha-anm-and-anganwadi-workers-on-11th-september.txt', '/content/split/cabinet-approves-mou-between-india-and-united-arab-emirates-for-cooperation-in-the-field-of-agriculture-and-allied-sectors.txt', '/content/split/pms-nineteenth-interaction-through-pragati.txt', '/content/split/cabinet-approves-amendment-to-the-trade-unions-act-1926-to-make-provisions-regarding-recognition-of-trade-unions.txt', '/content/split/cabinet-approves-establishment-and-operationalization-of-permanent-campus-of-seven-new-iims.txt', '/content/split/pm-greets-the-people-of-canada-on-canada-day.txt', '/content/split/pm-pays-tributes-to-dr-syama-prasad-mookerjee-on-his-birth-anniversary-3.txt', '/content/split/pms-address-via-video-conference-at-the-7th-centenary-celebrations-of-jagadguru-sri-madhwacharya-udupi.txt', '/content/split/pms-speech-at-the-dedication-of-jharsuguda-airport-and-other-development-projects-to-the-nation-at-chhattisgarh.txt', '/content/split/pm-chairs-high-level-meeting-to-review-preparedness-for-cyclone-fani.txt', '/content/split/pm-addresses-international-convention-of-saurashtra-patel-cultural-samaj-through-video-conference.txt', '/content/split/pms-address-at-foundation-stone-laying-ceremony-of-various-development-projects-at-hazaribagh-jharkhand.txt', '/content/split/pms-address-at-the-inauguration-of-kundli-manesar-section-of-western-peripheral-expressway-and-ballabgarh-mujesar-metro-link.txt', '/content/split/pms-address-at-the-inauguration-of-world-sustainable-development-summit-wsds-2018.txt', '/content/split/pm-extends-his-greetings-on-odisha-formation-day-utkal-divas.txt', '/content/split/cabinet-approves-the-exclusion-of-states-from-the-investments-of-national-small-savings-fund-from-1-4-2016.txt', '/content/split/pm-urges-fast-tracking-of-pro-farmer-initiatives-chairs-high-level-meeting-on-pradhan-mantri-krishi-sinchai-yojana.txt', '/content/split/treaty-on-transfer-of-sentenced-persons-between-india-and-qatar.txt', '/content/split/pm-congratulates-capt-amarinder-singh-on-taking-oath-as-punjab-cm.txt', '/content/split/modification-of-existing-guidelines-for-the-policy-on-bilateral-official-development-assistance-for-development-corporation-with-bilateral-partners.txt', '/content/split/cabinet-approves-mou-between-india-and-morocco-on-cooperation-in-the-field-of-water-resources.txt', '/content/split/text-of-pms-address-at-mahabodhi-temple-in-bodh-gaya.txt', '/content/split/government-moves-swiftly-to-implement-pms-announcements-in-the-usa-on-consular-and-visa-issues.txt', '/content/split/cabinet-approves-swapping-of-10-25-acres-of-aai-land-at-rajahmundry-airport.txt', '/content/split/pm-exhorts-people-to-pledge-for-leading-healthier-lifestyle-to-overcome-diabetes-on-the-world-diabetes-day.txt', '/content/split/highlights-of-pms-address-on-independence-day.txt', '/content/split/pm-addresses-the-80th-anniversary-celebrations-of-the-brahma-kumaris-family-via-video-conferencing.txt', '/content/split/pm-congratulates-leander-paes-and-martina-hingis-on-winning-the-mixed-doubles-title-at-us-open.txt', '/content/split/facebook-coo-sheryl-sandberg-calls-on-pm.txt', '/content/split/pm-interacts-with-collectors-of-aspirational-districts.txt', '/content/split/cabinet-apprised-of-mou-between-india-and-palestine-on-cooperation-in-the-field-of-information-technology-and-electronics.txt', '/content/split/cabinet-approves-central-scheme-for-assistance-to-civilian-victims-of-terrorist-communal-left-wing-extremist-violence-and-cross-border-firing-and-mineied-blasts-on-indian-territory.txt', '/content/split/pm-in-surat-today.txt', '/content/split/cabinet-approves-amendments-in-the-central-list-of-other-backward-classes-applicable-to-andhra-pradesh-and-telangana.txt', '/content/split/cabinet-apprised-of-agreement-between-india-and-uzbekistan-on-cooperation-in-the-field-of-science-technology-and-innovation.txt', '/content/split/joint-statement-on-the-occasion-of-state-visit-of-the-president-of-the-republic-of-maldives-to-india.txt', '/content/split/delegation-of-obc-mps-and-leaders-calls-on-pm.txt', '/content/split/text-of-pms-special-lecture-at-the-university-of-the-sacred-heart-tokyo.txt', '/content/split/nagaland-cm-calls-on-pm-4.txt', '/content/split/pm-dedicates-ins-kalvari-to-the-nation.txt', '/content/split/pms-interaction-through-pragati-13.txt', '/content/split/cabinet-approves-strengthening-the-mechanism-for-resolution-of-commercial-disputes-of-central-public-sector-enterprises.txt', '/content/split/pms-press-statement-during-the-state-visit-of-the-president-of-the-republic-of-south-korea-to-india.txt', '/content/split/cabinet-approves-setting-up-of-new-aiims-in-bhatinda.txt', '/content/split/pm-greets-the-people-on-the-auspicious-occasion-of-eid-e-milad-un-nabi.txt', '/content/split/cabinet-apprised-about-mou-between-india-and-republic-of-korea-in-issuing-jointly-postage-stamp.txt', '/content/split/cabinet-approves-new-productivity-linked-reward-scheme-for-all-major-port-trusts-and-dock-labour-board-employeesworkers.txt', '/content/split/operationalisation-of-new-indian-institute-of-science-education-and-research-at-tirupati.txt', '/content/split/pms-bilateral-engagements-on-the-sidelines-of-the-saarc-summit.txt', '/content/split/pms-roundtable-on-renewable-energy.txt', '/content/split/pm-strongly-condemns-the-horrific-attack-in-nice-france.txt', '/content/split/pms-remarks-at-the-brics-emerging-markets-and-developing-countries-dialogue-in-xiamen.txt', '/content/split/proposal-of-ms-mylan-laboratories-limited-for-increase-in-fdi-up-to-us-750-million.txt', '/content/split/cabinet-approves-mou-on-collaborative-research-on-distributed-ledger-and-block-chain-technology-in-the-context-of-development-of-digital-economy-by-exim-bank-under-brics-interbank-cooperation-mechanis.txt', '/content/split/english-rendering-of-the-pms-opening-statement-at-the-india-asean-summit.txt', '/content/split/russian-defence-minister-calls-on-the-prime-minister.txt', '/content/split/pm-greets-people-of-meghalaya-on-their-statehood-day-2.txt', '/content/split/cabinet-approves-mou-between-india-and-belgium-on-cooperation-in-the-field-of-icte.txt', '/content/split/amendments-to-the-insurance-laws-amendment-bill-2008.txt', '/content/split/pm-meets-members-of-mission-shaurya-team.txt', '/content/split/pm-condemns-attack-in-manchester.txt', '/content/split/pms-telephonic-conversation-with-korean-president.txt', '/content/split/cabinet-approves-incorporation-of-sagarmala-development-company.txt', '/content/split/foreign-minister-of-france-calls-on-pm-invites-him-to-visit-france.txt', '/content/split/pm-condoles-the-demise-of-noted-telugu-poet-lyricist-and-writer-shri-c-narayana-reddy.txt', '/content/split/amendment-for-the-seats-in-the-legislative-council-for-the-successor-state-of-andhra-pradesh-in-andhra-pradesh-reorganisation-act-2014.txt', '/content/split/pm-congratulates-mary-kom-on-her-gold-at-asian-confederation-womens-boxing-championships.txt', '/content/split/cabinet-approves-revision-of-guidelines-of-sovereign-gold-bonds-scheme.txt', '/content/split/cabinet-approves-moc-in-respect-of-tax-matters-between-india-and-brics-countries-brazil-russia-china-and-south-africa.txt', '/content/split/approval-to-comprehensive-new-urea-policy-2015.txt', '/content/split/pm-to-attend-event-to-mark-world-biofuel-day-2018.txt', '/content/split/pms-address-at-a-function-to-mark-the-inauguration-of-basava-jayanthi-2017-and-golden-jubilee-celebration-of-basava-samithi.txt', '/content/split/pm-greets-the-people-of-malaysia-on-their-independence-day.txt', '/content/split/pm-congratulates-indian-badminton-player-kidambi-srikanth-on-winning-australian-open-super-series.txt', '/content/split/memorandum-of-understanding-between-india-and-spain-on-cooperation-in-port-matters.txt', '/content/split/cabinet-condoles-the-death-of-union-minister-of-state-independent-charge-for-environment-forest-and-climate-change-shri-anil-madhav-dave.txt', '/content/split/cabinet-approves-productivity-linked-bonus-to-railway-employees.txt', '/content/split/pm-conveys-his-good-wishes-to-the-people-of-russia-on-day-of-russia.txt', '/content/split/pms-speech-at-the-national-youth-parliament-festival-awards-function.txt', '/content/split/pms-press-statement-during-the-visit-of-the-prime-minister-of-netherlands-to-india.txt', '/content/split/pm-writes-to-bangladesh-pm-shri-narendra-modi-hopes-for-a-new-era-of-cooperation-and-connectivity-across-the-south-asian-region.txt', '/content/split/pm-inaugurates-pashupatinath-dharmashala-in-kathmandu.txt', '/content/split/cabinet-approves-creation-of-one-circle-office-of-commissioner-of-metro-railway-safety.txt', '/content/split/pm-congratulates-sania-mirza.txt', '/content/split/delegation-from-pacific-pension-and-investment-institute-calls-on-pm.txt', '/content/split/pms-message-on-national-handloom-day.txt', '/content/split/pm-confers-shanti-swarup-bhatnagar-prizes-for-science-and-technology.txt', '/content/split/cabinet-approves-mou-on-maritime-issues-between-india-and-denmark.txt', '/content/split/text-of-pms-address-in-hindi-to-the-nation-from-the-ramparts-of-the-red-fort-on-the-68th-independence-day.txt', '/content/split/artwork-made-with-pearls-presented-to-pm.txt', '/content/split/pm-releases-commemorative-postage-stamp-on-the-occasion-of-the-100th-anniversary-of-yogoda-satsanga-society-of-india.txt', '/content/split/pm-addresses-valedictory-session-of-national-law-day-2017.txt', '/content/split/cabinet-approves-mou-between-india-and-morocco-on-cooperation-in-the-field-of-health.txt', '/content/split/say-no-to-tobacco-pms-message-on-world-no-tobacco-day.txt', '/content/split/text-of-the-pms-statement-at-the-general-debate-of-the-69th-session-of-the-united-nations-general-assembly-unga.txt', '/content/split/text-of-prime-minister-shri-narendra-modis-speech-at-saansad-adarsh-graam-event-at-jayapur-varanasi.txt', '/content/split/telephonic-conversation-between-pm-and-prime-minister-k-p-sharma-oli-of-nepal.txt', '/content/split/pms-interaction-with-global-ceos-of-the-food-processing-sector.txt', '/content/split/amendment-in-the-motor-vehicle-act-for-relaxation-in-norms-for-e-rickshaws-and-e-carts.txt', '/content/split/let-us-turn-this-world-into-a-garden-of-peace-narendra-modi-at-world-sufi-forum.txt', '/content/split/cabinet-approves-mou-between-india-and-brazil-for-cooperation-in-the-fields-of-zebu-cattle-genomics-and-assisted-reproductive-technologies.txt', '/content/split/cabinet-approves-mou-between-india-and-bolivia-on-cooperation-in-the-field-of-geology-and-mineral-resources.txt', '/content/split/pm-mentions-rare-book-gifted-by-president-obama.txt', '/content/split/text-of-pms-address-on-the-launch-of-reliance-foundation-youth-sports-via-video-conferencing.txt', '/content/split/pm-hands-over-chaadar-to-be-offered-at-dargah-of-khwaja-moinuddin-chishti.txt', '/content/split/pm-condoles-the-demise-of-renowned-journalist-m-v-kamath.txt', '/content/split/pms-address-at-ek-nayi-subah-event-on-the-completion-of-2-years-of-the-government.txt', '/content/split/us-defence-secretary-chuck-hagel-calls-on-pm.txt', '/content/split/indian-trusts-amendment-bill-2014.txt', '/content/split/pm-inaugurates-new-asi-headquarters-in-new-delhi.txt', '/content/split/text-of-pms-remarks-after-witnessing-the-signing-of-the-historic-agreement-between-government-of-india-and-nscn.txt', '/content/split/pms-unique-townhall-interaction-to-mark-two-years-of-the-launch-of-mygov.txt', '/content/split/pms-address-at-the-international-energy-forum-ministerial-meeting.txt', '/content/split/pm-modi-and-french-president-hollande-take-a-metro-ride-to-gurgaon.txt', '/content/split/scheme-for-revival-of-23-unlicensed-district-central-cooperative-banks-in-uttar-pradesh-maharashtra-west-bengal-and-jammu-kashmir.txt', '/content/split/pms-speech-at-indian-community-event-in-uganda.txt', '/content/split/cabinet-approves-memorandum-of-cooperation-moc-between-india-and-the-japan-in-the-field-of-healthcare-and-wellness.txt', '/content/split/cabinet-approves-mou-between-the-icai-and-the-institute-of-certified-public-accountants-of-kenya.txt', '/content/split/cabinet-approves-continuation-of-national-health-mission-nhm-from01-04-2017-to-31-03-2020.txt', '/content/split/pm-salutes-the-skills-strengths-and-fortitude-of-the-girl-child-on-national-girl-child-day.txt', '/content/split/cabinet-approves-policy-framework-for-exploration-and-exploitation-of-unconventional-hydrocarbons.txt', '/content/split/text-of-address-by-pm-at-nazarbayev-university-astana-kazakhstan.txt', '/content/split/pms-address-at-the-inauguration-of-national-museum-of-indian-cinema.txt', '/content/split/pms-press-statement-during-his-visit-to-israel.txt', '/content/split/pm-pays-tributes-to-first-prime-minister-of-india-pandit-jawaharlal-nehru-on-his-birth-anniversary-2.txt', '/content/split/inter-governmental-agreement-between-india-and-mauritius-on-cooperation-in-cooperatives-and-related-fields.txt', '/content/split/cabinet-approves-revalidation-of-permission-to-raise-ebrs-of-rs-660-crore-as-government-of-india-bonds-by-iwai-in-2017-18.txt', '/content/split/pm-greets-people-of-goa-on-statehood-day.txt', '/content/split/cabinet-approves-transfer-of-two-acres-of-indian-agricultural-institute-land-to-veterinary-council-of-india.txt', '/content/split/text-of-pms-statement-in-the-lok-sabha-on-the-granting-of-bail-to-2611-accused-zaki-ur-rehman-lakhvi-in.txt', '/content/split/mr-maithripala-sirisena-president-of-sri-lanka-calls-pm-to-condole-uri-terror-attack.txt', '/content/split/pm-addresses-the-ncc-rally.txt', '/content/split/pm-in-varanasi.txt', '/content/split/implementation-of-the-kaladan-multi-modal-transit-transport-project-in-myanmar-at-the-revised-cost-estimate-of-rs-2904-04-crore.txt', '/content/split/pm-congratulates-sakshi-malik-on-winning-bronze-in-rio-olympics.txt', '/content/split/uk-india-joint-statement-during-pms-visit-to-uk.txt', '/content/split/cabinet-approves-mou-between-india-and-election-management-bodies-of-namibia-and-panama.txt', '/content/split/pms-statement-prior-to-his-departure-to-indonesia-malaysia-and-singapore.txt', '/content/split/pm-dedicates-iit-gandhinagar-campus-to-the-nation.txt', '/content/split/pms-telephone-call-to-h-e-dr-abdullah-abdullah-ceo-of-islamic-republic-of-afghanistan.txt', '/content/split/text-of-pms-remarks-at-interaction-with-civil-society-groups-at-fiji-national-university.txt', '/content/split/shri-rajiv-mehrishi-appointed-home-secretary.txt', '/content/split/%E2%80%8Bpm-condemns-terror-attack-in-peshawar.txt', '/content/split/cabinet-approves-mou-between-india-and-afghanistan-in-the-field-of-human-resource-development.txt', '/content/split/pm-pays-tributes-to-bhagat-singh-rajguru-and-sukhdev-on-their-martyrdom-day-2.txt', '/content/split/pms-remarks-at-the-international-buddh-poornima-diwas-celebration.txt', '/content/split/cabinet-approves-extension-of-the-validity-of-central-order-in-respect-of-sugar-for-six-months.txt', '/content/split/pms-address-at-the-unveiling-of-important-projects-relating-to-housing-and-urban-development-in-maharashtra.txt', '/content/split/cabinet-approves-financial-assistance-worth-rs-825-crore-for-relining-of-sirhind-feeder-canal-and-relining-of-rajasthan-feeder-canal.txt', '/content/split/text-of-pms-address-at-kisan-mahasammelan-in-sehore-madhya-pradesh.txt', '/content/split/prime-ministers-speech-at-the-business-breakfast-hosted-by-premier-of-queensland.txt', '/content/split/pm-condoles-the-demise-of-fidel-castro.txt', '/content/split/pm-congratulates-leander-paes-martina-hingis-and-sumit-nagal-for-wimbledon-victories.txt', '/content/split/pm-exhorts-engineers-to-make-our-engineering-world-class.txt', '/content/split/pm-inaugurates-cheese-plant-addresses-farmers-in-banaskantha-district-of-gujarat.txt', '/content/split/cabinet-approves-the-proposals-for-promulgation-of.txt', '/content/split/pm-condoles-the-passing-away-of-tabla-maestro-pandit-lacchu-maharaj.txt', '/content/split/cabinet-approves-agreement-on-cooperation-in-the-field-of-information-communication-and-media-between-india-and-ethiopia.txt', '/content/split/pms-statement-prior-to-his-departure-to-qingdao-in-china.txt', '/content/split/pm-condoles-loss-of-lives-due-to-stampede-in-jharkhand.txt', '/content/split/text-of-pms-address-at-the-swearing-in-ceremony-of-the-council-of-ministers-of-assam.txt', '/content/split/ex-post-facto-approval-to-capital-infusion-made-in-export-import-bank-of-india-exim-bank.txt', '/content/split/pm-to-visit-punjab-on-january-3-2019.txt', '/content/split/pms-address-at-the-launch-of-swachhata-hi-seva-movement.txt', '/content/split/pm-greets-media-persons-on-national-press-day.txt', '/content/split/pm-wishes-shri-lalu-prasad-yadav-a-speedy-recovery.txt', '/content/split/cabinet-approves-cadre-review-of-indian-posts-telecommunications-accounts-and-finance-service-group-a.txt', '/content/split/pm-to-visit-kerala-and-tamil-nadu-tomorrow.txt', '/content/split/pm-congratulates-indian-tennis-player-leander-paes-on-the-mixed-doubles-win-at-australian-open.txt', '/content/split/pms-bilateral-meetings-on-the-sidelines-of-pravasi-bharatiya-diwas.txt', '/content/split/pm-presents-national-bravery-awards-to-children.txt', '/content/split/cabinet-approves-the-agreement-between-india-and-tajikistan-for-avoidance-of-double-taxation-and-the-prevention-of-fiscal-evasion.txt', '/content/split/prime-minister-narendra-modis-meeting-with-all-secretaries-of-the-government-of-india-2.txt', '/content/split/pm-greets-bsf-personnel-on-their-raising-day.txt', '/content/split/withdrawal-of-the-food-safety-and-standards-amendment-bill-2014.txt', '/content/split/pm-to-release-a-commemorative-coin-to-mark-the-birth-anniversary-of-guru-gobind-singh-ji.txt', '/content/split/cabinet-approves-policy-for-award-of-waterfront-and-associated-land-to-port-dependent-industries-in-major-ports.txt', '/content/split/pm-congratulates-donald-trump-on-victory-in-us-elections.txt', '/content/split/list-of-mousagreements-signed-during-the-visit-of-president-of-iran-to-india.txt', '/content/split/pm-invites-suggestions-and-inputs-for-mann-ki-baat-radio-programme-of-february-2015.txt', '/content/split/pm-announces-additional-ex-gratia-relief-from-pms-relief-fund-for-those-affected-by-the-gail-pipeline-fire-in-andhra-pradesh.txt', '/content/split/cabinet-apprised-of-an-mou-between-india-and-guyana-on-cooperation-in-renewable-energy.txt', '/content/split/pm-salutes-air-force-personnel-on-air-force-day.txt', '/content/split/h-e-mr-meng-jianzhu-secretary-of-the-central-political-and-legal-affairs-commission-of-the-communist-party-of-china-met-pm.txt', '/content/split/cabinet-approves-enhancement-of-the-age-of-superannuation-of-medical-officers-of-central-armed-police-forces-and-assam-rifles.txt', '/content/split/text-of-pms-statement-to-media-ahead-of-the-budget-session-of-parliament.txt', '/content/split/bernhard-gerwert-ceo-airbus-defence-and-space-calls-on-pm.txt', '/content/split/pms-challenge-to-ongc-on-the-occasion-of-deendayal-upadhyays-birth-anniversary.txt', '/content/split/prime-minister-congratulates-indian-men-and-women-kabaddi-teams-for-winning-kabaddi-world-cups.txt', '/content/split/representatives-of-global-poverty-project-call-on-pm.txt', '/content/split/telephone-conversation-between-prime-minister-shri-narendra-modi-and-the-president-of-the-republic-of-indonesia-h-e-joko-widodo.txt', '/content/split/pms-address-at-event-to-mark-launch-of-the-centre-for-the-fourth-industrial-revolution.txt', '/content/split/french-minister-for-europe-and-foreign-affairs-calls-on-pm.txt', '/content/split/call-on-pm-by-external-affairs-minister-of-sri-lanka.txt', '/content/split/cabinet-apprised-of-mou-between-india-and-france-on-technical-cooperation-in-the-field-of-railways.txt', '/content/split/pm-hosts-dinner-for-participants-of-the-blackrock-india-investor-summit.txt', '/content/split/pm-condemns-the-attack-in-tunisia.txt', '/content/split/pm-expresses-sadness-on-the-demise-of-social-worker-poornimaben-pakvasa.txt', '/content/split/pm-bows-to-gurudev-rabindranath-tagore-on-his-birth-anniversary-2.txt', '/content/split/varishtha-pension-bima-yojana-2017.txt', '/content/split/pm-urges-gems-and-jewellery-industry-to-work-towards-establishing-a-global-presence.txt', '/content/split/pms-statement-prior-to-attending-the-g-20-summit.txt', '/content/split/pms-remarks-in-condolence-book-at-the-funeral-of-the-founding-father-of-singapore-mr-lee-kuan-yew.txt', '/content/split/pm-condoles-the-passing-away-of-professor-stephen-hawking.txt', '/content/split/pms-speech-on-the-occasion-of-transforming-india-lecture.txt', '/content/split/national-hydrology-project.txt', '/content/split/cabinet-approves-short-term-market-borrowing-by-nabard-for-on-lending-to-cooperative-banks.txt', '/content/split/cabinet-approves-proposal-for-providing-relief-to-militancy-affected-migrants-of-hilly-areas-of-jammu-division-at-par-with-kashmiri-migrants.txt', '/content/split/pm-visits-silvassa-in-dadra-nagar-haveli.txt', '/content/split/pm-condoles-demise-of-former-prime-minister-shri-atal-bihari-vajpayee.txt', '/content/split/pm-expresses-pain-over-the-loss-of-lives-in-road-accident-in-etah-district-of-up.txt', '/content/split/text-of-pms-address-at-national-hand-loom-day.txt', '/content/split/chairman-of-tehreek-e-insaf-party-and-member-of-parliament-of-pakistan-mr-imran-khan-calls-on-the-pm.txt', '/content/split/pms-fifth-interaction-with-additional-secretaries-and-joint-secretaries.txt', '/content/split/pms-speech-at-a-public-meeting-in-valsad-gujarat.txt', '/content/split/pm-presents-to-australian-pm-a-commemorative-photo-collage-dedicated-to-mr-john-lang-an-australian-with-a-remarkable-indian-connection-2.txt', '/content/split/text-of-pms-address-at-asean-business-and-investment-summit.txt', '/content/split/pm-presents-president-of-turkmenistan-a-specially-handcrafted-house-saddle.txt', '/content/split/pm-congratulates-isro-on-successful-launch-of-scatsat-1-satellite.txt', '/content/split/pm-attends-function-to-honour-retired-and-retiring-mps-of-rajya-sabha.txt', '/content/split/cabinet-apprised-of-the-mou-between-india-and-south-africa-in-the-field-of-information-and-communication-technologies.txt', '/content/split/pm-to-inaugurate-the-subhash-chandra-bose-museum-at-red-fort.txt', '/content/split/pm-greets-dr-murli-manohar-joshi-on-his-birthday.txt', '/content/split/bimstec-national-security-chiefs-called-on-pm.txt', '/content/split/pm-visits-shravanabelagola-for-the-bahubali-mahamasthakabhisheka-mahotsava.txt', '/content/split/pm-salutes-pandit-deendayal-upadhyaya-on-his-birth-anniversary-2.txt', '/content/split/prime-minister-chairs-6th-meeting-of-ndma.txt', '/content/split/pm-congratulates-isro-on-the-successful-launch-of-irnss1f-into-the-orbit.txt', '/content/split/press-statement-by-prime-minister-during-the-state-visit-of-president-of-tajikistan-to-india.txt', '/content/split/cabinet-approves-creation-of-a-credit-guarantee-fund-for-mudra-loans-a-boost-to-refinance-operations.txt', '/content/split/pm-addresses-lok-sabha-during-special-discussion-on-the-occasion-of-the-75th-anniversary-of-quit-india-movement.txt', '/content/split/cheque-towards-pmnrf-presented-to-pm-2.txt', '/content/split/pm-pays-tributes-to-shyamji-krishna-varma.txt', '/content/split/pm-unveils-plaque-for-foundation-stone-of-campus-for-iiit-guwahati.txt', '/content/split/cabinet-apprised-of-the-mou-signed-between-india-and-palestine-on-cooperation-in-the-field-of-on-youth-affairs-and-sports.txt', '/content/split/pm-given-presentation-on-kyoto.txt', '/content/split/pm-condoles-the-passing-away-of-shri-u-r-ananthamurthy.txt', '/content/split/tamil-nadu-chief-minister-calls-on-pm.txt', '/content/split/pm-condoles-the-loss-of-lives-in-the-states-of-meghalaya-and-assam-sanctions-ex-gratia.txt', '/content/split/prime-ministers-media-statement-during-visit-to-sri-lanka.txt', '/content/split/pm-congratulates-the-isro-team-for-the-successful-launch-of-pslv-c28.txt', '/content/split/pms-remarks-at-the-launch-of-madan-mohan-malviya-national-mission-on-teachers-and-teaching.txt', '/content/split/pm-expresses-sadness-over-the-loss-of-lives-in-bangladesh-due-to-landslides.txt', '/content/split/pms-speech-at-flagging-off-ceremony-of-run-for-unity-on-rashtriya-ekta-diwas.txt', '/content/split/pms-address-at-the-national-legislators-conference.txt', '/content/split/pm-hails-indias-historic-jump-in-ease-of-doing-business-rankings.txt', '/content/split/text-of-the-question-answer-session-of-prime-minister-shri-narendra-modis-interaction-with-children-at-teachers-day-function.txt', '/content/split/text-of-pms-remarks-at-the-asian-leadership-forum-at-seoul.txt', '/content/split/cabinet-apprised-of-the-mou-between-india-and-republic-of-korea-on-the-cooperation-in-the-field-of-railways.txt', '/content/split/pm-pays-tributes-to-dr-ram-manohar-lohia-on-his-birth-anniversary.txt', '/content/split/pms-statement-prior-to-his-departure-to-nepal-2.txt', '/content/split/pm-pays-tributes-to-veer-savarkar-on-his-birth-anniversary.txt', '/content/split/pms-remarks-at-the-inauguration-of-the-3rd-asia-ministerial-conference-on-tiger-conservation.txt', '/content/split/pm-to-visit-vietnam-to-attend-annual-g-20-leaders-summit-in-hangzhou-china.txt', '/content/split/pm-to-hold-first-radio-programme-on-october-3-2014.txt', '/content/split/signing-of-a-treaty-between-india-and-maldives-on-mutual-legal-assistance-in-criminal-matters.txt', '/content/split/pm-interacts-with-the-awardees-of-national-teachers-awards.txt', '/content/split/pms-address-in-parliament-on-the-election-of-shri-harivansh-as-deputy-chairman-of-the-rajya-sabha.txt', '/content/split/continuation-strengthening-and-establishment-of-krishi-vigyan-kendras.txt', '/content/split/pm-receives-the-foreign-minister-of-uae-h-h-sheikh-abdullah-bin-zayed-al-nahyan.txt', '/content/split/text-of-prime-ministers-mann-ki-baat-on-all-india-radio.txt', '/content/split/cabinet-approves-mou-between-india-and-indonesia-om-combating-illicit-trafficking-in-narcotic-drugs-psychotropic-substances-and-its-precursors.txt', '/content/split/cabinet-approves-setting-up-of-the-national-commission-for-indian-system-of-medicine-bill-2018.txt', '/content/split/pms-interaction-with-village-pradhans-from-varanasi-parliamentary-constituency-2.txt', '/content/split/pm-condoles-the-passing-away-of-former-president-of-india-dr-apj-abdul-kalam.txt', '/content/split/pm-visits-kerala-dedicates-kollam-bypass-on-nh-66-to-the-nation.txt', '/content/split/pm-launches-railway-projects-in-mysuru-inaugurates-development-works-at-shravanabelagola.txt', '/content/split/pms-upcoming-visit-to-gujarat.txt', '/content/split/pm-greets-the-malayali-community-at-the-start-of-chingam.txt', '/content/split/cabinet-approves-dna-technology-use-and-application-regulation-bill-2018.txt', '/content/split/cabinet-approves-mou-on-cooperation-in-the-field-of-justice-between-india-and-tunisia.txt', '/content/split/cabinet-approves-jdi-between-germany-and-india-regarding-cooperation-in-the-sector-of-alternative-medicine.txt', '/content/split/pm-interacts-with-beneficiaries-of-various-social-security-schemes-across-the-country-via-video-bridge.txt', '/content/split/cabinet-approves-re-structuring-of-nsdf-and-nsdc-to-strengthen-governance-implementation-and-monitoring-framework.txt', '/content/split/pms-gift-to-british-prime-minister.txt', '/content/split/leader-of-opposition-of-canada-andrew-scheer-calls-on-pm.txt', '/content/split/cabinet-approves-signing-of-agreement-between-india-and-ukraine-for-cooperation-in-agriculture-and-food-industry.txt', '/content/split/pm-condoles-the-demise-of-pa-sangma.txt', '/content/split/pm-belgian-pm-remotely-activate-aries-telescope-at-deosthal-uttarakhand.txt', '/content/split/cabinet-approves-introduction-of-registration-of-marriage-of-nri-bill-2019.txt', '/content/split/infusion-of-rs-60-crore-in-ifci-ltd-to-make-it-a-government-company.txt', '/content/split/his-holiness-syedna-mufaddal-saifuddin-the-religious-head-of-the-dawoodi-bohra-community-calls-on-the-pm.txt', '/content/split/pm-strongly-condemns-the-terrorist-attack-in-egypt.txt', '/content/split/cabinet-approves-pune-metro-rail-project-phase-1.txt', '/content/split/pm-invites-suggestions-from-the-people-on-international-day-of-yoga-and-services-in-indian-embassies.txt', '/content/split/introduction-of-the-bureau-of-indian-standards-bill-2015.txt', '/content/split/pm-congratulates-isro-scientists-on-the-successful-testing-of-scramjet-rocket-engine.txt', '/content/split/pm-to-visit-gujarat-inaugurate-phase-1-of-ro-ro-ferry-service-between-ghogha-and-dahej.txt', '/content/split/pms-address-at-maghar-uttar-pradesh-on-the-occasion-of-the-500th-death-anniversary-of-the-great-saint-and-poet-kabir.txt', '/content/split/kathmandu-declaration-eighteenth-saarc-summit-kathmandu-nepal-26-27-november-2014.txt', '/content/split/pm-salutes-brave-crpf-personnel-who-were-martyred-in-attack-in-sukma.txt', '/content/split/pms-message-on-national-sports-day.txt', '/content/split/revised-agreement-between-india-and-the-republic-of-korea-for-the-avoidance-of-double-taxation-and-prevention-of-fiscal-evasion-taxes-on-income.txt', '/content/split/cabinet-approves-moc-between-india-and-japan-on-establishing-a-liquid-flexible-and-global-lng-market.txt', '/content/split/cabinet-approves-continuation-of-the-scheme-on-indian-institute-of-corporate-affairs-beyond-the-12th-plan-period.txt', '/content/split/pms-remarks-at-gyan-sangam-the-bankers-retreat-in-pune.txt', '/content/split/text-of-prime-ministers-mann-ki-baat-on-all-india-radio-5.txt', '/content/split/the-minister-of-economic-affairs-and-finance-of-iran-calls-on-the-pm.txt', '/content/split/pm-launches-pm-kisan-from-gorakhpur-in-uttar-pradesh.txt', '/content/split/pm-congratulates-ranil-wickremesinghe-on-the-wonderful-performance-of-his-alliance-in-the-elections-in-sri-lanka.txt', '/content/split/15th-edition-of-pravasi-bharatiya-diwas-inaugurated-by-pm-in-varanasi.txt', '/content/split/pm-congratulates-aanchal-thakur-on-winning-indias-first-international-medal-in-skiing.txt', '/content/split/pm-to-attend-cop-21-summit-at-paris.txt', '/content/split/cabinet-approves-promotion-to-the-officers-of-indian-trade-service-to-the-senior-administrative-grade.txt', '/content/split/pm-to-heads-of-indian-missions.txt', '/content/split/cabinet-approves-procurement-of-voter-verifiable-paper-audit-trail-units-for-use-in-the-general-elections-2019.txt', '/content/split/delegation-from-aga-khan-foundation-meets-pm.txt', '/content/split/preliminary-text-of-prime-minister-shri-narendra-modis-address-to-the-nation-from-the-ramparts-of-the-red-fort-on-the-70th-independence-day.txt', '/content/split/the-factories-amendment-bill-2016.txt', '/content/split/pm-expresses-pain-over-the-loss-of-lives-due-to-capsizing-of-a-boat-in-the-krishna-river.txt', '/content/split/pm-salutes-maulana-abul-kalam-azad-on-his-birth-anniversary.txt', '/content/split/pm-offers-prayers-at-kedarnath-temple-in-uttarakhand-inaugurates-patanjali-research-institute.txt', '/content/split/pms-address-at-inauguration-of-nobel-prize-series-exhibition-at-science-city-ahmedabad.txt', '/content/split/pm-begins-intensive-consultations-on-smart-city-initiative.txt', '/content/split/pms-speech-at-the-convocation-of-sher-e-kashmir-university-of-agricultural-sciences-and-technology-jammu.txt', '/content/split/pm-launches-saansad-adarsh-gram-yojana.txt', '/content/split/pm-assesses-progress-of-healthcare-initiatives.txt', '/content/split/pm-meets-trade-union-leaders.txt', '/content/split/pm-greets-people-across-tripura-on-the-jayanti-of-maharaja-bir-bikram-kishore-debbarma-manikya-bahadur.txt', '/content/split/pm-previews-exhibition-on-the-theme-uniting-india-sardar-patel.txt', '/content/split/pm-wishes-shri-atal-bihari-vajpayee-on-his-birthday.txt', '/content/split/pm-greets-people-on-ambedkar-jayanti.txt', '/content/split/cabinet-approves-agreement-between-india-and-morocco-on-mutual-legal-assistance-in-criminal-matters.txt', '/content/split/cabinet-approves-cadre-review-of-group-a-executive-cadre-of-central-industrial-security-force.txt', '/content/split/pm-exhorts-irs-probationers-to-trust-the-people.txt', '/content/split/pm-condoles-the-passing-away-of-educationist-kireet-joshi.txt', '/content/split/pm-at-prayagraj-inaugurates-new-airport-complex-integrated-command-and-control-centre-for-kumbh-mela-launches-development-projects.txt', '/content/split/text-of-pms-remarks-at-inauguration-of-global-exhibition-on-services.txt', '/content/split/shri-sachin-tendulkar-calls-on-pm.txt', '/content/split/cabinet-approves-noida-greater-noida-metro-rail-project.txt', '/content/split/honouring-the-legacy-of-mahatma-gandhi.txt', '/content/split/pm-salutes-infantry-on-infantry-day.txt', '/content/split/pm-interacts-with-beneficiaries-of-various-digital-india-initiatives-across-the-country-through-video-bridge.txt', '/content/split/pms-remarks-at-the-official-handover-and-inaugural-ceremony-of-national-trauma-center.txt', '/content/split/cabinet-condoles-death-of-former-president-dr-a-p-j-abdul-kalam.txt', '/content/split/pm-greets-the-people-on-the-auspicious-occasion-of-buddha-purnima.txt', '/content/split/pm-condemns-terror-attack-in-pathankot.txt', '/content/split/pm-invites-ideas-for-his-speech-on-august-15.txt', '/content/split/pm-interacts-with-beneficiaries-of-various-health-care-schemes-across-the-country-through-video-bridge.txt', '/content/split/pms-address-at-the-foundation-stone-laying-ceremony-of-vanijya-bhawan.txt', '/content/split/pm-to-inaugurate-partners-forum-2018.txt', '/content/split/pms-meetings-with-south-african-president-and-south-american-leaders-on-the-margins-of-the-brics-summit.txt', '/content/split/pms-addresses-at-icsi-golden-jubilee-year-inauguration-of-icsi.txt', '/content/split/pms-sixteenth-interaction-through-pragati.txt', '/content/split/pm-condoles-the-passing-away-of-shri-balraj-madhok.txt', '/content/split/pm-launches-pradhan-mantri-mudra-yojana.txt', '/content/split/prince-karim-aga-khan-calls-on-pm.txt', '/content/split/pm-speaks-to-chattisgarh-cm-on-the-unfortunate-tragedy-in-bilaspur.txt', '/content/split/india-us-joint-statement-during-pms-visit-to-usa.txt', '/content/split/state-visit-of-the-president-of-the-republic-of-singapore-to-india.txt', '/content/split/pms-remarks-at-the-platinum-jubilee-celebrations-of-pudhari.txt', '/content/split/text-of-pms-address-at-the-bombay-art-society-mumbai.txt', '/content/split/pms-remarks-on-the-election-of-shri-harivansh-as-deputy-chairman-of-the-rajya-sabha.txt', '/content/split/pms-address-at-launch-of-various-development-projects-at-raebareli-up.txt', '/content/split/prime-minister-to-launch-khelo-india-school-games-in-the-capital-tomorrow.txt', '/content/split/cabinet-approves-mou-between-india-and-poland-for-the-promotion-of-civil-aviation-cooperation.txt', '/content/split/pms-speech-at-inauguration-of-multiple-government-projects-at-sahibganj-jharkhand.txt', '/content/split/cabinet-approves-mou-between-india-and-cuba-on-cooperation-in-the-field-of-health-and-medicine.txt', '/content/split/pm-visits-balangir-launches-development-projects-worth-rs-1500-crore-for-odisha.txt', '/content/split/construction-of-69-bridges-including-approach-roads-on-the-tamu-kyigone-kalewa-road-section-of-the-trilateral-highway-in-myanmar.txt', '/content/split/pm-witnesses-the-signing-of-historic-peace-accord-between-government-of-india-and-nationalist-socialist-council-of-nagaland-nscn.txt', '/content/split/cabinet-approves-implementation-of-ccea-decision-on-closure-of-tungabhadra-steel-products-limited.txt', '/content/split/extension-of-the-term-of-the-7th-central-pay-commission.txt', '/content/split/pms-address-at-centenary-celebrations-of-patna-university.txt', '/content/split/pm-speaks-to-uk-pm-expresses-solidarity-with-uk-after-the-terror-attack-in-manchester.txt', '/content/split/pm-pays-tributes-to-pt-madan-mohan-malaviya-on-his-jayanti-2.txt', '/content/split/pm-to-attend-inauguration-of-birth-centenary-celebration-of-nanaji-deshmukh.txt', '/content/split/cabinet-approves-recommendations-of-inter-ministerial-group-on-stressed-assets-in-telecom-sector.txt', '/content/split/pms-informal-meeting-with-secretaries-to-union-government.txt', '/content/split/text-of-pms-address-at-centenary-celebrations-of-jagadguru-dr-sri-shivarathri-rajendra-mahaswami-ji-of-sri-suttur-math.txt', '/content/split/release-of-ex-gratia-under-pmnrf.txt', '/content/split/pms-remarks-at-the-dedication-of-the-renovated-durraiappah-stadium-in-jaffna-to-the-people-of-sri-lanka-through-video-link.txt', '/content/split/resolution-for-adoption-of-the-recommendations-of-railway-convention-committee-2014.txt', '/content/split/protocol-amending-the-convention-and-the-protocol-between-india-and-israel-for-the-avoidance-of-double-taxation-and-for-the-prevention-of-fiscal-evasion-with-respect-to-taxes-on-income-and-on-capital.txt', '/content/split/pm-welcomes-the-indians-who-have-returned-from-south-sudan.txt', '/content/split/cabinet-approves-national-policy-on-software-products-2019.txt', '/content/split/excerpts-from-pms-interaction-with-participants-across-the-globe-in-bharat-ki-baat-sabke-saath-programme-at-london.txt', '/content/split/united-states-congressional-delegation-calls-on-prime-minister.txt', '/content/split/pm-conveys-greetings-on-united-nations-day.txt', '/content/split/cabinet-approves-proposal-for-withdrawal-of-nalanda-university-amendment-bill-2013-pending-in-rajya-sabha.txt', '/content/split/pm-to-dedicate-sardar-sarovar-dam-to-the-nation-address-two-public-meetings-in-gujarat.txt', '/content/split/cabinet-apprised-of-progress-under-nhm-and-decisions-of-empowered-programme-committee-and-mission-steering-group-of-nhm.txt', '/content/split/pms-message-on-the-occasion-of-anti-leprosy-day.txt', '/content/split/pms-third-interaction-with-additional-secretaries-and-joint-secretaries.txt', '/content/split/pm-interacts-with-mission-gange-delegation.txt', '/content/split/cabinet-approves-revised-cost-estimate-for-setting-up-of-india-post-payments-bank.txt', '/content/split/text-of-pms-address-at-the-parliament-of-afghanistan.txt', '/content/split/cabinet-approves-establishment-of-food-legumes-research-platform-at-amlaha-sehore-mp-by-icarda.txt', '/content/split/pms-speech-at-global-entrepreneurship-summit-2017.txt', '/content/split/pms-address-at-the-economic-times-global-business-summit-2018.txt', '/content/split/prime-ministers-keynote-address-at-the-pmnch-partners-forum-in-new-delhi.txt', '/content/split/women-and-children-tie-rakhi-on-pms-wrist-on-the-occasion-of-raksha-bandhan.txt', '/content/split/cabinet-approves-action-plan-for-champion-sectors-in-services.txt', '/content/split/cabinet-approves-cadre-review-and-formation-of-group-a-service-of-the-technical-cadre-of-peso-in-the-name-of-ipess.txt', '/content/split/pm-reaffirms-commitment-towards-water-conservation.txt', '/content/split/signing-of-mous-between-cert-in-with-its-counterparts-in-malaysia-singapore-japan.txt', '/content/split/cabinet-approves-leasing-out-six-airports-ahmedabad-jaipur-lucknow-guwahati-thiruvananthapuram-and-mangaluru-through-ppp.txt', '/content/split/pm-speaks-to-bihar-cm-on-situation-arising-due-to-storms-in-various-parts-of-the-state.txt', '/content/split/pm-greets-the-people-on-durga-ashtami-celebrations.txt', '/content/split/pm-congratulates-isro-for-the-successful-launch-of-gsat-6.txt', '/content/split/pm-delivers-opening-remarks-at-3rd-meeting-of-governing-council-of-niti-aayog.txt', '/content/split/pm-condoles-the-passing-away-of-shri-mohammad-asrarul-haque.txt', '/content/split/union-cabinet-decides-to-reimburse-amount-of-value-cut-on-wheat-procurement-price-to-states.txt', '/content/split/pm-condoles-the-accident-in-etahup-announces-ex-gratia-of-rs-2-lakhs-from-pmnrf.txt', '/content/split/pms-statement-to-media-at-the-start-of-the-winter-session-of-parliament-2.txt', '/content/split/cabinet-approves-setting-up-of-a-central-university-in-andhra-pradesh.txt', '/content/split/pm-launches-government-projects-in-dadra-and-nagar-haveli.txt', '/content/split/national-mineral-policy-2019-approved-by-cabinet.txt', '/content/split/cabinet-approves-mou-between-india-and-macedonia-on-cooperation-in-the-field-of-health.txt', '/content/split/chinese-president-and-first-lady-visit-sabarmati-riverfront-accompanied-by-the-pm.txt', '/content/split/pm-condemns-the-attacks-in-afghanistan.txt', '/content/split/pms-statement-to-media-at-the-start-of-the-winter-session-of-parliament.txt', '/content/split/pm-pays-homage-to-mahatma-gandhi-and-all-the-martyrs-who-gave-their-lives-for-the-nation-on-martyrs-day.txt', '/content/split/pm-to-address-conference-on-transformation-of-aspirational-districts.txt', '/content/split/pm-congratulates-all-sportspersons-and-sports-enthusiasts-on-national-sports-day-pays-tributes-to-legendary-hockey-player-major-dhyan-chand.txt', '/content/split/pm-summons-delhi-police-commissioner-bs-bassi-expresses-anguish-and-concern-over-rising-crime-rate-in-the-capital.txt', '/content/split/cabinet-approves-simplification-and-liberalisation-of-the-fdi-policy-2016-in-various-sectors.txt', '/content/split/pm-reviews-flood-situation-in-north-eastern-states-at-a-series-of-high-level-meetings-in-guwahati-announces-assistance-of-over-rs-2000-crore.txt', '/content/split/brics-leaders-xiamen-declaration.txt', '/content/split/text-of-pms-reaction-on-union-general-budget-2015-to-dd-news.txt', '/content/split/pms-upcoming-visit-to-china-and-myanmar-2.txt', '/content/split/government-decides-to-allow-states-to-impose-and-enforce-stock-limits-to-check-the-price-rise-in-sugar.txt', '/content/split/pm-attends-first-anniversary-celebration-of-smart-cities-mission-and-amrut-in-pune.txt', '/content/split/pm-witnesses-collective-e-grih-pravesh-lays-foundation-stone-for-development-projects-in-palamu-jharkhand.txt', '/content/split/pm-meets-president-of-united-states-president-of-france-and-prime-minister-of-the-united-kingdom.txt', '/content/split/pms-address-on-the-occasion-of-the-launch-of-main-nahin-hum-portal-app-and-interaction-with-it-professionals-on-self4society.txt', '/content/split/cabinet-approves-proposal-to-introduce-the-financial-resolution-and-deposit-insurance-bill-2017.txt', '/content/split/pm-greets-bimstec-nations-on-20th-anniversary-of-bimstec.txt', '/content/split/pms-remarks-at-opening-session-of-governors-conference.txt', '/content/split/president-elect-of-the-united-nations-general-assembly-calls-on-prime-minister.txt', '/content/split/cabinet-approves-continuation-of-phase-4-of-geosynchronous-satellite-launch-vehicle-gslv.txt', '/content/split/pm-addresses-district-collectors-from-across-the-country-via-video-conference-on-the-theme-of-new-india-manthan.txt', '/content/split/funding-of-exports-to-iran-from-india-through-the-export-development-fund-of-exim-bank.txt', '/content/split/pm-salutes-coast-guard-personnel-on-38th-raising-day-of-indian-coast-guard.txt', '/content/split/pm-to-pay-homage-to-mahatma-gandhi-attend-programmes-related-to-sanitation-and-renewable-energy-on-october-2.txt', '/content/split/cabinet-approves-mou-with-myanmar-for-cooperation-in-the-field-of-traditional-systems-of-medicine.txt', '/content/split/list-of-agreements-signed-during-prime-ministers-visit-to-the-kyrgyz-republic.txt', '/content/split/joint-statement-on-the-state-visit-of-prime-minister-of-australia-to-india.txt', '/content/split/cabinet-approves-mou-between-india-and-bolivia-on-cooperation-in-the-field-of-traditional-systems-of-medicine-and-homoeopathy.txt', '/content/split/ambassador-ms-nikki-haley-united-states-permanent-representative-to-the-united-nations-calls-on-pm.txt', '/content/split/withdrawal-of-the-drugs-and-cosmetics-amendment-bill-2013.txt', '/content/split/pm-greets-people-across-the-country-celebrating-various-festivals-on-the-advent-of-new-year.txt', '/content/split/determination-of-marketing-margin-for-supply-of-domestic-gas-to-urea-and-lpg-producers-2.txt', '/content/split/cabinet-approves-raising-of-four-additional-battalions-of-national-disaster-response-force.txt', '/content/split/pms-remarks-at-the-community-reception-in-berlin.txt', '/content/split/pms-speech-at-gajwel-telangana.txt', '/content/split/pm-to-visit-himachal-pradesh-tomorrow.txt', '/content/split/cabinet-approves-delegation-of-powers-to-minister-of-petroleum-and-natural-gas-and-minister-of-finance-to-approve-the-award-of-the-blockscontract-areas-to-successful-bidders.txt', '/content/split/pm-inaugurates-badarpur-faridabad-metro-line.txt', '/content/split/pm-pays-homage-to-all-those-who-lost-their-lives-in-hiroshima-bombings-during-the-world-war-ii.txt', '/content/split/two-groups-of-secretaries-present-ideas-and-suggestions-to-pm-2.txt', '/content/split/pms-address-at-brics-outreach-dialogue-in-johannesburg-south-africa.txt', '/content/split/pm-addresses-destination-uttarakhand-investors-summit-2018.txt', '/content/split/pm-greets-the-people-of-tajikistan-on-their-independence-day.txt', '/content/split/pms-address-at-the-inauguration-of-bansagar-canal-project-and-laying-of-foundation-stone-for-various-development-projects-in-mirzapur.txt', '/content/split/cabinet-approves-the-signing-and-ratification-of-mou-for-establishment-of-the-bimstec-grid-interconnection.txt', '/content/split/pm-attends-50th-raising-day-celebrations-of-cisf.txt', '/content/split/pms-address-at-the-inauguration-of-9th-vibrant-gujarat-summit-2019.txt', '/content/split/cabinet-approves-modifications-in-the-7th-cpc-recommendations-on-pay-and-pensionary-benefits.txt', '/content/split/proposal-to-permit-reserve-bank-of-india-to-enter-into-currency-swap-agreement-with-the-central-bank-of-sri-lanka.txt', '/content/split/pms-acceptance-speech-at-the-conferment-of-the-bangladesh-liberation-war-honour-on-former-prime-minister-atal-bihari-vajpayee.txt', '/content/split/pm-announces-increase-in-remuneration-for-asha-and-anganwadi-workers.txt', '/content/split/pm-visits-institute-for-stem-cell-research-national-centre-for-biological-sciences-interacts-with-scientists.txt', '/content/split/pms-post-on-the-chinese-social-media-platform-weibo.txt', '/content/split/pms-address-at-indian-community-reception-in-washington-dc-usa.txt', '/content/split/pms-address-at-inauguration-of-new-civil-cancer-eye-hospitals-in-ahmedabad.txt', '/content/split/pms-interaction-with-scholars-participating-in-neemrana-conference.txt', '/content/split/pm-dedicates-sardar-sarovar-dam-to-the-nation-attends-closing-ceremony-of-narmada-mahotsav-at-dabhoi.txt', '/content/split/pms-address-on-the-laying-of-the-foundation-stone-for-various-development-projects-in-solapur.txt', '/content/split/cabinet-approves-mou-between-india-and-israel-on-national-campaign-for-water-conservation-in-india.txt', '/content/split/pm-speaks-to-prime-minister-of-pakistan-expresses-condolences-on-the-loss-of-lives-due-to-the-quake-offers-all-possible-assistance-from-india.txt', '/content/split/pm-condemns-the-blast-in-bangkok.txt', '/content/split/dg-itbp-presents-a-cheque-of-rs-8-5-crore-towards-prime-ministers-national-relief-fund.txt', '/content/split/cabinet-approves-mou-between-india-and-france-in-the-field-of-energy-efficiency-energy-conservation.txt', '/content/split/pms-gift-to-president-of-the-peoples-republic-of-china-mr-xi-jinping.txt', '/content/split/prime-ministers-keynote-speech-at-agm-of-us-india-business-council-usibc.txt', '/content/split/pms-remarks-at-public-meeting-after-paying-homage-at-martyrs-memorial-in-hussainiwala.txt', '/content/split/ips-probationers-of-2017-batch-call-on-pm.txt', '/content/split/on-earthday-pm-reaffirms-commitment-towards-creating-a-better-planet.txt', '/content/split/pms-second-interaction-with-additional-secretaries-and-joint-secretaries.txt', '/content/split/pm-calls-for-swift-action-to-stop-pollution-of-river-ganga.txt', '/content/split/cabinet-approves-establishment-of-national-institute-of-mental-health-rehabilitation-at-bhopal.txt', '/content/split/cabinet-approves-increasing-of-government-ownership-in-gst-network-and-change-in-the-existing-structure-with-transitional-plan.txt', '/content/split/pms-mann-ki-baat-programme-on-all-india-radio-18.txt', '/content/split/pm-to-visit-cyclone-ockhi-affected-areas-of-lakshadweep-tamil-nadu-and-kerala-tomorrow.txt', '/content/split/pm-makes-brief-stopover-in-chennai-en-route-to-sriharikota-has-a-courtesy-meeting-with-ms-jayalalithaa.txt', '/content/split/setting-up-and-operationalisation-of-six-new-iits.txt', '/content/split/pm-wishes-the-participants-of-khelo-india-youth-games.txt', '/content/split/cabinet-approves-replacement-of-major-port-trusts-act-1963-with-the-major-port-trust-authorities-bill-2016.txt', '/content/split/cabinet-approves-mou-between-india-and-uzbekistan-on-cooperation-in-pharmaceutical-sector.txt', '/content/split/pms-address-at-the-unveiling-ceremony-of-portrait-of-shri-atal-bihari-vajpayee-in-the-parliament.txt', '/content/split/pm-fulfils-wish-of-the-people-of-uri.txt', '/content/split/ms-nikki-haley-calls-on-pm.txt', '/content/split/major-policy-initiatives-to-give-a-boost-to-petroleum-and-hydrocarbon-sector.txt', '/content/split/pms-address-during-the-video-interaction-with-asha-anm-and-anganwadi-workers-throughout-the-country.txt', '/content/split/pm-wishes-doctors-and-cas-on-doctors-day-and-ca-day.txt', '/content/split/memorandum-of-understanding-between-india-and-korea-on-cooperation-in-the-fields-of-maritime-transport-and-logistics.txt', '/content/split/pm-wishes-people-of-tripura-on-statehood-day.txt', '/content/split/pms-address-at-swachh-shakti-2017-a-convention-of-women-sarpanches-at-gandhinagar-gujarat.txt', '/content/split/pm-bows-to-gurudev-rabindranath-tagore-on-his-birth-anniversary.txt', '/content/split/amendments-in-the-compensatory-afforestation-fund-bill-2015.txt', '/content/split/pms-speech-at-the-laying-of-the-foundation-stones-of-various-development-projects-in-varanasi.txt', '/content/split/cabinet-approves-mou-between-india-and-european-union-on-water-cooperation.txt', '/content/split/pm-to-young-ias-officers-fill-the-system-with-energy-of-new-india.txt', '/content/split/cabinet-approves-mou-between-niti-aayog-and-medrf-in-the-field-of-social-economic-industrial-and-regional-development-programs.txt', '/content/split/pm-extends-new-year-greetings-to-citizens-across-the-nation.txt', '/content/split/pm-expresses-joy-on-crossing-of-10-crore-mark-in-the-number-of-enrollments-under-the-recently-launched-3-social-security-schemes.txt', '/content/split/delegation-of-british-mps-calls-on-prime-minister.txt', '/content/split/pm-deplores-attack-on-crpf-personnel-in-chhattisgarh.txt', '/content/split/pm-greets-people-on-buddha-purnima.txt', '/content/split/text-of-pms-statement-to-the-media-with-president-michel-of-seychelles.txt', '/content/split/pm-to-interact-directly-with-farmers-across-the-country-tomorrow.txt', '/content/split/pm-pays-tributes-to-maulana-abul-kalam-azad-and-acharya-jb-kripalani-on-their-birth-anniversaries.txt', '/content/split/pm-to-visit-santkabir-nagar-on-june-28-2018.txt', '/content/split/cabinet-approves-establishment-of-rashtriya-kamdhenu-aayog-for-conservation-protection-and-development-of-cows-and-their-progeny.txt', '/content/split/pms-statement-to-the-media-during-the-joint-media-briefing-with-state-counsellor-of-myanmar.txt', '/content/split/pms-address-at-gandhi-peace-prize-presentation-ceremony-at-rashtrapati-bhawan-new-delhi.txt', '/content/split/former-president-of-sri-lanka-ms-chandrika-kumaratunga-bhandaranaike-calls-on-the-pm.txt', '/content/split/pms-mann-ki-baat-address-on-all-india-radio-2.txt', '/content/split/shri-narendra-modi-to-visit-uttar-pradesh-tomorrow.txt', '/content/split/pm-unveils-bust-of-mahatma-gandhi-at-yonsei-university-in-seoul.txt', '/content/split/cabinet-approves-new-umbrella-scheme-pradhan-mantri-annadata-aay-sanrakshan-abhiyan-pm-aasha.txt', '/content/split/proposals-of-airports-authority-of-india-aai-for-leasing-of-land-at-various-aai-airports-to-indian-coast-guard-icgindian-navy.txt', '/content/split/saarc-health-ministers-call-on-pm.txt', '/content/split/cabinet-approves-setting-up-of-indian-institute-of-petroleum-and-energy-at-visakhapatnam-in-andhra-pradesh.txt', '/content/split/pm-launches-pragati-a-multi-purpose-multi-modal-platform-for-pro-active-governance-and-timely-implementation.txt', '/content/split/pms-reply-to-motion-of-thanks-to-the-presidents-address-in-lok-sabha.txt', '/content/split/pm-congratulates-the-indian-mens-kabaddi-team-on-winning-the-gold-medal-in-the-incheon-asian-games-2014.txt', '/content/split/pm-welcomes-union-budget-terms-it-positive-and-pragmatic.txt', '/content/split/pms-address-at-the-inauguration-of-the-newly-constructed-western-court-annexe-new-delhi.txt', '/content/split/cabinet-approves-allotment-of-land-to-madhya-pradesh-government-for-construction-of-its-state-guest-house-in-delhi.txt', '/content/split/cabinet-approves-signing-of-mou-between-india-and-saudi-arabia-in-the-field-of-tourism.txt', '/content/split/mou-between-india-and-vietnam-for-cooperation-in-the-field-of-animal-health.txt', '/content/split/cabinet-approves-mou-on-cooperation-in-the-textiles-clothing-and-fashion-sectors-between-india-and-australia.txt', '/content/split/pm-salutes-cisf-personnel-on-46th-raising-day-of-cisf.txt', '/content/split/pm-greets-the-people-of-luxembourg-on-their-national-day.txt', '/content/split/cabinet-approves-insolvency-and-bankruptcy-code-amendment-bill-2017-to-replace-the-insolvency-and-bankruptcy-code-amendment-ordinance-2017.txt', '/content/split/cabinet-approves-the-proposal-for-amendment-to-the-resolutions-of-the-public-enterprises-selection-board.txt', '/content/split/text-of-pms-reply-to-the-debate-on-motion-of-thanks-to-presidents-address-in-rajya-sabha-preliminary-transcript.txt', '/content/split/cy-leung-chief-executive-of-hong-kong-special-administrative-region-sar-call-on-pm.txt', '/content/split/pm-launches-mission-bhagiratha-lays-foundation-stone-of-key-development-projects-in-telangana.txt', '/content/split/cabinet-approves-accession-to-the-protocol-under-who-framework-convention-on-tobacco-control.txt', '/content/split/pm-addresses-india-today-conclave.txt', '/content/split/remarks-by-prime-minister-shri-narendra-modi-at-the-launch-of-the-international-solar-alliance-cop-21-paris-30-november-2015.txt', '/content/split/pms-address-at-inauguration-of-joint-conference-of-chief-ministers-chief-justices-of-high-courts-at-new-delhi.txt', '/content/split/prime-ministers-retreat-with-chief-ministers.txt', '/content/split/pm-addresses-the-nation.txt', '/content/split/dedication-of-the-duraiappah-stadium-in-jaffna-renovated-by-india-to-the-people-of-sri-lanka.txt', '/content/split/pms-meeting-with-secretaries-to-the-government-of-india.txt', '/content/split/pm-condoles-the-passing-away-of-lance-naik-hanumanthappa.txt', '/content/split/pm-congratulates-shri-thambi-durai-on-his-unanimous-election-as-deputy-speaker.txt', '/content/split/pm-to-receive-israel-pm-netanyahu-in-gujarat-tomorrow.txt', '/content/split/approval-for-signing-of-mou-between-india-and-mongolia-for-enhancing-cooperation-in-border-guarding-policing-and-surveillance.txt', '/content/split/cabinet-approves-conferment-of-central-group-a-service-and-cadre-review-of-group-a-executive-officers-of-sashastra-seema-bal.txt', '/content/split/highlights-of-pms-independence-day-speech-2017.txt', '/content/split/text-of-pms-address-at-public-meeting-in-dantewada-chhattisgarh.txt', '/content/split/opening-remarks-by-prime-minister-shri-narendra-modi-at-the-brics-summit-fortaleza-brazil-2.txt', '/content/split/pm-narendra-modi-conferred-with-the-highest-civilian-honour-of-afghanistan.txt', '/content/split/pm-condoles-the-passing-away-of-mr-dileep-padgaonkar.txt', '/content/split/pms-visit-to-arunachal-pradesh.txt', '/content/split/cabinet-approves-agreement-between-the-india-and-croatia-on-economic-cooperation.txt', '/content/split/pm-announces-setting-up-of-task-force-to-prepare-action-plan-for-the-next-three-olympics-games-2020-2024-and-2028.txt', '/content/split/pm-congratulates-tejaswini-sawant-for-the-gold-in-the-womens-50m-rifle-3-positions-event.txt', '/content/split/cabinet-approves-setting-up-of-india-post-payments-bank.txt', '/content/split/pm-greets-people-on-the-beginning-of-ramzan.txt', '/content/split/pms-address-at-the-inaugural-session-of-10th-brics-summit-in-johannesburg-south-africa.txt', '/content/split/pm-calls-for-best-possible-treatment-for-gorakhdham-rail-accident-injured-announces-relief.txt', '/content/split/pm-visits-shirdi-maharashtra-attends-valedictory-function-of-centenary-celebration-of-shri-saibaba-addresses-gathering.txt', '/content/split/text-of-pms-address-at-samvad-global-hindu-buddhist-initiative-on-conflict-avoidance-and-environment-consciousness.txt', '/content/split/cabinet-approves-commemoration-of-the-550th-birth-anniversary-of-shri-guru-nanak-devji.txt', '/content/split/pm-greets-people-of-telangana-and-andhra-pradesh.txt', '/content/split/cabinet-approves-extension-of-the-validity-of-central-orders-in-respect-of-edible-oils-and-edible-oilseeds-and-central-order-no-2857e-in-respect-of-pulses.txt', '/content/split/cabinet-approves-two-percent-dearness-allowance-to-central-government-employees.txt', '/content/split/pm-releases-platinum-jubilee-milestone-book-on-tata-memorial-centre.txt', '/content/split/cabinet-approves-establishment-of-national-institute-of-mental-health-rehabilitation-in-sehore-district-instead-of-bhopal.txt', '/content/split/pm-remembers-sardar-patel-on-his-punya-tithi-2.txt', '/content/split/cabinet-approves-mou-between-india-and-israel-on-cooperation-in-the-oil-and-gas-sector.txt', '/content/split/pm-pays-tribute-to-c-rajagopalachari-on-his-birth-anniversary.txt', '/content/split/pm-condoles-the-passing-away-of-renowned-sufi-singer-shri-pyarelal-wadali.txt', '/content/split/cabinet-approves-indias-membership-of-the-international-continental-scientific-drilling-program.txt', '/content/split/pm-reviews-drought-and-water-scarcity-situation-at-high-level-meeting-with-gujarat-cm.txt', '/content/split/cabinet-approves-construction-of-10-units-of-indias-indigenous-pressurized-heavy-water-reactors-phwr.txt', '/content/split/pms-statement-after-successful-launch-of-irnss-1g.txt', '/content/split/cabinet-approves-real-estate-regulation-and-development-bill-2015.txt', '/content/split/cabinet-approves-patna-metro-rail-project-comprising-two-corridors-danapur-to-mithapur-patna-railway-station-of-new-isbt.txt', '/content/split/indias-approach-to-climate-change-negotiations-at-lima-peru.txt', '/content/split/defence-minister-of-israel-calls-on-pm.txt', '/content/split/foreign-minister-of-japan-calls-on-pm-2.txt', '/content/split/pm-lays-foundation-stones-of-jnpt-port-trust-and-port-connectivity-road-hands-over-letters-of-land-allotment-to-project-affected-persons.txt', '/content/split/pm-congratulates-the-students-who-passed-cbse-class-x-exams.txt', '/content/split/pm-visits-gurudwara-khalsa-diwan-and-lakshmi-narayan-temple-in-vancouver.txt', '/content/split/cabinet-approves-revision-of-pay-and-allowances-of-lieutenant-governors-of-union-territories.txt', '/content/split/pms-message-on-world-no-tobacco-day.txt', '/content/split/pm-greets-the-people-of-telangana-on-statehood-day.txt', '/content/split/pm-expresses-sadness-over-death-of-jawans-in-kashmir-avalanche.txt', '/content/split/additional-allocation-of-foodgrains-to-the-statesuts-for-the-below-poverty-line-bpl-and-above-poverty-line-apl-families-in-the-statesuts-for-the-period-october-2015-to-march-2016.txt', '/content/split/pm-chairs-high-level-meeting-to-review-situation-following-earthquake-in-nepal.txt', '/content/split/pm-greets-gujaratis-across-the-world-on-the-beginning-of-new-year-2.txt', '/content/split/cabinet-approves-mou-between-india-and-brunei-darussalam-in-the-field-of-space-research-science-and-applications.txt', '/content/split/pm-visits-kedarnath-lays-foundation-stone-for-infrastructure-projects.txt', '/content/split/pm-to-visit-kurukshetra-in-haryana-tomorrow.txt', '/content/split/cabinet-approves-creation-of-one-post-of-director-for-new-aiims-at-rae-bareli-gorakhpur-bathinda-guwahati-bilaspur-and-deoghar.txt', '/content/split/pm-meets-dr-abdullah-abdullah-chief-executive-of-afghanistan.txt', '/content/split/pms-twenty-ninth-interaction-through-pragati.txt', '/content/split/pms-statement-prior-to-his-departure-to-germany-spain-russia-and-france.txt', '/content/split/on-ambedkar-jayanti-pm-to-visit-chhattisgarh-inaugurate-health-and-wellness-centre-to-mark-the-launch-of-ayushman-bharat.txt', '/content/split/pm-reviews-preparations-for-launch-of-health-assurance-programme-under-ayushman-bharat-2.txt', '/content/split/text-of-prime-ministers-mann-ki-baat-on-all-india-radio-7.txt', '/content/split/list-of-agreementsmous-signed-between-india-and-mauritius-during-the-visit-of-the-prime-minister-to-mauritius.txt', '/content/split/pms-telephonic-conversation-with-emir-of-qatar.txt', '/content/split/text-of-pms-speech-at-the-luncheon-hosted-by-us-vice-president-joe-biden-and-us-secretary-of-state-john-kerry-in-his-honour.txt', '/content/split/pm-reviews-performance-of-key-infrastructure-sectors-3.txt', '/content/split/cabinet-approves-signing-of-mou-between-india-and-portugal-in-the-field-of-agriculture-and-allied-sectors.txt', '/content/split/text-of-pms-address-at-the-international-convention-on-universal-message-of-simhasth-at-ujjain.txt', '/content/split/probationers-of-indian-foreign-service-call-on-pm.txt', '/content/split/text-of-pms-address-at-the-function-to-mark-the-152nd-birth-anniversary-of-mahatma-ayyankali.txt', '/content/split/pm-greets-the-people-of-liberia-on-their-national-day.txt', '/content/split/cabinet-approves-extension-of-concessional-financing-scheme-cfs-to-support-indian-entities-bidding-for-strategically-important-infrastructure-projects-abroad.txt', '/content/split/cabinet-approves-signing-of-mou-between-india-and-australia-for-cooperation-in-the-disability-sector.txt', '/content/split/cabinet-approves-development-of-exhibition-cum-convention-centre-at-dwarka-new-delhi.txt', '/content/split/pms-address-at-the-inauguration-of-pravasi-bharatiya-divas.txt', '/content/split/pms-address-at-swachh-kumbh-swachh-aabhaar-programme-in-prayagraj.txt', '/content/split/text-of-pms-speech-at-the-sixth-global-focal-point-conference-on-asset-recovery.txt', '/content/split/pm-chairs-meeting-on-urban-development-issues.txt', '/content/split/pms-remarks-after-inaugurating-the-tcs-japan-technology-and-culture-academy.txt', '/content/split/cabinet-apprised-of-mou-between-india-and-tajikistan-on-cooperation-in-the-field-of-renewable-energy.txt', '/content/split/cabinet-gives-ex-post-facto-approval-for-amendment-of-the-constitution-application-to-jammu-kashmir-order-1954.txt', '/content/split/sashastra-seema-bal-srm-university-and-itc-make-donations-for-pmnrf.txt', '/content/split/pm-at-urja-sangam-2015.txt', '/content/split/approval-for-phase-ii-of-ecourts-mission-mode-project.txt', '/content/split/cabinet-approves-phasing-out-foreign-investment-promotion-board.txt', '/content/split/pms-address-at-the-launch-of-various-government-projects-and-schemes-in-nagpur.txt', '/content/split/pms-address-at-the-inauguration-of-agriculture-kumbha-2018-in-lucknow-via-video-conference.txt', '/content/split/pm-addresses-ex-servicemen-attends-dedication-ceremony-of-national-war-memorial.txt', '/content/split/cabinet-approves-mou-on-passenger-cruise-services-on-the-coastal-and-protocol-routes-between-india-and-bangladesh.txt', '/content/split/cabinet-approves-strengthening-of-teaching-patient-clinical-care-and-public-health-programme-implementation-shifting-of-more-experienced-doctors-belonging-to-central-government-and-central-governme.txt', '/content/split/pm-visits-chhattisgarh-inaugurates-integrated-command-and-control-centre-at-naya-raipur.txt', '/content/split/shri-narendra-modi-assumes-office-as-15th-prime-minister-of-india-2.txt', '/content/split/cabinet-approves-cadre-review-of-group-a-executive-officers-of-border-security-force.txt', '/content/split/finalisation-of-issues-related-to-spectrum-in-various-bands.txt', '/content/split/pm-congratulates-bharat-ratna-awardees.txt', '/content/split/press-statement-by-pm-during-his-visit-to-uganda.txt', '/content/split/pm-reviews-preparations-for-launch-of-health-assurance-programme-under-ayushman-bharat.txt', '/content/split/establishment-of-credit-guarantee-funds-for-factoring.txt', '/content/split/pm-congratulates-our-scientists-on-the-successful-test-fire-of-prithvi-ii-missile.txt', '/content/split/text-of-prime-ministers-mann-ki-baat-on-all-india-radio-4.txt', '/content/split/cabinet-approves-introduction-of-the-surrogacy-regulation-bill-2016.txt', '/content/split/cabinet-approves-signing-and-ratifying-the-extradition-agreement-between-india-and-morocco.txt', '/content/split/text-of-pms-address-at-the-first-international-ramayana-mela.txt', '/content/split/cabinet-approves-creation-of-a-single-non-lapsable-corpus-fund-for-secondary-and-higher-education-from-the-proceeds-of-cess-for-secondary-and-higher-education.txt', '/content/split/pms-address-to-the-gathering-at-dussehra-mahotsav-in-aishbagh-ramleela-ground-lucknow.txt', '/content/split/mou-between-india-and-lithuania-for-cooperation-in-the-field-of-agriculture.txt', '/content/split/india-to-accede-to-the-ashgabat-agreement.txt', '/content/split/pms-speech-at-krishi-unnati-mela.txt', '/content/split/mou-on-the-conservation-of-migratory-birds-of-prey-in-africa-and-eurasia.txt', '/content/split/pm-remembers-the-dedication-determination-and-untiring-efforts-of-our-scientists-on-national-science-day.txt', '/content/split/pm-thanks-us-president-barack-obama-for-writing-an-article-on-him-in-time-magazine.txt', '/content/split/cabinet-approves-mou-between-india-and-uzbekistan-on-mutual-cooperation-in-combating-illicit-trafficking-in-narcotics-drugs-psychotropic-substances-and-precursors.txt', '/content/split/pm-salutes-netaji-subhas-chandra-bose-on-his-birth-anniversary.txt', '/content/split/pm-congratulates-medal-winners-in-commonwealth-games.txt', '/content/split/pm-greets-people-of-china-korea-mongolia-and-vietnam-on-the-lunar-new-year-celebrations.txt', '/content/split/pm-delivers-the-convocation-address-at-the-centenary-year-convocation-of-bhu-varanasi.txt', '/content/split/pms-address-on-the-occasion-of-the-5th-international-convention-of-spic-macay-at-new-delhi-via-video-conferencing.txt', '/content/split/pms-address-at-the-release-of-commemorative-stamp-on-1000th-birth-anniversary-of-sri-ramanujacharya.txt', '/content/split/pms-address-via-video-conference-at-the-world-conference-on-it-hyderabad.txt', '/content/split/cabinet-approves-issue-of-notifications-for-general-elections-to-the-lok-sabha-2019.txt', '/content/split/cabinet-approves-interest-subvention-to-banks-on-short-term-crop-loan-to-farmers.txt', '/content/split/pms-address-at-the-release-of-the-book-titled-selected-speeches-of-the-president-vol-4.txt', '/content/split/cabinet-approves-scheme-for-setting-up-of-indian-institute-of-skills-at-different-locations-across-the-country-in-ppp-modes.txt', '/content/split/pm-congratulates-indian-junior-hockey-team-on-winning-the-junior-hockey-world-cup.txt', '/content/split/cabinet-approves-transfer-of-land-from-farakka-barrage-project-to-inland-waterways-authority-of-india.txt', '/content/split/cabinet-condoles-the-demise-of-selvi-j-jayalalithaa-chief-minister-of-tamil-nadu.txt', '/content/split/pm-witnesses-launch-of-irnss-1g-congratulates-isro-scientists-through-video-conferencing.txt', '/content/split/pm-greets-people-of-bhutan-on-their-national-day.txt', '/content/split/pms-address-at-foundation-stone-laying-ceremony-of-aiims-in-bhatinda.txt', '/content/split/pm-modi-bangladesh-pm-sheikh-hasina-cms-of-west-bengal-and-tripura-jointly-dedicate-three-projects-in-bangladesh.txt', '/content/split/pm-inaugurates-invest-madhya-pradesh-global-investors-summit-2014.txt', '/content/split/pm-to-attend-commencement-of-work-function-for-rajasthan-refinery-in-barmer-rajasthan.txt', '/content/split/pm-shares-link-to-special-microsite-on-varanasi.txt', '/content/split/pm-pays-tributes-to-swami-dayananda-saraswati-ji-on-his-birth-anniversary.txt', '/content/split/pm-presents-national-bravery-awards.txt', '/content/split/capital-requirement-of-public-sector-banks-raising-capital-from-public-markets-by-broad-basing-shareholding.txt', '/content/split/pm-makes-appointments-to-niti-aayog.txt', '/content/split/approval-for-transfer-back-by-de-leasing-of-72-acres-and-3-marla-of-land-adjoining-main-water-channel-and-forest-area-of-the-sub-campus-of-central-institute-for-research-on-buffaloes-at-nabha-punjab.txt', '/content/split/pm-remembers-sardar-patel-on-his-punya-tithi.txt', '/content/split/prime-minister-sends-a-high-level-central-team-to-the-landslide-affected-areas-in-tawang-district-of-arunachal-pradesh.txt', '/content/split/pm-congratulates-shri-m-venkaiah-naidu-on-being-elected-indias-13th-vice-president.txt', '/content/split/pm-to-visit-arunachal-pradesh-tomorrow.txt', '/content/split/pms-press-statement-during-visit-of-president-of-seychelles-to-india.txt', '/content/split/cabinet-approves-mou-on-third-line-of-credit-of-us-4-5-billion-to-bangladesh-for-implementation-of-developmental-projects.txt', '/content/split/pm-to-address-two-video-conferences-on-31st-december-and-1st-january.txt', '/content/split/pms-address-at-the-plenary-session-of-the-north-eastern-council.txt', '/content/split/full-text-of-pms-speech-at-ranchi-jharkhand.txt', '/content/split/cabinet-approves-status-cum-progress-report-and-constitution-of-special-committee-for-inter-linking-of-rivers-in-compliance-of-judgment-of-supreme-court.txt', '/content/split/telephone-call-between-pm-and-president-ashraf-ghani-of-afghanistan.txt', '/content/split/pm-condoles-the-loss-of-lives-due-to-heavy-rainfall-in-parts-of-tamil-nadu.txt', '/content/split/pm-attends-function-for-the-demonstration-of-retrofit-electric-bus-at-parliament-house.txt', '/content/split/pm-to-visit-gujarat-today-to-attend-african-development-bank-annual-meetings-in-gandhinagar-on-tuesday.txt', '/content/split/youth-from-jk-call-on-pm.txt', '/content/split/pm-inaugurates-cattle-feed-plant-launches-irrigation-and-water-supply-schemes-in-bajipura-gujarat.txt', '/content/split/cabinet-approves-stand-up-india-scheme.txt', '/content/split/pm-to-visit-uttar-pradesh-tomorrow.txt', '/content/split/prime-ministers-statement-at-brics-meeting-with-south-american-leaders.txt', '/content/split/pm-congratulates-mrs-theresa-may-on-taking-over-as-the-new-pm-of-uk.txt', '/content/split/text-of-pms-address-at-the-launch-of-stand-up-india-initiative-in-noida-uttar-pradesh.txt', '/content/split/pms-remarks-at-the-dialogue-with-brics-business-council-in-xiamen-china.txt', '/content/split/pm-condoles-the-demise-of-shri-nek-chand.txt', '/content/split/pm-strongly-condemns-the-terrorist-attack-in-kabul.txt', '/content/split/pm-pays-tributes-to-indian-armed-forces-on-vijay-diwas.txt', '/content/split/pm-condoles-the-passing-away-of-indian-columnist-humorist-and-playwright-shri-taarak-mehta.txt', '/content/split/pms-address-at-the-carpet-expo-varanasi-via-video-conferencing.txt', '/content/split/pm-expresses-grief-on-demise-of-professor-yash-pal.txt', '/content/split/cabinet-approves-isro-and-usgs-for-cooperation-in-the-exchange-and-use-of-u-s-land-remote-sensing-satellite-data.txt', '/content/split/pm-meets-russian-president-vladimir-putin-in-fortaleza.txt', '/content/split/pm-on-paris-agreement-climate-justice-has-won.txt', '/content/split/pms-speech-at-the-50th-raising-day-celebrations-of-the-cisf.txt', '/content/split/pm-releases-commemorative-coin-on-swami-chinmayananda.txt', '/content/split/top-officials-from-soft-bank-corporation-bharti-enterprises-and-japan-bank-for-international-cooperation-call-on-pm.txt', '/content/split/cabinet-approves-civil-aviation-policy.txt', '/content/split/text-of-pms-address-at-the-world-sufi-forum.txt', '/content/split/pms-address-at-the-ncc-rally-in-new-delhi.txt', '/content/split/text-of-pms-remarks-at-public-meeting-after-paying-homage-at-national-martyrs-memorial-in-hussainiwala.txt', '/content/split/pm-to-visit-assam-odisha-attend-international-fleet-review-in-visakhapatnam.txt', '/content/split/pm-congratulates-indias-contingent-at-the-2018-commonwealth-games.txt', '/content/split/call-on-pm-by-h-e-u-wunna-maung-lwin-minister-of-foreign-affairs-of-myanmar.txt', '/content/split/cabinet-gives-ex-post-facto-approval-to-the-cadre-review-of-indian-postal-service-ipos.txt', '/content/split/pm-greets-the-scientists-on-national-science-day-salutes-sir-cv-raman-for-his-contribution-to-science.txt', '/content/split/english-rendering-of-mann-ki-baat-address-by-pm-on-all-india-radio.txt', '/content/split/pm-attends-meeting-of-somnath-trust-2.txt', '/content/split/cabinet-approves-creation-of-indian-enterprise-development-service-ieds-under-the-msme.txt', '/content/split/pms-address-on-the-occasion-of-the-platinum-jubilee-of-the-daily-thanthi-in-chennai.txt', '/content/split/cabinet-approves-creation-of-two-posts-equivalent-to-joint-secretary-level-in-the-interpreters-cadre-of-the-ministry-of-external-affairs.txt', '/content/split/mr-matt-bevin-governor-of-kentucky-calls-on-the-pm.txt', '/content/split/diplomatic-adviser-to-the-french-president-calls-on-pm.txt', '/content/split/pms-remarks-at-the-inauguration-ceremony-of-renovated-stor-palace-in-kabul-via-video-conferencing.txt', '/content/split/cabinet-approves-raising-of-17-indian-reserve-battalions-by-jk-and-lwe-states.txt', '/content/split/pm-greets-the-fellow-citizens-and-election-commission-of-india-on-national-voters-day.txt', '/content/split/pms-statement-to-media-in-the-joint-media-briefing-with-president-of-israel.txt', '/content/split/cabinet-approves-the-constitution-scheduled-tribes-order-amendment-bill-2018-for-revision-in-list-of-scheduled-tribes-of-arunachal-pradesh.txt', '/content/split/pm-congratulates-isro-on-the-successful-launch-of-pslv-c36-resourcesat-2a.txt', '/content/split/pm-inaugurates-conference-of-state-environment-and-forest-ministers.txt', '/content/split/group-of-secretaries-presents-ideas-and-suggestions-to-pm.txt', '/content/split/pms-interaction-through-pragati-6.txt', '/content/split/cabinet-approves-mou-with-south-africa-to-establish-cooperation-in-grassroots-innovation.txt', '/content/split/nobel-peace-prize-winner-kailash-satyarthi-calls-on-pm.txt', '/content/split/excerpts-from-pms-address-at-community-event-in-muscat-oman.txt', '/content/split/list-of-mousagreements-signed-during-state-visit-of-president-of-belarus-to-india.txt', '/content/split/pm-in-varanasi-2.txt', '/content/split/pm-hails-article-by-asean-chair-singapores-pm-mr-lee-hsien-loong.txt', '/content/split/pms-address-at-jagran-forum-on-the-occasion-of-75th-anniversary-celebration-of-dainik-jagran.txt', '/content/split/pm-addresses-inaugural-event-of-national-youth-festival-at-rohtak-via-video-conferencing.txt', '/content/split/pm-receives-telephone-call-from-pak-pm.txt', '/content/split/text-of-pms-address-at-the-conference-of-chairmen-of-boards-of-governors-and-directors-of-iits-at-rashtrapati-bhavan.txt', '/content/split/nepal-prime-minister-speaks-to-pm-on-telephone.txt', '/content/split/pms-upcoming-visit-to-the-united-kingdom-uk-and-turkey.txt', '/content/split/pm-chairs-meeting-to-review-steps-towards-holistic-development-of-islands.txt', '/content/split/pm-releases-digital-version-of-ramcharitmanas.txt', '/content/split/pm-lauds-scientists-for-success-of-gsat-16.txt', '/content/split/lead-intervention-by-prime-minister-at-g20-working-lunch-on-development-and-climate-change.txt', '/content/split/cabinet-approves-signing-of-inter-bank-local-currency-credit-line-agreement-and-cooperation-memorandum-relating-to-credit-ratings-by-edim-bank-under-brics-interbank-cooperation-mechanism.txt', '/content/split/cabinet-approves-mou-between-india-and-the-netherlands-for-bilateral-cooperation-in-the-field-of-water-resources-management.txt', '/content/split/list-of-mousagreements-signed-during-the-visit-of-the-king-of-jordan-to-india.txt', '/content/split/press-statement-by-prime-minister-during-the-visit-of-president-of-brazil-to-india.txt', '/content/split/pm-expresses-condolences-on-the-passing-away-of-shri-ladu-kishore-swain.txt', '/content/split/dr-rafael-reif-president-of-mit-calls-on-pm.txt', '/content/split/india-uk-pms-attend-ceo-forum.txt', '/content/split/pms-greetings-on-the-occasion-of-eid-ul-fitr.txt', '/content/split/pm-addresses-akhil-bharatiya-prachaarya-sammelan.txt', '/content/split/cabinet-approves-indian-institutes-of-information-technology-public-private-partnership-bill-2017.txt', '/content/split/pm-to-visit-odisha-and-chhattisgarh-on-september-22-2018.txt', '/content/split/cabinet-approves-acquiring-land-of-central-water-commission-at-nallagandla-hyderabad-by-telangana-state-government-for-road-widening.txt', '/content/split/pm-addresses-krishi-kumbh-in-lucknow-via-video-conference.txt', '/content/split/cabinet-approves-signing-and-ratification-of-extradition-treaty-between-india-and-malawi.txt', '/content/split/pm-condoles-the-demise-of-swami-atmasthananda-ji.txt', '/content/split/cabinet-approves-mou-on-cooperation-on-youth-matters-between-india-and-russia.txt', '/content/split/army-donates-over-rs-100-crore-to-the-prime-ministers-relief-fund.txt', '/content/split/pm-bows-to-mahatma-gandhi-on-his-birth-anniversary.txt', '/content/split/delegation-of-eminent-muslims-calls-on-pm.txt', '/content/split/text-of-pms-address-after-the-interactive-session-with-assistant-secretaries-ias-2013-batch.txt', '/content/split/ratification-of-international-labour-organisation-convention-no-185-on-the-seafarers-identity-document.txt', '/content/split/cabinet-approves-declaration-of-schedules-areas-in-respect-of-rajasthan-under-fifth-schedule-to-the-constitution-of-india.txt', '/content/split/approval-for-signing-of-agreement-between-the-india-and-mongolia-on-the-transfer-of-sentenced-persons.txt', '/content/split/pm-speaks-to-maharashtra-cm-on-the-situation-arising-due-to-incessant-rain-in-mumbai-and-surrounding.txt', '/content/split/pm-launches-development-projects-in-jharkhand.txt', '/content/split/cabinet-approves-mou-between-india-and-the-usa-for-co-hosting-the-global-entrepreneurship-summit-2017-in-india.txt', '/content/split/pm-condoles-the-loss-of-lives-in-the-crane-crash-in-mecca.txt', '/content/split/pm-in-jammu.txt', '/content/split/status-cum-progress-report-of-special-committee-for-inter-linking-of-rivers.txt', '/content/split/pms-speech-at-the-indian-community-event-in-yangon-myanmar.txt', '/content/split/remarks-by-prime-minister-at-the-10th-east-asia-summit-in-kuala-lumpur.txt', '/content/split/pm-hails-sc-judgement-on-triple-talaq.txt', '/content/split/pm-takes-stock-of-rescue-operations-in-kolkata-following-under-construction-flyover-collapse.txt', '/content/split/text-of-pms-address-at-the-civic-reception-in-seychelles.txt', '/content/split/pms-address-at-the-valedictory-function-of-the-6th-world-ayurveda-congress.txt', '/content/split/text-of-pms-speech-at-closing-ceremony-of-centenary-celebrations-of-the-patna-high-court.txt', '/content/split/india-japan-joint-statement-during-pms-japan-visit.txt', '/content/split/introduction-of-gold-monetization-schemes.txt', '/content/split/pms-address-at-the-inauguration-of-the-dr-ambedkar-national-memorial-at-26-alipur-road-delhi.txt', '/content/split/cabinet-approves-indias-membership-in-the-international-vaccine-institute-ivi-south-korea.txt', '/content/split/text-of-pms-address-at-the-launch-of-centre-for-gandhian-and-indian-studies-at-fudan-university.txt', '/content/split/pm-expresses-grief-over-the-loss-of-lives-due-to-landslide-in-hp.txt', '/content/split/speech-by-pm-at-the-startup-event-27-september-2015-san-jose-california.txt', '/content/split/pms-address-to-the-indian-community-in-kobe-japan.txt', '/content/split/pm-attends-dussehra-celebrations-at-15-august-park-lal-qila-maidan.txt', '/content/split/pm-addresses-nation-from-the-ramparts-of-the-red-fort-on-71st-independence-day.txt', '/content/split/press-statement-by-prime-minister-during-his-visit-to-kenya.txt', '/content/split/cabinet-approves-mou-between-lbsnaa-mussoorie-and-nipam-of-namibia-for-capacity-building.txt', '/content/split/cabinet-approves-fixed-term-for-chairperson-and-members-of-the-national-trust.txt', '/content/split/cabinet-approves-revision-in-the-wage-structure-and-allowances-of-gramin-dak-sevaks-gds-of-the-department-of-posts.txt', '/content/split/pm-congratulates-sania-mirza-and-martina-hingis-on-us-open-victory.txt', '/content/split/cabinet-approves-the-joint-issue-of-postage-stamp-between-india-and-russia.txt', '/content/split/valedictory-session-of-assistant-secretaries-ias-officers-of-2015-batch-make-presentations-to-pm.txt', '/content/split/pms-address-at-the-inauguration-of-the-indian-pavilion-at-cop21-paris.txt', '/content/split/cabinet-approves-special-package-for-employment-generation-in-leather-and-footwear-sector.txt', '/content/split/pms-upcoming-visit-to-china-and-myanmar.txt', '/content/split/ensure-preference-to-domestically-manufactured-electronic-products-in-government-procurement-cabinet-secretarys-directive.txt', '/content/split/pms-interaction-through-pragati-9.txt', '/content/split/text-of-pms-address-at-the-safaigiri-summit-and-awards-2015.txt', '/content/split/pm-condoles-the-passing-away-of-justice-leila-seth.txt', '/content/split/pms-interactions-with-directors-and-deputy-secretaries.txt', '/content/split/cabinet-approves-national-mineral-exploration-policy.txt', '/content/split/sr-gen-u-min-aung-hliang-commander-in-chief-of-the-myanmar-defence-services-calls-on-pm.txt', '/content/split/pm-pays-tributes-to-sardar-patel-on-his-birth-anniversary.txt', '/content/split/cabinet-approves-sale-of-part-of-surplus-and-vacant-land-for-meeting-the-liabilities-of-hindustan-anti-biotics-ltd.txt', '/content/split/prime-minister-meets-the-vice-president-of-the-republic-of-suriname.txt', '/content/split/cabinet-approves-to-the-mou-between-india-and-argentina-on-cooperation-in-the-field-of-medical-products-regulation.txt', '/content/split/pm-visits-himachal-pradesh-lays-foundation-stone-for-aiims-at-bilaspur.txt', '/content/split/text-of-pms-statement-to-media-outside-parliament-ahead-of-the-winter-session-of-2015.txt', '/content/split/pm-starts-his-japan-visit-with-a-private-dinner-with-japanese-prime-minister-shinzo-abe.txt', '/content/split/pms-address-to-students-at-siddaganga-mutt.txt', '/content/split/pms-address-at-golden-jubilee-celebrations-of-press-council-of-india-on-national-press-day.txt', '/content/split/memorandum-of-cooperation-to-be-signed-between-ministry-of-women-child-development-and-bill-melinda-gates-foundation.txt', '/content/split/pm-expresses-grief-at-loss-of-lives-in-train-accident-in-up.txt', '/content/split/cabinet-approves-the-mou-on-cooperation-between-india-and-iran-in-the-field-of-traditional-systems-of-medicine.txt', '/content/split/pm-wishes-indian-athletes-for-rio-2016-paralympics.txt', '/content/split/pms-bilateral-meetings-on-the-sidelines-of-sco-summit-in-astana.txt', '/content/split/pms-statement-on-union-budget-2018-19.txt', '/content/split/mr-maumoon-abdul-gayoom-former-president-of-maldives-and-the-leader-of-the-progressive-party-of-maldives-calls-on-pm.txt', '/content/split/cabinet-approves-policy-to-provide-purchase-preference-psus-under-ministry-of-petroleum-natural-gas.txt', '/content/split/pms-engagements-in-new-york-city-september-24th-2015.txt', '/content/split/cabinet-approves-foreign-investment-in-other-financial-services-sector.txt', '/content/split/pm-bows-to-dr-babasaheb-ambedkar-on-his-birth-anniversary.txt', '/content/split/pm-pays-homage-to-former-pm-shri-lal-bahadur-shastri-on-his-punya-tithi.txt', '/content/split/pm-chairs-high-level-meeting-on-energy-sectors.txt', '/content/split/text-of-pms-address-at-centenary-year-convocation-of-banaras-hindu-university-varanasi.txt', '/content/split/pm-to-inaugurate-new-metro-line-on-december-25-reducing-travel-time-between-noida-and-south-delhi.txt', '/content/split/pm-addresses-economic-times-global-business-summit-2.txt', '/content/split/pm-greets-the-people-of-thailand-on-their-national-day.txt', '/content/split/pm-invites-ideas-from-people-on-the-new-institution-to-replace-the-planning-commission.txt', '/content/split/pms-address-at-run-for-unity-on-sardar-patels-142nd-birth-anniversary.txt', '/content/split/pm-lauds-passage-of-maternity-benefit-amendment-bill-in-lok-sabha.txt', '/content/split/text-of-pmis-keynote-address-at-the-luncheon-hosted-by-nippon-kiedanren-the-japanese-chamber-of-commerce-and-industry-and-the-japan-india-business-cooperation-committee.txt', '/content/split/pm-to-visit-jhunjhunu-in-rajasthan-on-march-8.txt', '/content/split/pm-awarded-the-2018-seoul-peace-prize.txt', '/content/split/pm-remembers-babu-jagjivan-ram-on-his-birth-anniversary.txt', '/content/split/mr-nicolas-sarkozy-former-president-of-france-meets-pm.txt', '/content/split/cabinet-approves-the-protection-of-human-rights-amendments-bill-2018.txt', '/content/split/pm-wishes-citizens-on-national-voters-day.txt', '/content/split/pm-addresses-conference-of-tourism-culture-and-sports-ministries-via-video-conference.txt', '/content/split/pm-chairs-high-level-meeting-on-sugar-sector.txt', '/content/split/pm-inaugurates-international-conference-on-frontiers-in-yoga-research-and-its-applications-at-jigani-bengaluru.txt', '/content/split/peoples-messages-to-make-this-diwali-special-for-armed-forces.txt', '/content/split/pm-congratulates-justice-dalveer-bhandari-on-being-re-elected-to-the-international-court-of-justice.txt', '/content/split/text-of-pms-media-statement-during-joint-press-interaction-with-pm-of-canada-mr-stephen-harper-at-ottawa-canada.txt', '/content/split/cabinet-approves-exchange-of-land-between-aai-and-government-of-odisha-for-widening-of-road-at-biju-patnaiak-airport.txt', '/content/split/pms-address-at-the-outstanding-parliamentarian-awards-function-at-central-hall-of-parliament.txt', '/content/split/cabinet-gives-ex-post-facto-approval-to-indias-approach-for-cop-24-katowice-poland-2-15-december-2018.txt', '/content/split/pms-speech-at-the-launch-of-mohanpura-irrigation-scheme-in-madhya-pradesh.txt', '/content/split/pm-meets-members-of-1965-everest-expedition-on-the-golden-jubilee-of-the-occasion.txt', '/content/split/text-of-pms-address-at-the-inauguration-of-rooftop-solar-power-plant-for-khunti-district-court-in-jharkhand.txt', '/content/split/press-statement-by-pm-during-his-visit-to-switzerland.txt', '/content/split/cabinet-gives-ex-post-facto-approval-to-establishment-of-the-national-institute-of-technology-andhra-pradesh.txt', '/content/split/pms-address-at-the-inauguration-of-chenani-nashri-tunnel-in-jammu-kashmir.txt', '/content/split/text-of-pms-address-at-dedication-of-icicis-digital-village-to-the-nation.txt', '/content/split/cabinet-approves-setting-up-of-new-aiims-in-bilaspur.txt', '/content/split/swift-follow-up-on-pms-announcements.txt', '/content/split/pms-statement-to-media-outside-parliament-ahead-of-the-monsoon-session-of-2016.txt', '/content/split/english-rendering-of-pms-inaugural-address-in-eleventh-inter-state-council-meeting-at-new-delhi.txt', '/content/split/pm-visits-tiruppur-tamil-nadu.txt', '/content/split/pm-extends-his-wishes-on-navy-day.txt', '/content/split/cabinet-approves-mou-between-india-and-hungary-on-cooperation-in-the-field-of-water-management.txt', '/content/split/cabinet-approves-scheme-for-fame-india-phase-ii.txt', '/content/split/implementation-of-one-rank-one-pension.txt', '/content/split/kerala-temple-fire-pm-rushing-to-the-spot-announces-ex-gratia-relief-to-bereaved-and-injured.txt', '/content/split/pm-interacts-with-indian-community-in-washington-dc.txt', '/content/split/pm-greets-the-navy-personnel-on-navy-day.txt', '/content/split/cabinet-gives-approval-to-the-amendment-to-the-institutes-of-technology-act-1961-for-incorporation-of-six-new-iits.txt', '/content/split/cabinet-approves-national-intellectual-property-rights-policy.txt', '/content/split/cabinet-approves-submission-of-indias-second-biennial-update-report-bur-to-united-nations-framework-convention-on-climate-change-unfccc.txt', '/content/split/pm-congratulates-the-indian-womens-kabaddi-team-on-winning-the-gold-medal-in-the-asian-games.txt', '/content/split/team-of-students-involved-in-building-satellite-sathyabamasat-calls-on-pm.txt', '/content/split/foreign-minister-of-iran-calls-on-the-pm.txt', '/content/split/pm-congratulates-isro-scientists-on-the-successful-launch-of-irnss-1i.txt', '/content/split/pm-to-attend-annual-dgp-conference-at-bsf-academy-in-tekanpur.txt', '/content/split/cabinet-approves-signing-of-fou-between-india-and-bangladesh-on-cooperation-in-the-hydrocarbon-sector.txt', '/content/split/pms-remarks-in-the-rajya-sabha-on-the-farewell-of-vice-president-hamid-ansari.txt', '/content/split/amendments-to-the-appropriation-acts-and-the-repealing-and-amending-bill-pending-for-consideration-in-rajya-sabha.txt', '/content/split/cabinet-approves-mou-between-india-and-kyrgystan-for-strengthening-cooperation-in-the-field-of-tourism.txt', '/content/split/pm-salutes-freedom-fighter-bagha-jatin-on-the-centenary-of-his-martyrdom.txt', '/content/split/pms-address-at-the-book-release-event-to-mark-one-year-in-office-of-vice-president-venkaiah-naidu.txt', '/content/split/mou-between-india-and-qatar-for-promoting-bilateral-cooperation-in-the-field-of-information-communication-technology.txt', '/content/split/pms-address-at-the-inaugural-session-of-the-bimstec-summit-in-kathmandu-nepal.txt', '/content/split/pms-mann-ki-baat-address-on-all-india-radio-on-30-october-2016.txt', '/content/split/pm-takes-a-meeting-with-pmo-officials.txt', '/content/split/pm-calls-for-enhancing-the-input-of-intellectual-thinktanks-in-policy-frameworks-launches-the-book-getting-india-back-on-track-an-action-agenda-for-reform.txt', '/content/split/pm-bows-to-dr-babasaheb-ambedkar-on-his-mahaparinirvan-diwas.txt', '/content/split/text-of-pms-speech-at-lalpur-varanasi-at-the-event-for-trade-facilitation-centre-and-crafts-museum.txt', '/content/split/pms-tweets-on-school-curriculum.txt', '/content/split/joint-statement-on-climate-change-between-india-and-china-during-pms-visit-to-china.txt', '/content/split/extension-of-tenure-of-the-memorandum-of-understanding-signed-between-india-and-china-on-cooperation-in-traditional-medicine.txt', '/content/split/cabinet-approves-interest-waiver-for-the-two-months-for-farmers-accessing-short-term-crop-loans.txt', '/content/split/pm-addresses-national-convention-of-swachhagrahis-launches-development-projects-in-motihari.txt', '/content/split/cabinet-approval-for-signing-tripartite-agreement-among-india-brazil-and-south-africa-ibsa-on-the-ibsa-fund-for-the-alleviation-of-poverty-and-hunger.txt', '/content/split/pm-addresses-uttar-pradesh-investors-summit-2018.txt', '/content/split/pms-message-on-world-tuberculosis-day.txt', '/content/split/pm-on-2-day-visit-to-lbsnaa-mussoorie-interacts-with-officer-trainees-of-92nd-foundation-course.txt', '/content/split/pm-to-visit-maharashtra-and-karnataka-on-february-18th-and-19th.txt', '/content/split/pm-to-launch-india-post-payments-bank-on-saturday-1st-september.txt', '/content/split/pm-interacts-with-it-and-electronic-manufacturing-professionals-on-the-occasion-of-the-launch-of-main-nahin-hum-portal-and-app.txt', '/content/split/cabinet-approves-mou-between-india-and-vietnam-on-cooperation-in-the-field-of-information-technology-it.txt', '/content/split/pms-surprise-visit-to-siachen-celebrates-diwali-with-officers-and-jawans-of-the-indian-armed-forces.txt', '/content/split/cabinet-approves-new-crop-insurance-scheme-pradhan-mantrifasalbima-yojana-a-boost-to-the-farming-sector.txt', '/content/split/pms-telephone-conversation-with-australian-pm-tony-abbott.txt', '/content/split/pm-gifts-cows-to-villagers-at-rweru-model-village-as-part-of-the-rwandan-governments-girinka-programme.txt', '/content/split/pm-to-visit-jammu-and-kashmir-on-may-19-2018.txt', '/content/split/cabinet-approves-mou-between-india-and-south-asia-cooperative-environment-programme-for-co-operation-on-the-response-to-oil-and-chemical-pollution-in-the-south-asian-seas-region.txt', '/content/split/cabinet-approves-closure-of-national-jute-manufactures-corporation-ltd-and-its-subsidiary-birds-jute-exports-ltd.txt', '/content/split/mou-between-india-and-bangladesh-and-mode-of-operation-of-border-haats-for-setting-up-of-border-haats.txt', '/content/split/introduction-of-real-estate-investment-trusts-reits-as-an-eligible-financial-instrument-structure-under-foreign-exchange-management-act-fema-1999.txt', '/content/split/leveraging-the-power-of-jam-jan-dhan-aadhar-mobile.txt', '/content/split/pm-greets-the-people-of-south-africa-on-their-freedom-day.txt', '/content/split/pms-speech-at-pashudhan-arogya-mela-in-shahanshahpur-varanasi.txt', '/content/split/pm-addresses-gathering-at-the-swearing-in-ceremony-of-the-council-of-ministers-of-assam.txt', '/content/split/cabinet-apprised-about-mou-between-india-and-morocco-to-promote-exchange-of-information-and-technical-cooperation-in-the-field-of-housing-and-human-settlement.txt', '/content/split/cabinet-approves-creation-of-one-post-of-director-and-three-non-teaching-posts-for-nit-andhra-pradesh.txt', '/content/split/pms-speech-at-the-inauguration-and-foundation-stone-laying-of-various-projects-in-imphal-manipur.txt', '/content/split/cabinet-approves-mou-between-india-and-canada-on-iprs.txt', '/content/split/pms-informal-interaction-with-african-trade-ministers.txt', '/content/split/pms-address-at-foundation-stone-ceremony-of-mopa-green-field-international-airport-electronic-city-at-tuam-in-goa.txt', '/content/split/pm-confers-national-youth-parliament-festival-2019-awards.txt', '/content/split/british-prime-minister-speaks-to-the-pm-on-telephone.txt', '/content/split/cabinet-approves-indore-metro-rail-project-comprising-ring-line-bengali-square-vijay-nagar-bhawarsala-airport-patasia-bengali-square.txt', '/content/split/pm-conveys-his-greetings-on-world-consumer-rights-day.txt', '/content/split/pm-addresses-ncc-rally.txt', '/content/split/cabinet-approvesmou-between-india-and-iran-on-the-establishment-of-an-expert-group-on-trade-remedy-measures.txt', '/content/split/pm-visits-jamnagar-in-gujarat.txt', '/content/split/message-from-the-prime-minister-2.txt', '/content/split/preliminary-text-of-pms-remarks-in-rajya-sabha-during-discussion-on-constitution-day.txt', '/content/split/pms-press-statement-during-his-visit-to-japan.txt', '/content/split/cabinet-apprised-of-mou-between-india-and-united-arab-emirates-on-technical-cooperation-in-rail-sector.txt', '/content/split/pm-at-dinner-hosted-by-us-president-state-actors-working-with-nuclear-traffickers-and-terrorists-present-the-greatest-risk.txt', '/content/split/100-years-of-champaran-satyagraha-pm-to-inaugurate-swachhagraha-exhibition-tomorrow.txt', '/content/split/approval-for-signing-of-a-mou-between-the-ministry-of-urban-development-and-bloomberg-philanthropies-to-support-the-development-of-smart-cities.txt', '/content/split/cabinet-approves-amendments-to-the-hiv-and-aids-prevention-and-control-bill-2014.txt', '/content/split/cabinet-approves-promulgation-of-the-daman-and-diu-civil-courts-the-dadra-and-nagar-haveli-civil-courts-and-miscellaneous-provisions.txt', '/content/split/pm-prays-for-the-safety-of-people-affected-by-cyclone-vardah.txt', '/content/split/pms-speech-at-the-launch-of-national-nutrition-mission-and-expansion-of-beti-bachao-beti-padhao-in-jhunjhunu.txt', '/content/split/pms-address-at-the-laying-of-the-foundation-stone-of-india-international-convention-and-expo-centre-new-delhi.txt', '/content/split/cabinet-approves-an-agreement-between-india-and-kyrgyzstan-on-cooperation-in-the-field-of-agriculture-and-food-industry.txt', '/content/split/cabinet-approves-extension-of-delhi-metro-corridor-from-noida-city-centre-to-sector-62-noida-uttar-pradesh.txt', '/content/split/pms-address-at-the-56th-annual-convocation-of-iit-bombay.txt', '/content/split/pms-address-at-the-80th-anniversary-celebrations-of-the-brahma-kumaris-family-via-video-conferencing.txt', '/content/split/pm-congratulates-team-india-on-winning-the-under-19-world-cup.txt', '/content/split/pm-launches-narendra-modi-mobile-app.txt', '/content/split/his-holiness-syedna-mufaddal-saifuddin-the-religious-head-of-the-dawoodi-bohra-community-calls-on-the-pm-2.txt', '/content/split/signing-of-revised-air-services-agreement-between-india-and-new-zealand.txt', '/content/split/pm-recalls-courage-and-compassion-of-lord-christ-on-good-friday.txt', '/content/split/text-of-pms-address-ahead-of-run-for-unity-event-on-rashtriya-ekta-diwas-at-rajpath.txt', '/content/split/pm-to-address-farmers-in-mann-ki-baat-on-22nd-march.txt', '/content/split/pm-inaugurates-key-development-projects-in-varanasi.txt', '/content/split/cabinet-approves-signing-of-the-extradition-treaty-between-india-and-afghanistan.txt', '/content/split/cabinet-approves-spectrum-usage-charge-for-the-spectrum-in-various-bands-held-by-various-operators-or-to-be-acquired-by-them-in-forthcoming-auction.txt', '/content/split/pms-opening-remarks-at-fourth-meeting-of-governing-council-of-niti-aayog.txt', '/content/split/cabinet-approves-india-singapore-mou-to-give-a-boost-to-innovation-creativity-and-technological-advancement.txt', '/content/split/joint-statement-on-the-uk-india-summit-2015-november-12-2015.txt', '/content/split/pm-speaks-to-bihar-cm-reviews-situation-following-stampede-in-patna-condoles-loss-of-lives-announces-relief-from-pmnrf.txt', '/content/split/pms-remarks-at-the-india-israel-business-summit.txt', '/content/split/pm-to-inaugurate-dr-ambedkar-national-memorial-at-alipur-road-in-delhi-tomorrow.txt', '/content/split/press-statement-by-prime-minister-following-the-8th-brics-summit.txt', '/content/split/pm-launches-scheme-for-led-bulb-distribution-under-domestic-efficient-lighting-programme-in-delhi.txt', '/content/split/cabinet-approves-long-term-agreements-for-supply-of-iron-ore-to-japan-and-south-korea-through-mmtc-limited.txt', '/content/split/north-eastern-region-power-system-improvement-project-for-six-6-states-assam-manipur-meghalaya-mizoram-tnpura-and-nagaland-for-strengthening-of-the-intra-state-transmission-and-distribution-sy.txt', '/content/split/joint-press-statement-at-the-meeting-of-leaders-of-the-g-4-countries-brazil-germany-india-and-japan-on-united-nations-security-council-reform.txt', '/content/split/cabinet-approves-amendment-in-the-national-council-for-teacher-education-act-1993.txt', '/content/split/pm-conveys-his-good-wishes-to-all-pilgrims-on-the-start-of-the-kumbh-mela-in-nashik.txt', '/content/split/pm-unveils-important-projects-relating-to-housing-and-urban-development-in-maharashtra.txt', '/content/split/pm-visits-santiniketan-attends-convocation-of-visva-bharati-university-inaugurates-bangladesh-bhavana.txt', '/content/split/pm-launches-start-up-india-movement-unveils-action-plan-for-encouraging-start-ups.txt', '/content/split/pm-condemns-the-killing-of-japanese-citizens-mr-kenji-goto-and-mr-haruna-yukawa.txt', '/content/split/cabinet-approves-revision-of-indian-community-welfare-fund-guidelines.txt', '/content/split/press-statement-by-pm-during-the-state-visit-of-crown-prince-of-abu-dhabi-to-india.txt', '/content/split/pms-address-at-the-ceremony-to-dedicate-dr-ambedkar-international-centre-to-the-nation.txt', '/content/split/text-of-pms-address-at-the-indian-community-reception-in-south-korea.txt', '/content/split/setting-up-of-a-national-memorial-at-the-birth-place-of-lok-nayak-jai-prakash-narayan-in-bihar.txt', '/content/split/text-of-pms-address-at-mahabodhi-society-in-sri-lanka.txt', '/content/split/pm-congratulates-saina-nehwal-on-winning-world-badminton-championships-silver-medal.txt', '/content/split/minister-of-foreign-affairs-international-cooperation-of-the-uae-calls-on-pm.txt', '/content/split/pm-to-visit-jammu-srinagar-and-leh-on-3-feb-2019.txt', '/content/split/pms-remarks-during-the-welcome-of-vice-president-m-venkaiah-naidu-in-the-rajya-sabha.txt', '/content/split/cabinet-approves-merger-of-rail-budget-with-general-budget-advancement-of-budget-presentation-and-merger-of-plan-and-non-plan-classification-in-budget-and-accounts.txt', '/content/split/task-force-on-employment-data-created.txt', '/content/split/pm-pays-tributes-to-maulana-abul-kalam-azad-on-his-birth-anniversary.txt', '/content/split/compensation-hiked-to-rs-6-lakh-for-the-next-of-kin-who-lost-their-lives-in-earthquake.txt', '/content/split/pm-addresses-opening-session-of-49th-governors-conference.txt', '/content/split/pm-bows-to-social-reformer-jyotiba-phule-on-his-punya-tithi.txt', '/content/split/cabinet-approves-signing-of-mou-between-india-and-bulgaria-in-the-field-of-tourism.txt', '/content/split/cycling-award-winners-hitendra-and-mahendra-mahajan-call-on-pm.txt', '/content/split/pm-felicitates-medal-winners-of-the-17th-asian-games-incheon-2014.txt', '/content/split/cabinet-apprised-of-framework-agreement-between-india-and-vietnam-on-cooperation-in-the-exploration-and-uses-of-outer-space-for-peaceful-purposes.txt', '/content/split/pms-thirteenth-interaction-through-pragati.txt', '/content/split/pm-launches-pradhan-mantri-jan-dhan-yojana.txt', '/content/split/pm-addresses-new-india-conclave.txt', '/content/split/text-of-pms-address-at-the-amazing-indians-awards-event.txt', '/content/split/pms-address-at-the-dedication-to-the-nation-of-unit-ii-of-ongc-tripura-company-ltd-power-plant.txt', '/content/split/cabinet-approves-creation-of-additional-posts-of-three-judicial-members-and-three-technical-members-in-the-national-company-law-appellate-tribunal.txt', '/content/split/pm-congratulates-mahabodhi-international-meditation-centre-leh-ladakh-on-mahakaruna-diwas-2017-celebrations.txt', '/content/split/former-president-pranab-mukherjee-shares-the-letter-from-pm.txt', '/content/split/list-of-mous-agreements-signed-during-state-visit-of-president-of-argentina-to-india.txt', '/content/split/president-greets-prime-minister-on-his-birthday.txt', '/content/split/students-from-stanford-university-call-on-pm.txt', '/content/split/pm-in-gorakhpur.txt', '/content/split/cabinet-approves-revised-cost-of-estimates-rce-for-13-new-central-universities.txt', '/content/split/cabinet-apprised-of-the-mou-between-india-and-indonesia-on-technical-cooperation-in-the-field-of-railways-sector.txt', '/content/split/pm-inaugurates-pakyong-airport-as-air-connectivity-reaches-sikkim.txt', '/content/split/text-of-statement-to-media-by-pm-during-the-visit-of-president-of-sri-lanka-shri-maithripala-sirisena-to-india.txt', '/content/split/pm-speaks-to-australian-pm-malcolm-turnbull.txt', '/content/split/pm-greets-ndrf-team-on-their-12th-raising-day-celebrations.txt', '/content/split/drafts-towards-pmnrf-presented-to-pm-2.txt', '/content/split/pm-to-hold-digital-dialogue-with-tech-enthusiasts.txt', '/content/split/pms-telephone-call-to-h-e-dr-ashraf-ghani-president-of-islamic-republic-of-afghanistan.txt', '/content/split/policy-for-marginal-fields-of-ongc-and-oil.txt', '/content/split/swedish-business-delegation-calls-on-pm.txt', '/content/split/pm-meets-members-of-the-club-des-chefs-des-chefs-ccc.txt', '/content/split/development-projects-worth-rs-3350-crores-unveiled-by-pm-in-varanasi.txt', '/content/split/pm-greets-the-nation-on-navroz.txt', '/content/split/pms-gifts-to-president-of-myanmar.txt', '/content/split/cabinet-approves-merger-of-ncvt-and-nsda-to-establish-national-council-for-vocational-education-and-training.txt', '/content/split/text-of-pms-mann-ki-baat-programme-on-all-india-radio-2.txt', '/content/split/pm-invites-thoughts-ideas-for-his-visit-to-australia.txt', '/content/split/pm-interacts-with-indian-womens-cricket-team.txt', '/content/split/pm-addresses-centenary-celebrations-of-bharat-sevashram-sangha-via-video-conference.txt', '/content/split/pm-meets-pm-of-japan-on-the-sidelines-of-nss.txt', '/content/split/cabinet-approves-mou-between-india-and-australia-on-cooperation-in-combating-international-terrorism-and-transnational-organized-crime.txt', '/content/split/pm-announces-ex-gratia-relief-from-pms-national-relief-fund-for-those-affected-by-heavy-rains-and-floods-in-tamil-nadu.txt', '/content/split/delegation-from-film-and-entertainment-industry-meets-pm.txt', '/content/split/text-of-pms-statement-after-the-relief-operations-review-meeting-in-cyclone-hit-vizag.txt', '/content/split/pm-condemns-the-instances-of-violence-in-parts-of-the-country.txt', '/content/split/regularization-of-all-unauthorized-colonies.txt', '/content/split/pm-congratulates-prime-minister-of-japan-shinzo-abe-on-his-victory-in-the-elections.txt', '/content/split/pms-interaction-with-secretaries.txt', '/content/split/pm-meets-israeli-pm-benyamin-netanyahu.txt', '/content/split/pms-bilateral-engagements-on-the-sidelines-of-the-vibrant-gujarat-summit-jan-10-2015.txt', '/content/split/pms-address-at-world-economic-forum-in-davos-on-the-theme-creating-a-shared-future-in-a-fractured-world.txt', '/content/split/cabinet-approves-re-structuring-of-the-agricultural-scientists-recruitment-board-asrb.txt', '/content/split/pm-remembers-shyamji-krishna-varma-on-his-birth-anniversary.txt', '/content/split/cabinet-apprised-of-mou-between-india-and-spain-on-india-spain-cooperation-in-renewable-energy.txt', '/content/split/cabinet-approves-moc-between-india-and-japan-for-cooperation-in-the-postal-field.txt', '/content/split/cabinet-approves-signing-of-air-services-agreement-between-india-and-taiwan.txt', '/content/split/cabinet-approves-moubetween-india-and-zimbabwe-for-cooperation-in-the-field-of-geology-mining-and-mineral-resources.txt', '/content/split/pms-interaction-with-economists-at-niti-aayog.txt', '/content/split/cabinet-apprised-of-implementing-arrangement-between-india-and-france-on-cooperation-on-maritime-awareness-mission.txt', '/content/split/pm-greets-the-people-of-himachal-pradesh-on-the-statehood-day.txt', '/content/split/pm-pays-tributes-to-all-who-framed-indian-constitution-salutes-dr-babasaheb-ambedkar-for-his-efforts-as-chairman-of-drafting-committee.txt', '/content/split/pm-announces-ex-gratia-of-rs-2-lakhs-for-the-next-of-kin-of-those-killed-and-rs-50000-for-those-seriously-injured.txt', '/content/split/joint-statement-on-enhanced-malaysia-india-strategic-partnership-november-23-2015.txt', '/content/split/pm-interacts-with-village-pradhans-from-varanasi-parliamentary-constituency-2.txt', '/content/split/cabinet-approves-mou-between-india-and-qatar-for-cooperation-in-skill-development-and-recognition-of-qualifications.txt', '/content/split/pms-address-at-the-conference-on-transformation-of-aspirational-districts.txt', '/content/split/president-vice-president-pm-offers-floral-tributes-to-sardar-patel-on-his-birth-anniversary-pm-flags-off-run-for-unity.txt', '/content/split/pm-in-odisha-work-commences-for-revival-of-talcher-fertilizer-plant-jharsuguda-airport-inaugurated.txt', '/content/split/pm-exhorts-civil-servants-to-become-agents-of-change-calls-upon-government-officers-to-engage-with-people.txt', '/content/split/special-envoy-of-the-sultan-of-oman-calls-on-pm.txt', '/content/split/cabinet-approves-transfer-of-7-118-acres-of-defence-land-to-kendriya-vidyalaya-sangathan-for-construction-of-kendriya-vidyalaya-number-2-dhar-road-in-district-udhampur-jk.txt', '/content/split/pm-lays-foundation-stone-for-development-projects-in-goa.txt', '/content/split/pm-greets-itbp-on-its-raising-day.txt', '/content/split/pm-pays-tributes-to-dr-apj-abdul-kalam-on-his-birth-anniversary-2.txt', '/content/split/text-of-pms-address-at-the-102nd-indian-science-congress.txt', '/content/split/cabinet-approves-delhi-metros-phase-4-project.txt', '/content/split/cabinet-approves-transfer-of-defence-land-to-kendriya-vidyalaya-sangathan-at-air-force-station-kanpur.txt', '/content/split/pm-attends-dgspigsp-conference-in-hyderabad.txt', '/content/split/text-of-pms-media-statement-in-turkmenistan.txt', '/content/split/cabinet-approves-signing-of-air-services-agreement-between-india-and-morocco.txt', '/content/split/text-of-the-pms-statement-in-lok-sabha.txt', '/content/split/pms-speech-at-sahakar-sammelan-in-amreli-gujarat.txt', '/content/split/pms-mann-ki-baat-programme-on-all-india-radio-11.txt', '/content/split/pm-addresses-rail-vikas-shivir-at-surajkund-through-video-conferencing.txt', '/content/split/pm-condemns-the-terrorist-blast-in-kabul.txt', '/content/split/former-pm-of-nepal-shri-pushpa-kamal-dahal-prachanda-calls-on-pm.txt', '/content/split/yang-jiechi-state-councillor-of-the-peoples-republic-of-china-and-special-representative-of-china-on-the-boundary-question-calls-on-pm.txt', '/content/split/text-of-the-pms-address-at-the-10th-world-hindi-conference-bhopal.txt', '/content/split/text-of-pms-remarks-at-yoga-taichi-joint-event-at-temple-of-heaven-beijing.txt', '/content/split/family-members-of-netaji-subhas-chandra-bose-call-on-pm.txt', '/content/split/text-of-pms-address-at-the-public-meeting-to-mark-bhoomi-poojan-of-two-metro-rail-corridors-and-dr-babasaheb-ambedkar-memorial-at-mumbai.txt', '/content/split/digital-payment-promotion-gets-a-boost.txt', '/content/split/pm-to-visit-sikkim-and-assam.txt', '/content/split/text-of-pms-address-during-the-ceremony-held-to-launch-the-pradhan-mantri-jan-dhan-yojana-pmjdy.txt', '/content/split/transfer-of-58-81-acres-land-of-farakka-barrage-project-at-farakka-to-border-security-force-for-establishment-of-04-battaiion-head-quarters-of-bsf.txt', '/content/split/cabinet-approves-equivalence-of-posts-in-central-psus-banks-insurance-institutions-with-posts-in-government.txt', '/content/split/cabinet-approves-mou-between-upsc-and-public-service-commission-of-mauritius.txt', '/content/split/two-groups-of-secretaries-present-ideas-and-suggestions-to-pm-3.txt', '/content/split/%E0%A4%9C%E0%A4%BE%E0%A4%A4%E0%A4%BF-%E0%A4%A7%E0%A4%B0%E0%A5%8D%E0%A4%AE-%E0%A4%A8%E0%A4%B9%E0%A5%80%E0%A4%82-%E0%A4%B5%E0%A4%BF%E0%A4%95%E0%A4%BE%E0%A4%B8-%E0%A4%B9%E0%A5%80-%E0%A4%B9%E0%A4%AE.txt', '/content/split/pm-congratulates-leo-varadkar-on-assuming-office-as-taoiseach-of-ireland.txt', '/content/split/cabinet-approves-trade-agreement-between-india-and-ethiopia-for-strengthening-and-promoting-trade-and-economic-cooperation.txt', '/content/split/cabinet-approves-pradhan-mantri-ujjwala-yojana-scheme-for-providing-free-lpg-connections-to-women-from-bpl-households.txt', '/content/split/key-points-of-pms-address-at-economic-times-global-business-summit.txt', '/content/split/pm-salutes-indian-army-on-the-occasion-of-army-day-2.txt', '/content/split/pms-remarks-during-the-welcome-of-vice-president-m-venkaiah-naidu-in-the-rajya-sabha-2.txt', '/content/split/pm-condoles-the-passing-away-of-the-king-of-thailand-h-e-bhumibol-adulyadej.txt', '/content/split/pms-speech-at-the-business-meeting-in-germany.txt', '/content/split/text-of-pms-address-at-the-centenary-celebration-of-gaudiya-mission-at-kolkata.txt', '/content/split/pm-greets-people-across-india-on-various-festivals.txt', '/content/split/pm-greets-the-people-of-afghanistan-on-afghanistans-independence-day.txt', '/content/split/priti-patel-mp-uk-secretary-of-state-for-international-development-calls-on-pm.txt', '/content/split/pm-condoles-the-passing-away-of-kalaignar-karunanidhi.txt', '/content/split/pm-greets-people-of-odisha-on-raja-parba.txt', '/content/split/pms-statement-prior-to-his-departure-to-russia.txt', '/content/split/pm-greets-the-nation-on-milad-un-nabi.txt', '/content/split/pm-at-krishi-unnati-mela-let-us-resolve-to-double-farmers-income-by-2022.txt', '/content/split/cabinet-approves-nomination-of-chief-executive-officer-niti-aayog-as-a-part-time-member-of-the-telecom-commission.txt', '/content/split/pms-meeting-with-myanmar-president-u-thein-sein.txt', '/content/split/pm-expresses-sadness-over-the-loss-of-lives-at-the-kumbh-due-to-heavy-rains-prays-for-safety-of-all-people-at-the-kumbh.txt', '/content/split/pms-remarks-at-the-launch-of-amrut-smart-cities-mission-and-housing-for-all-urban.txt', '/content/split/pm-to-interact-with-it-and-electronic-manufacturing-professionals-on-the-occasion-of-the-launch-of-main-nahin-hum-portal-and-app.txt', '/content/split/text-of-pms-mann-ki-baat-on-all-india-radio.txt', '/content/split/pm-pays-tribute-to-sardar-patel-flags-off-run-for-unity-on-rashtriya-ekta-diwas.txt', '/content/split/cabinet-approves-india-joining-the-international-energy-agency-ocean-energy-systems.txt', '/content/split/pm-expresses-joy-over-registration-of-10-crore-citizens-as-a-part-of-the-pahal-yojana.txt', '/content/split/cabinet-approves-moving-a-resolution-in-the-first-assembly-of-the-isa-for-amending-the-framework-agreement-of-the-isa.txt', '/content/split/pm-attends-convocation-of-gujarat-forensic-sciences-university.txt', '/content/split/pm-greets-people-of-norway-on-their-constitution-day.txt', '/content/split/pm-pays-homage-to-victims-of-hiroshima-atomic-bombing.txt', '/content/split/pms-speech-at-the-event-to-mark-national-youth-day-and-sarva-dharma-sabha-at-belagavi-karnataka-through-video-conference.txt', '/content/split/pms-remarks-at-launch-of-development-projects-at-ara-bihar.txt', '/content/split/unique-portrait-made-through-ikat-weaving-presented-to-pm.txt', '/content/split/cabinet-approves-an-agreement-between-india-and-france-to-prevent-illicit-consumption-and-reduction-of-illicit-traffic-in-narcotic-drugs-psychotropic-substances-and-chemical-precursors-and-related-of.txt', '/content/split/pms-engagements-in-new-york-city-september-25th-2015-pre-lunch.txt', '/content/split/pms-keynote-address-at-ramnath-goenka-awards-in-new-delhi.txt', '/content/split/pms-statement-to-the-media-with-japanese-prime-minister-in-new-delhi.txt', '/content/split/pm-congratulates-students-who-successfully-passed-the-cbse-class-xii-board-exam.txt', '/content/split/pm-congratulates-prime-minister-of-singapore-mr-lee-hsien-loong-and-his-peoples-action-party-pap-on-winning-singapore-general-election.txt', '/content/split/cabinet-approves-mou-between-india-and-cuba-on-cooperation-in-the-field-of-traditional-systems-of-medicine-and-homeopathy.txt', '/content/split/pm-condoles-the-passing-away-of-rajya-sabha-mp-shri-kalpataru-das.txt', '/content/split/pm-visits-bhabha-atomic-research-centre-prime-minister-asks-department-of-atomic-energy-to-draw-up-a-programme-of-year-long-diamond-jubilee-celebrations-focus-to-be-on-the-human-and-developmental-d.txt', '/content/split/cabinet-approves-establishment-of-national-academic-depository.txt', '/content/split/cabinet-approves-moving-official-amendments-in-the-surrogacy-regulation-bill-2016.txt', '/content/split/cabinet-approves-raising-of-bonds-of-rs-2360-crores-for-renewable-energy.txt', '/content/split/text-of-prime-ministers-mann-ki-baat-on-all-india-radio-3.txt', '/content/split/pms-address-at-the-national-conference-of-women-legislators.txt', '/content/split/pm-blesses-teenagers-who-scaled-mt-everest.txt', '/content/split/pm-modi-speaks-to-premier-li-keqiang-of-china.txt', '/content/split/cabinet-approves-mou-between-usa-and-india-to-enhance-cooperation-in-wildlife-conservation.txt', '/content/split/pm-pays-tributes-to-hh-pramukh-swami-maharaj-on-his-jayanti.txt', '/content/split/pm-conveys-best-wishes-to-the-indian-cricket-team-for-icc-cricket-world-cup-2015.txt', '/content/split/pms-visit-to-hazaribag-jharkhand.txt', '/content/split/pm-addresses-rising-india-summit.txt', '/content/split/cabinet-approves-memorandum-of-understanding-between-india-and-usa-in-insurance-regulatory-sector.txt', '/content/split/pm-meets-indian-team-that-participated-in-fifa-u-17-world-cup.txt', '/content/split/pm-visits-marshal-of-the-indian-air-force-arjan-singh-at-the-hospital-wishes-him-a-speedy-recovery.txt', '/content/split/text-of-pms-address-at-the-business-forum-organized-by-nasscom-and-frauenhofer-institute-at-bengaluru.txt', '/content/split/pm-urges-people-to-take-the-pledge-to-save-every-drop-of-water-on-world-water-day.txt', '/content/split/pm-reviews-progress-of-infrastructure-sectors-3.txt', '/content/split/pm-chairs-meeting-on-mission-swacch-bharat.txt', '/content/split/pms-remarks-at-the-release-of-the-vice-presidents-book-citizen-and-society-by-the-president-of-india.txt', '/content/split/pms-address-at-the-inauguration-of-world-biofuel-day-2018.txt', '/content/split/pm-to-visit-dadra-and-nagar-haveli-tomorrow.txt', '/content/split/deputy-chairman-of-the-government-of-the-russian-federation-meets-pm.txt', '/content/split/cabinet-approves-promulgation-of-aadhaar-and-other-laws-amendment-ordinance-2019.txt', '/content/split/pm-congratulates-p-v-sindhu-on-winning-the-womens-singles-badminton-semi-final.txt', '/content/split/pms-remarks-at-book-release-function-on-the-occasion-of-completion-of-two-years-of-presidency-of-shri-pranab-mukherjee.txt', '/content/split/pm-concludes-his-visit-to-gujarat.txt', '/content/split/pm-to-attend-the-gita-aradhana-mahotsav-at-iskcon-new-delhi-tomorrow.txt', '/content/split/pms-interaction-with-prime-ministers-rural-development-fellows.txt', '/content/split/agreementsmemorandum-of-understanding-signed-during-the-visit-of-prime-minister-to-australia-16-18-november-2014.txt', '/content/split/cabinet-approves-mou-between-india-and-bangladesh-in-the-field-of-judicial-sector-cooperation.txt', '/content/split/pm-expresses-sadness-at-the-passing-away-of-nobutaka-machimura-former-speaker-of-the-japanese-parliament.txt', '/content/split/increasing-the-authorised-share-capital-of-the-national-minorities-development-and-finance-corporation-and-restructuring-of-its-business-model.txt', '/content/split/cabinet-approves-mou-between-india-and-malaysia-for-mutual-cooperation-in-the-field-of-company-secretaryship.txt', '/content/split/pm-to-visit-gujarat-tomorrow-for-vibrant-gujarat-summit-2019.txt', '/content/split/pm-greets-the-people-on-the-start-of-chingam-the-first-month-of-the-malayalam-new-year.txt', '/content/split/cabinet-approves-agreement-between-india-and-belarus-on-mlat-in-civil-and-commercial-matters.txt', '/content/split/pm-condoles-the-passing-of-renowned-journalist-vinod-mehta.txt', '/content/split/pm-greets-people-on-the-occasion-of-samvatsari.txt', '/content/split/pms-address-at-gccs-2017.txt', '/content/split/cabinet-approves-signing-of-mou-between-india-and-colombia-in-the-field-of-agriculture-and-fisheries.txt', '/content/split/french-minister-for-europe-and-foreign-affairs-calls-on-pm-2.txt', '/content/split/pm-reviews-progress-of-infrastructure-sectors-2.txt', '/content/split/pms-meeting-with-h-e-md-abdul-hamid-president-of-bangladesh.txt', '/content/split/pms-address-at-public-meeting-in-dahej-after-the-inauguration-of-ghogha-dahej-ro-ro-ferry-service.txt', '/content/split/hindi-transcript-of-prime-minister-shri-narendra-modis-statement-on-rail-budget-2014-15.txt', '/content/split/cabinet-approves-signing-of-a-memorandum-of-cooperation-between-india-and-usa-on-law-enforcement-training.txt', '/content/split/pm-expresses-sadness-over-the-killing-of-crpf-personnel-in-sukma.txt', '/content/split/pm-greets-people-of-tripura-on-their-statehood-day-2.txt', '/content/split/pm-dedicates-all-india-institute-of-ayurveda-to-the-nation.txt', '/content/split/text-of-pms-remarks-at-the-launch-of-skill-india.txt', '/content/split/pm-french-president-travel-to-gurgaon-by-metro-for-the-foundation-stone-laying-ceremony-of-international-solar-alliance-headquarters.txt', '/content/split/pm-chairs-high-level-meeting-on-international-yoga-day.txt', '/content/split/first-ever-philip-kotler-presidential-award-presented-to-pm.txt', '/content/split/cabinet-approves-central-legislation-to-declare-106-additional-inland-waterways-as-national-waterways.txt', '/content/split/pm-in-andamans.txt', '/content/split/cabinet-approves-signing-of-new-air-services-agreement-between-india-and-serbia.txt', '/content/split/text-of-the-pms-statement-in-joint-press-briefing-with-prime-minister-of-netherlands-in-new-delhi.txt', '/content/split/text-of-pms-address-at-the-inauguration-of-mega-credit-camp-under-pradhan-mantri-mudra-yojana-at-dumka.txt', '/content/split/pm-condoles-demise-of-shri-madan-lal-khurana.txt', '/content/split/pm-lays-foundation-stone-of-vishva-umiyadham-complex.txt', '/content/split/pm-greets-the-people-of-turkey-on-their-national-day.txt', '/content/split/cabinet-approves-setting-up-of-a-commission-to-examine-the-sub-categorization-within-obcs.txt', '/content/split/president-of-india-presents-tagore-award-for-cultural-harmony-for-the-years-2014-2015-and-2016.txt', '/content/split/cabinet-approves-the-revised-office-memorandum-pertaining-to-the-cabinet-note-on-amendment-of-constitution-to-provide-for-reservation-for-economically-weaker-sections.txt', '/content/split/pms-interaction-with-medal-winners-of-the-commonwealth-games.txt', '/content/split/pm-reviews-performance-of-key-infrastructure-sectors-of-transport-and-housing.txt', '/content/split/review-of-uid-and-dbt-pm-calls-for-accelerating-the-delivery-of-benefits-through-aadhaar-and-dbt.txt', '/content/split/text-of-pms-remarks-at-the-handing-over-of-homes-at-ilavalai-north-west-housing-project-site-jaffna-sri-lanka.txt', '/content/split/visit-of-prime-minister-of-india-to-sweden.txt', '/content/split/pm-visits-former-pm-shri-atal-bihari-vajpayee-at-aiims.txt', '/content/split/pm-condoles-the-passing-away-of-shri-r-r-patil.txt', '/content/split/pm-pays-tributes-to-guru-ravidas-on-his-jayanti.txt', '/content/split/pm-condoles-loss-of-lives-due-to-cyclone-in-tamil-nadu.txt', '/content/split/pm-pays-tributes-to-sardar-vallabhbhai-patel-on-his-punya-tithi.txt', '/content/split/policy-framework-for-development-of-underground-coal-gasification-in-coal-and-lignite-bearing-areas-in-india.txt', '/content/split/prime-minister-has-strongly-disapproved-reported-incidents-of-vandalism-in-parts-of-country.txt', '/content/split/cabinet-approves-creation-of-post-of-technical-member-in-sat-mumbai.txt', '/content/split/pm-addresses-youth-convention-at-tumakuru-karnataka-via-video-conference.txt', '/content/split/cabinet-approves-agreement-with-unesco-on-establishment-of-international-training-centre-for-operational-oceanography.txt', '/content/split/mr-tadashi-yanai-chairman-of-uniqlo-calls-on-pm.txt', '/content/split/cabinet-approves-constitution-of-indian-naval-material-management-service-inmms-as-an-organized-group-a-engineering-service.txt', '/content/split/text-of-pms-address-at-the-concluding-sesquicentennial-function-of-the-advocates-association-of-western-india.txt', '/content/split/pm-addresses-sahakar-sammelan-in-amreli.txt', '/content/split/cyclist-on-nationwide-yatra-to-generate-awareness-about-swachhta-abhiyan-calls-on-pm.txt', '/content/split/cabinet-approves-the-revised-cost-estimate-of-punatsangchhu-ii-hydroelectric-project-in-bhutan.txt', '/content/split/pms-upcoming-visit-to-bangladesh.txt', '/content/split/pm-chairs-meeting-of-the-council-on-climate-change.txt', '/content/split/pm-narendra-modi-to-receive-japanese-prime-minister-shinzo-abe-in-gujarat-for-annual-bilateral-summit-meeting.txt', '/content/split/audio-visual-co-production-agreement-between-india-and-republic-of-korea.txt', '/content/split/cabinet-approves-formation-of-100-owned-c-corporation-of-tcil-in-usa.txt', '/content/split/pms-meeting-with-distinguished-indian-americans.txt', '/content/split/text-of-pms-address-in-hindi-to-the-nation-from-the-ramparts-of-the-red-fort-on-the-69th-independence-day.txt', '/content/split/conversion-of-solar-energy-corporation-of-india-from-section-8-company-to-section-3-company-under-the-companies-act-2013-and-renaming-it-as-renewable-energy-corporation-of-india.txt', '/content/split/cabinet-approves-between-india-and-morocco-on-india-morocco-cooperation-in-renewable-energy.txt', '/content/split/pm-to-visit-west-bengal-and-jharkhand-on-may-25.txt', '/content/split/cabinet-approves-signing-of-mou-between-india-and-jordan-on-cooperation-in-the-field-of-manpower.txt', '/content/split/memorandum-of-understanding-between-india-and-israel-in-the-field-of-water-resources-management-and-development-cooperation.txt', '/content/split/pm-unveils-plaque-for-foundation-stone-of-delhi-meerut-expressway.txt', '/content/split/pms-speech-at-inauguration-of-national-tribal-carnival-2016.txt', '/content/split/pm-inaugurates-national-youth-day.txt', '/content/split/text-of-the-pms-statement-to-media-at-joint-press-briefing-with-prime-minister-of-ireland.txt', '/content/split/pm-lauds-passage-of-rights-of-persons-with-disabilities-bill-2016-by-parliament.txt', '/content/split/pm-greets-the-people-of-seychelles-on-their-national-day.txt', '/content/split/pm-addresses-99th-birthday-celebrations-of-dada-vaswani-via-video-conference.txt', '/content/split/cabinet-approves-trade-cooperation-framework-between-india-and-rwanda.txt', '/content/split/pm-congratulates-kidambi-srikanth-on-his-victory-at-denmark-open-super-series-premier-2017.txt', '/content/split/text-of-pms-statement-at-the-inaugural-ceremony-of-the-third-india-africa-forum-summit-on-29th-october-2015.txt', '/content/split/pms-speech-at-event-marking-the-dedication-of-kishanganga-hydro-electric-project-to-the-nation-in-srinagar.txt', '/content/split/foreign-minister-of-germany-dr-frank-walter-steinmeier-calls-on-pm.txt', '/content/split/pm-calls-dr-lotay-tshering-president-of-druk-nyamrup-tshogpa-bhutan.txt', '/content/split/pm-to-inaugurate-dr-apj-abdul-kalam-memorial-tomorrow.txt', '/content/split/special-envoy-of-the-president-of-the-republic-of-korea-calls-on-pm.txt', '/content/split/pm-greets-people-of-haryana-on-haryana-day.txt', '/content/split/cabinet-approves-mumbai-urban-transport-project-mutp-phase-iii.txt', '/content/split/agreement-between-the-india-and-russia-for-cooperation-on-a-coordinated-grant-competition-for-conducting-basic-and-exploratory-scientific-research.txt', '/content/split/returning-of-additional-land-of-auto-testing-track-of-natrip-project-in-pithampur-indore-madhya-pradesh.txt', '/content/split/cabinet-approves-dissolution-of-central-inland-water-transport-corporation-limited.txt', '/content/split/pm-arrives-in-berlin-en-route-to-brazil-to-attend-the-brics-summit.txt', '/content/split/cabinet-approves-mou-with-taiwan-for-cooperation-in-the-field-of-agriculture-and-allied-sector.txt', '/content/split/pms-eighteenth-interaction-through-pragati.txt', '/content/split/pms-address-at-conference-on-islamic-heritage-promoting-understanding-moderation.txt', '/content/split/cabinet-gives-approval-to-the-mou-between-india-and-maldives-for-strengthening-cooperation-in-the-field-of-tourism.txt', '/content/split/english-rendering-text-of-pms-mann-ki-baat-on-all-india-radio-on-27-12-2015.txt', '/content/split/pm-salutes-the-teaching-community-on-teachers-day-pays-tributes-to-former-president-dr-sarvepalli-radhakrishnan-on-his-birth-anniversary.txt', '/content/split/pm-condoles-the-loss-of-lives-in-the-attack-in-paris.txt', '/content/split/pms-press-statement-during-state-visit-of-crown-prince-of-saudi-arabia-to-india.txt', '/content/split/team-of-first-all-india-services-expedition-to-mt-everest-calls-on-pm.txt', '/content/split/pm-greets-the-people-on-valmiki-jayanti.txt', '/content/split/pm-extends-greetings-on-navy-day.txt', '/content/split/pm-offers-prayers-addresses-gathering-at-bhai-ganga-singh-sabha-gurudwara-tehran.txt', '/content/split/pm-offers-prayers-at-shri-manjunatha-swamy-temple-at-dharmasthala-addresses-public-meeting-in-ujire.txt', '/content/split/pm-urges-all-eligible-voters-on-the-occasion-of-national-voters-day-to-register-themselves-and-use-their-right-to-vote.txt', '/content/split/pm-receives-the-deputy-pm-dmitry-rogozin-of-russia.txt', '/content/split/pm-to-launch-pradhan-mantri-jan-arogya-yojana-at-ranchi-inauguratepakyong-airport-in-sikkim.txt', '/content/split/pms-address-to-the-parliament-of-uganda.txt', '/content/split/media-statement-by-prime-minister-during-his-visit-to-iran.txt', '/content/split/pm-congratulates-isro-on-its-40th-successful-polar-satellite-launch-carrying-31-satellites-from-15-countries.txt', '/content/split/pm-addresses-the-4th-international-yoga-day.txt', '/content/split/cabinet-approves-mou-between-india-and-republic-of-korea-on-startup-cooperation.txt', '/content/split/pms-address-at-inauguration-of-sabarmati-ashram-centenary-celebrations-in-ahmedabad-gujarat.txt', '/content/split/pms-address-at-inauguration-of-bangladesh-bhavan-at-santiniketan-in-west-bengal.txt', '/content/split/text-of-pms-statement-at-the-inauguration-of-india-bangladesh-power-grid-transmission-line.txt', '/content/split/pm-pays-tributes-to-loknayak-jayprakash-narayan-on-his-birth-anniversary.txt', '/content/split/delegation-from-young-ficci-ladies-organisation-calls-on-pm.txt', '/content/split/pm-extends-his-condolences-on-demise-of-tsr-subramanian.txt', '/content/split/pm-wishes-former-pm-dr-manmohan-singh-on-his-birthday-2.txt', '/content/split/companies-amendment-bill-2014.txt', '/content/split/amendments-to-the-electricity-act-2003.txt', '/content/split/highlights-of-the-niti-aayog-chief-ministers-sub-group-report-on-swachh-bharat.txt', '/content/split/pm-in-chhattisgarh-addresses-kisan-sammelan-at-janjgir-champa-lays-foundation-stone-for-important-infrastructure-projects.txt', '/content/split/pms-address-to-the-nation-on-69th-independence-day.txt', '/content/split/pm-addresses-joint-conference-of-chief-ministers-and-chief-justices.txt', '/content/split/cabinet-approves-creation-of-one-post-of-deputy-comptroller-and-auditor-general-in-the-office-of-comptroller-and-auditor-general-of-india.txt', '/content/split/text-of-pms-address-at-aero-india-show-in-bengaluru.txt', '/content/split/delegation-from-the-naga-hoho-calls-on-pm.txt', '/content/split/pms-address-at-presentation-of-shanti-swarup-bhatnagar-prizes.txt', '/content/split/cabinet-approves-agreement-between-india-and-poland-on-cooperation-in-the-field-of-agriculture-and-allied-sectors.txt', '/content/split/text-of-pm-shri-narendra-modis-message-after-conducting-swachhta-abhiyaan-at-assi-ghat-varanasi.txt', '/content/split/cabinet-approves-the-jammu-and-kashmir-reservation-amendment-ordinance-2019.txt', '/content/split/u-s-secretary-of-state-john-kerry-and-u-s-secretary-of-commerce-penny-pritzker-call-on-pm.txt', '/content/split/cabinet-approves-amendment-to-national-institute-of-design-nid-act-2014.txt', '/content/split/pm-greets-the-people-of-kuwait-on-their-national-day.txt', '/content/split/cabinet-approves-joint-interpretative-notes-on-the-agreement-between-india-and-bangladesh-for-promotion-and-protection-of-investments.txt', '/content/split/pm-launches-gangajal-project-to-provide-better-and-more-assured-water-supply-in-agra.txt', '/content/split/pm-condoles-the-loss-of-lives-due-to-the-landslides-in-darjeeling-district-announces-compensation-of-rs-2-lakh-from-the-pmnrf-to-the-families-of-the-deceased.txt', '/content/split/pm-thanks-members-of-all-parties-on-the-passage-of-gst-bill-in-rajya-sabha.txt', '/content/split/pm-salutes-bhagat-singh-rajguru-and-sukhdev-on-their-martyrdom-day.txt', '/content/split/group-of-secretaries-presents-ideas-on-agriculture-and-allied-sectors-to-pm.txt', '/content/split/donate-generously-to-the-prime-ministers-national-relief-fund-pm-appeals-to-fellow-countrymen-to-stand-in-solidarity-with-distressed-flood-affected-people-in-jammu-and-kashmir.txt', '/content/split/pm-congratulates-isro-on-successful-launch-of-pslv-c37-and-cartosat-satellite-together-with-103-nano-satellites.txt', '/content/split/pms-interaction-through-pragati-11.txt', '/content/split/pm-reviews-preparations-for-launch-of-mission-swachh-bharat.txt', '/content/split/pm-pays-tribute-to-dr-rajendra-prasad-on-his-jayanti.txt', '/content/split/pms-telephone-call-to-h-e-mr-hamid-karzai-former-president-of-islamic-republic-of-afghanistan.txt', '/content/split/pms-remarks-after-visiting-tirumala-temple-at-tirupati.txt', '/content/split/pm-wishes-shri-atal-bihari-vajpayee-on-his-birthday-2.txt', '/content/split/pm-greets-the-people-of-saudi-arabia-on-their-national-day.txt', '/content/split/treaty-on-transfer-of-sentenced-persons-between-india-and-nigeria.txt', '/content/split/pm-salutes-engineers-on-engineers-day-pays-tributes-to-bharat-ratna-m-visvesvaraya-on-his-birth-anniversary.txt', '/content/split/pm-greets-the-nation-on-new-year.txt', '/content/split/pm-congratulates-isro-team-for-the-successful-launch-of-its-100th-satellite.txt', '/content/split/pms-letter-to-mr-justin-trudeau-leader-of-the-liberal-party-of-canada.txt', '/content/split/pm-visits-kyrgyz-india-mountain-biomedical-research-centre-inaugurates-first-telemedicine-link-between-india-and-central-asia.txt', '/content/split/pms-address-at-the-reply-to-the-motion-of-thanks-on-the-presidents-address-in-the-lok-sabha.txt', '/content/split/pm-dedicates-to-the-nation-brahmaputra-cracker-and-polymer-limited-and-wax-plant-of-numaligarh-refineries-ltd-at-lepetkata-near-dibrugarh.txt', '/content/split/pm-to-visit-shirdi-maharashtra-on-october-19.txt', '/content/split/pm-visits-jammu-and-kashmir.txt', '/content/split/pms-address-at-special-commemorative-postage-stamp-release-on-100-years-of-yogoda-satsang-math.txt', '/content/split/pm-condoles-the-loss-of-lives-in-bilaspur-bus-accident.txt', '/content/split/mr-bimalendra-nidhi-deputy-prime-minister-and-minister-of-home-affairs-of-nepal-calls-on-pm-2.txt', '/content/split/pms-address-on-budget-2019-20.txt', '/content/split/pm-condemns-killing-of-innocent-people-in-assam.txt', '/content/split/memorandum-of-understanding-between-india-and-indonesia-in-the-field-new-and-renewable-energy-cooperation.txt', '/content/split/cabinet-approves-proposal-for-amendments-to-the-nabard-act-1981.txt', '/content/split/pm-and-netherlands-pm-mark-rutte-greet-each-other-in-dutch-and-hindi-on-social-media.txt', '/content/split/pms-address-at-a-public-meeting-in-varanasi.txt', '/content/split/pms-press-statement-during-the-visit-of-prime-minister-of-canada-to-india.txt', '/content/split/cheque-of-rs-2-crore-towards-pmnrf-presented-to-pm.txt', '/content/split/cabinet-approves-agreement-between-india-and-peru.txt', '/content/split/pm-greets-the-people-of-canada-on-canada-day-2.txt', '/content/split/pms-address-at-the-convocation-of-visva-bharti-university-at-santiniketan-in-west-bengal.txt', '/content/split/pm-attends-event-to-mark-introduction-of-digital-filing-as-a-step-towards-paperless-supreme-court.txt', '/content/split/cabinet-approves-mou-between-the-icai-and-national-board-of-accountants-and-auditors-tanzania.txt', '/content/split/text-of-pms-address-during-dedication-of-nimmo-bazgo-hydropower-project-to-the-nation-and-foundation-stone-ceremony-of-the-srinagar-leh-transmission-line-at-leh.txt', '/content/split/pm-greets-china-korea-vietnam-and-mongolia-on-their-new-year.txt', '/content/split/india-russia-joint-statement-during-the-visit-of-the-president-of-russia-to-india.txt', '/content/split/signing-of-mou-between-india-and-oman-in-the-field-of-tourism.txt', '/content/split/cabinet-apprised-of-the-mou-between-india-and-italy-on-cooperation-in-the-field-of-renewable-energy.txt', '/content/split/auctioning-of-pms-mementoes-concludes-tremendous-response-received-from-the-people-amount-received-from-the-auction-to-be-used-to-support-the-noble-cause-of-namami-gange.txt', '/content/split/pm-inaugurates-international-conference-and-exhibition-on-sugarcane-value-chain-vision-2025-sugar-at-pune.txt', '/content/split/text-of-pms-mann-ki-baatprogramme-on-all-india-radio-on-22-05-2016.txt', '/content/split/highlights-of-pms-statement-on-energy-at-g20-summit.txt', '/content/split/pms-address-at-indian-community-event-in-muscat-oman.txt', '/content/split/pm-to-chair-meeting-with-cms-of-the-north-eastern-states-tomorrow.txt', '/content/split/members-of-oman-india-joint-business-council-meet-pm.txt', '/content/split/cabinet-approves-mou-between-india-and-equatorial-guinea-for-cooperation-in-the-field-of-traditional-systems-of-medicine.txt', '/content/split/pms-departure-statement-ahead-of-his-visit-to-japan.txt', '/content/split/pms-mann-ki-baat-programme-on-all-india-radio-on-june-26-2016.txt', '/content/split/pm-interacts-with-young-artificial-limbs-beneficiaries.txt', '/content/split/pm-launches-development-works-addresses-public-meeting-in-varanasi.txt', '/content/split/pm-releases-book-written-by-jain-acharya-through-video-conferencing.txt', '/content/split/continuation-strengthening-and-establishment-of-krishi-vigyan-kendras-in-the-xii-plan.txt', '/content/split/pm-addresses-valedictory-ceremony-at-dgpigp-conference-at-tekanpur.txt', '/content/split/pm-attends-first-national-handloom-day-celebrations.txt', '/content/split/pm-expresses-grief-on-the-loss-of-lives-in-bihar-boat-tragedy-approves-ex-gratia-from-pmnrf.txt', '/content/split/pm-bows-to-sri-basavanna-on-basava-jayanthi.txt', '/content/split/pm-congratulates-donald-trump-on-his-assumption-of-office-as-president-of-the-usa.txt', '/content/split/pm-to-chair-high-level-meeting-on-global-economic-scenario.txt', '/content/split/cabinet-approves-mou-between-india-and-morocco-in-the-legal-field.txt', '/content/split/pms-address-at-closing-ceremony-of-namami-narmade-narmada-sewa-yatra-in-amarkantak-madhya-pradesh.txt', '/content/split/no-objection-to-the-proposed-change-in-shareholding-in-the-container-terminal-projects-of-ms-dubai-port-world-limited-in-major-ports.txt', '/content/split/cabinet-approves-policy-framework-to-promote-and-incentivize-enhanced-recovery-methods-for-oil-and-gas.txt', '/content/split/memorandum-of-understanding-on-tourism-cooperation-between-india-and-cambodia.txt', '/content/split/pms-speech-at-the-one-district-one-product-regional-summit-in-varanasi.txt', '/content/split/pm-to-visit-gujarat-on-7th-and-8th-october.txt', '/content/split/text-of-pms-address-at-the-launch-of-idfc-bank.txt', '/content/split/pm-to-inaugurate-petrotech-2019-on-february-11-2019.txt', '/content/split/memorandum-of-understanding-between-sintef-norway-and-cpwd-in-the-field-of-recycling-of-construction-and-demolition-waste.txt', '/content/split/cabinet-approves-proposal-for-enactment-of-dam-safety-bill-2018.txt', '/content/split/press-statement-by-pm-sh-modi-during-the-visit-of-prime-minister-of-thailand-to-india.txt', '/content/split/pm-attends-niti-aayogs-interaction-with-economists-and-experts-on-economic-policy-the-road-ahead.txt', '/content/split/pm-condoles-the-passing-away-of-selvi-j-jayalalithaa.txt', '/content/split/text-of-pms-remarks-at-india-us-ceo-forum.txt', '/content/split/pm-condoles-the-demise-of-justice-pn-bhagwati.txt', '/content/split/pm-launches-website-to-honour-gallantry-award-winners.txt', '/content/split/text-of-the-media-statement-given-by-prime-minister-shri-narendra-modi-at-raj-bhawan-srinagar-during-his-visit-to-jammu-and-kashmir-on-occasion-of-diwali.txt', '/content/split/visiting-members-of-india-singapore-strategic-dialogue-call-on-pm.txt', '/content/split/pm-recalls-pandit-deendayal-upadhyayas-mantra-of-integral-humanism-and-contribution-towards-serving-society-on-his-birth-anniversary.txt', '/content/split/pms-address-at-the-inauguration-of-the-14th-pravasi-bharatiya-divas-convention-in-bengaluru.txt', '/content/split/text-of-pms-address-at-the-outstanding-parliamentary-awards-ceremony-in-the-parliament.txt', '/content/split/pm-condoles-the-lose-of-lives-in-the-attacks-in-france-kuwait-and-tunisia.txt', '/content/split/pm-arrives-in-berlin-for-fourth-india-germany-intergovernmental-consultations.txt', '/content/split/president-obama-invites-pm-to-washington-in-september-pm-looks-forward-to-a-result-oriented-visit-with-concrete-outcomes-us-deputy-secretary-of-state-calls-on-pm.txt', '/content/split/pm-speaks-to-the-emir-of-qatar-2.txt', '/content/split/pm-invites-views-and-experiences-on-dealing-with-the-menace-of-drugs.txt', '/content/split/pm-greets-sports-enthusiasts-on-national-sports-day.txt', '/content/split/visit-of-the-prime-minister-of-denmark-to-india-for-vibrant-gujarat-summit-2019.txt', '/content/split/dg-itbp-hands-over-cheque-worth-rs-2-91-crore-for-pmnrf-to-pm.txt', '/content/split/mou-and-agreement-on-cooperation-in-the-field-of-sports-signed-with-kazakhstan-and-turkmenistan.txt', '/content/split/pm-pays-tribute-to-dr-rajendra-prasad-on-his-birth-anniversary.txt', '/content/split/cabinet-approves-signing-of-air-services-agreement-between-india-and-fiji.txt', '/content/split/pm-conveys-his-greetings-to-the-people-of-mizoram-and-arunachal-pradesh-on-their-statehood-day.txt', '/content/split/pms-remarks-at-the-farewell-function-in-parliament-for-vice-president-hamid-ansari.txt', '/content/split/cabinet-approves-mou-between-india-and-transport-for-london.txt', '/content/split/pm-on-kerala-temple-fire-heart-rending-and-shocking-to-reach-kerala-soon.txt', '/content/split/pm-distributes-aids-and-assistive-devices-at-samajik-adhikarita-shivir-in-varanasi-flags-off-mahamana-express.txt', '/content/split/text-of-pms-remarks-at-the-inauguration-of-the-birth-centenary-celebrations-of-rani-gaidinliu.txt', '/content/split/pm-to-pay-respects-to-mahatma-gandhi-visit-jharkhand-tomorrow.txt', '/content/split/cabinet-approves-creation-of-gst-council-and-its-secretariat.txt', '/content/split/pm-invites-views-from-the-people-on-decision-taken-regarding-currency-notes-of-rs-500-and-rs-1000.txt', '/content/split/pm-addresses-republic-tv-summit.txt', '/content/split/pm-visits-yavatmal-in-maharashtra-says-housing-for-all-will-be-achieved-by-2022.txt', '/content/split/pm-congratulates-hima-das-on-winning-gold-in-400m-of-world-u20-championships.txt', '/content/split/pms-address-at-the-foundation-stone-laying-ceremony-of-pune-metro-project-phase-i.txt', '/content/split/pms-address-at-the-public-meeting-in-katra-jammu-kashmir.txt', '/content/split/pms-telephonic-conversation-with-king-salman-bin-abdul-aziz-al-saud-of-saudi-arabia.txt', '/content/split/cabinet-approves-encashment-of-accumulated-leave-to-defence-services-personnel-with-less-than-15-years-of-service.txt', '/content/split/pm-inaugurates-phase-ii-of-the-rashtrapati-bhawan-museum.txt', '/content/split/pms-bilateral-engagements-at-nay-pyi-taw-nov-13-2014.txt', '/content/split/pms-press-statement-during-his-visit-to-russia.txt', '/content/split/dr-fayez-tarawneh-chief-of-the-royal-hashemite-court-of-jordan-calls-on-pm.txt', '/content/split/pms-gift-to-president-park-geun-hye.txt', '/content/split/pm-writes-to-japanese-pm-shinzo-abe-condemns-killing-of-japanese-citizens-by-is.txt', '/content/split/h-e-mr-raila-odinga-former-prime-minister-of-kenya-calls-on-pm.txt', '/content/split/media-statement-by-the-pm-during-the-visit-of-prime-minister-of-portugal-to-india.txt', '/content/split/asha-representatives-from-across-the-country-call-on-pm.txt', '/content/split/pm-pays-homage-to-bhagwan-birsa-munda-on-his-birth-anniversary.txt', '/content/split/pm-greets-people-of-meghalaya-on-their-statehood-day.txt', '/content/split/pm-expresses-pain-over-the-loss-of-lives-due-to-derailment-of-kamayani-express-and-janta-express-near-harda-in-madhya-pradesh.txt', '/content/split/pm-sanctions-ex-gratia-relief-for-the-victims-of-fire-accident-in-bhubaneswar-sum-hospital-odisha.txt', '/content/split/cabinet-approves-national-steel-policy-2017.txt', '/content/split/president-ashraf-ghani-calls-pm-and-condemns-cross-border-terrorist-attack-in-pathankot.txt', '/content/split/pms-closing-remarks-with-heads-of-government-from-south-asian-nations-to-mark-the-launch-of-south-asia-satellite.txt', '/content/split/pm-releases-commemorative-postage-stamp-on-hemvati-nandan-bahuguna.txt', '/content/split/pms-speech-on-the-occasion-of-inauguration-of-conference-on-india-and-iran-two-great-civilizations-retrospect-and-prospects-and-release-of-rare-persian-manuscript.txt', '/content/split/approval-to-guidelines-on-spectrum-sharing.txt', '/content/split/signing-ratification-of-inter-governmental-agreement-bw-india-armenia-on-cooperation-in-agriculture-sect.txt', '/content/split/pm-congratulates-isro-for-the-successful-launch-of-gslv-mkiii-d1gsat-19-mission.txt', '/content/split/pms-statement-ahead-of-the-beginning-of-the-monsoon-session-of-parliament.txt', '/content/split/pms-address-at-the-ease-of-doing-business-event.txt', '/content/split/prime-ministers-statement-prior-to-his-departure-to-belgium-usa-and-saudi-arabia.txt', '/content/split/pm-invites-inputs-for-next-mann-ki-baat.txt', '/content/split/pms-address-in-50th-episode-of-mann-ki-baat.txt', '/content/split/text-of-pms-address-at-the-indian-diaspora-event-at-ricoh-coliseum-in-toronto-canada.txt', '/content/split/pm-reviews-progress-towards-holistic-development-of-islands.txt', '/content/split/arrangement-for-the-establishment-of-an-indo-french-joint-committee-on-science-technology-cooperation.txt', '/content/split/pm-congratulates-isro-for-successful-launch-of-pslv.txt', '/content/split/pm-pays-tributes-to-babu-jagjivan-ram-on-his-birth-anniversary.txt', '/content/split/cabinet-approves-formation-of-joint-venture-companies-with-state-governments-to-mobilize-resources-for-undertaking-various-rail-infrastructure-projects-in-the-states.txt', '/content/split/pms-address-at-public-meeting-with-ex-servicemen-in-bhopal-madhya-pradesh.txt', '/content/split/cabinet-approves-raising-of-ebr-for-swachh-bharat-mission-gramin-sbmg-amounting-up-to-rs-15000-crore-during-the-financial-year-2018-19.txt', '/content/split/pms-statement-on-gearing-up-for-the-3rd-india-africa-forum-summit-2015.txt', '/content/split/informal-brics-leaders-meeting-in-hamburg.txt', '/content/split/pm-hands-over-certificate-of-shyamji-krishna-varmas-posthumous-reinstatement-to-the-bar-to-gujarat-cm.txt', '/content/split/implementation-of-scheme-for-development-of-solar-parks-and-ultra-mega-solar-power-projects.txt', '/content/split/approval-for-proposal-for-extension-of-the-value-date-of-the-existing-currency-swap-facility-of-usd-1-1-billion-availed-by-cbsl-and-provision-of-a-new-special-currency-swap-to-sri-lanka-for-usd-700-mi.txt', '/content/split/list-of-agreements-signed-during-14th-india-eu-summit-in-new-delhi.txt', '/content/split/cabinet-approves-proposal-to-allot-land-to-chandigarh-housing-board-for-construction-of-apartments-for-3930-allottees-under-self-financing-housing-scheme-for-ut-employees.txt', '/content/split/pms-address-at-the-50th-anniversary-of-establishment-of-high-court-of-delhi-at-vigyan-bhavan-new-delhi.txt', '/content/split/pms-engagements-in-washington-dc-usa.txt', '/content/split/pm-speaks-to-tamil-nadu-cm-on-flood-situation-in-parts-of-the-state.txt', '/content/split/pms-speech-at-india-japan-business-leaders-forum-gandhinagar.txt', '/content/split/pm-greets-the-people-on-occasion-of-various-festivals-across-the-country-2.txt', '/content/split/pm-meets-successful-candidates-of-upsc-examination-who-underwent-training-in-spipa.txt', '/content/split/pm-lays-foundation-stone-of-aiims-in-bathinda.txt', '/content/split/pm-greets-people-of-madhya-pradesh-on-states-foundation-day.txt', '/content/split/pms-address-at-the-inauguration-of-uttar-pradesh-investors-summit-2018-in-lucknow.txt', '/content/split/pm-salutes-the-services-of-civilian-and-defence-officials-and-organisations-in-helping-evacuate-indian-citizens-from-yemen.txt', '/content/split/pms-press-statement-during-the-state-visit-of-prime-minister-of-bangladesh-to-india.txt', '/content/split/pm-sends-email-to-all-bankers-congratulating-them-for-the-success-of-pradhan-mantri-jan-dhan-yojana.txt', '/content/split/outcomes-during-the-visit-of-pm-to-nepal-november-25-27-2014.txt', '/content/split/cabinet-approves-mou-between-india-and-japan-on-development-of-advanced-model-single-window.txt', '/content/split/pms-fourth-interaction-with-additional-secretaries-and-joint-secretaries.txt', '/content/split/pm-launches-india-post-payments-bank-a-major-initiative-towards-financial-inclusion.txt', '/content/split/pms-address-at-the-inauguration-of-the-wadhwani-institute-of-artificial-intelligence-mumbai.txt', '/content/split/pms-address-at-the-laying-of-foundation-stone-of-talcher-fertilizer-plant-odisha.txt', '/content/split/english-rendering-of-the-text-of-pms-remarks-to-the-media-during-the-joint-press-statement-with-german-chancellor-angela-merkel-at-berlin.txt', '/content/split/pms-speech-on-the-occasion-of-the-inauguration-of-synthetic-track-of-the-usha-school-vc.txt', '/content/split/pm-launches-soil-health-card-scheme-presents-krishi-karman-awards-from-suratgarh-rajasthan.txt', '/content/split/pm-attends-centenary-celebrations-of-karnatak-lingayat-education-society.txt', '/content/split/pms-statement-to-media-ahead-of-budget-session-of-parliament.txt', '/content/split/pms-address-at-the-flagging-off-vande-bharat-express.txt', '/content/split/approval-for-improved-voluntary-retirement-scheme-vrs-for-the-employees-of-hooghly-dock-port-engineers-limited-and-restructuring-of-the-company-through-joint-venture-jv.txt', '/content/split/pm-appeals-to-friends-and-well-wishers-not-to-celebrate-his-birthday-instead-to-dedicate-themselves-towards-relief-work-in-jk.txt', '/content/split/cabinet-approves-transfer-of-13111-55-square-meters-of-land-belonging-to-indian-institute-of-soil-water-conservation-research-centre-at-chandigarh.txt', '/content/split/pm-pays-tributes-to-mahatma-phule-on-his-birth-anniversary-3.txt', '/content/split/pm-pays-homage-to-mahatma-gandhi-and-all-the-martyrs-who-laid-their-lives-for-the-nation-on-martyrs-day.txt', '/content/split/pm-releases-national-disaster-management-plan.txt', '/content/split/text-of-pms-mann-ki-baat-on-all-india-radio-2.txt', '/content/split/pm-undertakes-aerial-survey-of-flood-hit-areas-in-tamil-nadu.txt', '/content/split/pms-remarks-at-the-launch-of-digital-india-week.txt', '/content/split/mr-ashton-carter-us-secretary-of-defence-calls-on-prime-minister.txt', '/content/split/the-south-asian-satellite-some-highlights.txt', '/content/split/pm-meets-various-groups-of-flood-affected-people-in-srinagar-listens-to-their-problems-and-suggestions.txt', '/content/split/pm-congratulates-the-indian-contingent-on-the-outstanding-performance-at-special-olympic-world-summer-games-2015-held-in-los-angeles.txt', '/content/split/cabinet-approves-amendment-of-the-social-security-agreement-between-india-and-the-netherlands.txt', '/content/split/pm-to-dedicate-the-national-war-memorial-to-the-nation-tomorrow.txt', '/content/split/pm-welcomes-and-conveys-best-wishes-to-all-teams-taking-part-in-the-fifa-u-17-world-cup.txt', '/content/split/cabinet-approves-signing-of-mou-between-india-and-argentine-in-tourism.txt', '/content/split/pm-condoles-the-passing-away-of-former-us-president-george-h-w-bush.txt', '/content/split/pm-bows-to-bhagwan-birsa-munda-on-his-jayanti.txt', '/content/split/pms-remarks-at-the-102nd-indian-science-congress.txt', '/content/split/pm-chairs-emergency-high-level-meeting-to-review-preparedness-for-cyclone-hudhud.txt', '/content/split/us-secretary-of-defence-ashton-carter-calls-on-the-prime-minister.txt', '/content/split/cabinet-approves-mou-between-india-and-the-russian-federation-on-expansion-of-bilateral-trade-and-economic-cooperation.txt', '/content/split/pms-mann-ki-baat-programme-on-all-india-radio-5.txt', '/content/split/text-of-pms-speech-at-samajik-adhikarita-shivir-for-distribution-of-aids-and-assistive-devices-in-varanasi-22-01-2016.txt', '/content/split/cabinet-approves-mou-between-india-and-korea-for-export-credit-of-usd-9-billion.txt', '/content/split/pm-condoles-the-demise-of-former-cm-of-manipur-mr-rishang-keishing.txt', '/content/split/pm-inaugurates-kundli-manesar-section-of-western-peripheral-expressway-andballabgarh-mujesar-metro-link.txt', '/content/split/pms-mann-ki-baat-programme-on-all-india-radio-on-august-28-2016.txt', '/content/split/text-of-pms-address-at-the-inaugural-ceremony-of-12th-south-asian-games-at-guwahati.txt', '/content/split/memorandum-of-cooperation-for-bilateral-cooperation-in-the-field-of-industrial-property-for-capacity-building-human-resource-development-and-awareness-generation-between-india-and-japan.txt', '/content/split/pm-greets-the-people-of-bangladesh-on-their-independence-day.txt']\n"
          ]
        }
      ]
    },
    {
      "cell_type": "code",
      "source": [
        "# Combine all speeches into one \n",
        "combine = []\n",
        "for f in files:\n",
        "  with open(f, 'r') as fold:\n",
        "    speech = \" \".join([str(line) for line in fold])\n",
        "    combine.append(speech)              "
      ],
      "metadata": {
        "id": "RjxFMdcw3WzH"
      },
      "execution_count": 54,
      "outputs": []
    },
    {
      "cell_type": "code",
      "source": [
        "type(combine[2])\n",
        "len(combine)"
      ],
      "metadata": {
        "colab": {
          "base_uri": "https://localhost:8080/"
        },
        "id": "AN2kQ2gGMRoY",
        "outputId": "d9c0f03a-8c68-4762-fe8c-d0955cec82f4"
      },
      "execution_count": 64,
      "outputs": [
        {
          "output_type": "execute_result",
          "data": {
            "text/plain": [
              "4806"
            ]
          },
          "metadata": {},
          "execution_count": 64
        }
      ]
    },
    {
      "cell_type": "code",
      "source": [
        "# Selecting Train speeches\n",
        "import pandas as pd\n",
        "hindi_unprep = pd.DataFrame(list for list in combine)\n",
        "\n",
        "# We select speeches with at least 500 tokens\n",
        "TOKENS_LIMIT = 500\n",
        "remove = []\n",
        "for speech in hindi_unprep[:5].itertuples():\n",
        "  if len(speech[1].split(\" \"))  < TOKENS_LIMIT:\n",
        "    remove.append(speech[0])\n",
        "    print(speech[0], \" removed!\")\n",
        "\n",
        "file_name = 'pmindia_hindi_unprep.txt'\n",
        "\n",
        "hindi_unprep = hindi_unprep[3:]\n",
        "\n",
        "#defining a list\n",
        "with open(file_name, 'w', encoding = \"utf-8\") as f:     \n",
        "  f.writelines(\"%s\" % str(line)+\"\\t\" for line in combine[:3])\n",
        "\n",
        "x = open(file_name, \"r\", encoding = \"utf-8\")\n"
      ],
      "metadata": {
        "colab": {
          "base_uri": "https://localhost:8080/"
        },
        "id": "PMPHUR_D4f9e",
        "outputId": "59263f86-67e0-4337-a159-f416a4fa5edc"
      },
      "execution_count": 63,
      "outputs": [
        {
          "output_type": "stream",
          "name": "stdout",
          "text": [
            "0  removed!\n",
            "2  removed!\n",
            "3  removed!\n",
            "4  removed!\n"
          ]
        },
        {
          "output_type": "execute_result",
          "data": {
            "text/plain": [
              "104"
            ]
          },
          "metadata": {},
          "execution_count": 63
        }
      ]
    },
    {
      "cell_type": "code",
      "execution_count": 57,
      "metadata": {
        "id": "yTkSBfbBq25Z"
      },
      "outputs": [],
      "source": [
        "from contextualized_topic_models.models.ctm import ZeroShotTM\n",
        "from contextualized_topic_models.utils.data_preparation import TopicModelDataPreparation\n",
        "from contextualized_topic_models.utils.preprocessing import  WhiteSpacePreprocessingStopwords\n",
        "import pickle"
      ]
    },
    {
      "cell_type": "markdown",
      "metadata": {
        "id": "EnXnkp3TxGYy"
      },
      "source": [
        "### Data\n",
        "\n",
        "**Building W1**\n",
        "\n",
        "We use datasets collected from Hindi\n",
        "PMIndia speeches. The first dataset (W1) contains X randomly sampled abstracts. \n"
      ]
    },
    {
      "cell_type": "markdown",
      "metadata": {
        "id": "LRYo3hb4zUTf"
      },
      "source": [
        "**Downloading PMIndia Speeches**"
      ]
    },
    {
      "cell_type": "code",
      "execution_count": 58,
      "metadata": {
        "id": "cP8KlaHlzkLa"
      },
      "outputs": [],
      "source": [
        "text_file = \"pmindia_hindi_unprep.txt\" # EDIT THIS WITH THE FILE YOU UPLOAD"
      ]
    },
    {
      "cell_type": "markdown",
      "metadata": {
        "id": "hkbIsafEz6w3"
      },
      "source": [
        "**Preprocessing**\n",
        "\n",
        "Why do we use the preprocessed text here? We need text without punctuation to build the bag of word. Also, we might want only to have the most frequent words inside the BoW. Too many words might not help."
      ]
    },
    {
      "cell_type": "code",
      "source": [
        "# Download Hindi Stopwords\n",
        "!pip install stopwordsiso\n",
        "import stopwordsiso as stopwords"
      ],
      "metadata": {
        "colab": {
          "base_uri": "https://localhost:8080/"
        },
        "id": "WmEvQ_VotTkn",
        "outputId": "fbb78fc9-58ce-4689-c6f8-54794d8cc846"
      },
      "execution_count": 59,
      "outputs": [
        {
          "output_type": "stream",
          "name": "stdout",
          "text": [
            "Requirement already satisfied: stopwordsiso in /usr/local/lib/python3.7/dist-packages (0.6.1)\n"
          ]
        }
      ]
    },
    {
      "cell_type": "code",
      "execution_count": 77,
      "metadata": {
        "id": "sQBKiAC_z_aj",
        "colab": {
          "base_uri": "https://localhost:8080/"
        },
        "outputId": "abe9ed9b-e422-4ee1-d92b-f94164109949"
      },
      "outputs": [
        {
          "output_type": "stream",
          "name": "stderr",
          "text": [
            "/usr/local/lib/python3.7/dist-packages/sklearn/utils/deprecation.py:87: FutureWarning: Function get_feature_names is deprecated; get_feature_names is deprecated in 1.0 and will be removed in 1.2. Please use get_feature_names_out instead.\n",
            "  warnings.warn(msg, category=FutureWarning)\n"
          ]
        }
      ],
      "source": [
        "documents = [line[:501].strip() for line in combine]\n",
        "\n",
        "sp = WhiteSpacePreprocessingStopwords(documents, stopwords_list = stopwords.stopwords(\"hi\"))\n",
        "preprocessed_documents, unpreprocessed_corpus, vocab = sp.preprocess()"
      ]
    },
    {
      "cell_type": "code",
      "source": [
        "len(preprocessed_documents)\n",
        "#len(hindi_unprep)\n",
        "\n",
        "len(unpreprocessed_corpus)"
      ],
      "metadata": {
        "colab": {
          "base_uri": "https://localhost:8080/"
        },
        "id": "w801ZxJzGGFh",
        "outputId": "a3cded19-d18b-4cea-f3a7-a0e75a4c31ec"
      },
      "execution_count": 78,
      "outputs": [
        {
          "output_type": "execute_result",
          "data": {
            "text/plain": [
              "4802"
            ]
          },
          "metadata": {},
          "execution_count": 78
        }
      ]
    },
    {
      "cell_type": "markdown",
      "metadata": {
        "id": "rnIptVxk0F4n"
      },
      "source": [
        "We don't discard the non-preprocessed hindi texts, because we are going to use them as input for obtaining the **contextualized** document representations.\n",
        "\n",
        "Let's pass our files with preprocess and unpreprocessed data to our TopicModelDataPreparation object. This object takes care of creating the bag of words and obtains the contextualized BERT representations of documents. This operation allows us to create our training dataset.\n",
        "\n",
        "Note: Here we use the contextualized model \"monsoon-nlp/hindi-tpu-electra\", because we need a multilingual model for indic languages for performing cross-lingual predictions later.\n",
        "\n"
      ]
    },
    {
      "cell_type": "markdown",
      "metadata": {
        "id": "C5dx85bGx7eu"
      },
      "source": [
        "**Training ZeroshotTM**"
      ]
    },
    {
      "cell_type": "code",
      "execution_count": 79,
      "metadata": {
        "id": "erO2thoszs7P"
      },
      "outputs": [],
      "source": [
        "from contextualized_topic_models.models.ctm import ZeroShotTM\n",
        "from contextualized_topic_models.utils.data_preparation import TopicModelDataPreparation\n",
        "from contextualized_topic_models.utils.preprocessing import WhiteSpacePreprocessing\n",
        "import nltk\n",
        "import pickle"
      ]
    },
    {
      "cell_type": "code",
      "execution_count": 86,
      "metadata": {
        "id": "GO-88XsA0G6m"
      },
      "outputs": [],
      "source": [
        "# Load Indic Multilingual embeddings \n",
        "tp = TopicModelDataPreparation(\"ai4bharat/indic-bert\")"
      ]
    },
    {
      "cell_type": "code",
      "execution_count": 87,
      "metadata": {
        "id": "WfKQcrICxfb-",
        "colab": {
          "base_uri": "https://localhost:8080/",
          "height": 601,
          "referenced_widgets": [
            "41b445517a1448dcb395e786a317690a",
            "7d1a13e5e322492f81d2ad8663ad1ea3",
            "bd6e53cff36c4aa48e7aae4c1ced05d1",
            "5ad994fa70df4692a13f9ecb576e72a9",
            "1006dcd9bcbd40dca24b0674f910404d",
            "4bf3b2adb02f4847a9012504a75ca517",
            "4ca0466c9dc44decbe64c8957a247a2d",
            "9add581baf4d46aebb0cc876c56e4011",
            "80e7f6dc694146239b90dc97ec2e24de",
            "8e356c89cd184af1a2b52d48c386b20b",
            "5d7138aee04b4ade983529b959ffe5de",
            "b657e44ab5954df0a5ddd5f7c042ec3a",
            "e3c8dbecc21e458db59ca4c4977cf524",
            "e0d152079c954f888cebf29d1da7a272",
            "a368c50fbf0742309e4eec707cb9ecb3",
            "2733613a6ab54443ae9c2e43e72315ec",
            "d3f9b553df0542f1b305cac5e1cbe387",
            "18668e7ead8d457ba53eae58938b5c96",
            "d42ac8bc3e5143e9b734f11e0227b3dd",
            "16fc0eede7774b1e874bf1f916e7918b",
            "f3cfa17c174942a4a1188af94b9dca33",
            "caae932ae4f04315b57a78194193385c",
            "aabf3dee9d19483cb4439cc0b90bccfa",
            "c3efb51d3f654ffd873c14ffc1f4a3de",
            "b7ad8d2c919348c39a46afa716515d5c",
            "57f35f48e5c641be91e3dc5848a85e26",
            "6e946938d28d4066a1076883135dc7bf",
            "a5ccda88b3064a79b7adb2882f9777d2",
            "79ffbcc7aa304047be5a66c2fca8e2ae",
            "c2fccfe0d42a4d1d90da63755a30a642",
            "7a6e21ec466e42e9b9f9da1d117205ac",
            "8bc209563fb74181aae0b03e2b66968d",
            "1babc1ff27f1416783c4661e5f82e291",
            "9cc2891d41754d2ea3b9eae635c6dda8",
            "5aeec79a5df9471bb13bba848293dbf6",
            "4eff0c42c9a44d898cee9ec4c6f6e77c",
            "182861091bb643048b6af3ecde45ca3d",
            "fac7ec095c96481f89d4222c7e8daa23",
            "de73ddf79a4147c1abc1f7170394c346",
            "be23b26c9eeb454db738ca55ea4aca84",
            "9c7e3e877a614d78b7224511fb00c52a",
            "0f9e9ee4c3a44714bdb7aea68f7293f8",
            "40b620afba544792b7d640f90378a8e9",
            "863984aa987a43ba9fb247859b295a75",
            "e2ac017d16d74efebdb7a5d3d1f27bbd",
            "e3f8cbdc1c7a43a193083182a4c5d65b",
            "de09642eae82462d8f6f698f97727a97",
            "899b55c7736a48eb8cbf29e6ec0ce013",
            "5d623704e113414b9eca3e1d0fda7b73",
            "04d50592124b4ade823e891311faddd3",
            "6a5cb677bb69477e989e76fb5431ced9",
            "cdccaa7631e44ed89aeb1d09d539ab5c",
            "3722501d76e4419784245badf75d65a1",
            "7a1f88ad0a7f44adb583d5d738871818",
            "8d026f031348492980ef6f63593a7e1b",
            "f26a363df3cd4f4da82a70d9d67e26fb",
            "1bbc9885c1044d63946cbf1dec926ce4",
            "109afdd9504d4720ac580271a251b3f1",
            "164c793eeb144e05a1da8f3473fc45cc",
            "8c134dc5ee9c4f089c1c41b704bc61f9",
            "c4754ace4e804940b12733754c9132b1",
            "e443723f109c47a5890db6d4f0ba75a8",
            "b02322fbe7d043ebaf96f01a6e69e75a",
            "b04b9e5ea3cb4f8f9667ff72845f41b3",
            "e273e12f2a4a477aacea449efe4fec63",
            "0c6bb9a89b9148c5981d5745af25520c",
            "788ad6fd1fbc47e291acca2d18ba61b7",
            "dd96c3ffb8bd41cd931533373c409109",
            "05a9c55bb7014aab8eb59530fcb95def",
            "4f0194a7a32e427fa6cc2135a85c9e2b",
            "ededbacb35784d74825801c30fed2a9c",
            "8214a8732f9e492997a73a9c62d3b3db",
            "1bb5d45d38794bfba885d9f8563e24aa",
            "5e48db4fc79048b9bbd173965a847a45",
            "15236fef394849c3ae18635f1d7bfb31",
            "3359002d0d8646508ab41f035a4a1672",
            "cc8065aff5294b578e3a308ce4041930",
            "935ecb5a94074bb7b015241ea7b309b1",
            "b2494f6edc1f4acf9fefacb492d15292",
            "9f34955938004330858438940746c341",
            "cc872ba9e9ed48d6b80b310ac2ad2473",
            "4413fc7830eb4c728d70bc8bbf12e73b",
            "e80941ea4052419ab1e87c7867a12cb3",
            "c550ec2cd3db42b5b2de1fdc262e4181",
            "f0351acab3964a889b8ddf464edf872b",
            "a4ab89a3fbc147bcb5b633305d1a1777",
            "4b63d8ab4b0b4adbbb9234832c92515e",
            "ef175b75490d4ca78e9bc6f16a7a945a",
            "ed5e522aeea049fb983eb2baad52307f",
            "9397a123bc5944d2bf51d54f23d59a8f",
            "cdc21f7433f44f9f9522e9ba7b15878e",
            "f10082f94ad04e49a35850d9930be6f3",
            "3149815ef1d344a9b91f61e308b68dbc",
            "87e1c75035b246cbb2dc77629ccd67d8",
            "d5aaf4e08157479eaf34f34f13d62114",
            "2fc3a7ad10c949cbb94f93ed8f4a7f47",
            "938d6db4cb774ed5b7d0848877185a15",
            "bf54b50ae517482f88702638221bb040",
            "67e4815d202341e08e2bc93420c2dd5d",
            "136d73c092504270a2cc3dc79eef7cd6",
            "ab3c94da2c854228907860f0d7b13d20",
            "a798d9974f7d4f1eac30dc956efaa6b7",
            "4f291d87438740d5a63e8543219710e9",
            "e95d28d4e4264c578456d11215090ffb",
            "ba1f2958c32b400aa29ebfb7cd96382f",
            "a6aed26f625544dc8331f52bbceed8e6",
            "c2f3b8b278514892a3a698fdbcab3e7e",
            "1bc84d50787f4f3ea1e40583a219e001",
            "77738c114350492daee43c5b0e93bfa4",
            "9711ef76a05448e8bff5d6fc08cefa04"
          ]
        },
        "outputId": "c2f5466a-06a7-458e-b299-3ede025f7711"
      },
      "outputs": [
        {
          "output_type": "display_data",
          "data": {
            "text/plain": [
              "Downloading:   0%|          | 0.00/345 [00:00<?, ?B/s]"
            ],
            "application/vnd.jupyter.widget-view+json": {
              "version_major": 2,
              "version_minor": 0,
              "model_id": "41b445517a1448dcb395e786a317690a"
            }
          },
          "metadata": {}
        },
        {
          "output_type": "display_data",
          "data": {
            "text/plain": [
              "Downloading:   0%|          | 0.00/4.77k [00:00<?, ?B/s]"
            ],
            "application/vnd.jupyter.widget-view+json": {
              "version_major": 2,
              "version_minor": 0,
              "model_id": "b657e44ab5954df0a5ddd5f7c042ec3a"
            }
          },
          "metadata": {}
        },
        {
          "output_type": "display_data",
          "data": {
            "text/plain": [
              "Downloading:   0%|          | 0.00/507 [00:00<?, ?B/s]"
            ],
            "application/vnd.jupyter.widget-view+json": {
              "version_major": 2,
              "version_minor": 0,
              "model_id": "aabf3dee9d19483cb4439cc0b90bccfa"
            }
          },
          "metadata": {}
        },
        {
          "output_type": "display_data",
          "data": {
            "text/plain": [
              "Downloading:   0%|          | 0.00/135M [00:00<?, ?B/s]"
            ],
            "application/vnd.jupyter.widget-view+json": {
              "version_major": 2,
              "version_minor": 0,
              "model_id": "9cc2891d41754d2ea3b9eae635c6dda8"
            }
          },
          "metadata": {}
        },
        {
          "output_type": "display_data",
          "data": {
            "text/plain": [
              "Downloading:   0%|          | 0.00/5.65M [00:00<?, ?B/s]"
            ],
            "application/vnd.jupyter.widget-view+json": {
              "version_major": 2,
              "version_minor": 0,
              "model_id": "e2ac017d16d74efebdb7a5d3d1f27bbd"
            }
          },
          "metadata": {}
        },
        {
          "output_type": "display_data",
          "data": {
            "text/plain": [
              "Downloading:   0%|          | 0.00/5.59M [00:00<?, ?B/s]"
            ],
            "application/vnd.jupyter.widget-view+json": {
              "version_major": 2,
              "version_minor": 0,
              "model_id": "f26a363df3cd4f4da82a70d9d67e26fb"
            }
          },
          "metadata": {}
        },
        {
          "output_type": "display_data",
          "data": {
            "text/plain": [
              "Downloading:   0%|          | 0.00/400M [00:00<?, ?B/s]"
            ],
            "application/vnd.jupyter.widget-view+json": {
              "version_major": 2,
              "version_minor": 0,
              "model_id": "788ad6fd1fbc47e291acca2d18ba61b7"
            }
          },
          "metadata": {}
        },
        {
          "output_type": "display_data",
          "data": {
            "text/plain": [
              "Downloading:   0%|          | 0.00/1.87k [00:00<?, ?B/s]"
            ],
            "application/vnd.jupyter.widget-view+json": {
              "version_major": 2,
              "version_minor": 0,
              "model_id": "935ecb5a94074bb7b015241ea7b309b1"
            }
          },
          "metadata": {}
        },
        {
          "output_type": "display_data",
          "data": {
            "text/plain": [
              "Downloading:   0%|          | 0.00/2.20M [00:00<?, ?B/s]"
            ],
            "application/vnd.jupyter.widget-view+json": {
              "version_major": 2,
              "version_minor": 0,
              "model_id": "ed5e522aeea049fb983eb2baad52307f"
            }
          },
          "metadata": {}
        },
        {
          "output_type": "stream",
          "name": "stderr",
          "text": [
            "WARNING:root:No sentence-transformers model found with name /root/.cache/torch/sentence_transformers/ai4bharat_indic-bert. Creating a new one with MEAN pooling.\n",
            "Some weights of the model checkpoint at /root/.cache/torch/sentence_transformers/ai4bharat_indic-bert were not used when initializing AlbertModel: ['sop_classifier.classifier.weight', 'predictions.LayerNorm.bias', 'predictions.dense.weight', 'predictions.LayerNorm.weight', 'sop_classifier.classifier.bias', 'predictions.decoder.weight', 'predictions.decoder.bias', 'predictions.dense.bias', 'predictions.bias']\n",
            "- This IS expected if you are initializing AlbertModel from the checkpoint of a model trained on another task or with another architecture (e.g. initializing a BertForSequenceClassification model from a BertForPreTraining model).\n",
            "- This IS NOT expected if you are initializing AlbertModel from the checkpoint of a model that you expect to be exactly identical (initializing a BertForSequenceClassification model from a BertForSequenceClassification model).\n"
          ]
        },
        {
          "output_type": "display_data",
          "data": {
            "text/plain": [
              "Batches:   0%|          | 0/25 [00:00<?, ?it/s]"
            ],
            "application/vnd.jupyter.widget-view+json": {
              "version_major": 2,
              "version_minor": 0,
              "model_id": "136d73c092504270a2cc3dc79eef7cd6"
            }
          },
          "metadata": {}
        },
        {
          "output_type": "stream",
          "name": "stderr",
          "text": [
            "/usr/local/lib/python3.7/dist-packages/sklearn/utils/deprecation.py:87: FutureWarning: Function get_feature_names is deprecated; get_feature_names is deprecated in 1.0 and will be removed in 1.2. Please use get_feature_names_out instead.\n",
            "  warnings.warn(msg, category=FutureWarning)\n"
          ]
        }
      ],
      "source": [
        "# Building training dataset\n",
        "training_dataset = tp.fit(text_for_contextual=unpreprocessed_corpus, text_for_bow=preprocessed_documents)"
      ]
    },
    {
      "cell_type": "code",
      "execution_count": 88,
      "metadata": {
        "id": "8fmUu7dz_btU",
        "colab": {
          "base_uri": "https://localhost:8080/"
        },
        "outputId": "be0c6c19-4fd3-4daf-e886-b8bfdcd7c537"
      },
      "outputs": [
        {
          "output_type": "stream",
          "name": "stderr",
          "text": [
            "Epoch: [30/30]\t Seen Samples: [144060/144060]\tTrain Loss: 86.96804498801973\tTime: 0:00:01.033218: : 30it [00:30,  1.03s/it]\n",
            "Sampling: [20/20]: : 20it [00:18,  1.08it/s]\n"
          ]
        }
      ],
      "source": [
        "# Hindi - 1\n",
        "# English - 2\n",
        "# Train zeroshotTM with english abstracts with t = 25\n",
        "z_ctm_25 = ZeroShotTM(bow_size=len(tp.vocab), n_components = 20, contextual_size=768, num_epochs=30)\n",
        "z_ctm_25.fit(training_dataset) # run the model"
      ]
    },
    {
      "cell_type": "code",
      "source": [
        "z_ctm_25.get_topic_lists(5)"
      ],
      "metadata": {
        "colab": {
          "base_uri": "https://localhost:8080/"
        },
        "id": "7cEe-g2AX1MP",
        "outputId": "3459c3b7-cb1f-47f1-f5d9-148449de76fa"
      },
      "execution_count": 91,
      "outputs": [
        {
          "output_type": "execute_result",
          "data": {
            "text/plain": [
              "[['करन', 'बठक', 'गई', 'तहत', 'रपय'],\n",
              " ['एव', 'कषतर', 'एमओय', 'जल', 'परबधन'],\n",
              " ['नरनदर', 'करत', 'अवसर', 'हए', 'अपन'],\n",
              " ['हए', 'आज', 'करत', 'नरनदर', 'नरदर'],\n",
              " ['परबधन', 'कषतर', 'एव', 'तहत', 'एमओय'],\n",
              " ['आज', 'हम', 'हए', 'अवसर', 'दश'],\n",
              " ['तहत', 'कषतर', 'एमओय', 'एव', 'करन'],\n",
              " ['मर', 'बहत', 'मझ', 'दश', 'रह'],\n",
              " ['इवट', 'यन', 'पम', 'लट', 'चत'],\n",
              " ['बहत', 'दश', 'मर', 'मझ', 'आज'],\n",
              " ['बठक', 'गई', 'करन', 'रपय', 'नए'],\n",
              " ['दश', 'बहत', 'मझ', 'मर', 'आज'],\n",
              " ['the', 'in', 'of', 'minister', 'excellency'],\n",
              " ['सदश', 'अवसर', 'नमन', 'उनह', 'उनक'],\n",
              " ['इवट', 'लट', 'यन', 'पम', 'चत'],\n",
              " ['हए', 'आज', 'करत', 'नई', 'अवसर'],\n",
              " ['मझ', 'बहत', 'मर', 'हम', 'दश'],\n",
              " ['यन', 'इवट', 'करग', 'मध', 'भट'],\n",
              " ['बठक', 'रप', 'सममलन', 'करन', 'नई'],\n",
              " ['नशनल', 'ऑफ', 'तल', 'गस', 'iii']]"
            ]
          },
          "metadata": {},
          "execution_count": 91
        }
      ]
    },
    {
      "cell_type": "markdown",
      "metadata": {
        "id": "EM_N1a9SdowT"
      },
      "source": [
        "# Zero-shot Cross-Lingual Topic Modeling\n",
        "> Can the conxtextualized TM tackle zero-shot cross-lingual topic modeling?\n",
        "\n",
        "W1 contains 5K Hindi documents. We use 4700 documents as training and consider the remaining 300 documents as the test set. We collect the 300 respective instances in Gujrati, Marathi, Sindhi.\n",
        "\n",
        "Tamil, Telugu, Kannada, Malayalam - Dravadian languages\n",
        "\n",
        "First, we use IndicBERT to generate multilingual embeddings as the input of the model. Then we evaluate multilingual topic predictions on the multilingual abstracts in W1."
      ]
    },
    {
      "cell_type": "code",
      "execution_count": null,
      "metadata": {
        "id": "pL_rO2YH1jhf"
      },
      "outputs": [],
      "source": [
        "# Install the contextualized topic model library\n",
        "%%capture\n",
        "!pip install contextualized-topic-models==2.2.0\n",
        "\n",
        "# Imports\n",
        "from contextualized_topic_models.models.ctm import ZeroShotTM\n",
        "from contextualized_topic_models.utils.data_preparation import TopicModelDataPreparation\n",
        "from contextualized_topic_models.utils.preprocessing import WhiteSpacePreprocessing\n",
        "import nltk\n",
        "import pickle\n",
        "import numpy as np\n",
        "from pprint import pprint"
      ]
    },
    {
      "cell_type": "code",
      "execution_count": null,
      "metadata": {
        "id": "YGpvgsDOZN80"
      },
      "outputs": [],
      "source": [
        "# Download W2 files for training and testing (given by authors)\n",
        "!curl -L \"https://drive.google.com/u/0/uc?id=1HY-hi_DmoL4FYNTmlvUYgYL9x-yzroj3&export=download\" -o test_set"
      ]
    },
    {
      "cell_type": "markdown",
      "metadata": {
        "id": "km1wNJWNiYBx"
      },
      "source": [
        "### Data\n",
        "**Building Training Dataset (W2)**"
      ]
    },
    {
      "cell_type": "code",
      "execution_count": null,
      "metadata": {
        "id": "puBg-Ma4eQNg"
      },
      "outputs": [],
      "source": [
        "# Raw files (given by authors)\n",
        "train_file = \"dbpedia_train_unprep.txt\" # 100K english abstracts\n",
        "test_file = \"test_set\" # 300 comparable documents in it, fr, pt, de, en\n",
        "\n",
        "# Get Test File\n",
        "with open(test_file, \"rb\") as filino:\n",
        "  w2_test = pickle.load(filino)\n",
        "filino.close()\n",
        "\n",
        "# Extract multilingual test files (indices given by authors)\n",
        "italian_documents = [w2_test[i][0] for i in range(len(w2_test))]\n",
        "french_documents = [w2_test[i][1] for i in range(len(w2_test))]\n",
        "portugese_documents = [w2_test[i][2] for i in range(len(w2_test))]\n",
        "german_documents = [w2_test[i][3] for i in range(len(w2_test))]\n",
        "english_documents = [w2_test[i][4] for i in range(len(w2_test))] \n",
        "\n",
        "# Remove english documents from train file to get remaining 99,700 abstracts for training\n",
        "w2_train = list (set(open(train_file, encoding=\"utf-8\").readlines()) - set (english_documents))[:99700]\n",
        "\n",
        "# Preprocessing train set\n",
        "nltk.download('stopwords')\n",
        "documents = [line.strip() for line in w2_train]\n",
        "sp = WhiteSpacePreprocessing(documents, stopwords_language='english')\n",
        "preprocessed_documents, unpreprocessed_corpus, vocab = sp.preprocess()"
      ]
    },
    {
      "cell_type": "markdown",
      "metadata": {
        "id": "n_oNJ4cRtLLN"
      },
      "source": [
        "### Training Models"
      ]
    },
    {
      "cell_type": "code",
      "execution_count": null,
      "metadata": {
        "id": "yB_0IrzCdZp4"
      },
      "outputs": [],
      "source": [
        "# Load multilingual embeddings from SBERT\n",
        "tp = TopicModelDataPreparation(\"sentence-transformers/paraphrase-multilingual-mpnet-base-v2\")\n",
        "\n",
        "# Fit to build training dataset\n",
        "training_dataset = tp.fit(text_for_contextual=unpreprocessed_corpus, text_for_bow=preprocessed_documents)"
      ]
    },
    {
      "cell_type": "code",
      "execution_count": null,
      "metadata": {
        "id": "PsvyFEtTwlM2"
      },
      "outputs": [],
      "source": [
        "# Train zeroshotTM with english abstracts with t = 25\n",
        "z_ctm_25 = ZeroShotTM(bow_size=len(tp.vocab), n_components = 25, contextual_size=768, num_epochs=100)\n",
        "z_ctm_25.fit(training_dataset, save_dir=\"./\") # run the model"
      ]
    },
    {
      "cell_type": "code",
      "execution_count": null,
      "metadata": {
        "id": "EkzX_ZAB2k03"
      },
      "outputs": [],
      "source": [
        "# Train zeroshotTM with english abstracts with t = 50\n",
        "z_ctm_50 = ZeroShotTM(bow_size=len(tp.vocab), n_components = 50,contextual_size=768, num_epochs=100)\n",
        "z_ctm_50.fit(training_dataset, save_dir=\"./\") # run the model"
      ]
    },
    {
      "cell_type": "markdown",
      "metadata": {
        "id": "ID4xeEywiyE1"
      },
      "source": [
        "### Predictions and Evaluation\n",
        "**Unseen Multilingual  Corpora Predictions**"
      ]
    },
    {
      "cell_type": "code",
      "execution_count": null,
      "metadata": {
        "colab": {
          "base_uri": "https://localhost:8080/"
        },
        "id": "fIia5yl2UXfU",
        "outputId": "f1ff5e3b-e519-4d37-da67-147a00af8f6b"
      },
      "outputs": [
        {
          "name": "stdout",
          "output_type": "stream",
          "text": [
            "  % Total    % Received % Xferd  Average Speed   Time    Time     Time  Current\n",
            "                                 Dload  Upload   Total   Spent    Left  Speed\n",
            "  0     0    0     0    0     0      0      0 --:--:-- --:--:-- --:--:--     0\n",
            "100  2214    0  2214    0     0   6750      0 --:--:-- --:--:-- --:--:--  6750\n"
          ]
        }
      ],
      "source": [
        ""
      ]
    },
    {
      "cell_type": "code",
      "execution_count": null,
      "metadata": {
        "colab": {
          "base_uri": "https://localhost:8080/"
        },
        "id": "qQZXUZxPPueQ",
        "outputId": "d17010a6-6ee0-42dd-bdc3-5a89411252f8"
      },
      "outputs": [
        {
          "name": "stderr",
          "output_type": "stream",
          "text": [
            "/usr/local/lib/python3.7/dist-packages/contextualized_topic_models/models/ctm.py:497: Warning: This is an experimental feature that we has not been fully tested. Refer to the following issue:https://github.com/MilaNLProc/contextualized-topic-models/issues/38\n",
            "  Warning)\n"
          ]
        }
      ],
      "source": [
        "# # Load model for 25 topics\n",
        "# z_ctm_25 = ZeroShotTM(bow_size=len(tp.vocab), n_components = 25, contextual_size = 768, num_epochs = 100)\n",
        "z_ctm_25.load(model_dir = \"/content/contextualized_topic_model_nc_25_tpm_0.0_tpv_0.96_hs_prodLDA_ac_(100, 100)_do_softplus_lr_0.2_mo_0.002_rp_0.99\", epoch = 99)"
      ]
    },
    {
      "cell_type": "code",
      "execution_count": null,
      "metadata": {
        "id": "8BCglRLVXvKa"
      },
      "outputs": [],
      "source": [
        "# # Load model for 50 topics\n",
        "# z_ctm_50 = ZeroShotTM(bow_size=len(tp.vocab), n_components = 25, contextual_size = 768, num_epochs = 100)\n",
        "# z_ctm_50.load(model_dir = \"/content/contextualized_topic_model_nc_50_tpm_0.0_tpv_0.98_hs_prodLDA_ac_(100, 100)_do_softplus_lr_0.2_mo_0.002_rp_0.99\", \n",
        "#                     epoch = 99)"
      ]
    },
    {
      "cell_type": "code",
      "execution_count": null,
      "metadata": {
        "id": "IcyhlPNu3CiQ"
      },
      "outputs": [],
      "source": [
        "# Convert test files into test datasets\n",
        "it_testset = tp.transform(italian_documents)\n",
        "fr_testset = tp.transform(french_documents)\n",
        "de_testset = tp.transform(german_documents)\n",
        "pt_testset = tp.transform(portugese_documents)\n",
        "en_testset = tp.transform(english_documents)"
      ]
    },
    {
      "cell_type": "code",
      "execution_count": null,
      "metadata": {
        "id": "gy-tDYkpcDcT"
      },
      "outputs": [],
      "source": [
        "### 25 TOPIC PREDICTIONS ### \n",
        "it_topics_predictions = z_ctm_25.get_thetas(it_testset, n_samples=100) # get all the topic predictions\n",
        "fr_topics_predictions = z_ctm_25.get_thetas(fr_testset, n_samples=100) # get all the topic predictions\n",
        "de_topics_predictions = z_ctm_25.get_thetas(de_testset, n_samples=100) # get all the topic predictions\n",
        "pt_topics_predictions = z_ctm_25.get_thetas(pt_testset, n_samples=100) # get all the topic predictions\n",
        "en_topics_predictions = z_ctm_25.get_thetas(en_testset, n_samples=100) # get all the topic predictions\n",
        "\n",
        "topics_25 = [it_topics_predictions, fr_topics_predictions, \n",
        "             pt_topics_predictions, de_topics_predictions,\n",
        "             en_topics_predictions]"
      ]
    },
    {
      "cell_type": "code",
      "execution_count": null,
      "metadata": {
        "id": "d5ZFFpd43v6b"
      },
      "outputs": [],
      "source": [
        "### 50 TOPIC PREDICTIONS ### \n",
        "it_topics_predictions = z_ctm_50.get_thetas(it_testset, n_samples=100) # get all the topic predictions\n",
        "fr_topics_predictions = z_ctm_50.get_thetas(fr_testset, n_samples=100) # get all the topic predictions\n",
        "de_topics_predictions = z_ctm_50.get_thetas(de_testset, n_samples=100) # get all the topic predictions\n",
        "pt_topics_predictions = z_ctm_50.get_thetas(pt_testset, n_samples=100) # get all the topic predictions\n",
        "en_topics_predictions = z_ctm_50.get_thetas(en_testset, n_samples=100) # get all the topic predictions\n",
        "\n",
        "topics_50 = [it_topics_predictions, fr_topics_predictions, \n",
        "             pt_topics_predictions, de_topics_predictions,\n",
        "             en_topics_predictions]"
      ]
    },
    {
      "cell_type": "markdown",
      "metadata": {
        "id": "1EyO4qpXm4Nj"
      },
      "source": [
        "**Quantitative Evaluation**"
      ]
    },
    {
      "cell_type": "code",
      "execution_count": null,
      "metadata": {
        "id": "PUHdC6ztmzr5"
      },
      "outputs": [],
      "source": [
        "# Import metrics\n",
        "from contextualized_topic_models.evaluation.measures import Matches, KLDivergence, CentroidDistance\n",
        "import warnings\n",
        "warnings.filterwarnings('ignore')"
      ]
    },
    {
      "cell_type": "markdown",
      "metadata": {
        "id": "rJvWmhANeWea"
      },
      "source": [
        "1. **Matches**\n",
        "\n",
        "> Matches is the % of times the predicted topic for the non-English test document is the same as for the respective test document in English. The higher the scores, the better."
      ]
    },
    {
      "cell_type": "code",
      "execution_count": null,
      "metadata": {
        "id": "aF2GPx1_5Mal"
      },
      "outputs": [],
      "source": [
        "# Matches for 25 topics\n",
        "en_it_matches = Matches(topics_25[4], topics_25[0])\n",
        "en_fr_matches = Matches(topics_25[4], topics_25[1])\n",
        "en_pt_matches = Matches(topics_25[4], topics_25[2])\n",
        "en_de_matches = Matches(topics_25[4], topics_25[3])\n",
        "\n",
        "matches_25 = [en_it_matches.score(), en_fr_matches.score(), \n",
        "           en_pt_matches.score(), en_de_matches.score()]\n",
        "matches_25"
      ]
    },
    {
      "cell_type": "code",
      "execution_count": null,
      "metadata": {
        "id": "WLw8Xkt5dElD"
      },
      "outputs": [],
      "source": [
        "# Matches for 50 topics\n",
        "en_it_matches = Matches(topics_50[4], topics_50[0])\n",
        "en_fr_matches = Matches(topics_50[4], topics_50[1])\n",
        "en_pt_matches = Matches(topics_50[4], topics_50[2])\n",
        "en_de_matches = Matches(topics_50[4], topics_50[3])\n",
        "\n",
        "matches_50 = [en_it_matches.score(), en_fr_matches.score(), \n",
        "           en_pt_matches.score(), en_de_matches.score()]"
      ]
    },
    {
      "cell_type": "markdown",
      "metadata": {
        "id": "PysLdKoyZ-fS"
      },
      "source": [
        "2. **Distributional Similarity**\n",
        "> Compute the KL divergence between the predicted topic distribution on the test document and the same test document in English. Lower scores are better, indicating that the distributions do not differ by much."
      ]
    },
    {
      "cell_type": "code",
      "execution_count": null,
      "metadata": {
        "id": "nc8TYrOCnUt6"
      },
      "outputs": [],
      "source": [
        "# KL Divergence for 25 topics\n",
        "en_it_kl = KLDivergence(topics_25[4], topics_25[0])\n",
        "en_fr_kl = KLDivergence(topics_25[4], topics_25[1])\n",
        "en_pt_kl = KLDivergence(topics_25[4], topics_25[2])\n",
        "en_de_kl = KLDivergence(topics_25[4], topics_25[3])\n",
        "\n",
        "kl_divergence_25 = [en_it_kl.score(), en_fr_kl.score(), \n",
        "           en_de_kl.score(), en_pt_kl.score()]\n",
        "           \n",
        "kl_divergence_25"
      ]
    },
    {
      "cell_type": "code",
      "execution_count": null,
      "metadata": {
        "id": "OztmlUHK5M8s"
      },
      "outputs": [],
      "source": [
        "# KL Divergence for 50 topics\n",
        "en_it_kl = KLDivergence(topics_50[4], topics_50[0])\n",
        "en_fr_kl = KLDivergence(topics_50[4], topics_50[1])\n",
        "en_pt_kl = KLDivergence(topics_50[4], topics_50[2])\n",
        "en_de_kl = KLDivergence(topics_50[4], topics_50[3])\n",
        "\n",
        "kl_divergence_50 = [en_it_kl.score(), en_fr_kl.score(), \n",
        "           en_de_kl.score(), en_pt_kl.score()]\n",
        "\n",
        "kl_divergence_50"
      ]
    },
    {
      "cell_type": "markdown",
      "metadata": {
        "id": "UzpXFJ0wZ5-2"
      },
      "source": [
        "3. **Centroid Embeddings**\n",
        "> To also account for similar but not exactly equal topic predictions, we compute the centroid embeddings of the 5 words describing the predicted topic for both English and non-English documents. Then we compute the cosine similarity between those two centroids (CD)."
      ]
    },
    {
      "cell_type": "code",
      "execution_count": null,
      "metadata": {
        "id": "AbXgKs-u5NyD"
      },
      "outputs": [],
      "source": [
        "from gensim.corpora.dictionary import Dictionary\n",
        "from gensim.models.coherencemodel import CoherenceModel\n",
        "from gensim.models import KeyedVectors\n",
        "import gensim.downloader as api\n",
        "from scipy.spatial.distance import cosine\n",
        "import abc\n",
        "\n",
        "class CD(CentroidDistance):\n",
        "    \"\"\"Override author's function to upgrade compatibility with Gensim 4.0.0.\n",
        "    See https://github.com/RaRe-Technologies/gensim/wiki/Migrating-from-Gensim-3.x-to-4.\"\"\"\n",
        "\n",
        "    def get_centroid(self, word_list):\n",
        "        vector_list = []\n",
        "        for word in word_list:\n",
        "            if word in self.wv:   # changed from self.wv.vocab to self.wv as in Gensim 4.0.0\n",
        "                vector_list.append(self.wv.get_vector(word))\n",
        "        vec = sum(vector_list)\n",
        "        return vec / np.linalg.norm(vec)"
      ]
    },
    {
      "cell_type": "code",
      "execution_count": null,
      "metadata": {
        "id": "CjnYIIng5MyA"
      },
      "outputs": [],
      "source": [
        "# Centroid Embeddings for 25 topics\n",
        "cd_25 = []\n",
        "\n",
        "for i in range(4):\n",
        "  topics_25 = topics_25[i]\n",
        "  cd = CD(doc_distribution_original_language = topics_25[4], \n",
        "          doc_distribution_unseen_language = topics_25, \n",
        "          topics = z_ctm_25.get_topic_lists(25),\n",
        "          topk = 5)\n",
        "  \n",
        "  cd_25.append(cd.score())\n",
        "\n",
        "cd_25"
      ]
    },
    {
      "cell_type": "code",
      "execution_count": null,
      "metadata": {
        "id": "WXRBx6VjW-5q"
      },
      "outputs": [],
      "source": [
        "# Centroid Embeddings for 50 topics\n",
        "cd_50 = []\n",
        "\n",
        "for i in range(4):\n",
        "  cd = CD(doc_distribution_original_language = topics_50[4], \n",
        "          doc_distribution_unseen_language = topics_50[i], \n",
        "          topics = z_ctm_50.get_topic_lists(25),\n",
        "          topk = 5)\n",
        "  \n",
        "  cd_50.append(cd.score())\n",
        "  cd = None\n",
        "\n",
        "cd_50"
      ]
    },
    {
      "cell_type": "code",
      "execution_count": null,
      "metadata": {
        "id": "obeCKsgJ9gf4"
      },
      "outputs": [],
      "source": [
        "metrics = {\"Mat25\": matches_25,\n",
        "           \"KL25\": kl_divergence_25, \n",
        "           \"CD25\": cd_25, \n",
        "           \"Mat50\": matches_50, \n",
        "           \"KL50\": kl_divergence_50,\n",
        "           \"CD50\": cd_50}\n",
        "with open(\"metrics.txt\", 'wb') as F:\n",
        "  pickle.dump(metrics, F)"
      ]
    }
  ],
  "metadata": {
    "colab": {
      "collapsed_sections": [],
      "machine_shape": "hm",
      "name": "ZeroshotTM For Same Script Languages",
      "provenance": [],
      "include_colab_link": true
    },
    "kernelspec": {
      "display_name": "Python 3",
      "name": "python3"
    },
    "language_info": {
      "name": "python"
    },
    "accelerator": "GPU",
    "widgets": {
      "application/vnd.jupyter.widget-state+json": {
        "41b445517a1448dcb395e786a317690a": {
          "model_module": "@jupyter-widgets/controls",
          "model_name": "HBoxModel",
          "model_module_version": "1.5.0",
          "state": {
            "_dom_classes": [],
            "_model_module": "@jupyter-widgets/controls",
            "_model_module_version": "1.5.0",
            "_model_name": "HBoxModel",
            "_view_count": null,
            "_view_module": "@jupyter-widgets/controls",
            "_view_module_version": "1.5.0",
            "_view_name": "HBoxView",
            "box_style": "",
            "children": [
              "IPY_MODEL_7d1a13e5e322492f81d2ad8663ad1ea3",
              "IPY_MODEL_bd6e53cff36c4aa48e7aae4c1ced05d1",
              "IPY_MODEL_5ad994fa70df4692a13f9ecb576e72a9"
            ],
            "layout": "IPY_MODEL_1006dcd9bcbd40dca24b0674f910404d"
          }
        },
        "7d1a13e5e322492f81d2ad8663ad1ea3": {
          "model_module": "@jupyter-widgets/controls",
          "model_name": "HTMLModel",
          "model_module_version": "1.5.0",
          "state": {
            "_dom_classes": [],
            "_model_module": "@jupyter-widgets/controls",
            "_model_module_version": "1.5.0",
            "_model_name": "HTMLModel",
            "_view_count": null,
            "_view_module": "@jupyter-widgets/controls",
            "_view_module_version": "1.5.0",
            "_view_name": "HTMLView",
            "description": "",
            "description_tooltip": null,
            "layout": "IPY_MODEL_4bf3b2adb02f4847a9012504a75ca517",
            "placeholder": "​",
            "style": "IPY_MODEL_4ca0466c9dc44decbe64c8957a247a2d",
            "value": "Downloading: 100%"
          }
        },
        "bd6e53cff36c4aa48e7aae4c1ced05d1": {
          "model_module": "@jupyter-widgets/controls",
          "model_name": "FloatProgressModel",
          "model_module_version": "1.5.0",
          "state": {
            "_dom_classes": [],
            "_model_module": "@jupyter-widgets/controls",
            "_model_module_version": "1.5.0",
            "_model_name": "FloatProgressModel",
            "_view_count": null,
            "_view_module": "@jupyter-widgets/controls",
            "_view_module_version": "1.5.0",
            "_view_name": "ProgressView",
            "bar_style": "success",
            "description": "",
            "description_tooltip": null,
            "layout": "IPY_MODEL_9add581baf4d46aebb0cc876c56e4011",
            "max": 345,
            "min": 0,
            "orientation": "horizontal",
            "style": "IPY_MODEL_80e7f6dc694146239b90dc97ec2e24de",
            "value": 345
          }
        },
        "5ad994fa70df4692a13f9ecb576e72a9": {
          "model_module": "@jupyter-widgets/controls",
          "model_name": "HTMLModel",
          "model_module_version": "1.5.0",
          "state": {
            "_dom_classes": [],
            "_model_module": "@jupyter-widgets/controls",
            "_model_module_version": "1.5.0",
            "_model_name": "HTMLModel",
            "_view_count": null,
            "_view_module": "@jupyter-widgets/controls",
            "_view_module_version": "1.5.0",
            "_view_name": "HTMLView",
            "description": "",
            "description_tooltip": null,
            "layout": "IPY_MODEL_8e356c89cd184af1a2b52d48c386b20b",
            "placeholder": "​",
            "style": "IPY_MODEL_5d7138aee04b4ade983529b959ffe5de",
            "value": " 345/345 [00:00&lt;00:00, 12.9kB/s]"
          }
        },
        "1006dcd9bcbd40dca24b0674f910404d": {
          "model_module": "@jupyter-widgets/base",
          "model_name": "LayoutModel",
          "model_module_version": "1.2.0",
          "state": {
            "_model_module": "@jupyter-widgets/base",
            "_model_module_version": "1.2.0",
            "_model_name": "LayoutModel",
            "_view_count": null,
            "_view_module": "@jupyter-widgets/base",
            "_view_module_version": "1.2.0",
            "_view_name": "LayoutView",
            "align_content": null,
            "align_items": null,
            "align_self": null,
            "border": null,
            "bottom": null,
            "display": null,
            "flex": null,
            "flex_flow": null,
            "grid_area": null,
            "grid_auto_columns": null,
            "grid_auto_flow": null,
            "grid_auto_rows": null,
            "grid_column": null,
            "grid_gap": null,
            "grid_row": null,
            "grid_template_areas": null,
            "grid_template_columns": null,
            "grid_template_rows": null,
            "height": null,
            "justify_content": null,
            "justify_items": null,
            "left": null,
            "margin": null,
            "max_height": null,
            "max_width": null,
            "min_height": null,
            "min_width": null,
            "object_fit": null,
            "object_position": null,
            "order": null,
            "overflow": null,
            "overflow_x": null,
            "overflow_y": null,
            "padding": null,
            "right": null,
            "top": null,
            "visibility": null,
            "width": null
          }
        },
        "4bf3b2adb02f4847a9012504a75ca517": {
          "model_module": "@jupyter-widgets/base",
          "model_name": "LayoutModel",
          "model_module_version": "1.2.0",
          "state": {
            "_model_module": "@jupyter-widgets/base",
            "_model_module_version": "1.2.0",
            "_model_name": "LayoutModel",
            "_view_count": null,
            "_view_module": "@jupyter-widgets/base",
            "_view_module_version": "1.2.0",
            "_view_name": "LayoutView",
            "align_content": null,
            "align_items": null,
            "align_self": null,
            "border": null,
            "bottom": null,
            "display": null,
            "flex": null,
            "flex_flow": null,
            "grid_area": null,
            "grid_auto_columns": null,
            "grid_auto_flow": null,
            "grid_auto_rows": null,
            "grid_column": null,
            "grid_gap": null,
            "grid_row": null,
            "grid_template_areas": null,
            "grid_template_columns": null,
            "grid_template_rows": null,
            "height": null,
            "justify_content": null,
            "justify_items": null,
            "left": null,
            "margin": null,
            "max_height": null,
            "max_width": null,
            "min_height": null,
            "min_width": null,
            "object_fit": null,
            "object_position": null,
            "order": null,
            "overflow": null,
            "overflow_x": null,
            "overflow_y": null,
            "padding": null,
            "right": null,
            "top": null,
            "visibility": null,
            "width": null
          }
        },
        "4ca0466c9dc44decbe64c8957a247a2d": {
          "model_module": "@jupyter-widgets/controls",
          "model_name": "DescriptionStyleModel",
          "model_module_version": "1.5.0",
          "state": {
            "_model_module": "@jupyter-widgets/controls",
            "_model_module_version": "1.5.0",
            "_model_name": "DescriptionStyleModel",
            "_view_count": null,
            "_view_module": "@jupyter-widgets/base",
            "_view_module_version": "1.2.0",
            "_view_name": "StyleView",
            "description_width": ""
          }
        },
        "9add581baf4d46aebb0cc876c56e4011": {
          "model_module": "@jupyter-widgets/base",
          "model_name": "LayoutModel",
          "model_module_version": "1.2.0",
          "state": {
            "_model_module": "@jupyter-widgets/base",
            "_model_module_version": "1.2.0",
            "_model_name": "LayoutModel",
            "_view_count": null,
            "_view_module": "@jupyter-widgets/base",
            "_view_module_version": "1.2.0",
            "_view_name": "LayoutView",
            "align_content": null,
            "align_items": null,
            "align_self": null,
            "border": null,
            "bottom": null,
            "display": null,
            "flex": null,
            "flex_flow": null,
            "grid_area": null,
            "grid_auto_columns": null,
            "grid_auto_flow": null,
            "grid_auto_rows": null,
            "grid_column": null,
            "grid_gap": null,
            "grid_row": null,
            "grid_template_areas": null,
            "grid_template_columns": null,
            "grid_template_rows": null,
            "height": null,
            "justify_content": null,
            "justify_items": null,
            "left": null,
            "margin": null,
            "max_height": null,
            "max_width": null,
            "min_height": null,
            "min_width": null,
            "object_fit": null,
            "object_position": null,
            "order": null,
            "overflow": null,
            "overflow_x": null,
            "overflow_y": null,
            "padding": null,
            "right": null,
            "top": null,
            "visibility": null,
            "width": null
          }
        },
        "80e7f6dc694146239b90dc97ec2e24de": {
          "model_module": "@jupyter-widgets/controls",
          "model_name": "ProgressStyleModel",
          "model_module_version": "1.5.0",
          "state": {
            "_model_module": "@jupyter-widgets/controls",
            "_model_module_version": "1.5.0",
            "_model_name": "ProgressStyleModel",
            "_view_count": null,
            "_view_module": "@jupyter-widgets/base",
            "_view_module_version": "1.2.0",
            "_view_name": "StyleView",
            "bar_color": null,
            "description_width": ""
          }
        },
        "8e356c89cd184af1a2b52d48c386b20b": {
          "model_module": "@jupyter-widgets/base",
          "model_name": "LayoutModel",
          "model_module_version": "1.2.0",
          "state": {
            "_model_module": "@jupyter-widgets/base",
            "_model_module_version": "1.2.0",
            "_model_name": "LayoutModel",
            "_view_count": null,
            "_view_module": "@jupyter-widgets/base",
            "_view_module_version": "1.2.0",
            "_view_name": "LayoutView",
            "align_content": null,
            "align_items": null,
            "align_self": null,
            "border": null,
            "bottom": null,
            "display": null,
            "flex": null,
            "flex_flow": null,
            "grid_area": null,
            "grid_auto_columns": null,
            "grid_auto_flow": null,
            "grid_auto_rows": null,
            "grid_column": null,
            "grid_gap": null,
            "grid_row": null,
            "grid_template_areas": null,
            "grid_template_columns": null,
            "grid_template_rows": null,
            "height": null,
            "justify_content": null,
            "justify_items": null,
            "left": null,
            "margin": null,
            "max_height": null,
            "max_width": null,
            "min_height": null,
            "min_width": null,
            "object_fit": null,
            "object_position": null,
            "order": null,
            "overflow": null,
            "overflow_x": null,
            "overflow_y": null,
            "padding": null,
            "right": null,
            "top": null,
            "visibility": null,
            "width": null
          }
        },
        "5d7138aee04b4ade983529b959ffe5de": {
          "model_module": "@jupyter-widgets/controls",
          "model_name": "DescriptionStyleModel",
          "model_module_version": "1.5.0",
          "state": {
            "_model_module": "@jupyter-widgets/controls",
            "_model_module_version": "1.5.0",
            "_model_name": "DescriptionStyleModel",
            "_view_count": null,
            "_view_module": "@jupyter-widgets/base",
            "_view_module_version": "1.2.0",
            "_view_name": "StyleView",
            "description_width": ""
          }
        },
        "b657e44ab5954df0a5ddd5f7c042ec3a": {
          "model_module": "@jupyter-widgets/controls",
          "model_name": "HBoxModel",
          "model_module_version": "1.5.0",
          "state": {
            "_dom_classes": [],
            "_model_module": "@jupyter-widgets/controls",
            "_model_module_version": "1.5.0",
            "_model_name": "HBoxModel",
            "_view_count": null,
            "_view_module": "@jupyter-widgets/controls",
            "_view_module_version": "1.5.0",
            "_view_name": "HBoxView",
            "box_style": "",
            "children": [
              "IPY_MODEL_e3c8dbecc21e458db59ca4c4977cf524",
              "IPY_MODEL_e0d152079c954f888cebf29d1da7a272",
              "IPY_MODEL_a368c50fbf0742309e4eec707cb9ecb3"
            ],
            "layout": "IPY_MODEL_2733613a6ab54443ae9c2e43e72315ec"
          }
        },
        "e3c8dbecc21e458db59ca4c4977cf524": {
          "model_module": "@jupyter-widgets/controls",
          "model_name": "HTMLModel",
          "model_module_version": "1.5.0",
          "state": {
            "_dom_classes": [],
            "_model_module": "@jupyter-widgets/controls",
            "_model_module_version": "1.5.0",
            "_model_name": "HTMLModel",
            "_view_count": null,
            "_view_module": "@jupyter-widgets/controls",
            "_view_module_version": "1.5.0",
            "_view_name": "HTMLView",
            "description": "",
            "description_tooltip": null,
            "layout": "IPY_MODEL_d3f9b553df0542f1b305cac5e1cbe387",
            "placeholder": "​",
            "style": "IPY_MODEL_18668e7ead8d457ba53eae58938b5c96",
            "value": "Downloading: 100%"
          }
        },
        "e0d152079c954f888cebf29d1da7a272": {
          "model_module": "@jupyter-widgets/controls",
          "model_name": "FloatProgressModel",
          "model_module_version": "1.5.0",
          "state": {
            "_dom_classes": [],
            "_model_module": "@jupyter-widgets/controls",
            "_model_module_version": "1.5.0",
            "_model_name": "FloatProgressModel",
            "_view_count": null,
            "_view_module": "@jupyter-widgets/controls",
            "_view_module_version": "1.5.0",
            "_view_name": "ProgressView",
            "bar_style": "success",
            "description": "",
            "description_tooltip": null,
            "layout": "IPY_MODEL_d42ac8bc3e5143e9b734f11e0227b3dd",
            "max": 4771,
            "min": 0,
            "orientation": "horizontal",
            "style": "IPY_MODEL_16fc0eede7774b1e874bf1f916e7918b",
            "value": 4771
          }
        },
        "a368c50fbf0742309e4eec707cb9ecb3": {
          "model_module": "@jupyter-widgets/controls",
          "model_name": "HTMLModel",
          "model_module_version": "1.5.0",
          "state": {
            "_dom_classes": [],
            "_model_module": "@jupyter-widgets/controls",
            "_model_module_version": "1.5.0",
            "_model_name": "HTMLModel",
            "_view_count": null,
            "_view_module": "@jupyter-widgets/controls",
            "_view_module_version": "1.5.0",
            "_view_name": "HTMLView",
            "description": "",
            "description_tooltip": null,
            "layout": "IPY_MODEL_f3cfa17c174942a4a1188af94b9dca33",
            "placeholder": "​",
            "style": "IPY_MODEL_caae932ae4f04315b57a78194193385c",
            "value": " 4.77k/4.77k [00:00&lt;00:00, 172kB/s]"
          }
        },
        "2733613a6ab54443ae9c2e43e72315ec": {
          "model_module": "@jupyter-widgets/base",
          "model_name": "LayoutModel",
          "model_module_version": "1.2.0",
          "state": {
            "_model_module": "@jupyter-widgets/base",
            "_model_module_version": "1.2.0",
            "_model_name": "LayoutModel",
            "_view_count": null,
            "_view_module": "@jupyter-widgets/base",
            "_view_module_version": "1.2.0",
            "_view_name": "LayoutView",
            "align_content": null,
            "align_items": null,
            "align_self": null,
            "border": null,
            "bottom": null,
            "display": null,
            "flex": null,
            "flex_flow": null,
            "grid_area": null,
            "grid_auto_columns": null,
            "grid_auto_flow": null,
            "grid_auto_rows": null,
            "grid_column": null,
            "grid_gap": null,
            "grid_row": null,
            "grid_template_areas": null,
            "grid_template_columns": null,
            "grid_template_rows": null,
            "height": null,
            "justify_content": null,
            "justify_items": null,
            "left": null,
            "margin": null,
            "max_height": null,
            "max_width": null,
            "min_height": null,
            "min_width": null,
            "object_fit": null,
            "object_position": null,
            "order": null,
            "overflow": null,
            "overflow_x": null,
            "overflow_y": null,
            "padding": null,
            "right": null,
            "top": null,
            "visibility": null,
            "width": null
          }
        },
        "d3f9b553df0542f1b305cac5e1cbe387": {
          "model_module": "@jupyter-widgets/base",
          "model_name": "LayoutModel",
          "model_module_version": "1.2.0",
          "state": {
            "_model_module": "@jupyter-widgets/base",
            "_model_module_version": "1.2.0",
            "_model_name": "LayoutModel",
            "_view_count": null,
            "_view_module": "@jupyter-widgets/base",
            "_view_module_version": "1.2.0",
            "_view_name": "LayoutView",
            "align_content": null,
            "align_items": null,
            "align_self": null,
            "border": null,
            "bottom": null,
            "display": null,
            "flex": null,
            "flex_flow": null,
            "grid_area": null,
            "grid_auto_columns": null,
            "grid_auto_flow": null,
            "grid_auto_rows": null,
            "grid_column": null,
            "grid_gap": null,
            "grid_row": null,
            "grid_template_areas": null,
            "grid_template_columns": null,
            "grid_template_rows": null,
            "height": null,
            "justify_content": null,
            "justify_items": null,
            "left": null,
            "margin": null,
            "max_height": null,
            "max_width": null,
            "min_height": null,
            "min_width": null,
            "object_fit": null,
            "object_position": null,
            "order": null,
            "overflow": null,
            "overflow_x": null,
            "overflow_y": null,
            "padding": null,
            "right": null,
            "top": null,
            "visibility": null,
            "width": null
          }
        },
        "18668e7ead8d457ba53eae58938b5c96": {
          "model_module": "@jupyter-widgets/controls",
          "model_name": "DescriptionStyleModel",
          "model_module_version": "1.5.0",
          "state": {
            "_model_module": "@jupyter-widgets/controls",
            "_model_module_version": "1.5.0",
            "_model_name": "DescriptionStyleModel",
            "_view_count": null,
            "_view_module": "@jupyter-widgets/base",
            "_view_module_version": "1.2.0",
            "_view_name": "StyleView",
            "description_width": ""
          }
        },
        "d42ac8bc3e5143e9b734f11e0227b3dd": {
          "model_module": "@jupyter-widgets/base",
          "model_name": "LayoutModel",
          "model_module_version": "1.2.0",
          "state": {
            "_model_module": "@jupyter-widgets/base",
            "_model_module_version": "1.2.0",
            "_model_name": "LayoutModel",
            "_view_count": null,
            "_view_module": "@jupyter-widgets/base",
            "_view_module_version": "1.2.0",
            "_view_name": "LayoutView",
            "align_content": null,
            "align_items": null,
            "align_self": null,
            "border": null,
            "bottom": null,
            "display": null,
            "flex": null,
            "flex_flow": null,
            "grid_area": null,
            "grid_auto_columns": null,
            "grid_auto_flow": null,
            "grid_auto_rows": null,
            "grid_column": null,
            "grid_gap": null,
            "grid_row": null,
            "grid_template_areas": null,
            "grid_template_columns": null,
            "grid_template_rows": null,
            "height": null,
            "justify_content": null,
            "justify_items": null,
            "left": null,
            "margin": null,
            "max_height": null,
            "max_width": null,
            "min_height": null,
            "min_width": null,
            "object_fit": null,
            "object_position": null,
            "order": null,
            "overflow": null,
            "overflow_x": null,
            "overflow_y": null,
            "padding": null,
            "right": null,
            "top": null,
            "visibility": null,
            "width": null
          }
        },
        "16fc0eede7774b1e874bf1f916e7918b": {
          "model_module": "@jupyter-widgets/controls",
          "model_name": "ProgressStyleModel",
          "model_module_version": "1.5.0",
          "state": {
            "_model_module": "@jupyter-widgets/controls",
            "_model_module_version": "1.5.0",
            "_model_name": "ProgressStyleModel",
            "_view_count": null,
            "_view_module": "@jupyter-widgets/base",
            "_view_module_version": "1.2.0",
            "_view_name": "StyleView",
            "bar_color": null,
            "description_width": ""
          }
        },
        "f3cfa17c174942a4a1188af94b9dca33": {
          "model_module": "@jupyter-widgets/base",
          "model_name": "LayoutModel",
          "model_module_version": "1.2.0",
          "state": {
            "_model_module": "@jupyter-widgets/base",
            "_model_module_version": "1.2.0",
            "_model_name": "LayoutModel",
            "_view_count": null,
            "_view_module": "@jupyter-widgets/base",
            "_view_module_version": "1.2.0",
            "_view_name": "LayoutView",
            "align_content": null,
            "align_items": null,
            "align_self": null,
            "border": null,
            "bottom": null,
            "display": null,
            "flex": null,
            "flex_flow": null,
            "grid_area": null,
            "grid_auto_columns": null,
            "grid_auto_flow": null,
            "grid_auto_rows": null,
            "grid_column": null,
            "grid_gap": null,
            "grid_row": null,
            "grid_template_areas": null,
            "grid_template_columns": null,
            "grid_template_rows": null,
            "height": null,
            "justify_content": null,
            "justify_items": null,
            "left": null,
            "margin": null,
            "max_height": null,
            "max_width": null,
            "min_height": null,
            "min_width": null,
            "object_fit": null,
            "object_position": null,
            "order": null,
            "overflow": null,
            "overflow_x": null,
            "overflow_y": null,
            "padding": null,
            "right": null,
            "top": null,
            "visibility": null,
            "width": null
          }
        },
        "caae932ae4f04315b57a78194193385c": {
          "model_module": "@jupyter-widgets/controls",
          "model_name": "DescriptionStyleModel",
          "model_module_version": "1.5.0",
          "state": {
            "_model_module": "@jupyter-widgets/controls",
            "_model_module_version": "1.5.0",
            "_model_name": "DescriptionStyleModel",
            "_view_count": null,
            "_view_module": "@jupyter-widgets/base",
            "_view_module_version": "1.2.0",
            "_view_name": "StyleView",
            "description_width": ""
          }
        },
        "aabf3dee9d19483cb4439cc0b90bccfa": {
          "model_module": "@jupyter-widgets/controls",
          "model_name": "HBoxModel",
          "model_module_version": "1.5.0",
          "state": {
            "_dom_classes": [],
            "_model_module": "@jupyter-widgets/controls",
            "_model_module_version": "1.5.0",
            "_model_name": "HBoxModel",
            "_view_count": null,
            "_view_module": "@jupyter-widgets/controls",
            "_view_module_version": "1.5.0",
            "_view_name": "HBoxView",
            "box_style": "",
            "children": [
              "IPY_MODEL_c3efb51d3f654ffd873c14ffc1f4a3de",
              "IPY_MODEL_b7ad8d2c919348c39a46afa716515d5c",
              "IPY_MODEL_57f35f48e5c641be91e3dc5848a85e26"
            ],
            "layout": "IPY_MODEL_6e946938d28d4066a1076883135dc7bf"
          }
        },
        "c3efb51d3f654ffd873c14ffc1f4a3de": {
          "model_module": "@jupyter-widgets/controls",
          "model_name": "HTMLModel",
          "model_module_version": "1.5.0",
          "state": {
            "_dom_classes": [],
            "_model_module": "@jupyter-widgets/controls",
            "_model_module_version": "1.5.0",
            "_model_name": "HTMLModel",
            "_view_count": null,
            "_view_module": "@jupyter-widgets/controls",
            "_view_module_version": "1.5.0",
            "_view_name": "HTMLView",
            "description": "",
            "description_tooltip": null,
            "layout": "IPY_MODEL_a5ccda88b3064a79b7adb2882f9777d2",
            "placeholder": "​",
            "style": "IPY_MODEL_79ffbcc7aa304047be5a66c2fca8e2ae",
            "value": "Downloading: 100%"
          }
        },
        "b7ad8d2c919348c39a46afa716515d5c": {
          "model_module": "@jupyter-widgets/controls",
          "model_name": "FloatProgressModel",
          "model_module_version": "1.5.0",
          "state": {
            "_dom_classes": [],
            "_model_module": "@jupyter-widgets/controls",
            "_model_module_version": "1.5.0",
            "_model_name": "FloatProgressModel",
            "_view_count": null,
            "_view_module": "@jupyter-widgets/controls",
            "_view_module_version": "1.5.0",
            "_view_name": "ProgressView",
            "bar_style": "success",
            "description": "",
            "description_tooltip": null,
            "layout": "IPY_MODEL_c2fccfe0d42a4d1d90da63755a30a642",
            "max": 507,
            "min": 0,
            "orientation": "horizontal",
            "style": "IPY_MODEL_7a6e21ec466e42e9b9f9da1d117205ac",
            "value": 507
          }
        },
        "57f35f48e5c641be91e3dc5848a85e26": {
          "model_module": "@jupyter-widgets/controls",
          "model_name": "HTMLModel",
          "model_module_version": "1.5.0",
          "state": {
            "_dom_classes": [],
            "_model_module": "@jupyter-widgets/controls",
            "_model_module_version": "1.5.0",
            "_model_name": "HTMLModel",
            "_view_count": null,
            "_view_module": "@jupyter-widgets/controls",
            "_view_module_version": "1.5.0",
            "_view_name": "HTMLView",
            "description": "",
            "description_tooltip": null,
            "layout": "IPY_MODEL_8bc209563fb74181aae0b03e2b66968d",
            "placeholder": "​",
            "style": "IPY_MODEL_1babc1ff27f1416783c4661e5f82e291",
            "value": " 507/507 [00:00&lt;00:00, 14.1kB/s]"
          }
        },
        "6e946938d28d4066a1076883135dc7bf": {
          "model_module": "@jupyter-widgets/base",
          "model_name": "LayoutModel",
          "model_module_version": "1.2.0",
          "state": {
            "_model_module": "@jupyter-widgets/base",
            "_model_module_version": "1.2.0",
            "_model_name": "LayoutModel",
            "_view_count": null,
            "_view_module": "@jupyter-widgets/base",
            "_view_module_version": "1.2.0",
            "_view_name": "LayoutView",
            "align_content": null,
            "align_items": null,
            "align_self": null,
            "border": null,
            "bottom": null,
            "display": null,
            "flex": null,
            "flex_flow": null,
            "grid_area": null,
            "grid_auto_columns": null,
            "grid_auto_flow": null,
            "grid_auto_rows": null,
            "grid_column": null,
            "grid_gap": null,
            "grid_row": null,
            "grid_template_areas": null,
            "grid_template_columns": null,
            "grid_template_rows": null,
            "height": null,
            "justify_content": null,
            "justify_items": null,
            "left": null,
            "margin": null,
            "max_height": null,
            "max_width": null,
            "min_height": null,
            "min_width": null,
            "object_fit": null,
            "object_position": null,
            "order": null,
            "overflow": null,
            "overflow_x": null,
            "overflow_y": null,
            "padding": null,
            "right": null,
            "top": null,
            "visibility": null,
            "width": null
          }
        },
        "a5ccda88b3064a79b7adb2882f9777d2": {
          "model_module": "@jupyter-widgets/base",
          "model_name": "LayoutModel",
          "model_module_version": "1.2.0",
          "state": {
            "_model_module": "@jupyter-widgets/base",
            "_model_module_version": "1.2.0",
            "_model_name": "LayoutModel",
            "_view_count": null,
            "_view_module": "@jupyter-widgets/base",
            "_view_module_version": "1.2.0",
            "_view_name": "LayoutView",
            "align_content": null,
            "align_items": null,
            "align_self": null,
            "border": null,
            "bottom": null,
            "display": null,
            "flex": null,
            "flex_flow": null,
            "grid_area": null,
            "grid_auto_columns": null,
            "grid_auto_flow": null,
            "grid_auto_rows": null,
            "grid_column": null,
            "grid_gap": null,
            "grid_row": null,
            "grid_template_areas": null,
            "grid_template_columns": null,
            "grid_template_rows": null,
            "height": null,
            "justify_content": null,
            "justify_items": null,
            "left": null,
            "margin": null,
            "max_height": null,
            "max_width": null,
            "min_height": null,
            "min_width": null,
            "object_fit": null,
            "object_position": null,
            "order": null,
            "overflow": null,
            "overflow_x": null,
            "overflow_y": null,
            "padding": null,
            "right": null,
            "top": null,
            "visibility": null,
            "width": null
          }
        },
        "79ffbcc7aa304047be5a66c2fca8e2ae": {
          "model_module": "@jupyter-widgets/controls",
          "model_name": "DescriptionStyleModel",
          "model_module_version": "1.5.0",
          "state": {
            "_model_module": "@jupyter-widgets/controls",
            "_model_module_version": "1.5.0",
            "_model_name": "DescriptionStyleModel",
            "_view_count": null,
            "_view_module": "@jupyter-widgets/base",
            "_view_module_version": "1.2.0",
            "_view_name": "StyleView",
            "description_width": ""
          }
        },
        "c2fccfe0d42a4d1d90da63755a30a642": {
          "model_module": "@jupyter-widgets/base",
          "model_name": "LayoutModel",
          "model_module_version": "1.2.0",
          "state": {
            "_model_module": "@jupyter-widgets/base",
            "_model_module_version": "1.2.0",
            "_model_name": "LayoutModel",
            "_view_count": null,
            "_view_module": "@jupyter-widgets/base",
            "_view_module_version": "1.2.0",
            "_view_name": "LayoutView",
            "align_content": null,
            "align_items": null,
            "align_self": null,
            "border": null,
            "bottom": null,
            "display": null,
            "flex": null,
            "flex_flow": null,
            "grid_area": null,
            "grid_auto_columns": null,
            "grid_auto_flow": null,
            "grid_auto_rows": null,
            "grid_column": null,
            "grid_gap": null,
            "grid_row": null,
            "grid_template_areas": null,
            "grid_template_columns": null,
            "grid_template_rows": null,
            "height": null,
            "justify_content": null,
            "justify_items": null,
            "left": null,
            "margin": null,
            "max_height": null,
            "max_width": null,
            "min_height": null,
            "min_width": null,
            "object_fit": null,
            "object_position": null,
            "order": null,
            "overflow": null,
            "overflow_x": null,
            "overflow_y": null,
            "padding": null,
            "right": null,
            "top": null,
            "visibility": null,
            "width": null
          }
        },
        "7a6e21ec466e42e9b9f9da1d117205ac": {
          "model_module": "@jupyter-widgets/controls",
          "model_name": "ProgressStyleModel",
          "model_module_version": "1.5.0",
          "state": {
            "_model_module": "@jupyter-widgets/controls",
            "_model_module_version": "1.5.0",
            "_model_name": "ProgressStyleModel",
            "_view_count": null,
            "_view_module": "@jupyter-widgets/base",
            "_view_module_version": "1.2.0",
            "_view_name": "StyleView",
            "bar_color": null,
            "description_width": ""
          }
        },
        "8bc209563fb74181aae0b03e2b66968d": {
          "model_module": "@jupyter-widgets/base",
          "model_name": "LayoutModel",
          "model_module_version": "1.2.0",
          "state": {
            "_model_module": "@jupyter-widgets/base",
            "_model_module_version": "1.2.0",
            "_model_name": "LayoutModel",
            "_view_count": null,
            "_view_module": "@jupyter-widgets/base",
            "_view_module_version": "1.2.0",
            "_view_name": "LayoutView",
            "align_content": null,
            "align_items": null,
            "align_self": null,
            "border": null,
            "bottom": null,
            "display": null,
            "flex": null,
            "flex_flow": null,
            "grid_area": null,
            "grid_auto_columns": null,
            "grid_auto_flow": null,
            "grid_auto_rows": null,
            "grid_column": null,
            "grid_gap": null,
            "grid_row": null,
            "grid_template_areas": null,
            "grid_template_columns": null,
            "grid_template_rows": null,
            "height": null,
            "justify_content": null,
            "justify_items": null,
            "left": null,
            "margin": null,
            "max_height": null,
            "max_width": null,
            "min_height": null,
            "min_width": null,
            "object_fit": null,
            "object_position": null,
            "order": null,
            "overflow": null,
            "overflow_x": null,
            "overflow_y": null,
            "padding": null,
            "right": null,
            "top": null,
            "visibility": null,
            "width": null
          }
        },
        "1babc1ff27f1416783c4661e5f82e291": {
          "model_module": "@jupyter-widgets/controls",
          "model_name": "DescriptionStyleModel",
          "model_module_version": "1.5.0",
          "state": {
            "_model_module": "@jupyter-widgets/controls",
            "_model_module_version": "1.5.0",
            "_model_name": "DescriptionStyleModel",
            "_view_count": null,
            "_view_module": "@jupyter-widgets/base",
            "_view_module_version": "1.2.0",
            "_view_name": "StyleView",
            "description_width": ""
          }
        },
        "9cc2891d41754d2ea3b9eae635c6dda8": {
          "model_module": "@jupyter-widgets/controls",
          "model_name": "HBoxModel",
          "model_module_version": "1.5.0",
          "state": {
            "_dom_classes": [],
            "_model_module": "@jupyter-widgets/controls",
            "_model_module_version": "1.5.0",
            "_model_name": "HBoxModel",
            "_view_count": null,
            "_view_module": "@jupyter-widgets/controls",
            "_view_module_version": "1.5.0",
            "_view_name": "HBoxView",
            "box_style": "",
            "children": [
              "IPY_MODEL_5aeec79a5df9471bb13bba848293dbf6",
              "IPY_MODEL_4eff0c42c9a44d898cee9ec4c6f6e77c",
              "IPY_MODEL_182861091bb643048b6af3ecde45ca3d"
            ],
            "layout": "IPY_MODEL_fac7ec095c96481f89d4222c7e8daa23"
          }
        },
        "5aeec79a5df9471bb13bba848293dbf6": {
          "model_module": "@jupyter-widgets/controls",
          "model_name": "HTMLModel",
          "model_module_version": "1.5.0",
          "state": {
            "_dom_classes": [],
            "_model_module": "@jupyter-widgets/controls",
            "_model_module_version": "1.5.0",
            "_model_name": "HTMLModel",
            "_view_count": null,
            "_view_module": "@jupyter-widgets/controls",
            "_view_module_version": "1.5.0",
            "_view_name": "HTMLView",
            "description": "",
            "description_tooltip": null,
            "layout": "IPY_MODEL_de73ddf79a4147c1abc1f7170394c346",
            "placeholder": "​",
            "style": "IPY_MODEL_be23b26c9eeb454db738ca55ea4aca84",
            "value": "Downloading: 100%"
          }
        },
        "4eff0c42c9a44d898cee9ec4c6f6e77c": {
          "model_module": "@jupyter-widgets/controls",
          "model_name": "FloatProgressModel",
          "model_module_version": "1.5.0",
          "state": {
            "_dom_classes": [],
            "_model_module": "@jupyter-widgets/controls",
            "_model_module_version": "1.5.0",
            "_model_name": "FloatProgressModel",
            "_view_count": null,
            "_view_module": "@jupyter-widgets/controls",
            "_view_module_version": "1.5.0",
            "_view_name": "ProgressView",
            "bar_style": "success",
            "description": "",
            "description_tooltip": null,
            "layout": "IPY_MODEL_9c7e3e877a614d78b7224511fb00c52a",
            "max": 134982446,
            "min": 0,
            "orientation": "horizontal",
            "style": "IPY_MODEL_0f9e9ee4c3a44714bdb7aea68f7293f8",
            "value": 134982446
          }
        },
        "182861091bb643048b6af3ecde45ca3d": {
          "model_module": "@jupyter-widgets/controls",
          "model_name": "HTMLModel",
          "model_module_version": "1.5.0",
          "state": {
            "_dom_classes": [],
            "_model_module": "@jupyter-widgets/controls",
            "_model_module_version": "1.5.0",
            "_model_name": "HTMLModel",
            "_view_count": null,
            "_view_module": "@jupyter-widgets/controls",
            "_view_module_version": "1.5.0",
            "_view_name": "HTMLView",
            "description": "",
            "description_tooltip": null,
            "layout": "IPY_MODEL_40b620afba544792b7d640f90378a8e9",
            "placeholder": "​",
            "style": "IPY_MODEL_863984aa987a43ba9fb247859b295a75",
            "value": " 135M/135M [00:09&lt;00:00, 19.6MB/s]"
          }
        },
        "fac7ec095c96481f89d4222c7e8daa23": {
          "model_module": "@jupyter-widgets/base",
          "model_name": "LayoutModel",
          "model_module_version": "1.2.0",
          "state": {
            "_model_module": "@jupyter-widgets/base",
            "_model_module_version": "1.2.0",
            "_model_name": "LayoutModel",
            "_view_count": null,
            "_view_module": "@jupyter-widgets/base",
            "_view_module_version": "1.2.0",
            "_view_name": "LayoutView",
            "align_content": null,
            "align_items": null,
            "align_self": null,
            "border": null,
            "bottom": null,
            "display": null,
            "flex": null,
            "flex_flow": null,
            "grid_area": null,
            "grid_auto_columns": null,
            "grid_auto_flow": null,
            "grid_auto_rows": null,
            "grid_column": null,
            "grid_gap": null,
            "grid_row": null,
            "grid_template_areas": null,
            "grid_template_columns": null,
            "grid_template_rows": null,
            "height": null,
            "justify_content": null,
            "justify_items": null,
            "left": null,
            "margin": null,
            "max_height": null,
            "max_width": null,
            "min_height": null,
            "min_width": null,
            "object_fit": null,
            "object_position": null,
            "order": null,
            "overflow": null,
            "overflow_x": null,
            "overflow_y": null,
            "padding": null,
            "right": null,
            "top": null,
            "visibility": null,
            "width": null
          }
        },
        "de73ddf79a4147c1abc1f7170394c346": {
          "model_module": "@jupyter-widgets/base",
          "model_name": "LayoutModel",
          "model_module_version": "1.2.0",
          "state": {
            "_model_module": "@jupyter-widgets/base",
            "_model_module_version": "1.2.0",
            "_model_name": "LayoutModel",
            "_view_count": null,
            "_view_module": "@jupyter-widgets/base",
            "_view_module_version": "1.2.0",
            "_view_name": "LayoutView",
            "align_content": null,
            "align_items": null,
            "align_self": null,
            "border": null,
            "bottom": null,
            "display": null,
            "flex": null,
            "flex_flow": null,
            "grid_area": null,
            "grid_auto_columns": null,
            "grid_auto_flow": null,
            "grid_auto_rows": null,
            "grid_column": null,
            "grid_gap": null,
            "grid_row": null,
            "grid_template_areas": null,
            "grid_template_columns": null,
            "grid_template_rows": null,
            "height": null,
            "justify_content": null,
            "justify_items": null,
            "left": null,
            "margin": null,
            "max_height": null,
            "max_width": null,
            "min_height": null,
            "min_width": null,
            "object_fit": null,
            "object_position": null,
            "order": null,
            "overflow": null,
            "overflow_x": null,
            "overflow_y": null,
            "padding": null,
            "right": null,
            "top": null,
            "visibility": null,
            "width": null
          }
        },
        "be23b26c9eeb454db738ca55ea4aca84": {
          "model_module": "@jupyter-widgets/controls",
          "model_name": "DescriptionStyleModel",
          "model_module_version": "1.5.0",
          "state": {
            "_model_module": "@jupyter-widgets/controls",
            "_model_module_version": "1.5.0",
            "_model_name": "DescriptionStyleModel",
            "_view_count": null,
            "_view_module": "@jupyter-widgets/base",
            "_view_module_version": "1.2.0",
            "_view_name": "StyleView",
            "description_width": ""
          }
        },
        "9c7e3e877a614d78b7224511fb00c52a": {
          "model_module": "@jupyter-widgets/base",
          "model_name": "LayoutModel",
          "model_module_version": "1.2.0",
          "state": {
            "_model_module": "@jupyter-widgets/base",
            "_model_module_version": "1.2.0",
            "_model_name": "LayoutModel",
            "_view_count": null,
            "_view_module": "@jupyter-widgets/base",
            "_view_module_version": "1.2.0",
            "_view_name": "LayoutView",
            "align_content": null,
            "align_items": null,
            "align_self": null,
            "border": null,
            "bottom": null,
            "display": null,
            "flex": null,
            "flex_flow": null,
            "grid_area": null,
            "grid_auto_columns": null,
            "grid_auto_flow": null,
            "grid_auto_rows": null,
            "grid_column": null,
            "grid_gap": null,
            "grid_row": null,
            "grid_template_areas": null,
            "grid_template_columns": null,
            "grid_template_rows": null,
            "height": null,
            "justify_content": null,
            "justify_items": null,
            "left": null,
            "margin": null,
            "max_height": null,
            "max_width": null,
            "min_height": null,
            "min_width": null,
            "object_fit": null,
            "object_position": null,
            "order": null,
            "overflow": null,
            "overflow_x": null,
            "overflow_y": null,
            "padding": null,
            "right": null,
            "top": null,
            "visibility": null,
            "width": null
          }
        },
        "0f9e9ee4c3a44714bdb7aea68f7293f8": {
          "model_module": "@jupyter-widgets/controls",
          "model_name": "ProgressStyleModel",
          "model_module_version": "1.5.0",
          "state": {
            "_model_module": "@jupyter-widgets/controls",
            "_model_module_version": "1.5.0",
            "_model_name": "ProgressStyleModel",
            "_view_count": null,
            "_view_module": "@jupyter-widgets/base",
            "_view_module_version": "1.2.0",
            "_view_name": "StyleView",
            "bar_color": null,
            "description_width": ""
          }
        },
        "40b620afba544792b7d640f90378a8e9": {
          "model_module": "@jupyter-widgets/base",
          "model_name": "LayoutModel",
          "model_module_version": "1.2.0",
          "state": {
            "_model_module": "@jupyter-widgets/base",
            "_model_module_version": "1.2.0",
            "_model_name": "LayoutModel",
            "_view_count": null,
            "_view_module": "@jupyter-widgets/base",
            "_view_module_version": "1.2.0",
            "_view_name": "LayoutView",
            "align_content": null,
            "align_items": null,
            "align_self": null,
            "border": null,
            "bottom": null,
            "display": null,
            "flex": null,
            "flex_flow": null,
            "grid_area": null,
            "grid_auto_columns": null,
            "grid_auto_flow": null,
            "grid_auto_rows": null,
            "grid_column": null,
            "grid_gap": null,
            "grid_row": null,
            "grid_template_areas": null,
            "grid_template_columns": null,
            "grid_template_rows": null,
            "height": null,
            "justify_content": null,
            "justify_items": null,
            "left": null,
            "margin": null,
            "max_height": null,
            "max_width": null,
            "min_height": null,
            "min_width": null,
            "object_fit": null,
            "object_position": null,
            "order": null,
            "overflow": null,
            "overflow_x": null,
            "overflow_y": null,
            "padding": null,
            "right": null,
            "top": null,
            "visibility": null,
            "width": null
          }
        },
        "863984aa987a43ba9fb247859b295a75": {
          "model_module": "@jupyter-widgets/controls",
          "model_name": "DescriptionStyleModel",
          "model_module_version": "1.5.0",
          "state": {
            "_model_module": "@jupyter-widgets/controls",
            "_model_module_version": "1.5.0",
            "_model_name": "DescriptionStyleModel",
            "_view_count": null,
            "_view_module": "@jupyter-widgets/base",
            "_view_module_version": "1.2.0",
            "_view_name": "StyleView",
            "description_width": ""
          }
        },
        "e2ac017d16d74efebdb7a5d3d1f27bbd": {
          "model_module": "@jupyter-widgets/controls",
          "model_name": "HBoxModel",
          "model_module_version": "1.5.0",
          "state": {
            "_dom_classes": [],
            "_model_module": "@jupyter-widgets/controls",
            "_model_module_version": "1.5.0",
            "_model_name": "HBoxModel",
            "_view_count": null,
            "_view_module": "@jupyter-widgets/controls",
            "_view_module_version": "1.5.0",
            "_view_name": "HBoxView",
            "box_style": "",
            "children": [
              "IPY_MODEL_e3f8cbdc1c7a43a193083182a4c5d65b",
              "IPY_MODEL_de09642eae82462d8f6f698f97727a97",
              "IPY_MODEL_899b55c7736a48eb8cbf29e6ec0ce013"
            ],
            "layout": "IPY_MODEL_5d623704e113414b9eca3e1d0fda7b73"
          }
        },
        "e3f8cbdc1c7a43a193083182a4c5d65b": {
          "model_module": "@jupyter-widgets/controls",
          "model_name": "HTMLModel",
          "model_module_version": "1.5.0",
          "state": {
            "_dom_classes": [],
            "_model_module": "@jupyter-widgets/controls",
            "_model_module_version": "1.5.0",
            "_model_name": "HTMLModel",
            "_view_count": null,
            "_view_module": "@jupyter-widgets/controls",
            "_view_module_version": "1.5.0",
            "_view_name": "HTMLView",
            "description": "",
            "description_tooltip": null,
            "layout": "IPY_MODEL_04d50592124b4ade823e891311faddd3",
            "placeholder": "​",
            "style": "IPY_MODEL_6a5cb677bb69477e989e76fb5431ced9",
            "value": "Downloading: 100%"
          }
        },
        "de09642eae82462d8f6f698f97727a97": {
          "model_module": "@jupyter-widgets/controls",
          "model_name": "FloatProgressModel",
          "model_module_version": "1.5.0",
          "state": {
            "_dom_classes": [],
            "_model_module": "@jupyter-widgets/controls",
            "_model_module_version": "1.5.0",
            "_model_name": "FloatProgressModel",
            "_view_count": null,
            "_view_module": "@jupyter-widgets/controls",
            "_view_module_version": "1.5.0",
            "_view_name": "ProgressView",
            "bar_style": "success",
            "description": "",
            "description_tooltip": null,
            "layout": "IPY_MODEL_cdccaa7631e44ed89aeb1d09d539ab5c",
            "max": 5646064,
            "min": 0,
            "orientation": "horizontal",
            "style": "IPY_MODEL_3722501d76e4419784245badf75d65a1",
            "value": 5646064
          }
        },
        "899b55c7736a48eb8cbf29e6ec0ce013": {
          "model_module": "@jupyter-widgets/controls",
          "model_name": "HTMLModel",
          "model_module_version": "1.5.0",
          "state": {
            "_dom_classes": [],
            "_model_module": "@jupyter-widgets/controls",
            "_model_module_version": "1.5.0",
            "_model_name": "HTMLModel",
            "_view_count": null,
            "_view_module": "@jupyter-widgets/controls",
            "_view_module_version": "1.5.0",
            "_view_name": "HTMLView",
            "description": "",
            "description_tooltip": null,
            "layout": "IPY_MODEL_7a1f88ad0a7f44adb583d5d738871818",
            "placeholder": "​",
            "style": "IPY_MODEL_8d026f031348492980ef6f63593a7e1b",
            "value": " 5.65M/5.65M [00:01&lt;00:00, 5.04MB/s]"
          }
        },
        "5d623704e113414b9eca3e1d0fda7b73": {
          "model_module": "@jupyter-widgets/base",
          "model_name": "LayoutModel",
          "model_module_version": "1.2.0",
          "state": {
            "_model_module": "@jupyter-widgets/base",
            "_model_module_version": "1.2.0",
            "_model_name": "LayoutModel",
            "_view_count": null,
            "_view_module": "@jupyter-widgets/base",
            "_view_module_version": "1.2.0",
            "_view_name": "LayoutView",
            "align_content": null,
            "align_items": null,
            "align_self": null,
            "border": null,
            "bottom": null,
            "display": null,
            "flex": null,
            "flex_flow": null,
            "grid_area": null,
            "grid_auto_columns": null,
            "grid_auto_flow": null,
            "grid_auto_rows": null,
            "grid_column": null,
            "grid_gap": null,
            "grid_row": null,
            "grid_template_areas": null,
            "grid_template_columns": null,
            "grid_template_rows": null,
            "height": null,
            "justify_content": null,
            "justify_items": null,
            "left": null,
            "margin": null,
            "max_height": null,
            "max_width": null,
            "min_height": null,
            "min_width": null,
            "object_fit": null,
            "object_position": null,
            "order": null,
            "overflow": null,
            "overflow_x": null,
            "overflow_y": null,
            "padding": null,
            "right": null,
            "top": null,
            "visibility": null,
            "width": null
          }
        },
        "04d50592124b4ade823e891311faddd3": {
          "model_module": "@jupyter-widgets/base",
          "model_name": "LayoutModel",
          "model_module_version": "1.2.0",
          "state": {
            "_model_module": "@jupyter-widgets/base",
            "_model_module_version": "1.2.0",
            "_model_name": "LayoutModel",
            "_view_count": null,
            "_view_module": "@jupyter-widgets/base",
            "_view_module_version": "1.2.0",
            "_view_name": "LayoutView",
            "align_content": null,
            "align_items": null,
            "align_self": null,
            "border": null,
            "bottom": null,
            "display": null,
            "flex": null,
            "flex_flow": null,
            "grid_area": null,
            "grid_auto_columns": null,
            "grid_auto_flow": null,
            "grid_auto_rows": null,
            "grid_column": null,
            "grid_gap": null,
            "grid_row": null,
            "grid_template_areas": null,
            "grid_template_columns": null,
            "grid_template_rows": null,
            "height": null,
            "justify_content": null,
            "justify_items": null,
            "left": null,
            "margin": null,
            "max_height": null,
            "max_width": null,
            "min_height": null,
            "min_width": null,
            "object_fit": null,
            "object_position": null,
            "order": null,
            "overflow": null,
            "overflow_x": null,
            "overflow_y": null,
            "padding": null,
            "right": null,
            "top": null,
            "visibility": null,
            "width": null
          }
        },
        "6a5cb677bb69477e989e76fb5431ced9": {
          "model_module": "@jupyter-widgets/controls",
          "model_name": "DescriptionStyleModel",
          "model_module_version": "1.5.0",
          "state": {
            "_model_module": "@jupyter-widgets/controls",
            "_model_module_version": "1.5.0",
            "_model_name": "DescriptionStyleModel",
            "_view_count": null,
            "_view_module": "@jupyter-widgets/base",
            "_view_module_version": "1.2.0",
            "_view_name": "StyleView",
            "description_width": ""
          }
        },
        "cdccaa7631e44ed89aeb1d09d539ab5c": {
          "model_module": "@jupyter-widgets/base",
          "model_name": "LayoutModel",
          "model_module_version": "1.2.0",
          "state": {
            "_model_module": "@jupyter-widgets/base",
            "_model_module_version": "1.2.0",
            "_model_name": "LayoutModel",
            "_view_count": null,
            "_view_module": "@jupyter-widgets/base",
            "_view_module_version": "1.2.0",
            "_view_name": "LayoutView",
            "align_content": null,
            "align_items": null,
            "align_self": null,
            "border": null,
            "bottom": null,
            "display": null,
            "flex": null,
            "flex_flow": null,
            "grid_area": null,
            "grid_auto_columns": null,
            "grid_auto_flow": null,
            "grid_auto_rows": null,
            "grid_column": null,
            "grid_gap": null,
            "grid_row": null,
            "grid_template_areas": null,
            "grid_template_columns": null,
            "grid_template_rows": null,
            "height": null,
            "justify_content": null,
            "justify_items": null,
            "left": null,
            "margin": null,
            "max_height": null,
            "max_width": null,
            "min_height": null,
            "min_width": null,
            "object_fit": null,
            "object_position": null,
            "order": null,
            "overflow": null,
            "overflow_x": null,
            "overflow_y": null,
            "padding": null,
            "right": null,
            "top": null,
            "visibility": null,
            "width": null
          }
        },
        "3722501d76e4419784245badf75d65a1": {
          "model_module": "@jupyter-widgets/controls",
          "model_name": "ProgressStyleModel",
          "model_module_version": "1.5.0",
          "state": {
            "_model_module": "@jupyter-widgets/controls",
            "_model_module_version": "1.5.0",
            "_model_name": "ProgressStyleModel",
            "_view_count": null,
            "_view_module": "@jupyter-widgets/base",
            "_view_module_version": "1.2.0",
            "_view_name": "StyleView",
            "bar_color": null,
            "description_width": ""
          }
        },
        "7a1f88ad0a7f44adb583d5d738871818": {
          "model_module": "@jupyter-widgets/base",
          "model_name": "LayoutModel",
          "model_module_version": "1.2.0",
          "state": {
            "_model_module": "@jupyter-widgets/base",
            "_model_module_version": "1.2.0",
            "_model_name": "LayoutModel",
            "_view_count": null,
            "_view_module": "@jupyter-widgets/base",
            "_view_module_version": "1.2.0",
            "_view_name": "LayoutView",
            "align_content": null,
            "align_items": null,
            "align_self": null,
            "border": null,
            "bottom": null,
            "display": null,
            "flex": null,
            "flex_flow": null,
            "grid_area": null,
            "grid_auto_columns": null,
            "grid_auto_flow": null,
            "grid_auto_rows": null,
            "grid_column": null,
            "grid_gap": null,
            "grid_row": null,
            "grid_template_areas": null,
            "grid_template_columns": null,
            "grid_template_rows": null,
            "height": null,
            "justify_content": null,
            "justify_items": null,
            "left": null,
            "margin": null,
            "max_height": null,
            "max_width": null,
            "min_height": null,
            "min_width": null,
            "object_fit": null,
            "object_position": null,
            "order": null,
            "overflow": null,
            "overflow_x": null,
            "overflow_y": null,
            "padding": null,
            "right": null,
            "top": null,
            "visibility": null,
            "width": null
          }
        },
        "8d026f031348492980ef6f63593a7e1b": {
          "model_module": "@jupyter-widgets/controls",
          "model_name": "DescriptionStyleModel",
          "model_module_version": "1.5.0",
          "state": {
            "_model_module": "@jupyter-widgets/controls",
            "_model_module_version": "1.5.0",
            "_model_name": "DescriptionStyleModel",
            "_view_count": null,
            "_view_module": "@jupyter-widgets/base",
            "_view_module_version": "1.2.0",
            "_view_name": "StyleView",
            "description_width": ""
          }
        },
        "f26a363df3cd4f4da82a70d9d67e26fb": {
          "model_module": "@jupyter-widgets/controls",
          "model_name": "HBoxModel",
          "model_module_version": "1.5.0",
          "state": {
            "_dom_classes": [],
            "_model_module": "@jupyter-widgets/controls",
            "_model_module_version": "1.5.0",
            "_model_name": "HBoxModel",
            "_view_count": null,
            "_view_module": "@jupyter-widgets/controls",
            "_view_module_version": "1.5.0",
            "_view_name": "HBoxView",
            "box_style": "",
            "children": [
              "IPY_MODEL_1bbc9885c1044d63946cbf1dec926ce4",
              "IPY_MODEL_109afdd9504d4720ac580271a251b3f1",
              "IPY_MODEL_164c793eeb144e05a1da8f3473fc45cc"
            ],
            "layout": "IPY_MODEL_8c134dc5ee9c4f089c1c41b704bc61f9"
          }
        },
        "1bbc9885c1044d63946cbf1dec926ce4": {
          "model_module": "@jupyter-widgets/controls",
          "model_name": "HTMLModel",
          "model_module_version": "1.5.0",
          "state": {
            "_dom_classes": [],
            "_model_module": "@jupyter-widgets/controls",
            "_model_module_version": "1.5.0",
            "_model_name": "HTMLModel",
            "_view_count": null,
            "_view_module": "@jupyter-widgets/controls",
            "_view_module_version": "1.5.0",
            "_view_name": "HTMLView",
            "description": "",
            "description_tooltip": null,
            "layout": "IPY_MODEL_c4754ace4e804940b12733754c9132b1",
            "placeholder": "​",
            "style": "IPY_MODEL_e443723f109c47a5890db6d4f0ba75a8",
            "value": "Downloading: 100%"
          }
        },
        "109afdd9504d4720ac580271a251b3f1": {
          "model_module": "@jupyter-widgets/controls",
          "model_name": "FloatProgressModel",
          "model_module_version": "1.5.0",
          "state": {
            "_dom_classes": [],
            "_model_module": "@jupyter-widgets/controls",
            "_model_module_version": "1.5.0",
            "_model_name": "FloatProgressModel",
            "_view_count": null,
            "_view_module": "@jupyter-widgets/controls",
            "_view_module_version": "1.5.0",
            "_view_name": "ProgressView",
            "bar_style": "success",
            "description": "",
            "description_tooltip": null,
            "layout": "IPY_MODEL_b02322fbe7d043ebaf96f01a6e69e75a",
            "max": 5585896,
            "min": 0,
            "orientation": "horizontal",
            "style": "IPY_MODEL_b04b9e5ea3cb4f8f9667ff72845f41b3",
            "value": 5585896
          }
        },
        "164c793eeb144e05a1da8f3473fc45cc": {
          "model_module": "@jupyter-widgets/controls",
          "model_name": "HTMLModel",
          "model_module_version": "1.5.0",
          "state": {
            "_dom_classes": [],
            "_model_module": "@jupyter-widgets/controls",
            "_model_module_version": "1.5.0",
            "_model_name": "HTMLModel",
            "_view_count": null,
            "_view_module": "@jupyter-widgets/controls",
            "_view_module_version": "1.5.0",
            "_view_name": "HTMLView",
            "description": "",
            "description_tooltip": null,
            "layout": "IPY_MODEL_e273e12f2a4a477aacea449efe4fec63",
            "placeholder": "​",
            "style": "IPY_MODEL_0c6bb9a89b9148c5981d5745af25520c",
            "value": " 5.59M/5.59M [00:01&lt;00:00, 4.51MB/s]"
          }
        },
        "8c134dc5ee9c4f089c1c41b704bc61f9": {
          "model_module": "@jupyter-widgets/base",
          "model_name": "LayoutModel",
          "model_module_version": "1.2.0",
          "state": {
            "_model_module": "@jupyter-widgets/base",
            "_model_module_version": "1.2.0",
            "_model_name": "LayoutModel",
            "_view_count": null,
            "_view_module": "@jupyter-widgets/base",
            "_view_module_version": "1.2.0",
            "_view_name": "LayoutView",
            "align_content": null,
            "align_items": null,
            "align_self": null,
            "border": null,
            "bottom": null,
            "display": null,
            "flex": null,
            "flex_flow": null,
            "grid_area": null,
            "grid_auto_columns": null,
            "grid_auto_flow": null,
            "grid_auto_rows": null,
            "grid_column": null,
            "grid_gap": null,
            "grid_row": null,
            "grid_template_areas": null,
            "grid_template_columns": null,
            "grid_template_rows": null,
            "height": null,
            "justify_content": null,
            "justify_items": null,
            "left": null,
            "margin": null,
            "max_height": null,
            "max_width": null,
            "min_height": null,
            "min_width": null,
            "object_fit": null,
            "object_position": null,
            "order": null,
            "overflow": null,
            "overflow_x": null,
            "overflow_y": null,
            "padding": null,
            "right": null,
            "top": null,
            "visibility": null,
            "width": null
          }
        },
        "c4754ace4e804940b12733754c9132b1": {
          "model_module": "@jupyter-widgets/base",
          "model_name": "LayoutModel",
          "model_module_version": "1.2.0",
          "state": {
            "_model_module": "@jupyter-widgets/base",
            "_model_module_version": "1.2.0",
            "_model_name": "LayoutModel",
            "_view_count": null,
            "_view_module": "@jupyter-widgets/base",
            "_view_module_version": "1.2.0",
            "_view_name": "LayoutView",
            "align_content": null,
            "align_items": null,
            "align_self": null,
            "border": null,
            "bottom": null,
            "display": null,
            "flex": null,
            "flex_flow": null,
            "grid_area": null,
            "grid_auto_columns": null,
            "grid_auto_flow": null,
            "grid_auto_rows": null,
            "grid_column": null,
            "grid_gap": null,
            "grid_row": null,
            "grid_template_areas": null,
            "grid_template_columns": null,
            "grid_template_rows": null,
            "height": null,
            "justify_content": null,
            "justify_items": null,
            "left": null,
            "margin": null,
            "max_height": null,
            "max_width": null,
            "min_height": null,
            "min_width": null,
            "object_fit": null,
            "object_position": null,
            "order": null,
            "overflow": null,
            "overflow_x": null,
            "overflow_y": null,
            "padding": null,
            "right": null,
            "top": null,
            "visibility": null,
            "width": null
          }
        },
        "e443723f109c47a5890db6d4f0ba75a8": {
          "model_module": "@jupyter-widgets/controls",
          "model_name": "DescriptionStyleModel",
          "model_module_version": "1.5.0",
          "state": {
            "_model_module": "@jupyter-widgets/controls",
            "_model_module_version": "1.5.0",
            "_model_name": "DescriptionStyleModel",
            "_view_count": null,
            "_view_module": "@jupyter-widgets/base",
            "_view_module_version": "1.2.0",
            "_view_name": "StyleView",
            "description_width": ""
          }
        },
        "b02322fbe7d043ebaf96f01a6e69e75a": {
          "model_module": "@jupyter-widgets/base",
          "model_name": "LayoutModel",
          "model_module_version": "1.2.0",
          "state": {
            "_model_module": "@jupyter-widgets/base",
            "_model_module_version": "1.2.0",
            "_model_name": "LayoutModel",
            "_view_count": null,
            "_view_module": "@jupyter-widgets/base",
            "_view_module_version": "1.2.0",
            "_view_name": "LayoutView",
            "align_content": null,
            "align_items": null,
            "align_self": null,
            "border": null,
            "bottom": null,
            "display": null,
            "flex": null,
            "flex_flow": null,
            "grid_area": null,
            "grid_auto_columns": null,
            "grid_auto_flow": null,
            "grid_auto_rows": null,
            "grid_column": null,
            "grid_gap": null,
            "grid_row": null,
            "grid_template_areas": null,
            "grid_template_columns": null,
            "grid_template_rows": null,
            "height": null,
            "justify_content": null,
            "justify_items": null,
            "left": null,
            "margin": null,
            "max_height": null,
            "max_width": null,
            "min_height": null,
            "min_width": null,
            "object_fit": null,
            "object_position": null,
            "order": null,
            "overflow": null,
            "overflow_x": null,
            "overflow_y": null,
            "padding": null,
            "right": null,
            "top": null,
            "visibility": null,
            "width": null
          }
        },
        "b04b9e5ea3cb4f8f9667ff72845f41b3": {
          "model_module": "@jupyter-widgets/controls",
          "model_name": "ProgressStyleModel",
          "model_module_version": "1.5.0",
          "state": {
            "_model_module": "@jupyter-widgets/controls",
            "_model_module_version": "1.5.0",
            "_model_name": "ProgressStyleModel",
            "_view_count": null,
            "_view_module": "@jupyter-widgets/base",
            "_view_module_version": "1.2.0",
            "_view_name": "StyleView",
            "bar_color": null,
            "description_width": ""
          }
        },
        "e273e12f2a4a477aacea449efe4fec63": {
          "model_module": "@jupyter-widgets/base",
          "model_name": "LayoutModel",
          "model_module_version": "1.2.0",
          "state": {
            "_model_module": "@jupyter-widgets/base",
            "_model_module_version": "1.2.0",
            "_model_name": "LayoutModel",
            "_view_count": null,
            "_view_module": "@jupyter-widgets/base",
            "_view_module_version": "1.2.0",
            "_view_name": "LayoutView",
            "align_content": null,
            "align_items": null,
            "align_self": null,
            "border": null,
            "bottom": null,
            "display": null,
            "flex": null,
            "flex_flow": null,
            "grid_area": null,
            "grid_auto_columns": null,
            "grid_auto_flow": null,
            "grid_auto_rows": null,
            "grid_column": null,
            "grid_gap": null,
            "grid_row": null,
            "grid_template_areas": null,
            "grid_template_columns": null,
            "grid_template_rows": null,
            "height": null,
            "justify_content": null,
            "justify_items": null,
            "left": null,
            "margin": null,
            "max_height": null,
            "max_width": null,
            "min_height": null,
            "min_width": null,
            "object_fit": null,
            "object_position": null,
            "order": null,
            "overflow": null,
            "overflow_x": null,
            "overflow_y": null,
            "padding": null,
            "right": null,
            "top": null,
            "visibility": null,
            "width": null
          }
        },
        "0c6bb9a89b9148c5981d5745af25520c": {
          "model_module": "@jupyter-widgets/controls",
          "model_name": "DescriptionStyleModel",
          "model_module_version": "1.5.0",
          "state": {
            "_model_module": "@jupyter-widgets/controls",
            "_model_module_version": "1.5.0",
            "_model_name": "DescriptionStyleModel",
            "_view_count": null,
            "_view_module": "@jupyter-widgets/base",
            "_view_module_version": "1.2.0",
            "_view_name": "StyleView",
            "description_width": ""
          }
        },
        "788ad6fd1fbc47e291acca2d18ba61b7": {
          "model_module": "@jupyter-widgets/controls",
          "model_name": "HBoxModel",
          "model_module_version": "1.5.0",
          "state": {
            "_dom_classes": [],
            "_model_module": "@jupyter-widgets/controls",
            "_model_module_version": "1.5.0",
            "_model_name": "HBoxModel",
            "_view_count": null,
            "_view_module": "@jupyter-widgets/controls",
            "_view_module_version": "1.5.0",
            "_view_name": "HBoxView",
            "box_style": "",
            "children": [
              "IPY_MODEL_dd96c3ffb8bd41cd931533373c409109",
              "IPY_MODEL_05a9c55bb7014aab8eb59530fcb95def",
              "IPY_MODEL_4f0194a7a32e427fa6cc2135a85c9e2b"
            ],
            "layout": "IPY_MODEL_ededbacb35784d74825801c30fed2a9c"
          }
        },
        "dd96c3ffb8bd41cd931533373c409109": {
          "model_module": "@jupyter-widgets/controls",
          "model_name": "HTMLModel",
          "model_module_version": "1.5.0",
          "state": {
            "_dom_classes": [],
            "_model_module": "@jupyter-widgets/controls",
            "_model_module_version": "1.5.0",
            "_model_name": "HTMLModel",
            "_view_count": null,
            "_view_module": "@jupyter-widgets/controls",
            "_view_module_version": "1.5.0",
            "_view_name": "HTMLView",
            "description": "",
            "description_tooltip": null,
            "layout": "IPY_MODEL_8214a8732f9e492997a73a9c62d3b3db",
            "placeholder": "​",
            "style": "IPY_MODEL_1bb5d45d38794bfba885d9f8563e24aa",
            "value": "Downloading: 100%"
          }
        },
        "05a9c55bb7014aab8eb59530fcb95def": {
          "model_module": "@jupyter-widgets/controls",
          "model_name": "FloatProgressModel",
          "model_module_version": "1.5.0",
          "state": {
            "_dom_classes": [],
            "_model_module": "@jupyter-widgets/controls",
            "_model_module_version": "1.5.0",
            "_model_name": "FloatProgressModel",
            "_view_count": null,
            "_view_module": "@jupyter-widgets/controls",
            "_view_module_version": "1.5.0",
            "_view_name": "ProgressView",
            "bar_style": "success",
            "description": "",
            "description_tooltip": null,
            "layout": "IPY_MODEL_5e48db4fc79048b9bbd173965a847a45",
            "max": 400182536,
            "min": 0,
            "orientation": "horizontal",
            "style": "IPY_MODEL_15236fef394849c3ae18635f1d7bfb31",
            "value": 400182536
          }
        },
        "4f0194a7a32e427fa6cc2135a85c9e2b": {
          "model_module": "@jupyter-widgets/controls",
          "model_name": "HTMLModel",
          "model_module_version": "1.5.0",
          "state": {
            "_dom_classes": [],
            "_model_module": "@jupyter-widgets/controls",
            "_model_module_version": "1.5.0",
            "_model_name": "HTMLModel",
            "_view_count": null,
            "_view_module": "@jupyter-widgets/controls",
            "_view_module_version": "1.5.0",
            "_view_name": "HTMLView",
            "description": "",
            "description_tooltip": null,
            "layout": "IPY_MODEL_3359002d0d8646508ab41f035a4a1672",
            "placeholder": "​",
            "style": "IPY_MODEL_cc8065aff5294b578e3a308ce4041930",
            "value": " 400M/400M [00:21&lt;00:00, 21.3MB/s]"
          }
        },
        "ededbacb35784d74825801c30fed2a9c": {
          "model_module": "@jupyter-widgets/base",
          "model_name": "LayoutModel",
          "model_module_version": "1.2.0",
          "state": {
            "_model_module": "@jupyter-widgets/base",
            "_model_module_version": "1.2.0",
            "_model_name": "LayoutModel",
            "_view_count": null,
            "_view_module": "@jupyter-widgets/base",
            "_view_module_version": "1.2.0",
            "_view_name": "LayoutView",
            "align_content": null,
            "align_items": null,
            "align_self": null,
            "border": null,
            "bottom": null,
            "display": null,
            "flex": null,
            "flex_flow": null,
            "grid_area": null,
            "grid_auto_columns": null,
            "grid_auto_flow": null,
            "grid_auto_rows": null,
            "grid_column": null,
            "grid_gap": null,
            "grid_row": null,
            "grid_template_areas": null,
            "grid_template_columns": null,
            "grid_template_rows": null,
            "height": null,
            "justify_content": null,
            "justify_items": null,
            "left": null,
            "margin": null,
            "max_height": null,
            "max_width": null,
            "min_height": null,
            "min_width": null,
            "object_fit": null,
            "object_position": null,
            "order": null,
            "overflow": null,
            "overflow_x": null,
            "overflow_y": null,
            "padding": null,
            "right": null,
            "top": null,
            "visibility": null,
            "width": null
          }
        },
        "8214a8732f9e492997a73a9c62d3b3db": {
          "model_module": "@jupyter-widgets/base",
          "model_name": "LayoutModel",
          "model_module_version": "1.2.0",
          "state": {
            "_model_module": "@jupyter-widgets/base",
            "_model_module_version": "1.2.0",
            "_model_name": "LayoutModel",
            "_view_count": null,
            "_view_module": "@jupyter-widgets/base",
            "_view_module_version": "1.2.0",
            "_view_name": "LayoutView",
            "align_content": null,
            "align_items": null,
            "align_self": null,
            "border": null,
            "bottom": null,
            "display": null,
            "flex": null,
            "flex_flow": null,
            "grid_area": null,
            "grid_auto_columns": null,
            "grid_auto_flow": null,
            "grid_auto_rows": null,
            "grid_column": null,
            "grid_gap": null,
            "grid_row": null,
            "grid_template_areas": null,
            "grid_template_columns": null,
            "grid_template_rows": null,
            "height": null,
            "justify_content": null,
            "justify_items": null,
            "left": null,
            "margin": null,
            "max_height": null,
            "max_width": null,
            "min_height": null,
            "min_width": null,
            "object_fit": null,
            "object_position": null,
            "order": null,
            "overflow": null,
            "overflow_x": null,
            "overflow_y": null,
            "padding": null,
            "right": null,
            "top": null,
            "visibility": null,
            "width": null
          }
        },
        "1bb5d45d38794bfba885d9f8563e24aa": {
          "model_module": "@jupyter-widgets/controls",
          "model_name": "DescriptionStyleModel",
          "model_module_version": "1.5.0",
          "state": {
            "_model_module": "@jupyter-widgets/controls",
            "_model_module_version": "1.5.0",
            "_model_name": "DescriptionStyleModel",
            "_view_count": null,
            "_view_module": "@jupyter-widgets/base",
            "_view_module_version": "1.2.0",
            "_view_name": "StyleView",
            "description_width": ""
          }
        },
        "5e48db4fc79048b9bbd173965a847a45": {
          "model_module": "@jupyter-widgets/base",
          "model_name": "LayoutModel",
          "model_module_version": "1.2.0",
          "state": {
            "_model_module": "@jupyter-widgets/base",
            "_model_module_version": "1.2.0",
            "_model_name": "LayoutModel",
            "_view_count": null,
            "_view_module": "@jupyter-widgets/base",
            "_view_module_version": "1.2.0",
            "_view_name": "LayoutView",
            "align_content": null,
            "align_items": null,
            "align_self": null,
            "border": null,
            "bottom": null,
            "display": null,
            "flex": null,
            "flex_flow": null,
            "grid_area": null,
            "grid_auto_columns": null,
            "grid_auto_flow": null,
            "grid_auto_rows": null,
            "grid_column": null,
            "grid_gap": null,
            "grid_row": null,
            "grid_template_areas": null,
            "grid_template_columns": null,
            "grid_template_rows": null,
            "height": null,
            "justify_content": null,
            "justify_items": null,
            "left": null,
            "margin": null,
            "max_height": null,
            "max_width": null,
            "min_height": null,
            "min_width": null,
            "object_fit": null,
            "object_position": null,
            "order": null,
            "overflow": null,
            "overflow_x": null,
            "overflow_y": null,
            "padding": null,
            "right": null,
            "top": null,
            "visibility": null,
            "width": null
          }
        },
        "15236fef394849c3ae18635f1d7bfb31": {
          "model_module": "@jupyter-widgets/controls",
          "model_name": "ProgressStyleModel",
          "model_module_version": "1.5.0",
          "state": {
            "_model_module": "@jupyter-widgets/controls",
            "_model_module_version": "1.5.0",
            "_model_name": "ProgressStyleModel",
            "_view_count": null,
            "_view_module": "@jupyter-widgets/base",
            "_view_module_version": "1.2.0",
            "_view_name": "StyleView",
            "bar_color": null,
            "description_width": ""
          }
        },
        "3359002d0d8646508ab41f035a4a1672": {
          "model_module": "@jupyter-widgets/base",
          "model_name": "LayoutModel",
          "model_module_version": "1.2.0",
          "state": {
            "_model_module": "@jupyter-widgets/base",
            "_model_module_version": "1.2.0",
            "_model_name": "LayoutModel",
            "_view_count": null,
            "_view_module": "@jupyter-widgets/base",
            "_view_module_version": "1.2.0",
            "_view_name": "LayoutView",
            "align_content": null,
            "align_items": null,
            "align_self": null,
            "border": null,
            "bottom": null,
            "display": null,
            "flex": null,
            "flex_flow": null,
            "grid_area": null,
            "grid_auto_columns": null,
            "grid_auto_flow": null,
            "grid_auto_rows": null,
            "grid_column": null,
            "grid_gap": null,
            "grid_row": null,
            "grid_template_areas": null,
            "grid_template_columns": null,
            "grid_template_rows": null,
            "height": null,
            "justify_content": null,
            "justify_items": null,
            "left": null,
            "margin": null,
            "max_height": null,
            "max_width": null,
            "min_height": null,
            "min_width": null,
            "object_fit": null,
            "object_position": null,
            "order": null,
            "overflow": null,
            "overflow_x": null,
            "overflow_y": null,
            "padding": null,
            "right": null,
            "top": null,
            "visibility": null,
            "width": null
          }
        },
        "cc8065aff5294b578e3a308ce4041930": {
          "model_module": "@jupyter-widgets/controls",
          "model_name": "DescriptionStyleModel",
          "model_module_version": "1.5.0",
          "state": {
            "_model_module": "@jupyter-widgets/controls",
            "_model_module_version": "1.5.0",
            "_model_name": "DescriptionStyleModel",
            "_view_count": null,
            "_view_module": "@jupyter-widgets/base",
            "_view_module_version": "1.2.0",
            "_view_name": "StyleView",
            "description_width": ""
          }
        },
        "935ecb5a94074bb7b015241ea7b309b1": {
          "model_module": "@jupyter-widgets/controls",
          "model_name": "HBoxModel",
          "model_module_version": "1.5.0",
          "state": {
            "_dom_classes": [],
            "_model_module": "@jupyter-widgets/controls",
            "_model_module_version": "1.5.0",
            "_model_name": "HBoxModel",
            "_view_count": null,
            "_view_module": "@jupyter-widgets/controls",
            "_view_module_version": "1.5.0",
            "_view_name": "HBoxView",
            "box_style": "",
            "children": [
              "IPY_MODEL_b2494f6edc1f4acf9fefacb492d15292",
              "IPY_MODEL_9f34955938004330858438940746c341",
              "IPY_MODEL_cc872ba9e9ed48d6b80b310ac2ad2473"
            ],
            "layout": "IPY_MODEL_4413fc7830eb4c728d70bc8bbf12e73b"
          }
        },
        "b2494f6edc1f4acf9fefacb492d15292": {
          "model_module": "@jupyter-widgets/controls",
          "model_name": "HTMLModel",
          "model_module_version": "1.5.0",
          "state": {
            "_dom_classes": [],
            "_model_module": "@jupyter-widgets/controls",
            "_model_module_version": "1.5.0",
            "_model_name": "HTMLModel",
            "_view_count": null,
            "_view_module": "@jupyter-widgets/controls",
            "_view_module_version": "1.5.0",
            "_view_name": "HTMLView",
            "description": "",
            "description_tooltip": null,
            "layout": "IPY_MODEL_e80941ea4052419ab1e87c7867a12cb3",
            "placeholder": "​",
            "style": "IPY_MODEL_c550ec2cd3db42b5b2de1fdc262e4181",
            "value": "Downloading: 100%"
          }
        },
        "9f34955938004330858438940746c341": {
          "model_module": "@jupyter-widgets/controls",
          "model_name": "FloatProgressModel",
          "model_module_version": "1.5.0",
          "state": {
            "_dom_classes": [],
            "_model_module": "@jupyter-widgets/controls",
            "_model_module_version": "1.5.0",
            "_model_name": "FloatProgressModel",
            "_view_count": null,
            "_view_module": "@jupyter-widgets/controls",
            "_view_module_version": "1.5.0",
            "_view_name": "ProgressView",
            "bar_style": "success",
            "description": "",
            "description_tooltip": null,
            "layout": "IPY_MODEL_f0351acab3964a889b8ddf464edf872b",
            "max": 1868,
            "min": 0,
            "orientation": "horizontal",
            "style": "IPY_MODEL_a4ab89a3fbc147bcb5b633305d1a1777",
            "value": 1868
          }
        },
        "cc872ba9e9ed48d6b80b310ac2ad2473": {
          "model_module": "@jupyter-widgets/controls",
          "model_name": "HTMLModel",
          "model_module_version": "1.5.0",
          "state": {
            "_dom_classes": [],
            "_model_module": "@jupyter-widgets/controls",
            "_model_module_version": "1.5.0",
            "_model_name": "HTMLModel",
            "_view_count": null,
            "_view_module": "@jupyter-widgets/controls",
            "_view_module_version": "1.5.0",
            "_view_name": "HTMLView",
            "description": "",
            "description_tooltip": null,
            "layout": "IPY_MODEL_4b63d8ab4b0b4adbbb9234832c92515e",
            "placeholder": "​",
            "style": "IPY_MODEL_ef175b75490d4ca78e9bc6f16a7a945a",
            "value": " 1.87k/1.87k [00:00&lt;00:00, 75.7kB/s]"
          }
        },
        "4413fc7830eb4c728d70bc8bbf12e73b": {
          "model_module": "@jupyter-widgets/base",
          "model_name": "LayoutModel",
          "model_module_version": "1.2.0",
          "state": {
            "_model_module": "@jupyter-widgets/base",
            "_model_module_version": "1.2.0",
            "_model_name": "LayoutModel",
            "_view_count": null,
            "_view_module": "@jupyter-widgets/base",
            "_view_module_version": "1.2.0",
            "_view_name": "LayoutView",
            "align_content": null,
            "align_items": null,
            "align_self": null,
            "border": null,
            "bottom": null,
            "display": null,
            "flex": null,
            "flex_flow": null,
            "grid_area": null,
            "grid_auto_columns": null,
            "grid_auto_flow": null,
            "grid_auto_rows": null,
            "grid_column": null,
            "grid_gap": null,
            "grid_row": null,
            "grid_template_areas": null,
            "grid_template_columns": null,
            "grid_template_rows": null,
            "height": null,
            "justify_content": null,
            "justify_items": null,
            "left": null,
            "margin": null,
            "max_height": null,
            "max_width": null,
            "min_height": null,
            "min_width": null,
            "object_fit": null,
            "object_position": null,
            "order": null,
            "overflow": null,
            "overflow_x": null,
            "overflow_y": null,
            "padding": null,
            "right": null,
            "top": null,
            "visibility": null,
            "width": null
          }
        },
        "e80941ea4052419ab1e87c7867a12cb3": {
          "model_module": "@jupyter-widgets/base",
          "model_name": "LayoutModel",
          "model_module_version": "1.2.0",
          "state": {
            "_model_module": "@jupyter-widgets/base",
            "_model_module_version": "1.2.0",
            "_model_name": "LayoutModel",
            "_view_count": null,
            "_view_module": "@jupyter-widgets/base",
            "_view_module_version": "1.2.0",
            "_view_name": "LayoutView",
            "align_content": null,
            "align_items": null,
            "align_self": null,
            "border": null,
            "bottom": null,
            "display": null,
            "flex": null,
            "flex_flow": null,
            "grid_area": null,
            "grid_auto_columns": null,
            "grid_auto_flow": null,
            "grid_auto_rows": null,
            "grid_column": null,
            "grid_gap": null,
            "grid_row": null,
            "grid_template_areas": null,
            "grid_template_columns": null,
            "grid_template_rows": null,
            "height": null,
            "justify_content": null,
            "justify_items": null,
            "left": null,
            "margin": null,
            "max_height": null,
            "max_width": null,
            "min_height": null,
            "min_width": null,
            "object_fit": null,
            "object_position": null,
            "order": null,
            "overflow": null,
            "overflow_x": null,
            "overflow_y": null,
            "padding": null,
            "right": null,
            "top": null,
            "visibility": null,
            "width": null
          }
        },
        "c550ec2cd3db42b5b2de1fdc262e4181": {
          "model_module": "@jupyter-widgets/controls",
          "model_name": "DescriptionStyleModel",
          "model_module_version": "1.5.0",
          "state": {
            "_model_module": "@jupyter-widgets/controls",
            "_model_module_version": "1.5.0",
            "_model_name": "DescriptionStyleModel",
            "_view_count": null,
            "_view_module": "@jupyter-widgets/base",
            "_view_module_version": "1.2.0",
            "_view_name": "StyleView",
            "description_width": ""
          }
        },
        "f0351acab3964a889b8ddf464edf872b": {
          "model_module": "@jupyter-widgets/base",
          "model_name": "LayoutModel",
          "model_module_version": "1.2.0",
          "state": {
            "_model_module": "@jupyter-widgets/base",
            "_model_module_version": "1.2.0",
            "_model_name": "LayoutModel",
            "_view_count": null,
            "_view_module": "@jupyter-widgets/base",
            "_view_module_version": "1.2.0",
            "_view_name": "LayoutView",
            "align_content": null,
            "align_items": null,
            "align_self": null,
            "border": null,
            "bottom": null,
            "display": null,
            "flex": null,
            "flex_flow": null,
            "grid_area": null,
            "grid_auto_columns": null,
            "grid_auto_flow": null,
            "grid_auto_rows": null,
            "grid_column": null,
            "grid_gap": null,
            "grid_row": null,
            "grid_template_areas": null,
            "grid_template_columns": null,
            "grid_template_rows": null,
            "height": null,
            "justify_content": null,
            "justify_items": null,
            "left": null,
            "margin": null,
            "max_height": null,
            "max_width": null,
            "min_height": null,
            "min_width": null,
            "object_fit": null,
            "object_position": null,
            "order": null,
            "overflow": null,
            "overflow_x": null,
            "overflow_y": null,
            "padding": null,
            "right": null,
            "top": null,
            "visibility": null,
            "width": null
          }
        },
        "a4ab89a3fbc147bcb5b633305d1a1777": {
          "model_module": "@jupyter-widgets/controls",
          "model_name": "ProgressStyleModel",
          "model_module_version": "1.5.0",
          "state": {
            "_model_module": "@jupyter-widgets/controls",
            "_model_module_version": "1.5.0",
            "_model_name": "ProgressStyleModel",
            "_view_count": null,
            "_view_module": "@jupyter-widgets/base",
            "_view_module_version": "1.2.0",
            "_view_name": "StyleView",
            "bar_color": null,
            "description_width": ""
          }
        },
        "4b63d8ab4b0b4adbbb9234832c92515e": {
          "model_module": "@jupyter-widgets/base",
          "model_name": "LayoutModel",
          "model_module_version": "1.2.0",
          "state": {
            "_model_module": "@jupyter-widgets/base",
            "_model_module_version": "1.2.0",
            "_model_name": "LayoutModel",
            "_view_count": null,
            "_view_module": "@jupyter-widgets/base",
            "_view_module_version": "1.2.0",
            "_view_name": "LayoutView",
            "align_content": null,
            "align_items": null,
            "align_self": null,
            "border": null,
            "bottom": null,
            "display": null,
            "flex": null,
            "flex_flow": null,
            "grid_area": null,
            "grid_auto_columns": null,
            "grid_auto_flow": null,
            "grid_auto_rows": null,
            "grid_column": null,
            "grid_gap": null,
            "grid_row": null,
            "grid_template_areas": null,
            "grid_template_columns": null,
            "grid_template_rows": null,
            "height": null,
            "justify_content": null,
            "justify_items": null,
            "left": null,
            "margin": null,
            "max_height": null,
            "max_width": null,
            "min_height": null,
            "min_width": null,
            "object_fit": null,
            "object_position": null,
            "order": null,
            "overflow": null,
            "overflow_x": null,
            "overflow_y": null,
            "padding": null,
            "right": null,
            "top": null,
            "visibility": null,
            "width": null
          }
        },
        "ef175b75490d4ca78e9bc6f16a7a945a": {
          "model_module": "@jupyter-widgets/controls",
          "model_name": "DescriptionStyleModel",
          "model_module_version": "1.5.0",
          "state": {
            "_model_module": "@jupyter-widgets/controls",
            "_model_module_version": "1.5.0",
            "_model_name": "DescriptionStyleModel",
            "_view_count": null,
            "_view_module": "@jupyter-widgets/base",
            "_view_module_version": "1.2.0",
            "_view_name": "StyleView",
            "description_width": ""
          }
        },
        "ed5e522aeea049fb983eb2baad52307f": {
          "model_module": "@jupyter-widgets/controls",
          "model_name": "HBoxModel",
          "model_module_version": "1.5.0",
          "state": {
            "_dom_classes": [],
            "_model_module": "@jupyter-widgets/controls",
            "_model_module_version": "1.5.0",
            "_model_name": "HBoxModel",
            "_view_count": null,
            "_view_module": "@jupyter-widgets/controls",
            "_view_module_version": "1.5.0",
            "_view_name": "HBoxView",
            "box_style": "",
            "children": [
              "IPY_MODEL_9397a123bc5944d2bf51d54f23d59a8f",
              "IPY_MODEL_cdc21f7433f44f9f9522e9ba7b15878e",
              "IPY_MODEL_f10082f94ad04e49a35850d9930be6f3"
            ],
            "layout": "IPY_MODEL_3149815ef1d344a9b91f61e308b68dbc"
          }
        },
        "9397a123bc5944d2bf51d54f23d59a8f": {
          "model_module": "@jupyter-widgets/controls",
          "model_name": "HTMLModel",
          "model_module_version": "1.5.0",
          "state": {
            "_dom_classes": [],
            "_model_module": "@jupyter-widgets/controls",
            "_model_module_version": "1.5.0",
            "_model_name": "HTMLModel",
            "_view_count": null,
            "_view_module": "@jupyter-widgets/controls",
            "_view_module_version": "1.5.0",
            "_view_name": "HTMLView",
            "description": "",
            "description_tooltip": null,
            "layout": "IPY_MODEL_87e1c75035b246cbb2dc77629ccd67d8",
            "placeholder": "​",
            "style": "IPY_MODEL_d5aaf4e08157479eaf34f34f13d62114",
            "value": "Downloading: 100%"
          }
        },
        "cdc21f7433f44f9f9522e9ba7b15878e": {
          "model_module": "@jupyter-widgets/controls",
          "model_name": "FloatProgressModel",
          "model_module_version": "1.5.0",
          "state": {
            "_dom_classes": [],
            "_model_module": "@jupyter-widgets/controls",
            "_model_module_version": "1.5.0",
            "_model_name": "FloatProgressModel",
            "_view_count": null,
            "_view_module": "@jupyter-widgets/controls",
            "_view_module_version": "1.5.0",
            "_view_name": "ProgressView",
            "bar_style": "success",
            "description": "",
            "description_tooltip": null,
            "layout": "IPY_MODEL_2fc3a7ad10c949cbb94f93ed8f4a7f47",
            "max": 2199516,
            "min": 0,
            "orientation": "horizontal",
            "style": "IPY_MODEL_938d6db4cb774ed5b7d0848877185a15",
            "value": 2199516
          }
        },
        "f10082f94ad04e49a35850d9930be6f3": {
          "model_module": "@jupyter-widgets/controls",
          "model_name": "HTMLModel",
          "model_module_version": "1.5.0",
          "state": {
            "_dom_classes": [],
            "_model_module": "@jupyter-widgets/controls",
            "_model_module_version": "1.5.0",
            "_model_name": "HTMLModel",
            "_view_count": null,
            "_view_module": "@jupyter-widgets/controls",
            "_view_module_version": "1.5.0",
            "_view_name": "HTMLView",
            "description": "",
            "description_tooltip": null,
            "layout": "IPY_MODEL_bf54b50ae517482f88702638221bb040",
            "placeholder": "​",
            "style": "IPY_MODEL_67e4815d202341e08e2bc93420c2dd5d",
            "value": " 2.20M/2.20M [00:01&lt;00:00, 2.00MB/s]"
          }
        },
        "3149815ef1d344a9b91f61e308b68dbc": {
          "model_module": "@jupyter-widgets/base",
          "model_name": "LayoutModel",
          "model_module_version": "1.2.0",
          "state": {
            "_model_module": "@jupyter-widgets/base",
            "_model_module_version": "1.2.0",
            "_model_name": "LayoutModel",
            "_view_count": null,
            "_view_module": "@jupyter-widgets/base",
            "_view_module_version": "1.2.0",
            "_view_name": "LayoutView",
            "align_content": null,
            "align_items": null,
            "align_self": null,
            "border": null,
            "bottom": null,
            "display": null,
            "flex": null,
            "flex_flow": null,
            "grid_area": null,
            "grid_auto_columns": null,
            "grid_auto_flow": null,
            "grid_auto_rows": null,
            "grid_column": null,
            "grid_gap": null,
            "grid_row": null,
            "grid_template_areas": null,
            "grid_template_columns": null,
            "grid_template_rows": null,
            "height": null,
            "justify_content": null,
            "justify_items": null,
            "left": null,
            "margin": null,
            "max_height": null,
            "max_width": null,
            "min_height": null,
            "min_width": null,
            "object_fit": null,
            "object_position": null,
            "order": null,
            "overflow": null,
            "overflow_x": null,
            "overflow_y": null,
            "padding": null,
            "right": null,
            "top": null,
            "visibility": null,
            "width": null
          }
        },
        "87e1c75035b246cbb2dc77629ccd67d8": {
          "model_module": "@jupyter-widgets/base",
          "model_name": "LayoutModel",
          "model_module_version": "1.2.0",
          "state": {
            "_model_module": "@jupyter-widgets/base",
            "_model_module_version": "1.2.0",
            "_model_name": "LayoutModel",
            "_view_count": null,
            "_view_module": "@jupyter-widgets/base",
            "_view_module_version": "1.2.0",
            "_view_name": "LayoutView",
            "align_content": null,
            "align_items": null,
            "align_self": null,
            "border": null,
            "bottom": null,
            "display": null,
            "flex": null,
            "flex_flow": null,
            "grid_area": null,
            "grid_auto_columns": null,
            "grid_auto_flow": null,
            "grid_auto_rows": null,
            "grid_column": null,
            "grid_gap": null,
            "grid_row": null,
            "grid_template_areas": null,
            "grid_template_columns": null,
            "grid_template_rows": null,
            "height": null,
            "justify_content": null,
            "justify_items": null,
            "left": null,
            "margin": null,
            "max_height": null,
            "max_width": null,
            "min_height": null,
            "min_width": null,
            "object_fit": null,
            "object_position": null,
            "order": null,
            "overflow": null,
            "overflow_x": null,
            "overflow_y": null,
            "padding": null,
            "right": null,
            "top": null,
            "visibility": null,
            "width": null
          }
        },
        "d5aaf4e08157479eaf34f34f13d62114": {
          "model_module": "@jupyter-widgets/controls",
          "model_name": "DescriptionStyleModel",
          "model_module_version": "1.5.0",
          "state": {
            "_model_module": "@jupyter-widgets/controls",
            "_model_module_version": "1.5.0",
            "_model_name": "DescriptionStyleModel",
            "_view_count": null,
            "_view_module": "@jupyter-widgets/base",
            "_view_module_version": "1.2.0",
            "_view_name": "StyleView",
            "description_width": ""
          }
        },
        "2fc3a7ad10c949cbb94f93ed8f4a7f47": {
          "model_module": "@jupyter-widgets/base",
          "model_name": "LayoutModel",
          "model_module_version": "1.2.0",
          "state": {
            "_model_module": "@jupyter-widgets/base",
            "_model_module_version": "1.2.0",
            "_model_name": "LayoutModel",
            "_view_count": null,
            "_view_module": "@jupyter-widgets/base",
            "_view_module_version": "1.2.0",
            "_view_name": "LayoutView",
            "align_content": null,
            "align_items": null,
            "align_self": null,
            "border": null,
            "bottom": null,
            "display": null,
            "flex": null,
            "flex_flow": null,
            "grid_area": null,
            "grid_auto_columns": null,
            "grid_auto_flow": null,
            "grid_auto_rows": null,
            "grid_column": null,
            "grid_gap": null,
            "grid_row": null,
            "grid_template_areas": null,
            "grid_template_columns": null,
            "grid_template_rows": null,
            "height": null,
            "justify_content": null,
            "justify_items": null,
            "left": null,
            "margin": null,
            "max_height": null,
            "max_width": null,
            "min_height": null,
            "min_width": null,
            "object_fit": null,
            "object_position": null,
            "order": null,
            "overflow": null,
            "overflow_x": null,
            "overflow_y": null,
            "padding": null,
            "right": null,
            "top": null,
            "visibility": null,
            "width": null
          }
        },
        "938d6db4cb774ed5b7d0848877185a15": {
          "model_module": "@jupyter-widgets/controls",
          "model_name": "ProgressStyleModel",
          "model_module_version": "1.5.0",
          "state": {
            "_model_module": "@jupyter-widgets/controls",
            "_model_module_version": "1.5.0",
            "_model_name": "ProgressStyleModel",
            "_view_count": null,
            "_view_module": "@jupyter-widgets/base",
            "_view_module_version": "1.2.0",
            "_view_name": "StyleView",
            "bar_color": null,
            "description_width": ""
          }
        },
        "bf54b50ae517482f88702638221bb040": {
          "model_module": "@jupyter-widgets/base",
          "model_name": "LayoutModel",
          "model_module_version": "1.2.0",
          "state": {
            "_model_module": "@jupyter-widgets/base",
            "_model_module_version": "1.2.0",
            "_model_name": "LayoutModel",
            "_view_count": null,
            "_view_module": "@jupyter-widgets/base",
            "_view_module_version": "1.2.0",
            "_view_name": "LayoutView",
            "align_content": null,
            "align_items": null,
            "align_self": null,
            "border": null,
            "bottom": null,
            "display": null,
            "flex": null,
            "flex_flow": null,
            "grid_area": null,
            "grid_auto_columns": null,
            "grid_auto_flow": null,
            "grid_auto_rows": null,
            "grid_column": null,
            "grid_gap": null,
            "grid_row": null,
            "grid_template_areas": null,
            "grid_template_columns": null,
            "grid_template_rows": null,
            "height": null,
            "justify_content": null,
            "justify_items": null,
            "left": null,
            "margin": null,
            "max_height": null,
            "max_width": null,
            "min_height": null,
            "min_width": null,
            "object_fit": null,
            "object_position": null,
            "order": null,
            "overflow": null,
            "overflow_x": null,
            "overflow_y": null,
            "padding": null,
            "right": null,
            "top": null,
            "visibility": null,
            "width": null
          }
        },
        "67e4815d202341e08e2bc93420c2dd5d": {
          "model_module": "@jupyter-widgets/controls",
          "model_name": "DescriptionStyleModel",
          "model_module_version": "1.5.0",
          "state": {
            "_model_module": "@jupyter-widgets/controls",
            "_model_module_version": "1.5.0",
            "_model_name": "DescriptionStyleModel",
            "_view_count": null,
            "_view_module": "@jupyter-widgets/base",
            "_view_module_version": "1.2.0",
            "_view_name": "StyleView",
            "description_width": ""
          }
        },
        "136d73c092504270a2cc3dc79eef7cd6": {
          "model_module": "@jupyter-widgets/controls",
          "model_name": "HBoxModel",
          "model_module_version": "1.5.0",
          "state": {
            "_dom_classes": [],
            "_model_module": "@jupyter-widgets/controls",
            "_model_module_version": "1.5.0",
            "_model_name": "HBoxModel",
            "_view_count": null,
            "_view_module": "@jupyter-widgets/controls",
            "_view_module_version": "1.5.0",
            "_view_name": "HBoxView",
            "box_style": "",
            "children": [
              "IPY_MODEL_ab3c94da2c854228907860f0d7b13d20",
              "IPY_MODEL_a798d9974f7d4f1eac30dc956efaa6b7",
              "IPY_MODEL_4f291d87438740d5a63e8543219710e9"
            ],
            "layout": "IPY_MODEL_e95d28d4e4264c578456d11215090ffb"
          }
        },
        "ab3c94da2c854228907860f0d7b13d20": {
          "model_module": "@jupyter-widgets/controls",
          "model_name": "HTMLModel",
          "model_module_version": "1.5.0",
          "state": {
            "_dom_classes": [],
            "_model_module": "@jupyter-widgets/controls",
            "_model_module_version": "1.5.0",
            "_model_name": "HTMLModel",
            "_view_count": null,
            "_view_module": "@jupyter-widgets/controls",
            "_view_module_version": "1.5.0",
            "_view_name": "HTMLView",
            "description": "",
            "description_tooltip": null,
            "layout": "IPY_MODEL_ba1f2958c32b400aa29ebfb7cd96382f",
            "placeholder": "​",
            "style": "IPY_MODEL_a6aed26f625544dc8331f52bbceed8e6",
            "value": "Batches: 100%"
          }
        },
        "a798d9974f7d4f1eac30dc956efaa6b7": {
          "model_module": "@jupyter-widgets/controls",
          "model_name": "FloatProgressModel",
          "model_module_version": "1.5.0",
          "state": {
            "_dom_classes": [],
            "_model_module": "@jupyter-widgets/controls",
            "_model_module_version": "1.5.0",
            "_model_name": "FloatProgressModel",
            "_view_count": null,
            "_view_module": "@jupyter-widgets/controls",
            "_view_module_version": "1.5.0",
            "_view_name": "ProgressView",
            "bar_style": "success",
            "description": "",
            "description_tooltip": null,
            "layout": "IPY_MODEL_c2f3b8b278514892a3a698fdbcab3e7e",
            "max": 25,
            "min": 0,
            "orientation": "horizontal",
            "style": "IPY_MODEL_1bc84d50787f4f3ea1e40583a219e001",
            "value": 25
          }
        },
        "4f291d87438740d5a63e8543219710e9": {
          "model_module": "@jupyter-widgets/controls",
          "model_name": "HTMLModel",
          "model_module_version": "1.5.0",
          "state": {
            "_dom_classes": [],
            "_model_module": "@jupyter-widgets/controls",
            "_model_module_version": "1.5.0",
            "_model_name": "HTMLModel",
            "_view_count": null,
            "_view_module": "@jupyter-widgets/controls",
            "_view_module_version": "1.5.0",
            "_view_name": "HTMLView",
            "description": "",
            "description_tooltip": null,
            "layout": "IPY_MODEL_77738c114350492daee43c5b0e93bfa4",
            "placeholder": "​",
            "style": "IPY_MODEL_9711ef76a05448e8bff5d6fc08cefa04",
            "value": " 25/25 [00:53&lt;00:00,  1.81s/it]"
          }
        },
        "e95d28d4e4264c578456d11215090ffb": {
          "model_module": "@jupyter-widgets/base",
          "model_name": "LayoutModel",
          "model_module_version": "1.2.0",
          "state": {
            "_model_module": "@jupyter-widgets/base",
            "_model_module_version": "1.2.0",
            "_model_name": "LayoutModel",
            "_view_count": null,
            "_view_module": "@jupyter-widgets/base",
            "_view_module_version": "1.2.0",
            "_view_name": "LayoutView",
            "align_content": null,
            "align_items": null,
            "align_self": null,
            "border": null,
            "bottom": null,
            "display": null,
            "flex": null,
            "flex_flow": null,
            "grid_area": null,
            "grid_auto_columns": null,
            "grid_auto_flow": null,
            "grid_auto_rows": null,
            "grid_column": null,
            "grid_gap": null,
            "grid_row": null,
            "grid_template_areas": null,
            "grid_template_columns": null,
            "grid_template_rows": null,
            "height": null,
            "justify_content": null,
            "justify_items": null,
            "left": null,
            "margin": null,
            "max_height": null,
            "max_width": null,
            "min_height": null,
            "min_width": null,
            "object_fit": null,
            "object_position": null,
            "order": null,
            "overflow": null,
            "overflow_x": null,
            "overflow_y": null,
            "padding": null,
            "right": null,
            "top": null,
            "visibility": null,
            "width": null
          }
        },
        "ba1f2958c32b400aa29ebfb7cd96382f": {
          "model_module": "@jupyter-widgets/base",
          "model_name": "LayoutModel",
          "model_module_version": "1.2.0",
          "state": {
            "_model_module": "@jupyter-widgets/base",
            "_model_module_version": "1.2.0",
            "_model_name": "LayoutModel",
            "_view_count": null,
            "_view_module": "@jupyter-widgets/base",
            "_view_module_version": "1.2.0",
            "_view_name": "LayoutView",
            "align_content": null,
            "align_items": null,
            "align_self": null,
            "border": null,
            "bottom": null,
            "display": null,
            "flex": null,
            "flex_flow": null,
            "grid_area": null,
            "grid_auto_columns": null,
            "grid_auto_flow": null,
            "grid_auto_rows": null,
            "grid_column": null,
            "grid_gap": null,
            "grid_row": null,
            "grid_template_areas": null,
            "grid_template_columns": null,
            "grid_template_rows": null,
            "height": null,
            "justify_content": null,
            "justify_items": null,
            "left": null,
            "margin": null,
            "max_height": null,
            "max_width": null,
            "min_height": null,
            "min_width": null,
            "object_fit": null,
            "object_position": null,
            "order": null,
            "overflow": null,
            "overflow_x": null,
            "overflow_y": null,
            "padding": null,
            "right": null,
            "top": null,
            "visibility": null,
            "width": null
          }
        },
        "a6aed26f625544dc8331f52bbceed8e6": {
          "model_module": "@jupyter-widgets/controls",
          "model_name": "DescriptionStyleModel",
          "model_module_version": "1.5.0",
          "state": {
            "_model_module": "@jupyter-widgets/controls",
            "_model_module_version": "1.5.0",
            "_model_name": "DescriptionStyleModel",
            "_view_count": null,
            "_view_module": "@jupyter-widgets/base",
            "_view_module_version": "1.2.0",
            "_view_name": "StyleView",
            "description_width": ""
          }
        },
        "c2f3b8b278514892a3a698fdbcab3e7e": {
          "model_module": "@jupyter-widgets/base",
          "model_name": "LayoutModel",
          "model_module_version": "1.2.0",
          "state": {
            "_model_module": "@jupyter-widgets/base",
            "_model_module_version": "1.2.0",
            "_model_name": "LayoutModel",
            "_view_count": null,
            "_view_module": "@jupyter-widgets/base",
            "_view_module_version": "1.2.0",
            "_view_name": "LayoutView",
            "align_content": null,
            "align_items": null,
            "align_self": null,
            "border": null,
            "bottom": null,
            "display": null,
            "flex": null,
            "flex_flow": null,
            "grid_area": null,
            "grid_auto_columns": null,
            "grid_auto_flow": null,
            "grid_auto_rows": null,
            "grid_column": null,
            "grid_gap": null,
            "grid_row": null,
            "grid_template_areas": null,
            "grid_template_columns": null,
            "grid_template_rows": null,
            "height": null,
            "justify_content": null,
            "justify_items": null,
            "left": null,
            "margin": null,
            "max_height": null,
            "max_width": null,
            "min_height": null,
            "min_width": null,
            "object_fit": null,
            "object_position": null,
            "order": null,
            "overflow": null,
            "overflow_x": null,
            "overflow_y": null,
            "padding": null,
            "right": null,
            "top": null,
            "visibility": null,
            "width": null
          }
        },
        "1bc84d50787f4f3ea1e40583a219e001": {
          "model_module": "@jupyter-widgets/controls",
          "model_name": "ProgressStyleModel",
          "model_module_version": "1.5.0",
          "state": {
            "_model_module": "@jupyter-widgets/controls",
            "_model_module_version": "1.5.0",
            "_model_name": "ProgressStyleModel",
            "_view_count": null,
            "_view_module": "@jupyter-widgets/base",
            "_view_module_version": "1.2.0",
            "_view_name": "StyleView",
            "bar_color": null,
            "description_width": ""
          }
        },
        "77738c114350492daee43c5b0e93bfa4": {
          "model_module": "@jupyter-widgets/base",
          "model_name": "LayoutModel",
          "model_module_version": "1.2.0",
          "state": {
            "_model_module": "@jupyter-widgets/base",
            "_model_module_version": "1.2.0",
            "_model_name": "LayoutModel",
            "_view_count": null,
            "_view_module": "@jupyter-widgets/base",
            "_view_module_version": "1.2.0",
            "_view_name": "LayoutView",
            "align_content": null,
            "align_items": null,
            "align_self": null,
            "border": null,
            "bottom": null,
            "display": null,
            "flex": null,
            "flex_flow": null,
            "grid_area": null,
            "grid_auto_columns": null,
            "grid_auto_flow": null,
            "grid_auto_rows": null,
            "grid_column": null,
            "grid_gap": null,
            "grid_row": null,
            "grid_template_areas": null,
            "grid_template_columns": null,
            "grid_template_rows": null,
            "height": null,
            "justify_content": null,
            "justify_items": null,
            "left": null,
            "margin": null,
            "max_height": null,
            "max_width": null,
            "min_height": null,
            "min_width": null,
            "object_fit": null,
            "object_position": null,
            "order": null,
            "overflow": null,
            "overflow_x": null,
            "overflow_y": null,
            "padding": null,
            "right": null,
            "top": null,
            "visibility": null,
            "width": null
          }
        },
        "9711ef76a05448e8bff5d6fc08cefa04": {
          "model_module": "@jupyter-widgets/controls",
          "model_name": "DescriptionStyleModel",
          "model_module_version": "1.5.0",
          "state": {
            "_model_module": "@jupyter-widgets/controls",
            "_model_module_version": "1.5.0",
            "_model_name": "DescriptionStyleModel",
            "_view_count": null,
            "_view_module": "@jupyter-widgets/base",
            "_view_module_version": "1.2.0",
            "_view_name": "StyleView",
            "description_width": ""
          }
        }
      }
    }
  },
  "nbformat": 4,
  "nbformat_minor": 0
}